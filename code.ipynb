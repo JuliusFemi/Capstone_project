{
 "cells": [
  {
   "cell_type": "markdown",
   "id": "852dd296-08fd-4a73-b621-dd6cc850c4a0",
   "metadata": {},
   "source": [
    "#### Problem Statement\n",
    "\n",
    "Banks invest significant resources into outbound marketing campaigns, like calling customers to offer term deposit products. However, these campaigns can be inefficient, contacting many customers who are not interested, leading to:\n",
    "\n",
    "- High operational costs\n",
    "\n",
    "- Low conversion rates\n",
    "\n",
    "- Customer fatigue and churn risk\n",
    "\n",
    "1. This project seeks to optimize marketing effectiveness by:\n",
    "\n",
    "2. Segmenting customers based on their financial and demographic behavior\n",
    "\n",
    "3. Predicting which customers are most likely to subscribe to a term deposit\n",
    "\n",
    "4. Designing a targeting strategy that reduces wasted outreach while maximizing ROI\n",
    "\n",
    "\n",
    "**Stakeholders**\n",
    "\n",
    "|Stakeholder              | What they care About\n",
    "|-------------------------|------------------------\n",
    "|Marketing Team           |Improve campaign efficiency and ROI; avoid over-contacting customers|\n",
    "Data Science Team         |Build interpretable, reliable models with business impact\n",
    "Compliance/Legal          |Ensure targeting practices are fair, non-discriminatory\n",
    "Sales / Call Center       |Focus effort on the right customers; increase success rates\n",
    "Senior Management         |Strategic insights on customer behavior and product interest\n",
    "\n",
    "\n",
    "\n",
    "\n",
    "Reference\n",
    "\n",
    "https://loyaltylion.com/blog/customer-retention-rate"
   ]
  },
  {
   "cell_type": "markdown",
   "id": "70436dfd-e87d-4c7a-905c-309c92c31660",
   "metadata": {},
   "source": [
    "#### Imports\n",
    "\n",
    "Import the required libraries"
   ]
  },
  {
   "cell_type": "code",
   "execution_count": 108,
   "id": "fe5d875b-2054-4aca-affe-a1419ce6fd2c",
   "metadata": {},
   "outputs": [],
   "source": [
    "import pandas as pd\n",
    "import zipfile\n",
    "import urllib.request\n",
    "import io\n",
    "import os\n",
    "from google.cloud import bigquery\n",
    "\n",
    "import numpy as np\n",
    "import matplotlib.pyplot as plt\n",
    "import seaborn as sns\n"
   ]
  },
  {
   "cell_type": "markdown",
   "id": "e658a85d-5fa9-40c8-b744-69de9a99522b",
   "metadata": {},
   "source": [
    "### Loading dataset\n",
    "\n",
    "Dataset is from Google [Big Query](https://console.cloud.google.com/bigquery?ws=!1m4!1m3!3m2!1sbigquery-public-data!2sthelook_ecommerce).\n",
    "A function was writen to obtain the tables in the dataset. The ecommerce data has `7` tables namely:  \"distribution_centers\", \"events\", \"inventory_items\", \"order_items\", \"orders\", \"products\", \"users\"."
   ]
  },
  {
   "cell_type": "code",
   "execution_count": 109,
   "id": "b32ed7e6-be57-40b6-9d72-5fa1ba294aca",
   "metadata": {},
   "outputs": [],
   "source": [
    "\n",
    "client = bigquery.Client(project=\"testing-469722\")\n",
    "\n",
    "def load_thelook_tables(dataset_id=\"bigquery-public-data.thelook_ecommerce\", table_names=None):\n",
    "    \"\"\"\n",
    "    Load multiple tables from thelook_ecommerce dataset into separate DataFrames.\n",
    "\n",
    "    Parameters:\n",
    "        dataset_id (str): Full BigQuery dataset path\n",
    "        table_names (list): List of table names to load\n",
    "\n",
    "    Returns:\n",
    "        dict: Dictionary of {table_name: DataFrame}\n",
    "    \"\"\"\n",
    "    if table_names is None:\n",
    "        table_names = [\n",
    "            \"distribution_centers\",\n",
    "            \"events\",\n",
    "            \"inventory_items\",\n",
    "            \"order_items\",\n",
    "            \"orders\",\n",
    "            \"products\",\n",
    "            \"users\"\n",
    "        ]\n",
    "\n",
    "    dataframes = {}\n",
    "\n",
    "    for table in table_names:\n",
    "        query = f\"SELECT * FROM `{dataset_id}.{table}`\"\n",
    "        df = client.query(query).to_dataframe()\n",
    "        dataframes[table] = df\n",
    "        print(f\"Loaded {table}: {df.shape[0]} rows\")\n",
    "\n",
    "    return dataframes"
   ]
  },
  {
   "cell_type": "markdown",
   "id": "5eb621a9-1433-49c3-bc4f-ea0a66ae1f50",
   "metadata": {},
   "source": [
    "### Load the dataset\n",
    "\n",
    "The dataset are pulled from Big query.\n"
   ]
  },
  {
   "cell_type": "code",
   "execution_count": 110,
   "id": "4932c82f-15f1-4bc0-ae8f-d288ad899fe8",
   "metadata": {},
   "outputs": [
    {
     "name": "stderr",
     "output_type": "stream",
     "text": [
      "C:\\Users\\DELL XPS\\virtual\\dsb_602\\Lib\\site-packages\\google\\cloud\\bigquery\\table.py:1994: UserWarning: BigQuery Storage module not found, fetch data with the REST endpoint instead.\n",
      "  warnings.warn(\n"
     ]
    },
    {
     "name": "stdout",
     "output_type": "stream",
     "text": [
      "Loaded distribution_centers: 10 rows\n",
      "Loaded events: 2427838 rows\n",
      "Loaded inventory_items: 490928 rows\n",
      "Loaded order_items: 181691 rows\n",
      "Loaded orders: 125155 rows\n",
      "Loaded products: 29120 rows\n",
      "Loaded users: 100000 rows\n"
     ]
    }
   ],
   "source": [
    "thelook_dfs = load_thelook_tables()"
   ]
  },
  {
   "cell_type": "markdown",
   "id": "47301b48-015f-4f84-904d-150c6e857da0",
   "metadata": {},
   "source": [
    "### Accessing the tables\n"
   ]
  },
  {
   "cell_type": "code",
   "execution_count": 111,
   "id": "0d75e082-00b8-4496-bed0-8487ddf661c9",
   "metadata": {},
   "outputs": [
    {
     "data": {
      "text/html": [
       "<div>\n",
       "<style scoped>\n",
       "    .dataframe tbody tr th:only-of-type {\n",
       "        vertical-align: middle;\n",
       "    }\n",
       "\n",
       "    .dataframe tbody tr th {\n",
       "        vertical-align: top;\n",
       "    }\n",
       "\n",
       "    .dataframe thead th {\n",
       "        text-align: right;\n",
       "    }\n",
       "</style>\n",
       "<table border=\"1\" class=\"dataframe\">\n",
       "  <thead>\n",
       "    <tr style=\"text-align: right;\">\n",
       "      <th></th>\n",
       "      <th>order_id</th>\n",
       "      <th>user_id</th>\n",
       "      <th>status</th>\n",
       "      <th>gender</th>\n",
       "      <th>created_at</th>\n",
       "      <th>returned_at</th>\n",
       "      <th>shipped_at</th>\n",
       "      <th>delivered_at</th>\n",
       "      <th>num_of_item</th>\n",
       "    </tr>\n",
       "  </thead>\n",
       "  <tbody>\n",
       "    <tr>\n",
       "      <th>0</th>\n",
       "      <td>22</td>\n",
       "      <td>15</td>\n",
       "      <td>Cancelled</td>\n",
       "      <td>F</td>\n",
       "      <td>2023-04-17 05:26:00+00:00</td>\n",
       "      <td>NaT</td>\n",
       "      <td>NaT</td>\n",
       "      <td>NaT</td>\n",
       "      <td>2</td>\n",
       "    </tr>\n",
       "    <tr>\n",
       "      <th>1</th>\n",
       "      <td>24</td>\n",
       "      <td>17</td>\n",
       "      <td>Cancelled</td>\n",
       "      <td>F</td>\n",
       "      <td>2025-04-24 04:35:00+00:00</td>\n",
       "      <td>NaT</td>\n",
       "      <td>NaT</td>\n",
       "      <td>NaT</td>\n",
       "      <td>1</td>\n",
       "    </tr>\n",
       "    <tr>\n",
       "      <th>2</th>\n",
       "      <td>40</td>\n",
       "      <td>29</td>\n",
       "      <td>Cancelled</td>\n",
       "      <td>F</td>\n",
       "      <td>2025-02-13 11:57:00+00:00</td>\n",
       "      <td>NaT</td>\n",
       "      <td>NaT</td>\n",
       "      <td>NaT</td>\n",
       "      <td>2</td>\n",
       "    </tr>\n",
       "    <tr>\n",
       "      <th>3</th>\n",
       "      <td>58</td>\n",
       "      <td>40</td>\n",
       "      <td>Cancelled</td>\n",
       "      <td>F</td>\n",
       "      <td>2024-01-03 02:22:00+00:00</td>\n",
       "      <td>NaT</td>\n",
       "      <td>NaT</td>\n",
       "      <td>NaT</td>\n",
       "      <td>4</td>\n",
       "    </tr>\n",
       "  </tbody>\n",
       "</table>\n",
       "</div>"
      ],
      "text/plain": [
       "   order_id  user_id     status gender                created_at returned_at  \\\n",
       "0        22       15  Cancelled      F 2023-04-17 05:26:00+00:00         NaT   \n",
       "1        24       17  Cancelled      F 2025-04-24 04:35:00+00:00         NaT   \n",
       "2        40       29  Cancelled      F 2025-02-13 11:57:00+00:00         NaT   \n",
       "3        58       40  Cancelled      F 2024-01-03 02:22:00+00:00         NaT   \n",
       "\n",
       "  shipped_at delivered_at  num_of_item  \n",
       "0        NaT          NaT            2  \n",
       "1        NaT          NaT            1  \n",
       "2        NaT          NaT            2  \n",
       "3        NaT          NaT            4  "
      ]
     },
     "execution_count": 111,
     "metadata": {},
     "output_type": "execute_result"
    }
   ],
   "source": [
    "# order table\n",
    "\n",
    "orders_df = thelook_dfs['orders']\n",
    "orders_df.head(4)"
   ]
  },
  {
   "cell_type": "markdown",
   "id": "e41dbb98-fd24-4290-a952-ee7aa6707f66",
   "metadata": {},
   "source": [
    "**orders_df table dictionary**\n",
    "\n",
    "| Column Name    | Description                                                           |\n",
    "| -------------- | --------------------------------------------------------------------- |\n",
    "| `order_id`     | Unique identifier for each order                                      |\n",
    "| `user_id`      | Foreign key that links to the customer (`users.id`)                   |\n",
    "| `status`       | Status of the order (e.g., `Complete`, `Returned`, `Cancelled`)       |\n",
    "| `gender`       | Gender of the customer (from the `users` table, if joined)            |\n",
    "| `created_at`   | Timestamp when the order was placed                                   |\n",
    "| `returned_at`  | Timestamp when the item was returned (null if not returned)           |\n",
    "| `shipped_at`   | Timestamp when the item was shipped                                   |\n",
    "| `delivered_at` | Timestamp when the item was delivered to the customer                 |\n",
    "| `num_of_item`  | Number of individual items in that order (usually from `order_items`) |\n"
   ]
  },
  {
   "cell_type": "code",
   "execution_count": 112,
   "id": "55a23b92-8912-4d6f-a5aa-039f34dbc606",
   "metadata": {},
   "outputs": [
    {
     "data": {
      "text/html": [
       "<div>\n",
       "<style scoped>\n",
       "    .dataframe tbody tr th:only-of-type {\n",
       "        vertical-align: middle;\n",
       "    }\n",
       "\n",
       "    .dataframe tbody tr th {\n",
       "        vertical-align: top;\n",
       "    }\n",
       "\n",
       "    .dataframe thead th {\n",
       "        text-align: right;\n",
       "    }\n",
       "</style>\n",
       "<table border=\"1\" class=\"dataframe\">\n",
       "  <thead>\n",
       "    <tr style=\"text-align: right;\">\n",
       "      <th></th>\n",
       "      <th>id</th>\n",
       "      <th>name</th>\n",
       "      <th>latitude</th>\n",
       "      <th>longitude</th>\n",
       "      <th>distribution_center_geom</th>\n",
       "    </tr>\n",
       "  </thead>\n",
       "  <tbody>\n",
       "    <tr>\n",
       "      <th>0</th>\n",
       "      <td>5</td>\n",
       "      <td>New Orleans LA</td>\n",
       "      <td>29.9500</td>\n",
       "      <td>-90.0667</td>\n",
       "      <td>POINT(-90.0667 29.95)</td>\n",
       "    </tr>\n",
       "    <tr>\n",
       "      <th>1</th>\n",
       "      <td>3</td>\n",
       "      <td>Houston TX</td>\n",
       "      <td>29.7604</td>\n",
       "      <td>-95.3698</td>\n",
       "      <td>POINT(-95.3698 29.7604)</td>\n",
       "    </tr>\n",
       "    <tr>\n",
       "      <th>2</th>\n",
       "      <td>7</td>\n",
       "      <td>Philadelphia PA</td>\n",
       "      <td>39.9500</td>\n",
       "      <td>-75.1667</td>\n",
       "      <td>POINT(-75.1667 39.95)</td>\n",
       "    </tr>\n",
       "    <tr>\n",
       "      <th>3</th>\n",
       "      <td>10</td>\n",
       "      <td>Savannah GA</td>\n",
       "      <td>32.0167</td>\n",
       "      <td>-81.1167</td>\n",
       "      <td>POINT(-81.1167 32.0167)</td>\n",
       "    </tr>\n",
       "    <tr>\n",
       "      <th>4</th>\n",
       "      <td>4</td>\n",
       "      <td>Los Angeles CA</td>\n",
       "      <td>34.0500</td>\n",
       "      <td>-118.2500</td>\n",
       "      <td>POINT(-118.25 34.05)</td>\n",
       "    </tr>\n",
       "  </tbody>\n",
       "</table>\n",
       "</div>"
      ],
      "text/plain": [
       "   id             name  latitude  longitude distribution_center_geom\n",
       "0   5   New Orleans LA   29.9500   -90.0667    POINT(-90.0667 29.95)\n",
       "1   3       Houston TX   29.7604   -95.3698  POINT(-95.3698 29.7604)\n",
       "2   7  Philadelphia PA   39.9500   -75.1667    POINT(-75.1667 39.95)\n",
       "3  10      Savannah GA   32.0167   -81.1167  POINT(-81.1167 32.0167)\n",
       "4   4   Los Angeles CA   34.0500  -118.2500     POINT(-118.25 34.05)"
      ]
     },
     "execution_count": 112,
     "metadata": {},
     "output_type": "execute_result"
    }
   ],
   "source": [
    "# distribution_centers\n",
    "\n",
    "distribution_df = thelook_dfs['distribution_centers']\n",
    "distribution_df.head(5)"
   ]
  },
  {
   "cell_type": "markdown",
   "id": "5bb64404-933d-4ac4-9965-bc804a6788da",
   "metadata": {},
   "source": [
    "**distribution_df dictionary**\n",
    "\n",
    "| Column Name                | Description                                                                 |\n",
    "| -------------------------- | --------------------------------------------------------------------------- |\n",
    "| `id`                       | Unique identifier for each distribution center                              |\n",
    "| `name`                     | City and state abbreviation of the distribution center location             |\n",
    "| `latitude`                 | Latitude coordinate of the distribution center (for mapping or distance)    |\n",
    "| `longitude`                | Longitude coordinate of the distribution center                             |\n",
    "| `distribution_center_geom` | Geometry field representing the center as a geographic point (GeoJSON-like) |\n"
   ]
  },
  {
   "cell_type": "code",
   "execution_count": 113,
   "id": "8cf4423d-830f-4b64-a738-a7bc78bcd020",
   "metadata": {},
   "outputs": [
    {
     "data": {
      "text/html": [
       "<div>\n",
       "<style scoped>\n",
       "    .dataframe tbody tr th:only-of-type {\n",
       "        vertical-align: middle;\n",
       "    }\n",
       "\n",
       "    .dataframe tbody tr th {\n",
       "        vertical-align: top;\n",
       "    }\n",
       "\n",
       "    .dataframe thead th {\n",
       "        text-align: right;\n",
       "    }\n",
       "</style>\n",
       "<table border=\"1\" class=\"dataframe\">\n",
       "  <thead>\n",
       "    <tr style=\"text-align: right;\">\n",
       "      <th></th>\n",
       "      <th>id</th>\n",
       "      <th>user_id</th>\n",
       "      <th>sequence_number</th>\n",
       "      <th>session_id</th>\n",
       "      <th>created_at</th>\n",
       "      <th>ip_address</th>\n",
       "      <th>city</th>\n",
       "      <th>state</th>\n",
       "      <th>postal_code</th>\n",
       "      <th>browser</th>\n",
       "      <th>traffic_source</th>\n",
       "      <th>uri</th>\n",
       "      <th>event_type</th>\n",
       "    </tr>\n",
       "  </thead>\n",
       "  <tbody>\n",
       "    <tr>\n",
       "      <th>0</th>\n",
       "      <td>2157132</td>\n",
       "      <td>&lt;NA&gt;</td>\n",
       "      <td>3</td>\n",
       "      <td>297ae8a9-ecb4-4a68-b9d7-73f3dc79492a</td>\n",
       "      <td>2021-09-11 06:21:00+00:00</td>\n",
       "      <td>19.100.80.232</td>\n",
       "      <td>São Paulo</td>\n",
       "      <td>São Paulo</td>\n",
       "      <td>02675-031</td>\n",
       "      <td>Other</td>\n",
       "      <td>Adwords</td>\n",
       "      <td>/cancel</td>\n",
       "      <td>cancel</td>\n",
       "    </tr>\n",
       "    <tr>\n",
       "      <th>1</th>\n",
       "      <td>2217509</td>\n",
       "      <td>&lt;NA&gt;</td>\n",
       "      <td>3</td>\n",
       "      <td>2f865650-7c95-40b0-ad78-d82ddcd0bfcd</td>\n",
       "      <td>2021-02-02 10:19:00+00:00</td>\n",
       "      <td>3.241.207.5</td>\n",
       "      <td>São Paulo</td>\n",
       "      <td>São Paulo</td>\n",
       "      <td>02675-031</td>\n",
       "      <td>Chrome</td>\n",
       "      <td>Adwords</td>\n",
       "      <td>/cancel</td>\n",
       "      <td>cancel</td>\n",
       "    </tr>\n",
       "    <tr>\n",
       "      <th>2</th>\n",
       "      <td>2152325</td>\n",
       "      <td>&lt;NA&gt;</td>\n",
       "      <td>3</td>\n",
       "      <td>9a010559-b9ad-4e70-ae35-190e74a98efc</td>\n",
       "      <td>2024-11-19 08:24:00+00:00</td>\n",
       "      <td>59.5.95.105</td>\n",
       "      <td>São Paulo</td>\n",
       "      <td>São Paulo</td>\n",
       "      <td>02675-031</td>\n",
       "      <td>Chrome</td>\n",
       "      <td>Adwords</td>\n",
       "      <td>/cancel</td>\n",
       "      <td>cancel</td>\n",
       "    </tr>\n",
       "    <tr>\n",
       "      <th>3</th>\n",
       "      <td>2321203</td>\n",
       "      <td>&lt;NA&gt;</td>\n",
       "      <td>3</td>\n",
       "      <td>593fb054-1169-4b78-a3ba-97cc5feb4541</td>\n",
       "      <td>2023-03-31 18:40:00+00:00</td>\n",
       "      <td>182.175.181.227</td>\n",
       "      <td>Sapporo</td>\n",
       "      <td>Hokkaido</td>\n",
       "      <td>063-0049</td>\n",
       "      <td>Chrome</td>\n",
       "      <td>Adwords</td>\n",
       "      <td>/cancel</td>\n",
       "      <td>cancel</td>\n",
       "    </tr>\n",
       "    <tr>\n",
       "      <th>4</th>\n",
       "      <td>2303823</td>\n",
       "      <td>&lt;NA&gt;</td>\n",
       "      <td>3</td>\n",
       "      <td>dd87ebc5-957c-497a-b526-c5276e16b945</td>\n",
       "      <td>2025-04-07 02:13:00+00:00</td>\n",
       "      <td>213.65.75.92</td>\n",
       "      <td>Mairiporã</td>\n",
       "      <td>São Paulo</td>\n",
       "      <td>07600-000</td>\n",
       "      <td>Firefox</td>\n",
       "      <td>Adwords</td>\n",
       "      <td>/cancel</td>\n",
       "      <td>cancel</td>\n",
       "    </tr>\n",
       "  </tbody>\n",
       "</table>\n",
       "</div>"
      ],
      "text/plain": [
       "        id  user_id  sequence_number                            session_id  \\\n",
       "0  2157132     <NA>                3  297ae8a9-ecb4-4a68-b9d7-73f3dc79492a   \n",
       "1  2217509     <NA>                3  2f865650-7c95-40b0-ad78-d82ddcd0bfcd   \n",
       "2  2152325     <NA>                3  9a010559-b9ad-4e70-ae35-190e74a98efc   \n",
       "3  2321203     <NA>                3  593fb054-1169-4b78-a3ba-97cc5feb4541   \n",
       "4  2303823     <NA>                3  dd87ebc5-957c-497a-b526-c5276e16b945   \n",
       "\n",
       "                 created_at       ip_address       city      state  \\\n",
       "0 2021-09-11 06:21:00+00:00    19.100.80.232  São Paulo  São Paulo   \n",
       "1 2021-02-02 10:19:00+00:00      3.241.207.5  São Paulo  São Paulo   \n",
       "2 2024-11-19 08:24:00+00:00      59.5.95.105  São Paulo  São Paulo   \n",
       "3 2023-03-31 18:40:00+00:00  182.175.181.227    Sapporo   Hokkaido   \n",
       "4 2025-04-07 02:13:00+00:00     213.65.75.92  Mairiporã  São Paulo   \n",
       "\n",
       "  postal_code  browser traffic_source      uri event_type  \n",
       "0   02675-031    Other        Adwords  /cancel     cancel  \n",
       "1   02675-031   Chrome        Adwords  /cancel     cancel  \n",
       "2   02675-031   Chrome        Adwords  /cancel     cancel  \n",
       "3    063-0049   Chrome        Adwords  /cancel     cancel  \n",
       "4   07600-000  Firefox        Adwords  /cancel     cancel  "
      ]
     },
     "execution_count": 113,
     "metadata": {},
     "output_type": "execute_result"
    }
   ],
   "source": [
    "events_df = thelook_dfs['events']\n",
    "events_df.head(5)"
   ]
  },
  {
   "cell_type": "markdown",
   "id": "d21d620d-942f-46b1-a625-bd2eee8d1919",
   "metadata": {},
   "source": [
    "**events_df dictionary**\n",
    "\n",
    "| Column Name       | Description                                                           |\n",
    "| ----------------- | --------------------------------------------------------------------- |\n",
    "| `id`              | Unique identifier for each event record                               |\n",
    "| `user_id`         | ID of the user associated with the event *(can be missing/anonymous)* |\n",
    "| `sequence_number` | Order of the event within a session (helps track user journey)        |\n",
    "| `session_id`      | Unique ID for the user session (used to group related events)         |\n",
    "| `created_at`      | Timestamp when the event occurred                                     |\n",
    "| `ip_address`      | User’s IP address at the time of the event                            |\n",
    "| `city`            | City of the user (inferred from IP)                                   |\n",
    "| `state`           | State of the user (inferred from IP)                                  |\n",
    "| `postal_code`     | Postal code of the user (inferred from IP)                            |\n",
    "| `browser`         | Browser used by the user (e.g., Chrome, Safari)                       |\n",
    "| `traffic_source`  | Source that led the user to the site (e.g., Organic, Email, Adwords)  |\n",
    "| `uri`             | Specific page or endpoint visited (e.g., `/cancel`)                   |\n",
    "| `event_type`      | Type of user action or event (e.g., `cancel`, `purchase`, `checkout`) |\n"
   ]
  },
  {
   "cell_type": "code",
   "execution_count": 114,
   "id": "7dde1b2c-52bc-442e-9692-fc01abd4d762",
   "metadata": {},
   "outputs": [
    {
     "data": {
      "text/html": [
       "<div>\n",
       "<style scoped>\n",
       "    .dataframe tbody tr th:only-of-type {\n",
       "        vertical-align: middle;\n",
       "    }\n",
       "\n",
       "    .dataframe tbody tr th {\n",
       "        vertical-align: top;\n",
       "    }\n",
       "\n",
       "    .dataframe thead th {\n",
       "        text-align: right;\n",
       "    }\n",
       "</style>\n",
       "<table border=\"1\" class=\"dataframe\">\n",
       "  <thead>\n",
       "    <tr style=\"text-align: right;\">\n",
       "      <th></th>\n",
       "      <th>id</th>\n",
       "      <th>product_id</th>\n",
       "      <th>created_at</th>\n",
       "      <th>sold_at</th>\n",
       "      <th>cost</th>\n",
       "      <th>product_category</th>\n",
       "      <th>product_name</th>\n",
       "      <th>product_brand</th>\n",
       "      <th>product_retail_price</th>\n",
       "      <th>product_department</th>\n",
       "      <th>product_sku</th>\n",
       "      <th>product_distribution_center_id</th>\n",
       "    </tr>\n",
       "  </thead>\n",
       "  <tbody>\n",
       "    <tr>\n",
       "      <th>0</th>\n",
       "      <td>15151</td>\n",
       "      <td>13844</td>\n",
       "      <td>2024-04-18 18:12:12+00:00</td>\n",
       "      <td>2024-05-16 17:15:12+00:00</td>\n",
       "      <td>2.76804</td>\n",
       "      <td>Accessories</td>\n",
       "      <td>(ONE) 1 Satin Headband</td>\n",
       "      <td>Funny Girl Designs</td>\n",
       "      <td>6.99</td>\n",
       "      <td>Women</td>\n",
       "      <td>2A3E953A5E3D81E67945BCE5519F84C8</td>\n",
       "      <td>7</td>\n",
       "    </tr>\n",
       "    <tr>\n",
       "      <th>1</th>\n",
       "      <td>15152</td>\n",
       "      <td>13844</td>\n",
       "      <td>2020-12-16 16:34:00+00:00</td>\n",
       "      <td>NaT</td>\n",
       "      <td>2.76804</td>\n",
       "      <td>Accessories</td>\n",
       "      <td>(ONE) 1 Satin Headband</td>\n",
       "      <td>Funny Girl Designs</td>\n",
       "      <td>6.99</td>\n",
       "      <td>Women</td>\n",
       "      <td>2A3E953A5E3D81E67945BCE5519F84C8</td>\n",
       "      <td>7</td>\n",
       "    </tr>\n",
       "    <tr>\n",
       "      <th>2</th>\n",
       "      <td>15153</td>\n",
       "      <td>13844</td>\n",
       "      <td>2021-12-22 07:54:00+00:00</td>\n",
       "      <td>NaT</td>\n",
       "      <td>2.76804</td>\n",
       "      <td>Accessories</td>\n",
       "      <td>(ONE) 1 Satin Headband</td>\n",
       "      <td>Funny Girl Designs</td>\n",
       "      <td>6.99</td>\n",
       "      <td>Women</td>\n",
       "      <td>2A3E953A5E3D81E67945BCE5519F84C8</td>\n",
       "      <td>7</td>\n",
       "    </tr>\n",
       "    <tr>\n",
       "      <th>3</th>\n",
       "      <td>15154</td>\n",
       "      <td>13844</td>\n",
       "      <td>2023-10-02 01:15:00+00:00</td>\n",
       "      <td>NaT</td>\n",
       "      <td>2.76804</td>\n",
       "      <td>Accessories</td>\n",
       "      <td>(ONE) 1 Satin Headband</td>\n",
       "      <td>Funny Girl Designs</td>\n",
       "      <td>6.99</td>\n",
       "      <td>Women</td>\n",
       "      <td>2A3E953A5E3D81E67945BCE5519F84C8</td>\n",
       "      <td>7</td>\n",
       "    </tr>\n",
       "    <tr>\n",
       "      <th>4</th>\n",
       "      <td>56704</td>\n",
       "      <td>13844</td>\n",
       "      <td>2025-08-11 08:37:22.265669+00:00</td>\n",
       "      <td>2025-09-03 23:02:22.265669+00:00</td>\n",
       "      <td>2.76804</td>\n",
       "      <td>Accessories</td>\n",
       "      <td>(ONE) 1 Satin Headband</td>\n",
       "      <td>Funny Girl Designs</td>\n",
       "      <td>6.99</td>\n",
       "      <td>Women</td>\n",
       "      <td>2A3E953A5E3D81E67945BCE5519F84C8</td>\n",
       "      <td>7</td>\n",
       "    </tr>\n",
       "  </tbody>\n",
       "</table>\n",
       "</div>"
      ],
      "text/plain": [
       "      id  product_id                       created_at  \\\n",
       "0  15151       13844        2024-04-18 18:12:12+00:00   \n",
       "1  15152       13844        2020-12-16 16:34:00+00:00   \n",
       "2  15153       13844        2021-12-22 07:54:00+00:00   \n",
       "3  15154       13844        2023-10-02 01:15:00+00:00   \n",
       "4  56704       13844 2025-08-11 08:37:22.265669+00:00   \n",
       "\n",
       "                           sold_at     cost product_category  \\\n",
       "0        2024-05-16 17:15:12+00:00  2.76804      Accessories   \n",
       "1                              NaT  2.76804      Accessories   \n",
       "2                              NaT  2.76804      Accessories   \n",
       "3                              NaT  2.76804      Accessories   \n",
       "4 2025-09-03 23:02:22.265669+00:00  2.76804      Accessories   \n",
       "\n",
       "             product_name       product_brand  product_retail_price  \\\n",
       "0  (ONE) 1 Satin Headband  Funny Girl Designs                  6.99   \n",
       "1  (ONE) 1 Satin Headband  Funny Girl Designs                  6.99   \n",
       "2  (ONE) 1 Satin Headband  Funny Girl Designs                  6.99   \n",
       "3  (ONE) 1 Satin Headband  Funny Girl Designs                  6.99   \n",
       "4  (ONE) 1 Satin Headband  Funny Girl Designs                  6.99   \n",
       "\n",
       "  product_department                       product_sku  \\\n",
       "0              Women  2A3E953A5E3D81E67945BCE5519F84C8   \n",
       "1              Women  2A3E953A5E3D81E67945BCE5519F84C8   \n",
       "2              Women  2A3E953A5E3D81E67945BCE5519F84C8   \n",
       "3              Women  2A3E953A5E3D81E67945BCE5519F84C8   \n",
       "4              Women  2A3E953A5E3D81E67945BCE5519F84C8   \n",
       "\n",
       "   product_distribution_center_id  \n",
       "0                               7  \n",
       "1                               7  \n",
       "2                               7  \n",
       "3                               7  \n",
       "4                               7  "
      ]
     },
     "execution_count": 114,
     "metadata": {},
     "output_type": "execute_result"
    }
   ],
   "source": [
    "inventoryitems_df = thelook_dfs['inventory_items']\n",
    "inventoryitems_df.head()"
   ]
  },
  {
   "cell_type": "markdown",
   "id": "813295db-46d0-4e81-a71c-ba73b79bac1d",
   "metadata": {},
   "source": [
    "**inventoryitems_df dictionary**\n",
    "\n",
    "| Column Name                      | Description                                                                                                 |\n",
    "| -------------------------------- | ----------------------------------------------------------------------------------------------------------- |\n",
    "| `id`                             | Unique identifier for each inventory record                                                                 |\n",
    "| `product_id`                     | ID of the product listed in the inventory                                                                   |\n",
    "| `created_at`                     | Timestamp when the product was added to inventory                                                           |\n",
    "| `sold_at`                        | Timestamp when the product was sold (null if unsold)                                                        |\n",
    "| `cost`                           | Cost to the business for this unit (wholesale price)                                                        |\n",
    "| `product_category`               | Category label for the product (e.g., *Jumpsuits & Rompers*)                                                |\n",
    "| `product_name`                   | Full name or title of the product                                                                           |\n",
    "| `product_brand`                  | Brand/manufacturer of the product                                                                           |\n",
    "| `product_retail_price`           | Suggested retail price or sale price to customer                                                            |\n",
    "| `product_department`             | Department the product belongs to (e.g., *Women*)                                                           |\n",
    "| `product_sku`                    | Unique stock keeping unit (SKU) for inventory tracking                                                      |\n",
    "| `product_distribution_center_id` | Foreign key linking to the distribution center where the item is stocked (join with `distribution_centers`) |\n"
   ]
  },
  {
   "cell_type": "code",
   "execution_count": 115,
   "id": "230f0f60-f813-446b-8819-d3601e53a44c",
   "metadata": {},
   "outputs": [
    {
     "data": {
      "text/html": [
       "<div>\n",
       "<style scoped>\n",
       "    .dataframe tbody tr th:only-of-type {\n",
       "        vertical-align: middle;\n",
       "    }\n",
       "\n",
       "    .dataframe tbody tr th {\n",
       "        vertical-align: top;\n",
       "    }\n",
       "\n",
       "    .dataframe thead th {\n",
       "        text-align: right;\n",
       "    }\n",
       "</style>\n",
       "<table border=\"1\" class=\"dataframe\">\n",
       "  <thead>\n",
       "    <tr style=\"text-align: right;\">\n",
       "      <th></th>\n",
       "      <th>id</th>\n",
       "      <th>order_id</th>\n",
       "      <th>user_id</th>\n",
       "      <th>product_id</th>\n",
       "      <th>inventory_item_id</th>\n",
       "      <th>status</th>\n",
       "      <th>created_at</th>\n",
       "      <th>shipped_at</th>\n",
       "      <th>delivered_at</th>\n",
       "      <th>returned_at</th>\n",
       "      <th>sale_price</th>\n",
       "    </tr>\n",
       "  </thead>\n",
       "  <tbody>\n",
       "    <tr>\n",
       "      <th>0</th>\n",
       "      <td>32262</td>\n",
       "      <td>22308</td>\n",
       "      <td>17770</td>\n",
       "      <td>14235</td>\n",
       "      <td>87005</td>\n",
       "      <td>Complete</td>\n",
       "      <td>2023-08-26 04:00:49+00:00</td>\n",
       "      <td>2023-08-27 02:51:00+00:00</td>\n",
       "      <td>2023-08-28 15:29:00+00:00</td>\n",
       "      <td>NaT</td>\n",
       "      <td>0.02</td>\n",
       "    </tr>\n",
       "    <tr>\n",
       "      <th>1</th>\n",
       "      <td>86280</td>\n",
       "      <td>59526</td>\n",
       "      <td>47668</td>\n",
       "      <td>14235</td>\n",
       "      <td>233197</td>\n",
       "      <td>Complete</td>\n",
       "      <td>2025-01-14 06:40:31+00:00</td>\n",
       "      <td>2025-01-15 07:02:00+00:00</td>\n",
       "      <td>2025-01-16 15:24:00+00:00</td>\n",
       "      <td>NaT</td>\n",
       "      <td>0.02</td>\n",
       "    </tr>\n",
       "    <tr>\n",
       "      <th>2</th>\n",
       "      <td>111232</td>\n",
       "      <td>76742</td>\n",
       "      <td>61450</td>\n",
       "      <td>14235</td>\n",
       "      <td>300542</td>\n",
       "      <td>Complete</td>\n",
       "      <td>2025-03-23 16:59:43+00:00</td>\n",
       "      <td>2025-03-24 15:11:00+00:00</td>\n",
       "      <td>2025-03-28 18:46:00+00:00</td>\n",
       "      <td>NaT</td>\n",
       "      <td>0.02</td>\n",
       "    </tr>\n",
       "    <tr>\n",
       "      <th>3</th>\n",
       "      <td>174709</td>\n",
       "      <td>120274</td>\n",
       "      <td>96097</td>\n",
       "      <td>14235</td>\n",
       "      <td>472105</td>\n",
       "      <td>Complete</td>\n",
       "      <td>2024-09-04 00:16:12+00:00</td>\n",
       "      <td>2024-09-02 13:18:00+00:00</td>\n",
       "      <td>2024-09-04 23:43:00+00:00</td>\n",
       "      <td>NaT</td>\n",
       "      <td>0.02</td>\n",
       "    </tr>\n",
       "    <tr>\n",
       "      <th>4</th>\n",
       "      <td>141705</td>\n",
       "      <td>97661</td>\n",
       "      <td>78002</td>\n",
       "      <td>14235</td>\n",
       "      <td>382965</td>\n",
       "      <td>Processing</td>\n",
       "      <td>2024-10-11 06:43:35+00:00</td>\n",
       "      <td>NaT</td>\n",
       "      <td>NaT</td>\n",
       "      <td>NaT</td>\n",
       "      <td>0.02</td>\n",
       "    </tr>\n",
       "  </tbody>\n",
       "</table>\n",
       "</div>"
      ],
      "text/plain": [
       "       id  order_id  user_id  product_id  inventory_item_id      status  \\\n",
       "0   32262     22308    17770       14235              87005    Complete   \n",
       "1   86280     59526    47668       14235             233197    Complete   \n",
       "2  111232     76742    61450       14235             300542    Complete   \n",
       "3  174709    120274    96097       14235             472105    Complete   \n",
       "4  141705     97661    78002       14235             382965  Processing   \n",
       "\n",
       "                 created_at                shipped_at  \\\n",
       "0 2023-08-26 04:00:49+00:00 2023-08-27 02:51:00+00:00   \n",
       "1 2025-01-14 06:40:31+00:00 2025-01-15 07:02:00+00:00   \n",
       "2 2025-03-23 16:59:43+00:00 2025-03-24 15:11:00+00:00   \n",
       "3 2024-09-04 00:16:12+00:00 2024-09-02 13:18:00+00:00   \n",
       "4 2024-10-11 06:43:35+00:00                       NaT   \n",
       "\n",
       "               delivered_at returned_at  sale_price  \n",
       "0 2023-08-28 15:29:00+00:00         NaT        0.02  \n",
       "1 2025-01-16 15:24:00+00:00         NaT        0.02  \n",
       "2 2025-03-28 18:46:00+00:00         NaT        0.02  \n",
       "3 2024-09-04 23:43:00+00:00         NaT        0.02  \n",
       "4                       NaT         NaT        0.02  "
      ]
     },
     "execution_count": 115,
     "metadata": {},
     "output_type": "execute_result"
    }
   ],
   "source": [
    "orderitems_df = thelook_dfs['order_items']\n",
    "orderitems_df.head(5)"
   ]
  },
  {
   "cell_type": "markdown",
   "id": "49095e9a-319e-4de7-96e8-1ca5e2d04d74",
   "metadata": {},
   "source": [
    "**orderitems_df**\n",
    "\n",
    "| Column Name         | Description                                                                    |\n",
    "| ------------------- | ------------------------------------------------------------------------------ |\n",
    "| `id`                | Unique identifier for each order item (line item)                              |\n",
    "| `order_id`          | Foreign key referencing the `orders` table (represents the main order)         |\n",
    "| `user_id`           | ID of the customer who placed the order                                        |\n",
    "| `product_id`        | ID of the product ordered (from `products` or `inventories` table)             |\n",
    "| `inventory_item_id` | Foreign key linking to the specific item in the inventory (from `inventories`) |\n",
    "| `status`            | Status of the item within the order: `Complete`, `Cancelled`, etc.             |\n",
    "| `created_at`        | Timestamp when the item was added to the order                                 |\n",
    "| `shipped_at`        | Timestamp when the item was shipped                                            |\n",
    "| `delivered_at`      | Timestamp when the item was delivered                                          |\n",
    "| `returned_at`       | Timestamp if the item was returned                                             |\n",
    "| `sale_price`        | Price at which the item was sold to the customer                               |\n"
   ]
  },
  {
   "cell_type": "code",
   "execution_count": 116,
   "id": "b9e69d41-2a17-45a8-a168-c06267cfff89",
   "metadata": {},
   "outputs": [
    {
     "data": {
      "text/html": [
       "<div>\n",
       "<style scoped>\n",
       "    .dataframe tbody tr th:only-of-type {\n",
       "        vertical-align: middle;\n",
       "    }\n",
       "\n",
       "    .dataframe tbody tr th {\n",
       "        vertical-align: top;\n",
       "    }\n",
       "\n",
       "    .dataframe thead th {\n",
       "        text-align: right;\n",
       "    }\n",
       "</style>\n",
       "<table border=\"1\" class=\"dataframe\">\n",
       "  <thead>\n",
       "    <tr style=\"text-align: right;\">\n",
       "      <th></th>\n",
       "      <th>id</th>\n",
       "      <th>cost</th>\n",
       "      <th>category</th>\n",
       "      <th>name</th>\n",
       "      <th>brand</th>\n",
       "      <th>retail_price</th>\n",
       "      <th>department</th>\n",
       "      <th>sku</th>\n",
       "      <th>distribution_center_id</th>\n",
       "    </tr>\n",
       "  </thead>\n",
       "  <tbody>\n",
       "    <tr>\n",
       "      <th>0</th>\n",
       "      <td>13842</td>\n",
       "      <td>2.51875</td>\n",
       "      <td>Accessories</td>\n",
       "      <td>Low Profile Dyed Cotton Twill Cap - Navy W39S55D</td>\n",
       "      <td>MG</td>\n",
       "      <td>6.25</td>\n",
       "      <td>Women</td>\n",
       "      <td>EBD58B8A3F1D72F4206201DA62FB1204</td>\n",
       "      <td>1</td>\n",
       "    </tr>\n",
       "    <tr>\n",
       "      <th>1</th>\n",
       "      <td>13928</td>\n",
       "      <td>2.33835</td>\n",
       "      <td>Accessories</td>\n",
       "      <td>Low Profile Dyed Cotton Twill Cap - Putty W39S55D</td>\n",
       "      <td>MG</td>\n",
       "      <td>5.95</td>\n",
       "      <td>Women</td>\n",
       "      <td>2EAC42424D12436BDD6A5B8A88480CC3</td>\n",
       "      <td>1</td>\n",
       "    </tr>\n",
       "    <tr>\n",
       "      <th>2</th>\n",
       "      <td>14115</td>\n",
       "      <td>4.87956</td>\n",
       "      <td>Accessories</td>\n",
       "      <td>Enzyme Regular Solid Army Caps-Black W35S45D</td>\n",
       "      <td>MG</td>\n",
       "      <td>10.99</td>\n",
       "      <td>Women</td>\n",
       "      <td>EE364229B2791D1EF9355708EFF0BA34</td>\n",
       "      <td>1</td>\n",
       "    </tr>\n",
       "    <tr>\n",
       "      <th>3</th>\n",
       "      <td>14157</td>\n",
       "      <td>4.64877</td>\n",
       "      <td>Accessories</td>\n",
       "      <td>Enzyme Regular Solid Army Caps-Olive W35S45D (...</td>\n",
       "      <td>MG</td>\n",
       "      <td>10.99</td>\n",
       "      <td>Women</td>\n",
       "      <td>00BD13095D06C20B11A2993CA419D16B</td>\n",
       "      <td>1</td>\n",
       "    </tr>\n",
       "    <tr>\n",
       "      <th>4</th>\n",
       "      <td>14273</td>\n",
       "      <td>6.50793</td>\n",
       "      <td>Accessories</td>\n",
       "      <td>Washed Canvas Ivy Cap - Black W11S64C</td>\n",
       "      <td>MG</td>\n",
       "      <td>15.99</td>\n",
       "      <td>Women</td>\n",
       "      <td>F531DC20FDE20B7ADF3A73F52B71D0AF</td>\n",
       "      <td>1</td>\n",
       "    </tr>\n",
       "  </tbody>\n",
       "</table>\n",
       "</div>"
      ],
      "text/plain": [
       "      id     cost     category  \\\n",
       "0  13842  2.51875  Accessories   \n",
       "1  13928  2.33835  Accessories   \n",
       "2  14115  4.87956  Accessories   \n",
       "3  14157  4.64877  Accessories   \n",
       "4  14273  6.50793  Accessories   \n",
       "\n",
       "                                                name brand  retail_price  \\\n",
       "0   Low Profile Dyed Cotton Twill Cap - Navy W39S55D    MG          6.25   \n",
       "1  Low Profile Dyed Cotton Twill Cap - Putty W39S55D    MG          5.95   \n",
       "2       Enzyme Regular Solid Army Caps-Black W35S45D    MG         10.99   \n",
       "3  Enzyme Regular Solid Army Caps-Olive W35S45D (...    MG         10.99   \n",
       "4              Washed Canvas Ivy Cap - Black W11S64C    MG         15.99   \n",
       "\n",
       "  department                               sku  distribution_center_id  \n",
       "0      Women  EBD58B8A3F1D72F4206201DA62FB1204                       1  \n",
       "1      Women  2EAC42424D12436BDD6A5B8A88480CC3                       1  \n",
       "2      Women  EE364229B2791D1EF9355708EFF0BA34                       1  \n",
       "3      Women  00BD13095D06C20B11A2993CA419D16B                       1  \n",
       "4      Women  F531DC20FDE20B7ADF3A73F52B71D0AF                       1  "
      ]
     },
     "execution_count": 116,
     "metadata": {},
     "output_type": "execute_result"
    }
   ],
   "source": [
    "products_df = thelook_dfs['products']\n",
    "products_df.head(5)"
   ]
  },
  {
   "cell_type": "markdown",
   "id": "232beb8f-857e-4de5-a0bf-0dd41fa25672",
   "metadata": {},
   "source": [
    "**products_df**\n",
    "\n",
    "| Column Name              | Description                                                                                                      |\n",
    "| ------------------------ | ---------------------------------------------------------------------------------------------------------------- |\n",
    "| `id`                     | Unique product ID                                                                                                |\n",
    "| `cost`                   | Internal cost of the product for the retailer                                                                    |\n",
    "| `category`               | Product category (e.g., Accessories, Tops, Shoes)                                                                |\n",
    "| `name`                   | Full name or description of the product                                                                          |\n",
    "| `brand`                  | Brand or manufacturer of the product                                                                             |\n",
    "| `retail_price`           | Recommended retail price for the product                                                                         |\n",
    "| `department`             | Department the product belongs to (e.g., Women, Men, Kids)                                                       |\n",
    "| `sku`                    | Stock Keeping Unit: unique code used to identify and track inventory                                             |\n",
    "| `distribution_center_id` | Foreign key linking to the `distribution_centers` table, indicating where the product is stocked or shipped from |\n"
   ]
  },
  {
   "cell_type": "code",
   "execution_count": 117,
   "id": "80a08e65-8c2b-4e18-8baa-ede2a2ea97a7",
   "metadata": {},
   "outputs": [
    {
     "data": {
      "text/html": [
       "<div>\n",
       "<style scoped>\n",
       "    .dataframe tbody tr th:only-of-type {\n",
       "        vertical-align: middle;\n",
       "    }\n",
       "\n",
       "    .dataframe tbody tr th {\n",
       "        vertical-align: top;\n",
       "    }\n",
       "\n",
       "    .dataframe thead th {\n",
       "        text-align: right;\n",
       "    }\n",
       "</style>\n",
       "<table border=\"1\" class=\"dataframe\">\n",
       "  <thead>\n",
       "    <tr style=\"text-align: right;\">\n",
       "      <th></th>\n",
       "      <th>id</th>\n",
       "      <th>first_name</th>\n",
       "      <th>last_name</th>\n",
       "      <th>email</th>\n",
       "      <th>age</th>\n",
       "      <th>gender</th>\n",
       "      <th>state</th>\n",
       "      <th>street_address</th>\n",
       "      <th>postal_code</th>\n",
       "      <th>city</th>\n",
       "      <th>country</th>\n",
       "      <th>latitude</th>\n",
       "      <th>longitude</th>\n",
       "      <th>traffic_source</th>\n",
       "      <th>created_at</th>\n",
       "      <th>user_geom</th>\n",
       "    </tr>\n",
       "  </thead>\n",
       "  <tbody>\n",
       "    <tr>\n",
       "      <th>0</th>\n",
       "      <td>85705</td>\n",
       "      <td>Elizabeth</td>\n",
       "      <td>Mayer</td>\n",
       "      <td>elizabethmayer@example.net</td>\n",
       "      <td>32</td>\n",
       "      <td>F</td>\n",
       "      <td>Acre</td>\n",
       "      <td>523 Julie Wells</td>\n",
       "      <td>69980-000</td>\n",
       "      <td>null</td>\n",
       "      <td>Brasil</td>\n",
       "      <td>-8.065346</td>\n",
       "      <td>-72.870949</td>\n",
       "      <td>Search</td>\n",
       "      <td>2022-04-27 00:16:00+00:00</td>\n",
       "      <td>POINT(-72.87094866 -8.065346116)</td>\n",
       "    </tr>\n",
       "    <tr>\n",
       "      <th>1</th>\n",
       "      <td>44745</td>\n",
       "      <td>Kimberly</td>\n",
       "      <td>Hernandez</td>\n",
       "      <td>kimberlyhernandez@example.net</td>\n",
       "      <td>67</td>\n",
       "      <td>F</td>\n",
       "      <td>Acre</td>\n",
       "      <td>27552 Davis Summit</td>\n",
       "      <td>69980-000</td>\n",
       "      <td>null</td>\n",
       "      <td>Brasil</td>\n",
       "      <td>-8.065346</td>\n",
       "      <td>-72.870949</td>\n",
       "      <td>Search</td>\n",
       "      <td>2021-10-04 15:14:00+00:00</td>\n",
       "      <td>POINT(-72.87094866 -8.065346116)</td>\n",
       "    </tr>\n",
       "    <tr>\n",
       "      <th>2</th>\n",
       "      <td>95514</td>\n",
       "      <td>Sara</td>\n",
       "      <td>Garcia</td>\n",
       "      <td>saragarcia@example.com</td>\n",
       "      <td>65</td>\n",
       "      <td>F</td>\n",
       "      <td>Acre</td>\n",
       "      <td>74181 Jackson Course</td>\n",
       "      <td>69980-000</td>\n",
       "      <td>null</td>\n",
       "      <td>Brasil</td>\n",
       "      <td>-8.065346</td>\n",
       "      <td>-72.870949</td>\n",
       "      <td>Search</td>\n",
       "      <td>2021-09-29 08:11:00+00:00</td>\n",
       "      <td>POINT(-72.87094866 -8.065346116)</td>\n",
       "    </tr>\n",
       "    <tr>\n",
       "      <th>3</th>\n",
       "      <td>56571</td>\n",
       "      <td>Rebecca</td>\n",
       "      <td>Carter</td>\n",
       "      <td>rebeccacarter@example.com</td>\n",
       "      <td>44</td>\n",
       "      <td>F</td>\n",
       "      <td>Acre</td>\n",
       "      <td>344 Keith Forge</td>\n",
       "      <td>69980-000</td>\n",
       "      <td>null</td>\n",
       "      <td>Brasil</td>\n",
       "      <td>-8.065346</td>\n",
       "      <td>-72.870949</td>\n",
       "      <td>Search</td>\n",
       "      <td>2023-05-31 18:45:00+00:00</td>\n",
       "      <td>POINT(-72.87094866 -8.065346116)</td>\n",
       "    </tr>\n",
       "    <tr>\n",
       "      <th>4</th>\n",
       "      <td>65245</td>\n",
       "      <td>Robert</td>\n",
       "      <td>Porter</td>\n",
       "      <td>robertporter@example.org</td>\n",
       "      <td>65</td>\n",
       "      <td>M</td>\n",
       "      <td>Acre</td>\n",
       "      <td>60515 Young Villages</td>\n",
       "      <td>69980-000</td>\n",
       "      <td>null</td>\n",
       "      <td>Brasil</td>\n",
       "      <td>-8.065346</td>\n",
       "      <td>-72.870949</td>\n",
       "      <td>Search</td>\n",
       "      <td>2021-08-28 07:52:00+00:00</td>\n",
       "      <td>POINT(-72.87094866 -8.065346116)</td>\n",
       "    </tr>\n",
       "  </tbody>\n",
       "</table>\n",
       "</div>"
      ],
      "text/plain": [
       "      id first_name  last_name                          email  age gender  \\\n",
       "0  85705  Elizabeth      Mayer     elizabethmayer@example.net   32      F   \n",
       "1  44745   Kimberly  Hernandez  kimberlyhernandez@example.net   67      F   \n",
       "2  95514       Sara     Garcia         saragarcia@example.com   65      F   \n",
       "3  56571    Rebecca     Carter      rebeccacarter@example.com   44      F   \n",
       "4  65245     Robert     Porter       robertporter@example.org   65      M   \n",
       "\n",
       "  state        street_address postal_code  city country  latitude  longitude  \\\n",
       "0  Acre       523 Julie Wells   69980-000  null  Brasil -8.065346 -72.870949   \n",
       "1  Acre    27552 Davis Summit   69980-000  null  Brasil -8.065346 -72.870949   \n",
       "2  Acre  74181 Jackson Course   69980-000  null  Brasil -8.065346 -72.870949   \n",
       "3  Acre       344 Keith Forge   69980-000  null  Brasil -8.065346 -72.870949   \n",
       "4  Acre  60515 Young Villages   69980-000  null  Brasil -8.065346 -72.870949   \n",
       "\n",
       "  traffic_source                created_at                         user_geom  \n",
       "0         Search 2022-04-27 00:16:00+00:00  POINT(-72.87094866 -8.065346116)  \n",
       "1         Search 2021-10-04 15:14:00+00:00  POINT(-72.87094866 -8.065346116)  \n",
       "2         Search 2021-09-29 08:11:00+00:00  POINT(-72.87094866 -8.065346116)  \n",
       "3         Search 2023-05-31 18:45:00+00:00  POINT(-72.87094866 -8.065346116)  \n",
       "4         Search 2021-08-28 07:52:00+00:00  POINT(-72.87094866 -8.065346116)  "
      ]
     },
     "execution_count": 117,
     "metadata": {},
     "output_type": "execute_result"
    }
   ],
   "source": [
    "users_df = thelook_dfs['users']\n",
    "users_df.head(5)"
   ]
  },
  {
   "cell_type": "markdown",
   "id": "b3f64b63-38f9-47f5-825e-214bff68e0c1",
   "metadata": {},
   "source": [
    "**users_df dictionary**\n",
    "\n",
    "  | Column Name      | Description                                                                                |\n",
    "| ---------------- | ------------------------------------------------------------------------------------------ |\n",
    "| `id`             | Unique identifier for the user (primary key)                                               |\n",
    "| `first_name`     | User's first name                                                                          |\n",
    "| `last_name`      | User's last name                                                                           |\n",
    "| `email`          | User's email address                                                                       |\n",
    "| `age`            | Age of the user                                                                            |\n",
    "| `gender`         | Gender of the user (`M`, `F`, or other)                                                    |\n",
    "| `state`          | State of residence (e.g., Acre)                                                            |\n",
    "| `street_address` | Full street address of the user                                                            |\n",
    "| `postal_code`    | Postal or ZIP code                                                                         |\n",
    "| `city`           | City (some entries may be `null`)                                                          |\n",
    "| `country`        | Country of residence (e.g., Brasil)                                                        |\n",
    "| `latitude`       | Latitude coordinate of the user's address                                                  |\n",
    "| `longitude`      | Longitude coordinate of the user's address                                                 |\n",
    "| `traffic_source` | Original acquisition source (e.g., Facebook, Email, Search, Organic)                       |\n",
    "| `created_at`     | Timestamp of when the user was created in the system                                       |\n",
    "| `user_geom`      | Spatial data point combining `longitude` and `latitude` (for mapping and geospatial joins) |\n"
   ]
  },
  {
   "cell_type": "markdown",
   "id": "eb2a4e11-0b9d-4604-af17-9f7821da02a6",
   "metadata": {},
   "source": [
    "### Data Cleaning & Exploration"
   ]
  },
  {
   "cell_type": "markdown",
   "id": "6ef16a7f-4d77-4017-8701-eb6c8a834ffe",
   "metadata": {},
   "source": [
    "#### orders_df"
   ]
  },
  {
   "cell_type": "code",
   "execution_count": 118,
   "id": "99e8a6ad-7292-46dd-8f83-fa7fc0677b01",
   "metadata": {},
   "outputs": [
    {
     "data": {
      "text/plain": [
       "(125155, 9)"
      ]
     },
     "execution_count": 118,
     "metadata": {},
     "output_type": "execute_result"
    }
   ],
   "source": [
    "# number of colums\n",
    "orders_df.shape"
   ]
  },
  {
   "cell_type": "code",
   "execution_count": 119,
   "id": "894c6535-6cd0-4cc1-ba78-1f0ae25ae297",
   "metadata": {},
   "outputs": [
    {
     "name": "stdout",
     "output_type": "stream",
     "text": [
      "<class 'pandas.core.frame.DataFrame'>\n",
      "RangeIndex: 125155 entries, 0 to 125154\n",
      "Data columns (total 9 columns):\n",
      " #   Column        Non-Null Count   Dtype              \n",
      "---  ------        --------------   -----              \n",
      " 0   order_id      125155 non-null  Int64              \n",
      " 1   user_id       125155 non-null  Int64              \n",
      " 2   status        125155 non-null  object             \n",
      " 3   gender        125155 non-null  object             \n",
      " 4   created_at    125155 non-null  datetime64[us, UTC]\n",
      " 5   returned_at   12589 non-null   datetime64[us, UTC]\n",
      " 6   shipped_at    81112 non-null   datetime64[us, UTC]\n",
      " 7   delivered_at  43821 non-null   datetime64[us, UTC]\n",
      " 8   num_of_item   125155 non-null  Int64              \n",
      "dtypes: Int64(3), datetime64[us, UTC](4), object(2)\n",
      "memory usage: 9.0+ MB\n"
     ]
    }
   ],
   "source": [
    "# Check data type of the orders_df\n",
    "\n",
    "orders_df.info()"
   ]
  },
  {
   "cell_type": "code",
   "execution_count": 120,
   "id": "1a7c77a2-17ab-4200-9b94-d60ccaaf7ec3",
   "metadata": {},
   "outputs": [
    {
     "data": {
      "text/plain": [
       "order_id             0\n",
       "user_id              0\n",
       "status               0\n",
       "gender               0\n",
       "created_at           0\n",
       "returned_at     112566\n",
       "shipped_at       44043\n",
       "delivered_at     81334\n",
       "num_of_item          0\n",
       "dtype: int64"
      ]
     },
     "execution_count": 120,
     "metadata": {},
     "output_type": "execute_result"
    }
   ],
   "source": [
    "# Check for null values\n",
    "\n",
    "orders_df.isnull().sum()"
   ]
  },
  {
   "cell_type": "code",
   "execution_count": 121,
   "id": "dec1036f-da73-49ea-922e-595b75b77b89",
   "metadata": {},
   "outputs": [
    {
     "data": {
      "text/plain": [
       "array(['Cancelled', 'Complete', 'Processing', 'Returned', 'Shipped'],\n",
       "      dtype=object)"
      ]
     },
     "execution_count": 121,
     "metadata": {},
     "output_type": "execute_result"
    }
   ],
   "source": [
    "orders_df['status'].unique()"
   ]
  },
  {
   "cell_type": "code",
   "execution_count": 122,
   "id": "ef2cd9cf-e0b0-4b03-a3b2-3f059346909f",
   "metadata": {},
   "outputs": [
    {
     "data": {
      "text/plain": [
       "status\n",
       "Shipped       0.297959\n",
       "Complete      0.249547\n",
       "Processing    0.200439\n",
       "Cancelled     0.151468\n",
       "Returned      0.100587\n",
       "Name: proportion, dtype: float64"
      ]
     },
     "execution_count": 122,
     "metadata": {},
     "output_type": "execute_result"
    }
   ],
   "source": [
    "orders_df['status'].value_counts(normalize = True)"
   ]
  },
  {
   "cell_type": "code",
   "execution_count": 123,
   "id": "f9acb9b7-ae57-486a-88a6-f7e66d18e8fe",
   "metadata": {},
   "outputs": [
    {
     "data": {
      "text/plain": [
       "gender\n",
       "M    0.501067\n",
       "F    0.498933\n",
       "Name: proportion, dtype: float64"
      ]
     },
     "execution_count": 123,
     "metadata": {},
     "output_type": "execute_result"
    }
   ],
   "source": [
    "# unique values and proportion of items in gender\n",
    "\n",
    "orders_df['gender'].value_counts(normalize = True)"
   ]
  },
  {
   "cell_type": "code",
   "execution_count": 124,
   "id": "4959c9c8-8021-4475-97c9-342e84db1da8",
   "metadata": {},
   "outputs": [
    {
     "data": {
      "text/html": [
       "<div>\n",
       "<style scoped>\n",
       "    .dataframe tbody tr th:only-of-type {\n",
       "        vertical-align: middle;\n",
       "    }\n",
       "\n",
       "    .dataframe tbody tr th {\n",
       "        vertical-align: top;\n",
       "    }\n",
       "\n",
       "    .dataframe thead th {\n",
       "        text-align: right;\n",
       "    }\n",
       "</style>\n",
       "<table border=\"1\" class=\"dataframe\">\n",
       "  <thead>\n",
       "    <tr style=\"text-align: right;\">\n",
       "      <th></th>\n",
       "      <th>order_id</th>\n",
       "      <th>user_id</th>\n",
       "      <th>num_of_item</th>\n",
       "    </tr>\n",
       "  </thead>\n",
       "  <tbody>\n",
       "    <tr>\n",
       "      <th>count</th>\n",
       "      <td>125155.0</td>\n",
       "      <td>125155.0</td>\n",
       "      <td>125155.0</td>\n",
       "    </tr>\n",
       "    <tr>\n",
       "      <th>mean</th>\n",
       "      <td>62578.0</td>\n",
       "      <td>50039.947992</td>\n",
       "      <td>1.451728</td>\n",
       "    </tr>\n",
       "    <tr>\n",
       "      <th>std</th>\n",
       "      <td>36129.280807</td>\n",
       "      <td>28866.267083</td>\n",
       "      <td>0.803918</td>\n",
       "    </tr>\n",
       "    <tr>\n",
       "      <th>min</th>\n",
       "      <td>1.0</td>\n",
       "      <td>1.0</td>\n",
       "      <td>1.0</td>\n",
       "    </tr>\n",
       "    <tr>\n",
       "      <th>25%</th>\n",
       "      <td>31289.5</td>\n",
       "      <td>24988.5</td>\n",
       "      <td>1.0</td>\n",
       "    </tr>\n",
       "    <tr>\n",
       "      <th>50%</th>\n",
       "      <td>62578.0</td>\n",
       "      <td>50124.0</td>\n",
       "      <td>1.0</td>\n",
       "    </tr>\n",
       "    <tr>\n",
       "      <th>75%</th>\n",
       "      <td>93866.5</td>\n",
       "      <td>75037.0</td>\n",
       "      <td>2.0</td>\n",
       "    </tr>\n",
       "    <tr>\n",
       "      <th>max</th>\n",
       "      <td>125155.0</td>\n",
       "      <td>100000.0</td>\n",
       "      <td>4.0</td>\n",
       "    </tr>\n",
       "  </tbody>\n",
       "</table>\n",
       "</div>"
      ],
      "text/plain": [
       "           order_id       user_id  num_of_item\n",
       "count      125155.0      125155.0     125155.0\n",
       "mean        62578.0  50039.947992     1.451728\n",
       "std    36129.280807  28866.267083     0.803918\n",
       "min             1.0           1.0          1.0\n",
       "25%         31289.5       24988.5          1.0\n",
       "50%         62578.0       50124.0          1.0\n",
       "75%         93866.5       75037.0          2.0\n",
       "max        125155.0      100000.0          4.0"
      ]
     },
     "execution_count": 124,
     "metadata": {},
     "output_type": "execute_result"
    }
   ],
   "source": [
    "orders_df.describe()"
   ]
  },
  {
   "cell_type": "markdown",
   "id": "68e3c303-3d3b-4e91-9acd-9a8467f4903d",
   "metadata": {},
   "source": [
    "**distribution_df (Distribution center)**"
   ]
  },
  {
   "cell_type": "markdown",
   "id": "d15fb16b-1018-4783-9d74-a62f868742c0",
   "metadata": {},
   "source": [
    "**Null values interpretation**\n",
    "\n",
    "The order_df has 112122 null valued for returned_at, this indicates that 112122 were not returned, 43852 were never shipped, and 81210 has no delivery time, perhaps because they were never delivered. This could include:\n",
    "\n",
    "- Orders that were cancelled before delivery.\n",
    "\n",
    "- Orders that are still in transit.\n",
    "\n",
    "- Orders that were lost or failed delivery.\n",
    "\n",
    "**Status Value counts**\n",
    "\n",
    "About 29.85% of orders were shipped but not yet marked as delivered, 25.14 were succesfully delivered, 19.92 % are currenly been processed, 15.11 % were cancelled before completion and 9.96 orders were delivered by returned by customers. \n",
    "\n",
    "**Gender**\n",
    "\n",
    "`50.06` % of customers are Male and  `49.93` are female\n",
    "\n",
    "**.decribe**\n",
    "\n",
    "50% media of all orders contain 1 item and 75% of order contain 2 items and the maximum number of items ordered in a single order is 4"
   ]
  },
  {
   "cell_type": "code",
   "execution_count": 125,
   "id": "3a6a0eb0-a302-44c9-8411-f88268e83eb4",
   "metadata": {},
   "outputs": [
    {
     "data": {
      "text/html": [
       "<div>\n",
       "<style scoped>\n",
       "    .dataframe tbody tr th:only-of-type {\n",
       "        vertical-align: middle;\n",
       "    }\n",
       "\n",
       "    .dataframe tbody tr th {\n",
       "        vertical-align: top;\n",
       "    }\n",
       "\n",
       "    .dataframe thead th {\n",
       "        text-align: right;\n",
       "    }\n",
       "</style>\n",
       "<table border=\"1\" class=\"dataframe\">\n",
       "  <thead>\n",
       "    <tr style=\"text-align: right;\">\n",
       "      <th></th>\n",
       "      <th>id</th>\n",
       "      <th>name</th>\n",
       "      <th>latitude</th>\n",
       "      <th>longitude</th>\n",
       "      <th>distribution_center_geom</th>\n",
       "    </tr>\n",
       "  </thead>\n",
       "  <tbody>\n",
       "    <tr>\n",
       "      <th>0</th>\n",
       "      <td>5</td>\n",
       "      <td>New Orleans LA</td>\n",
       "      <td>29.9500</td>\n",
       "      <td>-90.0667</td>\n",
       "      <td>POINT(-90.0667 29.95)</td>\n",
       "    </tr>\n",
       "    <tr>\n",
       "      <th>1</th>\n",
       "      <td>3</td>\n",
       "      <td>Houston TX</td>\n",
       "      <td>29.7604</td>\n",
       "      <td>-95.3698</td>\n",
       "      <td>POINT(-95.3698 29.7604)</td>\n",
       "    </tr>\n",
       "    <tr>\n",
       "      <th>2</th>\n",
       "      <td>7</td>\n",
       "      <td>Philadelphia PA</td>\n",
       "      <td>39.9500</td>\n",
       "      <td>-75.1667</td>\n",
       "      <td>POINT(-75.1667 39.95)</td>\n",
       "    </tr>\n",
       "    <tr>\n",
       "      <th>3</th>\n",
       "      <td>10</td>\n",
       "      <td>Savannah GA</td>\n",
       "      <td>32.0167</td>\n",
       "      <td>-81.1167</td>\n",
       "      <td>POINT(-81.1167 32.0167)</td>\n",
       "    </tr>\n",
       "    <tr>\n",
       "      <th>4</th>\n",
       "      <td>4</td>\n",
       "      <td>Los Angeles CA</td>\n",
       "      <td>34.0500</td>\n",
       "      <td>-118.2500</td>\n",
       "      <td>POINT(-118.25 34.05)</td>\n",
       "    </tr>\n",
       "  </tbody>\n",
       "</table>\n",
       "</div>"
      ],
      "text/plain": [
       "   id             name  latitude  longitude distribution_center_geom\n",
       "0   5   New Orleans LA   29.9500   -90.0667    POINT(-90.0667 29.95)\n",
       "1   3       Houston TX   29.7604   -95.3698  POINT(-95.3698 29.7604)\n",
       "2   7  Philadelphia PA   39.9500   -75.1667    POINT(-75.1667 39.95)\n",
       "3  10      Savannah GA   32.0167   -81.1167  POINT(-81.1167 32.0167)\n",
       "4   4   Los Angeles CA   34.0500  -118.2500     POINT(-118.25 34.05)"
      ]
     },
     "execution_count": 125,
     "metadata": {},
     "output_type": "execute_result"
    }
   ],
   "source": [
    "distribution_df.head()"
   ]
  },
  {
   "cell_type": "code",
   "execution_count": 126,
   "id": "190e93f1-b61c-46e9-af8d-38f2b1501013",
   "metadata": {},
   "outputs": [
    {
     "data": {
      "text/plain": [
       "(10, 5)"
      ]
     },
     "execution_count": 126,
     "metadata": {},
     "output_type": "execute_result"
    }
   ],
   "source": [
    "# no of rows and columns\n",
    "distribution_df.shape"
   ]
  },
  {
   "cell_type": "code",
   "execution_count": 127,
   "id": "02e2adf1-d6f7-4996-b04e-797941b29297",
   "metadata": {},
   "outputs": [
    {
     "data": {
      "text/plain": [
       "id                          0\n",
       "name                        0\n",
       "latitude                    0\n",
       "longitude                   0\n",
       "distribution_center_geom    0\n",
       "dtype: int64"
      ]
     },
     "execution_count": 127,
     "metadata": {},
     "output_type": "execute_result"
    }
   ],
   "source": [
    "# check for null values\n",
    "\n",
    "distribution_df.isnull().sum()"
   ]
  },
  {
   "cell_type": "code",
   "execution_count": 128,
   "id": "bed377b9-025a-42ce-a2d0-417b5c8bed96",
   "metadata": {},
   "outputs": [
    {
     "name": "stdout",
     "output_type": "stream",
     "text": [
      "<class 'pandas.core.frame.DataFrame'>\n",
      "RangeIndex: 10 entries, 0 to 9\n",
      "Data columns (total 5 columns):\n",
      " #   Column                    Non-Null Count  Dtype  \n",
      "---  ------                    --------------  -----  \n",
      " 0   id                        10 non-null     Int64  \n",
      " 1   name                      10 non-null     object \n",
      " 2   latitude                  10 non-null     float64\n",
      " 3   longitude                 10 non-null     float64\n",
      " 4   distribution_center_geom  10 non-null     object \n",
      "dtypes: Int64(1), float64(2), object(2)\n",
      "memory usage: 542.0+ bytes\n"
     ]
    }
   ],
   "source": [
    "distribution_df.info()"
   ]
  },
  {
   "cell_type": "markdown",
   "id": "1087cdf1-7abb-4ec3-bd30-b44c5d87a2a8",
   "metadata": {},
   "source": [
    "**events_df**"
   ]
  },
  {
   "cell_type": "code",
   "execution_count": 129,
   "id": "cb458854-7e41-4731-ad18-2c2152cbe56f",
   "metadata": {},
   "outputs": [
    {
     "data": {
      "text/plain": [
       "(2427838, 13)"
      ]
     },
     "execution_count": 129,
     "metadata": {},
     "output_type": "execute_result"
    }
   ],
   "source": [
    "# number of rows in the table\n",
    "events_df.shape"
   ]
  },
  {
   "cell_type": "code",
   "execution_count": 130,
   "id": "2ff0129f-402c-46c1-8ba5-5da144be1bc7",
   "metadata": {},
   "outputs": [
    {
     "data": {
      "text/html": [
       "<div>\n",
       "<style scoped>\n",
       "    .dataframe tbody tr th:only-of-type {\n",
       "        vertical-align: middle;\n",
       "    }\n",
       "\n",
       "    .dataframe tbody tr th {\n",
       "        vertical-align: top;\n",
       "    }\n",
       "\n",
       "    .dataframe thead th {\n",
       "        text-align: right;\n",
       "    }\n",
       "</style>\n",
       "<table border=\"1\" class=\"dataframe\">\n",
       "  <thead>\n",
       "    <tr style=\"text-align: right;\">\n",
       "      <th></th>\n",
       "      <th>id</th>\n",
       "      <th>user_id</th>\n",
       "      <th>sequence_number</th>\n",
       "      <th>session_id</th>\n",
       "      <th>created_at</th>\n",
       "      <th>ip_address</th>\n",
       "      <th>city</th>\n",
       "      <th>state</th>\n",
       "      <th>postal_code</th>\n",
       "      <th>browser</th>\n",
       "      <th>traffic_source</th>\n",
       "      <th>uri</th>\n",
       "      <th>event_type</th>\n",
       "    </tr>\n",
       "  </thead>\n",
       "  <tbody>\n",
       "    <tr>\n",
       "      <th>0</th>\n",
       "      <td>2157132</td>\n",
       "      <td>&lt;NA&gt;</td>\n",
       "      <td>3</td>\n",
       "      <td>297ae8a9-ecb4-4a68-b9d7-73f3dc79492a</td>\n",
       "      <td>2021-09-11 06:21:00+00:00</td>\n",
       "      <td>19.100.80.232</td>\n",
       "      <td>São Paulo</td>\n",
       "      <td>São Paulo</td>\n",
       "      <td>02675-031</td>\n",
       "      <td>Other</td>\n",
       "      <td>Adwords</td>\n",
       "      <td>/cancel</td>\n",
       "      <td>cancel</td>\n",
       "    </tr>\n",
       "    <tr>\n",
       "      <th>1</th>\n",
       "      <td>2217509</td>\n",
       "      <td>&lt;NA&gt;</td>\n",
       "      <td>3</td>\n",
       "      <td>2f865650-7c95-40b0-ad78-d82ddcd0bfcd</td>\n",
       "      <td>2021-02-02 10:19:00+00:00</td>\n",
       "      <td>3.241.207.5</td>\n",
       "      <td>São Paulo</td>\n",
       "      <td>São Paulo</td>\n",
       "      <td>02675-031</td>\n",
       "      <td>Chrome</td>\n",
       "      <td>Adwords</td>\n",
       "      <td>/cancel</td>\n",
       "      <td>cancel</td>\n",
       "    </tr>\n",
       "    <tr>\n",
       "      <th>2</th>\n",
       "      <td>2152325</td>\n",
       "      <td>&lt;NA&gt;</td>\n",
       "      <td>3</td>\n",
       "      <td>9a010559-b9ad-4e70-ae35-190e74a98efc</td>\n",
       "      <td>2024-11-19 08:24:00+00:00</td>\n",
       "      <td>59.5.95.105</td>\n",
       "      <td>São Paulo</td>\n",
       "      <td>São Paulo</td>\n",
       "      <td>02675-031</td>\n",
       "      <td>Chrome</td>\n",
       "      <td>Adwords</td>\n",
       "      <td>/cancel</td>\n",
       "      <td>cancel</td>\n",
       "    </tr>\n",
       "    <tr>\n",
       "      <th>3</th>\n",
       "      <td>2321203</td>\n",
       "      <td>&lt;NA&gt;</td>\n",
       "      <td>3</td>\n",
       "      <td>593fb054-1169-4b78-a3ba-97cc5feb4541</td>\n",
       "      <td>2023-03-31 18:40:00+00:00</td>\n",
       "      <td>182.175.181.227</td>\n",
       "      <td>Sapporo</td>\n",
       "      <td>Hokkaido</td>\n",
       "      <td>063-0049</td>\n",
       "      <td>Chrome</td>\n",
       "      <td>Adwords</td>\n",
       "      <td>/cancel</td>\n",
       "      <td>cancel</td>\n",
       "    </tr>\n",
       "    <tr>\n",
       "      <th>4</th>\n",
       "      <td>2303823</td>\n",
       "      <td>&lt;NA&gt;</td>\n",
       "      <td>3</td>\n",
       "      <td>dd87ebc5-957c-497a-b526-c5276e16b945</td>\n",
       "      <td>2025-04-07 02:13:00+00:00</td>\n",
       "      <td>213.65.75.92</td>\n",
       "      <td>Mairiporã</td>\n",
       "      <td>São Paulo</td>\n",
       "      <td>07600-000</td>\n",
       "      <td>Firefox</td>\n",
       "      <td>Adwords</td>\n",
       "      <td>/cancel</td>\n",
       "      <td>cancel</td>\n",
       "    </tr>\n",
       "  </tbody>\n",
       "</table>\n",
       "</div>"
      ],
      "text/plain": [
       "        id  user_id  sequence_number                            session_id  \\\n",
       "0  2157132     <NA>                3  297ae8a9-ecb4-4a68-b9d7-73f3dc79492a   \n",
       "1  2217509     <NA>                3  2f865650-7c95-40b0-ad78-d82ddcd0bfcd   \n",
       "2  2152325     <NA>                3  9a010559-b9ad-4e70-ae35-190e74a98efc   \n",
       "3  2321203     <NA>                3  593fb054-1169-4b78-a3ba-97cc5feb4541   \n",
       "4  2303823     <NA>                3  dd87ebc5-957c-497a-b526-c5276e16b945   \n",
       "\n",
       "                 created_at       ip_address       city      state  \\\n",
       "0 2021-09-11 06:21:00+00:00    19.100.80.232  São Paulo  São Paulo   \n",
       "1 2021-02-02 10:19:00+00:00      3.241.207.5  São Paulo  São Paulo   \n",
       "2 2024-11-19 08:24:00+00:00      59.5.95.105  São Paulo  São Paulo   \n",
       "3 2023-03-31 18:40:00+00:00  182.175.181.227    Sapporo   Hokkaido   \n",
       "4 2025-04-07 02:13:00+00:00     213.65.75.92  Mairiporã  São Paulo   \n",
       "\n",
       "  postal_code  browser traffic_source      uri event_type  \n",
       "0   02675-031    Other        Adwords  /cancel     cancel  \n",
       "1   02675-031   Chrome        Adwords  /cancel     cancel  \n",
       "2   02675-031   Chrome        Adwords  /cancel     cancel  \n",
       "3    063-0049   Chrome        Adwords  /cancel     cancel  \n",
       "4   07600-000  Firefox        Adwords  /cancel     cancel  "
      ]
     },
     "execution_count": 130,
     "metadata": {},
     "output_type": "execute_result"
    }
   ],
   "source": [
    "events_df.head(5)"
   ]
  },
  {
   "cell_type": "code",
   "execution_count": 131,
   "id": "a25b6615-6f7e-4683-bbb8-faca87a892e1",
   "metadata": {},
   "outputs": [
    {
     "name": "stdout",
     "output_type": "stream",
     "text": [
      "<class 'pandas.core.frame.DataFrame'>\n",
      "RangeIndex: 2427838 entries, 0 to 2427837\n",
      "Data columns (total 13 columns):\n",
      " #   Column           Dtype              \n",
      "---  ------           -----              \n",
      " 0   id               Int64              \n",
      " 1   user_id          Int64              \n",
      " 2   sequence_number  Int64              \n",
      " 3   session_id       object             \n",
      " 4   created_at       datetime64[us, UTC]\n",
      " 5   ip_address       object             \n",
      " 6   city             object             \n",
      " 7   state            object             \n",
      " 8   postal_code      object             \n",
      " 9   browser          object             \n",
      " 10  traffic_source   object             \n",
      " 11  uri              object             \n",
      " 12  event_type       object             \n",
      "dtypes: Int64(3), datetime64[us, UTC](1), object(9)\n",
      "memory usage: 247.7+ MB\n"
     ]
    }
   ],
   "source": [
    "#check data types\n",
    "events_df.info()"
   ]
  },
  {
   "cell_type": "code",
   "execution_count": 132,
   "id": "d33bb8ba-5415-46f4-84fa-424f5b90029d",
   "metadata": {},
   "outputs": [
    {
     "data": {
      "text/plain": [
       "id                       0\n",
       "user_id            1124870\n",
       "sequence_number          0\n",
       "session_id               0\n",
       "created_at               0\n",
       "ip_address               0\n",
       "city                     0\n",
       "state                    0\n",
       "postal_code              0\n",
       "browser                  0\n",
       "traffic_source           0\n",
       "uri                      0\n",
       "event_type               0\n",
       "dtype: int64"
      ]
     },
     "execution_count": 132,
     "metadata": {},
     "output_type": "execute_result"
    }
   ],
   "source": [
    "#check for null values\n",
    "\n",
    "events_df.isnull().sum()"
   ]
  },
  {
   "cell_type": "code",
   "execution_count": 133,
   "id": "607fb384-7e5c-4756-9d3c-376d4499e499",
   "metadata": {},
   "outputs": [
    {
     "data": {
      "text/plain": [
       "event_type\n",
       "product       0.444496\n",
       "department    0.222476\n",
       "cart          0.222080\n",
       "cancel        0.110948\n",
       "Name: proportion, dtype: float64"
      ]
     },
     "execution_count": 133,
     "metadata": {},
     "output_type": "execute_result"
    }
   ],
   "source": [
    "# For user who are not logged in, what kind of events did they generate and how often \n",
    "\n",
    "events_df[events_df['user_id'].isnull()]['event_type'].value_counts(normalize = True)"
   ]
  },
  {
   "cell_type": "code",
   "execution_count": 134,
   "id": "61855ffa-fe13-4987-bdfd-084e2805009b",
   "metadata": {},
   "outputs": [
    {
     "data": {
      "text/plain": [
       "array(['cancel', 'cart', 'department', 'home', 'product', 'purchase'],\n",
       "      dtype=object)"
      ]
     },
     "execution_count": 134,
     "metadata": {},
     "output_type": "execute_result"
    }
   ],
   "source": [
    "events_df['event_type'].unique()"
   ]
  },
  {
   "cell_type": "markdown",
   "id": "eb74b2b0-6d4b-49c6-81e7-ae0fea0dda42",
   "metadata": {},
   "source": [
    "**events_df breakdown**\n",
    "  \n",
    "The event table likely captures website /app user behaviour such as clicks, page visists and cancellations. user_id has 1125736 null values which could be customers who visited as guests, or people who simply did not sign in. \n",
    "\n",
    "Each website visitor, either signed in or not performs certain actions which are 'cancel', 'cart', 'department', 'home', 'product', 'purchase'\"\n",
    "\n",
    "**Why event type is important**\n",
    "\n",
    "These event types are valuable for:\n",
    "\n",
    "- Funnel analysis (home → department → product → cart → purchase)\n",
    "\n",
    "- Drop-off analysis (e.g., many reach cart but few purchase)\n",
    "\n",
    "- Engagement segmentation (users who only browse vs. those who purchase)\n",
    "\n",
    "- Personalization and recommendation logic"
   ]
  },
  {
   "cell_type": "markdown",
   "id": "f6919e2c-97e1-4095-b3f4-a1ebae89e4cf",
   "metadata": {},
   "source": [
    "**inventoryitems_df**"
   ]
  },
  {
   "cell_type": "code",
   "execution_count": 135,
   "id": "b6a436c3-5bfa-4307-b375-645c690d04f8",
   "metadata": {},
   "outputs": [
    {
     "data": {
      "text/plain": [
       "(490928, 12)"
      ]
     },
     "execution_count": 135,
     "metadata": {},
     "output_type": "execute_result"
    }
   ],
   "source": [
    "# number of columns and rows\n",
    "inventoryitems_df.shape"
   ]
  },
  {
   "cell_type": "code",
   "execution_count": 136,
   "id": "3b45ed65-d453-4101-8ef1-3c570f94828d",
   "metadata": {},
   "outputs": [
    {
     "name": "stdout",
     "output_type": "stream",
     "text": [
      "<class 'pandas.core.frame.DataFrame'>\n",
      "RangeIndex: 490928 entries, 0 to 490927\n",
      "Data columns (total 12 columns):\n",
      " #   Column                          Non-Null Count   Dtype              \n",
      "---  ------                          --------------   -----              \n",
      " 0   id                              490928 non-null  Int64              \n",
      " 1   product_id                      490928 non-null  Int64              \n",
      " 2   created_at                      490928 non-null  datetime64[us, UTC]\n",
      " 3   sold_at                         181691 non-null  datetime64[us, UTC]\n",
      " 4   cost                            490928 non-null  float64            \n",
      " 5   product_category                490928 non-null  object             \n",
      " 6   product_name                    490928 non-null  object             \n",
      " 7   product_brand                   490928 non-null  object             \n",
      " 8   product_retail_price            490928 non-null  float64            \n",
      " 9   product_department              490928 non-null  object             \n",
      " 10  product_sku                     490928 non-null  object             \n",
      " 11  product_distribution_center_id  490928 non-null  Int64              \n",
      "dtypes: Int64(3), datetime64[us, UTC](2), float64(2), object(5)\n",
      "memory usage: 46.4+ MB\n"
     ]
    }
   ],
   "source": [
    "# check data type\n",
    "inventoryitems_df.info()"
   ]
  },
  {
   "cell_type": "code",
   "execution_count": 137,
   "id": "19f3e570-7cc4-43f6-9b64-fd050c775c0b",
   "metadata": {},
   "outputs": [
    {
     "data": {
      "text/plain": [
       "id                                     0\n",
       "product_id                             0\n",
       "created_at                             0\n",
       "sold_at                           309237\n",
       "cost                                   0\n",
       "product_category                       0\n",
       "product_name                           0\n",
       "product_brand                          0\n",
       "product_retail_price                   0\n",
       "product_department                     0\n",
       "product_sku                            0\n",
       "product_distribution_center_id         0\n",
       "dtype: int64"
      ]
     },
     "execution_count": 137,
     "metadata": {},
     "output_type": "execute_result"
    }
   ],
   "source": [
    "# checking null value\n",
    "\n",
    "inventoryitems_df.isnull().sum()"
   ]
  },
  {
   "cell_type": "code",
   "execution_count": 138,
   "id": "760ed9bc-895d-4798-8e74-fa5673c037a0",
   "metadata": {},
   "outputs": [
    {
     "data": {
      "text/html": [
       "<div>\n",
       "<style scoped>\n",
       "    .dataframe tbody tr th:only-of-type {\n",
       "        vertical-align: middle;\n",
       "    }\n",
       "\n",
       "    .dataframe tbody tr th {\n",
       "        vertical-align: top;\n",
       "    }\n",
       "\n",
       "    .dataframe thead th {\n",
       "        text-align: right;\n",
       "    }\n",
       "</style>\n",
       "<table border=\"1\" class=\"dataframe\">\n",
       "  <thead>\n",
       "    <tr style=\"text-align: right;\">\n",
       "      <th></th>\n",
       "      <th>id</th>\n",
       "      <th>product_id</th>\n",
       "      <th>created_at</th>\n",
       "      <th>sold_at</th>\n",
       "      <th>cost</th>\n",
       "      <th>product_category</th>\n",
       "      <th>product_name</th>\n",
       "      <th>product_brand</th>\n",
       "      <th>product_retail_price</th>\n",
       "      <th>product_department</th>\n",
       "      <th>product_sku</th>\n",
       "      <th>product_distribution_center_id</th>\n",
       "    </tr>\n",
       "  </thead>\n",
       "  <tbody>\n",
       "    <tr>\n",
       "      <th>0</th>\n",
       "      <td>15151</td>\n",
       "      <td>13844</td>\n",
       "      <td>2024-04-18 18:12:12+00:00</td>\n",
       "      <td>2024-05-16 17:15:12+00:00</td>\n",
       "      <td>2.76804</td>\n",
       "      <td>Accessories</td>\n",
       "      <td>(ONE) 1 Satin Headband</td>\n",
       "      <td>Funny Girl Designs</td>\n",
       "      <td>6.99</td>\n",
       "      <td>Women</td>\n",
       "      <td>2A3E953A5E3D81E67945BCE5519F84C8</td>\n",
       "      <td>7</td>\n",
       "    </tr>\n",
       "    <tr>\n",
       "      <th>1</th>\n",
       "      <td>15152</td>\n",
       "      <td>13844</td>\n",
       "      <td>2020-12-16 16:34:00+00:00</td>\n",
       "      <td>NaT</td>\n",
       "      <td>2.76804</td>\n",
       "      <td>Accessories</td>\n",
       "      <td>(ONE) 1 Satin Headband</td>\n",
       "      <td>Funny Girl Designs</td>\n",
       "      <td>6.99</td>\n",
       "      <td>Women</td>\n",
       "      <td>2A3E953A5E3D81E67945BCE5519F84C8</td>\n",
       "      <td>7</td>\n",
       "    </tr>\n",
       "    <tr>\n",
       "      <th>2</th>\n",
       "      <td>15153</td>\n",
       "      <td>13844</td>\n",
       "      <td>2021-12-22 07:54:00+00:00</td>\n",
       "      <td>NaT</td>\n",
       "      <td>2.76804</td>\n",
       "      <td>Accessories</td>\n",
       "      <td>(ONE) 1 Satin Headband</td>\n",
       "      <td>Funny Girl Designs</td>\n",
       "      <td>6.99</td>\n",
       "      <td>Women</td>\n",
       "      <td>2A3E953A5E3D81E67945BCE5519F84C8</td>\n",
       "      <td>7</td>\n",
       "    </tr>\n",
       "    <tr>\n",
       "      <th>3</th>\n",
       "      <td>15154</td>\n",
       "      <td>13844</td>\n",
       "      <td>2023-10-02 01:15:00+00:00</td>\n",
       "      <td>NaT</td>\n",
       "      <td>2.76804</td>\n",
       "      <td>Accessories</td>\n",
       "      <td>(ONE) 1 Satin Headband</td>\n",
       "      <td>Funny Girl Designs</td>\n",
       "      <td>6.99</td>\n",
       "      <td>Women</td>\n",
       "      <td>2A3E953A5E3D81E67945BCE5519F84C8</td>\n",
       "      <td>7</td>\n",
       "    </tr>\n",
       "    <tr>\n",
       "      <th>4</th>\n",
       "      <td>56704</td>\n",
       "      <td>13844</td>\n",
       "      <td>2025-08-11 08:37:22.265669+00:00</td>\n",
       "      <td>2025-09-03 23:02:22.265669+00:00</td>\n",
       "      <td>2.76804</td>\n",
       "      <td>Accessories</td>\n",
       "      <td>(ONE) 1 Satin Headband</td>\n",
       "      <td>Funny Girl Designs</td>\n",
       "      <td>6.99</td>\n",
       "      <td>Women</td>\n",
       "      <td>2A3E953A5E3D81E67945BCE5519F84C8</td>\n",
       "      <td>7</td>\n",
       "    </tr>\n",
       "  </tbody>\n",
       "</table>\n",
       "</div>"
      ],
      "text/plain": [
       "      id  product_id                       created_at  \\\n",
       "0  15151       13844        2024-04-18 18:12:12+00:00   \n",
       "1  15152       13844        2020-12-16 16:34:00+00:00   \n",
       "2  15153       13844        2021-12-22 07:54:00+00:00   \n",
       "3  15154       13844        2023-10-02 01:15:00+00:00   \n",
       "4  56704       13844 2025-08-11 08:37:22.265669+00:00   \n",
       "\n",
       "                           sold_at     cost product_category  \\\n",
       "0        2024-05-16 17:15:12+00:00  2.76804      Accessories   \n",
       "1                              NaT  2.76804      Accessories   \n",
       "2                              NaT  2.76804      Accessories   \n",
       "3                              NaT  2.76804      Accessories   \n",
       "4 2025-09-03 23:02:22.265669+00:00  2.76804      Accessories   \n",
       "\n",
       "             product_name       product_brand  product_retail_price  \\\n",
       "0  (ONE) 1 Satin Headband  Funny Girl Designs                  6.99   \n",
       "1  (ONE) 1 Satin Headband  Funny Girl Designs                  6.99   \n",
       "2  (ONE) 1 Satin Headband  Funny Girl Designs                  6.99   \n",
       "3  (ONE) 1 Satin Headband  Funny Girl Designs                  6.99   \n",
       "4  (ONE) 1 Satin Headband  Funny Girl Designs                  6.99   \n",
       "\n",
       "  product_department                       product_sku  \\\n",
       "0              Women  2A3E953A5E3D81E67945BCE5519F84C8   \n",
       "1              Women  2A3E953A5E3D81E67945BCE5519F84C8   \n",
       "2              Women  2A3E953A5E3D81E67945BCE5519F84C8   \n",
       "3              Women  2A3E953A5E3D81E67945BCE5519F84C8   \n",
       "4              Women  2A3E953A5E3D81E67945BCE5519F84C8   \n",
       "\n",
       "   product_distribution_center_id  \n",
       "0                               7  \n",
       "1                               7  \n",
       "2                               7  \n",
       "3                               7  \n",
       "4                               7  "
      ]
     },
     "execution_count": 138,
     "metadata": {},
     "output_type": "execute_result"
    }
   ],
   "source": [
    "inventoryitems_df.head()"
   ]
  },
  {
   "cell_type": "markdown",
   "id": "87c7873f-01bf-4e8a-af0c-509ccbc71a68",
   "metadata": {},
   "source": [
    "**inventoryitems_df null values**\n",
    "\n",
    "All features has 0 null values excpet sold_at with 307760 null values, this shows items that haven't been sold"
   ]
  },
  {
   "cell_type": "markdown",
   "id": "1331e34e-f34c-4d03-91f0-305caf039c53",
   "metadata": {},
   "source": [
    "**orderitems_df**"
   ]
  },
  {
   "cell_type": "code",
   "execution_count": 139,
   "id": "ad62fbaa-a4e0-4326-9ea7-170eac501991",
   "metadata": {},
   "outputs": [
    {
     "data": {
      "text/plain": [
       "(181691, 11)"
      ]
     },
     "execution_count": 139,
     "metadata": {},
     "output_type": "execute_result"
    }
   ],
   "source": [
    "# numbert of columns and rows\n",
    "orderitems_df.shape"
   ]
  },
  {
   "cell_type": "code",
   "execution_count": 140,
   "id": "0a3d7a2a-cfc6-44c2-adb5-3a9dc7c4d218",
   "metadata": {},
   "outputs": [
    {
     "data": {
      "text/plain": [
       "id                        0\n",
       "order_id                  0\n",
       "user_id                   0\n",
       "product_id                0\n",
       "inventory_item_id         0\n",
       "status                    0\n",
       "created_at                0\n",
       "shipped_at            63872\n",
       "delivered_at         117971\n",
       "returned_at          163282\n",
       "sale_price                0\n",
       "dtype: int64"
      ]
     },
     "execution_count": 140,
     "metadata": {},
     "output_type": "execute_result"
    }
   ],
   "source": [
    "# null values\n",
    "orderitems_df.isnull().sum()"
   ]
  },
  {
   "cell_type": "code",
   "execution_count": 141,
   "id": "bf91fdbc-7ad5-4527-a99e-c7613b09d7c8",
   "metadata": {},
   "outputs": [
    {
     "name": "stdout",
     "output_type": "stream",
     "text": [
      "<class 'pandas.core.frame.DataFrame'>\n",
      "RangeIndex: 181691 entries, 0 to 181690\n",
      "Data columns (total 11 columns):\n",
      " #   Column             Non-Null Count   Dtype              \n",
      "---  ------             --------------   -----              \n",
      " 0   id                 181691 non-null  Int64              \n",
      " 1   order_id           181691 non-null  Int64              \n",
      " 2   user_id            181691 non-null  Int64              \n",
      " 3   product_id         181691 non-null  Int64              \n",
      " 4   inventory_item_id  181691 non-null  Int64              \n",
      " 5   status             181691 non-null  object             \n",
      " 6   created_at         181691 non-null  datetime64[us, UTC]\n",
      " 7   shipped_at         117819 non-null  datetime64[us, UTC]\n",
      " 8   delivered_at       63720 non-null   datetime64[us, UTC]\n",
      " 9   returned_at        18409 non-null   datetime64[us, UTC]\n",
      " 10  sale_price         181691 non-null  float64            \n",
      "dtypes: Int64(5), datetime64[us, UTC](4), float64(1), object(1)\n",
      "memory usage: 16.1+ MB\n"
     ]
    }
   ],
   "source": [
    "orderitems_df.info()"
   ]
  },
  {
   "cell_type": "markdown",
   "id": "bd8a3607-ff14-4f15-afc1-53a996cd36e6",
   "metadata": {},
   "source": [
    "**orderitems_df null values**\n",
    "\n",
    "63,457 orders have not been shipped yet or could indicate cancelled orders . 117650 indicates orders that were never delivered and 162843 shows the number of items that were never delivered. "
   ]
  },
  {
   "cell_type": "markdown",
   "id": "4a7a0e61-994d-41a8-9bf3-8812aa278e54",
   "metadata": {},
   "source": [
    "**products_df**"
   ]
  },
  {
   "cell_type": "code",
   "execution_count": 142,
   "id": "68566306-57aa-4f32-a3a2-f830d723761e",
   "metadata": {},
   "outputs": [
    {
     "data": {
      "text/plain": [
       "(29120, 9)"
      ]
     },
     "execution_count": 142,
     "metadata": {},
     "output_type": "execute_result"
    }
   ],
   "source": [
    "# number of rows and columns\n",
    "products_df.shape\n"
   ]
  },
  {
   "cell_type": "code",
   "execution_count": 143,
   "id": "3e0a3925-40f9-420f-8e5e-98a38ae9c680",
   "metadata": {},
   "outputs": [
    {
     "name": "stdout",
     "output_type": "stream",
     "text": [
      "<class 'pandas.core.frame.DataFrame'>\n",
      "RangeIndex: 29120 entries, 0 to 29119\n",
      "Data columns (total 9 columns):\n",
      " #   Column                  Non-Null Count  Dtype  \n",
      "---  ------                  --------------  -----  \n",
      " 0   id                      29120 non-null  Int64  \n",
      " 1   cost                    29120 non-null  float64\n",
      " 2   category                29120 non-null  object \n",
      " 3   name                    29118 non-null  object \n",
      " 4   brand                   29096 non-null  object \n",
      " 5   retail_price            29120 non-null  float64\n",
      " 6   department              29120 non-null  object \n",
      " 7   sku                     29120 non-null  object \n",
      " 8   distribution_center_id  29120 non-null  Int64  \n",
      "dtypes: Int64(2), float64(2), object(5)\n",
      "memory usage: 2.1+ MB\n"
     ]
    }
   ],
   "source": [
    "products_df.info()"
   ]
  },
  {
   "cell_type": "code",
   "execution_count": 144,
   "id": "32e9bc42-c5f9-41a8-837c-7da18c6ff652",
   "metadata": {},
   "outputs": [
    {
     "data": {
      "text/plain": [
       "id                         0\n",
       "cost                       0\n",
       "category                   0\n",
       "name                       2\n",
       "brand                     24\n",
       "retail_price               0\n",
       "department                 0\n",
       "sku                        0\n",
       "distribution_center_id     0\n",
       "dtype: int64"
      ]
     },
     "execution_count": 144,
     "metadata": {},
     "output_type": "execute_result"
    }
   ],
   "source": [
    "# check null value\n",
    "\n",
    "products_df.isnull().sum()"
   ]
  },
  {
   "cell_type": "code",
   "execution_count": 145,
   "id": "b089b0f0-5cec-478d-b7b0-61be73ae3a22",
   "metadata": {},
   "outputs": [],
   "source": [
    "# replace null brand values with unknown\n",
    "\n",
    "products_df['brand'] = products_df['brand'].fillna('unknown')"
   ]
  },
  {
   "cell_type": "code",
   "execution_count": 146,
   "id": "b357889d-4ec9-4f0d-aae7-17d8731bb644",
   "metadata": {},
   "outputs": [
    {
     "data": {
      "text/html": [
       "<div>\n",
       "<style scoped>\n",
       "    .dataframe tbody tr th:only-of-type {\n",
       "        vertical-align: middle;\n",
       "    }\n",
       "\n",
       "    .dataframe tbody tr th {\n",
       "        vertical-align: top;\n",
       "    }\n",
       "\n",
       "    .dataframe thead th {\n",
       "        text-align: right;\n",
       "    }\n",
       "</style>\n",
       "<table border=\"1\" class=\"dataframe\">\n",
       "  <thead>\n",
       "    <tr style=\"text-align: right;\">\n",
       "      <th></th>\n",
       "      <th>id</th>\n",
       "      <th>cost</th>\n",
       "      <th>category</th>\n",
       "      <th>name</th>\n",
       "      <th>brand</th>\n",
       "      <th>retail_price</th>\n",
       "      <th>department</th>\n",
       "      <th>sku</th>\n",
       "      <th>distribution_center_id</th>\n",
       "    </tr>\n",
       "  </thead>\n",
       "  <tbody>\n",
       "    <tr>\n",
       "      <th>3247</th>\n",
       "      <td>12586</td>\n",
       "      <td>18.972000</td>\n",
       "      <td>Intimates</td>\n",
       "      <td>None</td>\n",
       "      <td>Josie by Natori</td>\n",
       "      <td>36.000000</td>\n",
       "      <td>Women</td>\n",
       "      <td>A7EA034186E14FB5F7B37CF664893CD2</td>\n",
       "      <td>1</td>\n",
       "    </tr>\n",
       "    <tr>\n",
       "      <th>5588</th>\n",
       "      <td>24455</td>\n",
       "      <td>67.335453</td>\n",
       "      <td>Outerwear &amp; Coats</td>\n",
       "      <td>None</td>\n",
       "      <td>Tru-Spec</td>\n",
       "      <td>147.990005</td>\n",
       "      <td>Men</td>\n",
       "      <td>B290A635641F585B3DD6B95FD42DC267</td>\n",
       "      <td>2</td>\n",
       "    </tr>\n",
       "  </tbody>\n",
       "</table>\n",
       "</div>"
      ],
      "text/plain": [
       "         id       cost           category  name            brand  \\\n",
       "3247  12586  18.972000          Intimates  None  Josie by Natori   \n",
       "5588  24455  67.335453  Outerwear & Coats  None         Tru-Spec   \n",
       "\n",
       "      retail_price department                               sku  \\\n",
       "3247     36.000000      Women  A7EA034186E14FB5F7B37CF664893CD2   \n",
       "5588    147.990005        Men  B290A635641F585B3DD6B95FD42DC267   \n",
       "\n",
       "      distribution_center_id  \n",
       "3247                       1  \n",
       "5588                       2  "
      ]
     },
     "execution_count": 146,
     "metadata": {},
     "output_type": "execute_result"
    }
   ],
   "source": [
    "# products without name\n",
    "\n",
    "products_df[products_df['name'].isnull()]"
   ]
  },
  {
   "cell_type": "code",
   "execution_count": 147,
   "id": "4893f080-c195-4c3c-96ca-fb0675f4e9cd",
   "metadata": {},
   "outputs": [],
   "source": [
    "# drop null values in name\n",
    "\n",
    "products_df = products_df.dropna(subset = ['name'])"
   ]
  },
  {
   "cell_type": "markdown",
   "id": "b0007108-aa0d-49bd-9a6b-e4cded55a44c",
   "metadata": {},
   "source": [
    "**users_df**"
   ]
  },
  {
   "cell_type": "code",
   "execution_count": 148,
   "id": "50a25ae9-9729-44c4-8970-3001ab70c610",
   "metadata": {},
   "outputs": [
    {
     "data": {
      "text/plain": [
       "(100000, 16)"
      ]
     },
     "execution_count": 148,
     "metadata": {},
     "output_type": "execute_result"
    }
   ],
   "source": [
    "# for number of rows and columns\n",
    "users_df.shape"
   ]
  },
  {
   "cell_type": "code",
   "execution_count": 149,
   "id": "760cdfaf-ac7c-4e45-b6d8-26d3a15d3d36",
   "metadata": {},
   "outputs": [
    {
     "name": "stdout",
     "output_type": "stream",
     "text": [
      "<class 'pandas.core.frame.DataFrame'>\n",
      "RangeIndex: 100000 entries, 0 to 99999\n",
      "Data columns (total 16 columns):\n",
      " #   Column          Non-Null Count   Dtype              \n",
      "---  ------          --------------   -----              \n",
      " 0   id              100000 non-null  Int64              \n",
      " 1   first_name      100000 non-null  object             \n",
      " 2   last_name       100000 non-null  object             \n",
      " 3   email           100000 non-null  object             \n",
      " 4   age             100000 non-null  Int64              \n",
      " 5   gender          100000 non-null  object             \n",
      " 6   state           100000 non-null  object             \n",
      " 7   street_address  100000 non-null  object             \n",
      " 8   postal_code     100000 non-null  object             \n",
      " 9   city            100000 non-null  object             \n",
      " 10  country         100000 non-null  object             \n",
      " 11  latitude        100000 non-null  float64            \n",
      " 12  longitude       100000 non-null  float64            \n",
      " 13  traffic_source  100000 non-null  object             \n",
      " 14  created_at      100000 non-null  datetime64[us, UTC]\n",
      " 15  user_geom       100000 non-null  object             \n",
      "dtypes: Int64(2), datetime64[us, UTC](1), float64(2), object(11)\n",
      "memory usage: 12.4+ MB\n"
     ]
    }
   ],
   "source": [
    "users_df.info()"
   ]
  },
  {
   "cell_type": "code",
   "execution_count": 150,
   "id": "63657061-1f20-480b-8e64-7ac4cdd5b384",
   "metadata": {},
   "outputs": [
    {
     "data": {
      "text/plain": [
       "id                0\n",
       "first_name        0\n",
       "last_name         0\n",
       "email             0\n",
       "age               0\n",
       "gender            0\n",
       "state             0\n",
       "street_address    0\n",
       "postal_code       0\n",
       "city              0\n",
       "country           0\n",
       "latitude          0\n",
       "longitude         0\n",
       "traffic_source    0\n",
       "created_at        0\n",
       "user_geom         0\n",
       "dtype: int64"
      ]
     },
     "execution_count": 150,
     "metadata": {},
     "output_type": "execute_result"
    }
   ],
   "source": [
    "# Null values\n",
    "\n",
    "users_df.isnull().sum()"
   ]
  },
  {
   "cell_type": "markdown",
   "id": "7fe8c72c-835a-4fd4-8016-690afa155632",
   "metadata": {},
   "source": [
    "## Creating a Mastersheet "
   ]
  },
  {
   "cell_type": "markdown",
   "id": "502d30ec-423c-44f4-a354-b4d03d4cfaa6",
   "metadata": {},
   "source": [
    "**join order_df and users_df on user_id**"
   ]
  },
  {
   "cell_type": "code",
   "execution_count": 151,
   "id": "25ba49d4-fb8b-40c4-808d-33f825cc52a9",
   "metadata": {},
   "outputs": [
    {
     "name": "stdout",
     "output_type": "stream",
     "text": [
      "order_df columns : Index(['order_id', 'user_id', 'status', 'gender', 'created_at', 'returned_at',\n",
      "       'shipped_at', 'delivered_at', 'num_of_item'],\n",
      "      dtype='object')\n",
      "users_df columns : Index(['id', 'first_name', 'last_name', 'email', 'age', 'gender', 'state',\n",
      "       'street_address', 'postal_code', 'city', 'country', 'latitude',\n",
      "       'longitude', 'traffic_source', 'created_at', 'user_geom'],\n",
      "      dtype='object')\n"
     ]
    }
   ],
   "source": [
    "#check the columns in each table and drop duplicates before merging\n",
    "print(f'order_df columns : {orders_df.columns}')\n",
    "\n",
    "\n",
    "print(f'users_df columns : {users_df.columns}')"
   ]
  },
  {
   "cell_type": "code",
   "execution_count": 152,
   "id": "c48fac79-304f-4f55-95d1-1c3ad7529b4c",
   "metadata": {},
   "outputs": [],
   "source": [
    "# a function to identify duplicates columns \n",
    "\n",
    "def duplicates(x, y):\n",
    "    ''' These function check the columns in \n",
    "    two tables and identify over lapping columns\n",
    "    '''\n",
    "    return [c for c in x.columns if c in y.columns]"
   ]
  },
  {
   "cell_type": "code",
   "execution_count": 153,
   "id": "f5bf8bfa-ee48-4593-adfe-22d15e858707",
   "metadata": {},
   "outputs": [
    {
     "data": {
      "text/plain": [
       "['gender', 'created_at']"
      ]
     },
     "execution_count": 153,
     "metadata": {},
     "output_type": "execute_result"
    }
   ],
   "source": [
    "# check the columns in users_df and orders_df \n",
    "\n",
    "duplicates(orders_df, users_df)"
   ]
  },
  {
   "cell_type": "markdown",
   "id": "6dbbb174-bc3c-4795-b490-cf03ad6619f9",
   "metadata": {},
   "source": [
    "#### Over lapping columns.\n",
    "\n",
    "'gender', 'created_at' are both in orders_df and users_df tables. The gender column will be dropped from the order_df table.   The created_at will be renamed for both columns. users_df['created_at'] indicates the account creation date while orders_df['created_at] indicates order creation date. \n",
    "Both columns serves different purposes.  \n",
    "\n",
    "`users_df['created_at']` will be renamed as `user_created_at`\n",
    "`orders['created_at']` will be renamed as `order_created_at`"
   ]
  },
  {
   "cell_type": "code",
   "execution_count": 154,
   "id": "0f7ae0c5-51e0-4791-863e-4715a806ede8",
   "metadata": {},
   "outputs": [],
   "source": [
    "# drop gender column\n",
    "\n",
    "orders_df = orders_df.drop(columns = 'gender')"
   ]
  },
  {
   "cell_type": "code",
   "execution_count": 155,
   "id": "a2c23be1-fd0c-4536-b293-5733f87b83ad",
   "metadata": {},
   "outputs": [],
   "source": [
    "# rename created_at columns\n",
    "orders_df = orders_df.rename(columns = {'created_at': 'order_created_at'})\n",
    "users_df = users_df.rename(columns = {'created_at': 'user_created_at'})"
   ]
  },
  {
   "cell_type": "code",
   "execution_count": 156,
   "id": "180b5ded-fb9c-48f0-a909-49e2ffb254e2",
   "metadata": {},
   "outputs": [
    {
     "data": {
      "text/html": [
       "<div>\n",
       "<style scoped>\n",
       "    .dataframe tbody tr th:only-of-type {\n",
       "        vertical-align: middle;\n",
       "    }\n",
       "\n",
       "    .dataframe tbody tr th {\n",
       "        vertical-align: top;\n",
       "    }\n",
       "\n",
       "    .dataframe thead th {\n",
       "        text-align: right;\n",
       "    }\n",
       "</style>\n",
       "<table border=\"1\" class=\"dataframe\">\n",
       "  <thead>\n",
       "    <tr style=\"text-align: right;\">\n",
       "      <th></th>\n",
       "      <th>order_id</th>\n",
       "      <th>user_id</th>\n",
       "      <th>status</th>\n",
       "      <th>order_created_at</th>\n",
       "      <th>returned_at</th>\n",
       "      <th>shipped_at</th>\n",
       "      <th>delivered_at</th>\n",
       "      <th>num_of_item</th>\n",
       "      <th>id</th>\n",
       "      <th>first_name</th>\n",
       "      <th>...</th>\n",
       "      <th>state</th>\n",
       "      <th>street_address</th>\n",
       "      <th>postal_code</th>\n",
       "      <th>city</th>\n",
       "      <th>country</th>\n",
       "      <th>latitude</th>\n",
       "      <th>longitude</th>\n",
       "      <th>traffic_source</th>\n",
       "      <th>user_created_at</th>\n",
       "      <th>user_geom</th>\n",
       "    </tr>\n",
       "  </thead>\n",
       "  <tbody>\n",
       "    <tr>\n",
       "      <th>0</th>\n",
       "      <td>22</td>\n",
       "      <td>15</td>\n",
       "      <td>Cancelled</td>\n",
       "      <td>2023-04-17 05:26:00+00:00</td>\n",
       "      <td>NaT</td>\n",
       "      <td>NaT</td>\n",
       "      <td>NaT</td>\n",
       "      <td>2</td>\n",
       "      <td>15</td>\n",
       "      <td>Teresa</td>\n",
       "      <td>...</td>\n",
       "      <td>Georgia</td>\n",
       "      <td>720 Stevenson Plain Suite 527</td>\n",
       "      <td>30350</td>\n",
       "      <td>Sandy Springs</td>\n",
       "      <td>United States</td>\n",
       "      <td>33.979242</td>\n",
       "      <td>-84.332687</td>\n",
       "      <td>Search</td>\n",
       "      <td>2021-01-31 05:26:00+00:00</td>\n",
       "      <td>POINT(-84.33268656 33.97924213)</td>\n",
       "    </tr>\n",
       "    <tr>\n",
       "      <th>1</th>\n",
       "      <td>24</td>\n",
       "      <td>17</td>\n",
       "      <td>Cancelled</td>\n",
       "      <td>2025-04-24 04:35:00+00:00</td>\n",
       "      <td>NaT</td>\n",
       "      <td>NaT</td>\n",
       "      <td>NaT</td>\n",
       "      <td>1</td>\n",
       "      <td>17</td>\n",
       "      <td>Sierra</td>\n",
       "      <td>...</td>\n",
       "      <td>Texas</td>\n",
       "      <td>204 Charles Ports Suite 001</td>\n",
       "      <td>79912</td>\n",
       "      <td>El Paso</td>\n",
       "      <td>United States</td>\n",
       "      <td>31.849959</td>\n",
       "      <td>-106.535251</td>\n",
       "      <td>Organic</td>\n",
       "      <td>2024-12-09 04:35:00+00:00</td>\n",
       "      <td>POINT(-106.5352514 31.84995945)</td>\n",
       "    </tr>\n",
       "    <tr>\n",
       "      <th>2</th>\n",
       "      <td>40</td>\n",
       "      <td>29</td>\n",
       "      <td>Cancelled</td>\n",
       "      <td>2025-02-13 11:57:00+00:00</td>\n",
       "      <td>NaT</td>\n",
       "      <td>NaT</td>\n",
       "      <td>NaT</td>\n",
       "      <td>2</td>\n",
       "      <td>29</td>\n",
       "      <td>Emily</td>\n",
       "      <td>...</td>\n",
       "      <td>Rhode Island</td>\n",
       "      <td>469 Kimberly Village Suite 388</td>\n",
       "      <td>2908</td>\n",
       "      <td>Providence</td>\n",
       "      <td>United States</td>\n",
       "      <td>41.839166</td>\n",
       "      <td>-71.436523</td>\n",
       "      <td>Email</td>\n",
       "      <td>2020-04-22 11:57:00+00:00</td>\n",
       "      <td>POINT(-71.43652252 41.83916621)</td>\n",
       "    </tr>\n",
       "    <tr>\n",
       "      <th>3</th>\n",
       "      <td>58</td>\n",
       "      <td>40</td>\n",
       "      <td>Cancelled</td>\n",
       "      <td>2024-01-03 02:22:00+00:00</td>\n",
       "      <td>NaT</td>\n",
       "      <td>NaT</td>\n",
       "      <td>NaT</td>\n",
       "      <td>4</td>\n",
       "      <td>40</td>\n",
       "      <td>Deborah</td>\n",
       "      <td>...</td>\n",
       "      <td>Heilongjiang</td>\n",
       "      <td>789 White Row Suite 249</td>\n",
       "      <td>163711</td>\n",
       "      <td>Shijiazhuang</td>\n",
       "      <td>China</td>\n",
       "      <td>46.488684</td>\n",
       "      <td>125.093912</td>\n",
       "      <td>Organic</td>\n",
       "      <td>2023-07-26 02:22:00+00:00</td>\n",
       "      <td>POINT(125.093912 46.48868408)</td>\n",
       "    </tr>\n",
       "    <tr>\n",
       "      <th>4</th>\n",
       "      <td>74</td>\n",
       "      <td>53</td>\n",
       "      <td>Cancelled</td>\n",
       "      <td>2025-02-13 00:44:00+00:00</td>\n",
       "      <td>NaT</td>\n",
       "      <td>NaT</td>\n",
       "      <td>NaT</td>\n",
       "      <td>1</td>\n",
       "      <td>53</td>\n",
       "      <td>Diane</td>\n",
       "      <td>...</td>\n",
       "      <td>Santa Catarina</td>\n",
       "      <td>1305 Casey Greens Apt. 975</td>\n",
       "      <td>88010-400</td>\n",
       "      <td>Florianópolis</td>\n",
       "      <td>Brasil</td>\n",
       "      <td>-27.579759</td>\n",
       "      <td>-48.545536</td>\n",
       "      <td>Organic</td>\n",
       "      <td>2024-08-28 00:44:00+00:00</td>\n",
       "      <td>POINT(-48.54553606 -27.57975864)</td>\n",
       "    </tr>\n",
       "  </tbody>\n",
       "</table>\n",
       "<p>5 rows × 24 columns</p>\n",
       "</div>"
      ],
      "text/plain": [
       "   order_id  user_id     status          order_created_at returned_at  \\\n",
       "0        22       15  Cancelled 2023-04-17 05:26:00+00:00         NaT   \n",
       "1        24       17  Cancelled 2025-04-24 04:35:00+00:00         NaT   \n",
       "2        40       29  Cancelled 2025-02-13 11:57:00+00:00         NaT   \n",
       "3        58       40  Cancelled 2024-01-03 02:22:00+00:00         NaT   \n",
       "4        74       53  Cancelled 2025-02-13 00:44:00+00:00         NaT   \n",
       "\n",
       "  shipped_at delivered_at  num_of_item  id first_name  ...           state  \\\n",
       "0        NaT          NaT            2  15     Teresa  ...         Georgia   \n",
       "1        NaT          NaT            1  17     Sierra  ...           Texas   \n",
       "2        NaT          NaT            2  29      Emily  ...    Rhode Island   \n",
       "3        NaT          NaT            4  40    Deborah  ...    Heilongjiang   \n",
       "4        NaT          NaT            1  53      Diane  ...  Santa Catarina   \n",
       "\n",
       "                   street_address  postal_code           city        country  \\\n",
       "0   720 Stevenson Plain Suite 527        30350  Sandy Springs  United States   \n",
       "1     204 Charles Ports Suite 001        79912        El Paso  United States   \n",
       "2  469 Kimberly Village Suite 388         2908     Providence  United States   \n",
       "3         789 White Row Suite 249       163711   Shijiazhuang          China   \n",
       "4      1305 Casey Greens Apt. 975    88010-400  Florianópolis         Brasil   \n",
       "\n",
       "    latitude   longitude traffic_source           user_created_at  \\\n",
       "0  33.979242  -84.332687         Search 2021-01-31 05:26:00+00:00   \n",
       "1  31.849959 -106.535251        Organic 2024-12-09 04:35:00+00:00   \n",
       "2  41.839166  -71.436523          Email 2020-04-22 11:57:00+00:00   \n",
       "3  46.488684  125.093912        Organic 2023-07-26 02:22:00+00:00   \n",
       "4 -27.579759  -48.545536        Organic 2024-08-28 00:44:00+00:00   \n",
       "\n",
       "                          user_geom  \n",
       "0   POINT(-84.33268656 33.97924213)  \n",
       "1   POINT(-106.5352514 31.84995945)  \n",
       "2   POINT(-71.43652252 41.83916621)  \n",
       "3     POINT(125.093912 46.48868408)  \n",
       "4  POINT(-48.54553606 -27.57975864)  \n",
       "\n",
       "[5 rows x 24 columns]"
      ]
     },
     "execution_count": 156,
     "metadata": {},
     "output_type": "execute_result"
    }
   ],
   "source": [
    "#merge the two tables\n",
    "user_orders = orders_df.merge(users_df, left_on = 'user_id', right_on = 'id', how = 'inner' )\n",
    "user_orders.head()"
   ]
  },
  {
   "cell_type": "code",
   "execution_count": 157,
   "id": "6ec2241a-421a-4dad-b1aa-81070628dfc7",
   "metadata": {},
   "outputs": [],
   "source": [
    "# user_id and id represents the same features... id will be dropped\n",
    "\n",
    "user_orders = user_orders.drop(columns = 'id')"
   ]
  },
  {
   "cell_type": "code",
   "execution_count": 158,
   "id": "caecc623-be91-44f7-a0fc-f0e9a3e3033d",
   "metadata": {},
   "outputs": [],
   "source": [
    "# Write a function to check the quality of merged table \n",
    "\n",
    "def quality(df):\n",
    "    ''' check shape null values and duplicated rows\n",
    "    after merging tabl;es\n",
    "    '''\n",
    "    print('Shape of merged tables :', df.shape)\n",
    "    print( '\\nMissing values : \\n', df.isnull().sum())\n",
    "    print('\\nNumber of Duplicate Rows:', df.duplicated().sum())"
   ]
  },
  {
   "cell_type": "code",
   "execution_count": 159,
   "id": "57dc8694-5b8b-4ee3-99fb-ab1c1db57394",
   "metadata": {},
   "outputs": [
    {
     "name": "stdout",
     "output_type": "stream",
     "text": [
      "Shape of merged tables : (125155, 23)\n",
      "\n",
      "Missing values : \n",
      " order_id                 0\n",
      "user_id                  0\n",
      "status                   0\n",
      "order_created_at         0\n",
      "returned_at         112566\n",
      "shipped_at           44043\n",
      "delivered_at         81334\n",
      "num_of_item              0\n",
      "first_name               0\n",
      "last_name                0\n",
      "email                    0\n",
      "age                      0\n",
      "gender                   0\n",
      "state                    0\n",
      "street_address           0\n",
      "postal_code              0\n",
      "city                     0\n",
      "country                  0\n",
      "latitude                 0\n",
      "longitude                0\n",
      "traffic_source           0\n",
      "user_created_at          0\n",
      "user_geom                0\n",
      "dtype: int64\n",
      "\n",
      "Number of Duplicate Rows: 0\n"
     ]
    }
   ],
   "source": [
    "# check for null, duplicates and shape of user_orders\n",
    "\n",
    "quality(user_orders)"
   ]
  },
  {
   "cell_type": "markdown",
   "id": "6b542120-ec3c-4d50-86fa-7ccbac7842da",
   "metadata": {},
   "source": [
    "#### Merge orderitems_df with user_orders"
   ]
  },
  {
   "cell_type": "code",
   "execution_count": 160,
   "id": "86181cb7-f495-4ef0-a22e-5b7d347f21f7",
   "metadata": {},
   "outputs": [
    {
     "data": {
      "text/plain": [
       "['order_id', 'user_id', 'status', 'shipped_at', 'delivered_at', 'returned_at']"
      ]
     },
     "execution_count": 160,
     "metadata": {},
     "output_type": "execute_result"
    }
   ],
   "source": [
    "# using the function, check for overlapping columns\n",
    "duplicates(orderitems_df, user_orders)"
   ]
  },
  {
   "cell_type": "markdown",
   "id": "5abef3e0-a989-4197-8fbd-446fd223a1ec",
   "metadata": {},
   "source": [
    "#### House keeping\n",
    "\n",
    "`orderitems_df` and `user_orders` will be merged on `order_id`, hence, `user_id` will be dropped from orderitems_df. Status, shipped_at, delivered_at, returned_at in order_items_df captures unique information  at the item level in an order. \n",
    "Hence, Status, 'shipped_at', 'delivered_at', 'returned_at in user_orders will be dropped too, this is because the analysis is focused on item_level and not at the order level."
   ]
  },
  {
   "cell_type": "code",
   "execution_count": 161,
   "id": "c447bc5e-9ab0-4b51-b548-0f58c4ed1105",
   "metadata": {},
   "outputs": [],
   "source": [
    "# dropping over lapping columns in user_orders\n",
    "\n",
    "user_orders = user_orders.drop(columns = ['status', 'shipped_at', 'delivered_at', 'returned_at'])\n",
    "\n",
    "# dropping user_id in orderitems_df\n",
    "\n",
    "orderitems_df = orderitems_df.drop(columns = 'user_id')"
   ]
  },
  {
   "cell_type": "code",
   "execution_count": 162,
   "id": "4c4916b8-4795-400d-bb61-f23893f670b8",
   "metadata": {},
   "outputs": [],
   "source": [
    "# rename id in orderitems_df as this shows the id of each item in an order\n",
    "orderitems_df = orderitems_df.rename(columns = {'id' : 'orderitem_id' })"
   ]
  },
  {
   "cell_type": "code",
   "execution_count": 163,
   "id": "658fa925-d13c-49f7-8d68-ac8362624e3d",
   "metadata": {},
   "outputs": [
    {
     "data": {
      "text/plain": [
       "['order_id']"
      ]
     },
     "execution_count": 163,
     "metadata": {},
     "output_type": "execute_result"
    }
   ],
   "source": [
    "# House keeping \n",
    "''' check for over lapping columns\n",
    "'''\n",
    "\n",
    "duplicates(orderitems_df, user_orders)"
   ]
  },
  {
   "cell_type": "code",
   "execution_count": 164,
   "id": "32d8c45a-b85d-4415-a3cb-a86fcfd1b82f",
   "metadata": {},
   "outputs": [],
   "source": [
    "# merge orderitems_d & user_orders\n",
    "\n",
    "complete_orders_df = orderitems_df.merge(user_orders, on = 'order_id', how = 'inner')"
   ]
  },
  {
   "cell_type": "code",
   "execution_count": 165,
   "id": "6444965b-e216-487f-b93f-311b263fa04a",
   "metadata": {},
   "outputs": [
    {
     "data": {
      "text/plain": [
       "(181691, 28)"
      ]
     },
     "execution_count": 165,
     "metadata": {},
     "output_type": "execute_result"
    }
   ],
   "source": [
    "#confirm shape\n",
    "complete_orders_df.shape"
   ]
  },
  {
   "cell_type": "code",
   "execution_count": 166,
   "id": "db0d9744-760e-4385-9a80-afac409098ed",
   "metadata": {
    "scrolled": true
   },
   "outputs": [
    {
     "name": "stdout",
     "output_type": "stream",
     "text": [
      "Shape of merged tables : (181691, 28)\n",
      "\n",
      "Missing values : \n",
      " orderitem_id              0\n",
      "order_id                  0\n",
      "product_id                0\n",
      "inventory_item_id         0\n",
      "status                    0\n",
      "created_at                0\n",
      "shipped_at            63872\n",
      "delivered_at         117971\n",
      "returned_at          163282\n",
      "sale_price                0\n",
      "user_id                   0\n",
      "order_created_at          0\n",
      "num_of_item               0\n",
      "first_name                0\n",
      "last_name                 0\n",
      "email                     0\n",
      "age                       0\n",
      "gender                    0\n",
      "state                     0\n",
      "street_address            0\n",
      "postal_code               0\n",
      "city                      0\n",
      "country                   0\n",
      "latitude                  0\n",
      "longitude                 0\n",
      "traffic_source            0\n",
      "user_created_at           0\n",
      "user_geom                 0\n",
      "dtype: int64\n",
      "\n",
      "Number of Duplicate Rows: 0\n"
     ]
    }
   ],
   "source": [
    "quality(complete_orders_df)"
   ]
  },
  {
   "cell_type": "markdown",
   "id": "7cc931df-f568-405c-9734-0b4371e55f1d",
   "metadata": {},
   "source": [
    "#### Merge inventoryitems_df and complete_orders_df"
   ]
  },
  {
   "cell_type": "code",
   "execution_count": 167,
   "id": "a01fa1b2-1c05-4f99-9bde-9be0c3bdbc2e",
   "metadata": {},
   "outputs": [
    {
     "data": {
      "text/html": [
       "<div>\n",
       "<style scoped>\n",
       "    .dataframe tbody tr th:only-of-type {\n",
       "        vertical-align: middle;\n",
       "    }\n",
       "\n",
       "    .dataframe tbody tr th {\n",
       "        vertical-align: top;\n",
       "    }\n",
       "\n",
       "    .dataframe thead th {\n",
       "        text-align: right;\n",
       "    }\n",
       "</style>\n",
       "<table border=\"1\" class=\"dataframe\">\n",
       "  <thead>\n",
       "    <tr style=\"text-align: right;\">\n",
       "      <th></th>\n",
       "      <th>id</th>\n",
       "      <th>product_id</th>\n",
       "      <th>created_at</th>\n",
       "      <th>sold_at</th>\n",
       "      <th>cost</th>\n",
       "      <th>product_category</th>\n",
       "      <th>product_name</th>\n",
       "      <th>product_brand</th>\n",
       "      <th>product_retail_price</th>\n",
       "      <th>product_department</th>\n",
       "      <th>product_sku</th>\n",
       "      <th>product_distribution_center_id</th>\n",
       "    </tr>\n",
       "  </thead>\n",
       "  <tbody>\n",
       "    <tr>\n",
       "      <th>0</th>\n",
       "      <td>15151</td>\n",
       "      <td>13844</td>\n",
       "      <td>2024-04-18 18:12:12+00:00</td>\n",
       "      <td>2024-05-16 17:15:12+00:00</td>\n",
       "      <td>2.76804</td>\n",
       "      <td>Accessories</td>\n",
       "      <td>(ONE) 1 Satin Headband</td>\n",
       "      <td>Funny Girl Designs</td>\n",
       "      <td>6.99</td>\n",
       "      <td>Women</td>\n",
       "      <td>2A3E953A5E3D81E67945BCE5519F84C8</td>\n",
       "      <td>7</td>\n",
       "    </tr>\n",
       "    <tr>\n",
       "      <th>1</th>\n",
       "      <td>15152</td>\n",
       "      <td>13844</td>\n",
       "      <td>2020-12-16 16:34:00+00:00</td>\n",
       "      <td>NaT</td>\n",
       "      <td>2.76804</td>\n",
       "      <td>Accessories</td>\n",
       "      <td>(ONE) 1 Satin Headband</td>\n",
       "      <td>Funny Girl Designs</td>\n",
       "      <td>6.99</td>\n",
       "      <td>Women</td>\n",
       "      <td>2A3E953A5E3D81E67945BCE5519F84C8</td>\n",
       "      <td>7</td>\n",
       "    </tr>\n",
       "    <tr>\n",
       "      <th>2</th>\n",
       "      <td>15153</td>\n",
       "      <td>13844</td>\n",
       "      <td>2021-12-22 07:54:00+00:00</td>\n",
       "      <td>NaT</td>\n",
       "      <td>2.76804</td>\n",
       "      <td>Accessories</td>\n",
       "      <td>(ONE) 1 Satin Headband</td>\n",
       "      <td>Funny Girl Designs</td>\n",
       "      <td>6.99</td>\n",
       "      <td>Women</td>\n",
       "      <td>2A3E953A5E3D81E67945BCE5519F84C8</td>\n",
       "      <td>7</td>\n",
       "    </tr>\n",
       "    <tr>\n",
       "      <th>3</th>\n",
       "      <td>15154</td>\n",
       "      <td>13844</td>\n",
       "      <td>2023-10-02 01:15:00+00:00</td>\n",
       "      <td>NaT</td>\n",
       "      <td>2.76804</td>\n",
       "      <td>Accessories</td>\n",
       "      <td>(ONE) 1 Satin Headband</td>\n",
       "      <td>Funny Girl Designs</td>\n",
       "      <td>6.99</td>\n",
       "      <td>Women</td>\n",
       "      <td>2A3E953A5E3D81E67945BCE5519F84C8</td>\n",
       "      <td>7</td>\n",
       "    </tr>\n",
       "    <tr>\n",
       "      <th>4</th>\n",
       "      <td>56704</td>\n",
       "      <td>13844</td>\n",
       "      <td>2025-08-11 08:37:22.265669+00:00</td>\n",
       "      <td>2025-09-03 23:02:22.265669+00:00</td>\n",
       "      <td>2.76804</td>\n",
       "      <td>Accessories</td>\n",
       "      <td>(ONE) 1 Satin Headband</td>\n",
       "      <td>Funny Girl Designs</td>\n",
       "      <td>6.99</td>\n",
       "      <td>Women</td>\n",
       "      <td>2A3E953A5E3D81E67945BCE5519F84C8</td>\n",
       "      <td>7</td>\n",
       "    </tr>\n",
       "  </tbody>\n",
       "</table>\n",
       "</div>"
      ],
      "text/plain": [
       "      id  product_id                       created_at  \\\n",
       "0  15151       13844        2024-04-18 18:12:12+00:00   \n",
       "1  15152       13844        2020-12-16 16:34:00+00:00   \n",
       "2  15153       13844        2021-12-22 07:54:00+00:00   \n",
       "3  15154       13844        2023-10-02 01:15:00+00:00   \n",
       "4  56704       13844 2025-08-11 08:37:22.265669+00:00   \n",
       "\n",
       "                           sold_at     cost product_category  \\\n",
       "0        2024-05-16 17:15:12+00:00  2.76804      Accessories   \n",
       "1                              NaT  2.76804      Accessories   \n",
       "2                              NaT  2.76804      Accessories   \n",
       "3                              NaT  2.76804      Accessories   \n",
       "4 2025-09-03 23:02:22.265669+00:00  2.76804      Accessories   \n",
       "\n",
       "             product_name       product_brand  product_retail_price  \\\n",
       "0  (ONE) 1 Satin Headband  Funny Girl Designs                  6.99   \n",
       "1  (ONE) 1 Satin Headband  Funny Girl Designs                  6.99   \n",
       "2  (ONE) 1 Satin Headband  Funny Girl Designs                  6.99   \n",
       "3  (ONE) 1 Satin Headband  Funny Girl Designs                  6.99   \n",
       "4  (ONE) 1 Satin Headband  Funny Girl Designs                  6.99   \n",
       "\n",
       "  product_department                       product_sku  \\\n",
       "0              Women  2A3E953A5E3D81E67945BCE5519F84C8   \n",
       "1              Women  2A3E953A5E3D81E67945BCE5519F84C8   \n",
       "2              Women  2A3E953A5E3D81E67945BCE5519F84C8   \n",
       "3              Women  2A3E953A5E3D81E67945BCE5519F84C8   \n",
       "4              Women  2A3E953A5E3D81E67945BCE5519F84C8   \n",
       "\n",
       "   product_distribution_center_id  \n",
       "0                               7  \n",
       "1                               7  \n",
       "2                               7  \n",
       "3                               7  \n",
       "4                               7  "
      ]
     },
     "execution_count": 167,
     "metadata": {},
     "output_type": "execute_result"
    }
   ],
   "source": [
    "inventoryitems_df.head(5)"
   ]
  },
  {
   "cell_type": "code",
   "execution_count": 168,
   "id": "0468e7f3-d838-4dd3-ba10-368a7f79dd65",
   "metadata": {},
   "outputs": [
    {
     "data": {
      "text/plain": [
       "['product_id', 'created_at']"
      ]
     },
     "execution_count": 168,
     "metadata": {},
     "output_type": "execute_result"
    }
   ],
   "source": [
    "# check for over lapping columns\n",
    "duplicates(inventoryitems_df, complete_orders_df)"
   ]
  },
  {
   "cell_type": "markdown",
   "id": "8bc71db4-2bff-4633-b2d0-b0af465cbc75",
   "metadata": {},
   "source": [
    "**Overlapping columns**\n",
    "\n",
    "The column created_at will be renamed as inventory_created_at as this is the date/time when the inventory for the product was created and inventoryitems_df, complete_orders_df will be merged on inventory_item_id. \n",
    "The over lapping product_id will be dropped for inventoryitems_df"
   ]
  },
  {
   "cell_type": "code",
   "execution_count": 169,
   "id": "31b194f3-77fb-494b-8561-eeb388dd32ea",
   "metadata": {},
   "outputs": [],
   "source": [
    "# Renaming created_at\n",
    "\n",
    "inventoryitems_df = inventoryitems_df.rename(columns = {'created_at' : 'inventorycreated_at'})\n",
    "\n",
    "# drop inventoryitems_df product_id\n",
    "\n",
    "inventoryitems_df = inventoryitems_df.drop(columns = ['product_id'])\n"
   ]
  },
  {
   "cell_type": "code",
   "execution_count": 170,
   "id": "6fde660d-61cd-4721-baca-9c0b4f8c31a9",
   "metadata": {},
   "outputs": [],
   "source": [
    "# merge \n",
    "with_inventory_df = complete_orders_df.merge(\n",
    "    inventoryitems_df, left_on = 'product_id', \n",
    "    right_on = 'id', \n",
    "    how = 'inner' \n",
    ")"
   ]
  },
  {
   "cell_type": "code",
   "execution_count": 171,
   "id": "d71f1212-312b-4d25-b8c6-f9d05fad9816",
   "metadata": {},
   "outputs": [],
   "source": [
    "# drop id from the merged table\n",
    "with_inventory_df = with_inventory_df.drop(columns = ['id'])"
   ]
  },
  {
   "cell_type": "code",
   "execution_count": 172,
   "id": "c10823b4-0d56-41a9-ba0b-2877072c9a70",
   "metadata": {
    "scrolled": true
   },
   "outputs": [
    {
     "name": "stdout",
     "output_type": "stream",
     "text": [
      "Shape of merged tables : (181691, 38)\n",
      "\n",
      "Missing values : \n",
      " orderitem_id                           0\n",
      "order_id                               0\n",
      "product_id                             0\n",
      "inventory_item_id                      0\n",
      "status                                 0\n",
      "created_at                             0\n",
      "shipped_at                         63872\n",
      "delivered_at                      117971\n",
      "returned_at                       163282\n",
      "sale_price                             0\n",
      "user_id                                0\n",
      "order_created_at                       0\n",
      "num_of_item                            0\n",
      "first_name                             0\n",
      "last_name                              0\n",
      "email                                  0\n",
      "age                                    0\n",
      "gender                                 0\n",
      "state                                  0\n",
      "street_address                         0\n",
      "postal_code                            0\n",
      "city                                   0\n",
      "country                                0\n",
      "latitude                               0\n",
      "longitude                              0\n",
      "traffic_source                         0\n",
      "user_created_at                        0\n",
      "user_geom                              0\n",
      "inventorycreated_at                    0\n",
      "sold_at                           113988\n",
      "cost                                   0\n",
      "product_category                       0\n",
      "product_name                           0\n",
      "product_brand                          0\n",
      "product_retail_price                   0\n",
      "product_department                     0\n",
      "product_sku                            0\n",
      "product_distribution_center_id         0\n",
      "dtype: int64\n",
      "\n",
      "Number of Duplicate Rows: 0\n"
     ]
    }
   ],
   "source": [
    "# sanity check\n",
    "\n",
    "quality(with_inventory_df)"
   ]
  },
  {
   "cell_type": "markdown",
   "id": "b5c1b4ee-0d0a-41c8-bdcb-77b32324e17c",
   "metadata": {},
   "source": [
    "#### Add products"
   ]
  },
  {
   "cell_type": "code",
   "execution_count": 173,
   "id": "72a8770f-ad0b-4383-be61-10cb9c5a4489",
   "metadata": {},
   "outputs": [
    {
     "data": {
      "text/html": [
       "<div>\n",
       "<style scoped>\n",
       "    .dataframe tbody tr th:only-of-type {\n",
       "        vertical-align: middle;\n",
       "    }\n",
       "\n",
       "    .dataframe tbody tr th {\n",
       "        vertical-align: top;\n",
       "    }\n",
       "\n",
       "    .dataframe thead th {\n",
       "        text-align: right;\n",
       "    }\n",
       "</style>\n",
       "<table border=\"1\" class=\"dataframe\">\n",
       "  <thead>\n",
       "    <tr style=\"text-align: right;\">\n",
       "      <th></th>\n",
       "      <th>id</th>\n",
       "      <th>cost</th>\n",
       "      <th>category</th>\n",
       "      <th>name</th>\n",
       "      <th>brand</th>\n",
       "      <th>retail_price</th>\n",
       "      <th>department</th>\n",
       "      <th>sku</th>\n",
       "      <th>distribution_center_id</th>\n",
       "    </tr>\n",
       "  </thead>\n",
       "  <tbody>\n",
       "    <tr>\n",
       "      <th>0</th>\n",
       "      <td>13842</td>\n",
       "      <td>2.51875</td>\n",
       "      <td>Accessories</td>\n",
       "      <td>Low Profile Dyed Cotton Twill Cap - Navy W39S55D</td>\n",
       "      <td>MG</td>\n",
       "      <td>6.25</td>\n",
       "      <td>Women</td>\n",
       "      <td>EBD58B8A3F1D72F4206201DA62FB1204</td>\n",
       "      <td>1</td>\n",
       "    </tr>\n",
       "    <tr>\n",
       "      <th>1</th>\n",
       "      <td>13928</td>\n",
       "      <td>2.33835</td>\n",
       "      <td>Accessories</td>\n",
       "      <td>Low Profile Dyed Cotton Twill Cap - Putty W39S55D</td>\n",
       "      <td>MG</td>\n",
       "      <td>5.95</td>\n",
       "      <td>Women</td>\n",
       "      <td>2EAC42424D12436BDD6A5B8A88480CC3</td>\n",
       "      <td>1</td>\n",
       "    </tr>\n",
       "    <tr>\n",
       "      <th>2</th>\n",
       "      <td>14115</td>\n",
       "      <td>4.87956</td>\n",
       "      <td>Accessories</td>\n",
       "      <td>Enzyme Regular Solid Army Caps-Black W35S45D</td>\n",
       "      <td>MG</td>\n",
       "      <td>10.99</td>\n",
       "      <td>Women</td>\n",
       "      <td>EE364229B2791D1EF9355708EFF0BA34</td>\n",
       "      <td>1</td>\n",
       "    </tr>\n",
       "    <tr>\n",
       "      <th>3</th>\n",
       "      <td>14157</td>\n",
       "      <td>4.64877</td>\n",
       "      <td>Accessories</td>\n",
       "      <td>Enzyme Regular Solid Army Caps-Olive W35S45D (...</td>\n",
       "      <td>MG</td>\n",
       "      <td>10.99</td>\n",
       "      <td>Women</td>\n",
       "      <td>00BD13095D06C20B11A2993CA419D16B</td>\n",
       "      <td>1</td>\n",
       "    </tr>\n",
       "    <tr>\n",
       "      <th>4</th>\n",
       "      <td>14273</td>\n",
       "      <td>6.50793</td>\n",
       "      <td>Accessories</td>\n",
       "      <td>Washed Canvas Ivy Cap - Black W11S64C</td>\n",
       "      <td>MG</td>\n",
       "      <td>15.99</td>\n",
       "      <td>Women</td>\n",
       "      <td>F531DC20FDE20B7ADF3A73F52B71D0AF</td>\n",
       "      <td>1</td>\n",
       "    </tr>\n",
       "  </tbody>\n",
       "</table>\n",
       "</div>"
      ],
      "text/plain": [
       "      id     cost     category  \\\n",
       "0  13842  2.51875  Accessories   \n",
       "1  13928  2.33835  Accessories   \n",
       "2  14115  4.87956  Accessories   \n",
       "3  14157  4.64877  Accessories   \n",
       "4  14273  6.50793  Accessories   \n",
       "\n",
       "                                                name brand  retail_price  \\\n",
       "0   Low Profile Dyed Cotton Twill Cap - Navy W39S55D    MG          6.25   \n",
       "1  Low Profile Dyed Cotton Twill Cap - Putty W39S55D    MG          5.95   \n",
       "2       Enzyme Regular Solid Army Caps-Black W35S45D    MG         10.99   \n",
       "3  Enzyme Regular Solid Army Caps-Olive W35S45D (...    MG         10.99   \n",
       "4              Washed Canvas Ivy Cap - Black W11S64C    MG         15.99   \n",
       "\n",
       "  department                               sku  distribution_center_id  \n",
       "0      Women  EBD58B8A3F1D72F4206201DA62FB1204                       1  \n",
       "1      Women  2EAC42424D12436BDD6A5B8A88480CC3                       1  \n",
       "2      Women  EE364229B2791D1EF9355708EFF0BA34                       1  \n",
       "3      Women  00BD13095D06C20B11A2993CA419D16B                       1  \n",
       "4      Women  F531DC20FDE20B7ADF3A73F52B71D0AF                       1  "
      ]
     },
     "execution_count": 173,
     "metadata": {},
     "output_type": "execute_result"
    }
   ],
   "source": [
    "products_df.head()"
   ]
  },
  {
   "cell_type": "code",
   "execution_count": 174,
   "id": "d2c491c6-2f07-4bdc-a85b-0dc672251d82",
   "metadata": {},
   "outputs": [
    {
     "data": {
      "text/plain": [
       "['cost']"
      ]
     },
     "execution_count": 174,
     "metadata": {},
     "output_type": "execute_result"
    }
   ],
   "source": [
    "# check for over lapping columns\n",
    "\n",
    "duplicates(products_df, with_inventory_df)"
   ]
  },
  {
   "cell_type": "markdown",
   "id": "68e021bc-78f3-4ca5-bf3b-5b368f388ae2",
   "metadata": {},
   "source": [
    "products_df['cost'] This is the product level cost\n",
    "inventoryitems_df['cost'] : This is the unit cost of the product to the business. If the business stocks different batches, the unity price of the bacth may be different from each other."
   ]
  },
  {
   "cell_type": "code",
   "execution_count": 175,
   "id": "f55b476b-984c-4065-a271-2dfb2cc46319",
   "metadata": {},
   "outputs": [],
   "source": [
    "# renaming cost for the two tables\n",
    "products_df = products_df.rename(columns = {'cost' : 'product_cost'})\n",
    "\n",
    "with_inventory_df = with_inventory_df.rename(columns = {'cost' : 'inventory_cost'})"
   ]
  },
  {
   "cell_type": "code",
   "execution_count": 176,
   "id": "7fde0327-8816-4df9-b495-bcb2c87ba03c",
   "metadata": {},
   "outputs": [],
   "source": [
    "# merge \n",
    "merged_df = with_inventory_df.merge(\n",
    "    products_df, left_on = 'product_id', \n",
    "    right_on = 'id', \n",
    "    how = 'inner' \n",
    ")"
   ]
  },
  {
   "cell_type": "code",
   "execution_count": 177,
   "id": "90ef8397-769a-4181-b9cd-04e90de88d5f",
   "metadata": {
    "scrolled": true
   },
   "outputs": [
    {
     "name": "stdout",
     "output_type": "stream",
     "text": [
      "Shape of merged tables : (181680, 47)\n",
      "\n",
      "Missing values : \n",
      " orderitem_id                           0\n",
      "order_id                               0\n",
      "product_id                             0\n",
      "inventory_item_id                      0\n",
      "status                                 0\n",
      "created_at                             0\n",
      "shipped_at                         63868\n",
      "delivered_at                      117966\n",
      "returned_at                       163272\n",
      "sale_price                             0\n",
      "user_id                                0\n",
      "order_created_at                       0\n",
      "num_of_item                            0\n",
      "first_name                             0\n",
      "last_name                              0\n",
      "email                                  0\n",
      "age                                    0\n",
      "gender                                 0\n",
      "state                                  0\n",
      "street_address                         0\n",
      "postal_code                            0\n",
      "city                                   0\n",
      "country                                0\n",
      "latitude                               0\n",
      "longitude                              0\n",
      "traffic_source                         0\n",
      "user_created_at                        0\n",
      "user_geom                              0\n",
      "inventorycreated_at                    0\n",
      "sold_at                           113988\n",
      "inventory_cost                         0\n",
      "product_category                       0\n",
      "product_name                           0\n",
      "product_brand                          0\n",
      "product_retail_price                   0\n",
      "product_department                     0\n",
      "product_sku                            0\n",
      "product_distribution_center_id         0\n",
      "id                                     0\n",
      "product_cost                           0\n",
      "category                               0\n",
      "name                                   0\n",
      "brand                                  0\n",
      "retail_price                           0\n",
      "department                             0\n",
      "sku                                    0\n",
      "distribution_center_id                 0\n",
      "dtype: int64\n",
      "\n",
      "Number of Duplicate Rows: 0\n"
     ]
    }
   ],
   "source": [
    "quality(merged_df)"
   ]
  },
  {
   "cell_type": "code",
   "execution_count": 178,
   "id": "145efee4-8976-467e-b182-8993fb5d611d",
   "metadata": {
    "scrolled": true
   },
   "outputs": [
    {
     "data": {
      "text/html": [
       "<div>\n",
       "<style scoped>\n",
       "    .dataframe tbody tr th:only-of-type {\n",
       "        vertical-align: middle;\n",
       "    }\n",
       "\n",
       "    .dataframe tbody tr th {\n",
       "        vertical-align: top;\n",
       "    }\n",
       "\n",
       "    .dataframe thead th {\n",
       "        text-align: right;\n",
       "    }\n",
       "</style>\n",
       "<table border=\"1\" class=\"dataframe\">\n",
       "  <thead>\n",
       "    <tr style=\"text-align: right;\">\n",
       "      <th></th>\n",
       "      <th>orderitem_id</th>\n",
       "      <th>order_id</th>\n",
       "      <th>product_id</th>\n",
       "      <th>inventory_item_id</th>\n",
       "      <th>status</th>\n",
       "      <th>created_at</th>\n",
       "      <th>shipped_at</th>\n",
       "      <th>delivered_at</th>\n",
       "      <th>returned_at</th>\n",
       "      <th>sale_price</th>\n",
       "      <th>...</th>\n",
       "      <th>product_distribution_center_id</th>\n",
       "      <th>id</th>\n",
       "      <th>product_cost</th>\n",
       "      <th>category</th>\n",
       "      <th>name</th>\n",
       "      <th>brand</th>\n",
       "      <th>retail_price</th>\n",
       "      <th>department</th>\n",
       "      <th>sku</th>\n",
       "      <th>distribution_center_id</th>\n",
       "    </tr>\n",
       "  </thead>\n",
       "  <tbody>\n",
       "    <tr>\n",
       "      <th>0</th>\n",
       "      <td>32262</td>\n",
       "      <td>22308</td>\n",
       "      <td>14235</td>\n",
       "      <td>87005</td>\n",
       "      <td>Complete</td>\n",
       "      <td>2023-08-26 04:00:49+00:00</td>\n",
       "      <td>2023-08-27 02:51:00+00:00</td>\n",
       "      <td>2023-08-28 15:29:00+00:00</td>\n",
       "      <td>NaT</td>\n",
       "      <td>0.02</td>\n",
       "      <td>...</td>\n",
       "      <td>2</td>\n",
       "      <td>14235</td>\n",
       "      <td>0.0083</td>\n",
       "      <td>Accessories</td>\n",
       "      <td>Indestructable Aluminum Aluma Wallet - RED</td>\n",
       "      <td>marshal</td>\n",
       "      <td>0.02</td>\n",
       "      <td>Women</td>\n",
       "      <td>8425BC94A44E3D1BB3C8C026B2702C00</td>\n",
       "      <td>1</td>\n",
       "    </tr>\n",
       "    <tr>\n",
       "      <th>1</th>\n",
       "      <td>86280</td>\n",
       "      <td>59526</td>\n",
       "      <td>14235</td>\n",
       "      <td>233197</td>\n",
       "      <td>Complete</td>\n",
       "      <td>2025-01-14 06:40:31+00:00</td>\n",
       "      <td>2025-01-15 07:02:00+00:00</td>\n",
       "      <td>2025-01-16 15:24:00+00:00</td>\n",
       "      <td>NaT</td>\n",
       "      <td>0.02</td>\n",
       "      <td>...</td>\n",
       "      <td>2</td>\n",
       "      <td>14235</td>\n",
       "      <td>0.0083</td>\n",
       "      <td>Accessories</td>\n",
       "      <td>Indestructable Aluminum Aluma Wallet - RED</td>\n",
       "      <td>marshal</td>\n",
       "      <td>0.02</td>\n",
       "      <td>Women</td>\n",
       "      <td>8425BC94A44E3D1BB3C8C026B2702C00</td>\n",
       "      <td>1</td>\n",
       "    </tr>\n",
       "    <tr>\n",
       "      <th>2</th>\n",
       "      <td>111232</td>\n",
       "      <td>76742</td>\n",
       "      <td>14235</td>\n",
       "      <td>300542</td>\n",
       "      <td>Complete</td>\n",
       "      <td>2025-03-23 16:59:43+00:00</td>\n",
       "      <td>2025-03-24 15:11:00+00:00</td>\n",
       "      <td>2025-03-28 18:46:00+00:00</td>\n",
       "      <td>NaT</td>\n",
       "      <td>0.02</td>\n",
       "      <td>...</td>\n",
       "      <td>2</td>\n",
       "      <td>14235</td>\n",
       "      <td>0.0083</td>\n",
       "      <td>Accessories</td>\n",
       "      <td>Indestructable Aluminum Aluma Wallet - RED</td>\n",
       "      <td>marshal</td>\n",
       "      <td>0.02</td>\n",
       "      <td>Women</td>\n",
       "      <td>8425BC94A44E3D1BB3C8C026B2702C00</td>\n",
       "      <td>1</td>\n",
       "    </tr>\n",
       "    <tr>\n",
       "      <th>3</th>\n",
       "      <td>174709</td>\n",
       "      <td>120274</td>\n",
       "      <td>14235</td>\n",
       "      <td>472105</td>\n",
       "      <td>Complete</td>\n",
       "      <td>2024-09-04 00:16:12+00:00</td>\n",
       "      <td>2024-09-02 13:18:00+00:00</td>\n",
       "      <td>2024-09-04 23:43:00+00:00</td>\n",
       "      <td>NaT</td>\n",
       "      <td>0.02</td>\n",
       "      <td>...</td>\n",
       "      <td>2</td>\n",
       "      <td>14235</td>\n",
       "      <td>0.0083</td>\n",
       "      <td>Accessories</td>\n",
       "      <td>Indestructable Aluminum Aluma Wallet - RED</td>\n",
       "      <td>marshal</td>\n",
       "      <td>0.02</td>\n",
       "      <td>Women</td>\n",
       "      <td>8425BC94A44E3D1BB3C8C026B2702C00</td>\n",
       "      <td>1</td>\n",
       "    </tr>\n",
       "    <tr>\n",
       "      <th>4</th>\n",
       "      <td>141705</td>\n",
       "      <td>97661</td>\n",
       "      <td>14235</td>\n",
       "      <td>382965</td>\n",
       "      <td>Processing</td>\n",
       "      <td>2024-10-11 06:43:35+00:00</td>\n",
       "      <td>NaT</td>\n",
       "      <td>NaT</td>\n",
       "      <td>NaT</td>\n",
       "      <td>0.02</td>\n",
       "      <td>...</td>\n",
       "      <td>2</td>\n",
       "      <td>14235</td>\n",
       "      <td>0.0083</td>\n",
       "      <td>Accessories</td>\n",
       "      <td>Indestructable Aluminum Aluma Wallet - RED</td>\n",
       "      <td>marshal</td>\n",
       "      <td>0.02</td>\n",
       "      <td>Women</td>\n",
       "      <td>8425BC94A44E3D1BB3C8C026B2702C00</td>\n",
       "      <td>1</td>\n",
       "    </tr>\n",
       "  </tbody>\n",
       "</table>\n",
       "<p>5 rows × 47 columns</p>\n",
       "</div>"
      ],
      "text/plain": [
       "   orderitem_id  order_id  product_id  inventory_item_id      status  \\\n",
       "0         32262     22308       14235              87005    Complete   \n",
       "1         86280     59526       14235             233197    Complete   \n",
       "2        111232     76742       14235             300542    Complete   \n",
       "3        174709    120274       14235             472105    Complete   \n",
       "4        141705     97661       14235             382965  Processing   \n",
       "\n",
       "                 created_at                shipped_at  \\\n",
       "0 2023-08-26 04:00:49+00:00 2023-08-27 02:51:00+00:00   \n",
       "1 2025-01-14 06:40:31+00:00 2025-01-15 07:02:00+00:00   \n",
       "2 2025-03-23 16:59:43+00:00 2025-03-24 15:11:00+00:00   \n",
       "3 2024-09-04 00:16:12+00:00 2024-09-02 13:18:00+00:00   \n",
       "4 2024-10-11 06:43:35+00:00                       NaT   \n",
       "\n",
       "               delivered_at returned_at  sale_price  ...  \\\n",
       "0 2023-08-28 15:29:00+00:00         NaT        0.02  ...   \n",
       "1 2025-01-16 15:24:00+00:00         NaT        0.02  ...   \n",
       "2 2025-03-28 18:46:00+00:00         NaT        0.02  ...   \n",
       "3 2024-09-04 23:43:00+00:00         NaT        0.02  ...   \n",
       "4                       NaT         NaT        0.02  ...   \n",
       "\n",
       "   product_distribution_center_id     id  product_cost     category  \\\n",
       "0                               2  14235        0.0083  Accessories   \n",
       "1                               2  14235        0.0083  Accessories   \n",
       "2                               2  14235        0.0083  Accessories   \n",
       "3                               2  14235        0.0083  Accessories   \n",
       "4                               2  14235        0.0083  Accessories   \n",
       "\n",
       "                                         name    brand  retail_price  \\\n",
       "0  Indestructable Aluminum Aluma Wallet - RED  marshal          0.02   \n",
       "1  Indestructable Aluminum Aluma Wallet - RED  marshal          0.02   \n",
       "2  Indestructable Aluminum Aluma Wallet - RED  marshal          0.02   \n",
       "3  Indestructable Aluminum Aluma Wallet - RED  marshal          0.02   \n",
       "4  Indestructable Aluminum Aluma Wallet - RED  marshal          0.02   \n",
       "\n",
       "  department                               sku distribution_center_id  \n",
       "0      Women  8425BC94A44E3D1BB3C8C026B2702C00                      1  \n",
       "1      Women  8425BC94A44E3D1BB3C8C026B2702C00                      1  \n",
       "2      Women  8425BC94A44E3D1BB3C8C026B2702C00                      1  \n",
       "3      Women  8425BC94A44E3D1BB3C8C026B2702C00                      1  \n",
       "4      Women  8425BC94A44E3D1BB3C8C026B2702C00                      1  \n",
       "\n",
       "[5 rows x 47 columns]"
      ]
     },
     "execution_count": 178,
     "metadata": {},
     "output_type": "execute_result"
    }
   ],
   "source": [
    "merged_df.head(5)"
   ]
  },
  {
   "cell_type": "markdown",
   "id": "7e0e7949-2ed1-4c1d-b471-f640417149ec",
   "metadata": {},
   "source": [
    "#### saving the merged table"
   ]
  },
  {
   "cell_type": "code",
   "execution_count": 179,
   "id": "8bf2aacb-e86a-4a42-9a8f-7cf902d767b5",
   "metadata": {},
   "outputs": [
    {
     "name": "stdout",
     "output_type": "stream",
     "text": [
      " Folder Data already exist\n"
     ]
    }
   ],
   "source": [
    "# creating folder 'Data'\n",
    "folder_name = 'Data'\n",
    "try:\n",
    "    os.mkdir(folder_name)\n",
    "    print(f\" Folder {folder_name} created successfully\" )\n",
    "except FileExistsError:\n",
    "    print(f\" Folder {folder_name} already exist\" )"
   ]
  },
  {
   "cell_type": "code",
   "execution_count": 180,
   "id": "ee0b7e20-d66e-48fd-8a9f-c948541ae9af",
   "metadata": {},
   "outputs": [],
   "source": [
    "# Saving the table\n",
    "\n",
    "merged_df.to_csv('Data/merged_df.csv', index = False)"
   ]
  },
  {
   "cell_type": "markdown",
   "id": "7c0c1dd7-613e-4061-8681-e3ce5fb20393",
   "metadata": {},
   "source": [
    "## Visualization "
   ]
  },
  {
   "cell_type": "markdown",
   "id": "804a8505-f073-4c42-94fe-b38e58be49e7",
   "metadata": {},
   "source": [
    "#### Customer Profile Analysis"
   ]
  },
  {
   "cell_type": "code",
   "execution_count": 181,
   "id": "08eb517a-6035-4e4d-affd-27ef6ceca34a",
   "metadata": {},
   "outputs": [
    {
     "name": "stdout",
     "output_type": "stream",
     "text": [
      " Folder Graphs already exist\n"
     ]
    }
   ],
   "source": [
    "# create a folder graph for plots\n",
    "\n",
    "Folder_name = 'Graphs'\n",
    "try:\n",
    "    os.mkdir(Folder_name)\n",
    "    print(f\" Folder {Folder_name} created successfully\" )\n",
    "except FileExistsError:\n",
    "    print(f\" Folder {Folder_name} already exist\" )\n",
    "    "
   ]
  },
  {
   "cell_type": "code",
   "execution_count": 182,
   "id": "5a1a052e-4011-458f-97bf-37194e7a8c90",
   "metadata": {},
   "outputs": [
    {
     "name": "stderr",
     "output_type": "stream",
     "text": [
      "C:\\Users\\DELL XPS\\AppData\\Local\\Temp\\ipykernel_11096\\1478899805.py:6: FutureWarning: \n",
      "\n",
      "Passing `palette` without assigning `hue` is deprecated and will be removed in v0.14.0. Assign the `x` variable to `hue` and set `legend=False` for the same effect.\n",
      "\n",
      "  sns.countplot(data = merged_df, x = 'age_group', palette = 'viridis')\n"
     ]
    },
    {
     "data": {
      "image/png": "[encoded data removed]",
      "text/plain": [
       "<Figure size 640x480 with 1 Axes>"
      ]
     },
     "metadata": {},
     "output_type": "display_data"
    }
   ],
   "source": [
    "\n",
    "# Age distribution\n",
    "sns.set_style('darkgrid')\n",
    "bins  = [10, 20, 30, 40, 50, 60, 70]\n",
    "labels = ['10 - 19', '20 -29', '30 -39', ' 40 - 49', '50 - 59', '60 - 69']\n",
    "merged_df['age_group'] = pd.cut(merged_df['age'], bins = bins, labels = labels)\n",
    "sns.countplot(data = merged_df, x = 'age_group', palette = 'viridis')\n",
    "\n",
    "plt.xlabel('Age_group')\n",
    "plt.ylabel('Number of Customers')\n",
    "plt.title('Customer Age distribution')\n",
    "\n",
    "plt.savefig('Graphs/age_hist.png')\n",
    "plt.show()"
   ]
  },
  {
   "cell_type": "markdown",
   "id": "01b0e752-b180-4283-be23-6bd73fe38af0",
   "metadata": {},
   "source": [
    "#### Age distribution\n",
    "\n",
    "Customers aged 20 - 29 form the largest customer segment, with over 30,000 individuals. This age group likely represents young profesionals or early career adults. \n",
    "\n",
    "Age 30 -39, 40 - 49 and 60 - 60 all have similarly hight counts. Customers in the 10 - 19 age group form the smallest5 sdegment of the customer base. "
   ]
  },
  {
   "cell_type": "code",
   "execution_count": 183,
   "id": "410b2ebc-97b5-4b01-bd97-d2ae2529041e",
   "metadata": {},
   "outputs": [],
   "source": [
    "# Gender distribution\n",
    "\n",
    "gender_counts = merged_df['gender'].value_counts(normalize = True)"
   ]
  },
  {
   "cell_type": "code",
   "execution_count": 184,
   "id": "7325cda1-ad40-4cbd-8332-d34269b48d68",
   "metadata": {},
   "outputs": [
    {
     "data": {
      "image/png": "[encoded data removed]",
      "text/plain": [
       "<Figure size 1000x600 with 1 Axes>"
      ]
     },
     "metadata": {},
     "output_type": "display_data"
    }
   ],
   "source": [
    "# Set Seaborn style\n",
    "sns.set_style(\"whitegrid\")\n",
    "\n",
    "# Count gender values\n",
    "gender_counts = merged_df['gender'].value_counts()\n",
    "\n",
    "# Create the plot\n",
    "plt.figure(figsize=(10, 6))\n",
    "bars = plt.bar(gender_counts.index, gender_counts.values, color=['#5DADE2', '#F1948A'], edgecolor='black')\n",
    "\n",
    "# Add data labels on top of the bars\n",
    "for bar in bars:\n",
    "    height = bar.get_height()\n",
    "    plt.text(bar.get_x() + bar.get_width()/2.0, height + 1000, f'{int(height)}', ha='center', fontsize=12)\n",
    "\n",
    "# Customize labels and title\n",
    "plt.xlabel('Gender', fontsize=14)\n",
    "plt.ylabel('Number of Customers', fontsize=14)\n",
    "plt.title('Gender Distribution of Customers', fontsize=16)\n",
    "plt.xticks(fontsize=12)\n",
    "plt.yticks(fontsize=12)\n",
    "plt.tight_layout()\n",
    "\n",
    "# Save and show\n",
    "plt.savefig('Graphs/gender_distribution.png')\n",
    "plt.show()"
   ]
  },
  {
   "cell_type": "code",
   "execution_count": 185,
   "id": "6e03cd54-73b8-44b4-9d03-83bb6e054b17",
   "metadata": {},
   "outputs": [
    {
     "name": "stderr",
     "output_type": "stream",
     "text": [
      "C:\\Users\\DELL XPS\\AppData\\Local\\Temp\\ipykernel_11096\\3669556425.py:4: FutureWarning: The default of observed=False is deprecated and will be changed to True in a future version of pandas. Pass observed=False to retain current behavior or observed=True to adopt the future default and silence this warning.\n",
      "  merged_df.groupby(['age_group', 'gender'])['sale_price']\n"
     ]
    },
    {
     "data": {
      "image/png": "[encoded data removed]",
      "text/plain": [
       "<Figure size 1000x600 with 1 Axes>"
      ]
     },
     "metadata": {},
     "output_type": "display_data"
    }
   ],
   "source": [
    "# Aggregate total spend by age group and gender\n",
    "\n",
    "age_gender_spend = (\n",
    "    merged_df.groupby(['age_group', 'gender'])['sale_price']\n",
    "    .sum()\n",
    "    .reset_index()\n",
    ")\n",
    "\n",
    "plt.figure(figsize=(10,6))\n",
    "sns.barplot(x='age_group', y='sale_price', hue='gender', data=age_gender_spend)\n",
    "plt.title('Total Spend by Age Group and Gender')\n",
    "plt.ylabel('Total Spend')\n",
    "plt.xlabel('Age Group')\n",
    "plt.show()"
   ]
  },
  {
   "cell_type": "code",
   "execution_count": 186,
   "id": "e8cb5dc1-cc64-4b4f-84f3-c051bd279964",
   "metadata": {},
   "outputs": [
    {
     "data": {
      "text/html": [
       "<div>\n",
       "<style scoped>\n",
       "    .dataframe tbody tr th:only-of-type {\n",
       "        vertical-align: middle;\n",
       "    }\n",
       "\n",
       "    .dataframe tbody tr th {\n",
       "        vertical-align: top;\n",
       "    }\n",
       "\n",
       "    .dataframe thead th {\n",
       "        text-align: right;\n",
       "    }\n",
       "</style>\n",
       "<table border=\"1\" class=\"dataframe\">\n",
       "  <thead>\n",
       "    <tr style=\"text-align: right;\">\n",
       "      <th></th>\n",
       "      <th>age_group</th>\n",
       "      <th>gender</th>\n",
       "      <th>sale_price</th>\n",
       "    </tr>\n",
       "  </thead>\n",
       "  <tbody>\n",
       "    <tr>\n",
       "      <th>0</th>\n",
       "      <td>10 - 19</td>\n",
       "      <td>F</td>\n",
       "      <td>766664.980949</td>\n",
       "    </tr>\n",
       "    <tr>\n",
       "      <th>1</th>\n",
       "      <td>10 - 19</td>\n",
       "      <td>M</td>\n",
       "      <td>889202.340758</td>\n",
       "    </tr>\n",
       "    <tr>\n",
       "      <th>2</th>\n",
       "      <td>20 -29</td>\n",
       "      <td>F</td>\n",
       "      <td>866297.901212</td>\n",
       "    </tr>\n",
       "    <tr>\n",
       "      <th>3</th>\n",
       "      <td>20 -29</td>\n",
       "      <td>M</td>\n",
       "      <td>953958.130591</td>\n",
       "    </tr>\n",
       "    <tr>\n",
       "      <th>4</th>\n",
       "      <td>30 -39</td>\n",
       "      <td>F</td>\n",
       "      <td>872820.540902</td>\n",
       "    </tr>\n",
       "    <tr>\n",
       "      <th>5</th>\n",
       "      <td>30 -39</td>\n",
       "      <td>M</td>\n",
       "      <td>976065.591094</td>\n",
       "    </tr>\n",
       "    <tr>\n",
       "      <th>6</th>\n",
       "      <td>40 - 49</td>\n",
       "      <td>F</td>\n",
       "      <td>845014.031313</td>\n",
       "    </tr>\n",
       "    <tr>\n",
       "      <th>7</th>\n",
       "      <td>40 - 49</td>\n",
       "      <td>M</td>\n",
       "      <td>994645.021187</td>\n",
       "    </tr>\n",
       "    <tr>\n",
       "      <th>8</th>\n",
       "      <td>50 - 59</td>\n",
       "      <td>F</td>\n",
       "      <td>866265.881334</td>\n",
       "    </tr>\n",
       "    <tr>\n",
       "      <th>9</th>\n",
       "      <td>50 - 59</td>\n",
       "      <td>M</td>\n",
       "      <td>989122.950724</td>\n",
       "    </tr>\n",
       "    <tr>\n",
       "      <th>10</th>\n",
       "      <td>60 - 69</td>\n",
       "      <td>F</td>\n",
       "      <td>855631.871072</td>\n",
       "    </tr>\n",
       "    <tr>\n",
       "      <th>11</th>\n",
       "      <td>60 - 69</td>\n",
       "      <td>M</td>\n",
       "      <td>961835.810465</td>\n",
       "    </tr>\n",
       "  </tbody>\n",
       "</table>\n",
       "</div>"
      ],
      "text/plain": [
       "   age_group gender     sale_price\n",
       "0    10 - 19      F  766664.980949\n",
       "1    10 - 19      M  889202.340758\n",
       "2     20 -29      F  866297.901212\n",
       "3     20 -29      M  953958.130591\n",
       "4     30 -39      F  872820.540902\n",
       "5     30 -39      M  976065.591094\n",
       "6    40 - 49      F  845014.031313\n",
       "7    40 - 49      M  994645.021187\n",
       "8    50 - 59      F  866265.881334\n",
       "9    50 - 59      M  989122.950724\n",
       "10   60 - 69      F  855631.871072\n",
       "11   60 - 69      M  961835.810465"
      ]
     },
     "execution_count": 186,
     "metadata": {},
     "output_type": "execute_result"
    }
   ],
   "source": [
    "age_gender_spend"
   ]
  },
  {
   "cell_type": "code",
   "execution_count": 187,
   "id": "c378439e-3ea8-44e4-a40b-162bca7eb740",
   "metadata": {},
   "outputs": [
    {
     "name": "stderr",
     "output_type": "stream",
     "text": [
      "C:\\Users\\DELL XPS\\AppData\\Local\\Temp\\ipykernel_11096\\3484016590.py:3: FutureWarning: The default of observed=False is deprecated and will be changed to True in a future version of pandas. Pass observed=False to retain current behavior or observed=True to adopt the future default and silence this warning.\n",
      "  merged_df.groupby(['age_group', 'gender'])['order_id']\n"
     ]
    },
    {
     "data": {
      "image/png": "[encoded data removed]",
      "text/plain": [
       "<Figure size 1000x600 with 1 Axes>"
      ]
     },
     "metadata": {},
     "output_type": "display_data"
    }
   ],
   "source": [
    "# Count unique orders per age group and gender\n",
    "age_gender_orders = (\n",
    "    merged_df.groupby(['age_group', 'gender'])['order_id']\n",
    "    .nunique()\n",
    "    .reset_index()\n",
    ")\n",
    "\n",
    "plt.figure(figsize=(10,6))\n",
    "sns.barplot(x='age_group', y='order_id', hue='gender', data=age_gender_orders)\n",
    "plt.title('Number of Orders by Age Group and Gender')\n",
    "plt.ylabel('Number of Orders')\n",
    "plt.xlabel('Age Group')\n",
    "plt.show()\n"
   ]
  },
  {
   "cell_type": "markdown",
   "id": "82e64495-7fc9-4410-80ac-01945ecbbff5",
   "metadata": {},
   "source": [
    "#### Total Spend by Age Group and Gender\n",
    "\n",
    "The graph shows that Male tends to spend a bit higher across each age category. However, in terms of number of orders both Male and Female tends to have similar number of orders. This then begs the \n",
    "question why Male spends significantly more then female."
   ]
  },
  {
   "cell_type": "code",
   "execution_count": 188,
   "id": "72b6e20a-50b1-4a5a-a874-325d8bdb9eec",
   "metadata": {},
   "outputs": [
    {
     "name": "stdout",
     "output_type": "stream",
     "text": [
      "                                           product_name  purchase_count\n",
      "4312   Woman Within Plus Size 2-pack maternity leggings              76\n",
      "4251         Wacoal Women's Retro Chic Full Figure Wire              72\n",
      "4026              Trina Turk Women's Tony Slim Fit Pant              72\n",
      "3453    Rebel8 - Don't Tread On Me Mens Hoodie in Black              71\n",
      "4477   point6 1153 Active Light Cushion Mini Crew Socks              66\n",
      "3895  The North Face Womens Khumbu Jacket Brown Whit...              66\n",
      "536   Bali Women's Smooth Compliments Underwire Bra ...              65\n",
      "596   Betsey Johnson Women's Luscious Lite Stretch L...              65\n",
      "3680            Smartwool Men's Microweight Boxer Brief              64\n",
      "2738  Merrell Women's Delilah Long Fleece Sweater Ja...              63\n"
     ]
    }
   ],
   "source": [
    "top_products_male = (\n",
    "    merged_df[merged_df['gender'] == 'M']\n",
    "    .groupby('product_name')\n",
    "    .size()\n",
    "    .reset_index(name='purchase_count')\n",
    "    .sort_values(by='purchase_count', ascending=False)\n",
    "    .head(10)  # top 10\n",
    ")\n",
    "\n",
    "print(top_products_male)\n"
   ]
  },
  {
   "cell_type": "code",
   "execution_count": 189,
   "id": "753535e5-cea8-41b6-bc44-61f87e9dce08",
   "metadata": {},
   "outputs": [
    {
     "name": "stderr",
     "output_type": "stream",
     "text": [
      "C:\\Users\\DELL XPS\\AppData\\Local\\Temp\\ipykernel_11096\\3525470211.py:4: FutureWarning: \n",
      "\n",
      "Passing `palette` without assigning `hue` is deprecated and will be removed in v0.14.0. Assign the `y` variable to `hue` and set `legend=False` for the same effect.\n",
      "\n",
      "  sns.barplot(\n"
     ]
    },
    {
     "data": {
      "image/png": "[encoded data removed]",
      "text/plain": [
       "<Figure size 1000x600 with 1 Axes>"
      ]
     },
     "metadata": {},
     "output_type": "display_data"
    }
   ],
   "source": [
    "# Top 10 Products Bought by Male Customers \n",
    "\n",
    "plt.figure(figsize=(10,6))\n",
    "sns.barplot(\n",
    "    x='purchase_count',\n",
    "    y='product_name',\n",
    "    data=top_products_male,\n",
    "    palette='Blues_d'\n",
    ")\n",
    "plt.title('Top 10 Products Bought by Male Customers (Count)')\n",
    "plt.xlabel('Number of Purchases')\n",
    "plt.ylabel('Product')\n",
    "\n",
    "plt.savefig('Graphs/top10_MaleProducts.png')\n",
    "plt.show()\n"
   ]
  },
  {
   "cell_type": "code",
   "execution_count": 190,
   "id": "d2c12d1e-f66e-4b5b-9f83-3b6e2a99d636",
   "metadata": {},
   "outputs": [
    {
     "name": "stdout",
     "output_type": "stream",
     "text": [
      "                                           product_name  purchase_count\n",
      "10    100% Cowhide Leather Black Leather Belt Snap o...             104\n",
      "3711               PAIGE Women's Skyline Ankle Peg Jean              87\n",
      "4574                                 TAXI Wallet Canyon              74\n",
      "3857    Polo Ralph Lauren Classic-Fit Tattersall Oxford              73\n",
      "1416  DESIGNER LEOPARD STRAPLESS OCCASION DRESS PART...              73\n",
      "3547                 Nike Dri-Fit Quarter Socks (Large)              72\n",
      "4818          U.S. Polo Assn. Men's Long Snorkel Jacket              71\n",
      "850   Brown Maternity Wide Leg Trousers Elastic Wais...              67\n",
      "3428  N2N - L5 - Dream - Super Soft Silk Like Hoody-...              61\n",
      "3410           Moving Comfort Women's Rebound Racer Bra              60\n"
     ]
    }
   ],
   "source": [
    "# Top products ordered by Female\n",
    "\n",
    "top_products_female = (\n",
    "    merged_df[merged_df['gender'] == 'F']\n",
    "    .groupby('product_name')\n",
    "    .size()\n",
    "    .reset_index(name='purchase_count')\n",
    "    .sort_values(by='purchase_count', ascending=False)\n",
    "    .head(10)  # top 10\n",
    ")\n",
    "\n",
    "print(top_products_female)\n"
   ]
  },
  {
   "cell_type": "code",
   "execution_count": 191,
   "id": "673e6ec9-5589-4fd1-bd77-d849350b8a0d",
   "metadata": {},
   "outputs": [
    {
     "name": "stderr",
     "output_type": "stream",
     "text": [
      "C:\\Users\\DELL XPS\\AppData\\Local\\Temp\\ipykernel_11096\\2350680840.py:4: FutureWarning: \n",
      "\n",
      "Passing `palette` without assigning `hue` is deprecated and will be removed in v0.14.0. Assign the `y` variable to `hue` and set `legend=False` for the same effect.\n",
      "\n",
      "  sns.barplot(\n"
     ]
    },
    {
     "data": {
      "image/png": "[encoded data removed]",
      "text/plain": [
       "<Figure size 1000x600 with 1 Axes>"
      ]
     },
     "metadata": {},
     "output_type": "display_data"
    }
   ],
   "source": [
    "# Top products ordered by Female\n",
    "\n",
    "plt.figure(figsize=(10,6))\n",
    "sns.barplot(\n",
    "    x='purchase_count',\n",
    "    y='product_name',\n",
    "    data=top_products_female,\n",
    "    palette='Blues_d'\n",
    ")\n",
    "plt.title('Top 10 Products Bought by Female Customers (Count)')\n",
    "plt.xlabel('Number of Purchases')\n",
    "plt.ylabel('Product')\n",
    "\n",
    "plt.savefig('Graphs/top10_FemaleProducts.png')\n",
    "plt.show()\n"
   ]
  },
  {
   "cell_type": "markdown",
   "id": "9beaba85-ead3-45a6-a265-7845213d031f",
   "metadata": {},
   "source": [
    "#### Top products order by Male and Female\n",
    "\n",
    "The graph shows that top products ordered by Males are \n",
    "\n",
    "| Product ID       | Product_name                           | purchase_count |\n",
    "| --------------   | ------------------------------------------ |----------------|\n",
    "|2385              | Lee Men's Relaxed Fit Slightly Tapered Leg Jean|     104    |\n",
    "|1926              |Hurley Juniors Lowrider 2.5 Inch Walkshort        |      83   |\n",
    "1731          |                  Gucci 1013/S Sunglasses           |   78    |\n",
    "|4241  |Women's 100% Cotton Jersey Smocked Striped Top...          |    68\n",
    "3516     |              Saddleback Leather Wallet Sleeve             | 65   |\n",
    "2310 | LAGUNA BEACH Hand Stitch Denim Skirt W/ Sunset...           |   63|\n",
    "3322 | RIGGS WORKWEAR by Wrangler Men's Short Sleeve ...           |   62 |\n",
    "1571 | Fox River Original Rockford Red Heel Cotton Mo...           |   61  |\n",
    "817         |     Calvin Klein Men's Signature Pass Case          |    61   |\n",
    "2262 |    Kenneth Cole Women's Micropoly Short Down Coat            |  61   |\n",
    "\n",
    "\n",
    "\n",
    "Top products ordered by Female\n",
    "\n",
    "| Product ID | Product Name                                                    | Purchase Count |\n",
    "|------------|-----------------------------------------------------------------|----------------|\n",
    "| 1925       | G by GUESS Pull-On Super Skinny Jeans                           | 77             |\n",
    "| 1051       | Carhartt Men's Liner Socks 3 Pack                               | 74             |\n",
    "| 3532       | Oakley Men's Like A Flash Boardshort                            | 68             |\n",
    "| 2662       | Kenneth Cole Reaction Men's Glen Plaid Modern Fit Suit          | 64             |\n",
    "| 5194       | ambiguous Men's Callahan Fleece Hooded Sweatshirt               | 64             |\n",
    "| 2774       | Larry Levine Women's Down Jacket with Hood                      | 63             |\n",
    "| 2516       | Jones New York Men's 24/7 Total Comfort Sharkskin Pants         | 59             |\n",
    "| 4812       | Van Heusen Men's Fitted Wrinkle Free Poplin Shirt               | 57             |\n",
    "| 3405       | Nautica Quarter Zip Shirt                                       | 57             |\n",
    "| 3035       | Mango Women's Animal Print Cropped Trousers - Leopard Print     | 56             |\n"
   ]
  },
  {
   "cell_type": "code",
   "execution_count": 194,
   "id": "11c251b2-a022-4591-80e6-5f36cd3377f0",
   "metadata": {},
   "outputs": [
    {
     "data": {
      "image/png": "[encoded data removed]",
      "text/plain": [
       "<Figure size 1200x600 with 1 Axes>"
      ]
     },
     "metadata": {},
     "output_type": "display_data"
    }
   ],
   "source": [
    "# Combine top male and female into one df\n",
    "top_products_gender = (\n",
    "    merged_df.groupby(['gender', 'product_name'])\n",
    "    .size()\n",
    "    .reset_index(name='purchase_count')\n",
    ")\n",
    "\n",
    "# Keep only the top 10 male + top 10 female\n",
    "top_male = top_products_gender[top_products_gender['gender'] == 'M'].nlargest(5, 'purchase_count')\n",
    "top_female = top_products_gender[top_products_gender['gender'] == 'F'].nlargest(5, 'purchase_count')\n",
    "\n",
    "top_combined = pd.concat([top_male, top_female])\n",
    "\n",
    "plt.figure(figsize=(12,6))\n",
    "sns.barplot(\n",
    "    x='purchase_count', \n",
    "    y='product_name', \n",
    "    hue='gender', \n",
    "    data=top_combined\n",
    ")\n",
    "plt.title('Top 5 Products Purchased by Gender')\n",
    "plt.xlabel('Purchase Count')\n",
    "plt.ylabel('Product')\n",
    "\n",
    "plt.savefig('Graphs/top5Products_gender.png')\n",
    "plt.show()\n"
   ]
  },
  {
   "cell_type": "markdown",
   "id": "0de6acab-83b3-44ab-925c-002d7413dc12",
   "metadata": {},
   "source": [
    "#### Top Male products with the highest revenue"
   ]
  },
  {
   "cell_type": "code",
   "execution_count": 195,
   "id": "647a35bd-8b69-4558-8d44-d0de1543e84b",
   "metadata": {},
   "outputs": [
    {
     "name": "stdout",
     "output_type": "stream",
     "text": [
      "                                           product_name    sale_price\n",
      "4397       Wrangler Men's Tall Rugged Wear Stretch Jean  15278.249954\n",
      "3927  Timberland Deep Cognac Buff Apache Trifold Lea...  13468.989929\n",
      "3367   Quiksilver Waterman Men's Watermark Volley Trunk  12930.689972\n",
      "307   Allegra K Woman Dotted Split Neck Short Sleeve...  12669.860077\n",
      "3042          Oak Hill Big & Tall Zip Mockneck Cardigan  11936.400003\n",
      "1654  G by GUESS Sophie Skinny Bootcut Jeans - Dark ...  11842.509991\n",
      "960   Cashmere Feel Camel Black White and Red Plaid ...  10090.650005\n",
      "2560  MEDIUM POUFF WEDDING BRIDAL BRIDESMAID SLIP (1...   9987.000000\n",
      "2867    Mountain Khakis Men's Granite Creek Convertible   9459.529961\n",
      "1985          Hurley Men's Barney Plaid Men's Walkshort   8800.220005\n"
     ]
    }
   ],
   "source": [
    "\n",
    "top_products_male_revenue = (\n",
    "    merged_df[merged_df['gender'] == 'M']\n",
    "    .groupby('product_name')['sale_price']\n",
    "    .sum()\n",
    "    .reset_index()\n",
    "    .sort_values(by='sale_price', ascending=False)\n",
    "    .head(10)\n",
    ")\n",
    "\n",
    "print(top_products_male_revenue)\n"
   ]
  },
  {
   "cell_type": "code",
   "execution_count": 196,
   "id": "f75f0bf9-47fc-4fa8-a0fa-44ac2a8c06f6",
   "metadata": {},
   "outputs": [
    {
     "name": "stderr",
     "output_type": "stream",
     "text": [
      "C:\\Users\\DELL XPS\\AppData\\Local\\Temp\\ipykernel_11096\\3501508689.py:4: FutureWarning: \n",
      "\n",
      "Passing `palette` without assigning `hue` is deprecated and will be removed in v0.14.0. Assign the `x` variable to `hue` and set `legend=False` for the same effect.\n",
      "\n",
      "  sns.barplot(\n"
     ]
    },
    {
     "data": {
      "image/png": "[encoded data removed]",
      "text/plain": [
       "<Figure size 1000x600 with 1 Axes>"
      ]
     },
     "metadata": {},
     "output_type": "display_data"
    }
   ],
   "source": [
    "# Top Male products with the highest revenue\n",
    "\n",
    "plt.figure(figsize=(10,6))\n",
    "sns.barplot(\n",
    "    x='product_name',\n",
    "    y='sale_price',\n",
    "    data=top_products_male_revenue,\n",
    "    palette='Blues_d')\n",
    "plt.title('Top Male products with the highest revenue')\n",
    "plt.ylabel('Sale Price')\n",
    "plt.xlabel('Product')\n",
    "plt.xticks(rotation = 90)\n",
    "\n",
    "\n",
    "plt.savefig('Graphs/top10_maleRevprod.png')\n",
    "plt.show()\n"
   ]
  },
  {
   "cell_type": "markdown",
   "id": "6b99f894-6c55-400f-9ba0-9388ebf80998",
   "metadata": {},
   "source": [
    "#### Top Female products with the highest revenue"
   ]
  },
  {
   "cell_type": "code",
   "execution_count": 197,
   "id": "459e8c0b-cfca-4171-9e6d-54c72426436f",
   "metadata": {},
   "outputs": [
    {
     "name": "stdout",
     "output_type": "stream",
     "text": [
      "                                           product_name    sale_price\n",
      "10    100% Cowhide Leather Black Leather Belt Snap o...  11842.000004\n",
      "2359  Hillside USA Leather Inc. Mens Denim Style Sta...  10157.250000\n",
      "2935   Le Mystere Women's Soiree Short Line Bustier Bra   8775.199999\n",
      "1640               Don't Git Bit - Walking Dead T-shirt   7994.939941\n",
      "826   Bravado Men's Justin Bieber Stripes Men's Zip ...   7883.119995\n",
      "976   Calvin Klein Sportswear Men's Button Front Car...   7697.299997\n",
      "4898  Van Heusen Men's Wrinkle Free Sateen Stripe Lo...   7678.199982\n",
      "2100        Go Seamless Waistband Midway Brief - 2 pack   7405.320002\n",
      "118   A Pea in the Pod: Luxe Lace Collection Lace Ma...   6949.620026\n",
      "2135  Gray and Pink Leopard Two-Piece Hooded Footed ...   6673.950027\n"
     ]
    }
   ],
   "source": [
    "\n",
    "top_products_female_revenue = (\n",
    "    merged_df[merged_df['gender'] == 'F']\n",
    "    .groupby('product_name')['sale_price']\n",
    "    .sum()\n",
    "    .reset_index()\n",
    "    .sort_values(by='sale_price', ascending=False)\n",
    "    .head(10)\n",
    ")\n",
    "\n",
    "print(top_products_female_revenue)\n"
   ]
  },
  {
   "cell_type": "code",
   "execution_count": 198,
   "id": "eb3ffc02-5901-4290-8c34-ea4fdd759a34",
   "metadata": {},
   "outputs": [
    {
     "name": "stderr",
     "output_type": "stream",
     "text": [
      "C:\\Users\\DELL XPS\\AppData\\Local\\Temp\\ipykernel_11096\\3506927528.py:4: FutureWarning: \n",
      "\n",
      "Passing `palette` without assigning `hue` is deprecated and will be removed in v0.14.0. Assign the `x` variable to `hue` and set `legend=False` for the same effect.\n",
      "\n",
      "  sns.barplot(\n"
     ]
    },
    {
     "data": {
      "image/png": "[encoded data removed]",
      "text/plain": [
       "<Figure size 1000x600 with 1 Axes>"
      ]
     },
     "metadata": {},
     "output_type": "display_data"
    }
   ],
   "source": [
    "# Top female products with the highest revenue\n",
    "\n",
    "plt.figure(figsize=(10,6))\n",
    "sns.barplot(\n",
    "    x='product_name',\n",
    "    y='sale_price',\n",
    "    data=top_products_female_revenue,\n",
    "    palette='Blues_d')\n",
    "plt.title('Top Female products with the highest revenue')\n",
    "plt.ylabel('Sale Price')\n",
    "plt.xlabel('Product')\n",
    "plt.xticks(rotation = 90)\n",
    "\n",
    "\n",
    "plt.savefig('Graphs/top10_femaleRevprod.png')\n",
    "plt.show()\n"
   ]
  },
  {
   "cell_type": "markdown",
   "id": "cf5fa265-bdd6-4cc1-a021-28d3f320045d",
   "metadata": {},
   "source": [
    "**High Revenue Products Purchased by Both Genders**\n",
    "\n",
    "The highest grossing products purhased by Men are \n",
    "\n",
    "- Icebreaker Men's Contour Short Sleeve Crewe Top\n",
    "- Original Penguin Men's Printed Volley Swim Trunk`\n",
    "- Jessie G. Women's Low Rise Embellished Denim S\n",
    "- Diesel Men's Smog-S Sweat Shirt \n",
    "\n",
    "The higest grossing products for Female are;\n",
    "- London Fog Men's Admiral Double Breasted Notch\n",
    "- ulian Taylor Women's Cap Sleeve Stretch Crepe...   9022.450027\n",
    "- Izod Basic Cable V-Neck Sweater   8724.900017\n",
    "- 7 For All Mankind Men's Austyn Relaxed Straigh...   8199.250004\n",
    "- Studio Shelf Bra Camisole   8100.000000"
   ]
  },
  {
   "cell_type": "code",
   "execution_count": 199,
   "id": "ef26b8c1-028b-405f-bda9-37214b6b085c",
   "metadata": {},
   "outputs": [
    {
     "data": {
      "text/html": [
       "<div>\n",
       "<style scoped>\n",
       "    .dataframe tbody tr th:only-of-type {\n",
       "        vertical-align: middle;\n",
       "    }\n",
       "\n",
       "    .dataframe tbody tr th {\n",
       "        vertical-align: top;\n",
       "    }\n",
       "\n",
       "    .dataframe thead th {\n",
       "        text-align: right;\n",
       "    }\n",
       "</style>\n",
       "<table border=\"1\" class=\"dataframe\">\n",
       "  <thead>\n",
       "    <tr style=\"text-align: right;\">\n",
       "      <th></th>\n",
       "      <th>product_name</th>\n",
       "      <th>purchase_count</th>\n",
       "      <th>total_revenue</th>\n",
       "      <th>avg_price</th>\n",
       "    </tr>\n",
       "  </thead>\n",
       "  <tbody>\n",
       "    <tr>\n",
       "      <th>4312</th>\n",
       "      <td>Woman Within Plus Size 2-pack maternity leggings</td>\n",
       "      <td>76</td>\n",
       "      <td>2636.330011</td>\n",
       "      <td>34.688553</td>\n",
       "    </tr>\n",
       "    <tr>\n",
       "      <th>4251</th>\n",
       "      <td>Wacoal Women's Retro Chic Full Figure Wire</td>\n",
       "      <td>72</td>\n",
       "      <td>7182.740005</td>\n",
       "      <td>99.760278</td>\n",
       "    </tr>\n",
       "    <tr>\n",
       "      <th>4026</th>\n",
       "      <td>Trina Turk Women's Tony Slim Fit Pant</td>\n",
       "      <td>72</td>\n",
       "      <td>2662.179998</td>\n",
       "      <td>36.974722</td>\n",
       "    </tr>\n",
       "    <tr>\n",
       "      <th>3453</th>\n",
       "      <td>Rebel8 - Don't Tread On Me Mens Hoodie in Black</td>\n",
       "      <td>71</td>\n",
       "      <td>3705.379986</td>\n",
       "      <td>52.188451</td>\n",
       "    </tr>\n",
       "    <tr>\n",
       "      <th>4477</th>\n",
       "      <td>point6 1153 Active Light Cushion Mini Crew Socks</td>\n",
       "      <td>66</td>\n",
       "      <td>7369.770126</td>\n",
       "      <td>111.663184</td>\n",
       "    </tr>\n",
       "    <tr>\n",
       "      <th>3895</th>\n",
       "      <td>The North Face Womens Khumbu Jacket Brown Whit...</td>\n",
       "      <td>66</td>\n",
       "      <td>2181.700003</td>\n",
       "      <td>33.056061</td>\n",
       "    </tr>\n",
       "    <tr>\n",
       "      <th>536</th>\n",
       "      <td>Bali Women's Smooth Compliments Underwire Bra ...</td>\n",
       "      <td>65</td>\n",
       "      <td>4631.730015</td>\n",
       "      <td>71.257385</td>\n",
       "    </tr>\n",
       "    <tr>\n",
       "      <th>596</th>\n",
       "      <td>Betsey Johnson Women's Luscious Lite Stretch L...</td>\n",
       "      <td>65</td>\n",
       "      <td>3499.879969</td>\n",
       "      <td>53.844307</td>\n",
       "    </tr>\n",
       "    <tr>\n",
       "      <th>3680</th>\n",
       "      <td>Smartwool Men's Microweight Boxer Brief</td>\n",
       "      <td>64</td>\n",
       "      <td>3544.529991</td>\n",
       "      <td>55.383281</td>\n",
       "    </tr>\n",
       "    <tr>\n",
       "      <th>2738</th>\n",
       "      <td>Merrell Women's Delilah Long Fleece Sweater Ja...</td>\n",
       "      <td>63</td>\n",
       "      <td>2839.200023</td>\n",
       "      <td>45.066667</td>\n",
       "    </tr>\n",
       "  </tbody>\n",
       "</table>\n",
       "</div>"
      ],
      "text/plain": [
       "                                           product_name  purchase_count  \\\n",
       "4312   Woman Within Plus Size 2-pack maternity leggings              76   \n",
       "4251         Wacoal Women's Retro Chic Full Figure Wire              72   \n",
       "4026              Trina Turk Women's Tony Slim Fit Pant              72   \n",
       "3453    Rebel8 - Don't Tread On Me Mens Hoodie in Black              71   \n",
       "4477   point6 1153 Active Light Cushion Mini Crew Socks              66   \n",
       "3895  The North Face Womens Khumbu Jacket Brown Whit...              66   \n",
       "536   Bali Women's Smooth Compliments Underwire Bra ...              65   \n",
       "596   Betsey Johnson Women's Luscious Lite Stretch L...              65   \n",
       "3680            Smartwool Men's Microweight Boxer Brief              64   \n",
       "2738  Merrell Women's Delilah Long Fleece Sweater Ja...              63   \n",
       "\n",
       "      total_revenue   avg_price  \n",
       "4312    2636.330011   34.688553  \n",
       "4251    7182.740005   99.760278  \n",
       "4026    2662.179998   36.974722  \n",
       "3453    3705.379986   52.188451  \n",
       "4477    7369.770126  111.663184  \n",
       "3895    2181.700003   33.056061  \n",
       "536     4631.730015   71.257385  \n",
       "596     3499.879969   53.844307  \n",
       "3680    3544.529991   55.383281  \n",
       "2738    2839.200023   45.066667  "
      ]
     },
     "execution_count": 199,
     "metadata": {},
     "output_type": "execute_result"
    }
   ],
   "source": [
    "top_products_male_stats = (\n",
    "    merged_df[merged_df['gender'] == 'M']\n",
    "    .groupby('product_name')\n",
    "    .agg(\n",
    "        purchase_count=('product_name', 'size'),\n",
    "        total_revenue=('sale_price', 'sum'),\n",
    "        avg_price=('sale_price', 'mean')\n",
    "    )\n",
    "    .reset_index()\n",
    "    .sort_values(by='purchase_count', ascending=False)\n",
    "    .head(10)\n",
    ")\n",
    "\n",
    "top_products_male_stats"
   ]
  },
  {
   "cell_type": "code",
   "execution_count": 200,
   "id": "1ced6321-b298-4d2a-a4df-07e0bcab571f",
   "metadata": {},
   "outputs": [
    {
     "data": {
      "image/png": "[encoded data removed]",
      "text/plain": [
       "<Figure size 800x500 with 1 Axes>"
      ]
     },
     "metadata": {},
     "output_type": "display_data"
    }
   ],
   "source": [
    "# Number of unique orders per user\n",
    "order_freq = (\n",
    "    merged_df.groupby('user_id')['order_id']\n",
    "    .nunique()\n",
    "    .reset_index(name='order_count')\n",
    ")\n",
    "''' Groups the dataset by each user_id, counts the number of unique orders placed by each user\n",
    "This creates  new dataframe order_freq user_id and order_counts\n",
    "'''\n",
    "plt.figure(figsize=(8,5))\n",
    "sns.histplot(order_freq['order_count'], bins=30, kde=False)\n",
    "plt.title('Order Frequency per User')\n",
    "plt.xlabel('Number of Orders')\n",
    "plt.ylabel('Number of Customers')\n",
    "\n",
    "plt.savefig('Graphs/order_frequency.png')\n",
    "plt.show()\n"
   ]
  },
  {
   "cell_type": "markdown",
   "id": "619b7053-09e2-49e7-8079-64d72cfe218d",
   "metadata": {},
   "source": [
    "#### Order Frequency per User\n",
    "\n",
    "50,000 customers placed only one order, 20,000 placed 2 orders and less than 10,000 placed over 3 orders and above"
   ]
  },
  {
   "cell_type": "code",
   "execution_count": 201,
   "id": "58113ef5-aa91-4247-8cef-cd1a12aad179",
   "metadata": {},
   "outputs": [
    {
     "data": {
      "text/html": [
       "<div>\n",
       "<style scoped>\n",
       "    .dataframe tbody tr th:only-of-type {\n",
       "        vertical-align: middle;\n",
       "    }\n",
       "\n",
       "    .dataframe tbody tr th {\n",
       "        vertical-align: top;\n",
       "    }\n",
       "\n",
       "    .dataframe thead th {\n",
       "        text-align: right;\n",
       "    }\n",
       "</style>\n",
       "<table border=\"1\" class=\"dataframe\">\n",
       "  <thead>\n",
       "    <tr style=\"text-align: right;\">\n",
       "      <th></th>\n",
       "      <th>user_id</th>\n",
       "      <th>order_count</th>\n",
       "    </tr>\n",
       "  </thead>\n",
       "  <tbody>\n",
       "    <tr>\n",
       "      <th>40164</th>\n",
       "      <td>50088</td>\n",
       "      <td>4</td>\n",
       "    </tr>\n",
       "    <tr>\n",
       "      <th>36705</th>\n",
       "      <td>45744</td>\n",
       "      <td>4</td>\n",
       "    </tr>\n",
       "    <tr>\n",
       "      <th>36634</th>\n",
       "      <td>45656</td>\n",
       "      <td>4</td>\n",
       "    </tr>\n",
       "    <tr>\n",
       "      <th>9781</th>\n",
       "      <td>12191</td>\n",
       "      <td>4</td>\n",
       "    </tr>\n",
       "    <tr>\n",
       "      <th>57273</th>\n",
       "      <td>71332</td>\n",
       "      <td>4</td>\n",
       "    </tr>\n",
       "    <tr>\n",
       "      <th>...</th>\n",
       "      <td>...</td>\n",
       "      <td>...</td>\n",
       "    </tr>\n",
       "    <tr>\n",
       "      <th>32855</th>\n",
       "      <td>40955</td>\n",
       "      <td>1</td>\n",
       "    </tr>\n",
       "    <tr>\n",
       "      <th>32856</th>\n",
       "      <td>40956</td>\n",
       "      <td>1</td>\n",
       "    </tr>\n",
       "    <tr>\n",
       "      <th>32858</th>\n",
       "      <td>40959</td>\n",
       "      <td>1</td>\n",
       "    </tr>\n",
       "    <tr>\n",
       "      <th>32859</th>\n",
       "      <td>40961</td>\n",
       "      <td>1</td>\n",
       "    </tr>\n",
       "    <tr>\n",
       "      <th>80327</th>\n",
       "      <td>100000</td>\n",
       "      <td>1</td>\n",
       "    </tr>\n",
       "  </tbody>\n",
       "</table>\n",
       "<p>80328 rows × 2 columns</p>\n",
       "</div>"
      ],
      "text/plain": [
       "       user_id  order_count\n",
       "40164    50088            4\n",
       "36705    45744            4\n",
       "36634    45656            4\n",
       "9781     12191            4\n",
       "57273    71332            4\n",
       "...        ...          ...\n",
       "32855    40955            1\n",
       "32856    40956            1\n",
       "32858    40959            1\n",
       "32859    40961            1\n",
       "80327   100000            1\n",
       "\n",
       "[80328 rows x 2 columns]"
      ]
     },
     "execution_count": 201,
     "metadata": {},
     "output_type": "execute_result"
    }
   ],
   "source": [
    "# sorting customers based on the total number of orders placed\n",
    "\n",
    "order_freq.sort_values(by = 'order_count', ascending = False)"
   ]
  },
  {
   "cell_type": "markdown",
   "id": "db8e79c4-b2b1-436d-b895-2b3380c92912",
   "metadata": {},
   "source": [
    "### Customer Retention Rate  (CRR)\n",
    "\n",
    "- #### Repeat vs One-Time Buyers\n",
    "  (Lifetime loyalty measure: This calculates the total orders placed by customers to determine if customers placed multiple orders during the  period covered in the analysis)"
   ]
  },
  {
   "cell_type": "code",
   "execution_count": 202,
   "id": "16da3466-7972-45e1-9892-bb0bdf8a09a3",
   "metadata": {},
   "outputs": [
    {
     "data": {
      "image/png": "[encoded data removed]",
      "text/plain": [
       "<Figure size 600x400 with 1 Axes>"
      ]
     },
     "metadata": {},
     "output_type": "display_data"
    }
   ],
   "source": [
    "# Repeat vs One-Time classification\n",
    "order_freq['buyer_type'] = order_freq['order_count'].apply(\n",
    "    lambda x: 'Repeat Buyer' if x > 1 else 'One-Time Buyer')\n",
    "\n",
    "'''\n",
    "Goes through each user’s order_count, if order_id  > 1, customer is a repeat buyer,\n",
    "else, one time buyer\n",
    "'''\n",
    "buyer_counts = order_freq['buyer_type'].value_counts().reset_index()\n",
    "buyer_counts.columns = ['buyer_type', 'count']\n",
    "\n",
    "# Bar Chart\n",
    "plt.figure(figsize=(6,4))\n",
    "sns.barplot(x='buyer_type', y='count', data=buyer_counts)\n",
    "plt.title('Repeat vs One-Time Buyers')\n",
    "plt.xlabel('')\n",
    "plt.ylabel('Number of Customers')\n",
    "plt.savefig('Graphs/bar_repeat_customers.png')\n",
    "plt.show()\n"
   ]
  },
  {
   "cell_type": "code",
   "execution_count": 203,
   "id": "4a6b22c4-9050-45e2-8eee-b6e41c3a00e0",
   "metadata": {},
   "outputs": [
    {
     "data": {
      "image/png": "[encoded data removed]",
      "text/plain": [
       "<Figure size 600x600 with 1 Axes>"
      ]
     },
     "metadata": {},
     "output_type": "display_data"
    }
   ],
   "source": [
    "# Pie Chart\n",
    "plt.figure(figsize=(6,6))\n",
    "plt.pie(buyer_counts['count'], labels=buyer_counts['buyer_type'], autopct='%1.1f%%')\n",
    "plt.title('Repeat vs One-Time Buyers')\n",
    "plt.savefig('Graphs/pie_repeat_customers.png')\n",
    "plt.show()"
   ]
  },
  {
   "cell_type": "markdown",
   "id": "1518b040-1a8f-4711-8403-492f7742e4ec",
   "metadata": {},
   "source": [
    "- #### Return vs New customers trend analysis"
   ]
  },
  {
   "cell_type": "code",
   "execution_count": 205,
   "id": "76af9561-be3a-430f-b4c5-9d3d5164416f",
   "metadata": {},
   "outputs": [
    {
     "name": "stderr",
     "output_type": "stream",
     "text": [
      "C:\\Users\\DELL XPS\\AppData\\Local\\Temp\\ipykernel_11096\\979830953.py:5: UserWarning: Converting to PeriodArray/Index representation will drop timezone information.\n",
      "  merged_df['order_month'] = merged_df['order_created_at'].dt.to_period('M')\n",
      "C:\\Users\\DELL XPS\\AppData\\Local\\Temp\\ipykernel_11096\\979830953.py:11: UserWarning: Converting to PeriodArray/Index representation will drop timezone information.\n",
      "  .dt.to_period('M')\n"
     ]
    },
    {
     "ename": "KeyError",
     "evalue": "'first_order_month'",
     "output_type": "error",
     "traceback": [
      "\u001b[1;31m---------------------------------------------------------------------------\u001b[0m",
      "\u001b[1;31mKeyError\u001b[0m                                  Traceback (most recent call last)",
      "File \u001b[1;32m~\\virtual\\dsb_602\\Lib\\site-packages\\pandas\\core\\indexes\\base.py:3805\u001b[0m, in \u001b[0;36mIndex.get_loc\u001b[1;34m(self, key)\u001b[0m\n\u001b[0;32m   3804\u001b[0m \u001b[38;5;28;01mtry\u001b[39;00m:\n\u001b[1;32m-> 3805\u001b[0m     \u001b[38;5;28;01mreturn\u001b[39;00m \u001b[38;5;28;43mself\u001b[39;49m\u001b[38;5;241;43m.\u001b[39;49m\u001b[43m_engine\u001b[49m\u001b[38;5;241;43m.\u001b[39;49m\u001b[43mget_loc\u001b[49m\u001b[43m(\u001b[49m\u001b[43mcasted_key\u001b[49m\u001b[43m)\u001b[49m\n\u001b[0;32m   3806\u001b[0m \u001b[38;5;28;01mexcept\u001b[39;00m \u001b[38;5;167;01mKeyError\u001b[39;00m \u001b[38;5;28;01mas\u001b[39;00m err:\n",
      "File \u001b[1;32mindex.pyx:167\u001b[0m, in \u001b[0;36mpandas._libs.index.IndexEngine.get_loc\u001b[1;34m()\u001b[0m\n",
      "File \u001b[1;32mindex.pyx:196\u001b[0m, in \u001b[0;36mpandas._libs.index.IndexEngine.get_loc\u001b[1;34m()\u001b[0m\n",
      "File \u001b[1;32mpandas\\\\_libs\\\\hashtable_class_helper.pxi:7081\u001b[0m, in \u001b[0;36mpandas._libs.hashtable.PyObjectHashTable.get_item\u001b[1;34m()\u001b[0m\n",
      "File \u001b[1;32mpandas\\\\_libs\\\\hashtable_class_helper.pxi:7089\u001b[0m, in \u001b[0;36mpandas._libs.hashtable.PyObjectHashTable.get_item\u001b[1;34m()\u001b[0m\n",
      "\u001b[1;31mKeyError\u001b[0m: 'first_order_month'",
      "\nThe above exception was the direct cause of the following exception:\n",
      "\u001b[1;31mKeyError\u001b[0m                                  Traceback (most recent call last)",
      "Cell \u001b[1;32mIn[205], line 20\u001b[0m\n\u001b[0;32m     17\u001b[0m merged_df \u001b[38;5;241m=\u001b[39m merged_df\u001b[38;5;241m.\u001b[39mmerge(first_orders, on\u001b[38;5;241m=\u001b[39m\u001b[38;5;124m'\u001b[39m\u001b[38;5;124muser_id\u001b[39m\u001b[38;5;124m'\u001b[39m, how\u001b[38;5;241m=\u001b[39m\u001b[38;5;124m'\u001b[39m\u001b[38;5;124mleft\u001b[39m\u001b[38;5;124m'\u001b[39m)\n\u001b[0;32m     19\u001b[0m \u001b[38;5;66;03m# 5. Label each order as New vs Returning\u001b[39;00m\n\u001b[1;32m---> 20\u001b[0m merged_df[\u001b[38;5;124m'\u001b[39m\u001b[38;5;124mcustomer_type\u001b[39m\u001b[38;5;124m'\u001b[39m] \u001b[38;5;241m=\u001b[39m \u001b[43mmerged_df\u001b[49m\u001b[38;5;241;43m.\u001b[39;49m\u001b[43mapply\u001b[49m\u001b[43m(\u001b[49m\n\u001b[0;32m     21\u001b[0m \u001b[43m    \u001b[49m\u001b[38;5;28;43;01mlambda\u001b[39;49;00m\u001b[43m \u001b[49m\u001b[43mrow\u001b[49m\u001b[43m:\u001b[49m\u001b[43m \u001b[49m\u001b[38;5;124;43m'\u001b[39;49m\u001b[38;5;124;43mNew\u001b[39;49m\u001b[38;5;124;43m'\u001b[39;49m\u001b[43m \u001b[49m\u001b[38;5;28;43;01mif\u001b[39;49;00m\u001b[43m \u001b[49m\u001b[43mrow\u001b[49m\u001b[43m[\u001b[49m\u001b[38;5;124;43m'\u001b[39;49m\u001b[38;5;124;43morder_month\u001b[39;49m\u001b[38;5;124;43m'\u001b[39;49m\u001b[43m]\u001b[49m\u001b[43m \u001b[49m\u001b[38;5;241;43m==\u001b[39;49m\u001b[43m \u001b[49m\u001b[43mrow\u001b[49m\u001b[43m[\u001b[49m\u001b[38;5;124;43m'\u001b[39;49m\u001b[38;5;124;43mfirst_order_month\u001b[39;49m\u001b[38;5;124;43m'\u001b[39;49m\u001b[43m]\u001b[49m\u001b[43m \u001b[49m\u001b[38;5;28;43;01melse\u001b[39;49;00m\u001b[43m \u001b[49m\u001b[38;5;124;43m'\u001b[39;49m\u001b[38;5;124;43mReturning\u001b[39;49m\u001b[38;5;124;43m'\u001b[39;49m\u001b[43m,\u001b[49m\n\u001b[0;32m     22\u001b[0m \u001b[43m    \u001b[49m\u001b[43maxis\u001b[49m\u001b[38;5;241;43m=\u001b[39;49m\u001b[38;5;241;43m1\u001b[39;49m\n\u001b[0;32m     23\u001b[0m \u001b[43m)\u001b[49m\n\u001b[0;32m     25\u001b[0m \u001b[38;5;66;03m# Aggregate counts per month\u001b[39;00m\n\u001b[0;32m     26\u001b[0m monthly_customer_counts \u001b[38;5;241m=\u001b[39m (\n\u001b[0;32m     27\u001b[0m     merged_df\u001b[38;5;241m.\u001b[39mgroupby([\u001b[38;5;124m'\u001b[39m\u001b[38;5;124morder_month\u001b[39m\u001b[38;5;124m'\u001b[39m, \u001b[38;5;124m'\u001b[39m\u001b[38;5;124mcustomer_type\u001b[39m\u001b[38;5;124m'\u001b[39m])[\u001b[38;5;124m'\u001b[39m\u001b[38;5;124muser_id\u001b[39m\u001b[38;5;124m'\u001b[39m]\n\u001b[0;32m     28\u001b[0m     \u001b[38;5;241m.\u001b[39mnunique()\n\u001b[0;32m     29\u001b[0m     \u001b[38;5;241m.\u001b[39mreset_index(name\u001b[38;5;241m=\u001b[39m\u001b[38;5;124m'\u001b[39m\u001b[38;5;124mnum_customers\u001b[39m\u001b[38;5;124m'\u001b[39m)\n\u001b[0;32m     30\u001b[0m )\n",
      "File \u001b[1;32m~\\virtual\\dsb_602\\Lib\\site-packages\\pandas\\core\\frame.py:10374\u001b[0m, in \u001b[0;36mDataFrame.apply\u001b[1;34m(self, func, axis, raw, result_type, args, by_row, engine, engine_kwargs, **kwargs)\u001b[0m\n\u001b[0;32m  10360\u001b[0m \u001b[38;5;28;01mfrom\u001b[39;00m\u001b[38;5;250m \u001b[39m\u001b[38;5;21;01mpandas\u001b[39;00m\u001b[38;5;21;01m.\u001b[39;00m\u001b[38;5;21;01mcore\u001b[39;00m\u001b[38;5;21;01m.\u001b[39;00m\u001b[38;5;21;01mapply\u001b[39;00m\u001b[38;5;250m \u001b[39m\u001b[38;5;28;01mimport\u001b[39;00m frame_apply\n\u001b[0;32m  10362\u001b[0m op \u001b[38;5;241m=\u001b[39m frame_apply(\n\u001b[0;32m  10363\u001b[0m     \u001b[38;5;28mself\u001b[39m,\n\u001b[0;32m  10364\u001b[0m     func\u001b[38;5;241m=\u001b[39mfunc,\n\u001b[1;32m   (...)\u001b[0m\n\u001b[0;32m  10372\u001b[0m     kwargs\u001b[38;5;241m=\u001b[39mkwargs,\n\u001b[0;32m  10373\u001b[0m )\n\u001b[1;32m> 10374\u001b[0m \u001b[38;5;28;01mreturn\u001b[39;00m \u001b[43mop\u001b[49m\u001b[38;5;241;43m.\u001b[39;49m\u001b[43mapply\u001b[49m\u001b[43m(\u001b[49m\u001b[43m)\u001b[49m\u001b[38;5;241m.\u001b[39m__finalize__(\u001b[38;5;28mself\u001b[39m, method\u001b[38;5;241m=\u001b[39m\u001b[38;5;124m\"\u001b[39m\u001b[38;5;124mapply\u001b[39m\u001b[38;5;124m\"\u001b[39m)\n",
      "File \u001b[1;32m~\\virtual\\dsb_602\\Lib\\site-packages\\pandas\\core\\apply.py:916\u001b[0m, in \u001b[0;36mFrameApply.apply\u001b[1;34m(self)\u001b[0m\n\u001b[0;32m    913\u001b[0m \u001b[38;5;28;01melif\u001b[39;00m \u001b[38;5;28mself\u001b[39m\u001b[38;5;241m.\u001b[39mraw:\n\u001b[0;32m    914\u001b[0m     \u001b[38;5;28;01mreturn\u001b[39;00m \u001b[38;5;28mself\u001b[39m\u001b[38;5;241m.\u001b[39mapply_raw(engine\u001b[38;5;241m=\u001b[39m\u001b[38;5;28mself\u001b[39m\u001b[38;5;241m.\u001b[39mengine, engine_kwargs\u001b[38;5;241m=\u001b[39m\u001b[38;5;28mself\u001b[39m\u001b[38;5;241m.\u001b[39mengine_kwargs)\n\u001b[1;32m--> 916\u001b[0m \u001b[38;5;28;01mreturn\u001b[39;00m \u001b[38;5;28;43mself\u001b[39;49m\u001b[38;5;241;43m.\u001b[39;49m\u001b[43mapply_standard\u001b[49m\u001b[43m(\u001b[49m\u001b[43m)\u001b[49m\n",
      "File \u001b[1;32m~\\virtual\\dsb_602\\Lib\\site-packages\\pandas\\core\\apply.py:1063\u001b[0m, in \u001b[0;36mFrameApply.apply_standard\u001b[1;34m(self)\u001b[0m\n\u001b[0;32m   1061\u001b[0m \u001b[38;5;28;01mdef\u001b[39;00m\u001b[38;5;250m \u001b[39m\u001b[38;5;21mapply_standard\u001b[39m(\u001b[38;5;28mself\u001b[39m):\n\u001b[0;32m   1062\u001b[0m     \u001b[38;5;28;01mif\u001b[39;00m \u001b[38;5;28mself\u001b[39m\u001b[38;5;241m.\u001b[39mengine \u001b[38;5;241m==\u001b[39m \u001b[38;5;124m\"\u001b[39m\u001b[38;5;124mpython\u001b[39m\u001b[38;5;124m\"\u001b[39m:\n\u001b[1;32m-> 1063\u001b[0m         results, res_index \u001b[38;5;241m=\u001b[39m \u001b[38;5;28;43mself\u001b[39;49m\u001b[38;5;241;43m.\u001b[39;49m\u001b[43mapply_series_generator\u001b[49m\u001b[43m(\u001b[49m\u001b[43m)\u001b[49m\n\u001b[0;32m   1064\u001b[0m     \u001b[38;5;28;01melse\u001b[39;00m:\n\u001b[0;32m   1065\u001b[0m         results, res_index \u001b[38;5;241m=\u001b[39m \u001b[38;5;28mself\u001b[39m\u001b[38;5;241m.\u001b[39mapply_series_numba()\n",
      "File \u001b[1;32m~\\virtual\\dsb_602\\Lib\\site-packages\\pandas\\core\\apply.py:1081\u001b[0m, in \u001b[0;36mFrameApply.apply_series_generator\u001b[1;34m(self)\u001b[0m\n\u001b[0;32m   1078\u001b[0m \u001b[38;5;28;01mwith\u001b[39;00m option_context(\u001b[38;5;124m\"\u001b[39m\u001b[38;5;124mmode.chained_assignment\u001b[39m\u001b[38;5;124m\"\u001b[39m, \u001b[38;5;28;01mNone\u001b[39;00m):\n\u001b[0;32m   1079\u001b[0m     \u001b[38;5;28;01mfor\u001b[39;00m i, v \u001b[38;5;129;01min\u001b[39;00m \u001b[38;5;28menumerate\u001b[39m(series_gen):\n\u001b[0;32m   1080\u001b[0m         \u001b[38;5;66;03m# ignore SettingWithCopy here in case the user mutates\u001b[39;00m\n\u001b[1;32m-> 1081\u001b[0m         results[i] \u001b[38;5;241m=\u001b[39m \u001b[38;5;28;43mself\u001b[39;49m\u001b[38;5;241;43m.\u001b[39;49m\u001b[43mfunc\u001b[49m\u001b[43m(\u001b[49m\u001b[43mv\u001b[49m\u001b[43m,\u001b[49m\u001b[43m \u001b[49m\u001b[38;5;241;43m*\u001b[39;49m\u001b[38;5;28;43mself\u001b[39;49m\u001b[38;5;241;43m.\u001b[39;49m\u001b[43margs\u001b[49m\u001b[43m,\u001b[49m\u001b[43m \u001b[49m\u001b[38;5;241;43m*\u001b[39;49m\u001b[38;5;241;43m*\u001b[39;49m\u001b[38;5;28;43mself\u001b[39;49m\u001b[38;5;241;43m.\u001b[39;49m\u001b[43mkwargs\u001b[49m\u001b[43m)\u001b[49m\n\u001b[0;32m   1082\u001b[0m         \u001b[38;5;28;01mif\u001b[39;00m \u001b[38;5;28misinstance\u001b[39m(results[i], ABCSeries):\n\u001b[0;32m   1083\u001b[0m             \u001b[38;5;66;03m# If we have a view on v, we need to make a copy because\u001b[39;00m\n\u001b[0;32m   1084\u001b[0m             \u001b[38;5;66;03m#  series_generator will swap out the underlying data\u001b[39;00m\n\u001b[0;32m   1085\u001b[0m             results[i] \u001b[38;5;241m=\u001b[39m results[i]\u001b[38;5;241m.\u001b[39mcopy(deep\u001b[38;5;241m=\u001b[39m\u001b[38;5;28;01mFalse\u001b[39;00m)\n",
      "Cell \u001b[1;32mIn[205], line 21\u001b[0m, in \u001b[0;36m<lambda>\u001b[1;34m(row)\u001b[0m\n\u001b[0;32m     17\u001b[0m merged_df \u001b[38;5;241m=\u001b[39m merged_df\u001b[38;5;241m.\u001b[39mmerge(first_orders, on\u001b[38;5;241m=\u001b[39m\u001b[38;5;124m'\u001b[39m\u001b[38;5;124muser_id\u001b[39m\u001b[38;5;124m'\u001b[39m, how\u001b[38;5;241m=\u001b[39m\u001b[38;5;124m'\u001b[39m\u001b[38;5;124mleft\u001b[39m\u001b[38;5;124m'\u001b[39m)\n\u001b[0;32m     19\u001b[0m \u001b[38;5;66;03m# 5. Label each order as New vs Returning\u001b[39;00m\n\u001b[0;32m     20\u001b[0m merged_df[\u001b[38;5;124m'\u001b[39m\u001b[38;5;124mcustomer_type\u001b[39m\u001b[38;5;124m'\u001b[39m] \u001b[38;5;241m=\u001b[39m merged_df\u001b[38;5;241m.\u001b[39mapply(\n\u001b[1;32m---> 21\u001b[0m     \u001b[38;5;28;01mlambda\u001b[39;00m row: \u001b[38;5;124m'\u001b[39m\u001b[38;5;124mNew\u001b[39m\u001b[38;5;124m'\u001b[39m \u001b[38;5;28;01mif\u001b[39;00m row[\u001b[38;5;124m'\u001b[39m\u001b[38;5;124morder_month\u001b[39m\u001b[38;5;124m'\u001b[39m] \u001b[38;5;241m==\u001b[39m \u001b[43mrow\u001b[49m\u001b[43m[\u001b[49m\u001b[38;5;124;43m'\u001b[39;49m\u001b[38;5;124;43mfirst_order_month\u001b[39;49m\u001b[38;5;124;43m'\u001b[39;49m\u001b[43m]\u001b[49m \u001b[38;5;28;01melse\u001b[39;00m \u001b[38;5;124m'\u001b[39m\u001b[38;5;124mReturning\u001b[39m\u001b[38;5;124m'\u001b[39m,\n\u001b[0;32m     22\u001b[0m     axis\u001b[38;5;241m=\u001b[39m\u001b[38;5;241m1\u001b[39m\n\u001b[0;32m     23\u001b[0m )\n\u001b[0;32m     25\u001b[0m \u001b[38;5;66;03m# Aggregate counts per month\u001b[39;00m\n\u001b[0;32m     26\u001b[0m monthly_customer_counts \u001b[38;5;241m=\u001b[39m (\n\u001b[0;32m     27\u001b[0m     merged_df\u001b[38;5;241m.\u001b[39mgroupby([\u001b[38;5;124m'\u001b[39m\u001b[38;5;124morder_month\u001b[39m\u001b[38;5;124m'\u001b[39m, \u001b[38;5;124m'\u001b[39m\u001b[38;5;124mcustomer_type\u001b[39m\u001b[38;5;124m'\u001b[39m])[\u001b[38;5;124m'\u001b[39m\u001b[38;5;124muser_id\u001b[39m\u001b[38;5;124m'\u001b[39m]\n\u001b[0;32m     28\u001b[0m     \u001b[38;5;241m.\u001b[39mnunique()\n\u001b[0;32m     29\u001b[0m     \u001b[38;5;241m.\u001b[39mreset_index(name\u001b[38;5;241m=\u001b[39m\u001b[38;5;124m'\u001b[39m\u001b[38;5;124mnum_customers\u001b[39m\u001b[38;5;124m'\u001b[39m)\n\u001b[0;32m     30\u001b[0m )\n",
      "File \u001b[1;32m~\\virtual\\dsb_602\\Lib\\site-packages\\pandas\\core\\series.py:1121\u001b[0m, in \u001b[0;36mSeries.__getitem__\u001b[1;34m(self, key)\u001b[0m\n\u001b[0;32m   1118\u001b[0m     \u001b[38;5;28;01mreturn\u001b[39;00m \u001b[38;5;28mself\u001b[39m\u001b[38;5;241m.\u001b[39m_values[key]\n\u001b[0;32m   1120\u001b[0m \u001b[38;5;28;01melif\u001b[39;00m key_is_scalar:\n\u001b[1;32m-> 1121\u001b[0m     \u001b[38;5;28;01mreturn\u001b[39;00m \u001b[38;5;28;43mself\u001b[39;49m\u001b[38;5;241;43m.\u001b[39;49m\u001b[43m_get_value\u001b[49m\u001b[43m(\u001b[49m\u001b[43mkey\u001b[49m\u001b[43m)\u001b[49m\n\u001b[0;32m   1123\u001b[0m \u001b[38;5;66;03m# Convert generator to list before going through hashable part\u001b[39;00m\n\u001b[0;32m   1124\u001b[0m \u001b[38;5;66;03m# (We will iterate through the generator there to check for slices)\u001b[39;00m\n\u001b[0;32m   1125\u001b[0m \u001b[38;5;28;01mif\u001b[39;00m is_iterator(key):\n",
      "File \u001b[1;32m~\\virtual\\dsb_602\\Lib\\site-packages\\pandas\\core\\series.py:1237\u001b[0m, in \u001b[0;36mSeries._get_value\u001b[1;34m(self, label, takeable)\u001b[0m\n\u001b[0;32m   1234\u001b[0m     \u001b[38;5;28;01mreturn\u001b[39;00m \u001b[38;5;28mself\u001b[39m\u001b[38;5;241m.\u001b[39m_values[label]\n\u001b[0;32m   1236\u001b[0m \u001b[38;5;66;03m# Similar to Index.get_value, but we do not fall back to positional\u001b[39;00m\n\u001b[1;32m-> 1237\u001b[0m loc \u001b[38;5;241m=\u001b[39m \u001b[38;5;28;43mself\u001b[39;49m\u001b[38;5;241;43m.\u001b[39;49m\u001b[43mindex\u001b[49m\u001b[38;5;241;43m.\u001b[39;49m\u001b[43mget_loc\u001b[49m\u001b[43m(\u001b[49m\u001b[43mlabel\u001b[49m\u001b[43m)\u001b[49m\n\u001b[0;32m   1239\u001b[0m \u001b[38;5;28;01mif\u001b[39;00m is_integer(loc):\n\u001b[0;32m   1240\u001b[0m     \u001b[38;5;28;01mreturn\u001b[39;00m \u001b[38;5;28mself\u001b[39m\u001b[38;5;241m.\u001b[39m_values[loc]\n",
      "File \u001b[1;32m~\\virtual\\dsb_602\\Lib\\site-packages\\pandas\\core\\indexes\\base.py:3812\u001b[0m, in \u001b[0;36mIndex.get_loc\u001b[1;34m(self, key)\u001b[0m\n\u001b[0;32m   3807\u001b[0m     \u001b[38;5;28;01mif\u001b[39;00m \u001b[38;5;28misinstance\u001b[39m(casted_key, \u001b[38;5;28mslice\u001b[39m) \u001b[38;5;129;01mor\u001b[39;00m (\n\u001b[0;32m   3808\u001b[0m         \u001b[38;5;28misinstance\u001b[39m(casted_key, abc\u001b[38;5;241m.\u001b[39mIterable)\n\u001b[0;32m   3809\u001b[0m         \u001b[38;5;129;01mand\u001b[39;00m \u001b[38;5;28many\u001b[39m(\u001b[38;5;28misinstance\u001b[39m(x, \u001b[38;5;28mslice\u001b[39m) \u001b[38;5;28;01mfor\u001b[39;00m x \u001b[38;5;129;01min\u001b[39;00m casted_key)\n\u001b[0;32m   3810\u001b[0m     ):\n\u001b[0;32m   3811\u001b[0m         \u001b[38;5;28;01mraise\u001b[39;00m InvalidIndexError(key)\n\u001b[1;32m-> 3812\u001b[0m     \u001b[38;5;28;01mraise\u001b[39;00m \u001b[38;5;167;01mKeyError\u001b[39;00m(key) \u001b[38;5;28;01mfrom\u001b[39;00m\u001b[38;5;250m \u001b[39m\u001b[38;5;21;01merr\u001b[39;00m\n\u001b[0;32m   3813\u001b[0m \u001b[38;5;28;01mexcept\u001b[39;00m \u001b[38;5;167;01mTypeError\u001b[39;00m:\n\u001b[0;32m   3814\u001b[0m     \u001b[38;5;66;03m# If we have a listlike key, _check_indexing_error will raise\u001b[39;00m\n\u001b[0;32m   3815\u001b[0m     \u001b[38;5;66;03m#  InvalidIndexError. Otherwise we fall through and re-raise\u001b[39;00m\n\u001b[0;32m   3816\u001b[0m     \u001b[38;5;66;03m#  the TypeError.\u001b[39;00m\n\u001b[0;32m   3817\u001b[0m     \u001b[38;5;28mself\u001b[39m\u001b[38;5;241m.\u001b[39m_check_indexing_error(key)\n",
      "\u001b[1;31mKeyError\u001b[0m: 'first_order_month'"
     ]
    }
   ],
   "source": [
    "\n",
    "# ensuring that dates are in datetime format\n",
    "merged_df['order_created_at'] = pd.to_datetime(merged_df['order_created_at'])\n",
    "\n",
    "# Extract year-month for grouping\n",
    "merged_df['order_month'] = merged_df['order_created_at'].dt.to_period('M')\n",
    "\n",
    "# Find each user's first order month\n",
    "first_orders = (\n",
    "    merged_df.groupby('user_id')['order_created_at']\n",
    "    .min()\n",
    "    .dt.to_period('M')\n",
    "    .reset_index()\n",
    "    .rename(columns={'order_created_at': 'first_order_month'})\n",
    ")\n",
    "\n",
    "# Merge first order info back into main df\n",
    "merged_df = merged_df.merge(first_orders, on='user_id', how='left')\n",
    "\n",
    "# Label each order as New vs Returning\n",
    "merged_df['customer_type'] = merged_df.apply(\n",
    "    lambda row: 'New' if row['order_month'] == row['first_order_month'] else 'Returning',\n",
    "    axis=1\n",
    ")\n",
    "\n",
    "# Aggregate counts per month\n",
    "monthly_customer_counts = (\n",
    "    merged_df.groupby(['order_month', 'customer_type'])['user_id']\n",
    "    .nunique()\n",
    "    .reset_index(name='num_customers')\n",
    ")\n",
    "\n",
    "print(monthly_customer_counts.head(10))\n"
   ]
  },
  {
   "cell_type": "code",
   "execution_count": 211,
   "id": "e86378a0-f9f3-431e-bd7f-02179c93a2bf",
   "metadata": {},
   "outputs": [
    {
     "data": {
      "image/png": "[encoded data removed]",
      "text/plain": [
       "<Figure size 1800x600 with 1 Axes>"
      ]
     },
     "metadata": {},
     "output_type": "display_data"
    }
   ],
   "source": [
    "monthly_customer_counts['order_month'] = monthly_customer_counts['order_month'].astype(str)\n",
    "\n",
    "plt.figure(figsize=(18,6))\n",
    "sns.lineplot(\n",
    "    data=monthly_customer_counts,\n",
    "    x='order_month',\n",
    "    y='num_customers',\n",
    "    hue='customer_type',\n",
    "    marker='o'\n",
    ")\n",
    "plt.title('New vs Returning Customers per Month')\n",
    "plt.xlabel('Month')\n",
    "plt.ylabel('Number of Customers')\n",
    "plt.xticks(rotation=90)\n",
    "plt.savefig('Graphs/New_returnTrends.png')\n",
    "plt.show()\n"
   ]
  },
  {
   "cell_type": "markdown",
   "id": "11329a41-e6d1-48c4-81d7-06ee7f37d723",
   "metadata": {},
   "source": [
    "#### New vs Returning Customers per Month\n",
    "\n",
    "The data captures monthly customer patronge from January 2019 to September 2025. This plot shows that while the majority of customers are one-time buyters (52.7%), the month-over-month trend shows returning customers are steadily increasing. This suggests retenstion is improving given the up wards \n",
    "trend in the plot. Strategies should focus on converting one-time buyers into repeat customers to balance long-term growth"
   ]
  },
  {
   "cell_type": "code",
   "execution_count": 212,
   "id": "eb8ed145-da1d-4ef0-9767-cb4b341d43b7",
   "metadata": {},
   "outputs": [
    {
     "data": {
      "text/plain": [
       "Index(['orderitem_id', 'order_id', 'product_id', 'inventory_item_id', 'status',\n",
       "       'created_at', 'shipped_at', 'delivered_at', 'returned_at', 'sale_price',\n",
       "       'user_id', 'order_created_at', 'num_of_item', 'first_name', 'last_name',\n",
       "       'email', 'age', 'gender', 'state', 'street_address', 'postal_code',\n",
       "       'city', 'country', 'latitude', 'longitude', 'traffic_source',\n",
       "       'user_created_at', 'user_geom', 'inventorycreated_at', 'sold_at',\n",
       "       'inventory_cost', 'product_category', 'product_name', 'product_brand',\n",
       "       'product_retail_price', 'product_department', 'product_sku',\n",
       "       'product_distribution_center_id', 'id', 'product_cost', 'category',\n",
       "       'name', 'brand', 'retail_price', 'department', 'sku',\n",
       "       'distribution_center_id', 'age_group', 'order_month',\n",
       "       'first_order_month_x', 'customer_type', 'first_order_month_y'],\n",
       "      dtype='object')"
      ]
     },
     "execution_count": 212,
     "metadata": {},
     "output_type": "execute_result"
    }
   ],
   "source": [
    "merged_df.columns"
   ]
  },
  {
   "cell_type": "code",
   "execution_count": 213,
   "id": "6d8c4705-58b0-421b-bea2-b189466e476d",
   "metadata": {},
   "outputs": [
    {
     "data": {
      "text/plain": [
       "0         Indestructable Aluminum Aluma Wallet - RED\n",
       "1         Indestructable Aluminum Aluma Wallet - RED\n",
       "2         Indestructable Aluminum Aluma Wallet - RED\n",
       "3         Indestructable Aluminum Aluma Wallet - RED\n",
       "4         Indestructable Aluminum Aluma Wallet - RED\n",
       "                             ...                    \n",
       "181675                                         Darla\n",
       "181676                                         Darla\n",
       "181677                                         Darla\n",
       "181678                                         Darla\n",
       "181679               Alpha Industries Rip Stop Short\n",
       "Name: name, Length: 181680, dtype: object"
      ]
     },
     "execution_count": 213,
     "metadata": {},
     "output_type": "execute_result"
    }
   ],
   "source": [
    "merged_df['name']"
   ]
  },
  {
   "cell_type": "markdown",
   "id": "ea00b007-db6e-4bb2-b99f-cb26d41a79b9",
   "metadata": {},
   "source": [
    "### Returned Rate  \n",
    "(Return Rate = (# of returned items) ÷ (total items sold))"
   ]
  },
  {
   "cell_type": "code",
   "execution_count": 214,
   "id": "56cf4014-afc6-4548-be2f-e4bda0e3cac7",
   "metadata": {},
   "outputs": [
    {
     "name": "stdout",
     "output_type": "stream",
     "text": [
      "Overall Return Rate: 10.13%\n"
     ]
    }
   ],
   "source": [
    "# Flag returned items\n",
    "merged_df['is_returned'] = merged_df['returned_at'].notnull().astype(int)\n",
    "\n",
    "# Overall return rate\n",
    "overall_return_rate = merged_df['is_returned'].mean()\n",
    "print(f\"Overall Return Rate: {overall_return_rate:.2%}\")\n"
   ]
  },
  {
   "cell_type": "markdown",
   "id": "1a3462d0-11c3-4949-9179-39b83ae5521e",
   "metadata": {},
   "source": [
    "- #### Return Rate by Product Category"
   ]
  },
  {
   "cell_type": "code",
   "execution_count": 216,
   "id": "4e447364-fdf7-4e8b-b943-d9cf58f8f186",
   "metadata": {},
   "outputs": [
    {
     "name": "stdout",
     "output_type": "stream",
     "text": [
      "                 product_category  is_returned\n",
      "10                      Maternity     0.100000\n",
      "5   Fashion Hoodies & Sweatshirts     0.099389\n",
      "13                 Pants & Capris     0.098509\n",
      "12                          Pants     0.097334\n",
      "6                       Intimates     0.096715\n",
      "0                     Accessories     0.096559\n",
      "2               Blazers & Jackets     0.096231\n",
      "9                        Leggings     0.096187\n",
      "16                         Skirts     0.094958\n",
      "3                   Clothing Sets     0.089474\n"
     ]
    }
   ],
   "source": [
    "return_rate_by_category = (\n",
    "    merged_df.groupby('product_category')['is_returned']\n",
    "    .mean()\n",
    "    .reset_index()\n",
    "    .sort_values(by='is_returned', ascending=False)\n",
    ")\n",
    "\n",
    "print(return_rate_by_category.tail(10))\n"
   ]
  },
  {
   "cell_type": "code",
   "execution_count": null,
   "id": "1771e4fc-f72c-4497-bc16-ad7e5384e6fa",
   "metadata": {},
   "outputs": [],
   "source": []
  }
 ],
 "metadata": {
  "kernelspec": {
   "display_name": "Python 3 (ipykernel)",
   "language": "python",
   "name": "python3"
  },
  "language_info": {
   "codemirror_mode": {
    "name": "ipython",
    "version": 3
   },
   "file_extension": ".py",
   "mimetype": "text/x-python",
   "name": "python",
   "nbconvert_exporter": "python",
   "pygments_lexer": "ipython3",
   "version": "3.11.9"
  }
 },
 "nbformat": 4,
 "nbformat_minor": 5
}
