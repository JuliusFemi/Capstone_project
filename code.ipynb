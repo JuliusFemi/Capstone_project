{
 "cells": [
  {
   "cell_type": "markdown",
   "id": "852dd296-08fd-4a73-b621-dd6cc850c4a0",
   "metadata": {},
   "source": [
    "#### Problem Statement\n",
    "\n",
    "Banks invest significant resources into outbound marketing campaigns, like calling customers to offer term deposit products. However, these campaigns can be inefficient, contacting many customers who are not interested, leading to:\n",
    "\n",
    "- High operational costs\n",
    "\n",
    "- Low conversion rates\n",
    "\n",
    "- Customer fatigue and churn risk\n",
    "\n",
    "1. This project seeks to optimize marketing effectiveness by:\n",
    "\n",
    "2. Segmenting customers based on their financial and demographic behavior\n",
    "\n",
    "3. Predicting which customers are most likely to subscribe to a term deposit\n",
    "\n",
    "4. Designing a targeting strategy that reduces wasted outreach while maximizing ROI\n",
    "\n",
    "\n",
    "**Stakeholders**\n",
    "\n",
    "|Stakeholder              | What they care About\n",
    "|-------------------------|------------------------\n",
    "|Marketing Team           |Improve campaign efficiency and ROI; avoid over-contacting customers|\n",
    "Data Science Team         |Build interpretable, reliable models with business impact\n",
    "Compliance/Legal          |Ensure targeting practices are fair, non-discriminatory\n",
    "Sales / Call Center       |Focus effort on the right customers; increase success rates\n",
    "Senior Management         |Strategic insights on customer behavior and product interest\n"
   ]
  },
  {
   "cell_type": "markdown",
   "id": "70436dfd-e87d-4c7a-905c-309c92c31660",
   "metadata": {},
   "source": [
    "#### Imports\n",
    "\n",
    "Import the required libraries"
   ]
  },
  {
   "cell_type": "code",
   "execution_count": 76,
   "id": "fe5d875b-2054-4aca-affe-a1419ce6fd2c",
   "metadata": {},
   "outputs": [],
   "source": [
    "import pandas as pd\n",
    "import zipfile\n",
    "import urllib.request\n",
    "import io\n",
    "import os\n",
    "from google.cloud import bigquery\n",
    "\n",
    "import numpy as np\n",
    "import matplotlib.pyplot as plt\n",
    "import seaborn as sns\n"
   ]
  },
  {
   "cell_type": "markdown",
   "id": "e658a85d-5fa9-40c8-b744-69de9a99522b",
   "metadata": {},
   "source": [
    "### Loading dataset\n",
    "\n",
    "Dataset is from Google [Big Query](https://console.cloud.google.com/bigquery?ws=!1m4!1m3!3m2!1sbigquery-public-data!2sthelook_ecommerce).\n",
    "A function was writen to obtain the tables in the dataset. The ecommerce data has `7` tables namely:  \"distribution_centers\", \"events\", \"inventory_items\", \"order_items\", \"orders\", \"products\", \"users\"."
   ]
  },
  {
   "cell_type": "code",
   "execution_count": 2,
   "id": "b32ed7e6-be57-40b6-9d72-5fa1ba294aca",
   "metadata": {},
   "outputs": [],
   "source": [
    "\n",
    "client = bigquery.Client(project=\"testing-469722\")\n",
    "\n",
    "def load_thelook_tables(dataset_id=\"bigquery-public-data.thelook_ecommerce\", table_names=None):\n",
    "    \"\"\"\n",
    "    Load multiple tables from thelook_ecommerce dataset into separate DataFrames.\n",
    "\n",
    "    Parameters:\n",
    "        dataset_id (str): Full BigQuery dataset path\n",
    "        table_names (list): List of table names to load\n",
    "\n",
    "    Returns:\n",
    "        dict: Dictionary of {table_name: DataFrame}\n",
    "    \"\"\"\n",
    "    if table_names is None:\n",
    "        table_names = [\n",
    "            \"distribution_centers\",\n",
    "            \"events\",\n",
    "            \"inventory_items\",\n",
    "            \"order_items\",\n",
    "            \"orders\",\n",
    "            \"products\",\n",
    "            \"users\"\n",
    "        ]\n",
    "\n",
    "    dataframes = {}\n",
    "\n",
    "    for table in table_names:\n",
    "        query = f\"SELECT * FROM `{dataset_id}.{table}`\"\n",
    "        df = client.query(query).to_dataframe()\n",
    "        dataframes[table] = df\n",
    "        print(f\"Loaded {table}: {df.shape[0]} rows\")\n",
    "\n",
    "    return dataframes"
   ]
  },
  {
   "cell_type": "markdown",
   "id": "5eb621a9-1433-49c3-bc4f-ea0a66ae1f50",
   "metadata": {},
   "source": [
    "### Load the dataset\n",
    "\n",
    "The dataset are pulled from Big query.\n"
   ]
  },
  {
   "cell_type": "code",
   "execution_count": 3,
   "id": "4932c82f-15f1-4bc0-ae8f-d288ad899fe8",
   "metadata": {},
   "outputs": [
    {
     "name": "stderr",
     "output_type": "stream",
     "text": [
      "C:\\Users\\DELL XPS\\virtual\\dsb_602\\Lib\\site-packages\\google\\cloud\\bigquery\\table.py:1994: UserWarning: BigQuery Storage module not found, fetch data with the REST endpoint instead.\n",
      "  warnings.warn(\n"
     ]
    },
    {
     "name": "stdout",
     "output_type": "stream",
     "text": [
      "Loaded distribution_centers: 10 rows\n",
      "Loaded events: 2420913 rows\n",
      "Loaded inventory_items: 487931 rows\n",
      "Loaded order_items: 180875 rows\n",
      "Loaded orders: 124769 rows\n",
      "Loaded products: 29120 rows\n",
      "Loaded users: 100000 rows\n"
     ]
    }
   ],
   "source": [
    "thelook_dfs = load_thelook_tables()"
   ]
  },
  {
   "cell_type": "markdown",
   "id": "47301b48-015f-4f84-904d-150c6e857da0",
   "metadata": {},
   "source": [
    "### Accessing the tables\n"
   ]
  },
  {
   "cell_type": "code",
   "execution_count": 4,
   "id": "0d75e082-00b8-4496-bed0-8487ddf661c9",
   "metadata": {},
   "outputs": [
    {
     "data": {
      "text/html": [
       "<div>\n",
       "<style scoped>\n",
       "    .dataframe tbody tr th:only-of-type {\n",
       "        vertical-align: middle;\n",
       "    }\n",
       "\n",
       "    .dataframe tbody tr th {\n",
       "        vertical-align: top;\n",
       "    }\n",
       "\n",
       "    .dataframe thead th {\n",
       "        text-align: right;\n",
       "    }\n",
       "</style>\n",
       "<table border=\"1\" class=\"dataframe\">\n",
       "  <thead>\n",
       "    <tr style=\"text-align: right;\">\n",
       "      <th></th>\n",
       "      <th>order_id</th>\n",
       "      <th>user_id</th>\n",
       "      <th>status</th>\n",
       "      <th>gender</th>\n",
       "      <th>created_at</th>\n",
       "      <th>returned_at</th>\n",
       "      <th>shipped_at</th>\n",
       "      <th>delivered_at</th>\n",
       "      <th>num_of_item</th>\n",
       "    </tr>\n",
       "  </thead>\n",
       "  <tbody>\n",
       "    <tr>\n",
       "      <th>0</th>\n",
       "      <td>21</td>\n",
       "      <td>15</td>\n",
       "      <td>Cancelled</td>\n",
       "      <td>F</td>\n",
       "      <td>2025-05-27 02:03:00+00:00</td>\n",
       "      <td>NaT</td>\n",
       "      <td>NaT</td>\n",
       "      <td>NaT</td>\n",
       "      <td>2</td>\n",
       "    </tr>\n",
       "    <tr>\n",
       "      <th>1</th>\n",
       "      <td>30</td>\n",
       "      <td>22</td>\n",
       "      <td>Cancelled</td>\n",
       "      <td>F</td>\n",
       "      <td>2025-06-20 10:39:00+00:00</td>\n",
       "      <td>NaT</td>\n",
       "      <td>NaT</td>\n",
       "      <td>NaT</td>\n",
       "      <td>1</td>\n",
       "    </tr>\n",
       "    <tr>\n",
       "      <th>2</th>\n",
       "      <td>40</td>\n",
       "      <td>26</td>\n",
       "      <td>Cancelled</td>\n",
       "      <td>F</td>\n",
       "      <td>2021-04-28 13:41:00+00:00</td>\n",
       "      <td>NaT</td>\n",
       "      <td>NaT</td>\n",
       "      <td>NaT</td>\n",
       "      <td>2</td>\n",
       "    </tr>\n",
       "    <tr>\n",
       "      <th>3</th>\n",
       "      <td>45</td>\n",
       "      <td>29</td>\n",
       "      <td>Cancelled</td>\n",
       "      <td>F</td>\n",
       "      <td>2023-06-08 03:09:00+00:00</td>\n",
       "      <td>NaT</td>\n",
       "      <td>NaT</td>\n",
       "      <td>NaT</td>\n",
       "      <td>1</td>\n",
       "    </tr>\n",
       "  </tbody>\n",
       "</table>\n",
       "</div>"
      ],
      "text/plain": [
       "   order_id  user_id     status gender                created_at returned_at  \\\n",
       "0        21       15  Cancelled      F 2025-05-27 02:03:00+00:00         NaT   \n",
       "1        30       22  Cancelled      F 2025-06-20 10:39:00+00:00         NaT   \n",
       "2        40       26  Cancelled      F 2021-04-28 13:41:00+00:00         NaT   \n",
       "3        45       29  Cancelled      F 2023-06-08 03:09:00+00:00         NaT   \n",
       "\n",
       "  shipped_at delivered_at  num_of_item  \n",
       "0        NaT          NaT            2  \n",
       "1        NaT          NaT            1  \n",
       "2        NaT          NaT            2  \n",
       "3        NaT          NaT            1  "
      ]
     },
     "execution_count": 4,
     "metadata": {},
     "output_type": "execute_result"
    }
   ],
   "source": [
    "# order table\n",
    "\n",
    "orders_df = thelook_dfs['orders']\n",
    "orders_df.head(4)"
   ]
  },
  {
   "cell_type": "markdown",
   "id": "e41dbb98-fd24-4290-a952-ee7aa6707f66",
   "metadata": {},
   "source": [
    "**orders_df table dictionary**\n",
    "\n",
    "| Column Name    | Description                                                           |\n",
    "| -------------- | --------------------------------------------------------------------- |\n",
    "| `order_id`     | Unique identifier for each order                                      |\n",
    "| `user_id`      | Foreign key that links to the customer (`users.id`)                   |\n",
    "| `status`       | Status of the order (e.g., `Complete`, `Returned`, `Cancelled`)       |\n",
    "| `gender`       | Gender of the customer (from the `users` table, if joined)            |\n",
    "| `created_at`   | Timestamp when the order was placed                                   |\n",
    "| `returned_at`  | Timestamp when the item was returned (null if not returned)           |\n",
    "| `shipped_at`   | Timestamp when the item was shipped                                   |\n",
    "| `delivered_at` | Timestamp when the item was delivered to the customer                 |\n",
    "| `num_of_item`  | Number of individual items in that order (usually from `order_items`) |\n"
   ]
  },
  {
   "cell_type": "code",
   "execution_count": 5,
   "id": "55a23b92-8912-4d6f-a5aa-039f34dbc606",
   "metadata": {},
   "outputs": [
    {
     "data": {
      "text/html": [
       "<div>\n",
       "<style scoped>\n",
       "    .dataframe tbody tr th:only-of-type {\n",
       "        vertical-align: middle;\n",
       "    }\n",
       "\n",
       "    .dataframe tbody tr th {\n",
       "        vertical-align: top;\n",
       "    }\n",
       "\n",
       "    .dataframe thead th {\n",
       "        text-align: right;\n",
       "    }\n",
       "</style>\n",
       "<table border=\"1\" class=\"dataframe\">\n",
       "  <thead>\n",
       "    <tr style=\"text-align: right;\">\n",
       "      <th></th>\n",
       "      <th>id</th>\n",
       "      <th>name</th>\n",
       "      <th>latitude</th>\n",
       "      <th>longitude</th>\n",
       "      <th>distribution_center_geom</th>\n",
       "    </tr>\n",
       "  </thead>\n",
       "  <tbody>\n",
       "    <tr>\n",
       "      <th>0</th>\n",
       "      <td>6</td>\n",
       "      <td>Port Authority of New York/New Jersey NY/NJ</td>\n",
       "      <td>40.6340</td>\n",
       "      <td>-73.7834</td>\n",
       "      <td>POINT(-73.7834 40.634)</td>\n",
       "    </tr>\n",
       "    <tr>\n",
       "      <th>1</th>\n",
       "      <td>4</td>\n",
       "      <td>Los Angeles CA</td>\n",
       "      <td>34.0500</td>\n",
       "      <td>-118.2500</td>\n",
       "      <td>POINT(-118.25 34.05)</td>\n",
       "    </tr>\n",
       "    <tr>\n",
       "      <th>2</th>\n",
       "      <td>8</td>\n",
       "      <td>Mobile AL</td>\n",
       "      <td>30.6944</td>\n",
       "      <td>-88.0431</td>\n",
       "      <td>POINT(-88.0431 30.6944)</td>\n",
       "    </tr>\n",
       "    <tr>\n",
       "      <th>3</th>\n",
       "      <td>2</td>\n",
       "      <td>Chicago IL</td>\n",
       "      <td>41.8369</td>\n",
       "      <td>-87.6847</td>\n",
       "      <td>POINT(-87.6847 41.8369)</td>\n",
       "    </tr>\n",
       "    <tr>\n",
       "      <th>4</th>\n",
       "      <td>10</td>\n",
       "      <td>Savannah GA</td>\n",
       "      <td>32.0167</td>\n",
       "      <td>-81.1167</td>\n",
       "      <td>POINT(-81.1167 32.0167)</td>\n",
       "    </tr>\n",
       "  </tbody>\n",
       "</table>\n",
       "</div>"
      ],
      "text/plain": [
       "   id                                         name  latitude  longitude  \\\n",
       "0   6  Port Authority of New York/New Jersey NY/NJ   40.6340   -73.7834   \n",
       "1   4                               Los Angeles CA   34.0500  -118.2500   \n",
       "2   8                                    Mobile AL   30.6944   -88.0431   \n",
       "3   2                                   Chicago IL   41.8369   -87.6847   \n",
       "4  10                                  Savannah GA   32.0167   -81.1167   \n",
       "\n",
       "  distribution_center_geom  \n",
       "0   POINT(-73.7834 40.634)  \n",
       "1     POINT(-118.25 34.05)  \n",
       "2  POINT(-88.0431 30.6944)  \n",
       "3  POINT(-87.6847 41.8369)  \n",
       "4  POINT(-81.1167 32.0167)  "
      ]
     },
     "execution_count": 5,
     "metadata": {},
     "output_type": "execute_result"
    }
   ],
   "source": [
    "# distribution_centers\n",
    "\n",
    "distribution_df = thelook_dfs['distribution_centers']\n",
    "distribution_df.head(5)"
   ]
  },
  {
   "cell_type": "markdown",
   "id": "5bb64404-933d-4ac4-9965-bc804a6788da",
   "metadata": {},
   "source": [
    "**distribution_df dictionary**\n",
    "\n",
    "| Column Name                | Description                                                                 |\n",
    "| -------------------------- | --------------------------------------------------------------------------- |\n",
    "| `id`                       | Unique identifier for each distribution center                              |\n",
    "| `name`                     | City and state abbreviation of the distribution center location             |\n",
    "| `latitude`                 | Latitude coordinate of the distribution center (for mapping or distance)    |\n",
    "| `longitude`                | Longitude coordinate of the distribution center                             |\n",
    "| `distribution_center_geom` | Geometry field representing the center as a geographic point (GeoJSON-like) |\n"
   ]
  },
  {
   "cell_type": "code",
   "execution_count": 6,
   "id": "8cf4423d-830f-4b64-a738-a7bc78bcd020",
   "metadata": {},
   "outputs": [
    {
     "data": {
      "text/html": [
       "<div>\n",
       "<style scoped>\n",
       "    .dataframe tbody tr th:only-of-type {\n",
       "        vertical-align: middle;\n",
       "    }\n",
       "\n",
       "    .dataframe tbody tr th {\n",
       "        vertical-align: top;\n",
       "    }\n",
       "\n",
       "    .dataframe thead th {\n",
       "        text-align: right;\n",
       "    }\n",
       "</style>\n",
       "<table border=\"1\" class=\"dataframe\">\n",
       "  <thead>\n",
       "    <tr style=\"text-align: right;\">\n",
       "      <th></th>\n",
       "      <th>id</th>\n",
       "      <th>user_id</th>\n",
       "      <th>sequence_number</th>\n",
       "      <th>session_id</th>\n",
       "      <th>created_at</th>\n",
       "      <th>ip_address</th>\n",
       "      <th>city</th>\n",
       "      <th>state</th>\n",
       "      <th>postal_code</th>\n",
       "      <th>browser</th>\n",
       "      <th>traffic_source</th>\n",
       "      <th>uri</th>\n",
       "      <th>event_type</th>\n",
       "    </tr>\n",
       "  </thead>\n",
       "  <tbody>\n",
       "    <tr>\n",
       "      <th>0</th>\n",
       "      <td>1574405</td>\n",
       "      <td>&lt;NA&gt;</td>\n",
       "      <td>3</td>\n",
       "      <td>bdac379f-844d-4b41-a1ac-ae97c20f5cb1</td>\n",
       "      <td>2019-07-04 05:15:00+00:00</td>\n",
       "      <td>161.89.190.206</td>\n",
       "      <td>São Paulo</td>\n",
       "      <td>São Paulo</td>\n",
       "      <td>02675-031</td>\n",
       "      <td>Chrome</td>\n",
       "      <td>Facebook</td>\n",
       "      <td>/cancel</td>\n",
       "      <td>cancel</td>\n",
       "    </tr>\n",
       "    <tr>\n",
       "      <th>1</th>\n",
       "      <td>1900822</td>\n",
       "      <td>&lt;NA&gt;</td>\n",
       "      <td>3</td>\n",
       "      <td>286de1ce-fbfe-452c-9608-ac9ecb31075d</td>\n",
       "      <td>2020-07-26 11:34:00+00:00</td>\n",
       "      <td>167.57.229.160</td>\n",
       "      <td>São Paulo</td>\n",
       "      <td>São Paulo</td>\n",
       "      <td>02675-031</td>\n",
       "      <td>Firefox</td>\n",
       "      <td>Adwords</td>\n",
       "      <td>/cancel</td>\n",
       "      <td>cancel</td>\n",
       "    </tr>\n",
       "    <tr>\n",
       "      <th>2</th>\n",
       "      <td>1969181</td>\n",
       "      <td>&lt;NA&gt;</td>\n",
       "      <td>3</td>\n",
       "      <td>28b49f98-3856-4bba-82ce-a14368399d00</td>\n",
       "      <td>2019-03-15 14:49:00+00:00</td>\n",
       "      <td>141.27.61.40</td>\n",
       "      <td>São Paulo</td>\n",
       "      <td>São Paulo</td>\n",
       "      <td>02675-031</td>\n",
       "      <td>Safari</td>\n",
       "      <td>Organic</td>\n",
       "      <td>/cancel</td>\n",
       "      <td>cancel</td>\n",
       "    </tr>\n",
       "    <tr>\n",
       "      <th>3</th>\n",
       "      <td>1953020</td>\n",
       "      <td>&lt;NA&gt;</td>\n",
       "      <td>3</td>\n",
       "      <td>1ff75d98-efc9-4be2-85cb-e3e1c8c821ce</td>\n",
       "      <td>2020-02-08 05:59:00+00:00</td>\n",
       "      <td>14.172.57.122</td>\n",
       "      <td>São Paulo</td>\n",
       "      <td>São Paulo</td>\n",
       "      <td>02675-031</td>\n",
       "      <td>Chrome</td>\n",
       "      <td>Email</td>\n",
       "      <td>/cancel</td>\n",
       "      <td>cancel</td>\n",
       "    </tr>\n",
       "    <tr>\n",
       "      <th>4</th>\n",
       "      <td>1531818</td>\n",
       "      <td>&lt;NA&gt;</td>\n",
       "      <td>3</td>\n",
       "      <td>d62abc95-91a5-48cd-9c01-89f59ffec934</td>\n",
       "      <td>2021-09-02 16:48:00+00:00</td>\n",
       "      <td>35.210.30.163</td>\n",
       "      <td>São Paulo</td>\n",
       "      <td>São Paulo</td>\n",
       "      <td>02675-031</td>\n",
       "      <td>Firefox</td>\n",
       "      <td>Email</td>\n",
       "      <td>/cancel</td>\n",
       "      <td>cancel</td>\n",
       "    </tr>\n",
       "  </tbody>\n",
       "</table>\n",
       "</div>"
      ],
      "text/plain": [
       "        id  user_id  sequence_number                            session_id  \\\n",
       "0  1574405     <NA>                3  bdac379f-844d-4b41-a1ac-ae97c20f5cb1   \n",
       "1  1900822     <NA>                3  286de1ce-fbfe-452c-9608-ac9ecb31075d   \n",
       "2  1969181     <NA>                3  28b49f98-3856-4bba-82ce-a14368399d00   \n",
       "3  1953020     <NA>                3  1ff75d98-efc9-4be2-85cb-e3e1c8c821ce   \n",
       "4  1531818     <NA>                3  d62abc95-91a5-48cd-9c01-89f59ffec934   \n",
       "\n",
       "                 created_at      ip_address       city      state postal_code  \\\n",
       "0 2019-07-04 05:15:00+00:00  161.89.190.206  São Paulo  São Paulo   02675-031   \n",
       "1 2020-07-26 11:34:00+00:00  167.57.229.160  São Paulo  São Paulo   02675-031   \n",
       "2 2019-03-15 14:49:00+00:00    141.27.61.40  São Paulo  São Paulo   02675-031   \n",
       "3 2020-02-08 05:59:00+00:00   14.172.57.122  São Paulo  São Paulo   02675-031   \n",
       "4 2021-09-02 16:48:00+00:00   35.210.30.163  São Paulo  São Paulo   02675-031   \n",
       "\n",
       "   browser traffic_source      uri event_type  \n",
       "0   Chrome       Facebook  /cancel     cancel  \n",
       "1  Firefox        Adwords  /cancel     cancel  \n",
       "2   Safari        Organic  /cancel     cancel  \n",
       "3   Chrome          Email  /cancel     cancel  \n",
       "4  Firefox          Email  /cancel     cancel  "
      ]
     },
     "execution_count": 6,
     "metadata": {},
     "output_type": "execute_result"
    }
   ],
   "source": [
    "events_df = thelook_dfs['events']\n",
    "events_df.head(5)"
   ]
  },
  {
   "cell_type": "markdown",
   "id": "d21d620d-942f-46b1-a625-bd2eee8d1919",
   "metadata": {},
   "source": [
    "**events_df dictionary**\n",
    "\n",
    "| Column Name       | Description                                                           |\n",
    "| ----------------- | --------------------------------------------------------------------- |\n",
    "| `id`              | Unique identifier for each event record                               |\n",
    "| `user_id`         | ID of the user associated with the event *(can be missing/anonymous)* |\n",
    "| `sequence_number` | Order of the event within a session (helps track user journey)        |\n",
    "| `session_id`      | Unique ID for the user session (used to group related events)         |\n",
    "| `created_at`      | Timestamp when the event occurred                                     |\n",
    "| `ip_address`      | User’s IP address at the time of the event                            |\n",
    "| `city`            | City of the user (inferred from IP)                                   |\n",
    "| `state`           | State of the user (inferred from IP)                                  |\n",
    "| `postal_code`     | Postal code of the user (inferred from IP)                            |\n",
    "| `browser`         | Browser used by the user (e.g., Chrome, Safari)                       |\n",
    "| `traffic_source`  | Source that led the user to the site (e.g., Organic, Email, Adwords)  |\n",
    "| `uri`             | Specific page or endpoint visited (e.g., `/cancel`)                   |\n",
    "| `event_type`      | Type of user action or event (e.g., `cancel`, `purchase`, `checkout`) |\n"
   ]
  },
  {
   "cell_type": "code",
   "execution_count": 7,
   "id": "7dde1b2c-52bc-442e-9692-fc01abd4d762",
   "metadata": {},
   "outputs": [
    {
     "data": {
      "text/html": [
       "<div>\n",
       "<style scoped>\n",
       "    .dataframe tbody tr th:only-of-type {\n",
       "        vertical-align: middle;\n",
       "    }\n",
       "\n",
       "    .dataframe tbody tr th {\n",
       "        vertical-align: top;\n",
       "    }\n",
       "\n",
       "    .dataframe thead th {\n",
       "        text-align: right;\n",
       "    }\n",
       "</style>\n",
       "<table border=\"1\" class=\"dataframe\">\n",
       "  <thead>\n",
       "    <tr style=\"text-align: right;\">\n",
       "      <th></th>\n",
       "      <th>id</th>\n",
       "      <th>product_id</th>\n",
       "      <th>created_at</th>\n",
       "      <th>sold_at</th>\n",
       "      <th>cost</th>\n",
       "      <th>product_category</th>\n",
       "      <th>product_name</th>\n",
       "      <th>product_brand</th>\n",
       "      <th>product_retail_price</th>\n",
       "      <th>product_department</th>\n",
       "      <th>product_sku</th>\n",
       "      <th>product_distribution_center_id</th>\n",
       "    </tr>\n",
       "  </thead>\n",
       "  <tbody>\n",
       "    <tr>\n",
       "      <th>0</th>\n",
       "      <td>46517</td>\n",
       "      <td>13844</td>\n",
       "      <td>2025-05-09 16:11:16+00:00</td>\n",
       "      <td>2025-06-06 13:17:16+00:00</td>\n",
       "      <td>2.76804</td>\n",
       "      <td>Accessories</td>\n",
       "      <td>(ONE) 1 Satin Headband</td>\n",
       "      <td>Funny Girl Designs</td>\n",
       "      <td>6.99</td>\n",
       "      <td>Women</td>\n",
       "      <td>2A3E953A5E3D81E67945BCE5519F84C8</td>\n",
       "      <td>7</td>\n",
       "    </tr>\n",
       "    <tr>\n",
       "      <th>1</th>\n",
       "      <td>46518</td>\n",
       "      <td>13844</td>\n",
       "      <td>2024-12-12 13:54:00+00:00</td>\n",
       "      <td>NaT</td>\n",
       "      <td>2.76804</td>\n",
       "      <td>Accessories</td>\n",
       "      <td>(ONE) 1 Satin Headband</td>\n",
       "      <td>Funny Girl Designs</td>\n",
       "      <td>6.99</td>\n",
       "      <td>Women</td>\n",
       "      <td>2A3E953A5E3D81E67945BCE5519F84C8</td>\n",
       "      <td>7</td>\n",
       "    </tr>\n",
       "    <tr>\n",
       "      <th>2</th>\n",
       "      <td>82719</td>\n",
       "      <td>13844</td>\n",
       "      <td>2021-09-20 12:04:50+00:00</td>\n",
       "      <td>2021-11-16 16:01:50+00:00</td>\n",
       "      <td>2.76804</td>\n",
       "      <td>Accessories</td>\n",
       "      <td>(ONE) 1 Satin Headband</td>\n",
       "      <td>Funny Girl Designs</td>\n",
       "      <td>6.99</td>\n",
       "      <td>Women</td>\n",
       "      <td>2A3E953A5E3D81E67945BCE5519F84C8</td>\n",
       "      <td>7</td>\n",
       "    </tr>\n",
       "    <tr>\n",
       "      <th>3</th>\n",
       "      <td>82720</td>\n",
       "      <td>13844</td>\n",
       "      <td>2021-04-06 08:26:00+00:00</td>\n",
       "      <td>NaT</td>\n",
       "      <td>2.76804</td>\n",
       "      <td>Accessories</td>\n",
       "      <td>(ONE) 1 Satin Headband</td>\n",
       "      <td>Funny Girl Designs</td>\n",
       "      <td>6.99</td>\n",
       "      <td>Women</td>\n",
       "      <td>2A3E953A5E3D81E67945BCE5519F84C8</td>\n",
       "      <td>7</td>\n",
       "    </tr>\n",
       "    <tr>\n",
       "      <th>4</th>\n",
       "      <td>352717</td>\n",
       "      <td>13844</td>\n",
       "      <td>2025-06-02 17:08:22+00:00</td>\n",
       "      <td>2025-06-14 08:22:22+00:00</td>\n",
       "      <td>2.76804</td>\n",
       "      <td>Accessories</td>\n",
       "      <td>(ONE) 1 Satin Headband</td>\n",
       "      <td>Funny Girl Designs</td>\n",
       "      <td>6.99</td>\n",
       "      <td>Women</td>\n",
       "      <td>2A3E953A5E3D81E67945BCE5519F84C8</td>\n",
       "      <td>7</td>\n",
       "    </tr>\n",
       "  </tbody>\n",
       "</table>\n",
       "</div>"
      ],
      "text/plain": [
       "       id  product_id                created_at                   sold_at  \\\n",
       "0   46517       13844 2025-05-09 16:11:16+00:00 2025-06-06 13:17:16+00:00   \n",
       "1   46518       13844 2024-12-12 13:54:00+00:00                       NaT   \n",
       "2   82719       13844 2021-09-20 12:04:50+00:00 2021-11-16 16:01:50+00:00   \n",
       "3   82720       13844 2021-04-06 08:26:00+00:00                       NaT   \n",
       "4  352717       13844 2025-06-02 17:08:22+00:00 2025-06-14 08:22:22+00:00   \n",
       "\n",
       "      cost product_category            product_name       product_brand  \\\n",
       "0  2.76804      Accessories  (ONE) 1 Satin Headband  Funny Girl Designs   \n",
       "1  2.76804      Accessories  (ONE) 1 Satin Headband  Funny Girl Designs   \n",
       "2  2.76804      Accessories  (ONE) 1 Satin Headband  Funny Girl Designs   \n",
       "3  2.76804      Accessories  (ONE) 1 Satin Headband  Funny Girl Designs   \n",
       "4  2.76804      Accessories  (ONE) 1 Satin Headband  Funny Girl Designs   \n",
       "\n",
       "   product_retail_price product_department                       product_sku  \\\n",
       "0                  6.99              Women  2A3E953A5E3D81E67945BCE5519F84C8   \n",
       "1                  6.99              Women  2A3E953A5E3D81E67945BCE5519F84C8   \n",
       "2                  6.99              Women  2A3E953A5E3D81E67945BCE5519F84C8   \n",
       "3                  6.99              Women  2A3E953A5E3D81E67945BCE5519F84C8   \n",
       "4                  6.99              Women  2A3E953A5E3D81E67945BCE5519F84C8   \n",
       "\n",
       "   product_distribution_center_id  \n",
       "0                               7  \n",
       "1                               7  \n",
       "2                               7  \n",
       "3                               7  \n",
       "4                               7  "
      ]
     },
     "execution_count": 7,
     "metadata": {},
     "output_type": "execute_result"
    }
   ],
   "source": [
    "inventoryitems_df = thelook_dfs['inventory_items']\n",
    "inventoryitems_df.head()"
   ]
  },
  {
   "cell_type": "markdown",
   "id": "813295db-46d0-4e81-a71c-ba73b79bac1d",
   "metadata": {},
   "source": [
    "**inventoryitems_df dictionary**\n",
    "\n",
    "| Column Name                      | Description                                                                                                 |\n",
    "| -------------------------------- | ----------------------------------------------------------------------------------------------------------- |\n",
    "| `id`                             | Unique identifier for each inventory record                                                                 |\n",
    "| `product_id`                     | ID of the product listed in the inventory                                                                   |\n",
    "| `created_at`                     | Timestamp when the product was added to inventory                                                           |\n",
    "| `sold_at`                        | Timestamp when the product was sold (null if unsold)                                                        |\n",
    "| `cost`                           | Cost to the business for this unit (wholesale price)                                                        |\n",
    "| `product_category`               | Category label for the product (e.g., *Jumpsuits & Rompers*)                                                |\n",
    "| `product_name`                   | Full name or title of the product                                                                           |\n",
    "| `product_brand`                  | Brand/manufacturer of the product                                                                           |\n",
    "| `product_retail_price`           | Suggested retail price or sale price to customer                                                            |\n",
    "| `product_department`             | Department the product belongs to (e.g., *Women*)                                                           |\n",
    "| `product_sku`                    | Unique stock keeping unit (SKU) for inventory tracking                                                      |\n",
    "| `product_distribution_center_id` | Foreign key linking to the distribution center where the item is stocked (join with `distribution_centers`) |\n"
   ]
  },
  {
   "cell_type": "code",
   "execution_count": 8,
   "id": "230f0f60-f813-446b-8819-d3601e53a44c",
   "metadata": {},
   "outputs": [
    {
     "data": {
      "text/html": [
       "<div>\n",
       "<style scoped>\n",
       "    .dataframe tbody tr th:only-of-type {\n",
       "        vertical-align: middle;\n",
       "    }\n",
       "\n",
       "    .dataframe tbody tr th {\n",
       "        vertical-align: top;\n",
       "    }\n",
       "\n",
       "    .dataframe thead th {\n",
       "        text-align: right;\n",
       "    }\n",
       "</style>\n",
       "<table border=\"1\" class=\"dataframe\">\n",
       "  <thead>\n",
       "    <tr style=\"text-align: right;\">\n",
       "      <th></th>\n",
       "      <th>id</th>\n",
       "      <th>order_id</th>\n",
       "      <th>user_id</th>\n",
       "      <th>product_id</th>\n",
       "      <th>inventory_item_id</th>\n",
       "      <th>status</th>\n",
       "      <th>created_at</th>\n",
       "      <th>shipped_at</th>\n",
       "      <th>delivered_at</th>\n",
       "      <th>returned_at</th>\n",
       "      <th>sale_price</th>\n",
       "    </tr>\n",
       "  </thead>\n",
       "  <tbody>\n",
       "    <tr>\n",
       "      <th>0</th>\n",
       "      <td>55148</td>\n",
       "      <td>37886</td>\n",
       "      <td>30319</td>\n",
       "      <td>14235</td>\n",
       "      <td>148686</td>\n",
       "      <td>Cancelled</td>\n",
       "      <td>2025-08-28 05:19:35+00:00</td>\n",
       "      <td>NaT</td>\n",
       "      <td>NaT</td>\n",
       "      <td>NaT</td>\n",
       "      <td>0.02</td>\n",
       "    </tr>\n",
       "    <tr>\n",
       "      <th>1</th>\n",
       "      <td>100507</td>\n",
       "      <td>69230</td>\n",
       "      <td>55530</td>\n",
       "      <td>14235</td>\n",
       "      <td>270947</td>\n",
       "      <td>Complete</td>\n",
       "      <td>2023-07-22 18:08:02+00:00</td>\n",
       "      <td>2023-07-20 18:15:00+00:00</td>\n",
       "      <td>2023-07-21 06:27:00+00:00</td>\n",
       "      <td>NaT</td>\n",
       "      <td>0.02</td>\n",
       "    </tr>\n",
       "    <tr>\n",
       "      <th>2</th>\n",
       "      <td>140698</td>\n",
       "      <td>97045</td>\n",
       "      <td>77874</td>\n",
       "      <td>14235</td>\n",
       "      <td>379402</td>\n",
       "      <td>Complete</td>\n",
       "      <td>2023-07-22 11:03:26+00:00</td>\n",
       "      <td>2023-07-19 04:25:00+00:00</td>\n",
       "      <td>2023-07-20 01:55:00+00:00</td>\n",
       "      <td>NaT</td>\n",
       "      <td>0.02</td>\n",
       "    </tr>\n",
       "    <tr>\n",
       "      <th>3</th>\n",
       "      <td>11178</td>\n",
       "      <td>7720</td>\n",
       "      <td>6221</td>\n",
       "      <td>14235</td>\n",
       "      <td>30191</td>\n",
       "      <td>Returned</td>\n",
       "      <td>2020-12-15 15:17:06+00:00</td>\n",
       "      <td>2020-12-18 07:14:00+00:00</td>\n",
       "      <td>2020-12-18 14:49:00+00:00</td>\n",
       "      <td>2020-12-19 09:49:00+00:00</td>\n",
       "      <td>0.02</td>\n",
       "    </tr>\n",
       "    <tr>\n",
       "      <th>4</th>\n",
       "      <td>67899</td>\n",
       "      <td>46628</td>\n",
       "      <td>37314</td>\n",
       "      <td>14235</td>\n",
       "      <td>183154</td>\n",
       "      <td>Shipped</td>\n",
       "      <td>2025-03-27 00:43:44+00:00</td>\n",
       "      <td>2025-03-27 03:22:00+00:00</td>\n",
       "      <td>NaT</td>\n",
       "      <td>NaT</td>\n",
       "      <td>0.02</td>\n",
       "    </tr>\n",
       "  </tbody>\n",
       "</table>\n",
       "</div>"
      ],
      "text/plain": [
       "       id  order_id  user_id  product_id  inventory_item_id     status  \\\n",
       "0   55148     37886    30319       14235             148686  Cancelled   \n",
       "1  100507     69230    55530       14235             270947   Complete   \n",
       "2  140698     97045    77874       14235             379402   Complete   \n",
       "3   11178      7720     6221       14235              30191   Returned   \n",
       "4   67899     46628    37314       14235             183154    Shipped   \n",
       "\n",
       "                 created_at                shipped_at  \\\n",
       "0 2025-08-28 05:19:35+00:00                       NaT   \n",
       "1 2023-07-22 18:08:02+00:00 2023-07-20 18:15:00+00:00   \n",
       "2 2023-07-22 11:03:26+00:00 2023-07-19 04:25:00+00:00   \n",
       "3 2020-12-15 15:17:06+00:00 2020-12-18 07:14:00+00:00   \n",
       "4 2025-03-27 00:43:44+00:00 2025-03-27 03:22:00+00:00   \n",
       "\n",
       "               delivered_at               returned_at  sale_price  \n",
       "0                       NaT                       NaT        0.02  \n",
       "1 2023-07-21 06:27:00+00:00                       NaT        0.02  \n",
       "2 2023-07-20 01:55:00+00:00                       NaT        0.02  \n",
       "3 2020-12-18 14:49:00+00:00 2020-12-19 09:49:00+00:00        0.02  \n",
       "4                       NaT                       NaT        0.02  "
      ]
     },
     "execution_count": 8,
     "metadata": {},
     "output_type": "execute_result"
    }
   ],
   "source": [
    "orderitems_df = thelook_dfs['order_items']\n",
    "orderitems_df.head(5)"
   ]
  },
  {
   "cell_type": "markdown",
   "id": "49095e9a-319e-4de7-96e8-1ca5e2d04d74",
   "metadata": {},
   "source": [
    "**orderitems_df**\n",
    "\n",
    "| Column Name         | Description                                                                    |\n",
    "| ------------------- | ------------------------------------------------------------------------------ |\n",
    "| `id`                | Unique identifier for each order item (line item)                              |\n",
    "| `order_id`          | Foreign key referencing the `orders` table (represents the main order)         |\n",
    "| `user_id`           | ID of the customer who placed the order                                        |\n",
    "| `product_id`        | ID of the product ordered (from `products` or `inventories` table)             |\n",
    "| `inventory_item_id` | Foreign key linking to the specific item in the inventory (from `inventories`) |\n",
    "| `status`            | Status of the item within the order: `Complete`, `Cancelled`, etc.             |\n",
    "| `created_at`        | Timestamp when the item was added to the order                                 |\n",
    "| `shipped_at`        | Timestamp when the item was shipped                                            |\n",
    "| `delivered_at`      | Timestamp when the item was delivered                                          |\n",
    "| `returned_at`       | Timestamp if the item was returned                                             |\n",
    "| `sale_price`        | Price at which the item was sold to the customer                               |\n"
   ]
  },
  {
   "cell_type": "code",
   "execution_count": 9,
   "id": "b9e69d41-2a17-45a8-a168-c06267cfff89",
   "metadata": {},
   "outputs": [
    {
     "data": {
      "text/html": [
       "<div>\n",
       "<style scoped>\n",
       "    .dataframe tbody tr th:only-of-type {\n",
       "        vertical-align: middle;\n",
       "    }\n",
       "\n",
       "    .dataframe tbody tr th {\n",
       "        vertical-align: top;\n",
       "    }\n",
       "\n",
       "    .dataframe thead th {\n",
       "        text-align: right;\n",
       "    }\n",
       "</style>\n",
       "<table border=\"1\" class=\"dataframe\">\n",
       "  <thead>\n",
       "    <tr style=\"text-align: right;\">\n",
       "      <th></th>\n",
       "      <th>id</th>\n",
       "      <th>cost</th>\n",
       "      <th>category</th>\n",
       "      <th>name</th>\n",
       "      <th>brand</th>\n",
       "      <th>retail_price</th>\n",
       "      <th>department</th>\n",
       "      <th>sku</th>\n",
       "      <th>distribution_center_id</th>\n",
       "    </tr>\n",
       "  </thead>\n",
       "  <tbody>\n",
       "    <tr>\n",
       "      <th>0</th>\n",
       "      <td>13842</td>\n",
       "      <td>2.51875</td>\n",
       "      <td>Accessories</td>\n",
       "      <td>Low Profile Dyed Cotton Twill Cap - Navy W39S55D</td>\n",
       "      <td>MG</td>\n",
       "      <td>6.25</td>\n",
       "      <td>Women</td>\n",
       "      <td>EBD58B8A3F1D72F4206201DA62FB1204</td>\n",
       "      <td>1</td>\n",
       "    </tr>\n",
       "    <tr>\n",
       "      <th>1</th>\n",
       "      <td>13928</td>\n",
       "      <td>2.33835</td>\n",
       "      <td>Accessories</td>\n",
       "      <td>Low Profile Dyed Cotton Twill Cap - Putty W39S55D</td>\n",
       "      <td>MG</td>\n",
       "      <td>5.95</td>\n",
       "      <td>Women</td>\n",
       "      <td>2EAC42424D12436BDD6A5B8A88480CC3</td>\n",
       "      <td>1</td>\n",
       "    </tr>\n",
       "    <tr>\n",
       "      <th>2</th>\n",
       "      <td>14115</td>\n",
       "      <td>4.87956</td>\n",
       "      <td>Accessories</td>\n",
       "      <td>Enzyme Regular Solid Army Caps-Black W35S45D</td>\n",
       "      <td>MG</td>\n",
       "      <td>10.99</td>\n",
       "      <td>Women</td>\n",
       "      <td>EE364229B2791D1EF9355708EFF0BA34</td>\n",
       "      <td>1</td>\n",
       "    </tr>\n",
       "    <tr>\n",
       "      <th>3</th>\n",
       "      <td>14157</td>\n",
       "      <td>4.64877</td>\n",
       "      <td>Accessories</td>\n",
       "      <td>Enzyme Regular Solid Army Caps-Olive W35S45D (...</td>\n",
       "      <td>MG</td>\n",
       "      <td>10.99</td>\n",
       "      <td>Women</td>\n",
       "      <td>00BD13095D06C20B11A2993CA419D16B</td>\n",
       "      <td>1</td>\n",
       "    </tr>\n",
       "    <tr>\n",
       "      <th>4</th>\n",
       "      <td>14273</td>\n",
       "      <td>6.50793</td>\n",
       "      <td>Accessories</td>\n",
       "      <td>Washed Canvas Ivy Cap - Black W11S64C</td>\n",
       "      <td>MG</td>\n",
       "      <td>15.99</td>\n",
       "      <td>Women</td>\n",
       "      <td>F531DC20FDE20B7ADF3A73F52B71D0AF</td>\n",
       "      <td>1</td>\n",
       "    </tr>\n",
       "  </tbody>\n",
       "</table>\n",
       "</div>"
      ],
      "text/plain": [
       "      id     cost     category  \\\n",
       "0  13842  2.51875  Accessories   \n",
       "1  13928  2.33835  Accessories   \n",
       "2  14115  4.87956  Accessories   \n",
       "3  14157  4.64877  Accessories   \n",
       "4  14273  6.50793  Accessories   \n",
       "\n",
       "                                                name brand  retail_price  \\\n",
       "0   Low Profile Dyed Cotton Twill Cap - Navy W39S55D    MG          6.25   \n",
       "1  Low Profile Dyed Cotton Twill Cap - Putty W39S55D    MG          5.95   \n",
       "2       Enzyme Regular Solid Army Caps-Black W35S45D    MG         10.99   \n",
       "3  Enzyme Regular Solid Army Caps-Olive W35S45D (...    MG         10.99   \n",
       "4              Washed Canvas Ivy Cap - Black W11S64C    MG         15.99   \n",
       "\n",
       "  department                               sku  distribution_center_id  \n",
       "0      Women  EBD58B8A3F1D72F4206201DA62FB1204                       1  \n",
       "1      Women  2EAC42424D12436BDD6A5B8A88480CC3                       1  \n",
       "2      Women  EE364229B2791D1EF9355708EFF0BA34                       1  \n",
       "3      Women  00BD13095D06C20B11A2993CA419D16B                       1  \n",
       "4      Women  F531DC20FDE20B7ADF3A73F52B71D0AF                       1  "
      ]
     },
     "execution_count": 9,
     "metadata": {},
     "output_type": "execute_result"
    }
   ],
   "source": [
    "products_df = thelook_dfs['products']\n",
    "products_df.head(5)"
   ]
  },
  {
   "cell_type": "markdown",
   "id": "232beb8f-857e-4de5-a0bf-0dd41fa25672",
   "metadata": {},
   "source": [
    "**products_df**\n",
    "\n",
    "| Column Name              | Description                                                                                                      |\n",
    "| ------------------------ | ---------------------------------------------------------------------------------------------------------------- |\n",
    "| `id`                     | Unique product ID                                                                                                |\n",
    "| `cost`                   | Internal cost of the product for the retailer                                                                    |\n",
    "| `category`               | Product category (e.g., Accessories, Tops, Shoes)                                                                |\n",
    "| `name`                   | Full name or description of the product                                                                          |\n",
    "| `brand`                  | Brand or manufacturer of the product                                                                             |\n",
    "| `retail_price`           | Recommended retail price for the product                                                                         |\n",
    "| `department`             | Department the product belongs to (e.g., Women, Men, Kids)                                                       |\n",
    "| `sku`                    | Stock Keeping Unit: unique code used to identify and track inventory                                             |\n",
    "| `distribution_center_id` | Foreign key linking to the `distribution_centers` table, indicating where the product is stocked or shipped from |\n"
   ]
  },
  {
   "cell_type": "code",
   "execution_count": 10,
   "id": "80a08e65-8c2b-4e18-8baa-ede2a2ea97a7",
   "metadata": {},
   "outputs": [
    {
     "data": {
      "text/html": [
       "<div>\n",
       "<style scoped>\n",
       "    .dataframe tbody tr th:only-of-type {\n",
       "        vertical-align: middle;\n",
       "    }\n",
       "\n",
       "    .dataframe tbody tr th {\n",
       "        vertical-align: top;\n",
       "    }\n",
       "\n",
       "    .dataframe thead th {\n",
       "        text-align: right;\n",
       "    }\n",
       "</style>\n",
       "<table border=\"1\" class=\"dataframe\">\n",
       "  <thead>\n",
       "    <tr style=\"text-align: right;\">\n",
       "      <th></th>\n",
       "      <th>id</th>\n",
       "      <th>first_name</th>\n",
       "      <th>last_name</th>\n",
       "      <th>email</th>\n",
       "      <th>age</th>\n",
       "      <th>gender</th>\n",
       "      <th>state</th>\n",
       "      <th>street_address</th>\n",
       "      <th>postal_code</th>\n",
       "      <th>city</th>\n",
       "      <th>country</th>\n",
       "      <th>latitude</th>\n",
       "      <th>longitude</th>\n",
       "      <th>traffic_source</th>\n",
       "      <th>created_at</th>\n",
       "      <th>user_geom</th>\n",
       "    </tr>\n",
       "  </thead>\n",
       "  <tbody>\n",
       "    <tr>\n",
       "      <th>0</th>\n",
       "      <td>6769</td>\n",
       "      <td>Timothy</td>\n",
       "      <td>Herman</td>\n",
       "      <td>timothyherman@example.com</td>\n",
       "      <td>37</td>\n",
       "      <td>M</td>\n",
       "      <td>Acre</td>\n",
       "      <td>66068 James Gateway</td>\n",
       "      <td>69980-000</td>\n",
       "      <td>null</td>\n",
       "      <td>Brasil</td>\n",
       "      <td>-8.065346</td>\n",
       "      <td>-72.870949</td>\n",
       "      <td>Search</td>\n",
       "      <td>2024-09-28 13:24:00+00:00</td>\n",
       "      <td>POINT(-72.87094866 -8.065346116)</td>\n",
       "    </tr>\n",
       "    <tr>\n",
       "      <th>1</th>\n",
       "      <td>26739</td>\n",
       "      <td>Alexis</td>\n",
       "      <td>Hernandez</td>\n",
       "      <td>alexishernandez@example.org</td>\n",
       "      <td>31</td>\n",
       "      <td>F</td>\n",
       "      <td>Acre</td>\n",
       "      <td>3348 Brenda Mills</td>\n",
       "      <td>69980-000</td>\n",
       "      <td>null</td>\n",
       "      <td>Brasil</td>\n",
       "      <td>-8.065346</td>\n",
       "      <td>-72.870949</td>\n",
       "      <td>Email</td>\n",
       "      <td>2025-08-15 01:19:00+00:00</td>\n",
       "      <td>POINT(-72.87094866 -8.065346116)</td>\n",
       "    </tr>\n",
       "    <tr>\n",
       "      <th>2</th>\n",
       "      <td>75610</td>\n",
       "      <td>Kristin</td>\n",
       "      <td>Chavez</td>\n",
       "      <td>kristinchavez@example.org</td>\n",
       "      <td>63</td>\n",
       "      <td>F</td>\n",
       "      <td>Acre</td>\n",
       "      <td>6872 Virginia Curve</td>\n",
       "      <td>69980-000</td>\n",
       "      <td>null</td>\n",
       "      <td>Brasil</td>\n",
       "      <td>-8.065346</td>\n",
       "      <td>-72.870949</td>\n",
       "      <td>Facebook</td>\n",
       "      <td>2024-11-15 10:03:00+00:00</td>\n",
       "      <td>POINT(-72.87094866 -8.065346116)</td>\n",
       "    </tr>\n",
       "    <tr>\n",
       "      <th>3</th>\n",
       "      <td>63702</td>\n",
       "      <td>Lance</td>\n",
       "      <td>Gordon</td>\n",
       "      <td>lancegordon@example.net</td>\n",
       "      <td>57</td>\n",
       "      <td>M</td>\n",
       "      <td>Acre</td>\n",
       "      <td>860 Ramirez Extensions Apt. 764</td>\n",
       "      <td>69980-000</td>\n",
       "      <td>null</td>\n",
       "      <td>Brasil</td>\n",
       "      <td>-8.065346</td>\n",
       "      <td>-72.870949</td>\n",
       "      <td>Search</td>\n",
       "      <td>2020-08-20 15:47:00+00:00</td>\n",
       "      <td>POINT(-72.87094866 -8.065346116)</td>\n",
       "    </tr>\n",
       "    <tr>\n",
       "      <th>4</th>\n",
       "      <td>771</td>\n",
       "      <td>Thomas</td>\n",
       "      <td>Castillo</td>\n",
       "      <td>thomascastillo@example.net</td>\n",
       "      <td>44</td>\n",
       "      <td>M</td>\n",
       "      <td>Acre</td>\n",
       "      <td>5549 Gonzales Route</td>\n",
       "      <td>69980-000</td>\n",
       "      <td>null</td>\n",
       "      <td>Brasil</td>\n",
       "      <td>-8.065346</td>\n",
       "      <td>-72.870949</td>\n",
       "      <td>Search</td>\n",
       "      <td>2022-12-22 09:22:00+00:00</td>\n",
       "      <td>POINT(-72.87094866 -8.065346116)</td>\n",
       "    </tr>\n",
       "  </tbody>\n",
       "</table>\n",
       "</div>"
      ],
      "text/plain": [
       "      id first_name  last_name                        email  age gender state  \\\n",
       "0   6769    Timothy     Herman    timothyherman@example.com   37      M  Acre   \n",
       "1  26739     Alexis  Hernandez  alexishernandez@example.org   31      F  Acre   \n",
       "2  75610    Kristin     Chavez    kristinchavez@example.org   63      F  Acre   \n",
       "3  63702      Lance     Gordon      lancegordon@example.net   57      M  Acre   \n",
       "4    771     Thomas   Castillo   thomascastillo@example.net   44      M  Acre   \n",
       "\n",
       "                    street_address postal_code  city country  latitude  \\\n",
       "0              66068 James Gateway   69980-000  null  Brasil -8.065346   \n",
       "1                3348 Brenda Mills   69980-000  null  Brasil -8.065346   \n",
       "2              6872 Virginia Curve   69980-000  null  Brasil -8.065346   \n",
       "3  860 Ramirez Extensions Apt. 764   69980-000  null  Brasil -8.065346   \n",
       "4              5549 Gonzales Route   69980-000  null  Brasil -8.065346   \n",
       "\n",
       "   longitude traffic_source                created_at  \\\n",
       "0 -72.870949         Search 2024-09-28 13:24:00+00:00   \n",
       "1 -72.870949          Email 2025-08-15 01:19:00+00:00   \n",
       "2 -72.870949       Facebook 2024-11-15 10:03:00+00:00   \n",
       "3 -72.870949         Search 2020-08-20 15:47:00+00:00   \n",
       "4 -72.870949         Search 2022-12-22 09:22:00+00:00   \n",
       "\n",
       "                          user_geom  \n",
       "0  POINT(-72.87094866 -8.065346116)  \n",
       "1  POINT(-72.87094866 -8.065346116)  \n",
       "2  POINT(-72.87094866 -8.065346116)  \n",
       "3  POINT(-72.87094866 -8.065346116)  \n",
       "4  POINT(-72.87094866 -8.065346116)  "
      ]
     },
     "execution_count": 10,
     "metadata": {},
     "output_type": "execute_result"
    }
   ],
   "source": [
    "users_df = thelook_dfs['users']\n",
    "users_df.head(5)"
   ]
  },
  {
   "cell_type": "markdown",
   "id": "b3f64b63-38f9-47f5-825e-214bff68e0c1",
   "metadata": {},
   "source": [
    "**users_df dictionary**\n",
    "\n",
    "  | Column Name      | Description                                                                                |\n",
    "| ---------------- | ------------------------------------------------------------------------------------------ |\n",
    "| `id`             | Unique identifier for the user (primary key)                                               |\n",
    "| `first_name`     | User's first name                                                                          |\n",
    "| `last_name`      | User's last name                                                                           |\n",
    "| `email`          | User's email address                                                                       |\n",
    "| `age`            | Age of the user                                                                            |\n",
    "| `gender`         | Gender of the user (`M`, `F`, or other)                                                    |\n",
    "| `state`          | State of residence (e.g., Acre)                                                            |\n",
    "| `street_address` | Full street address of the user                                                            |\n",
    "| `postal_code`    | Postal or ZIP code                                                                         |\n",
    "| `city`           | City (some entries may be `null`)                                                          |\n",
    "| `country`        | Country of residence (e.g., Brasil)                                                        |\n",
    "| `latitude`       | Latitude coordinate of the user's address                                                  |\n",
    "| `longitude`      | Longitude coordinate of the user's address                                                 |\n",
    "| `traffic_source` | Original acquisition source (e.g., Facebook, Email, Search, Organic)                       |\n",
    "| `created_at`     | Timestamp of when the user was created in the system                                       |\n",
    "| `user_geom`      | Spatial data point combining `longitude` and `latitude` (for mapping and geospatial joins) |\n"
   ]
  },
  {
   "cell_type": "markdown",
   "id": "eb2a4e11-0b9d-4604-af17-9f7821da02a6",
   "metadata": {},
   "source": [
    "### Data Cleaning & Exploration"
   ]
  },
  {
   "cell_type": "markdown",
   "id": "6ef16a7f-4d77-4017-8701-eb6c8a834ffe",
   "metadata": {},
   "source": [
    "#### orders_df"
   ]
  },
  {
   "cell_type": "code",
   "execution_count": 11,
   "id": "99e8a6ad-7292-46dd-8f83-fa7fc0677b01",
   "metadata": {},
   "outputs": [
    {
     "data": {
      "text/plain": [
       "(124769, 9)"
      ]
     },
     "execution_count": 11,
     "metadata": {},
     "output_type": "execute_result"
    }
   ],
   "source": [
    "# number of colums\n",
    "orders_df.shape"
   ]
  },
  {
   "cell_type": "code",
   "execution_count": 12,
   "id": "894c6535-6cd0-4cc1-ba78-1f0ae25ae297",
   "metadata": {},
   "outputs": [
    {
     "name": "stdout",
     "output_type": "stream",
     "text": [
      "<class 'pandas.core.frame.DataFrame'>\n",
      "RangeIndex: 124769 entries, 0 to 124768\n",
      "Data columns (total 9 columns):\n",
      " #   Column        Non-Null Count   Dtype              \n",
      "---  ------        --------------   -----              \n",
      " 0   order_id      124769 non-null  Int64              \n",
      " 1   user_id       124769 non-null  Int64              \n",
      " 2   status        124769 non-null  object             \n",
      " 3   gender        124769 non-null  object             \n",
      " 4   created_at    124769 non-null  datetime64[us, UTC]\n",
      " 5   returned_at   12579 non-null   datetime64[us, UTC]\n",
      " 6   shipped_at    81134 non-null   datetime64[us, UTC]\n",
      " 7   delivered_at  43868 non-null   datetime64[us, UTC]\n",
      " 8   num_of_item   124769 non-null  Int64              \n",
      "dtypes: Int64(3), datetime64[us, UTC](4), object(2)\n",
      "memory usage: 8.9+ MB\n"
     ]
    }
   ],
   "source": [
    "# Check data type of the orders_df\n",
    "\n",
    "orders_df.info()"
   ]
  },
  {
   "cell_type": "code",
   "execution_count": 13,
   "id": "1a7c77a2-17ab-4200-9b94-d60ccaaf7ec3",
   "metadata": {},
   "outputs": [
    {
     "data": {
      "text/plain": [
       "order_id             0\n",
       "user_id              0\n",
       "status               0\n",
       "gender               0\n",
       "created_at           0\n",
       "returned_at     112190\n",
       "shipped_at       43635\n",
       "delivered_at     80901\n",
       "num_of_item          0\n",
       "dtype: int64"
      ]
     },
     "execution_count": 13,
     "metadata": {},
     "output_type": "execute_result"
    }
   ],
   "source": [
    "# Check for null values\n",
    "\n",
    "orders_df.isnull().sum()"
   ]
  },
  {
   "cell_type": "code",
   "execution_count": 14,
   "id": "dec1036f-da73-49ea-922e-595b75b77b89",
   "metadata": {},
   "outputs": [
    {
     "data": {
      "text/plain": [
       "array(['Cancelled', 'Complete', 'Processing', 'Returned', 'Shipped'],\n",
       "      dtype=object)"
      ]
     },
     "execution_count": 14,
     "metadata": {},
     "output_type": "execute_result"
    }
   ],
   "source": [
    "orders_df['status'].unique()"
   ]
  },
  {
   "cell_type": "code",
   "execution_count": 15,
   "id": "ef2cd9cf-e0b0-4b03-a3b2-3f059346909f",
   "metadata": {},
   "outputs": [
    {
     "data": {
      "text/plain": [
       "status\n",
       "Shipped       0.298680\n",
       "Complete      0.250775\n",
       "Processing    0.200418\n",
       "Cancelled     0.149308\n",
       "Returned      0.100818\n",
       "Name: proportion, dtype: float64"
      ]
     },
     "execution_count": 15,
     "metadata": {},
     "output_type": "execute_result"
    }
   ],
   "source": [
    "orders_df['status'].value_counts(normalize = True)"
   ]
  },
  {
   "cell_type": "code",
   "execution_count": 16,
   "id": "f9acb9b7-ae57-486a-88a6-f7e66d18e8fe",
   "metadata": {},
   "outputs": [
    {
     "data": {
      "text/plain": [
       "gender\n",
       "F    0.501463\n",
       "M    0.498537\n",
       "Name: proportion, dtype: float64"
      ]
     },
     "execution_count": 16,
     "metadata": {},
     "output_type": "execute_result"
    }
   ],
   "source": [
    "# unique values and proportion of items in gender\n",
    "\n",
    "orders_df['gender'].value_counts(normalize = True)"
   ]
  },
  {
   "cell_type": "code",
   "execution_count": 17,
   "id": "4959c9c8-8021-4475-97c9-342e84db1da8",
   "metadata": {},
   "outputs": [
    {
     "data": {
      "text/html": [
       "<div>\n",
       "<style scoped>\n",
       "    .dataframe tbody tr th:only-of-type {\n",
       "        vertical-align: middle;\n",
       "    }\n",
       "\n",
       "    .dataframe tbody tr th {\n",
       "        vertical-align: top;\n",
       "    }\n",
       "\n",
       "    .dataframe thead th {\n",
       "        text-align: right;\n",
       "    }\n",
       "</style>\n",
       "<table border=\"1\" class=\"dataframe\">\n",
       "  <thead>\n",
       "    <tr style=\"text-align: right;\">\n",
       "      <th></th>\n",
       "      <th>order_id</th>\n",
       "      <th>user_id</th>\n",
       "      <th>num_of_item</th>\n",
       "    </tr>\n",
       "  </thead>\n",
       "  <tbody>\n",
       "    <tr>\n",
       "      <th>count</th>\n",
       "      <td>124769.0</td>\n",
       "      <td>124769.0</td>\n",
       "      <td>124769.0</td>\n",
       "    </tr>\n",
       "    <tr>\n",
       "      <th>mean</th>\n",
       "      <td>62385.0</td>\n",
       "      <td>50018.981702</td>\n",
       "      <td>1.449679</td>\n",
       "    </tr>\n",
       "    <tr>\n",
       "      <th>std</th>\n",
       "      <td>36017.852206</td>\n",
       "      <td>28884.137472</td>\n",
       "      <td>0.802674</td>\n",
       "    </tr>\n",
       "    <tr>\n",
       "      <th>min</th>\n",
       "      <td>1.0</td>\n",
       "      <td>1.0</td>\n",
       "      <td>1.0</td>\n",
       "    </tr>\n",
       "    <tr>\n",
       "      <th>25%</th>\n",
       "      <td>31193.0</td>\n",
       "      <td>24958.0</td>\n",
       "      <td>1.0</td>\n",
       "    </tr>\n",
       "    <tr>\n",
       "      <th>50%</th>\n",
       "      <td>62385.0</td>\n",
       "      <td>50046.0</td>\n",
       "      <td>1.0</td>\n",
       "    </tr>\n",
       "    <tr>\n",
       "      <th>75%</th>\n",
       "      <td>93577.0</td>\n",
       "      <td>75037.0</td>\n",
       "      <td>2.0</td>\n",
       "    </tr>\n",
       "    <tr>\n",
       "      <th>max</th>\n",
       "      <td>124769.0</td>\n",
       "      <td>100000.0</td>\n",
       "      <td>4.0</td>\n",
       "    </tr>\n",
       "  </tbody>\n",
       "</table>\n",
       "</div>"
      ],
      "text/plain": [
       "           order_id       user_id  num_of_item\n",
       "count      124769.0      124769.0     124769.0\n",
       "mean        62385.0  50018.981702     1.449679\n",
       "std    36017.852206  28884.137472     0.802674\n",
       "min             1.0           1.0          1.0\n",
       "25%         31193.0       24958.0          1.0\n",
       "50%         62385.0       50046.0          1.0\n",
       "75%         93577.0       75037.0          2.0\n",
       "max        124769.0      100000.0          4.0"
      ]
     },
     "execution_count": 17,
     "metadata": {},
     "output_type": "execute_result"
    }
   ],
   "source": [
    "orders_df.describe()"
   ]
  },
  {
   "cell_type": "markdown",
   "id": "68e3c303-3d3b-4e91-9acd-9a8467f4903d",
   "metadata": {},
   "source": [
    "**distribution_df (Distribution center)**"
   ]
  },
  {
   "cell_type": "markdown",
   "id": "d15fb16b-1018-4783-9d74-a62f868742c0",
   "metadata": {},
   "source": [
    "**Null values interpretation**\n",
    "\n",
    "The order_df has 112122 null valued for returned_at, this indicates that 112122 were not returned, 43852 were never shipped, and 81210 has no delivery time, perhaps because they were never delivered. This could include:\n",
    "\n",
    "- Orders that were cancelled before delivery.\n",
    "\n",
    "- Orders that are still in transit.\n",
    "\n",
    "- Orders that were lost or failed delivery.\n",
    "\n",
    "**Status Value counts**\n",
    "\n",
    "About 29.85% of orders were shipped but not yet marked as delivered, 25.14 were succesfully delivered, 19.92 % are currenly been processed, 15.11 % were cancelled before completion and 9.96 orders were delivered by returned by customers. \n",
    "\n",
    "**Gender**\n",
    "\n",
    "`50.06` % of customers are Male and  `49.93` are female\n",
    "\n",
    "**.decribe**\n",
    "\n",
    "50% media of all orders contain 1 item and 75% of order contain 2 items and the maximum number of items ordered in a single order is 4"
   ]
  },
  {
   "cell_type": "code",
   "execution_count": 18,
   "id": "3a6a0eb0-a302-44c9-8411-f88268e83eb4",
   "metadata": {},
   "outputs": [
    {
     "data": {
      "text/html": [
       "<div>\n",
       "<style scoped>\n",
       "    .dataframe tbody tr th:only-of-type {\n",
       "        vertical-align: middle;\n",
       "    }\n",
       "\n",
       "    .dataframe tbody tr th {\n",
       "        vertical-align: top;\n",
       "    }\n",
       "\n",
       "    .dataframe thead th {\n",
       "        text-align: right;\n",
       "    }\n",
       "</style>\n",
       "<table border=\"1\" class=\"dataframe\">\n",
       "  <thead>\n",
       "    <tr style=\"text-align: right;\">\n",
       "      <th></th>\n",
       "      <th>id</th>\n",
       "      <th>name</th>\n",
       "      <th>latitude</th>\n",
       "      <th>longitude</th>\n",
       "      <th>distribution_center_geom</th>\n",
       "    </tr>\n",
       "  </thead>\n",
       "  <tbody>\n",
       "    <tr>\n",
       "      <th>0</th>\n",
       "      <td>6</td>\n",
       "      <td>Port Authority of New York/New Jersey NY/NJ</td>\n",
       "      <td>40.6340</td>\n",
       "      <td>-73.7834</td>\n",
       "      <td>POINT(-73.7834 40.634)</td>\n",
       "    </tr>\n",
       "    <tr>\n",
       "      <th>1</th>\n",
       "      <td>4</td>\n",
       "      <td>Los Angeles CA</td>\n",
       "      <td>34.0500</td>\n",
       "      <td>-118.2500</td>\n",
       "      <td>POINT(-118.25 34.05)</td>\n",
       "    </tr>\n",
       "    <tr>\n",
       "      <th>2</th>\n",
       "      <td>8</td>\n",
       "      <td>Mobile AL</td>\n",
       "      <td>30.6944</td>\n",
       "      <td>-88.0431</td>\n",
       "      <td>POINT(-88.0431 30.6944)</td>\n",
       "    </tr>\n",
       "    <tr>\n",
       "      <th>3</th>\n",
       "      <td>2</td>\n",
       "      <td>Chicago IL</td>\n",
       "      <td>41.8369</td>\n",
       "      <td>-87.6847</td>\n",
       "      <td>POINT(-87.6847 41.8369)</td>\n",
       "    </tr>\n",
       "    <tr>\n",
       "      <th>4</th>\n",
       "      <td>10</td>\n",
       "      <td>Savannah GA</td>\n",
       "      <td>32.0167</td>\n",
       "      <td>-81.1167</td>\n",
       "      <td>POINT(-81.1167 32.0167)</td>\n",
       "    </tr>\n",
       "  </tbody>\n",
       "</table>\n",
       "</div>"
      ],
      "text/plain": [
       "   id                                         name  latitude  longitude  \\\n",
       "0   6  Port Authority of New York/New Jersey NY/NJ   40.6340   -73.7834   \n",
       "1   4                               Los Angeles CA   34.0500  -118.2500   \n",
       "2   8                                    Mobile AL   30.6944   -88.0431   \n",
       "3   2                                   Chicago IL   41.8369   -87.6847   \n",
       "4  10                                  Savannah GA   32.0167   -81.1167   \n",
       "\n",
       "  distribution_center_geom  \n",
       "0   POINT(-73.7834 40.634)  \n",
       "1     POINT(-118.25 34.05)  \n",
       "2  POINT(-88.0431 30.6944)  \n",
       "3  POINT(-87.6847 41.8369)  \n",
       "4  POINT(-81.1167 32.0167)  "
      ]
     },
     "execution_count": 18,
     "metadata": {},
     "output_type": "execute_result"
    }
   ],
   "source": [
    "distribution_df.head()"
   ]
  },
  {
   "cell_type": "code",
   "execution_count": 19,
   "id": "190e93f1-b61c-46e9-af8d-38f2b1501013",
   "metadata": {},
   "outputs": [
    {
     "data": {
      "text/plain": [
       "(10, 5)"
      ]
     },
     "execution_count": 19,
     "metadata": {},
     "output_type": "execute_result"
    }
   ],
   "source": [
    "# no of rows and columns\n",
    "distribution_df.shape"
   ]
  },
  {
   "cell_type": "code",
   "execution_count": 20,
   "id": "02e2adf1-d6f7-4996-b04e-797941b29297",
   "metadata": {},
   "outputs": [
    {
     "data": {
      "text/plain": [
       "id                          0\n",
       "name                        0\n",
       "latitude                    0\n",
       "longitude                   0\n",
       "distribution_center_geom    0\n",
       "dtype: int64"
      ]
     },
     "execution_count": 20,
     "metadata": {},
     "output_type": "execute_result"
    }
   ],
   "source": [
    "# check for null values\n",
    "\n",
    "distribution_df.isnull().sum()"
   ]
  },
  {
   "cell_type": "code",
   "execution_count": 21,
   "id": "bed377b9-025a-42ce-a2d0-417b5c8bed96",
   "metadata": {},
   "outputs": [
    {
     "name": "stdout",
     "output_type": "stream",
     "text": [
      "<class 'pandas.core.frame.DataFrame'>\n",
      "RangeIndex: 10 entries, 0 to 9\n",
      "Data columns (total 5 columns):\n",
      " #   Column                    Non-Null Count  Dtype  \n",
      "---  ------                    --------------  -----  \n",
      " 0   id                        10 non-null     Int64  \n",
      " 1   name                      10 non-null     object \n",
      " 2   latitude                  10 non-null     float64\n",
      " 3   longitude                 10 non-null     float64\n",
      " 4   distribution_center_geom  10 non-null     object \n",
      "dtypes: Int64(1), float64(2), object(2)\n",
      "memory usage: 542.0+ bytes\n"
     ]
    }
   ],
   "source": [
    "distribution_df.info()"
   ]
  },
  {
   "cell_type": "markdown",
   "id": "1087cdf1-7abb-4ec3-bd30-b44c5d87a2a8",
   "metadata": {},
   "source": [
    "**events_df**"
   ]
  },
  {
   "cell_type": "code",
   "execution_count": 22,
   "id": "cb458854-7e41-4731-ad18-2c2152cbe56f",
   "metadata": {},
   "outputs": [
    {
     "data": {
      "text/plain": [
       "(2420913, 13)"
      ]
     },
     "execution_count": 22,
     "metadata": {},
     "output_type": "execute_result"
    }
   ],
   "source": [
    "# number of rows in the table\n",
    "events_df.shape"
   ]
  },
  {
   "cell_type": "code",
   "execution_count": 23,
   "id": "2ff0129f-402c-46c1-8ba5-5da144be1bc7",
   "metadata": {},
   "outputs": [
    {
     "data": {
      "text/html": [
       "<div>\n",
       "<style scoped>\n",
       "    .dataframe tbody tr th:only-of-type {\n",
       "        vertical-align: middle;\n",
       "    }\n",
       "\n",
       "    .dataframe tbody tr th {\n",
       "        vertical-align: top;\n",
       "    }\n",
       "\n",
       "    .dataframe thead th {\n",
       "        text-align: right;\n",
       "    }\n",
       "</style>\n",
       "<table border=\"1\" class=\"dataframe\">\n",
       "  <thead>\n",
       "    <tr style=\"text-align: right;\">\n",
       "      <th></th>\n",
       "      <th>id</th>\n",
       "      <th>user_id</th>\n",
       "      <th>sequence_number</th>\n",
       "      <th>session_id</th>\n",
       "      <th>created_at</th>\n",
       "      <th>ip_address</th>\n",
       "      <th>city</th>\n",
       "      <th>state</th>\n",
       "      <th>postal_code</th>\n",
       "      <th>browser</th>\n",
       "      <th>traffic_source</th>\n",
       "      <th>uri</th>\n",
       "      <th>event_type</th>\n",
       "    </tr>\n",
       "  </thead>\n",
       "  <tbody>\n",
       "    <tr>\n",
       "      <th>0</th>\n",
       "      <td>1574405</td>\n",
       "      <td>&lt;NA&gt;</td>\n",
       "      <td>3</td>\n",
       "      <td>bdac379f-844d-4b41-a1ac-ae97c20f5cb1</td>\n",
       "      <td>2019-07-04 05:15:00+00:00</td>\n",
       "      <td>161.89.190.206</td>\n",
       "      <td>São Paulo</td>\n",
       "      <td>São Paulo</td>\n",
       "      <td>02675-031</td>\n",
       "      <td>Chrome</td>\n",
       "      <td>Facebook</td>\n",
       "      <td>/cancel</td>\n",
       "      <td>cancel</td>\n",
       "    </tr>\n",
       "    <tr>\n",
       "      <th>1</th>\n",
       "      <td>1900822</td>\n",
       "      <td>&lt;NA&gt;</td>\n",
       "      <td>3</td>\n",
       "      <td>286de1ce-fbfe-452c-9608-ac9ecb31075d</td>\n",
       "      <td>2020-07-26 11:34:00+00:00</td>\n",
       "      <td>167.57.229.160</td>\n",
       "      <td>São Paulo</td>\n",
       "      <td>São Paulo</td>\n",
       "      <td>02675-031</td>\n",
       "      <td>Firefox</td>\n",
       "      <td>Adwords</td>\n",
       "      <td>/cancel</td>\n",
       "      <td>cancel</td>\n",
       "    </tr>\n",
       "    <tr>\n",
       "      <th>2</th>\n",
       "      <td>1969181</td>\n",
       "      <td>&lt;NA&gt;</td>\n",
       "      <td>3</td>\n",
       "      <td>28b49f98-3856-4bba-82ce-a14368399d00</td>\n",
       "      <td>2019-03-15 14:49:00+00:00</td>\n",
       "      <td>141.27.61.40</td>\n",
       "      <td>São Paulo</td>\n",
       "      <td>São Paulo</td>\n",
       "      <td>02675-031</td>\n",
       "      <td>Safari</td>\n",
       "      <td>Organic</td>\n",
       "      <td>/cancel</td>\n",
       "      <td>cancel</td>\n",
       "    </tr>\n",
       "    <tr>\n",
       "      <th>3</th>\n",
       "      <td>1953020</td>\n",
       "      <td>&lt;NA&gt;</td>\n",
       "      <td>3</td>\n",
       "      <td>1ff75d98-efc9-4be2-85cb-e3e1c8c821ce</td>\n",
       "      <td>2020-02-08 05:59:00+00:00</td>\n",
       "      <td>14.172.57.122</td>\n",
       "      <td>São Paulo</td>\n",
       "      <td>São Paulo</td>\n",
       "      <td>02675-031</td>\n",
       "      <td>Chrome</td>\n",
       "      <td>Email</td>\n",
       "      <td>/cancel</td>\n",
       "      <td>cancel</td>\n",
       "    </tr>\n",
       "    <tr>\n",
       "      <th>4</th>\n",
       "      <td>1531818</td>\n",
       "      <td>&lt;NA&gt;</td>\n",
       "      <td>3</td>\n",
       "      <td>d62abc95-91a5-48cd-9c01-89f59ffec934</td>\n",
       "      <td>2021-09-02 16:48:00+00:00</td>\n",
       "      <td>35.210.30.163</td>\n",
       "      <td>São Paulo</td>\n",
       "      <td>São Paulo</td>\n",
       "      <td>02675-031</td>\n",
       "      <td>Firefox</td>\n",
       "      <td>Email</td>\n",
       "      <td>/cancel</td>\n",
       "      <td>cancel</td>\n",
       "    </tr>\n",
       "  </tbody>\n",
       "</table>\n",
       "</div>"
      ],
      "text/plain": [
       "        id  user_id  sequence_number                            session_id  \\\n",
       "0  1574405     <NA>                3  bdac379f-844d-4b41-a1ac-ae97c20f5cb1   \n",
       "1  1900822     <NA>                3  286de1ce-fbfe-452c-9608-ac9ecb31075d   \n",
       "2  1969181     <NA>                3  28b49f98-3856-4bba-82ce-a14368399d00   \n",
       "3  1953020     <NA>                3  1ff75d98-efc9-4be2-85cb-e3e1c8c821ce   \n",
       "4  1531818     <NA>                3  d62abc95-91a5-48cd-9c01-89f59ffec934   \n",
       "\n",
       "                 created_at      ip_address       city      state postal_code  \\\n",
       "0 2019-07-04 05:15:00+00:00  161.89.190.206  São Paulo  São Paulo   02675-031   \n",
       "1 2020-07-26 11:34:00+00:00  167.57.229.160  São Paulo  São Paulo   02675-031   \n",
       "2 2019-03-15 14:49:00+00:00    141.27.61.40  São Paulo  São Paulo   02675-031   \n",
       "3 2020-02-08 05:59:00+00:00   14.172.57.122  São Paulo  São Paulo   02675-031   \n",
       "4 2021-09-02 16:48:00+00:00   35.210.30.163  São Paulo  São Paulo   02675-031   \n",
       "\n",
       "   browser traffic_source      uri event_type  \n",
       "0   Chrome       Facebook  /cancel     cancel  \n",
       "1  Firefox        Adwords  /cancel     cancel  \n",
       "2   Safari        Organic  /cancel     cancel  \n",
       "3   Chrome          Email  /cancel     cancel  \n",
       "4  Firefox          Email  /cancel     cancel  "
      ]
     },
     "execution_count": 23,
     "metadata": {},
     "output_type": "execute_result"
    }
   ],
   "source": [
    "events_df.head(5)"
   ]
  },
  {
   "cell_type": "code",
   "execution_count": 24,
   "id": "a25b6615-6f7e-4683-bbb8-faca87a892e1",
   "metadata": {},
   "outputs": [
    {
     "name": "stdout",
     "output_type": "stream",
     "text": [
      "<class 'pandas.core.frame.DataFrame'>\n",
      "RangeIndex: 2420913 entries, 0 to 2420912\n",
      "Data columns (total 13 columns):\n",
      " #   Column           Dtype              \n",
      "---  ------           -----              \n",
      " 0   id               Int64              \n",
      " 1   user_id          Int64              \n",
      " 2   sequence_number  Int64              \n",
      " 3   session_id       object             \n",
      " 4   created_at       datetime64[us, UTC]\n",
      " 5   ip_address       object             \n",
      " 6   city             object             \n",
      " 7   state            object             \n",
      " 8   postal_code      object             \n",
      " 9   browser          object             \n",
      " 10  traffic_source   object             \n",
      " 11  uri              object             \n",
      " 12  event_type       object             \n",
      "dtypes: Int64(3), datetime64[us, UTC](1), object(9)\n",
      "memory usage: 247.0+ MB\n"
     ]
    }
   ],
   "source": [
    "#check data types\n",
    "events_df.info()"
   ]
  },
  {
   "cell_type": "code",
   "execution_count": 25,
   "id": "d33bb8ba-5415-46f4-84fa-424f5b90029d",
   "metadata": {},
   "outputs": [
    {
     "data": {
      "text/plain": [
       "id                       0\n",
       "user_id            1125011\n",
       "sequence_number          0\n",
       "session_id               0\n",
       "created_at               0\n",
       "ip_address               0\n",
       "city                     0\n",
       "state                    0\n",
       "postal_code              0\n",
       "browser                  0\n",
       "traffic_source           0\n",
       "uri                      0\n",
       "event_type               0\n",
       "dtype: int64"
      ]
     },
     "execution_count": 25,
     "metadata": {},
     "output_type": "execute_result"
    }
   ],
   "source": [
    "#check for null values\n",
    "\n",
    "events_df.isnull().sum()"
   ]
  },
  {
   "cell_type": "code",
   "execution_count": 26,
   "id": "607fb384-7e5c-4756-9d3c-376d4499e499",
   "metadata": {},
   "outputs": [
    {
     "data": {
      "text/plain": [
       "event_type\n",
       "product       0.444440\n",
       "cart          0.222456\n",
       "department    0.222009\n",
       "cancel        0.111094\n",
       "Name: proportion, dtype: float64"
      ]
     },
     "execution_count": 26,
     "metadata": {},
     "output_type": "execute_result"
    }
   ],
   "source": [
    "# For user who are not logged in, what kind of events did they generate and how often \n",
    "\n",
    "events_df[events_df['user_id'].isnull()]['event_type'].value_counts(normalize = True)"
   ]
  },
  {
   "cell_type": "code",
   "execution_count": 27,
   "id": "61855ffa-fe13-4987-bdfd-084e2805009b",
   "metadata": {},
   "outputs": [
    {
     "data": {
      "text/plain": [
       "array(['cancel', 'cart', 'department', 'home', 'product', 'purchase'],\n",
       "      dtype=object)"
      ]
     },
     "execution_count": 27,
     "metadata": {},
     "output_type": "execute_result"
    }
   ],
   "source": [
    "events_df['event_type'].unique()"
   ]
  },
  {
   "cell_type": "markdown",
   "id": "eb74b2b0-6d4b-49c6-81e7-ae0fea0dda42",
   "metadata": {},
   "source": [
    "**events_df breakdown**\n",
    "  \n",
    "The event table likely captures website /app user behaviour such as clicks, page visists and cancellations. user_id has 1125736 null values which could be customers who visited as guests, or people who simply did not sign in. \n",
    "\n",
    "Each website visitor, either signed in or not performs certain actions which are 'cancel', 'cart', 'department', 'home', 'product', 'purchase'\"\n",
    "\n",
    "**Why event type is important**\n",
    "\n",
    "These event types are valuable for:\n",
    "\n",
    "- Funnel analysis (home → department → product → cart → purchase)\n",
    "\n",
    "- Drop-off analysis (e.g., many reach cart but few purchase)\n",
    "\n",
    "- Engagement segmentation (users who only browse vs. those who purchase)\n",
    "\n",
    "- Personalization and recommendation logic"
   ]
  },
  {
   "cell_type": "markdown",
   "id": "f6919e2c-97e1-4095-b3f4-a1ebae89e4cf",
   "metadata": {},
   "source": [
    "**inventoryitems_df**"
   ]
  },
  {
   "cell_type": "code",
   "execution_count": 28,
   "id": "b6a436c3-5bfa-4307-b375-645c690d04f8",
   "metadata": {},
   "outputs": [
    {
     "data": {
      "text/plain": [
       "(487931, 12)"
      ]
     },
     "execution_count": 28,
     "metadata": {},
     "output_type": "execute_result"
    }
   ],
   "source": [
    "# number of columns and rows\n",
    "inventoryitems_df.shape"
   ]
  },
  {
   "cell_type": "code",
   "execution_count": 29,
   "id": "3b45ed65-d453-4101-8ef1-3c570f94828d",
   "metadata": {},
   "outputs": [
    {
     "name": "stdout",
     "output_type": "stream",
     "text": [
      "<class 'pandas.core.frame.DataFrame'>\n",
      "RangeIndex: 487931 entries, 0 to 487930\n",
      "Data columns (total 12 columns):\n",
      " #   Column                          Non-Null Count   Dtype              \n",
      "---  ------                          --------------   -----              \n",
      " 0   id                              487931 non-null  Int64              \n",
      " 1   product_id                      487931 non-null  Int64              \n",
      " 2   created_at                      487931 non-null  datetime64[us, UTC]\n",
      " 3   sold_at                         180875 non-null  datetime64[us, UTC]\n",
      " 4   cost                            487931 non-null  float64            \n",
      " 5   product_category                487931 non-null  object             \n",
      " 6   product_name                    487931 non-null  object             \n",
      " 7   product_brand                   487931 non-null  object             \n",
      " 8   product_retail_price            487931 non-null  float64            \n",
      " 9   product_department              487931 non-null  object             \n",
      " 10  product_sku                     487931 non-null  object             \n",
      " 11  product_distribution_center_id  487931 non-null  Int64              \n",
      "dtypes: Int64(3), datetime64[us, UTC](2), float64(2), object(5)\n",
      "memory usage: 46.1+ MB\n"
     ]
    }
   ],
   "source": [
    "# check data type\n",
    "inventoryitems_df.info()"
   ]
  },
  {
   "cell_type": "code",
   "execution_count": 30,
   "id": "19f3e570-7cc4-43f6-9b64-fd050c775c0b",
   "metadata": {},
   "outputs": [
    {
     "data": {
      "text/plain": [
       "id                                     0\n",
       "product_id                             0\n",
       "created_at                             0\n",
       "sold_at                           307056\n",
       "cost                                   0\n",
       "product_category                       0\n",
       "product_name                           0\n",
       "product_brand                          0\n",
       "product_retail_price                   0\n",
       "product_department                     0\n",
       "product_sku                            0\n",
       "product_distribution_center_id         0\n",
       "dtype: int64"
      ]
     },
     "execution_count": 30,
     "metadata": {},
     "output_type": "execute_result"
    }
   ],
   "source": [
    "# checking null value\n",
    "\n",
    "inventoryitems_df.isnull().sum()"
   ]
  },
  {
   "cell_type": "code",
   "execution_count": 31,
   "id": "760ed9bc-895d-4798-8e74-fa5673c037a0",
   "metadata": {},
   "outputs": [
    {
     "data": {
      "text/html": [
       "<div>\n",
       "<style scoped>\n",
       "    .dataframe tbody tr th:only-of-type {\n",
       "        vertical-align: middle;\n",
       "    }\n",
       "\n",
       "    .dataframe tbody tr th {\n",
       "        vertical-align: top;\n",
       "    }\n",
       "\n",
       "    .dataframe thead th {\n",
       "        text-align: right;\n",
       "    }\n",
       "</style>\n",
       "<table border=\"1\" class=\"dataframe\">\n",
       "  <thead>\n",
       "    <tr style=\"text-align: right;\">\n",
       "      <th></th>\n",
       "      <th>id</th>\n",
       "      <th>product_id</th>\n",
       "      <th>created_at</th>\n",
       "      <th>sold_at</th>\n",
       "      <th>cost</th>\n",
       "      <th>product_category</th>\n",
       "      <th>product_name</th>\n",
       "      <th>product_brand</th>\n",
       "      <th>product_retail_price</th>\n",
       "      <th>product_department</th>\n",
       "      <th>product_sku</th>\n",
       "      <th>product_distribution_center_id</th>\n",
       "    </tr>\n",
       "  </thead>\n",
       "  <tbody>\n",
       "    <tr>\n",
       "      <th>0</th>\n",
       "      <td>46517</td>\n",
       "      <td>13844</td>\n",
       "      <td>2025-05-09 16:11:16+00:00</td>\n",
       "      <td>2025-06-06 13:17:16+00:00</td>\n",
       "      <td>2.76804</td>\n",
       "      <td>Accessories</td>\n",
       "      <td>(ONE) 1 Satin Headband</td>\n",
       "      <td>Funny Girl Designs</td>\n",
       "      <td>6.99</td>\n",
       "      <td>Women</td>\n",
       "      <td>2A3E953A5E3D81E67945BCE5519F84C8</td>\n",
       "      <td>7</td>\n",
       "    </tr>\n",
       "    <tr>\n",
       "      <th>1</th>\n",
       "      <td>46518</td>\n",
       "      <td>13844</td>\n",
       "      <td>2024-12-12 13:54:00+00:00</td>\n",
       "      <td>NaT</td>\n",
       "      <td>2.76804</td>\n",
       "      <td>Accessories</td>\n",
       "      <td>(ONE) 1 Satin Headband</td>\n",
       "      <td>Funny Girl Designs</td>\n",
       "      <td>6.99</td>\n",
       "      <td>Women</td>\n",
       "      <td>2A3E953A5E3D81E67945BCE5519F84C8</td>\n",
       "      <td>7</td>\n",
       "    </tr>\n",
       "    <tr>\n",
       "      <th>2</th>\n",
       "      <td>82719</td>\n",
       "      <td>13844</td>\n",
       "      <td>2021-09-20 12:04:50+00:00</td>\n",
       "      <td>2021-11-16 16:01:50+00:00</td>\n",
       "      <td>2.76804</td>\n",
       "      <td>Accessories</td>\n",
       "      <td>(ONE) 1 Satin Headband</td>\n",
       "      <td>Funny Girl Designs</td>\n",
       "      <td>6.99</td>\n",
       "      <td>Women</td>\n",
       "      <td>2A3E953A5E3D81E67945BCE5519F84C8</td>\n",
       "      <td>7</td>\n",
       "    </tr>\n",
       "    <tr>\n",
       "      <th>3</th>\n",
       "      <td>82720</td>\n",
       "      <td>13844</td>\n",
       "      <td>2021-04-06 08:26:00+00:00</td>\n",
       "      <td>NaT</td>\n",
       "      <td>2.76804</td>\n",
       "      <td>Accessories</td>\n",
       "      <td>(ONE) 1 Satin Headband</td>\n",
       "      <td>Funny Girl Designs</td>\n",
       "      <td>6.99</td>\n",
       "      <td>Women</td>\n",
       "      <td>2A3E953A5E3D81E67945BCE5519F84C8</td>\n",
       "      <td>7</td>\n",
       "    </tr>\n",
       "    <tr>\n",
       "      <th>4</th>\n",
       "      <td>352717</td>\n",
       "      <td>13844</td>\n",
       "      <td>2025-06-02 17:08:22+00:00</td>\n",
       "      <td>2025-06-14 08:22:22+00:00</td>\n",
       "      <td>2.76804</td>\n",
       "      <td>Accessories</td>\n",
       "      <td>(ONE) 1 Satin Headband</td>\n",
       "      <td>Funny Girl Designs</td>\n",
       "      <td>6.99</td>\n",
       "      <td>Women</td>\n",
       "      <td>2A3E953A5E3D81E67945BCE5519F84C8</td>\n",
       "      <td>7</td>\n",
       "    </tr>\n",
       "  </tbody>\n",
       "</table>\n",
       "</div>"
      ],
      "text/plain": [
       "       id  product_id                created_at                   sold_at  \\\n",
       "0   46517       13844 2025-05-09 16:11:16+00:00 2025-06-06 13:17:16+00:00   \n",
       "1   46518       13844 2024-12-12 13:54:00+00:00                       NaT   \n",
       "2   82719       13844 2021-09-20 12:04:50+00:00 2021-11-16 16:01:50+00:00   \n",
       "3   82720       13844 2021-04-06 08:26:00+00:00                       NaT   \n",
       "4  352717       13844 2025-06-02 17:08:22+00:00 2025-06-14 08:22:22+00:00   \n",
       "\n",
       "      cost product_category            product_name       product_brand  \\\n",
       "0  2.76804      Accessories  (ONE) 1 Satin Headband  Funny Girl Designs   \n",
       "1  2.76804      Accessories  (ONE) 1 Satin Headband  Funny Girl Designs   \n",
       "2  2.76804      Accessories  (ONE) 1 Satin Headband  Funny Girl Designs   \n",
       "3  2.76804      Accessories  (ONE) 1 Satin Headband  Funny Girl Designs   \n",
       "4  2.76804      Accessories  (ONE) 1 Satin Headband  Funny Girl Designs   \n",
       "\n",
       "   product_retail_price product_department                       product_sku  \\\n",
       "0                  6.99              Women  2A3E953A5E3D81E67945BCE5519F84C8   \n",
       "1                  6.99              Women  2A3E953A5E3D81E67945BCE5519F84C8   \n",
       "2                  6.99              Women  2A3E953A5E3D81E67945BCE5519F84C8   \n",
       "3                  6.99              Women  2A3E953A5E3D81E67945BCE5519F84C8   \n",
       "4                  6.99              Women  2A3E953A5E3D81E67945BCE5519F84C8   \n",
       "\n",
       "   product_distribution_center_id  \n",
       "0                               7  \n",
       "1                               7  \n",
       "2                               7  \n",
       "3                               7  \n",
       "4                               7  "
      ]
     },
     "execution_count": 31,
     "metadata": {},
     "output_type": "execute_result"
    }
   ],
   "source": [
    "inventoryitems_df.head()"
   ]
  },
  {
   "cell_type": "markdown",
   "id": "87c7873f-01bf-4e8a-af0c-509ccbc71a68",
   "metadata": {},
   "source": [
    "**inventoryitems_df null values**\n",
    "\n",
    "All features has 0 null values excpet sold_at with 307760 null values, this shows items that haven't been sold"
   ]
  },
  {
   "cell_type": "markdown",
   "id": "1331e34e-f34c-4d03-91f0-305caf039c53",
   "metadata": {},
   "source": [
    "**orderitems_df**"
   ]
  },
  {
   "cell_type": "code",
   "execution_count": 32,
   "id": "ad62fbaa-a4e0-4326-9ea7-170eac501991",
   "metadata": {},
   "outputs": [
    {
     "data": {
      "text/plain": [
       "(180875, 11)"
      ]
     },
     "execution_count": 32,
     "metadata": {},
     "output_type": "execute_result"
    }
   ],
   "source": [
    "# numbert of columns and rows\n",
    "orderitems_df.shape"
   ]
  },
  {
   "cell_type": "code",
   "execution_count": 33,
   "id": "0a3d7a2a-cfc6-44c2-adb5-3a9dc7c4d218",
   "metadata": {},
   "outputs": [
    {
     "data": {
      "text/plain": [
       "id                        0\n",
       "order_id                  0\n",
       "user_id                   0\n",
       "product_id                0\n",
       "inventory_item_id         0\n",
       "status                    0\n",
       "created_at                0\n",
       "shipped_at            63094\n",
       "delivered_at         117117\n",
       "returned_at          162559\n",
       "sale_price                0\n",
       "dtype: int64"
      ]
     },
     "execution_count": 33,
     "metadata": {},
     "output_type": "execute_result"
    }
   ],
   "source": [
    "# null values\n",
    "orderitems_df.isnull().sum()"
   ]
  },
  {
   "cell_type": "code",
   "execution_count": 34,
   "id": "bf91fdbc-7ad5-4527-a99e-c7613b09d7c8",
   "metadata": {},
   "outputs": [
    {
     "name": "stdout",
     "output_type": "stream",
     "text": [
      "<class 'pandas.core.frame.DataFrame'>\n",
      "RangeIndex: 180875 entries, 0 to 180874\n",
      "Data columns (total 11 columns):\n",
      " #   Column             Non-Null Count   Dtype              \n",
      "---  ------             --------------   -----              \n",
      " 0   id                 180875 non-null  Int64              \n",
      " 1   order_id           180875 non-null  Int64              \n",
      " 2   user_id            180875 non-null  Int64              \n",
      " 3   product_id         180875 non-null  Int64              \n",
      " 4   inventory_item_id  180875 non-null  Int64              \n",
      " 5   status             180875 non-null  object             \n",
      " 6   created_at         180875 non-null  datetime64[us, UTC]\n",
      " 7   shipped_at         117781 non-null  datetime64[us, UTC]\n",
      " 8   delivered_at       63758 non-null   datetime64[us, UTC]\n",
      " 9   returned_at        18316 non-null   datetime64[us, UTC]\n",
      " 10  sale_price         180875 non-null  float64            \n",
      "dtypes: Int64(5), datetime64[us, UTC](4), float64(1), object(1)\n",
      "memory usage: 16.0+ MB\n"
     ]
    }
   ],
   "source": [
    "orderitems_df.info()"
   ]
  },
  {
   "cell_type": "markdown",
   "id": "bd8a3607-ff14-4f15-afc1-53a996cd36e6",
   "metadata": {},
   "source": [
    "**orderitems_df null values**\n",
    "\n",
    "63,457 orders have not been shipped yet or could indicate cancelled orders . 117650 indicates orders that were never delivered and 162843 shows the number of items that were never delivered. "
   ]
  },
  {
   "cell_type": "markdown",
   "id": "4a7a0e61-994d-41a8-9bf3-8812aa278e54",
   "metadata": {},
   "source": [
    "**products_df**"
   ]
  },
  {
   "cell_type": "code",
   "execution_count": 35,
   "id": "68566306-57aa-4f32-a3a2-f830d723761e",
   "metadata": {},
   "outputs": [
    {
     "data": {
      "text/plain": [
       "(29120, 9)"
      ]
     },
     "execution_count": 35,
     "metadata": {},
     "output_type": "execute_result"
    }
   ],
   "source": [
    "# number of rows and columns\n",
    "products_df.shape\n"
   ]
  },
  {
   "cell_type": "code",
   "execution_count": 36,
   "id": "3e0a3925-40f9-420f-8e5e-98a38ae9c680",
   "metadata": {},
   "outputs": [
    {
     "name": "stdout",
     "output_type": "stream",
     "text": [
      "<class 'pandas.core.frame.DataFrame'>\n",
      "RangeIndex: 29120 entries, 0 to 29119\n",
      "Data columns (total 9 columns):\n",
      " #   Column                  Non-Null Count  Dtype  \n",
      "---  ------                  --------------  -----  \n",
      " 0   id                      29120 non-null  Int64  \n",
      " 1   cost                    29120 non-null  float64\n",
      " 2   category                29120 non-null  object \n",
      " 3   name                    29118 non-null  object \n",
      " 4   brand                   29096 non-null  object \n",
      " 5   retail_price            29120 non-null  float64\n",
      " 6   department              29120 non-null  object \n",
      " 7   sku                     29120 non-null  object \n",
      " 8   distribution_center_id  29120 non-null  Int64  \n",
      "dtypes: Int64(2), float64(2), object(5)\n",
      "memory usage: 2.1+ MB\n"
     ]
    }
   ],
   "source": [
    "products_df.info()"
   ]
  },
  {
   "cell_type": "code",
   "execution_count": 37,
   "id": "32e9bc42-c5f9-41a8-837c-7da18c6ff652",
   "metadata": {},
   "outputs": [
    {
     "data": {
      "text/plain": [
       "id                         0\n",
       "cost                       0\n",
       "category                   0\n",
       "name                       2\n",
       "brand                     24\n",
       "retail_price               0\n",
       "department                 0\n",
       "sku                        0\n",
       "distribution_center_id     0\n",
       "dtype: int64"
      ]
     },
     "execution_count": 37,
     "metadata": {},
     "output_type": "execute_result"
    }
   ],
   "source": [
    "# check null value\n",
    "\n",
    "products_df.isnull().sum()"
   ]
  },
  {
   "cell_type": "code",
   "execution_count": 38,
   "id": "b089b0f0-5cec-478d-b7b0-61be73ae3a22",
   "metadata": {},
   "outputs": [],
   "source": [
    "# replace null brand values with unknown\n",
    "\n",
    "products_df['brand'] = products_df['brand'].fillna('unknown')"
   ]
  },
  {
   "cell_type": "code",
   "execution_count": 39,
   "id": "b357889d-4ec9-4f0d-aae7-17d8731bb644",
   "metadata": {},
   "outputs": [
    {
     "data": {
      "text/html": [
       "<div>\n",
       "<style scoped>\n",
       "    .dataframe tbody tr th:only-of-type {\n",
       "        vertical-align: middle;\n",
       "    }\n",
       "\n",
       "    .dataframe tbody tr th {\n",
       "        vertical-align: top;\n",
       "    }\n",
       "\n",
       "    .dataframe thead th {\n",
       "        text-align: right;\n",
       "    }\n",
       "</style>\n",
       "<table border=\"1\" class=\"dataframe\">\n",
       "  <thead>\n",
       "    <tr style=\"text-align: right;\">\n",
       "      <th></th>\n",
       "      <th>id</th>\n",
       "      <th>cost</th>\n",
       "      <th>category</th>\n",
       "      <th>name</th>\n",
       "      <th>brand</th>\n",
       "      <th>retail_price</th>\n",
       "      <th>department</th>\n",
       "      <th>sku</th>\n",
       "      <th>distribution_center_id</th>\n",
       "    </tr>\n",
       "  </thead>\n",
       "  <tbody>\n",
       "    <tr>\n",
       "      <th>3247</th>\n",
       "      <td>12586</td>\n",
       "      <td>18.972000</td>\n",
       "      <td>Intimates</td>\n",
       "      <td>None</td>\n",
       "      <td>Josie by Natori</td>\n",
       "      <td>36.000000</td>\n",
       "      <td>Women</td>\n",
       "      <td>A7EA034186E14FB5F7B37CF664893CD2</td>\n",
       "      <td>1</td>\n",
       "    </tr>\n",
       "    <tr>\n",
       "      <th>5588</th>\n",
       "      <td>24455</td>\n",
       "      <td>67.335453</td>\n",
       "      <td>Outerwear &amp; Coats</td>\n",
       "      <td>None</td>\n",
       "      <td>Tru-Spec</td>\n",
       "      <td>147.990005</td>\n",
       "      <td>Men</td>\n",
       "      <td>B290A635641F585B3DD6B95FD42DC267</td>\n",
       "      <td>2</td>\n",
       "    </tr>\n",
       "  </tbody>\n",
       "</table>\n",
       "</div>"
      ],
      "text/plain": [
       "         id       cost           category  name            brand  \\\n",
       "3247  12586  18.972000          Intimates  None  Josie by Natori   \n",
       "5588  24455  67.335453  Outerwear & Coats  None         Tru-Spec   \n",
       "\n",
       "      retail_price department                               sku  \\\n",
       "3247     36.000000      Women  A7EA034186E14FB5F7B37CF664893CD2   \n",
       "5588    147.990005        Men  B290A635641F585B3DD6B95FD42DC267   \n",
       "\n",
       "      distribution_center_id  \n",
       "3247                       1  \n",
       "5588                       2  "
      ]
     },
     "execution_count": 39,
     "metadata": {},
     "output_type": "execute_result"
    }
   ],
   "source": [
    "# products without name\n",
    "\n",
    "products_df[products_df['name'].isnull()]"
   ]
  },
  {
   "cell_type": "code",
   "execution_count": 40,
   "id": "4893f080-c195-4c3c-96ca-fb0675f4e9cd",
   "metadata": {},
   "outputs": [],
   "source": [
    "# drop null values in name\n",
    "\n",
    "products_df = products_df.dropna(subset = ['name'])"
   ]
  },
  {
   "cell_type": "markdown",
   "id": "b0007108-aa0d-49bd-9a6b-e4cded55a44c",
   "metadata": {},
   "source": [
    "**users_df**"
   ]
  },
  {
   "cell_type": "code",
   "execution_count": 41,
   "id": "50a25ae9-9729-44c4-8970-3001ab70c610",
   "metadata": {},
   "outputs": [
    {
     "data": {
      "text/plain": [
       "(100000, 16)"
      ]
     },
     "execution_count": 41,
     "metadata": {},
     "output_type": "execute_result"
    }
   ],
   "source": [
    "# for number of rows and columns\n",
    "users_df.shape"
   ]
  },
  {
   "cell_type": "code",
   "execution_count": 42,
   "id": "760cdfaf-ac7c-4e45-b6d8-26d3a15d3d36",
   "metadata": {},
   "outputs": [
    {
     "name": "stdout",
     "output_type": "stream",
     "text": [
      "<class 'pandas.core.frame.DataFrame'>\n",
      "RangeIndex: 100000 entries, 0 to 99999\n",
      "Data columns (total 16 columns):\n",
      " #   Column          Non-Null Count   Dtype              \n",
      "---  ------          --------------   -----              \n",
      " 0   id              100000 non-null  Int64              \n",
      " 1   first_name      100000 non-null  object             \n",
      " 2   last_name       100000 non-null  object             \n",
      " 3   email           100000 non-null  object             \n",
      " 4   age             100000 non-null  Int64              \n",
      " 5   gender          100000 non-null  object             \n",
      " 6   state           100000 non-null  object             \n",
      " 7   street_address  100000 non-null  object             \n",
      " 8   postal_code     100000 non-null  object             \n",
      " 9   city            100000 non-null  object             \n",
      " 10  country         100000 non-null  object             \n",
      " 11  latitude        100000 non-null  float64            \n",
      " 12  longitude       100000 non-null  float64            \n",
      " 13  traffic_source  100000 non-null  object             \n",
      " 14  created_at      100000 non-null  datetime64[us, UTC]\n",
      " 15  user_geom       100000 non-null  object             \n",
      "dtypes: Int64(2), datetime64[us, UTC](1), float64(2), object(11)\n",
      "memory usage: 12.4+ MB\n"
     ]
    }
   ],
   "source": [
    "users_df.info()"
   ]
  },
  {
   "cell_type": "code",
   "execution_count": 43,
   "id": "63657061-1f20-480b-8e64-7ac4cdd5b384",
   "metadata": {},
   "outputs": [
    {
     "data": {
      "text/plain": [
       "id                0\n",
       "first_name        0\n",
       "last_name         0\n",
       "email             0\n",
       "age               0\n",
       "gender            0\n",
       "state             0\n",
       "street_address    0\n",
       "postal_code       0\n",
       "city              0\n",
       "country           0\n",
       "latitude          0\n",
       "longitude         0\n",
       "traffic_source    0\n",
       "created_at        0\n",
       "user_geom         0\n",
       "dtype: int64"
      ]
     },
     "execution_count": 43,
     "metadata": {},
     "output_type": "execute_result"
    }
   ],
   "source": [
    "# Null values\n",
    "\n",
    "users_df.isnull().sum()"
   ]
  },
  {
   "cell_type": "markdown",
   "id": "7fe8c72c-835a-4fd4-8016-690afa155632",
   "metadata": {},
   "source": [
    "## Creating a Mastersheet "
   ]
  },
  {
   "cell_type": "markdown",
   "id": "502d30ec-423c-44f4-a354-b4d03d4cfaa6",
   "metadata": {},
   "source": [
    "**join order_df and users_df on user_id**"
   ]
  },
  {
   "cell_type": "code",
   "execution_count": 44,
   "id": "25ba49d4-fb8b-40c4-808d-33f825cc52a9",
   "metadata": {},
   "outputs": [
    {
     "name": "stdout",
     "output_type": "stream",
     "text": [
      "order_df columns : Index(['order_id', 'user_id', 'status', 'gender', 'created_at', 'returned_at',\n",
      "       'shipped_at', 'delivered_at', 'num_of_item'],\n",
      "      dtype='object')\n",
      "users_df columns : Index(['id', 'first_name', 'last_name', 'email', 'age', 'gender', 'state',\n",
      "       'street_address', 'postal_code', 'city', 'country', 'latitude',\n",
      "       'longitude', 'traffic_source', 'created_at', 'user_geom'],\n",
      "      dtype='object')\n"
     ]
    }
   ],
   "source": [
    "#check the columns in each table and drop duplicates before merging\n",
    "print(f'order_df columns : {orders_df.columns}')\n",
    "\n",
    "\n",
    "print(f'users_df columns : {users_df.columns}')"
   ]
  },
  {
   "cell_type": "code",
   "execution_count": 45,
   "id": "c48fac79-304f-4f55-95d1-1c3ad7529b4c",
   "metadata": {},
   "outputs": [],
   "source": [
    "# a function to identify duplicates columns \n",
    "\n",
    "def duplicates(x, y):\n",
    "    ''' These function check the columns in \n",
    "    two tables and identify over lapping columns\n",
    "    '''\n",
    "    return [c for c in x.columns if c in y.columns]"
   ]
  },
  {
   "cell_type": "code",
   "execution_count": 46,
   "id": "f5bf8bfa-ee48-4593-adfe-22d15e858707",
   "metadata": {},
   "outputs": [
    {
     "data": {
      "text/plain": [
       "['gender', 'created_at']"
      ]
     },
     "execution_count": 46,
     "metadata": {},
     "output_type": "execute_result"
    }
   ],
   "source": [
    "# check the columns in users_df and orders_df \n",
    "\n",
    "duplicates(orders_df, users_df)"
   ]
  },
  {
   "cell_type": "markdown",
   "id": "6dbbb174-bc3c-4795-b490-cf03ad6619f9",
   "metadata": {},
   "source": [
    "#### Over lapping columns.\n",
    "\n",
    "'gender', 'created_at' are both in orders_df and users_df tables. The gender column will be dropped from the order_df table.   The created_at will be renamed for both columns. users_df['created_at'] indicates the account creation date while orders_df['created_at] indicates order creation date. \n",
    "Both columns serves different purposes.  \n",
    "\n",
    "`users_df['created_at']` will be renamed as `user_created_at`\n",
    "`orders['created_at']` will be renamed as `order_created_at`"
   ]
  },
  {
   "cell_type": "code",
   "execution_count": 47,
   "id": "0f7ae0c5-51e0-4791-863e-4715a806ede8",
   "metadata": {},
   "outputs": [],
   "source": [
    "# drop gender column\n",
    "\n",
    "orders_df = orders_df.drop(columns = 'gender')"
   ]
  },
  {
   "cell_type": "code",
   "execution_count": 48,
   "id": "a2c23be1-fd0c-4536-b293-5733f87b83ad",
   "metadata": {},
   "outputs": [],
   "source": [
    "# rename created_at columns\n",
    "orders_df = orders_df.rename(columns = {'created_at': 'order_created_at'})\n",
    "users_df = users_df.rename(columns = {'created_at': 'user_created_at'})"
   ]
  },
  {
   "cell_type": "code",
   "execution_count": 49,
   "id": "180b5ded-fb9c-48f0-a909-49e2ffb254e2",
   "metadata": {},
   "outputs": [
    {
     "data": {
      "text/html": [
       "<div>\n",
       "<style scoped>\n",
       "    .dataframe tbody tr th:only-of-type {\n",
       "        vertical-align: middle;\n",
       "    }\n",
       "\n",
       "    .dataframe tbody tr th {\n",
       "        vertical-align: top;\n",
       "    }\n",
       "\n",
       "    .dataframe thead th {\n",
       "        text-align: right;\n",
       "    }\n",
       "</style>\n",
       "<table border=\"1\" class=\"dataframe\">\n",
       "  <thead>\n",
       "    <tr style=\"text-align: right;\">\n",
       "      <th></th>\n",
       "      <th>order_id</th>\n",
       "      <th>user_id</th>\n",
       "      <th>status</th>\n",
       "      <th>order_created_at</th>\n",
       "      <th>returned_at</th>\n",
       "      <th>shipped_at</th>\n",
       "      <th>delivered_at</th>\n",
       "      <th>num_of_item</th>\n",
       "      <th>id</th>\n",
       "      <th>first_name</th>\n",
       "      <th>...</th>\n",
       "      <th>state</th>\n",
       "      <th>street_address</th>\n",
       "      <th>postal_code</th>\n",
       "      <th>city</th>\n",
       "      <th>country</th>\n",
       "      <th>latitude</th>\n",
       "      <th>longitude</th>\n",
       "      <th>traffic_source</th>\n",
       "      <th>user_created_at</th>\n",
       "      <th>user_geom</th>\n",
       "    </tr>\n",
       "  </thead>\n",
       "  <tbody>\n",
       "    <tr>\n",
       "      <th>0</th>\n",
       "      <td>21</td>\n",
       "      <td>15</td>\n",
       "      <td>Cancelled</td>\n",
       "      <td>2025-05-27 02:03:00+00:00</td>\n",
       "      <td>NaT</td>\n",
       "      <td>NaT</td>\n",
       "      <td>NaT</td>\n",
       "      <td>2</td>\n",
       "      <td>15</td>\n",
       "      <td>Alyssa</td>\n",
       "      <td>...</td>\n",
       "      <td>Alagoas</td>\n",
       "      <td>074 Young Trail Suite 988</td>\n",
       "      <td>57071</td>\n",
       "      <td>Maceió</td>\n",
       "      <td>Brasil</td>\n",
       "      <td>-9.569816</td>\n",
       "      <td>-35.784162</td>\n",
       "      <td>Search</td>\n",
       "      <td>2025-05-24 02:03:00+00:00</td>\n",
       "      <td>POINT(-35.78416192 -9.569816148)</td>\n",
       "    </tr>\n",
       "    <tr>\n",
       "      <th>1</th>\n",
       "      <td>30</td>\n",
       "      <td>22</td>\n",
       "      <td>Cancelled</td>\n",
       "      <td>2025-06-20 10:39:00+00:00</td>\n",
       "      <td>NaT</td>\n",
       "      <td>NaT</td>\n",
       "      <td>NaT</td>\n",
       "      <td>1</td>\n",
       "      <td>22</td>\n",
       "      <td>Deborah</td>\n",
       "      <td>...</td>\n",
       "      <td>Illinois</td>\n",
       "      <td>02418 Hall Center</td>\n",
       "      <td>60706</td>\n",
       "      <td>Norridge</td>\n",
       "      <td>United States</td>\n",
       "      <td>41.966508</td>\n",
       "      <td>-87.824732</td>\n",
       "      <td>Search</td>\n",
       "      <td>2024-01-04 10:39:00+00:00</td>\n",
       "      <td>POINT(-87.82473212 41.96650783)</td>\n",
       "    </tr>\n",
       "    <tr>\n",
       "      <th>2</th>\n",
       "      <td>40</td>\n",
       "      <td>26</td>\n",
       "      <td>Cancelled</td>\n",
       "      <td>2021-04-28 13:41:00+00:00</td>\n",
       "      <td>NaT</td>\n",
       "      <td>NaT</td>\n",
       "      <td>NaT</td>\n",
       "      <td>2</td>\n",
       "      <td>26</td>\n",
       "      <td>Elizabeth</td>\n",
       "      <td>...</td>\n",
       "      <td>Seoul</td>\n",
       "      <td>57016 Camacho Ports</td>\n",
       "      <td>139-052</td>\n",
       "      <td>Seoul</td>\n",
       "      <td>South Korea</td>\n",
       "      <td>37.633870</td>\n",
       "      <td>127.051221</td>\n",
       "      <td>Search</td>\n",
       "      <td>2019-06-18 13:41:00+00:00</td>\n",
       "      <td>POINT(127.0512208 37.63386992)</td>\n",
       "    </tr>\n",
       "    <tr>\n",
       "      <th>3</th>\n",
       "      <td>45</td>\n",
       "      <td>29</td>\n",
       "      <td>Cancelled</td>\n",
       "      <td>2023-06-08 03:09:00+00:00</td>\n",
       "      <td>NaT</td>\n",
       "      <td>NaT</td>\n",
       "      <td>NaT</td>\n",
       "      <td>1</td>\n",
       "      <td>29</td>\n",
       "      <td>Susan</td>\n",
       "      <td>...</td>\n",
       "      <td>Gyeonggi-do</td>\n",
       "      <td>4713 Pacheco Pines</td>\n",
       "      <td>415-840</td>\n",
       "      <td>Gimpo City</td>\n",
       "      <td>South Korea</td>\n",
       "      <td>37.639496</td>\n",
       "      <td>126.623210</td>\n",
       "      <td>Organic</td>\n",
       "      <td>2020-09-26 03:09:00+00:00</td>\n",
       "      <td>POINT(126.6232097 37.63949565)</td>\n",
       "    </tr>\n",
       "    <tr>\n",
       "      <th>4</th>\n",
       "      <td>63</td>\n",
       "      <td>41</td>\n",
       "      <td>Cancelled</td>\n",
       "      <td>2025-08-27 07:25:00+00:00</td>\n",
       "      <td>NaT</td>\n",
       "      <td>NaT</td>\n",
       "      <td>NaT</td>\n",
       "      <td>1</td>\n",
       "      <td>41</td>\n",
       "      <td>Rhonda</td>\n",
       "      <td>...</td>\n",
       "      <td>Hunan</td>\n",
       "      <td>191 Julie Course</td>\n",
       "      <td>416000</td>\n",
       "      <td>Suzhou</td>\n",
       "      <td>China</td>\n",
       "      <td>28.372361</td>\n",
       "      <td>109.715307</td>\n",
       "      <td>Search</td>\n",
       "      <td>2025-06-06 07:25:00+00:00</td>\n",
       "      <td>POINT(109.7153074 28.37236111)</td>\n",
       "    </tr>\n",
       "  </tbody>\n",
       "</table>\n",
       "<p>5 rows × 24 columns</p>\n",
       "</div>"
      ],
      "text/plain": [
       "   order_id  user_id     status          order_created_at returned_at  \\\n",
       "0        21       15  Cancelled 2025-05-27 02:03:00+00:00         NaT   \n",
       "1        30       22  Cancelled 2025-06-20 10:39:00+00:00         NaT   \n",
       "2        40       26  Cancelled 2021-04-28 13:41:00+00:00         NaT   \n",
       "3        45       29  Cancelled 2023-06-08 03:09:00+00:00         NaT   \n",
       "4        63       41  Cancelled 2025-08-27 07:25:00+00:00         NaT   \n",
       "\n",
       "  shipped_at delivered_at  num_of_item  id first_name  ...        state  \\\n",
       "0        NaT          NaT            2  15     Alyssa  ...      Alagoas   \n",
       "1        NaT          NaT            1  22    Deborah  ...     Illinois   \n",
       "2        NaT          NaT            2  26  Elizabeth  ...        Seoul   \n",
       "3        NaT          NaT            1  29      Susan  ...  Gyeonggi-do   \n",
       "4        NaT          NaT            1  41     Rhonda  ...        Hunan   \n",
       "\n",
       "              street_address  postal_code        city        country  \\\n",
       "0  074 Young Trail Suite 988        57071      Maceió         Brasil   \n",
       "1          02418 Hall Center        60706    Norridge  United States   \n",
       "2        57016 Camacho Ports      139-052       Seoul    South Korea   \n",
       "3         4713 Pacheco Pines      415-840  Gimpo City    South Korea   \n",
       "4           191 Julie Course       416000      Suzhou          China   \n",
       "\n",
       "    latitude   longitude traffic_source           user_created_at  \\\n",
       "0  -9.569816  -35.784162         Search 2025-05-24 02:03:00+00:00   \n",
       "1  41.966508  -87.824732         Search 2024-01-04 10:39:00+00:00   \n",
       "2  37.633870  127.051221         Search 2019-06-18 13:41:00+00:00   \n",
       "3  37.639496  126.623210        Organic 2020-09-26 03:09:00+00:00   \n",
       "4  28.372361  109.715307         Search 2025-06-06 07:25:00+00:00   \n",
       "\n",
       "                          user_geom  \n",
       "0  POINT(-35.78416192 -9.569816148)  \n",
       "1   POINT(-87.82473212 41.96650783)  \n",
       "2    POINT(127.0512208 37.63386992)  \n",
       "3    POINT(126.6232097 37.63949565)  \n",
       "4    POINT(109.7153074 28.37236111)  \n",
       "\n",
       "[5 rows x 24 columns]"
      ]
     },
     "execution_count": 49,
     "metadata": {},
     "output_type": "execute_result"
    }
   ],
   "source": [
    "#merge the two tables\n",
    "user_orders = orders_df.merge(users_df, left_on = 'user_id', right_on = 'id', how = 'inner' )\n",
    "user_orders.head()"
   ]
  },
  {
   "cell_type": "code",
   "execution_count": 50,
   "id": "6ec2241a-421a-4dad-b1aa-81070628dfc7",
   "metadata": {},
   "outputs": [],
   "source": [
    "# user_id and id represents the same features... id will be dropped\n",
    "\n",
    "user_orders = user_orders.drop(columns = 'id')"
   ]
  },
  {
   "cell_type": "code",
   "execution_count": 51,
   "id": "caecc623-be91-44f7-a0fc-f0e9a3e3033d",
   "metadata": {},
   "outputs": [],
   "source": [
    "# Write a function to check the quality of merged table \n",
    "\n",
    "def quality(df):\n",
    "    ''' check shape null values and duplicated rows\n",
    "    after merging tabl;es\n",
    "    '''\n",
    "    print('Shape of merged tables :', df.shape)\n",
    "    print( '\\nMissing values : \\n', df.isnull().sum())\n",
    "    print('\\nNumber of Duplicate Rows:', df.duplicated().sum())"
   ]
  },
  {
   "cell_type": "code",
   "execution_count": 52,
   "id": "57dc8694-5b8b-4ee3-99fb-ab1c1db57394",
   "metadata": {},
   "outputs": [
    {
     "name": "stdout",
     "output_type": "stream",
     "text": [
      "Shape of merged tables : (124769, 23)\n",
      "\n",
      "Missing values : \n",
      " order_id                 0\n",
      "user_id                  0\n",
      "status                   0\n",
      "order_created_at         0\n",
      "returned_at         112190\n",
      "shipped_at           43635\n",
      "delivered_at         80901\n",
      "num_of_item              0\n",
      "first_name               0\n",
      "last_name                0\n",
      "email                    0\n",
      "age                      0\n",
      "gender                   0\n",
      "state                    0\n",
      "street_address           0\n",
      "postal_code              0\n",
      "city                     0\n",
      "country                  0\n",
      "latitude                 0\n",
      "longitude                0\n",
      "traffic_source           0\n",
      "user_created_at          0\n",
      "user_geom                0\n",
      "dtype: int64\n",
      "\n",
      "Number of Duplicate Rows: 0\n"
     ]
    }
   ],
   "source": [
    "# check for null, duplicates and shape of user_orders\n",
    "\n",
    "quality(user_orders)"
   ]
  },
  {
   "cell_type": "markdown",
   "id": "6b542120-ec3c-4d50-86fa-7ccbac7842da",
   "metadata": {},
   "source": [
    "#### Merge orderitems_df with user_orders"
   ]
  },
  {
   "cell_type": "code",
   "execution_count": 53,
   "id": "86181cb7-f495-4ef0-a22e-5b7d347f21f7",
   "metadata": {},
   "outputs": [
    {
     "data": {
      "text/plain": [
       "['order_id', 'user_id', 'status', 'shipped_at', 'delivered_at', 'returned_at']"
      ]
     },
     "execution_count": 53,
     "metadata": {},
     "output_type": "execute_result"
    }
   ],
   "source": [
    "# using the function, check for overlapping columns\n",
    "duplicates(orderitems_df, user_orders)"
   ]
  },
  {
   "cell_type": "markdown",
   "id": "5abef3e0-a989-4197-8fbd-446fd223a1ec",
   "metadata": {},
   "source": [
    "#### House keeping\n",
    "\n",
    "`orderitems_df` and `user_orders` will be merged on `order_id`, hence, `user_id` will be dropped from orderitems_df. Status, shipped_at, delivered_at, returned_at in order_items_df captures unique information  at the item level in an order. \n",
    "Hence, Status, 'shipped_at', 'delivered_at', 'returned_at in user_orders will be dropped too, this is because the analysis is focused on item_level and not at the order level."
   ]
  },
  {
   "cell_type": "code",
   "execution_count": 54,
   "id": "c447bc5e-9ab0-4b51-b548-0f58c4ed1105",
   "metadata": {},
   "outputs": [],
   "source": [
    "# dropping over lapping columns in user_orders\n",
    "\n",
    "user_orders = user_orders.drop(columns = ['status', 'shipped_at', 'delivered_at', 'returned_at'])\n",
    "\n",
    "# dropping user_id in orderitems_df\n",
    "\n",
    "orderitems_df = orderitems_df.drop(columns = 'user_id')"
   ]
  },
  {
   "cell_type": "code",
   "execution_count": 55,
   "id": "4c4916b8-4795-400d-bb61-f23893f670b8",
   "metadata": {},
   "outputs": [],
   "source": [
    "# rename id in orderitems_df as this shows the id of each item in an order\n",
    "orderitems_df = orderitems_df.rename(columns = {'id' : 'orderitem_id' })"
   ]
  },
  {
   "cell_type": "code",
   "execution_count": 56,
   "id": "658fa925-d13c-49f7-8d68-ac8362624e3d",
   "metadata": {},
   "outputs": [
    {
     "data": {
      "text/plain": [
       "['order_id']"
      ]
     },
     "execution_count": 56,
     "metadata": {},
     "output_type": "execute_result"
    }
   ],
   "source": [
    "# House keeping \n",
    "''' check for over lapping columns\n",
    "'''\n",
    "\n",
    "duplicates(orderitems_df, user_orders)"
   ]
  },
  {
   "cell_type": "code",
   "execution_count": 57,
   "id": "32d8c45a-b85d-4415-a3cb-a86fcfd1b82f",
   "metadata": {},
   "outputs": [],
   "source": [
    "# merge orderitems_d & user_orders\n",
    "\n",
    "complete_orders_df = orderitems_df.merge(user_orders, on = 'order_id', how = 'inner')"
   ]
  },
  {
   "cell_type": "code",
   "execution_count": 58,
   "id": "6444965b-e216-487f-b93f-311b263fa04a",
   "metadata": {},
   "outputs": [
    {
     "data": {
      "text/plain": [
       "(180875, 28)"
      ]
     },
     "execution_count": 58,
     "metadata": {},
     "output_type": "execute_result"
    }
   ],
   "source": [
    "#confirm shape\n",
    "complete_orders_df.shape"
   ]
  },
  {
   "cell_type": "code",
   "execution_count": 59,
   "id": "db0d9744-760e-4385-9a80-afac409098ed",
   "metadata": {
    "scrolled": true
   },
   "outputs": [
    {
     "name": "stdout",
     "output_type": "stream",
     "text": [
      "Shape of merged tables : (180875, 28)\n",
      "\n",
      "Missing values : \n",
      " orderitem_id              0\n",
      "order_id                  0\n",
      "product_id                0\n",
      "inventory_item_id         0\n",
      "status                    0\n",
      "created_at                0\n",
      "shipped_at            63094\n",
      "delivered_at         117117\n",
      "returned_at          162559\n",
      "sale_price                0\n",
      "user_id                   0\n",
      "order_created_at          0\n",
      "num_of_item               0\n",
      "first_name                0\n",
      "last_name                 0\n",
      "email                     0\n",
      "age                       0\n",
      "gender                    0\n",
      "state                     0\n",
      "street_address            0\n",
      "postal_code               0\n",
      "city                      0\n",
      "country                   0\n",
      "latitude                  0\n",
      "longitude                 0\n",
      "traffic_source            0\n",
      "user_created_at           0\n",
      "user_geom                 0\n",
      "dtype: int64\n",
      "\n",
      "Number of Duplicate Rows: 0\n"
     ]
    }
   ],
   "source": [
    "quality(complete_orders_df)"
   ]
  },
  {
   "cell_type": "markdown",
   "id": "7cc931df-f568-405c-9734-0b4371e55f1d",
   "metadata": {},
   "source": [
    "#### Merge inventoryitems_df and complete_orders_df"
   ]
  },
  {
   "cell_type": "code",
   "execution_count": 60,
   "id": "a01fa1b2-1c05-4f99-9bde-9be0c3bdbc2e",
   "metadata": {},
   "outputs": [
    {
     "data": {
      "text/html": [
       "<div>\n",
       "<style scoped>\n",
       "    .dataframe tbody tr th:only-of-type {\n",
       "        vertical-align: middle;\n",
       "    }\n",
       "\n",
       "    .dataframe tbody tr th {\n",
       "        vertical-align: top;\n",
       "    }\n",
       "\n",
       "    .dataframe thead th {\n",
       "        text-align: right;\n",
       "    }\n",
       "</style>\n",
       "<table border=\"1\" class=\"dataframe\">\n",
       "  <thead>\n",
       "    <tr style=\"text-align: right;\">\n",
       "      <th></th>\n",
       "      <th>id</th>\n",
       "      <th>product_id</th>\n",
       "      <th>created_at</th>\n",
       "      <th>sold_at</th>\n",
       "      <th>cost</th>\n",
       "      <th>product_category</th>\n",
       "      <th>product_name</th>\n",
       "      <th>product_brand</th>\n",
       "      <th>product_retail_price</th>\n",
       "      <th>product_department</th>\n",
       "      <th>product_sku</th>\n",
       "      <th>product_distribution_center_id</th>\n",
       "    </tr>\n",
       "  </thead>\n",
       "  <tbody>\n",
       "    <tr>\n",
       "      <th>0</th>\n",
       "      <td>46517</td>\n",
       "      <td>13844</td>\n",
       "      <td>2025-05-09 16:11:16+00:00</td>\n",
       "      <td>2025-06-06 13:17:16+00:00</td>\n",
       "      <td>2.76804</td>\n",
       "      <td>Accessories</td>\n",
       "      <td>(ONE) 1 Satin Headband</td>\n",
       "      <td>Funny Girl Designs</td>\n",
       "      <td>6.99</td>\n",
       "      <td>Women</td>\n",
       "      <td>2A3E953A5E3D81E67945BCE5519F84C8</td>\n",
       "      <td>7</td>\n",
       "    </tr>\n",
       "    <tr>\n",
       "      <th>1</th>\n",
       "      <td>46518</td>\n",
       "      <td>13844</td>\n",
       "      <td>2024-12-12 13:54:00+00:00</td>\n",
       "      <td>NaT</td>\n",
       "      <td>2.76804</td>\n",
       "      <td>Accessories</td>\n",
       "      <td>(ONE) 1 Satin Headband</td>\n",
       "      <td>Funny Girl Designs</td>\n",
       "      <td>6.99</td>\n",
       "      <td>Women</td>\n",
       "      <td>2A3E953A5E3D81E67945BCE5519F84C8</td>\n",
       "      <td>7</td>\n",
       "    </tr>\n",
       "    <tr>\n",
       "      <th>2</th>\n",
       "      <td>82719</td>\n",
       "      <td>13844</td>\n",
       "      <td>2021-09-20 12:04:50+00:00</td>\n",
       "      <td>2021-11-16 16:01:50+00:00</td>\n",
       "      <td>2.76804</td>\n",
       "      <td>Accessories</td>\n",
       "      <td>(ONE) 1 Satin Headband</td>\n",
       "      <td>Funny Girl Designs</td>\n",
       "      <td>6.99</td>\n",
       "      <td>Women</td>\n",
       "      <td>2A3E953A5E3D81E67945BCE5519F84C8</td>\n",
       "      <td>7</td>\n",
       "    </tr>\n",
       "    <tr>\n",
       "      <th>3</th>\n",
       "      <td>82720</td>\n",
       "      <td>13844</td>\n",
       "      <td>2021-04-06 08:26:00+00:00</td>\n",
       "      <td>NaT</td>\n",
       "      <td>2.76804</td>\n",
       "      <td>Accessories</td>\n",
       "      <td>(ONE) 1 Satin Headband</td>\n",
       "      <td>Funny Girl Designs</td>\n",
       "      <td>6.99</td>\n",
       "      <td>Women</td>\n",
       "      <td>2A3E953A5E3D81E67945BCE5519F84C8</td>\n",
       "      <td>7</td>\n",
       "    </tr>\n",
       "    <tr>\n",
       "      <th>4</th>\n",
       "      <td>352717</td>\n",
       "      <td>13844</td>\n",
       "      <td>2025-06-02 17:08:22+00:00</td>\n",
       "      <td>2025-06-14 08:22:22+00:00</td>\n",
       "      <td>2.76804</td>\n",
       "      <td>Accessories</td>\n",
       "      <td>(ONE) 1 Satin Headband</td>\n",
       "      <td>Funny Girl Designs</td>\n",
       "      <td>6.99</td>\n",
       "      <td>Women</td>\n",
       "      <td>2A3E953A5E3D81E67945BCE5519F84C8</td>\n",
       "      <td>7</td>\n",
       "    </tr>\n",
       "  </tbody>\n",
       "</table>\n",
       "</div>"
      ],
      "text/plain": [
       "       id  product_id                created_at                   sold_at  \\\n",
       "0   46517       13844 2025-05-09 16:11:16+00:00 2025-06-06 13:17:16+00:00   \n",
       "1   46518       13844 2024-12-12 13:54:00+00:00                       NaT   \n",
       "2   82719       13844 2021-09-20 12:04:50+00:00 2021-11-16 16:01:50+00:00   \n",
       "3   82720       13844 2021-04-06 08:26:00+00:00                       NaT   \n",
       "4  352717       13844 2025-06-02 17:08:22+00:00 2025-06-14 08:22:22+00:00   \n",
       "\n",
       "      cost product_category            product_name       product_brand  \\\n",
       "0  2.76804      Accessories  (ONE) 1 Satin Headband  Funny Girl Designs   \n",
       "1  2.76804      Accessories  (ONE) 1 Satin Headband  Funny Girl Designs   \n",
       "2  2.76804      Accessories  (ONE) 1 Satin Headband  Funny Girl Designs   \n",
       "3  2.76804      Accessories  (ONE) 1 Satin Headband  Funny Girl Designs   \n",
       "4  2.76804      Accessories  (ONE) 1 Satin Headband  Funny Girl Designs   \n",
       "\n",
       "   product_retail_price product_department                       product_sku  \\\n",
       "0                  6.99              Women  2A3E953A5E3D81E67945BCE5519F84C8   \n",
       "1                  6.99              Women  2A3E953A5E3D81E67945BCE5519F84C8   \n",
       "2                  6.99              Women  2A3E953A5E3D81E67945BCE5519F84C8   \n",
       "3                  6.99              Women  2A3E953A5E3D81E67945BCE5519F84C8   \n",
       "4                  6.99              Women  2A3E953A5E3D81E67945BCE5519F84C8   \n",
       "\n",
       "   product_distribution_center_id  \n",
       "0                               7  \n",
       "1                               7  \n",
       "2                               7  \n",
       "3                               7  \n",
       "4                               7  "
      ]
     },
     "execution_count": 60,
     "metadata": {},
     "output_type": "execute_result"
    }
   ],
   "source": [
    "inventoryitems_df.head(5)"
   ]
  },
  {
   "cell_type": "code",
   "execution_count": 61,
   "id": "0468e7f3-d838-4dd3-ba10-368a7f79dd65",
   "metadata": {},
   "outputs": [
    {
     "data": {
      "text/plain": [
       "['product_id', 'created_at']"
      ]
     },
     "execution_count": 61,
     "metadata": {},
     "output_type": "execute_result"
    }
   ],
   "source": [
    "# check for over lapping columns\n",
    "duplicates(inventoryitems_df, complete_orders_df)"
   ]
  },
  {
   "cell_type": "markdown",
   "id": "8bc71db4-2bff-4633-b2d0-b0af465cbc75",
   "metadata": {},
   "source": [
    "**Overlapping columns**\n",
    "\n",
    "The column created_at will be renamed as inventory_created_at as this is the date/time when the inventory for the product was created and inventoryitems_df, complete_orders_df will be merged on inventory_item_id. \n",
    "The over lapping product_id will be dropped for inventoryitems_df"
   ]
  },
  {
   "cell_type": "code",
   "execution_count": 62,
   "id": "31b194f3-77fb-494b-8561-eeb388dd32ea",
   "metadata": {},
   "outputs": [],
   "source": [
    "# Renaming created_at\n",
    "\n",
    "inventoryitems_df = inventoryitems_df.rename(columns = {'created_at' : 'inventorycreated_at'})\n",
    "\n",
    "# drop inventoryitems_df product_id\n",
    "\n",
    "inventoryitems_df = inventoryitems_df.drop(columns = ['product_id'])\n"
   ]
  },
  {
   "cell_type": "code",
   "execution_count": 63,
   "id": "6fde660d-61cd-4721-baca-9c0b4f8c31a9",
   "metadata": {},
   "outputs": [],
   "source": [
    "# merge \n",
    "with_inventory_df = complete_orders_df.merge(\n",
    "    inventoryitems_df, left_on = 'product_id', \n",
    "    right_on = 'id', \n",
    "    how = 'inner' \n",
    ")"
   ]
  },
  {
   "cell_type": "code",
   "execution_count": 64,
   "id": "d71f1212-312b-4d25-b8c6-f9d05fad9816",
   "metadata": {},
   "outputs": [],
   "source": [
    "# drop id from the merged table\n",
    "with_inventory_df = with_inventory_df.drop(columns = ['id'])"
   ]
  },
  {
   "cell_type": "code",
   "execution_count": 65,
   "id": "c10823b4-0d56-41a9-ba0b-2877072c9a70",
   "metadata": {
    "scrolled": true
   },
   "outputs": [
    {
     "name": "stdout",
     "output_type": "stream",
     "text": [
      "Shape of merged tables : (180875, 38)\n",
      "\n",
      "Missing values : \n",
      " orderitem_id                           0\n",
      "order_id                               0\n",
      "product_id                             0\n",
      "inventory_item_id                      0\n",
      "status                                 0\n",
      "created_at                             0\n",
      "shipped_at                         63094\n",
      "delivered_at                      117117\n",
      "returned_at                       162559\n",
      "sale_price                             0\n",
      "user_id                                0\n",
      "order_created_at                       0\n",
      "num_of_item                            0\n",
      "first_name                             0\n",
      "last_name                              0\n",
      "email                                  0\n",
      "age                                    0\n",
      "gender                                 0\n",
      "state                                  0\n",
      "street_address                         0\n",
      "postal_code                            0\n",
      "city                                   0\n",
      "country                                0\n",
      "latitude                               0\n",
      "longitude                              0\n",
      "traffic_source                         0\n",
      "user_created_at                        0\n",
      "user_geom                              0\n",
      "inventorycreated_at                    0\n",
      "sold_at                           113834\n",
      "cost                                   0\n",
      "product_category                       0\n",
      "product_name                           0\n",
      "product_brand                          0\n",
      "product_retail_price                   0\n",
      "product_department                     0\n",
      "product_sku                            0\n",
      "product_distribution_center_id         0\n",
      "dtype: int64\n",
      "\n",
      "Number of Duplicate Rows: 0\n"
     ]
    }
   ],
   "source": [
    "# sanity check\n",
    "\n",
    "quality(with_inventory_df)"
   ]
  },
  {
   "cell_type": "markdown",
   "id": "b5c1b4ee-0d0a-41c8-bdcb-77b32324e17c",
   "metadata": {},
   "source": [
    "#### Add products"
   ]
  },
  {
   "cell_type": "code",
   "execution_count": 66,
   "id": "72a8770f-ad0b-4383-be61-10cb9c5a4489",
   "metadata": {},
   "outputs": [
    {
     "data": {
      "text/html": [
       "<div>\n",
       "<style scoped>\n",
       "    .dataframe tbody tr th:only-of-type {\n",
       "        vertical-align: middle;\n",
       "    }\n",
       "\n",
       "    .dataframe tbody tr th {\n",
       "        vertical-align: top;\n",
       "    }\n",
       "\n",
       "    .dataframe thead th {\n",
       "        text-align: right;\n",
       "    }\n",
       "</style>\n",
       "<table border=\"1\" class=\"dataframe\">\n",
       "  <thead>\n",
       "    <tr style=\"text-align: right;\">\n",
       "      <th></th>\n",
       "      <th>id</th>\n",
       "      <th>cost</th>\n",
       "      <th>category</th>\n",
       "      <th>name</th>\n",
       "      <th>brand</th>\n",
       "      <th>retail_price</th>\n",
       "      <th>department</th>\n",
       "      <th>sku</th>\n",
       "      <th>distribution_center_id</th>\n",
       "    </tr>\n",
       "  </thead>\n",
       "  <tbody>\n",
       "    <tr>\n",
       "      <th>0</th>\n",
       "      <td>13842</td>\n",
       "      <td>2.51875</td>\n",
       "      <td>Accessories</td>\n",
       "      <td>Low Profile Dyed Cotton Twill Cap - Navy W39S55D</td>\n",
       "      <td>MG</td>\n",
       "      <td>6.25</td>\n",
       "      <td>Women</td>\n",
       "      <td>EBD58B8A3F1D72F4206201DA62FB1204</td>\n",
       "      <td>1</td>\n",
       "    </tr>\n",
       "    <tr>\n",
       "      <th>1</th>\n",
       "      <td>13928</td>\n",
       "      <td>2.33835</td>\n",
       "      <td>Accessories</td>\n",
       "      <td>Low Profile Dyed Cotton Twill Cap - Putty W39S55D</td>\n",
       "      <td>MG</td>\n",
       "      <td>5.95</td>\n",
       "      <td>Women</td>\n",
       "      <td>2EAC42424D12436BDD6A5B8A88480CC3</td>\n",
       "      <td>1</td>\n",
       "    </tr>\n",
       "    <tr>\n",
       "      <th>2</th>\n",
       "      <td>14115</td>\n",
       "      <td>4.87956</td>\n",
       "      <td>Accessories</td>\n",
       "      <td>Enzyme Regular Solid Army Caps-Black W35S45D</td>\n",
       "      <td>MG</td>\n",
       "      <td>10.99</td>\n",
       "      <td>Women</td>\n",
       "      <td>EE364229B2791D1EF9355708EFF0BA34</td>\n",
       "      <td>1</td>\n",
       "    </tr>\n",
       "    <tr>\n",
       "      <th>3</th>\n",
       "      <td>14157</td>\n",
       "      <td>4.64877</td>\n",
       "      <td>Accessories</td>\n",
       "      <td>Enzyme Regular Solid Army Caps-Olive W35S45D (...</td>\n",
       "      <td>MG</td>\n",
       "      <td>10.99</td>\n",
       "      <td>Women</td>\n",
       "      <td>00BD13095D06C20B11A2993CA419D16B</td>\n",
       "      <td>1</td>\n",
       "    </tr>\n",
       "    <tr>\n",
       "      <th>4</th>\n",
       "      <td>14273</td>\n",
       "      <td>6.50793</td>\n",
       "      <td>Accessories</td>\n",
       "      <td>Washed Canvas Ivy Cap - Black W11S64C</td>\n",
       "      <td>MG</td>\n",
       "      <td>15.99</td>\n",
       "      <td>Women</td>\n",
       "      <td>F531DC20FDE20B7ADF3A73F52B71D0AF</td>\n",
       "      <td>1</td>\n",
       "    </tr>\n",
       "  </tbody>\n",
       "</table>\n",
       "</div>"
      ],
      "text/plain": [
       "      id     cost     category  \\\n",
       "0  13842  2.51875  Accessories   \n",
       "1  13928  2.33835  Accessories   \n",
       "2  14115  4.87956  Accessories   \n",
       "3  14157  4.64877  Accessories   \n",
       "4  14273  6.50793  Accessories   \n",
       "\n",
       "                                                name brand  retail_price  \\\n",
       "0   Low Profile Dyed Cotton Twill Cap - Navy W39S55D    MG          6.25   \n",
       "1  Low Profile Dyed Cotton Twill Cap - Putty W39S55D    MG          5.95   \n",
       "2       Enzyme Regular Solid Army Caps-Black W35S45D    MG         10.99   \n",
       "3  Enzyme Regular Solid Army Caps-Olive W35S45D (...    MG         10.99   \n",
       "4              Washed Canvas Ivy Cap - Black W11S64C    MG         15.99   \n",
       "\n",
       "  department                               sku  distribution_center_id  \n",
       "0      Women  EBD58B8A3F1D72F4206201DA62FB1204                       1  \n",
       "1      Women  2EAC42424D12436BDD6A5B8A88480CC3                       1  \n",
       "2      Women  EE364229B2791D1EF9355708EFF0BA34                       1  \n",
       "3      Women  00BD13095D06C20B11A2993CA419D16B                       1  \n",
       "4      Women  F531DC20FDE20B7ADF3A73F52B71D0AF                       1  "
      ]
     },
     "execution_count": 66,
     "metadata": {},
     "output_type": "execute_result"
    }
   ],
   "source": [
    "products_df.head()"
   ]
  },
  {
   "cell_type": "code",
   "execution_count": 67,
   "id": "d2c491c6-2f07-4bdc-a85b-0dc672251d82",
   "metadata": {},
   "outputs": [
    {
     "data": {
      "text/plain": [
       "['cost']"
      ]
     },
     "execution_count": 67,
     "metadata": {},
     "output_type": "execute_result"
    }
   ],
   "source": [
    "# check for over lapping columns\n",
    "\n",
    "duplicates(products_df, with_inventory_df)"
   ]
  },
  {
   "cell_type": "markdown",
   "id": "68e021bc-78f3-4ca5-bf3b-5b368f388ae2",
   "metadata": {},
   "source": [
    "products_df['cost'] This is the product level cost\n",
    "inventoryitems_df['cost'] : This is the unit cost of the product to the business. If the business stocks different batches, the unity price of the bacth may be different from each other."
   ]
  },
  {
   "cell_type": "code",
   "execution_count": 68,
   "id": "f55b476b-984c-4065-a271-2dfb2cc46319",
   "metadata": {},
   "outputs": [],
   "source": [
    "# renaming cost for the two tables\n",
    "products_df = products_df.rename(columns = {'cost' : 'product_cost'})\n",
    "\n",
    "with_inventory_df = with_inventory_df.rename(columns = {'cost' : 'inventory_cost'})"
   ]
  },
  {
   "cell_type": "code",
   "execution_count": 69,
   "id": "7fde0327-8816-4df9-b495-bcb2c87ba03c",
   "metadata": {},
   "outputs": [],
   "source": [
    "# merge \n",
    "merged_df = with_inventory_df.merge(\n",
    "    products_df, left_on = 'product_id', \n",
    "    right_on = 'id', \n",
    "    how = 'inner' \n",
    ")"
   ]
  },
  {
   "cell_type": "code",
   "execution_count": 70,
   "id": "90ef8397-769a-4181-b9cd-04e90de88d5f",
   "metadata": {
    "scrolled": true
   },
   "outputs": [
    {
     "name": "stdout",
     "output_type": "stream",
     "text": [
      "Shape of merged tables : (180862, 47)\n",
      "\n",
      "Missing values : \n",
      " orderitem_id                           0\n",
      "order_id                               0\n",
      "product_id                             0\n",
      "inventory_item_id                      0\n",
      "status                                 0\n",
      "created_at                             0\n",
      "shipped_at                         63089\n",
      "delivered_at                      117108\n",
      "returned_at                       162550\n",
      "sale_price                             0\n",
      "user_id                                0\n",
      "order_created_at                       0\n",
      "num_of_item                            0\n",
      "first_name                             0\n",
      "last_name                              0\n",
      "email                                  0\n",
      "age                                    0\n",
      "gender                                 0\n",
      "state                                  0\n",
      "street_address                         0\n",
      "postal_code                            0\n",
      "city                                   0\n",
      "country                                0\n",
      "latitude                               0\n",
      "longitude                              0\n",
      "traffic_source                         0\n",
      "user_created_at                        0\n",
      "user_geom                              0\n",
      "inventorycreated_at                    0\n",
      "sold_at                           113826\n",
      "inventory_cost                         0\n",
      "product_category                       0\n",
      "product_name                           0\n",
      "product_brand                          0\n",
      "product_retail_price                   0\n",
      "product_department                     0\n",
      "product_sku                            0\n",
      "product_distribution_center_id         0\n",
      "id                                     0\n",
      "product_cost                           0\n",
      "category                               0\n",
      "name                                   0\n",
      "brand                                  0\n",
      "retail_price                           0\n",
      "department                             0\n",
      "sku                                    0\n",
      "distribution_center_id                 0\n",
      "dtype: int64\n",
      "\n",
      "Number of Duplicate Rows: 0\n"
     ]
    }
   ],
   "source": [
    "quality(merged_df)"
   ]
  },
  {
   "cell_type": "code",
   "execution_count": 71,
   "id": "145efee4-8976-467e-b182-8993fb5d611d",
   "metadata": {
    "scrolled": true
   },
   "outputs": [
    {
     "data": {
      "text/html": [
       "<div>\n",
       "<style scoped>\n",
       "    .dataframe tbody tr th:only-of-type {\n",
       "        vertical-align: middle;\n",
       "    }\n",
       "\n",
       "    .dataframe tbody tr th {\n",
       "        vertical-align: top;\n",
       "    }\n",
       "\n",
       "    .dataframe thead th {\n",
       "        text-align: right;\n",
       "    }\n",
       "</style>\n",
       "<table border=\"1\" class=\"dataframe\">\n",
       "  <thead>\n",
       "    <tr style=\"text-align: right;\">\n",
       "      <th></th>\n",
       "      <th>orderitem_id</th>\n",
       "      <th>order_id</th>\n",
       "      <th>product_id</th>\n",
       "      <th>inventory_item_id</th>\n",
       "      <th>status</th>\n",
       "      <th>created_at</th>\n",
       "      <th>shipped_at</th>\n",
       "      <th>delivered_at</th>\n",
       "      <th>returned_at</th>\n",
       "      <th>sale_price</th>\n",
       "      <th>...</th>\n",
       "      <th>product_distribution_center_id</th>\n",
       "      <th>id</th>\n",
       "      <th>product_cost</th>\n",
       "      <th>category</th>\n",
       "      <th>name</th>\n",
       "      <th>brand</th>\n",
       "      <th>retail_price</th>\n",
       "      <th>department</th>\n",
       "      <th>sku</th>\n",
       "      <th>distribution_center_id</th>\n",
       "    </tr>\n",
       "  </thead>\n",
       "  <tbody>\n",
       "    <tr>\n",
       "      <th>0</th>\n",
       "      <td>55148</td>\n",
       "      <td>37886</td>\n",
       "      <td>14235</td>\n",
       "      <td>148686</td>\n",
       "      <td>Cancelled</td>\n",
       "      <td>2025-08-28 05:19:35+00:00</td>\n",
       "      <td>NaT</td>\n",
       "      <td>NaT</td>\n",
       "      <td>NaT</td>\n",
       "      <td>0.02</td>\n",
       "      <td>...</td>\n",
       "      <td>2</td>\n",
       "      <td>14235</td>\n",
       "      <td>0.0083</td>\n",
       "      <td>Accessories</td>\n",
       "      <td>Indestructable Aluminum Aluma Wallet - RED</td>\n",
       "      <td>marshal</td>\n",
       "      <td>0.02</td>\n",
       "      <td>Women</td>\n",
       "      <td>8425BC94A44E3D1BB3C8C026B2702C00</td>\n",
       "      <td>1</td>\n",
       "    </tr>\n",
       "    <tr>\n",
       "      <th>1</th>\n",
       "      <td>100507</td>\n",
       "      <td>69230</td>\n",
       "      <td>14235</td>\n",
       "      <td>270947</td>\n",
       "      <td>Complete</td>\n",
       "      <td>2023-07-22 18:08:02+00:00</td>\n",
       "      <td>2023-07-20 18:15:00+00:00</td>\n",
       "      <td>2023-07-21 06:27:00+00:00</td>\n",
       "      <td>NaT</td>\n",
       "      <td>0.02</td>\n",
       "      <td>...</td>\n",
       "      <td>2</td>\n",
       "      <td>14235</td>\n",
       "      <td>0.0083</td>\n",
       "      <td>Accessories</td>\n",
       "      <td>Indestructable Aluminum Aluma Wallet - RED</td>\n",
       "      <td>marshal</td>\n",
       "      <td>0.02</td>\n",
       "      <td>Women</td>\n",
       "      <td>8425BC94A44E3D1BB3C8C026B2702C00</td>\n",
       "      <td>1</td>\n",
       "    </tr>\n",
       "    <tr>\n",
       "      <th>2</th>\n",
       "      <td>140698</td>\n",
       "      <td>97045</td>\n",
       "      <td>14235</td>\n",
       "      <td>379402</td>\n",
       "      <td>Complete</td>\n",
       "      <td>2023-07-22 11:03:26+00:00</td>\n",
       "      <td>2023-07-19 04:25:00+00:00</td>\n",
       "      <td>2023-07-20 01:55:00+00:00</td>\n",
       "      <td>NaT</td>\n",
       "      <td>0.02</td>\n",
       "      <td>...</td>\n",
       "      <td>2</td>\n",
       "      <td>14235</td>\n",
       "      <td>0.0083</td>\n",
       "      <td>Accessories</td>\n",
       "      <td>Indestructable Aluminum Aluma Wallet - RED</td>\n",
       "      <td>marshal</td>\n",
       "      <td>0.02</td>\n",
       "      <td>Women</td>\n",
       "      <td>8425BC94A44E3D1BB3C8C026B2702C00</td>\n",
       "      <td>1</td>\n",
       "    </tr>\n",
       "    <tr>\n",
       "      <th>3</th>\n",
       "      <td>11178</td>\n",
       "      <td>7720</td>\n",
       "      <td>14235</td>\n",
       "      <td>30191</td>\n",
       "      <td>Returned</td>\n",
       "      <td>2020-12-15 15:17:06+00:00</td>\n",
       "      <td>2020-12-18 07:14:00+00:00</td>\n",
       "      <td>2020-12-18 14:49:00+00:00</td>\n",
       "      <td>2020-12-19 09:49:00+00:00</td>\n",
       "      <td>0.02</td>\n",
       "      <td>...</td>\n",
       "      <td>2</td>\n",
       "      <td>14235</td>\n",
       "      <td>0.0083</td>\n",
       "      <td>Accessories</td>\n",
       "      <td>Indestructable Aluminum Aluma Wallet - RED</td>\n",
       "      <td>marshal</td>\n",
       "      <td>0.02</td>\n",
       "      <td>Women</td>\n",
       "      <td>8425BC94A44E3D1BB3C8C026B2702C00</td>\n",
       "      <td>1</td>\n",
       "    </tr>\n",
       "    <tr>\n",
       "      <th>4</th>\n",
       "      <td>67899</td>\n",
       "      <td>46628</td>\n",
       "      <td>14235</td>\n",
       "      <td>183154</td>\n",
       "      <td>Shipped</td>\n",
       "      <td>2025-03-27 00:43:44+00:00</td>\n",
       "      <td>2025-03-27 03:22:00+00:00</td>\n",
       "      <td>NaT</td>\n",
       "      <td>NaT</td>\n",
       "      <td>0.02</td>\n",
       "      <td>...</td>\n",
       "      <td>2</td>\n",
       "      <td>14235</td>\n",
       "      <td>0.0083</td>\n",
       "      <td>Accessories</td>\n",
       "      <td>Indestructable Aluminum Aluma Wallet - RED</td>\n",
       "      <td>marshal</td>\n",
       "      <td>0.02</td>\n",
       "      <td>Women</td>\n",
       "      <td>8425BC94A44E3D1BB3C8C026B2702C00</td>\n",
       "      <td>1</td>\n",
       "    </tr>\n",
       "  </tbody>\n",
       "</table>\n",
       "<p>5 rows × 47 columns</p>\n",
       "</div>"
      ],
      "text/plain": [
       "   orderitem_id  order_id  product_id  inventory_item_id     status  \\\n",
       "0         55148     37886       14235             148686  Cancelled   \n",
       "1        100507     69230       14235             270947   Complete   \n",
       "2        140698     97045       14235             379402   Complete   \n",
       "3         11178      7720       14235              30191   Returned   \n",
       "4         67899     46628       14235             183154    Shipped   \n",
       "\n",
       "                 created_at                shipped_at  \\\n",
       "0 2025-08-28 05:19:35+00:00                       NaT   \n",
       "1 2023-07-22 18:08:02+00:00 2023-07-20 18:15:00+00:00   \n",
       "2 2023-07-22 11:03:26+00:00 2023-07-19 04:25:00+00:00   \n",
       "3 2020-12-15 15:17:06+00:00 2020-12-18 07:14:00+00:00   \n",
       "4 2025-03-27 00:43:44+00:00 2025-03-27 03:22:00+00:00   \n",
       "\n",
       "               delivered_at               returned_at  sale_price  ...  \\\n",
       "0                       NaT                       NaT        0.02  ...   \n",
       "1 2023-07-21 06:27:00+00:00                       NaT        0.02  ...   \n",
       "2 2023-07-20 01:55:00+00:00                       NaT        0.02  ...   \n",
       "3 2020-12-18 14:49:00+00:00 2020-12-19 09:49:00+00:00        0.02  ...   \n",
       "4                       NaT                       NaT        0.02  ...   \n",
       "\n",
       "   product_distribution_center_id     id  product_cost     category  \\\n",
       "0                               2  14235        0.0083  Accessories   \n",
       "1                               2  14235        0.0083  Accessories   \n",
       "2                               2  14235        0.0083  Accessories   \n",
       "3                               2  14235        0.0083  Accessories   \n",
       "4                               2  14235        0.0083  Accessories   \n",
       "\n",
       "                                         name    brand  retail_price  \\\n",
       "0  Indestructable Aluminum Aluma Wallet - RED  marshal          0.02   \n",
       "1  Indestructable Aluminum Aluma Wallet - RED  marshal          0.02   \n",
       "2  Indestructable Aluminum Aluma Wallet - RED  marshal          0.02   \n",
       "3  Indestructable Aluminum Aluma Wallet - RED  marshal          0.02   \n",
       "4  Indestructable Aluminum Aluma Wallet - RED  marshal          0.02   \n",
       "\n",
       "  department                               sku distribution_center_id  \n",
       "0      Women  8425BC94A44E3D1BB3C8C026B2702C00                      1  \n",
       "1      Women  8425BC94A44E3D1BB3C8C026B2702C00                      1  \n",
       "2      Women  8425BC94A44E3D1BB3C8C026B2702C00                      1  \n",
       "3      Women  8425BC94A44E3D1BB3C8C026B2702C00                      1  \n",
       "4      Women  8425BC94A44E3D1BB3C8C026B2702C00                      1  \n",
       "\n",
       "[5 rows x 47 columns]"
      ]
     },
     "execution_count": 71,
     "metadata": {},
     "output_type": "execute_result"
    }
   ],
   "source": [
    "merged_df.head(5)"
   ]
  },
  {
   "cell_type": "markdown",
   "id": "7e0e7949-2ed1-4c1d-b471-f640417149ec",
   "metadata": {},
   "source": [
    "#### saving the merged table"
   ]
  },
  {
   "cell_type": "code",
   "execution_count": 138,
   "id": "8bf2aacb-e86a-4a42-9a8f-7cf902d767b5",
   "metadata": {},
   "outputs": [
    {
     "name": "stdout",
     "output_type": "stream",
     "text": [
      " Folder Data created successfully\n"
     ]
    }
   ],
   "source": [
    "# creating folder 'Data'\n",
    "folder_name = 'Data'\n",
    "try:\n",
    "    os.mkdir(folder_name)\n",
    "    print(f\" Folder {folder_name} created successfully\" )\n",
    "except FileExistsError:\n",
    "    print(f\" Folder {folder_name} already exist\" )"
   ]
  },
  {
   "cell_type": "code",
   "execution_count": 143,
   "id": "ee0b7e20-d66e-48fd-8a9f-c948541ae9af",
   "metadata": {},
   "outputs": [],
   "source": [
    "# Saving the table\n",
    "\n",
    "merged_df.to_csv('Data/merged_df.csv', index = False)"
   ]
  },
  {
   "cell_type": "markdown",
   "id": "7c0c1dd7-613e-4061-8681-e3ce5fb20393",
   "metadata": {},
   "source": [
    "## Visualization "
   ]
  },
  {
   "cell_type": "markdown",
   "id": "804a8505-f073-4c42-94fe-b38e58be49e7",
   "metadata": {},
   "source": [
    "#### Customer Profile Analysis"
   ]
  },
  {
   "cell_type": "code",
   "execution_count": 82,
   "id": "08eb517a-6035-4e4d-affd-27ef6ceca34a",
   "metadata": {},
   "outputs": [
    {
     "name": "stdout",
     "output_type": "stream",
     "text": [
      " Folder Graphs already exist\n"
     ]
    }
   ],
   "source": [
    "# create a folder graph for plots\n",
    "\n",
    "Folder_name = 'Graphs'\n",
    "try:\n",
    "    os.mkdir(Folder_name)\n",
    "    print(f\" Folder {Folder_name} created successfully\" )\n",
    "except FileExistsError:\n",
    "    print(f\" Folder {Folder_name} already exist\" )\n",
    "    "
   ]
  },
  {
   "cell_type": "code",
   "execution_count": 96,
   "id": "5a1a052e-4011-458f-97bf-37194e7a8c90",
   "metadata": {},
   "outputs": [
    {
     "name": "stderr",
     "output_type": "stream",
     "text": [
      "C:\\Users\\DELL XPS\\AppData\\Local\\Temp\\ipykernel_19060\\2931488004.py:6: FutureWarning: \n",
      "\n",
      "Passing `palette` without assigning `hue` is deprecated and will be removed in v0.14.0. Assign the `x` variable to `hue` and set `legend=False` for the same effect.\n",
      "\n",
      "  sns.countplot(data = merged_df, x = 'age_group', palette = 'viridis')\n"
     ]
    },
    {
     "data": {
      "image/png": "[encoded data removed]",
      "text/plain": [
       "<Figure size 640x480 with 1 Axes>"
      ]
     },
     "metadata": {},
     "output_type": "display_data"
    }
   ],
   "source": [
    "\n",
    "# Age distribution\n",
    "sns.set_style('darkgrid')\n",
    "bins  = [10, 20, 30, 40, 50, 60, 70]\n",
    "labels = ['10 - 19', '20 -29', '30 -39', ' 40 - 49', '50 - 59', '60 - 69']\n",
    "merged_df['age_group'] = pd.cut(merged_df['age'], bins = bins, labels = labels)\n",
    "sns.countplot(data = merged_df, x = 'age_group', palette = 'viridis')\n",
    "\n",
    "plt.xlabel('Age_group')\n",
    "plt.ylabel('Frequency')\n",
    "plt.title('Customer Age distribution')\n",
    "\n",
    "plt.savefig('Graphs/age_hist.png')\n",
    "plt.show()"
   ]
  },
  {
   "cell_type": "code",
   "execution_count": 93,
   "id": "a8c160ea-b77d-40ef-8c2c-37122fb55ce9",
   "metadata": {},
   "outputs": [
    {
     "name": "stderr",
     "output_type": "stream",
     "text": [
      "C:\\Users\\DELL XPS\\AppData\\Local\\Temp\\ipykernel_19060\\1993331942.py:5: FutureWarning: \n",
      "\n",
      "Passing `palette` without assigning `hue` is deprecated and will be removed in v0.14.0. Assign the `x` variable to `hue` and set `legend=False` for the same effect.\n",
      "\n",
      "  sns.countplot(data=merged_df, x='age_group', palette='viridis')\n"
     ]
    },
    {
     "data": {
      "image/png": "[encoded data removed]",
      "text/plain": [
       "<Figure size 640x480 with 1 Axes>"
      ]
     },
     "metadata": {},
     "output_type": "display_data"
    }
   ],
   "source": [
    "bins = [10, 20, 30, 40, 50, 60, 70]\n",
    "labels = ['10–19', '20–29', '30–39', '40–49', '50–59', '60–69']\n",
    "merged_df['age_group'] = pd.cut(merged_df['age'], bins=bins, labels=labels)\n",
    "\n",
    "sns.countplot(data=merged_df, x='age_group', palette='viridis')\n",
    "plt.title('Age Group Distribution')\n",
    "plt.ylabel('Customer Count')\n",
    "plt.xlabel('Age Group')\n",
    "plt.show()\n"
   ]
  },
  {
   "cell_type": "code",
   "execution_count": null,
   "id": "dd521555-fcd4-4bb6-b2f4-50679d9696d9",
   "metadata": {},
   "outputs": [],
   "source": []
  }
 ],
 "metadata": {
  "kernelspec": {
   "display_name": "Python 3 (ipykernel)",
   "language": "python",
   "name": "python3"
  },
  "language_info": {
   "codemirror_mode": {
    "name": "ipython",
    "version": 3
   },
   "file_extension": ".py",
   "mimetype": "text/x-python",
   "name": "python",
   "nbconvert_exporter": "python",
   "pygments_lexer": "ipython3",
   "version": "3.11.9"
  }
 },
 "nbformat": 4,
 "nbformat_minor": 5
}
