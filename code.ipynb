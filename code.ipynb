{
 "cells": [
  {
   "cell_type": "markdown",
   "id": "852dd296-08fd-4a73-b621-dd6cc850c4a0",
   "metadata": {},
   "source": [
    "#### Problem Statement\n",
    "\n",
    "Banks invest significant resources into outbound marketing campaigns, like calling customers to offer term deposit products. However, these campaigns can be inefficient, contacting many customers who are not interested, leading to:\n",
    "\n",
    "- High operational costs\n",
    "\n",
    "- Low conversion rates\n",
    "\n",
    "- Customer fatigue and churn risk\n",
    "\n",
    "1. This project seeks to optimize marketing effectiveness by:\n",
    "\n",
    "2. Segmenting customers based on their financial and demographic behavior\n",
    "\n",
    "3. Predicting which customers are most likely to subscribe to a term deposit\n",
    "\n",
    "4. Designing a targeting strategy that reduces wasted outreach while maximizing ROI\n",
    "\n",
    "\n",
    "**Stakeholders**\n",
    "\n",
    "|Stakeholder              | What they care About\n",
    "|-------------------------|------------------------\n",
    "|Marketing Team           |Improve campaign efficiency and ROI; avoid over-contacting customers|\n",
    "Data Science Team         |Build interpretable, reliable models with business impact\n",
    "Compliance/Legal          |Ensure targeting practices are fair, non-discriminatory\n",
    "Sales / Call Center       |Focus effort on the right customers; increase success rates\n",
    "Senior Management         |Strategic insights on customer behavior and product interest\n"
   ]
  },
  {
   "cell_type": "markdown",
   "id": "70436dfd-e87d-4c7a-905c-309c92c31660",
   "metadata": {},
   "source": [
    "#### Imports\n",
    "\n",
    "Import the required libraries"
   ]
  },
  {
   "cell_type": "code",
   "execution_count": 1,
   "id": "fe5d875b-2054-4aca-affe-a1419ce6fd2c",
   "metadata": {},
   "outputs": [],
   "source": [
    "import pandas as pd\n",
    "import zipfile\n",
    "import urllib.request\n",
    "import io\n",
    "import os\n",
    "from google.cloud import bigquery\n",
    "\n",
    "import numpy as np\n",
    "import matplotlib.pyplot as plt\n",
    "import seaborn as sns\n"
   ]
  },
  {
   "cell_type": "markdown",
   "id": "e658a85d-5fa9-40c8-b744-69de9a99522b",
   "metadata": {},
   "source": [
    "### Loading dataset\n",
    "\n",
    "Dataset is from Google [Big Query](https://console.cloud.google.com/bigquery?ws=!1m4!1m3!3m2!1sbigquery-public-data!2sthelook_ecommerce).\n",
    "A function was writen to obtain the tables in the dataset. The ecommerce data has `7` tables namely:  \"distribution_centers\", \"events\", \"inventory_items\", \"order_items\", \"orders\", \"products\", \"users\"."
   ]
  },
  {
   "cell_type": "code",
   "execution_count": 4,
   "id": "b32ed7e6-be57-40b6-9d72-5fa1ba294aca",
   "metadata": {},
   "outputs": [],
   "source": [
    "\n",
    "client = bigquery.Client(project=\"testing-469722\")\n",
    "\n",
    "def load_thelook_tables(dataset_id=\"bigquery-public-data.thelook_ecommerce\", table_names=None):\n",
    "    \"\"\"\n",
    "    Load multiple tables from thelook_ecommerce dataset into separate DataFrames.\n",
    "\n",
    "    Parameters:\n",
    "        dataset_id (str): Full BigQuery dataset path\n",
    "        table_names (list): List of table names to load\n",
    "\n",
    "    Returns:\n",
    "        dict: Dictionary of {table_name: DataFrame}\n",
    "    \"\"\"\n",
    "    if table_names is None:\n",
    "        table_names = [\n",
    "            \"distribution_centers\",\n",
    "            \"events\",\n",
    "            \"inventory_items\",\n",
    "            \"order_items\",\n",
    "            \"orders\",\n",
    "            \"products\",\n",
    "            \"users\"\n",
    "        ]\n",
    "\n",
    "    dataframes = {}\n",
    "\n",
    "    for table in table_names:\n",
    "        query = f\"SELECT * FROM `{dataset_id}.{table}`\"\n",
    "        df = client.query(query).to_dataframe()\n",
    "        dataframes[table] = df\n",
    "        print(f\"Loaded {table}: {df.shape[0]} rows\")\n",
    "\n",
    "    return dataframes"
   ]
  },
  {
   "cell_type": "markdown",
   "id": "5eb621a9-1433-49c3-bc4f-ea0a66ae1f50",
   "metadata": {},
   "source": [
    "### Load the dataset\n",
    "\n",
    "The dataset are pulled from Big query.\n"
   ]
  },
  {
   "cell_type": "code",
   "execution_count": 5,
   "id": "4932c82f-15f1-4bc0-ae8f-d288ad899fe8",
   "metadata": {},
   "outputs": [
    {
     "name": "stderr",
     "output_type": "stream",
     "text": [
      "C:\\Users\\DELL XPS\\virtual\\dsb_602\\Lib\\site-packages\\google\\cloud\\bigquery\\table.py:1994: UserWarning: BigQuery Storage module not found, fetch data with the REST endpoint instead.\n",
      "  warnings.warn(\n"
     ]
    },
    {
     "name": "stdout",
     "output_type": "stream",
     "text": [
      "Loaded distribution_centers: 10 rows\n",
      "Loaded events: 2415730 rows\n",
      "Loaded inventory_items: 487096 rows\n",
      "Loaded order_items: 180565 rows\n",
      "Loaded orders: 125019 rows\n",
      "Loaded products: 29120 rows\n",
      "Loaded users: 100000 rows\n"
     ]
    }
   ],
   "source": [
    "thelook_dfs = load_thelook_tables()"
   ]
  },
  {
   "cell_type": "markdown",
   "id": "47301b48-015f-4f84-904d-150c6e857da0",
   "metadata": {},
   "source": [
    "### Accessing the tables\n"
   ]
  },
  {
   "cell_type": "code",
   "execution_count": 6,
   "id": "0d75e082-00b8-4496-bed0-8487ddf661c9",
   "metadata": {},
   "outputs": [
    {
     "data": {
      "text/html": [
       "<div>\n",
       "<style scoped>\n",
       "    .dataframe tbody tr th:only-of-type {\n",
       "        vertical-align: middle;\n",
       "    }\n",
       "\n",
       "    .dataframe tbody tr th {\n",
       "        vertical-align: top;\n",
       "    }\n",
       "\n",
       "    .dataframe thead th {\n",
       "        text-align: right;\n",
       "    }\n",
       "</style>\n",
       "<table border=\"1\" class=\"dataframe\">\n",
       "  <thead>\n",
       "    <tr style=\"text-align: right;\">\n",
       "      <th></th>\n",
       "      <th>order_id</th>\n",
       "      <th>user_id</th>\n",
       "      <th>status</th>\n",
       "      <th>gender</th>\n",
       "      <th>created_at</th>\n",
       "      <th>returned_at</th>\n",
       "      <th>shipped_at</th>\n",
       "      <th>delivered_at</th>\n",
       "      <th>num_of_item</th>\n",
       "    </tr>\n",
       "  </thead>\n",
       "  <tbody>\n",
       "    <tr>\n",
       "      <th>0</th>\n",
       "      <td>7</td>\n",
       "      <td>6</td>\n",
       "      <td>Cancelled</td>\n",
       "      <td>F</td>\n",
       "      <td>2025-04-30 07:51:00+00:00</td>\n",
       "      <td>NaT</td>\n",
       "      <td>NaT</td>\n",
       "      <td>NaT</td>\n",
       "      <td>1</td>\n",
       "    </tr>\n",
       "    <tr>\n",
       "      <th>1</th>\n",
       "      <td>14</td>\n",
       "      <td>11</td>\n",
       "      <td>Cancelled</td>\n",
       "      <td>F</td>\n",
       "      <td>2025-04-11 03:11:00+00:00</td>\n",
       "      <td>NaT</td>\n",
       "      <td>NaT</td>\n",
       "      <td>NaT</td>\n",
       "      <td>1</td>\n",
       "    </tr>\n",
       "    <tr>\n",
       "      <th>2</th>\n",
       "      <td>34</td>\n",
       "      <td>23</td>\n",
       "      <td>Cancelled</td>\n",
       "      <td>F</td>\n",
       "      <td>2023-04-27 13:37:00+00:00</td>\n",
       "      <td>NaT</td>\n",
       "      <td>NaT</td>\n",
       "      <td>NaT</td>\n",
       "      <td>1</td>\n",
       "    </tr>\n",
       "    <tr>\n",
       "      <th>3</th>\n",
       "      <td>40</td>\n",
       "      <td>28</td>\n",
       "      <td>Cancelled</td>\n",
       "      <td>F</td>\n",
       "      <td>2024-10-30 10:33:00+00:00</td>\n",
       "      <td>NaT</td>\n",
       "      <td>NaT</td>\n",
       "      <td>NaT</td>\n",
       "      <td>2</td>\n",
       "    </tr>\n",
       "  </tbody>\n",
       "</table>\n",
       "</div>"
      ],
      "text/plain": [
       "   order_id  user_id     status gender                created_at returned_at  \\\n",
       "0         7        6  Cancelled      F 2025-04-30 07:51:00+00:00         NaT   \n",
       "1        14       11  Cancelled      F 2025-04-11 03:11:00+00:00         NaT   \n",
       "2        34       23  Cancelled      F 2023-04-27 13:37:00+00:00         NaT   \n",
       "3        40       28  Cancelled      F 2024-10-30 10:33:00+00:00         NaT   \n",
       "\n",
       "  shipped_at delivered_at  num_of_item  \n",
       "0        NaT          NaT            1  \n",
       "1        NaT          NaT            1  \n",
       "2        NaT          NaT            1  \n",
       "3        NaT          NaT            2  "
      ]
     },
     "execution_count": 6,
     "metadata": {},
     "output_type": "execute_result"
    }
   ],
   "source": [
    "# order table\n",
    "\n",
    "orders_df = thelook_dfs['orders']\n",
    "orders_df.head(4)"
   ]
  },
  {
   "cell_type": "markdown",
   "id": "e41dbb98-fd24-4290-a952-ee7aa6707f66",
   "metadata": {},
   "source": [
    "**orders_df table dictionary**\n",
    "\n",
    "| Column Name    | Description                                                           |\n",
    "| -------------- | --------------------------------------------------------------------- |\n",
    "| `order_id`     | Unique identifier for each order                                      |\n",
    "| `user_id`      | Foreign key that links to the customer (`users.id`)                   |\n",
    "| `status`       | Status of the order (e.g., `Complete`, `Returned`, `Cancelled`)       |\n",
    "| `gender`       | Gender of the customer (from the `users` table, if joined)            |\n",
    "| `created_at`   | Timestamp when the order was placed                                   |\n",
    "| `returned_at`  | Timestamp when the item was returned (null if not returned)           |\n",
    "| `shipped_at`   | Timestamp when the item was shipped                                   |\n",
    "| `delivered_at` | Timestamp when the item was delivered to the customer                 |\n",
    "| `num_of_item`  | Number of individual items in that order (usually from `order_items`) |\n"
   ]
  },
  {
   "cell_type": "code",
   "execution_count": 7,
   "id": "55a23b92-8912-4d6f-a5aa-039f34dbc606",
   "metadata": {},
   "outputs": [
    {
     "data": {
      "text/html": [
       "<div>\n",
       "<style scoped>\n",
       "    .dataframe tbody tr th:only-of-type {\n",
       "        vertical-align: middle;\n",
       "    }\n",
       "\n",
       "    .dataframe tbody tr th {\n",
       "        vertical-align: top;\n",
       "    }\n",
       "\n",
       "    .dataframe thead th {\n",
       "        text-align: right;\n",
       "    }\n",
       "</style>\n",
       "<table border=\"1\" class=\"dataframe\">\n",
       "  <thead>\n",
       "    <tr style=\"text-align: right;\">\n",
       "      <th></th>\n",
       "      <th>id</th>\n",
       "      <th>name</th>\n",
       "      <th>latitude</th>\n",
       "      <th>longitude</th>\n",
       "      <th>distribution_center_geom</th>\n",
       "    </tr>\n",
       "  </thead>\n",
       "  <tbody>\n",
       "    <tr>\n",
       "      <th>0</th>\n",
       "      <td>9</td>\n",
       "      <td>Charleston SC</td>\n",
       "      <td>32.7833</td>\n",
       "      <td>-79.9333</td>\n",
       "      <td>POINT(-79.9333 32.7833)</td>\n",
       "    </tr>\n",
       "    <tr>\n",
       "      <th>1</th>\n",
       "      <td>5</td>\n",
       "      <td>New Orleans LA</td>\n",
       "      <td>29.9500</td>\n",
       "      <td>-90.0667</td>\n",
       "      <td>POINT(-90.0667 29.95)</td>\n",
       "    </tr>\n",
       "    <tr>\n",
       "      <th>2</th>\n",
       "      <td>10</td>\n",
       "      <td>Savannah GA</td>\n",
       "      <td>32.0167</td>\n",
       "      <td>-81.1167</td>\n",
       "      <td>POINT(-81.1167 32.0167)</td>\n",
       "    </tr>\n",
       "    <tr>\n",
       "      <th>3</th>\n",
       "      <td>1</td>\n",
       "      <td>Memphis TN</td>\n",
       "      <td>35.1174</td>\n",
       "      <td>-89.9711</td>\n",
       "      <td>POINT(-89.9711 35.1174)</td>\n",
       "    </tr>\n",
       "    <tr>\n",
       "      <th>4</th>\n",
       "      <td>2</td>\n",
       "      <td>Chicago IL</td>\n",
       "      <td>41.8369</td>\n",
       "      <td>-87.6847</td>\n",
       "      <td>POINT(-87.6847 41.8369)</td>\n",
       "    </tr>\n",
       "  </tbody>\n",
       "</table>\n",
       "</div>"
      ],
      "text/plain": [
       "   id            name  latitude  longitude distribution_center_geom\n",
       "0   9   Charleston SC   32.7833   -79.9333  POINT(-79.9333 32.7833)\n",
       "1   5  New Orleans LA   29.9500   -90.0667    POINT(-90.0667 29.95)\n",
       "2  10     Savannah GA   32.0167   -81.1167  POINT(-81.1167 32.0167)\n",
       "3   1      Memphis TN   35.1174   -89.9711  POINT(-89.9711 35.1174)\n",
       "4   2      Chicago IL   41.8369   -87.6847  POINT(-87.6847 41.8369)"
      ]
     },
     "execution_count": 7,
     "metadata": {},
     "output_type": "execute_result"
    }
   ],
   "source": [
    "# distribution_centers\n",
    "\n",
    "distribution_df = thelook_dfs['distribution_centers']\n",
    "distribution_df.head(5)"
   ]
  },
  {
   "cell_type": "markdown",
   "id": "5bb64404-933d-4ac4-9965-bc804a6788da",
   "metadata": {},
   "source": [
    "**distribution_df dictionary**\n",
    "\n",
    "| Column Name                | Description                                                                 |\n",
    "| -------------------------- | --------------------------------------------------------------------------- |\n",
    "| `id`                       | Unique identifier for each distribution center                              |\n",
    "| `name`                     | City and state abbreviation of the distribution center location             |\n",
    "| `latitude`                 | Latitude coordinate of the distribution center (for mapping or distance)    |\n",
    "| `longitude`                | Longitude coordinate of the distribution center                             |\n",
    "| `distribution_center_geom` | Geometry field representing the center as a geographic point (GeoJSON-like) |\n"
   ]
  },
  {
   "cell_type": "code",
   "execution_count": 8,
   "id": "8cf4423d-830f-4b64-a738-a7bc78bcd020",
   "metadata": {},
   "outputs": [
    {
     "data": {
      "text/html": [
       "<div>\n",
       "<style scoped>\n",
       "    .dataframe tbody tr th:only-of-type {\n",
       "        vertical-align: middle;\n",
       "    }\n",
       "\n",
       "    .dataframe tbody tr th {\n",
       "        vertical-align: top;\n",
       "    }\n",
       "\n",
       "    .dataframe thead th {\n",
       "        text-align: right;\n",
       "    }\n",
       "</style>\n",
       "<table border=\"1\" class=\"dataframe\">\n",
       "  <thead>\n",
       "    <tr style=\"text-align: right;\">\n",
       "      <th></th>\n",
       "      <th>id</th>\n",
       "      <th>user_id</th>\n",
       "      <th>sequence_number</th>\n",
       "      <th>session_id</th>\n",
       "      <th>created_at</th>\n",
       "      <th>ip_address</th>\n",
       "      <th>city</th>\n",
       "      <th>state</th>\n",
       "      <th>postal_code</th>\n",
       "      <th>browser</th>\n",
       "      <th>traffic_source</th>\n",
       "      <th>uri</th>\n",
       "      <th>event_type</th>\n",
       "    </tr>\n",
       "  </thead>\n",
       "  <tbody>\n",
       "    <tr>\n",
       "      <th>0</th>\n",
       "      <td>1768375</td>\n",
       "      <td>&lt;NA&gt;</td>\n",
       "      <td>3</td>\n",
       "      <td>a324beda-59d6-4687-8611-dbab26de69e3</td>\n",
       "      <td>2025-02-16 04:17:00+00:00</td>\n",
       "      <td>22.241.223.57</td>\n",
       "      <td>São Paulo</td>\n",
       "      <td>São Paulo</td>\n",
       "      <td>02675-031</td>\n",
       "      <td>Safari</td>\n",
       "      <td>Email</td>\n",
       "      <td>/cancel</td>\n",
       "      <td>cancel</td>\n",
       "    </tr>\n",
       "    <tr>\n",
       "      <th>1</th>\n",
       "      <td>2107526</td>\n",
       "      <td>&lt;NA&gt;</td>\n",
       "      <td>3</td>\n",
       "      <td>68bad407-ca2b-4690-9578-ea68f300b66c</td>\n",
       "      <td>2021-10-27 18:18:00+00:00</td>\n",
       "      <td>212.158.246.198</td>\n",
       "      <td>São Paulo</td>\n",
       "      <td>São Paulo</td>\n",
       "      <td>02675-031</td>\n",
       "      <td>Chrome</td>\n",
       "      <td>Adwords</td>\n",
       "      <td>/cancel</td>\n",
       "      <td>cancel</td>\n",
       "    </tr>\n",
       "    <tr>\n",
       "      <th>2</th>\n",
       "      <td>2410141</td>\n",
       "      <td>&lt;NA&gt;</td>\n",
       "      <td>3</td>\n",
       "      <td>1db57108-9f7b-4f01-958b-25bf889fb8ae</td>\n",
       "      <td>2023-09-19 13:32:00+00:00</td>\n",
       "      <td>82.148.109.205</td>\n",
       "      <td>São Paulo</td>\n",
       "      <td>São Paulo</td>\n",
       "      <td>02675-031</td>\n",
       "      <td>Chrome</td>\n",
       "      <td>Email</td>\n",
       "      <td>/cancel</td>\n",
       "      <td>cancel</td>\n",
       "    </tr>\n",
       "    <tr>\n",
       "      <th>3</th>\n",
       "      <td>1766424</td>\n",
       "      <td>&lt;NA&gt;</td>\n",
       "      <td>3</td>\n",
       "      <td>0faa70c0-df62-4715-8e53-1eb2e0cc764f</td>\n",
       "      <td>2019-06-25 10:27:00+00:00</td>\n",
       "      <td>165.75.201.178</td>\n",
       "      <td>São Paulo</td>\n",
       "      <td>São Paulo</td>\n",
       "      <td>02675-031</td>\n",
       "      <td>Chrome</td>\n",
       "      <td>Adwords</td>\n",
       "      <td>/cancel</td>\n",
       "      <td>cancel</td>\n",
       "    </tr>\n",
       "    <tr>\n",
       "      <th>4</th>\n",
       "      <td>1596633</td>\n",
       "      <td>&lt;NA&gt;</td>\n",
       "      <td>3</td>\n",
       "      <td>89832e89-4fa6-4708-8a49-e749faec0716</td>\n",
       "      <td>2021-10-13 02:16:00+00:00</td>\n",
       "      <td>168.40.8.25</td>\n",
       "      <td>São Paulo</td>\n",
       "      <td>São Paulo</td>\n",
       "      <td>02675-031</td>\n",
       "      <td>IE</td>\n",
       "      <td>Facebook</td>\n",
       "      <td>/cancel</td>\n",
       "      <td>cancel</td>\n",
       "    </tr>\n",
       "  </tbody>\n",
       "</table>\n",
       "</div>"
      ],
      "text/plain": [
       "        id  user_id  sequence_number                            session_id  \\\n",
       "0  1768375     <NA>                3  a324beda-59d6-4687-8611-dbab26de69e3   \n",
       "1  2107526     <NA>                3  68bad407-ca2b-4690-9578-ea68f300b66c   \n",
       "2  2410141     <NA>                3  1db57108-9f7b-4f01-958b-25bf889fb8ae   \n",
       "3  1766424     <NA>                3  0faa70c0-df62-4715-8e53-1eb2e0cc764f   \n",
       "4  1596633     <NA>                3  89832e89-4fa6-4708-8a49-e749faec0716   \n",
       "\n",
       "                 created_at       ip_address       city      state  \\\n",
       "0 2025-02-16 04:17:00+00:00    22.241.223.57  São Paulo  São Paulo   \n",
       "1 2021-10-27 18:18:00+00:00  212.158.246.198  São Paulo  São Paulo   \n",
       "2 2023-09-19 13:32:00+00:00   82.148.109.205  São Paulo  São Paulo   \n",
       "3 2019-06-25 10:27:00+00:00   165.75.201.178  São Paulo  São Paulo   \n",
       "4 2021-10-13 02:16:00+00:00      168.40.8.25  São Paulo  São Paulo   \n",
       "\n",
       "  postal_code browser traffic_source      uri event_type  \n",
       "0   02675-031  Safari          Email  /cancel     cancel  \n",
       "1   02675-031  Chrome        Adwords  /cancel     cancel  \n",
       "2   02675-031  Chrome          Email  /cancel     cancel  \n",
       "3   02675-031  Chrome        Adwords  /cancel     cancel  \n",
       "4   02675-031      IE       Facebook  /cancel     cancel  "
      ]
     },
     "execution_count": 8,
     "metadata": {},
     "output_type": "execute_result"
    }
   ],
   "source": [
    "events_df = thelook_dfs['events']\n",
    "events_df.head(5)"
   ]
  },
  {
   "cell_type": "markdown",
   "id": "d21d620d-942f-46b1-a625-bd2eee8d1919",
   "metadata": {},
   "source": [
    "**events_df dictionary**\n",
    "\n",
    "| Column Name       | Description                                                           |\n",
    "| ----------------- | --------------------------------------------------------------------- |\n",
    "| `id`              | Unique identifier for each event record                               |\n",
    "| `user_id`         | ID of the user associated with the event *(can be missing/anonymous)* |\n",
    "| `sequence_number` | Order of the event within a session (helps track user journey)        |\n",
    "| `session_id`      | Unique ID for the user session (used to group related events)         |\n",
    "| `created_at`      | Timestamp when the event occurred                                     |\n",
    "| `ip_address`      | User’s IP address at the time of the event                            |\n",
    "| `city`            | City of the user (inferred from IP)                                   |\n",
    "| `state`           | State of the user (inferred from IP)                                  |\n",
    "| `postal_code`     | Postal code of the user (inferred from IP)                            |\n",
    "| `browser`         | Browser used by the user (e.g., Chrome, Safari)                       |\n",
    "| `traffic_source`  | Source that led the user to the site (e.g., Organic, Email, Adwords)  |\n",
    "| `uri`             | Specific page or endpoint visited (e.g., `/cancel`)                   |\n",
    "| `event_type`      | Type of user action or event (e.g., `cancel`, `purchase`, `checkout`) |\n"
   ]
  },
  {
   "cell_type": "code",
   "execution_count": 9,
   "id": "7dde1b2c-52bc-442e-9692-fc01abd4d762",
   "metadata": {},
   "outputs": [
    {
     "data": {
      "text/html": [
       "<div>\n",
       "<style scoped>\n",
       "    .dataframe tbody tr th:only-of-type {\n",
       "        vertical-align: middle;\n",
       "    }\n",
       "\n",
       "    .dataframe tbody tr th {\n",
       "        vertical-align: top;\n",
       "    }\n",
       "\n",
       "    .dataframe thead th {\n",
       "        text-align: right;\n",
       "    }\n",
       "</style>\n",
       "<table border=\"1\" class=\"dataframe\">\n",
       "  <thead>\n",
       "    <tr style=\"text-align: right;\">\n",
       "      <th></th>\n",
       "      <th>id</th>\n",
       "      <th>product_id</th>\n",
       "      <th>created_at</th>\n",
       "      <th>sold_at</th>\n",
       "      <th>cost</th>\n",
       "      <th>product_category</th>\n",
       "      <th>product_name</th>\n",
       "      <th>product_brand</th>\n",
       "      <th>product_retail_price</th>\n",
       "      <th>product_department</th>\n",
       "      <th>product_sku</th>\n",
       "      <th>product_distribution_center_id</th>\n",
       "    </tr>\n",
       "  </thead>\n",
       "  <tbody>\n",
       "    <tr>\n",
       "      <th>0</th>\n",
       "      <td>123225</td>\n",
       "      <td>13844</td>\n",
       "      <td>2025-06-25 10:21:31+00:00</td>\n",
       "      <td>2025-08-18 08:55:31+00:00</td>\n",
       "      <td>2.76804</td>\n",
       "      <td>Accessories</td>\n",
       "      <td>(ONE) 1 Satin Headband</td>\n",
       "      <td>Funny Girl Designs</td>\n",
       "      <td>6.99</td>\n",
       "      <td>Women</td>\n",
       "      <td>2A3E953A5E3D81E67945BCE5519F84C8</td>\n",
       "      <td>7</td>\n",
       "    </tr>\n",
       "    <tr>\n",
       "      <th>1</th>\n",
       "      <td>123226</td>\n",
       "      <td>13844</td>\n",
       "      <td>2022-10-11 04:01:00+00:00</td>\n",
       "      <td>NaT</td>\n",
       "      <td>2.76804</td>\n",
       "      <td>Accessories</td>\n",
       "      <td>(ONE) 1 Satin Headband</td>\n",
       "      <td>Funny Girl Designs</td>\n",
       "      <td>6.99</td>\n",
       "      <td>Women</td>\n",
       "      <td>2A3E953A5E3D81E67945BCE5519F84C8</td>\n",
       "      <td>7</td>\n",
       "    </tr>\n",
       "    <tr>\n",
       "      <th>2</th>\n",
       "      <td>145275</td>\n",
       "      <td>13844</td>\n",
       "      <td>2024-01-12 09:46:25+00:00</td>\n",
       "      <td>2024-02-18 05:48:25+00:00</td>\n",
       "      <td>2.76804</td>\n",
       "      <td>Accessories</td>\n",
       "      <td>(ONE) 1 Satin Headband</td>\n",
       "      <td>Funny Girl Designs</td>\n",
       "      <td>6.99</td>\n",
       "      <td>Women</td>\n",
       "      <td>2A3E953A5E3D81E67945BCE5519F84C8</td>\n",
       "      <td>7</td>\n",
       "    </tr>\n",
       "    <tr>\n",
       "      <th>3</th>\n",
       "      <td>145276</td>\n",
       "      <td>13844</td>\n",
       "      <td>2022-05-17 04:16:00+00:00</td>\n",
       "      <td>NaT</td>\n",
       "      <td>2.76804</td>\n",
       "      <td>Accessories</td>\n",
       "      <td>(ONE) 1 Satin Headband</td>\n",
       "      <td>Funny Girl Designs</td>\n",
       "      <td>6.99</td>\n",
       "      <td>Women</td>\n",
       "      <td>2A3E953A5E3D81E67945BCE5519F84C8</td>\n",
       "      <td>7</td>\n",
       "    </tr>\n",
       "    <tr>\n",
       "      <th>4</th>\n",
       "      <td>145277</td>\n",
       "      <td>13844</td>\n",
       "      <td>2023-06-03 06:53:00+00:00</td>\n",
       "      <td>NaT</td>\n",
       "      <td>2.76804</td>\n",
       "      <td>Accessories</td>\n",
       "      <td>(ONE) 1 Satin Headband</td>\n",
       "      <td>Funny Girl Designs</td>\n",
       "      <td>6.99</td>\n",
       "      <td>Women</td>\n",
       "      <td>2A3E953A5E3D81E67945BCE5519F84C8</td>\n",
       "      <td>7</td>\n",
       "    </tr>\n",
       "  </tbody>\n",
       "</table>\n",
       "</div>"
      ],
      "text/plain": [
       "       id  product_id                created_at                   sold_at  \\\n",
       "0  123225       13844 2025-06-25 10:21:31+00:00 2025-08-18 08:55:31+00:00   \n",
       "1  123226       13844 2022-10-11 04:01:00+00:00                       NaT   \n",
       "2  145275       13844 2024-01-12 09:46:25+00:00 2024-02-18 05:48:25+00:00   \n",
       "3  145276       13844 2022-05-17 04:16:00+00:00                       NaT   \n",
       "4  145277       13844 2023-06-03 06:53:00+00:00                       NaT   \n",
       "\n",
       "      cost product_category            product_name       product_brand  \\\n",
       "0  2.76804      Accessories  (ONE) 1 Satin Headband  Funny Girl Designs   \n",
       "1  2.76804      Accessories  (ONE) 1 Satin Headband  Funny Girl Designs   \n",
       "2  2.76804      Accessories  (ONE) 1 Satin Headband  Funny Girl Designs   \n",
       "3  2.76804      Accessories  (ONE) 1 Satin Headband  Funny Girl Designs   \n",
       "4  2.76804      Accessories  (ONE) 1 Satin Headband  Funny Girl Designs   \n",
       "\n",
       "   product_retail_price product_department                       product_sku  \\\n",
       "0                  6.99              Women  2A3E953A5E3D81E67945BCE5519F84C8   \n",
       "1                  6.99              Women  2A3E953A5E3D81E67945BCE5519F84C8   \n",
       "2                  6.99              Women  2A3E953A5E3D81E67945BCE5519F84C8   \n",
       "3                  6.99              Women  2A3E953A5E3D81E67945BCE5519F84C8   \n",
       "4                  6.99              Women  2A3E953A5E3D81E67945BCE5519F84C8   \n",
       "\n",
       "   product_distribution_center_id  \n",
       "0                               7  \n",
       "1                               7  \n",
       "2                               7  \n",
       "3                               7  \n",
       "4                               7  "
      ]
     },
     "execution_count": 9,
     "metadata": {},
     "output_type": "execute_result"
    }
   ],
   "source": [
    "inventoryitems_df = thelook_dfs['inventory_items']\n",
    "inventoryitems_df.head()"
   ]
  },
  {
   "cell_type": "markdown",
   "id": "813295db-46d0-4e81-a71c-ba73b79bac1d",
   "metadata": {},
   "source": [
    "**inventoryitems_df dictionary**\n",
    "\n",
    "| Column Name                      | Description                                                                                                 |\n",
    "| -------------------------------- | ----------------------------------------------------------------------------------------------------------- |\n",
    "| `id`                             | Unique identifier for each inventory record                                                                 |\n",
    "| `product_id`                     | ID of the product listed in the inventory                                                                   |\n",
    "| `created_at`                     | Timestamp when the product was added to inventory                                                           |\n",
    "| `sold_at`                        | Timestamp when the product was sold (null if unsold)                                                        |\n",
    "| `cost`                           | Cost to the business for this unit (wholesale price)                                                        |\n",
    "| `product_category`               | Category label for the product (e.g., *Jumpsuits & Rompers*)                                                |\n",
    "| `product_name`                   | Full name or title of the product                                                                           |\n",
    "| `product_brand`                  | Brand/manufacturer of the product                                                                           |\n",
    "| `product_retail_price`           | Suggested retail price or sale price to customer                                                            |\n",
    "| `product_department`             | Department the product belongs to (e.g., *Women*)                                                           |\n",
    "| `product_sku`                    | Unique stock keeping unit (SKU) for inventory tracking                                                      |\n",
    "| `product_distribution_center_id` | Foreign key linking to the distribution center where the item is stocked (join with `distribution_centers`) |\n"
   ]
  },
  {
   "cell_type": "code",
   "execution_count": 10,
   "id": "230f0f60-f813-446b-8819-d3601e53a44c",
   "metadata": {},
   "outputs": [
    {
     "data": {
      "text/html": [
       "<div>\n",
       "<style scoped>\n",
       "    .dataframe tbody tr th:only-of-type {\n",
       "        vertical-align: middle;\n",
       "    }\n",
       "\n",
       "    .dataframe tbody tr th {\n",
       "        vertical-align: top;\n",
       "    }\n",
       "\n",
       "    .dataframe thead th {\n",
       "        text-align: right;\n",
       "    }\n",
       "</style>\n",
       "<table border=\"1\" class=\"dataframe\">\n",
       "  <thead>\n",
       "    <tr style=\"text-align: right;\">\n",
       "      <th></th>\n",
       "      <th>id</th>\n",
       "      <th>order_id</th>\n",
       "      <th>user_id</th>\n",
       "      <th>product_id</th>\n",
       "      <th>inventory_item_id</th>\n",
       "      <th>status</th>\n",
       "      <th>created_at</th>\n",
       "      <th>shipped_at</th>\n",
       "      <th>delivered_at</th>\n",
       "      <th>returned_at</th>\n",
       "      <th>sale_price</th>\n",
       "    </tr>\n",
       "  </thead>\n",
       "  <tbody>\n",
       "    <tr>\n",
       "      <th>0</th>\n",
       "      <td>6912</td>\n",
       "      <td>4747</td>\n",
       "      <td>3818</td>\n",
       "      <td>14235</td>\n",
       "      <td>18655</td>\n",
       "      <td>Cancelled</td>\n",
       "      <td>2020-05-27 00:41:11+00:00</td>\n",
       "      <td>NaT</td>\n",
       "      <td>NaT</td>\n",
       "      <td>NaT</td>\n",
       "      <td>0.02</td>\n",
       "    </tr>\n",
       "    <tr>\n",
       "      <th>1</th>\n",
       "      <td>2231</td>\n",
       "      <td>1504</td>\n",
       "      <td>1238</td>\n",
       "      <td>14235</td>\n",
       "      <td>6047</td>\n",
       "      <td>Complete</td>\n",
       "      <td>2024-11-27 10:36:51+00:00</td>\n",
       "      <td>2024-11-29 06:00:00+00:00</td>\n",
       "      <td>2024-12-03 17:47:00+00:00</td>\n",
       "      <td>NaT</td>\n",
       "      <td>0.02</td>\n",
       "    </tr>\n",
       "    <tr>\n",
       "      <th>2</th>\n",
       "      <td>45909</td>\n",
       "      <td>31740</td>\n",
       "      <td>25455</td>\n",
       "      <td>14235</td>\n",
       "      <td>123883</td>\n",
       "      <td>Complete</td>\n",
       "      <td>2023-12-14 10:16:11+00:00</td>\n",
       "      <td>2023-12-16 06:05:00+00:00</td>\n",
       "      <td>2023-12-17 15:34:00+00:00</td>\n",
       "      <td>NaT</td>\n",
       "      <td>0.02</td>\n",
       "    </tr>\n",
       "    <tr>\n",
       "      <th>3</th>\n",
       "      <td>50508</td>\n",
       "      <td>34923</td>\n",
       "      <td>27964</td>\n",
       "      <td>14235</td>\n",
       "      <td>136259</td>\n",
       "      <td>Complete</td>\n",
       "      <td>2025-09-02 01:26:53.810263+00:00</td>\n",
       "      <td>2025-09-03 19:06:57.810263+00:00</td>\n",
       "      <td>2025-09-08 00:09:57.810263+00:00</td>\n",
       "      <td>NaT</td>\n",
       "      <td>0.02</td>\n",
       "    </tr>\n",
       "    <tr>\n",
       "      <th>4</th>\n",
       "      <td>73786</td>\n",
       "      <td>51039</td>\n",
       "      <td>40859</td>\n",
       "      <td>14235</td>\n",
       "      <td>199174</td>\n",
       "      <td>Complete</td>\n",
       "      <td>2025-03-18 12:34:15+00:00</td>\n",
       "      <td>2025-03-19 06:42:00+00:00</td>\n",
       "      <td>2025-03-23 22:15:00+00:00</td>\n",
       "      <td>NaT</td>\n",
       "      <td>0.02</td>\n",
       "    </tr>\n",
       "  </tbody>\n",
       "</table>\n",
       "</div>"
      ],
      "text/plain": [
       "      id  order_id  user_id  product_id  inventory_item_id     status  \\\n",
       "0   6912      4747     3818       14235              18655  Cancelled   \n",
       "1   2231      1504     1238       14235               6047   Complete   \n",
       "2  45909     31740    25455       14235             123883   Complete   \n",
       "3  50508     34923    27964       14235             136259   Complete   \n",
       "4  73786     51039    40859       14235             199174   Complete   \n",
       "\n",
       "                        created_at                       shipped_at  \\\n",
       "0        2020-05-27 00:41:11+00:00                              NaT   \n",
       "1        2024-11-27 10:36:51+00:00        2024-11-29 06:00:00+00:00   \n",
       "2        2023-12-14 10:16:11+00:00        2023-12-16 06:05:00+00:00   \n",
       "3 2025-09-02 01:26:53.810263+00:00 2025-09-03 19:06:57.810263+00:00   \n",
       "4        2025-03-18 12:34:15+00:00        2025-03-19 06:42:00+00:00   \n",
       "\n",
       "                      delivered_at returned_at  sale_price  \n",
       "0                              NaT         NaT        0.02  \n",
       "1        2024-12-03 17:47:00+00:00         NaT        0.02  \n",
       "2        2023-12-17 15:34:00+00:00         NaT        0.02  \n",
       "3 2025-09-08 00:09:57.810263+00:00         NaT        0.02  \n",
       "4        2025-03-23 22:15:00+00:00         NaT        0.02  "
      ]
     },
     "execution_count": 10,
     "metadata": {},
     "output_type": "execute_result"
    }
   ],
   "source": [
    "orderitems_df = thelook_dfs['order_items']\n",
    "orderitems_df.head(5)"
   ]
  },
  {
   "cell_type": "markdown",
   "id": "49095e9a-319e-4de7-96e8-1ca5e2d04d74",
   "metadata": {},
   "source": [
    "**orderitems_df**\n",
    "\n",
    "| Column Name         | Description                                                                    |\n",
    "| ------------------- | ------------------------------------------------------------------------------ |\n",
    "| `id`                | Unique identifier for each order item (line item)                              |\n",
    "| `order_id`          | Foreign key referencing the `orders` table (represents the main order)         |\n",
    "| `user_id`           | ID of the customer who placed the order                                        |\n",
    "| `product_id`        | ID of the product ordered (from `products` or `inventories` table)             |\n",
    "| `inventory_item_id` | Foreign key linking to the specific item in the inventory (from `inventories`) |\n",
    "| `status`            | Status of the item within the order: `Complete`, `Cancelled`, etc.             |\n",
    "| `created_at`        | Timestamp when the item was added to the order                                 |\n",
    "| `shipped_at`        | Timestamp when the item was shipped                                            |\n",
    "| `delivered_at`      | Timestamp when the item was delivered                                          |\n",
    "| `returned_at`       | Timestamp if the item was returned                                             |\n",
    "| `sale_price`        | Price at which the item was sold to the customer                               |\n"
   ]
  },
  {
   "cell_type": "code",
   "execution_count": 11,
   "id": "b9e69d41-2a17-45a8-a168-c06267cfff89",
   "metadata": {},
   "outputs": [
    {
     "data": {
      "text/html": [
       "<div>\n",
       "<style scoped>\n",
       "    .dataframe tbody tr th:only-of-type {\n",
       "        vertical-align: middle;\n",
       "    }\n",
       "\n",
       "    .dataframe tbody tr th {\n",
       "        vertical-align: top;\n",
       "    }\n",
       "\n",
       "    .dataframe thead th {\n",
       "        text-align: right;\n",
       "    }\n",
       "</style>\n",
       "<table border=\"1\" class=\"dataframe\">\n",
       "  <thead>\n",
       "    <tr style=\"text-align: right;\">\n",
       "      <th></th>\n",
       "      <th>id</th>\n",
       "      <th>cost</th>\n",
       "      <th>category</th>\n",
       "      <th>name</th>\n",
       "      <th>brand</th>\n",
       "      <th>retail_price</th>\n",
       "      <th>department</th>\n",
       "      <th>sku</th>\n",
       "      <th>distribution_center_id</th>\n",
       "    </tr>\n",
       "  </thead>\n",
       "  <tbody>\n",
       "    <tr>\n",
       "      <th>0</th>\n",
       "      <td>13842</td>\n",
       "      <td>2.51875</td>\n",
       "      <td>Accessories</td>\n",
       "      <td>Low Profile Dyed Cotton Twill Cap - Navy W39S55D</td>\n",
       "      <td>MG</td>\n",
       "      <td>6.25</td>\n",
       "      <td>Women</td>\n",
       "      <td>EBD58B8A3F1D72F4206201DA62FB1204</td>\n",
       "      <td>1</td>\n",
       "    </tr>\n",
       "    <tr>\n",
       "      <th>1</th>\n",
       "      <td>13928</td>\n",
       "      <td>2.33835</td>\n",
       "      <td>Accessories</td>\n",
       "      <td>Low Profile Dyed Cotton Twill Cap - Putty W39S55D</td>\n",
       "      <td>MG</td>\n",
       "      <td>5.95</td>\n",
       "      <td>Women</td>\n",
       "      <td>2EAC42424D12436BDD6A5B8A88480CC3</td>\n",
       "      <td>1</td>\n",
       "    </tr>\n",
       "    <tr>\n",
       "      <th>2</th>\n",
       "      <td>14115</td>\n",
       "      <td>4.87956</td>\n",
       "      <td>Accessories</td>\n",
       "      <td>Enzyme Regular Solid Army Caps-Black W35S45D</td>\n",
       "      <td>MG</td>\n",
       "      <td>10.99</td>\n",
       "      <td>Women</td>\n",
       "      <td>EE364229B2791D1EF9355708EFF0BA34</td>\n",
       "      <td>1</td>\n",
       "    </tr>\n",
       "    <tr>\n",
       "      <th>3</th>\n",
       "      <td>14157</td>\n",
       "      <td>4.64877</td>\n",
       "      <td>Accessories</td>\n",
       "      <td>Enzyme Regular Solid Army Caps-Olive W35S45D (...</td>\n",
       "      <td>MG</td>\n",
       "      <td>10.99</td>\n",
       "      <td>Women</td>\n",
       "      <td>00BD13095D06C20B11A2993CA419D16B</td>\n",
       "      <td>1</td>\n",
       "    </tr>\n",
       "    <tr>\n",
       "      <th>4</th>\n",
       "      <td>14273</td>\n",
       "      <td>6.50793</td>\n",
       "      <td>Accessories</td>\n",
       "      <td>Washed Canvas Ivy Cap - Black W11S64C</td>\n",
       "      <td>MG</td>\n",
       "      <td>15.99</td>\n",
       "      <td>Women</td>\n",
       "      <td>F531DC20FDE20B7ADF3A73F52B71D0AF</td>\n",
       "      <td>1</td>\n",
       "    </tr>\n",
       "  </tbody>\n",
       "</table>\n",
       "</div>"
      ],
      "text/plain": [
       "      id     cost     category  \\\n",
       "0  13842  2.51875  Accessories   \n",
       "1  13928  2.33835  Accessories   \n",
       "2  14115  4.87956  Accessories   \n",
       "3  14157  4.64877  Accessories   \n",
       "4  14273  6.50793  Accessories   \n",
       "\n",
       "                                                name brand  retail_price  \\\n",
       "0   Low Profile Dyed Cotton Twill Cap - Navy W39S55D    MG          6.25   \n",
       "1  Low Profile Dyed Cotton Twill Cap - Putty W39S55D    MG          5.95   \n",
       "2       Enzyme Regular Solid Army Caps-Black W35S45D    MG         10.99   \n",
       "3  Enzyme Regular Solid Army Caps-Olive W35S45D (...    MG         10.99   \n",
       "4              Washed Canvas Ivy Cap - Black W11S64C    MG         15.99   \n",
       "\n",
       "  department                               sku  distribution_center_id  \n",
       "0      Women  EBD58B8A3F1D72F4206201DA62FB1204                       1  \n",
       "1      Women  2EAC42424D12436BDD6A5B8A88480CC3                       1  \n",
       "2      Women  EE364229B2791D1EF9355708EFF0BA34                       1  \n",
       "3      Women  00BD13095D06C20B11A2993CA419D16B                       1  \n",
       "4      Women  F531DC20FDE20B7ADF3A73F52B71D0AF                       1  "
      ]
     },
     "execution_count": 11,
     "metadata": {},
     "output_type": "execute_result"
    }
   ],
   "source": [
    "products_df = thelook_dfs['products']\n",
    "products_df.head(5)"
   ]
  },
  {
   "cell_type": "markdown",
   "id": "232beb8f-857e-4de5-a0bf-0dd41fa25672",
   "metadata": {},
   "source": [
    "**products_df**\n",
    "\n",
    "| Column Name              | Description                                                                                                      |\n",
    "| ------------------------ | ---------------------------------------------------------------------------------------------------------------- |\n",
    "| `id`                     | Unique product ID                                                                                                |\n",
    "| `cost`                   | Internal cost of the product for the retailer                                                                    |\n",
    "| `category`               | Product category (e.g., Accessories, Tops, Shoes)                                                                |\n",
    "| `name`                   | Full name or description of the product                                                                          |\n",
    "| `brand`                  | Brand or manufacturer of the product                                                                             |\n",
    "| `retail_price`           | Recommended retail price for the product                                                                         |\n",
    "| `department`             | Department the product belongs to (e.g., Women, Men, Kids)                                                       |\n",
    "| `sku`                    | Stock Keeping Unit: unique code used to identify and track inventory                                             |\n",
    "| `distribution_center_id` | Foreign key linking to the `distribution_centers` table, indicating where the product is stocked or shipped from |\n"
   ]
  },
  {
   "cell_type": "code",
   "execution_count": 12,
   "id": "80a08e65-8c2b-4e18-8baa-ede2a2ea97a7",
   "metadata": {},
   "outputs": [
    {
     "data": {
      "text/html": [
       "<div>\n",
       "<style scoped>\n",
       "    .dataframe tbody tr th:only-of-type {\n",
       "        vertical-align: middle;\n",
       "    }\n",
       "\n",
       "    .dataframe tbody tr th {\n",
       "        vertical-align: top;\n",
       "    }\n",
       "\n",
       "    .dataframe thead th {\n",
       "        text-align: right;\n",
       "    }\n",
       "</style>\n",
       "<table border=\"1\" class=\"dataframe\">\n",
       "  <thead>\n",
       "    <tr style=\"text-align: right;\">\n",
       "      <th></th>\n",
       "      <th>id</th>\n",
       "      <th>first_name</th>\n",
       "      <th>last_name</th>\n",
       "      <th>email</th>\n",
       "      <th>age</th>\n",
       "      <th>gender</th>\n",
       "      <th>state</th>\n",
       "      <th>street_address</th>\n",
       "      <th>postal_code</th>\n",
       "      <th>city</th>\n",
       "      <th>country</th>\n",
       "      <th>latitude</th>\n",
       "      <th>longitude</th>\n",
       "      <th>traffic_source</th>\n",
       "      <th>created_at</th>\n",
       "      <th>user_geom</th>\n",
       "    </tr>\n",
       "  </thead>\n",
       "  <tbody>\n",
       "    <tr>\n",
       "      <th>0</th>\n",
       "      <td>90474</td>\n",
       "      <td>Jessica</td>\n",
       "      <td>Ortega</td>\n",
       "      <td>jessicaortega@example.com</td>\n",
       "      <td>55</td>\n",
       "      <td>F</td>\n",
       "      <td>Acre</td>\n",
       "      <td>20560 Lewis Falls Suite 832</td>\n",
       "      <td>69980-000</td>\n",
       "      <td>null</td>\n",
       "      <td>Brasil</td>\n",
       "      <td>-8.065346</td>\n",
       "      <td>-72.870949</td>\n",
       "      <td>Display</td>\n",
       "      <td>2025-07-05 12:22:00+00:00</td>\n",
       "      <td>POINT(-72.87094866 -8.065346116)</td>\n",
       "    </tr>\n",
       "    <tr>\n",
       "      <th>1</th>\n",
       "      <td>10042</td>\n",
       "      <td>Andrew</td>\n",
       "      <td>Wood</td>\n",
       "      <td>andrewwood@example.net</td>\n",
       "      <td>15</td>\n",
       "      <td>M</td>\n",
       "      <td>Acre</td>\n",
       "      <td>737 Brian Drive Suite 379</td>\n",
       "      <td>69980-000</td>\n",
       "      <td>null</td>\n",
       "      <td>Brasil</td>\n",
       "      <td>-8.065346</td>\n",
       "      <td>-72.870949</td>\n",
       "      <td>Organic</td>\n",
       "      <td>2019-03-12 11:47:00+00:00</td>\n",
       "      <td>POINT(-72.87094866 -8.065346116)</td>\n",
       "    </tr>\n",
       "    <tr>\n",
       "      <th>2</th>\n",
       "      <td>12183</td>\n",
       "      <td>Gregory</td>\n",
       "      <td>Hoffman</td>\n",
       "      <td>gregoryhoffman@example.net</td>\n",
       "      <td>52</td>\n",
       "      <td>M</td>\n",
       "      <td>Acre</td>\n",
       "      <td>47814 David Manors</td>\n",
       "      <td>69980-000</td>\n",
       "      <td>null</td>\n",
       "      <td>Brasil</td>\n",
       "      <td>-8.065346</td>\n",
       "      <td>-72.870949</td>\n",
       "      <td>Organic</td>\n",
       "      <td>2020-01-05 09:13:00+00:00</td>\n",
       "      <td>POINT(-72.87094866 -8.065346116)</td>\n",
       "    </tr>\n",
       "    <tr>\n",
       "      <th>3</th>\n",
       "      <td>35342</td>\n",
       "      <td>Jason</td>\n",
       "      <td>Casey</td>\n",
       "      <td>jasoncasey@example.net</td>\n",
       "      <td>63</td>\n",
       "      <td>M</td>\n",
       "      <td>Acre</td>\n",
       "      <td>1941 Hernandez Pine</td>\n",
       "      <td>69980-000</td>\n",
       "      <td>null</td>\n",
       "      <td>Brasil</td>\n",
       "      <td>-8.065346</td>\n",
       "      <td>-72.870949</td>\n",
       "      <td>Facebook</td>\n",
       "      <td>2020-01-17 12:02:00+00:00</td>\n",
       "      <td>POINT(-72.87094866 -8.065346116)</td>\n",
       "    </tr>\n",
       "    <tr>\n",
       "      <th>4</th>\n",
       "      <td>7453</td>\n",
       "      <td>Bryan</td>\n",
       "      <td>Benson</td>\n",
       "      <td>bryanbenson@example.org</td>\n",
       "      <td>59</td>\n",
       "      <td>M</td>\n",
       "      <td>Acre</td>\n",
       "      <td>9324 Shaffer Ways Apt. 637</td>\n",
       "      <td>69980-000</td>\n",
       "      <td>null</td>\n",
       "      <td>Brasil</td>\n",
       "      <td>-8.065346</td>\n",
       "      <td>-72.870949</td>\n",
       "      <td>Search</td>\n",
       "      <td>2022-08-01 04:36:00+00:00</td>\n",
       "      <td>POINT(-72.87094866 -8.065346116)</td>\n",
       "    </tr>\n",
       "  </tbody>\n",
       "</table>\n",
       "</div>"
      ],
      "text/plain": [
       "      id first_name last_name                       email  age gender state  \\\n",
       "0  90474    Jessica    Ortega   jessicaortega@example.com   55      F  Acre   \n",
       "1  10042     Andrew      Wood      andrewwood@example.net   15      M  Acre   \n",
       "2  12183    Gregory   Hoffman  gregoryhoffman@example.net   52      M  Acre   \n",
       "3  35342      Jason     Casey      jasoncasey@example.net   63      M  Acre   \n",
       "4   7453      Bryan    Benson     bryanbenson@example.org   59      M  Acre   \n",
       "\n",
       "                street_address postal_code  city country  latitude  longitude  \\\n",
       "0  20560 Lewis Falls Suite 832   69980-000  null  Brasil -8.065346 -72.870949   \n",
       "1    737 Brian Drive Suite 379   69980-000  null  Brasil -8.065346 -72.870949   \n",
       "2           47814 David Manors   69980-000  null  Brasil -8.065346 -72.870949   \n",
       "3          1941 Hernandez Pine   69980-000  null  Brasil -8.065346 -72.870949   \n",
       "4   9324 Shaffer Ways Apt. 637   69980-000  null  Brasil -8.065346 -72.870949   \n",
       "\n",
       "  traffic_source                created_at                         user_geom  \n",
       "0        Display 2025-07-05 12:22:00+00:00  POINT(-72.87094866 -8.065346116)  \n",
       "1        Organic 2019-03-12 11:47:00+00:00  POINT(-72.87094866 -8.065346116)  \n",
       "2        Organic 2020-01-05 09:13:00+00:00  POINT(-72.87094866 -8.065346116)  \n",
       "3       Facebook 2020-01-17 12:02:00+00:00  POINT(-72.87094866 -8.065346116)  \n",
       "4         Search 2022-08-01 04:36:00+00:00  POINT(-72.87094866 -8.065346116)  "
      ]
     },
     "execution_count": 12,
     "metadata": {},
     "output_type": "execute_result"
    }
   ],
   "source": [
    "users_df = thelook_dfs['users']\n",
    "users_df.head(5)"
   ]
  },
  {
   "cell_type": "markdown",
   "id": "b3f64b63-38f9-47f5-825e-214bff68e0c1",
   "metadata": {},
   "source": [
    "**users_df dictionary**\n",
    "\n",
    "  | Column Name      | Description                                                                                |\n",
    "| ---------------- | ------------------------------------------------------------------------------------------ |\n",
    "| `id`             | Unique identifier for the user (primary key)                                               |\n",
    "| `first_name`     | User's first name                                                                          |\n",
    "| `last_name`      | User's last name                                                                           |\n",
    "| `email`          | User's email address                                                                       |\n",
    "| `age`            | Age of the user                                                                            |\n",
    "| `gender`         | Gender of the user (`M`, `F`, or other)                                                    |\n",
    "| `state`          | State of residence (e.g., Acre)                                                            |\n",
    "| `street_address` | Full street address of the user                                                            |\n",
    "| `postal_code`    | Postal or ZIP code                                                                         |\n",
    "| `city`           | City (some entries may be `null`)                                                          |\n",
    "| `country`        | Country of residence (e.g., Brasil)                                                        |\n",
    "| `latitude`       | Latitude coordinate of the user's address                                                  |\n",
    "| `longitude`      | Longitude coordinate of the user's address                                                 |\n",
    "| `traffic_source` | Original acquisition source (e.g., Facebook, Email, Search, Organic)                       |\n",
    "| `created_at`     | Timestamp of when the user was created in the system                                       |\n",
    "| `user_geom`      | Spatial data point combining `longitude` and `latitude` (for mapping and geospatial joins) |\n"
   ]
  },
  {
   "cell_type": "markdown",
   "id": "eb2a4e11-0b9d-4604-af17-9f7821da02a6",
   "metadata": {},
   "source": [
    "### Data Cleaning & Exploration"
   ]
  },
  {
   "cell_type": "markdown",
   "id": "6ef16a7f-4d77-4017-8701-eb6c8a834ffe",
   "metadata": {},
   "source": [
    "#### orders_df"
   ]
  },
  {
   "cell_type": "code",
   "execution_count": 13,
   "id": "99e8a6ad-7292-46dd-8f83-fa7fc0677b01",
   "metadata": {},
   "outputs": [
    {
     "data": {
      "text/plain": [
       "(125019, 9)"
      ]
     },
     "execution_count": 13,
     "metadata": {},
     "output_type": "execute_result"
    }
   ],
   "source": [
    "# number of colums\n",
    "orders_df.shape"
   ]
  },
  {
   "cell_type": "code",
   "execution_count": 14,
   "id": "894c6535-6cd0-4cc1-ba78-1f0ae25ae297",
   "metadata": {},
   "outputs": [
    {
     "name": "stdout",
     "output_type": "stream",
     "text": [
      "<class 'pandas.core.frame.DataFrame'>\n",
      "RangeIndex: 125019 entries, 0 to 125018\n",
      "Data columns (total 9 columns):\n",
      " #   Column        Non-Null Count   Dtype              \n",
      "---  ------        --------------   -----              \n",
      " 0   order_id      125019 non-null  Int64              \n",
      " 1   user_id       125019 non-null  Int64              \n",
      " 2   status        125019 non-null  object             \n",
      " 3   gender        125019 non-null  object             \n",
      " 4   created_at    125019 non-null  datetime64[us, UTC]\n",
      " 5   returned_at   12521 non-null   datetime64[us, UTC]\n",
      " 6   shipped_at    81169 non-null   datetime64[us, UTC]\n",
      " 7   delivered_at  43642 non-null   datetime64[us, UTC]\n",
      " 8   num_of_item   125019 non-null  Int64              \n",
      "dtypes: Int64(3), datetime64[us, UTC](4), object(2)\n",
      "memory usage: 8.9+ MB\n"
     ]
    }
   ],
   "source": [
    "# Check data type of the orders_df\n",
    "\n",
    "orders_df.info()"
   ]
  },
  {
   "cell_type": "code",
   "execution_count": 15,
   "id": "1a7c77a2-17ab-4200-9b94-d60ccaaf7ec3",
   "metadata": {},
   "outputs": [
    {
     "data": {
      "text/plain": [
       "order_id             0\n",
       "user_id              0\n",
       "status               0\n",
       "gender               0\n",
       "created_at           0\n",
       "returned_at     112498\n",
       "shipped_at       43850\n",
       "delivered_at     81377\n",
       "num_of_item          0\n",
       "dtype: int64"
      ]
     },
     "execution_count": 15,
     "metadata": {},
     "output_type": "execute_result"
    }
   ],
   "source": [
    "# Check for null values\n",
    "\n",
    "orders_df.isnull().sum()"
   ]
  },
  {
   "cell_type": "code",
   "execution_count": 16,
   "id": "dec1036f-da73-49ea-922e-595b75b77b89",
   "metadata": {},
   "outputs": [
    {
     "data": {
      "text/plain": [
       "array(['Cancelled', 'Complete', 'Processing', 'Returned', 'Shipped'],\n",
       "      dtype=object)"
      ]
     },
     "execution_count": 16,
     "metadata": {},
     "output_type": "execute_result"
    }
   ],
   "source": [
    "orders_df['status'].unique()"
   ]
  },
  {
   "cell_type": "code",
   "execution_count": 17,
   "id": "ef2cd9cf-e0b0-4b03-a3b2-3f059346909f",
   "metadata": {},
   "outputs": [
    {
     "data": {
      "text/plain": [
       "status\n",
       "Shipped       0.300170\n",
       "Complete      0.248930\n",
       "Processing    0.201201\n",
       "Cancelled     0.149545\n",
       "Returned      0.100153\n",
       "Name: proportion, dtype: float64"
      ]
     },
     "execution_count": 17,
     "metadata": {},
     "output_type": "execute_result"
    }
   ],
   "source": [
    "orders_df['status'].value_counts(normalize = True)"
   ]
  },
  {
   "cell_type": "code",
   "execution_count": 18,
   "id": "f9acb9b7-ae57-486a-88a6-f7e66d18e8fe",
   "metadata": {},
   "outputs": [
    {
     "data": {
      "text/plain": [
       "gender\n",
       "M    0.5031\n",
       "F    0.4969\n",
       "Name: proportion, dtype: float64"
      ]
     },
     "execution_count": 18,
     "metadata": {},
     "output_type": "execute_result"
    }
   ],
   "source": [
    "# unique values and proportion of items in gender\n",
    "\n",
    "orders_df['gender'].value_counts(normalize = True)"
   ]
  },
  {
   "cell_type": "code",
   "execution_count": 19,
   "id": "4959c9c8-8021-4475-97c9-342e84db1da8",
   "metadata": {},
   "outputs": [
    {
     "data": {
      "text/html": [
       "<div>\n",
       "<style scoped>\n",
       "    .dataframe tbody tr th:only-of-type {\n",
       "        vertical-align: middle;\n",
       "    }\n",
       "\n",
       "    .dataframe tbody tr th {\n",
       "        vertical-align: top;\n",
       "    }\n",
       "\n",
       "    .dataframe thead th {\n",
       "        text-align: right;\n",
       "    }\n",
       "</style>\n",
       "<table border=\"1\" class=\"dataframe\">\n",
       "  <thead>\n",
       "    <tr style=\"text-align: right;\">\n",
       "      <th></th>\n",
       "      <th>order_id</th>\n",
       "      <th>user_id</th>\n",
       "      <th>num_of_item</th>\n",
       "    </tr>\n",
       "  </thead>\n",
       "  <tbody>\n",
       "    <tr>\n",
       "      <th>count</th>\n",
       "      <td>125019.0</td>\n",
       "      <td>125019.0</td>\n",
       "      <td>125019.0</td>\n",
       "    </tr>\n",
       "    <tr>\n",
       "      <th>mean</th>\n",
       "      <td>62510.0</td>\n",
       "      <td>50033.991889</td>\n",
       "      <td>1.4443</td>\n",
       "    </tr>\n",
       "    <tr>\n",
       "      <th>std</th>\n",
       "      <td>36090.020989</td>\n",
       "      <td>28839.20153</td>\n",
       "      <td>0.798265</td>\n",
       "    </tr>\n",
       "    <tr>\n",
       "      <th>min</th>\n",
       "      <td>1.0</td>\n",
       "      <td>1.0</td>\n",
       "      <td>1.0</td>\n",
       "    </tr>\n",
       "    <tr>\n",
       "      <th>25%</th>\n",
       "      <td>31255.5</td>\n",
       "      <td>25059.5</td>\n",
       "      <td>1.0</td>\n",
       "    </tr>\n",
       "    <tr>\n",
       "      <th>50%</th>\n",
       "      <td>62510.0</td>\n",
       "      <td>50177.0</td>\n",
       "      <td>1.0</td>\n",
       "    </tr>\n",
       "    <tr>\n",
       "      <th>75%</th>\n",
       "      <td>93764.5</td>\n",
       "      <td>74960.5</td>\n",
       "      <td>2.0</td>\n",
       "    </tr>\n",
       "    <tr>\n",
       "      <th>max</th>\n",
       "      <td>125019.0</td>\n",
       "      <td>100000.0</td>\n",
       "      <td>4.0</td>\n",
       "    </tr>\n",
       "  </tbody>\n",
       "</table>\n",
       "</div>"
      ],
      "text/plain": [
       "           order_id       user_id  num_of_item\n",
       "count      125019.0      125019.0     125019.0\n",
       "mean        62510.0  50033.991889       1.4443\n",
       "std    36090.020989   28839.20153     0.798265\n",
       "min             1.0           1.0          1.0\n",
       "25%         31255.5       25059.5          1.0\n",
       "50%         62510.0       50177.0          1.0\n",
       "75%         93764.5       74960.5          2.0\n",
       "max        125019.0      100000.0          4.0"
      ]
     },
     "execution_count": 19,
     "metadata": {},
     "output_type": "execute_result"
    }
   ],
   "source": [
    "orders_df.describe()"
   ]
  },
  {
   "cell_type": "markdown",
   "id": "68e3c303-3d3b-4e91-9acd-9a8467f4903d",
   "metadata": {},
   "source": [
    "**distribution_df (Distribution center)**"
   ]
  },
  {
   "cell_type": "markdown",
   "id": "d15fb16b-1018-4783-9d74-a62f868742c0",
   "metadata": {},
   "source": [
    "**Null values interpretation**\n",
    "\n",
    "The order_df has 112122 null valued for returned_at, this indicates that 112122 were not returned, 43852 were never shipped, and 81210 has no delivery time, perhaps because they were never delivered. This could include:\n",
    "\n",
    "- Orders that were cancelled before delivery.\n",
    "\n",
    "- Orders that are still in transit.\n",
    "\n",
    "- Orders that were lost or failed delivery.\n",
    "\n",
    "**Status Value counts**\n",
    "\n",
    "About 29.85% of orders were shipped but not yet marked as delivered, 25.14 were succesfully delivered, 19.92 % are currenly been processed, 15.11 % were cancelled before completion and 9.96 orders were delivered by returned by customers. \n",
    "\n",
    "**Gender**\n",
    "\n",
    "`50.06` % of customers are Male and  `49.93` are female\n",
    "\n",
    "**.decribe**\n",
    "\n",
    "50% media of all orders contain 1 item and 75% of order contain 2 items and the maximum number of items ordered in a single order is 4"
   ]
  },
  {
   "cell_type": "code",
   "execution_count": 20,
   "id": "3a6a0eb0-a302-44c9-8411-f88268e83eb4",
   "metadata": {},
   "outputs": [
    {
     "data": {
      "text/html": [
       "<div>\n",
       "<style scoped>\n",
       "    .dataframe tbody tr th:only-of-type {\n",
       "        vertical-align: middle;\n",
       "    }\n",
       "\n",
       "    .dataframe tbody tr th {\n",
       "        vertical-align: top;\n",
       "    }\n",
       "\n",
       "    .dataframe thead th {\n",
       "        text-align: right;\n",
       "    }\n",
       "</style>\n",
       "<table border=\"1\" class=\"dataframe\">\n",
       "  <thead>\n",
       "    <tr style=\"text-align: right;\">\n",
       "      <th></th>\n",
       "      <th>id</th>\n",
       "      <th>name</th>\n",
       "      <th>latitude</th>\n",
       "      <th>longitude</th>\n",
       "      <th>distribution_center_geom</th>\n",
       "    </tr>\n",
       "  </thead>\n",
       "  <tbody>\n",
       "    <tr>\n",
       "      <th>0</th>\n",
       "      <td>9</td>\n",
       "      <td>Charleston SC</td>\n",
       "      <td>32.7833</td>\n",
       "      <td>-79.9333</td>\n",
       "      <td>POINT(-79.9333 32.7833)</td>\n",
       "    </tr>\n",
       "    <tr>\n",
       "      <th>1</th>\n",
       "      <td>5</td>\n",
       "      <td>New Orleans LA</td>\n",
       "      <td>29.9500</td>\n",
       "      <td>-90.0667</td>\n",
       "      <td>POINT(-90.0667 29.95)</td>\n",
       "    </tr>\n",
       "    <tr>\n",
       "      <th>2</th>\n",
       "      <td>10</td>\n",
       "      <td>Savannah GA</td>\n",
       "      <td>32.0167</td>\n",
       "      <td>-81.1167</td>\n",
       "      <td>POINT(-81.1167 32.0167)</td>\n",
       "    </tr>\n",
       "    <tr>\n",
       "      <th>3</th>\n",
       "      <td>1</td>\n",
       "      <td>Memphis TN</td>\n",
       "      <td>35.1174</td>\n",
       "      <td>-89.9711</td>\n",
       "      <td>POINT(-89.9711 35.1174)</td>\n",
       "    </tr>\n",
       "    <tr>\n",
       "      <th>4</th>\n",
       "      <td>2</td>\n",
       "      <td>Chicago IL</td>\n",
       "      <td>41.8369</td>\n",
       "      <td>-87.6847</td>\n",
       "      <td>POINT(-87.6847 41.8369)</td>\n",
       "    </tr>\n",
       "  </tbody>\n",
       "</table>\n",
       "</div>"
      ],
      "text/plain": [
       "   id            name  latitude  longitude distribution_center_geom\n",
       "0   9   Charleston SC   32.7833   -79.9333  POINT(-79.9333 32.7833)\n",
       "1   5  New Orleans LA   29.9500   -90.0667    POINT(-90.0667 29.95)\n",
       "2  10     Savannah GA   32.0167   -81.1167  POINT(-81.1167 32.0167)\n",
       "3   1      Memphis TN   35.1174   -89.9711  POINT(-89.9711 35.1174)\n",
       "4   2      Chicago IL   41.8369   -87.6847  POINT(-87.6847 41.8369)"
      ]
     },
     "execution_count": 20,
     "metadata": {},
     "output_type": "execute_result"
    }
   ],
   "source": [
    "distribution_df.head()"
   ]
  },
  {
   "cell_type": "code",
   "execution_count": 21,
   "id": "190e93f1-b61c-46e9-af8d-38f2b1501013",
   "metadata": {},
   "outputs": [
    {
     "data": {
      "text/plain": [
       "(10, 5)"
      ]
     },
     "execution_count": 21,
     "metadata": {},
     "output_type": "execute_result"
    }
   ],
   "source": [
    "# no of rows and columns\n",
    "distribution_df.shape"
   ]
  },
  {
   "cell_type": "code",
   "execution_count": 22,
   "id": "02e2adf1-d6f7-4996-b04e-797941b29297",
   "metadata": {},
   "outputs": [
    {
     "data": {
      "text/plain": [
       "id                          0\n",
       "name                        0\n",
       "latitude                    0\n",
       "longitude                   0\n",
       "distribution_center_geom    0\n",
       "dtype: int64"
      ]
     },
     "execution_count": 22,
     "metadata": {},
     "output_type": "execute_result"
    }
   ],
   "source": [
    "# check for null values\n",
    "\n",
    "distribution_df.isnull().sum()"
   ]
  },
  {
   "cell_type": "code",
   "execution_count": 23,
   "id": "bed377b9-025a-42ce-a2d0-417b5c8bed96",
   "metadata": {},
   "outputs": [
    {
     "name": "stdout",
     "output_type": "stream",
     "text": [
      "<class 'pandas.core.frame.DataFrame'>\n",
      "RangeIndex: 10 entries, 0 to 9\n",
      "Data columns (total 5 columns):\n",
      " #   Column                    Non-Null Count  Dtype  \n",
      "---  ------                    --------------  -----  \n",
      " 0   id                        10 non-null     Int64  \n",
      " 1   name                      10 non-null     object \n",
      " 2   latitude                  10 non-null     float64\n",
      " 3   longitude                 10 non-null     float64\n",
      " 4   distribution_center_geom  10 non-null     object \n",
      "dtypes: Int64(1), float64(2), object(2)\n",
      "memory usage: 542.0+ bytes\n"
     ]
    }
   ],
   "source": [
    "distribution_df.info()"
   ]
  },
  {
   "cell_type": "markdown",
   "id": "1087cdf1-7abb-4ec3-bd30-b44c5d87a2a8",
   "metadata": {},
   "source": [
    "**events_df**"
   ]
  },
  {
   "cell_type": "code",
   "execution_count": 24,
   "id": "cb458854-7e41-4731-ad18-2c2152cbe56f",
   "metadata": {},
   "outputs": [
    {
     "data": {
      "text/plain": [
       "(2415730, 13)"
      ]
     },
     "execution_count": 24,
     "metadata": {},
     "output_type": "execute_result"
    }
   ],
   "source": [
    "# number of rows in the table\n",
    "events_df.shape"
   ]
  },
  {
   "cell_type": "code",
   "execution_count": 25,
   "id": "2ff0129f-402c-46c1-8ba5-5da144be1bc7",
   "metadata": {},
   "outputs": [
    {
     "data": {
      "text/html": [
       "<div>\n",
       "<style scoped>\n",
       "    .dataframe tbody tr th:only-of-type {\n",
       "        vertical-align: middle;\n",
       "    }\n",
       "\n",
       "    .dataframe tbody tr th {\n",
       "        vertical-align: top;\n",
       "    }\n",
       "\n",
       "    .dataframe thead th {\n",
       "        text-align: right;\n",
       "    }\n",
       "</style>\n",
       "<table border=\"1\" class=\"dataframe\">\n",
       "  <thead>\n",
       "    <tr style=\"text-align: right;\">\n",
       "      <th></th>\n",
       "      <th>id</th>\n",
       "      <th>user_id</th>\n",
       "      <th>sequence_number</th>\n",
       "      <th>session_id</th>\n",
       "      <th>created_at</th>\n",
       "      <th>ip_address</th>\n",
       "      <th>city</th>\n",
       "      <th>state</th>\n",
       "      <th>postal_code</th>\n",
       "      <th>browser</th>\n",
       "      <th>traffic_source</th>\n",
       "      <th>uri</th>\n",
       "      <th>event_type</th>\n",
       "    </tr>\n",
       "  </thead>\n",
       "  <tbody>\n",
       "    <tr>\n",
       "      <th>0</th>\n",
       "      <td>1768375</td>\n",
       "      <td>&lt;NA&gt;</td>\n",
       "      <td>3</td>\n",
       "      <td>a324beda-59d6-4687-8611-dbab26de69e3</td>\n",
       "      <td>2025-02-16 04:17:00+00:00</td>\n",
       "      <td>22.241.223.57</td>\n",
       "      <td>São Paulo</td>\n",
       "      <td>São Paulo</td>\n",
       "      <td>02675-031</td>\n",
       "      <td>Safari</td>\n",
       "      <td>Email</td>\n",
       "      <td>/cancel</td>\n",
       "      <td>cancel</td>\n",
       "    </tr>\n",
       "    <tr>\n",
       "      <th>1</th>\n",
       "      <td>2107526</td>\n",
       "      <td>&lt;NA&gt;</td>\n",
       "      <td>3</td>\n",
       "      <td>68bad407-ca2b-4690-9578-ea68f300b66c</td>\n",
       "      <td>2021-10-27 18:18:00+00:00</td>\n",
       "      <td>212.158.246.198</td>\n",
       "      <td>São Paulo</td>\n",
       "      <td>São Paulo</td>\n",
       "      <td>02675-031</td>\n",
       "      <td>Chrome</td>\n",
       "      <td>Adwords</td>\n",
       "      <td>/cancel</td>\n",
       "      <td>cancel</td>\n",
       "    </tr>\n",
       "    <tr>\n",
       "      <th>2</th>\n",
       "      <td>2410141</td>\n",
       "      <td>&lt;NA&gt;</td>\n",
       "      <td>3</td>\n",
       "      <td>1db57108-9f7b-4f01-958b-25bf889fb8ae</td>\n",
       "      <td>2023-09-19 13:32:00+00:00</td>\n",
       "      <td>82.148.109.205</td>\n",
       "      <td>São Paulo</td>\n",
       "      <td>São Paulo</td>\n",
       "      <td>02675-031</td>\n",
       "      <td>Chrome</td>\n",
       "      <td>Email</td>\n",
       "      <td>/cancel</td>\n",
       "      <td>cancel</td>\n",
       "    </tr>\n",
       "    <tr>\n",
       "      <th>3</th>\n",
       "      <td>1766424</td>\n",
       "      <td>&lt;NA&gt;</td>\n",
       "      <td>3</td>\n",
       "      <td>0faa70c0-df62-4715-8e53-1eb2e0cc764f</td>\n",
       "      <td>2019-06-25 10:27:00+00:00</td>\n",
       "      <td>165.75.201.178</td>\n",
       "      <td>São Paulo</td>\n",
       "      <td>São Paulo</td>\n",
       "      <td>02675-031</td>\n",
       "      <td>Chrome</td>\n",
       "      <td>Adwords</td>\n",
       "      <td>/cancel</td>\n",
       "      <td>cancel</td>\n",
       "    </tr>\n",
       "    <tr>\n",
       "      <th>4</th>\n",
       "      <td>1596633</td>\n",
       "      <td>&lt;NA&gt;</td>\n",
       "      <td>3</td>\n",
       "      <td>89832e89-4fa6-4708-8a49-e749faec0716</td>\n",
       "      <td>2021-10-13 02:16:00+00:00</td>\n",
       "      <td>168.40.8.25</td>\n",
       "      <td>São Paulo</td>\n",
       "      <td>São Paulo</td>\n",
       "      <td>02675-031</td>\n",
       "      <td>IE</td>\n",
       "      <td>Facebook</td>\n",
       "      <td>/cancel</td>\n",
       "      <td>cancel</td>\n",
       "    </tr>\n",
       "  </tbody>\n",
       "</table>\n",
       "</div>"
      ],
      "text/plain": [
       "        id  user_id  sequence_number                            session_id  \\\n",
       "0  1768375     <NA>                3  a324beda-59d6-4687-8611-dbab26de69e3   \n",
       "1  2107526     <NA>                3  68bad407-ca2b-4690-9578-ea68f300b66c   \n",
       "2  2410141     <NA>                3  1db57108-9f7b-4f01-958b-25bf889fb8ae   \n",
       "3  1766424     <NA>                3  0faa70c0-df62-4715-8e53-1eb2e0cc764f   \n",
       "4  1596633     <NA>                3  89832e89-4fa6-4708-8a49-e749faec0716   \n",
       "\n",
       "                 created_at       ip_address       city      state  \\\n",
       "0 2025-02-16 04:17:00+00:00    22.241.223.57  São Paulo  São Paulo   \n",
       "1 2021-10-27 18:18:00+00:00  212.158.246.198  São Paulo  São Paulo   \n",
       "2 2023-09-19 13:32:00+00:00   82.148.109.205  São Paulo  São Paulo   \n",
       "3 2019-06-25 10:27:00+00:00   165.75.201.178  São Paulo  São Paulo   \n",
       "4 2021-10-13 02:16:00+00:00      168.40.8.25  São Paulo  São Paulo   \n",
       "\n",
       "  postal_code browser traffic_source      uri event_type  \n",
       "0   02675-031  Safari          Email  /cancel     cancel  \n",
       "1   02675-031  Chrome        Adwords  /cancel     cancel  \n",
       "2   02675-031  Chrome          Email  /cancel     cancel  \n",
       "3   02675-031  Chrome        Adwords  /cancel     cancel  \n",
       "4   02675-031      IE       Facebook  /cancel     cancel  "
      ]
     },
     "execution_count": 25,
     "metadata": {},
     "output_type": "execute_result"
    }
   ],
   "source": [
    "events_df.head(5)"
   ]
  },
  {
   "cell_type": "code",
   "execution_count": 26,
   "id": "a25b6615-6f7e-4683-bbb8-faca87a892e1",
   "metadata": {},
   "outputs": [
    {
     "name": "stdout",
     "output_type": "stream",
     "text": [
      "<class 'pandas.core.frame.DataFrame'>\n",
      "RangeIndex: 2415730 entries, 0 to 2415729\n",
      "Data columns (total 13 columns):\n",
      " #   Column           Dtype              \n",
      "---  ------           -----              \n",
      " 0   id               Int64              \n",
      " 1   user_id          Int64              \n",
      " 2   sequence_number  Int64              \n",
      " 3   session_id       object             \n",
      " 4   created_at       datetime64[us, UTC]\n",
      " 5   ip_address       object             \n",
      " 6   city             object             \n",
      " 7   state            object             \n",
      " 8   postal_code      object             \n",
      " 9   browser          object             \n",
      " 10  traffic_source   object             \n",
      " 11  uri              object             \n",
      " 12  event_type       object             \n",
      "dtypes: Int64(3), datetime64[us, UTC](1), object(9)\n",
      "memory usage: 246.5+ MB\n"
     ]
    }
   ],
   "source": [
    "#check data types\n",
    "events_df.info()"
   ]
  },
  {
   "cell_type": "code",
   "execution_count": 27,
   "id": "d33bb8ba-5415-46f4-84fa-424f5b90029d",
   "metadata": {},
   "outputs": [
    {
     "data": {
      "text/plain": [
       "id                       0\n",
       "user_id            1125978\n",
       "sequence_number          0\n",
       "session_id               0\n",
       "created_at               0\n",
       "ip_address               0\n",
       "city                     0\n",
       "state                    0\n",
       "postal_code              0\n",
       "browser                  0\n",
       "traffic_source           0\n",
       "uri                      0\n",
       "event_type               0\n",
       "dtype: int64"
      ]
     },
     "execution_count": 27,
     "metadata": {},
     "output_type": "execute_result"
    }
   ],
   "source": [
    "#check for null values\n",
    "\n",
    "events_df.isnull().sum()"
   ]
  },
  {
   "cell_type": "code",
   "execution_count": 28,
   "id": "607fb384-7e5c-4756-9d3c-376d4499e499",
   "metadata": {},
   "outputs": [
    {
     "data": {
      "text/plain": [
       "event_type\n",
       "product       0.444058\n",
       "cart          0.222661\n",
       "department    0.222220\n",
       "cancel        0.111061\n",
       "Name: proportion, dtype: float64"
      ]
     },
     "execution_count": 28,
     "metadata": {},
     "output_type": "execute_result"
    }
   ],
   "source": [
    "# For user who are not logged in, what kind of events did they generate and how often \n",
    "\n",
    "events_df[events_df['user_id'].isnull()]['event_type'].value_counts(normalize = True)"
   ]
  },
  {
   "cell_type": "code",
   "execution_count": 29,
   "id": "61855ffa-fe13-4987-bdfd-084e2805009b",
   "metadata": {},
   "outputs": [
    {
     "data": {
      "text/plain": [
       "array(['cancel', 'cart', 'department', 'home', 'product', 'purchase'],\n",
       "      dtype=object)"
      ]
     },
     "execution_count": 29,
     "metadata": {},
     "output_type": "execute_result"
    }
   ],
   "source": [
    "events_df['event_type'].unique()"
   ]
  },
  {
   "cell_type": "markdown",
   "id": "eb74b2b0-6d4b-49c6-81e7-ae0fea0dda42",
   "metadata": {},
   "source": [
    "**events_df breakdown**\n",
    "  \n",
    "The event table likely captures website /app user behaviour such as clicks, page visists and cancellations. user_id has 1125736 null values which could be customers who visited as guests, or people who simply did not sign in. \n",
    "\n",
    "Each website visitor, either signed in or not performs certain actions which are 'cancel', 'cart', 'department', 'home', 'product', 'purchase'\"\n",
    "\n",
    "**Why event type is important**\n",
    "\n",
    "These event types are valuable for:\n",
    "\n",
    "- Funnel analysis (home → department → product → cart → purchase)\n",
    "\n",
    "- Drop-off analysis (e.g., many reach cart but few purchase)\n",
    "\n",
    "- Engagement segmentation (users who only browse vs. those who purchase)\n",
    "\n",
    "- Personalization and recommendation logic"
   ]
  },
  {
   "cell_type": "markdown",
   "id": "f6919e2c-97e1-4095-b3f4-a1ebae89e4cf",
   "metadata": {},
   "source": [
    "**inventoryitems_df**"
   ]
  },
  {
   "cell_type": "code",
   "execution_count": 30,
   "id": "b6a436c3-5bfa-4307-b375-645c690d04f8",
   "metadata": {},
   "outputs": [
    {
     "data": {
      "text/plain": [
       "(487096, 12)"
      ]
     },
     "execution_count": 30,
     "metadata": {},
     "output_type": "execute_result"
    }
   ],
   "source": [
    "# number of columns and rows\n",
    "inventoryitems_df.shape"
   ]
  },
  {
   "cell_type": "code",
   "execution_count": 31,
   "id": "3b45ed65-d453-4101-8ef1-3c570f94828d",
   "metadata": {},
   "outputs": [
    {
     "name": "stdout",
     "output_type": "stream",
     "text": [
      "<class 'pandas.core.frame.DataFrame'>\n",
      "RangeIndex: 487096 entries, 0 to 487095\n",
      "Data columns (total 12 columns):\n",
      " #   Column                          Non-Null Count   Dtype              \n",
      "---  ------                          --------------   -----              \n",
      " 0   id                              487096 non-null  Int64              \n",
      " 1   product_id                      487096 non-null  Int64              \n",
      " 2   created_at                      487096 non-null  datetime64[us, UTC]\n",
      " 3   sold_at                         180565 non-null  datetime64[us, UTC]\n",
      " 4   cost                            487096 non-null  float64            \n",
      " 5   product_category                487096 non-null  object             \n",
      " 6   product_name                    487096 non-null  object             \n",
      " 7   product_brand                   487096 non-null  object             \n",
      " 8   product_retail_price            487096 non-null  float64            \n",
      " 9   product_department              487096 non-null  object             \n",
      " 10  product_sku                     487096 non-null  object             \n",
      " 11  product_distribution_center_id  487096 non-null  Int64              \n",
      "dtypes: Int64(3), datetime64[us, UTC](2), float64(2), object(5)\n",
      "memory usage: 46.0+ MB\n"
     ]
    }
   ],
   "source": [
    "# check data type\n",
    "inventoryitems_df.info()"
   ]
  },
  {
   "cell_type": "code",
   "execution_count": 32,
   "id": "19f3e570-7cc4-43f6-9b64-fd050c775c0b",
   "metadata": {},
   "outputs": [
    {
     "data": {
      "text/plain": [
       "id                                     0\n",
       "product_id                             0\n",
       "created_at                             0\n",
       "sold_at                           306531\n",
       "cost                                   0\n",
       "product_category                       0\n",
       "product_name                           0\n",
       "product_brand                          0\n",
       "product_retail_price                   0\n",
       "product_department                     0\n",
       "product_sku                            0\n",
       "product_distribution_center_id         0\n",
       "dtype: int64"
      ]
     },
     "execution_count": 32,
     "metadata": {},
     "output_type": "execute_result"
    }
   ],
   "source": [
    "# checking null value\n",
    "\n",
    "inventoryitems_df.isnull().sum()"
   ]
  },
  {
   "cell_type": "code",
   "execution_count": 33,
   "id": "760ed9bc-895d-4798-8e74-fa5673c037a0",
   "metadata": {},
   "outputs": [
    {
     "data": {
      "text/html": [
       "<div>\n",
       "<style scoped>\n",
       "    .dataframe tbody tr th:only-of-type {\n",
       "        vertical-align: middle;\n",
       "    }\n",
       "\n",
       "    .dataframe tbody tr th {\n",
       "        vertical-align: top;\n",
       "    }\n",
       "\n",
       "    .dataframe thead th {\n",
       "        text-align: right;\n",
       "    }\n",
       "</style>\n",
       "<table border=\"1\" class=\"dataframe\">\n",
       "  <thead>\n",
       "    <tr style=\"text-align: right;\">\n",
       "      <th></th>\n",
       "      <th>id</th>\n",
       "      <th>product_id</th>\n",
       "      <th>created_at</th>\n",
       "      <th>sold_at</th>\n",
       "      <th>cost</th>\n",
       "      <th>product_category</th>\n",
       "      <th>product_name</th>\n",
       "      <th>product_brand</th>\n",
       "      <th>product_retail_price</th>\n",
       "      <th>product_department</th>\n",
       "      <th>product_sku</th>\n",
       "      <th>product_distribution_center_id</th>\n",
       "    </tr>\n",
       "  </thead>\n",
       "  <tbody>\n",
       "    <tr>\n",
       "      <th>0</th>\n",
       "      <td>123225</td>\n",
       "      <td>13844</td>\n",
       "      <td>2025-06-25 10:21:31+00:00</td>\n",
       "      <td>2025-08-18 08:55:31+00:00</td>\n",
       "      <td>2.76804</td>\n",
       "      <td>Accessories</td>\n",
       "      <td>(ONE) 1 Satin Headband</td>\n",
       "      <td>Funny Girl Designs</td>\n",
       "      <td>6.99</td>\n",
       "      <td>Women</td>\n",
       "      <td>2A3E953A5E3D81E67945BCE5519F84C8</td>\n",
       "      <td>7</td>\n",
       "    </tr>\n",
       "    <tr>\n",
       "      <th>1</th>\n",
       "      <td>123226</td>\n",
       "      <td>13844</td>\n",
       "      <td>2022-10-11 04:01:00+00:00</td>\n",
       "      <td>NaT</td>\n",
       "      <td>2.76804</td>\n",
       "      <td>Accessories</td>\n",
       "      <td>(ONE) 1 Satin Headband</td>\n",
       "      <td>Funny Girl Designs</td>\n",
       "      <td>6.99</td>\n",
       "      <td>Women</td>\n",
       "      <td>2A3E953A5E3D81E67945BCE5519F84C8</td>\n",
       "      <td>7</td>\n",
       "    </tr>\n",
       "    <tr>\n",
       "      <th>2</th>\n",
       "      <td>145275</td>\n",
       "      <td>13844</td>\n",
       "      <td>2024-01-12 09:46:25+00:00</td>\n",
       "      <td>2024-02-18 05:48:25+00:00</td>\n",
       "      <td>2.76804</td>\n",
       "      <td>Accessories</td>\n",
       "      <td>(ONE) 1 Satin Headband</td>\n",
       "      <td>Funny Girl Designs</td>\n",
       "      <td>6.99</td>\n",
       "      <td>Women</td>\n",
       "      <td>2A3E953A5E3D81E67945BCE5519F84C8</td>\n",
       "      <td>7</td>\n",
       "    </tr>\n",
       "    <tr>\n",
       "      <th>3</th>\n",
       "      <td>145276</td>\n",
       "      <td>13844</td>\n",
       "      <td>2022-05-17 04:16:00+00:00</td>\n",
       "      <td>NaT</td>\n",
       "      <td>2.76804</td>\n",
       "      <td>Accessories</td>\n",
       "      <td>(ONE) 1 Satin Headband</td>\n",
       "      <td>Funny Girl Designs</td>\n",
       "      <td>6.99</td>\n",
       "      <td>Women</td>\n",
       "      <td>2A3E953A5E3D81E67945BCE5519F84C8</td>\n",
       "      <td>7</td>\n",
       "    </tr>\n",
       "    <tr>\n",
       "      <th>4</th>\n",
       "      <td>145277</td>\n",
       "      <td>13844</td>\n",
       "      <td>2023-06-03 06:53:00+00:00</td>\n",
       "      <td>NaT</td>\n",
       "      <td>2.76804</td>\n",
       "      <td>Accessories</td>\n",
       "      <td>(ONE) 1 Satin Headband</td>\n",
       "      <td>Funny Girl Designs</td>\n",
       "      <td>6.99</td>\n",
       "      <td>Women</td>\n",
       "      <td>2A3E953A5E3D81E67945BCE5519F84C8</td>\n",
       "      <td>7</td>\n",
       "    </tr>\n",
       "  </tbody>\n",
       "</table>\n",
       "</div>"
      ],
      "text/plain": [
       "       id  product_id                created_at                   sold_at  \\\n",
       "0  123225       13844 2025-06-25 10:21:31+00:00 2025-08-18 08:55:31+00:00   \n",
       "1  123226       13844 2022-10-11 04:01:00+00:00                       NaT   \n",
       "2  145275       13844 2024-01-12 09:46:25+00:00 2024-02-18 05:48:25+00:00   \n",
       "3  145276       13844 2022-05-17 04:16:00+00:00                       NaT   \n",
       "4  145277       13844 2023-06-03 06:53:00+00:00                       NaT   \n",
       "\n",
       "      cost product_category            product_name       product_brand  \\\n",
       "0  2.76804      Accessories  (ONE) 1 Satin Headband  Funny Girl Designs   \n",
       "1  2.76804      Accessories  (ONE) 1 Satin Headband  Funny Girl Designs   \n",
       "2  2.76804      Accessories  (ONE) 1 Satin Headband  Funny Girl Designs   \n",
       "3  2.76804      Accessories  (ONE) 1 Satin Headband  Funny Girl Designs   \n",
       "4  2.76804      Accessories  (ONE) 1 Satin Headband  Funny Girl Designs   \n",
       "\n",
       "   product_retail_price product_department                       product_sku  \\\n",
       "0                  6.99              Women  2A3E953A5E3D81E67945BCE5519F84C8   \n",
       "1                  6.99              Women  2A3E953A5E3D81E67945BCE5519F84C8   \n",
       "2                  6.99              Women  2A3E953A5E3D81E67945BCE5519F84C8   \n",
       "3                  6.99              Women  2A3E953A5E3D81E67945BCE5519F84C8   \n",
       "4                  6.99              Women  2A3E953A5E3D81E67945BCE5519F84C8   \n",
       "\n",
       "   product_distribution_center_id  \n",
       "0                               7  \n",
       "1                               7  \n",
       "2                               7  \n",
       "3                               7  \n",
       "4                               7  "
      ]
     },
     "execution_count": 33,
     "metadata": {},
     "output_type": "execute_result"
    }
   ],
   "source": [
    "inventoryitems_df.head()"
   ]
  },
  {
   "cell_type": "markdown",
   "id": "87c7873f-01bf-4e8a-af0c-509ccbc71a68",
   "metadata": {},
   "source": [
    "**inventoryitems_df null values**\n",
    "\n",
    "All features has 0 null values excpet sold_at with 307760 null values, this shows items that haven't been sold"
   ]
  },
  {
   "cell_type": "markdown",
   "id": "1331e34e-f34c-4d03-91f0-305caf039c53",
   "metadata": {},
   "source": [
    "**orderitems_df**"
   ]
  },
  {
   "cell_type": "code",
   "execution_count": 34,
   "id": "ad62fbaa-a4e0-4326-9ea7-170eac501991",
   "metadata": {},
   "outputs": [
    {
     "data": {
      "text/plain": [
       "(180565, 11)"
      ]
     },
     "execution_count": 34,
     "metadata": {},
     "output_type": "execute_result"
    }
   ],
   "source": [
    "# numbert of columns and rows\n",
    "orderitems_df.shape"
   ]
  },
  {
   "cell_type": "code",
   "execution_count": 35,
   "id": "0a3d7a2a-cfc6-44c2-adb5-3a9dc7c4d218",
   "metadata": {},
   "outputs": [
    {
     "data": {
      "text/plain": [
       "id                        0\n",
       "order_id                  0\n",
       "user_id                   0\n",
       "product_id                0\n",
       "inventory_item_id         0\n",
       "status                    0\n",
       "created_at                0\n",
       "shipped_at            63345\n",
       "delivered_at         117529\n",
       "returned_at          162449\n",
       "sale_price                0\n",
       "dtype: int64"
      ]
     },
     "execution_count": 35,
     "metadata": {},
     "output_type": "execute_result"
    }
   ],
   "source": [
    "# null values\n",
    "orderitems_df.isnull().sum()"
   ]
  },
  {
   "cell_type": "code",
   "execution_count": 36,
   "id": "bf91fdbc-7ad5-4527-a99e-c7613b09d7c8",
   "metadata": {},
   "outputs": [
    {
     "name": "stdout",
     "output_type": "stream",
     "text": [
      "<class 'pandas.core.frame.DataFrame'>\n",
      "RangeIndex: 180565 entries, 0 to 180564\n",
      "Data columns (total 11 columns):\n",
      " #   Column             Non-Null Count   Dtype              \n",
      "---  ------             --------------   -----              \n",
      " 0   id                 180565 non-null  Int64              \n",
      " 1   order_id           180565 non-null  Int64              \n",
      " 2   user_id            180565 non-null  Int64              \n",
      " 3   product_id         180565 non-null  Int64              \n",
      " 4   inventory_item_id  180565 non-null  Int64              \n",
      " 5   status             180565 non-null  object             \n",
      " 6   created_at         180565 non-null  datetime64[us, UTC]\n",
      " 7   shipped_at         117220 non-null  datetime64[us, UTC]\n",
      " 8   delivered_at       63036 non-null   datetime64[us, UTC]\n",
      " 9   returned_at        18116 non-null   datetime64[us, UTC]\n",
      " 10  sale_price         180565 non-null  float64            \n",
      "dtypes: Int64(5), datetime64[us, UTC](4), float64(1), object(1)\n",
      "memory usage: 16.0+ MB\n"
     ]
    }
   ],
   "source": [
    "orderitems_df.info()"
   ]
  },
  {
   "cell_type": "markdown",
   "id": "bd8a3607-ff14-4f15-afc1-53a996cd36e6",
   "metadata": {},
   "source": [
    "**orderitems_df null values**\n",
    "\n",
    "63,457 orders have not been shipped yet or could indicate cancelled orders . 117650 indicates orders that were never delivered and 162843 shows the number of items that were never delivered. "
   ]
  },
  {
   "cell_type": "markdown",
   "id": "4a7a0e61-994d-41a8-9bf3-8812aa278e54",
   "metadata": {},
   "source": [
    "**products_df**"
   ]
  },
  {
   "cell_type": "code",
   "execution_count": 37,
   "id": "68566306-57aa-4f32-a3a2-f830d723761e",
   "metadata": {},
   "outputs": [
    {
     "data": {
      "text/plain": [
       "(29120, 9)"
      ]
     },
     "execution_count": 37,
     "metadata": {},
     "output_type": "execute_result"
    }
   ],
   "source": [
    "# number of rows and columns\n",
    "products_df.shape\n"
   ]
  },
  {
   "cell_type": "code",
   "execution_count": 38,
   "id": "3e0a3925-40f9-420f-8e5e-98a38ae9c680",
   "metadata": {},
   "outputs": [
    {
     "name": "stdout",
     "output_type": "stream",
     "text": [
      "<class 'pandas.core.frame.DataFrame'>\n",
      "RangeIndex: 29120 entries, 0 to 29119\n",
      "Data columns (total 9 columns):\n",
      " #   Column                  Non-Null Count  Dtype  \n",
      "---  ------                  --------------  -----  \n",
      " 0   id                      29120 non-null  Int64  \n",
      " 1   cost                    29120 non-null  float64\n",
      " 2   category                29120 non-null  object \n",
      " 3   name                    29118 non-null  object \n",
      " 4   brand                   29096 non-null  object \n",
      " 5   retail_price            29120 non-null  float64\n",
      " 6   department              29120 non-null  object \n",
      " 7   sku                     29120 non-null  object \n",
      " 8   distribution_center_id  29120 non-null  Int64  \n",
      "dtypes: Int64(2), float64(2), object(5)\n",
      "memory usage: 2.1+ MB\n"
     ]
    }
   ],
   "source": [
    "products_df.info()"
   ]
  },
  {
   "cell_type": "code",
   "execution_count": 39,
   "id": "32e9bc42-c5f9-41a8-837c-7da18c6ff652",
   "metadata": {},
   "outputs": [
    {
     "data": {
      "text/plain": [
       "id                         0\n",
       "cost                       0\n",
       "category                   0\n",
       "name                       2\n",
       "brand                     24\n",
       "retail_price               0\n",
       "department                 0\n",
       "sku                        0\n",
       "distribution_center_id     0\n",
       "dtype: int64"
      ]
     },
     "execution_count": 39,
     "metadata": {},
     "output_type": "execute_result"
    }
   ],
   "source": [
    "# check null value\n",
    "\n",
    "products_df.isnull().sum()"
   ]
  },
  {
   "cell_type": "code",
   "execution_count": 40,
   "id": "b089b0f0-5cec-478d-b7b0-61be73ae3a22",
   "metadata": {},
   "outputs": [],
   "source": [
    "# replace null brand values with unknown\n",
    "\n",
    "products_df['brand'] = products_df['brand'].fillna('unknown')"
   ]
  },
  {
   "cell_type": "code",
   "execution_count": 41,
   "id": "b357889d-4ec9-4f0d-aae7-17d8731bb644",
   "metadata": {},
   "outputs": [
    {
     "data": {
      "text/html": [
       "<div>\n",
       "<style scoped>\n",
       "    .dataframe tbody tr th:only-of-type {\n",
       "        vertical-align: middle;\n",
       "    }\n",
       "\n",
       "    .dataframe tbody tr th {\n",
       "        vertical-align: top;\n",
       "    }\n",
       "\n",
       "    .dataframe thead th {\n",
       "        text-align: right;\n",
       "    }\n",
       "</style>\n",
       "<table border=\"1\" class=\"dataframe\">\n",
       "  <thead>\n",
       "    <tr style=\"text-align: right;\">\n",
       "      <th></th>\n",
       "      <th>id</th>\n",
       "      <th>cost</th>\n",
       "      <th>category</th>\n",
       "      <th>name</th>\n",
       "      <th>brand</th>\n",
       "      <th>retail_price</th>\n",
       "      <th>department</th>\n",
       "      <th>sku</th>\n",
       "      <th>distribution_center_id</th>\n",
       "    </tr>\n",
       "  </thead>\n",
       "  <tbody>\n",
       "    <tr>\n",
       "      <th>3247</th>\n",
       "      <td>12586</td>\n",
       "      <td>18.972000</td>\n",
       "      <td>Intimates</td>\n",
       "      <td>None</td>\n",
       "      <td>Josie by Natori</td>\n",
       "      <td>36.000000</td>\n",
       "      <td>Women</td>\n",
       "      <td>A7EA034186E14FB5F7B37CF664893CD2</td>\n",
       "      <td>1</td>\n",
       "    </tr>\n",
       "    <tr>\n",
       "      <th>5588</th>\n",
       "      <td>24455</td>\n",
       "      <td>67.335453</td>\n",
       "      <td>Outerwear &amp; Coats</td>\n",
       "      <td>None</td>\n",
       "      <td>Tru-Spec</td>\n",
       "      <td>147.990005</td>\n",
       "      <td>Men</td>\n",
       "      <td>B290A635641F585B3DD6B95FD42DC267</td>\n",
       "      <td>2</td>\n",
       "    </tr>\n",
       "  </tbody>\n",
       "</table>\n",
       "</div>"
      ],
      "text/plain": [
       "         id       cost           category  name            brand  \\\n",
       "3247  12586  18.972000          Intimates  None  Josie by Natori   \n",
       "5588  24455  67.335453  Outerwear & Coats  None         Tru-Spec   \n",
       "\n",
       "      retail_price department                               sku  \\\n",
       "3247     36.000000      Women  A7EA034186E14FB5F7B37CF664893CD2   \n",
       "5588    147.990005        Men  B290A635641F585B3DD6B95FD42DC267   \n",
       "\n",
       "      distribution_center_id  \n",
       "3247                       1  \n",
       "5588                       2  "
      ]
     },
     "execution_count": 41,
     "metadata": {},
     "output_type": "execute_result"
    }
   ],
   "source": [
    "# products without name\n",
    "\n",
    "products_df[products_df['name'].isnull()]"
   ]
  },
  {
   "cell_type": "code",
   "execution_count": 42,
   "id": "4893f080-c195-4c3c-96ca-fb0675f4e9cd",
   "metadata": {},
   "outputs": [],
   "source": [
    "# drop null values in name\n",
    "\n",
    "products_df = products_df.dropna(subset = ['name'])"
   ]
  },
  {
   "cell_type": "markdown",
   "id": "b0007108-aa0d-49bd-9a6b-e4cded55a44c",
   "metadata": {},
   "source": [
    "**users_df**"
   ]
  },
  {
   "cell_type": "code",
   "execution_count": 43,
   "id": "50a25ae9-9729-44c4-8970-3001ab70c610",
   "metadata": {},
   "outputs": [
    {
     "data": {
      "text/plain": [
       "(100000, 16)"
      ]
     },
     "execution_count": 43,
     "metadata": {},
     "output_type": "execute_result"
    }
   ],
   "source": [
    "# for number of rows and columns\n",
    "users_df.shape"
   ]
  },
  {
   "cell_type": "code",
   "execution_count": 44,
   "id": "760cdfaf-ac7c-4e45-b6d8-26d3a15d3d36",
   "metadata": {},
   "outputs": [
    {
     "name": "stdout",
     "output_type": "stream",
     "text": [
      "<class 'pandas.core.frame.DataFrame'>\n",
      "RangeIndex: 100000 entries, 0 to 99999\n",
      "Data columns (total 16 columns):\n",
      " #   Column          Non-Null Count   Dtype              \n",
      "---  ------          --------------   -----              \n",
      " 0   id              100000 non-null  Int64              \n",
      " 1   first_name      100000 non-null  object             \n",
      " 2   last_name       100000 non-null  object             \n",
      " 3   email           100000 non-null  object             \n",
      " 4   age             100000 non-null  Int64              \n",
      " 5   gender          100000 non-null  object             \n",
      " 6   state           100000 non-null  object             \n",
      " 7   street_address  100000 non-null  object             \n",
      " 8   postal_code     100000 non-null  object             \n",
      " 9   city            100000 non-null  object             \n",
      " 10  country         100000 non-null  object             \n",
      " 11  latitude        100000 non-null  float64            \n",
      " 12  longitude       100000 non-null  float64            \n",
      " 13  traffic_source  100000 non-null  object             \n",
      " 14  created_at      100000 non-null  datetime64[us, UTC]\n",
      " 15  user_geom       100000 non-null  object             \n",
      "dtypes: Int64(2), datetime64[us, UTC](1), float64(2), object(11)\n",
      "memory usage: 12.4+ MB\n"
     ]
    }
   ],
   "source": [
    "users_df.info()"
   ]
  },
  {
   "cell_type": "code",
   "execution_count": 45,
   "id": "63657061-1f20-480b-8e64-7ac4cdd5b384",
   "metadata": {},
   "outputs": [
    {
     "data": {
      "text/plain": [
       "id                0\n",
       "first_name        0\n",
       "last_name         0\n",
       "email             0\n",
       "age               0\n",
       "gender            0\n",
       "state             0\n",
       "street_address    0\n",
       "postal_code       0\n",
       "city              0\n",
       "country           0\n",
       "latitude          0\n",
       "longitude         0\n",
       "traffic_source    0\n",
       "created_at        0\n",
       "user_geom         0\n",
       "dtype: int64"
      ]
     },
     "execution_count": 45,
     "metadata": {},
     "output_type": "execute_result"
    }
   ],
   "source": [
    "# Null values\n",
    "\n",
    "users_df.isnull().sum()"
   ]
  },
  {
   "cell_type": "markdown",
   "id": "7fe8c72c-835a-4fd4-8016-690afa155632",
   "metadata": {},
   "source": [
    "## Creating a Mastersheet "
   ]
  },
  {
   "cell_type": "markdown",
   "id": "502d30ec-423c-44f4-a354-b4d03d4cfaa6",
   "metadata": {},
   "source": [
    "**join order_df and users_df on user_id**"
   ]
  },
  {
   "cell_type": "code",
   "execution_count": 46,
   "id": "25ba49d4-fb8b-40c4-808d-33f825cc52a9",
   "metadata": {},
   "outputs": [
    {
     "name": "stdout",
     "output_type": "stream",
     "text": [
      "order_df columns : Index(['order_id', 'user_id', 'status', 'gender', 'created_at', 'returned_at',\n",
      "       'shipped_at', 'delivered_at', 'num_of_item'],\n",
      "      dtype='object')\n",
      "users_df columns : Index(['id', 'first_name', 'last_name', 'email', 'age', 'gender', 'state',\n",
      "       'street_address', 'postal_code', 'city', 'country', 'latitude',\n",
      "       'longitude', 'traffic_source', 'created_at', 'user_geom'],\n",
      "      dtype='object')\n"
     ]
    }
   ],
   "source": [
    "#check the columns in each table and drop duplicates before merging\n",
    "print(f'order_df columns : {orders_df.columns}')\n",
    "\n",
    "\n",
    "print(f'users_df columns : {users_df.columns}')"
   ]
  },
  {
   "cell_type": "code",
   "execution_count": 47,
   "id": "c48fac79-304f-4f55-95d1-1c3ad7529b4c",
   "metadata": {},
   "outputs": [],
   "source": [
    "# a function to identify duplicates columns \n",
    "\n",
    "def duplicates(x, y):\n",
    "    ''' These function check the columns in \n",
    "    two tables and identify over lapping columns\n",
    "    '''\n",
    "    return [c for c in x.columns if c in y.columns]"
   ]
  },
  {
   "cell_type": "code",
   "execution_count": 48,
   "id": "f5bf8bfa-ee48-4593-adfe-22d15e858707",
   "metadata": {},
   "outputs": [
    {
     "data": {
      "text/plain": [
       "['gender', 'created_at']"
      ]
     },
     "execution_count": 48,
     "metadata": {},
     "output_type": "execute_result"
    }
   ],
   "source": [
    "# check the columns in users_df and orders_df \n",
    "\n",
    "duplicates(orders_df, users_df)"
   ]
  },
  {
   "cell_type": "markdown",
   "id": "6dbbb174-bc3c-4795-b490-cf03ad6619f9",
   "metadata": {},
   "source": [
    "#### Over lapping columns.\n",
    "\n",
    "'gender', 'created_at' are both in orders_df and users_df tables. The gender column will be dropped from the order_df table.   The created_at will be renamed for both columns. users_df['created_at'] indicates the account creation date while orders_df['created_at] indicates order creation date. \n",
    "Both columns serves different purposes.  \n",
    "\n",
    "`users_df['created_at']` will be renamed as `user_created_at`\n",
    "`orders['created_at']` will be renamed as `order_created_at`"
   ]
  },
  {
   "cell_type": "code",
   "execution_count": 49,
   "id": "0f7ae0c5-51e0-4791-863e-4715a806ede8",
   "metadata": {},
   "outputs": [],
   "source": [
    "# drop gender column\n",
    "\n",
    "orders_df = orders_df.drop(columns = 'gender')"
   ]
  },
  {
   "cell_type": "code",
   "execution_count": 50,
   "id": "a2c23be1-fd0c-4536-b293-5733f87b83ad",
   "metadata": {},
   "outputs": [],
   "source": [
    "# rename created_at columns\n",
    "orders_df = orders_df.rename(columns = {'created_at': 'order_created_at'})\n",
    "users_df = users_df.rename(columns = {'created_at': 'user_created_at'})"
   ]
  },
  {
   "cell_type": "code",
   "execution_count": 51,
   "id": "180b5ded-fb9c-48f0-a909-49e2ffb254e2",
   "metadata": {},
   "outputs": [
    {
     "data": {
      "text/html": [
       "<div>\n",
       "<style scoped>\n",
       "    .dataframe tbody tr th:only-of-type {\n",
       "        vertical-align: middle;\n",
       "    }\n",
       "\n",
       "    .dataframe tbody tr th {\n",
       "        vertical-align: top;\n",
       "    }\n",
       "\n",
       "    .dataframe thead th {\n",
       "        text-align: right;\n",
       "    }\n",
       "</style>\n",
       "<table border=\"1\" class=\"dataframe\">\n",
       "  <thead>\n",
       "    <tr style=\"text-align: right;\">\n",
       "      <th></th>\n",
       "      <th>order_id</th>\n",
       "      <th>user_id</th>\n",
       "      <th>status</th>\n",
       "      <th>order_created_at</th>\n",
       "      <th>returned_at</th>\n",
       "      <th>shipped_at</th>\n",
       "      <th>delivered_at</th>\n",
       "      <th>num_of_item</th>\n",
       "      <th>id</th>\n",
       "      <th>first_name</th>\n",
       "      <th>...</th>\n",
       "      <th>state</th>\n",
       "      <th>street_address</th>\n",
       "      <th>postal_code</th>\n",
       "      <th>city</th>\n",
       "      <th>country</th>\n",
       "      <th>latitude</th>\n",
       "      <th>longitude</th>\n",
       "      <th>traffic_source</th>\n",
       "      <th>user_created_at</th>\n",
       "      <th>user_geom</th>\n",
       "    </tr>\n",
       "  </thead>\n",
       "  <tbody>\n",
       "    <tr>\n",
       "      <th>0</th>\n",
       "      <td>7</td>\n",
       "      <td>6</td>\n",
       "      <td>Cancelled</td>\n",
       "      <td>2025-04-30 07:51:00+00:00</td>\n",
       "      <td>NaT</td>\n",
       "      <td>NaT</td>\n",
       "      <td>NaT</td>\n",
       "      <td>1</td>\n",
       "      <td>6</td>\n",
       "      <td>Susan</td>\n",
       "      <td>...</td>\n",
       "      <td>Hessen</td>\n",
       "      <td>59442 Mills Ferry Apt. 767</td>\n",
       "      <td>60547</td>\n",
       "      <td>Frankfurt am Main</td>\n",
       "      <td>Germany</td>\n",
       "      <td>50.039201</td>\n",
       "      <td>8.557562</td>\n",
       "      <td>Search</td>\n",
       "      <td>2022-06-18 07:51:00+00:00</td>\n",
       "      <td>POINT(8.557562006 50.03920146)</td>\n",
       "    </tr>\n",
       "    <tr>\n",
       "      <th>1</th>\n",
       "      <td>14</td>\n",
       "      <td>11</td>\n",
       "      <td>Cancelled</td>\n",
       "      <td>2025-04-11 03:11:00+00:00</td>\n",
       "      <td>NaT</td>\n",
       "      <td>NaT</td>\n",
       "      <td>NaT</td>\n",
       "      <td>1</td>\n",
       "      <td>11</td>\n",
       "      <td>Erica</td>\n",
       "      <td>...</td>\n",
       "      <td>Henan</td>\n",
       "      <td>17355 Donald Hills</td>\n",
       "      <td>452470</td>\n",
       "      <td>Xiaogan</td>\n",
       "      <td>China</td>\n",
       "      <td>34.470866</td>\n",
       "      <td>113.023097</td>\n",
       "      <td>Search</td>\n",
       "      <td>2025-01-06 03:11:00+00:00</td>\n",
       "      <td>POINT(113.0230966 34.47086604)</td>\n",
       "    </tr>\n",
       "    <tr>\n",
       "      <th>2</th>\n",
       "      <td>34</td>\n",
       "      <td>23</td>\n",
       "      <td>Cancelled</td>\n",
       "      <td>2023-04-27 13:37:00+00:00</td>\n",
       "      <td>NaT</td>\n",
       "      <td>NaT</td>\n",
       "      <td>NaT</td>\n",
       "      <td>1</td>\n",
       "      <td>23</td>\n",
       "      <td>Angel</td>\n",
       "      <td>...</td>\n",
       "      <td>Kanagawa</td>\n",
       "      <td>32602 Maurice Trail</td>\n",
       "      <td>216-0033</td>\n",
       "      <td>Kawasaki City</td>\n",
       "      <td>Japan</td>\n",
       "      <td>35.589678</td>\n",
       "      <td>139.590570</td>\n",
       "      <td>Organic</td>\n",
       "      <td>2021-06-11 13:37:00+00:00</td>\n",
       "      <td>POINT(139.5905701 35.5896775)</td>\n",
       "    </tr>\n",
       "    <tr>\n",
       "      <th>3</th>\n",
       "      <td>40</td>\n",
       "      <td>28</td>\n",
       "      <td>Cancelled</td>\n",
       "      <td>2024-10-30 10:33:00+00:00</td>\n",
       "      <td>NaT</td>\n",
       "      <td>NaT</td>\n",
       "      <td>NaT</td>\n",
       "      <td>2</td>\n",
       "      <td>28</td>\n",
       "      <td>Jessica</td>\n",
       "      <td>...</td>\n",
       "      <td>Ceará</td>\n",
       "      <td>20625 Joyce Lodge</td>\n",
       "      <td>60810-670</td>\n",
       "      <td>Fortaleza</td>\n",
       "      <td>Brasil</td>\n",
       "      <td>-3.824307</td>\n",
       "      <td>-38.521437</td>\n",
       "      <td>Display</td>\n",
       "      <td>2024-09-05 10:33:00+00:00</td>\n",
       "      <td>POINT(-38.52143685 -3.824306529)</td>\n",
       "    </tr>\n",
       "    <tr>\n",
       "      <th>4</th>\n",
       "      <td>58</td>\n",
       "      <td>42</td>\n",
       "      <td>Cancelled</td>\n",
       "      <td>2025-04-12 16:11:00+00:00</td>\n",
       "      <td>NaT</td>\n",
       "      <td>NaT</td>\n",
       "      <td>NaT</td>\n",
       "      <td>1</td>\n",
       "      <td>42</td>\n",
       "      <td>Tami</td>\n",
       "      <td>...</td>\n",
       "      <td>Texas</td>\n",
       "      <td>58806 Sandra Centers Apt. 069</td>\n",
       "      <td>75025</td>\n",
       "      <td>Plano</td>\n",
       "      <td>United States</td>\n",
       "      <td>33.090836</td>\n",
       "      <td>-96.740722</td>\n",
       "      <td>Search</td>\n",
       "      <td>2024-11-18 16:11:00+00:00</td>\n",
       "      <td>POINT(-96.74072232 33.0908362)</td>\n",
       "    </tr>\n",
       "  </tbody>\n",
       "</table>\n",
       "<p>5 rows × 24 columns</p>\n",
       "</div>"
      ],
      "text/plain": [
       "   order_id  user_id     status          order_created_at returned_at  \\\n",
       "0         7        6  Cancelled 2025-04-30 07:51:00+00:00         NaT   \n",
       "1        14       11  Cancelled 2025-04-11 03:11:00+00:00         NaT   \n",
       "2        34       23  Cancelled 2023-04-27 13:37:00+00:00         NaT   \n",
       "3        40       28  Cancelled 2024-10-30 10:33:00+00:00         NaT   \n",
       "4        58       42  Cancelled 2025-04-12 16:11:00+00:00         NaT   \n",
       "\n",
       "  shipped_at delivered_at  num_of_item  id first_name  ...     state  \\\n",
       "0        NaT          NaT            1   6      Susan  ...    Hessen   \n",
       "1        NaT          NaT            1  11      Erica  ...     Henan   \n",
       "2        NaT          NaT            1  23      Angel  ...  Kanagawa   \n",
       "3        NaT          NaT            2  28    Jessica  ...     Ceará   \n",
       "4        NaT          NaT            1  42       Tami  ...     Texas   \n",
       "\n",
       "                  street_address  postal_code               city  \\\n",
       "0     59442 Mills Ferry Apt. 767        60547  Frankfurt am Main   \n",
       "1             17355 Donald Hills       452470            Xiaogan   \n",
       "2            32602 Maurice Trail     216-0033      Kawasaki City   \n",
       "3              20625 Joyce Lodge    60810-670          Fortaleza   \n",
       "4  58806 Sandra Centers Apt. 069        75025              Plano   \n",
       "\n",
       "         country   latitude   longitude traffic_source  \\\n",
       "0        Germany  50.039201    8.557562         Search   \n",
       "1          China  34.470866  113.023097         Search   \n",
       "2          Japan  35.589678  139.590570        Organic   \n",
       "3         Brasil  -3.824307  -38.521437        Display   \n",
       "4  United States  33.090836  -96.740722         Search   \n",
       "\n",
       "            user_created_at                         user_geom  \n",
       "0 2022-06-18 07:51:00+00:00    POINT(8.557562006 50.03920146)  \n",
       "1 2025-01-06 03:11:00+00:00    POINT(113.0230966 34.47086604)  \n",
       "2 2021-06-11 13:37:00+00:00     POINT(139.5905701 35.5896775)  \n",
       "3 2024-09-05 10:33:00+00:00  POINT(-38.52143685 -3.824306529)  \n",
       "4 2024-11-18 16:11:00+00:00    POINT(-96.74072232 33.0908362)  \n",
       "\n",
       "[5 rows x 24 columns]"
      ]
     },
     "execution_count": 51,
     "metadata": {},
     "output_type": "execute_result"
    }
   ],
   "source": [
    "#merge the two tables\n",
    "user_orders = orders_df.merge(users_df, left_on = 'user_id', right_on = 'id', how = 'inner' )\n",
    "user_orders.head()"
   ]
  },
  {
   "cell_type": "code",
   "execution_count": 52,
   "id": "6ec2241a-421a-4dad-b1aa-81070628dfc7",
   "metadata": {},
   "outputs": [],
   "source": [
    "# user_id and id represents the same features... id will be dropped\n",
    "\n",
    "user_orders = user_orders.drop(columns = 'id')"
   ]
  },
  {
   "cell_type": "code",
   "execution_count": 53,
   "id": "caecc623-be91-44f7-a0fc-f0e9a3e3033d",
   "metadata": {},
   "outputs": [],
   "source": [
    "# Write a function to check the quality of merged table \n",
    "\n",
    "def quality(df):\n",
    "    ''' check shape null values and duplicated rows\n",
    "    after merging tabl;es\n",
    "    '''\n",
    "    print('Shape of merged tables :', df.shape)\n",
    "    print( '\\nMissing values : \\n', df.isnull().sum())\n",
    "    print('\\nNumber of Duplicate Rows:', df.duplicated().sum())"
   ]
  },
  {
   "cell_type": "code",
   "execution_count": 54,
   "id": "57dc8694-5b8b-4ee3-99fb-ab1c1db57394",
   "metadata": {},
   "outputs": [
    {
     "name": "stdout",
     "output_type": "stream",
     "text": [
      "Shape of merged tables : (125019, 23)\n",
      "\n",
      "Missing values : \n",
      " order_id                 0\n",
      "user_id                  0\n",
      "status                   0\n",
      "order_created_at         0\n",
      "returned_at         112498\n",
      "shipped_at           43850\n",
      "delivered_at         81377\n",
      "num_of_item              0\n",
      "first_name               0\n",
      "last_name                0\n",
      "email                    0\n",
      "age                      0\n",
      "gender                   0\n",
      "state                    0\n",
      "street_address           0\n",
      "postal_code              0\n",
      "city                     0\n",
      "country                  0\n",
      "latitude                 0\n",
      "longitude                0\n",
      "traffic_source           0\n",
      "user_created_at          0\n",
      "user_geom                0\n",
      "dtype: int64\n",
      "\n",
      "Number of Duplicate Rows: 0\n"
     ]
    }
   ],
   "source": [
    "# check for null, duplicates and shape of user_orders\n",
    "\n",
    "quality(user_orders)"
   ]
  },
  {
   "cell_type": "markdown",
   "id": "6b542120-ec3c-4d50-86fa-7ccbac7842da",
   "metadata": {},
   "source": [
    "#### Merge orderitems_df with user_orders"
   ]
  },
  {
   "cell_type": "code",
   "execution_count": 55,
   "id": "86181cb7-f495-4ef0-a22e-5b7d347f21f7",
   "metadata": {},
   "outputs": [
    {
     "data": {
      "text/plain": [
       "['order_id', 'user_id', 'status', 'shipped_at', 'delivered_at', 'returned_at']"
      ]
     },
     "execution_count": 55,
     "metadata": {},
     "output_type": "execute_result"
    }
   ],
   "source": [
    "# using the function, check for overlapping columns\n",
    "duplicates(orderitems_df, user_orders)"
   ]
  },
  {
   "cell_type": "markdown",
   "id": "5abef3e0-a989-4197-8fbd-446fd223a1ec",
   "metadata": {},
   "source": [
    "#### House keeping\n",
    "\n",
    "`orderitems_df` and `user_orders` will be merged on `order_id`, hence, `user_id` will be dropped from orderitems_df. Status, shipped_at, delivered_at, returned_at in order_items_df captures unique information  at the item level in an order. \n",
    "Hence, Status, 'shipped_at', 'delivered_at', 'returned_at in user_orders will be dropped too, this is because the analysis is focused on item_level and not at the order level."
   ]
  },
  {
   "cell_type": "code",
   "execution_count": 56,
   "id": "c447bc5e-9ab0-4b51-b548-0f58c4ed1105",
   "metadata": {},
   "outputs": [],
   "source": [
    "# dropping over lapping columns in user_orders\n",
    "\n",
    "user_orders = user_orders.drop(columns = ['status', 'shipped_at', 'delivered_at', 'returned_at'])\n",
    "\n",
    "# dropping user_id in orderitems_df\n",
    "\n",
    "orderitems_df = orderitems_df.drop(columns = 'user_id')"
   ]
  },
  {
   "cell_type": "code",
   "execution_count": 57,
   "id": "4c4916b8-4795-400d-bb61-f23893f670b8",
   "metadata": {},
   "outputs": [],
   "source": [
    "# rename id in orderitems_df as this shows the id of each item in an order\n",
    "orderitems_df = orderitems_df.rename(columns = {'id' : 'orderitem_id' })"
   ]
  },
  {
   "cell_type": "code",
   "execution_count": 58,
   "id": "658fa925-d13c-49f7-8d68-ac8362624e3d",
   "metadata": {},
   "outputs": [
    {
     "data": {
      "text/plain": [
       "['order_id']"
      ]
     },
     "execution_count": 58,
     "metadata": {},
     "output_type": "execute_result"
    }
   ],
   "source": [
    "# House keeping \n",
    "''' check for over lapping columns\n",
    "'''\n",
    "\n",
    "duplicates(orderitems_df, user_orders)"
   ]
  },
  {
   "cell_type": "code",
   "execution_count": 59,
   "id": "32d8c45a-b85d-4415-a3cb-a86fcfd1b82f",
   "metadata": {},
   "outputs": [],
   "source": [
    "# merge orderitems_d & user_orders\n",
    "\n",
    "complete_orders_df = orderitems_df.merge(user_orders, on = 'order_id', how = 'inner')"
   ]
  },
  {
   "cell_type": "code",
   "execution_count": 60,
   "id": "6444965b-e216-487f-b93f-311b263fa04a",
   "metadata": {},
   "outputs": [
    {
     "data": {
      "text/plain": [
       "(180565, 28)"
      ]
     },
     "execution_count": 60,
     "metadata": {},
     "output_type": "execute_result"
    }
   ],
   "source": [
    "#confirm shape\n",
    "complete_orders_df.shape"
   ]
  },
  {
   "cell_type": "code",
   "execution_count": 61,
   "id": "db0d9744-760e-4385-9a80-afac409098ed",
   "metadata": {
    "scrolled": true
   },
   "outputs": [
    {
     "name": "stdout",
     "output_type": "stream",
     "text": [
      "Shape of merged tables : (180565, 28)\n",
      "\n",
      "Missing values : \n",
      " orderitem_id              0\n",
      "order_id                  0\n",
      "product_id                0\n",
      "inventory_item_id         0\n",
      "status                    0\n",
      "created_at                0\n",
      "shipped_at            63345\n",
      "delivered_at         117529\n",
      "returned_at          162449\n",
      "sale_price                0\n",
      "user_id                   0\n",
      "order_created_at          0\n",
      "num_of_item               0\n",
      "first_name                0\n",
      "last_name                 0\n",
      "email                     0\n",
      "age                       0\n",
      "gender                    0\n",
      "state                     0\n",
      "street_address            0\n",
      "postal_code               0\n",
      "city                      0\n",
      "country                   0\n",
      "latitude                  0\n",
      "longitude                 0\n",
      "traffic_source            0\n",
      "user_created_at           0\n",
      "user_geom                 0\n",
      "dtype: int64\n",
      "\n",
      "Number of Duplicate Rows: 0\n"
     ]
    }
   ],
   "source": [
    "quality(complete_orders_df)"
   ]
  },
  {
   "cell_type": "markdown",
   "id": "7cc931df-f568-405c-9734-0b4371e55f1d",
   "metadata": {},
   "source": [
    "#### Merge inventoryitems_df and complete_orders_df"
   ]
  },
  {
   "cell_type": "code",
   "execution_count": 62,
   "id": "a01fa1b2-1c05-4f99-9bde-9be0c3bdbc2e",
   "metadata": {},
   "outputs": [
    {
     "data": {
      "text/html": [
       "<div>\n",
       "<style scoped>\n",
       "    .dataframe tbody tr th:only-of-type {\n",
       "        vertical-align: middle;\n",
       "    }\n",
       "\n",
       "    .dataframe tbody tr th {\n",
       "        vertical-align: top;\n",
       "    }\n",
       "\n",
       "    .dataframe thead th {\n",
       "        text-align: right;\n",
       "    }\n",
       "</style>\n",
       "<table border=\"1\" class=\"dataframe\">\n",
       "  <thead>\n",
       "    <tr style=\"text-align: right;\">\n",
       "      <th></th>\n",
       "      <th>id</th>\n",
       "      <th>product_id</th>\n",
       "      <th>created_at</th>\n",
       "      <th>sold_at</th>\n",
       "      <th>cost</th>\n",
       "      <th>product_category</th>\n",
       "      <th>product_name</th>\n",
       "      <th>product_brand</th>\n",
       "      <th>product_retail_price</th>\n",
       "      <th>product_department</th>\n",
       "      <th>product_sku</th>\n",
       "      <th>product_distribution_center_id</th>\n",
       "    </tr>\n",
       "  </thead>\n",
       "  <tbody>\n",
       "    <tr>\n",
       "      <th>0</th>\n",
       "      <td>123225</td>\n",
       "      <td>13844</td>\n",
       "      <td>2025-06-25 10:21:31+00:00</td>\n",
       "      <td>2025-08-18 08:55:31+00:00</td>\n",
       "      <td>2.76804</td>\n",
       "      <td>Accessories</td>\n",
       "      <td>(ONE) 1 Satin Headband</td>\n",
       "      <td>Funny Girl Designs</td>\n",
       "      <td>6.99</td>\n",
       "      <td>Women</td>\n",
       "      <td>2A3E953A5E3D81E67945BCE5519F84C8</td>\n",
       "      <td>7</td>\n",
       "    </tr>\n",
       "    <tr>\n",
       "      <th>1</th>\n",
       "      <td>123226</td>\n",
       "      <td>13844</td>\n",
       "      <td>2022-10-11 04:01:00+00:00</td>\n",
       "      <td>NaT</td>\n",
       "      <td>2.76804</td>\n",
       "      <td>Accessories</td>\n",
       "      <td>(ONE) 1 Satin Headband</td>\n",
       "      <td>Funny Girl Designs</td>\n",
       "      <td>6.99</td>\n",
       "      <td>Women</td>\n",
       "      <td>2A3E953A5E3D81E67945BCE5519F84C8</td>\n",
       "      <td>7</td>\n",
       "    </tr>\n",
       "    <tr>\n",
       "      <th>2</th>\n",
       "      <td>145275</td>\n",
       "      <td>13844</td>\n",
       "      <td>2024-01-12 09:46:25+00:00</td>\n",
       "      <td>2024-02-18 05:48:25+00:00</td>\n",
       "      <td>2.76804</td>\n",
       "      <td>Accessories</td>\n",
       "      <td>(ONE) 1 Satin Headband</td>\n",
       "      <td>Funny Girl Designs</td>\n",
       "      <td>6.99</td>\n",
       "      <td>Women</td>\n",
       "      <td>2A3E953A5E3D81E67945BCE5519F84C8</td>\n",
       "      <td>7</td>\n",
       "    </tr>\n",
       "    <tr>\n",
       "      <th>3</th>\n",
       "      <td>145276</td>\n",
       "      <td>13844</td>\n",
       "      <td>2022-05-17 04:16:00+00:00</td>\n",
       "      <td>NaT</td>\n",
       "      <td>2.76804</td>\n",
       "      <td>Accessories</td>\n",
       "      <td>(ONE) 1 Satin Headband</td>\n",
       "      <td>Funny Girl Designs</td>\n",
       "      <td>6.99</td>\n",
       "      <td>Women</td>\n",
       "      <td>2A3E953A5E3D81E67945BCE5519F84C8</td>\n",
       "      <td>7</td>\n",
       "    </tr>\n",
       "    <tr>\n",
       "      <th>4</th>\n",
       "      <td>145277</td>\n",
       "      <td>13844</td>\n",
       "      <td>2023-06-03 06:53:00+00:00</td>\n",
       "      <td>NaT</td>\n",
       "      <td>2.76804</td>\n",
       "      <td>Accessories</td>\n",
       "      <td>(ONE) 1 Satin Headband</td>\n",
       "      <td>Funny Girl Designs</td>\n",
       "      <td>6.99</td>\n",
       "      <td>Women</td>\n",
       "      <td>2A3E953A5E3D81E67945BCE5519F84C8</td>\n",
       "      <td>7</td>\n",
       "    </tr>\n",
       "  </tbody>\n",
       "</table>\n",
       "</div>"
      ],
      "text/plain": [
       "       id  product_id                created_at                   sold_at  \\\n",
       "0  123225       13844 2025-06-25 10:21:31+00:00 2025-08-18 08:55:31+00:00   \n",
       "1  123226       13844 2022-10-11 04:01:00+00:00                       NaT   \n",
       "2  145275       13844 2024-01-12 09:46:25+00:00 2024-02-18 05:48:25+00:00   \n",
       "3  145276       13844 2022-05-17 04:16:00+00:00                       NaT   \n",
       "4  145277       13844 2023-06-03 06:53:00+00:00                       NaT   \n",
       "\n",
       "      cost product_category            product_name       product_brand  \\\n",
       "0  2.76804      Accessories  (ONE) 1 Satin Headband  Funny Girl Designs   \n",
       "1  2.76804      Accessories  (ONE) 1 Satin Headband  Funny Girl Designs   \n",
       "2  2.76804      Accessories  (ONE) 1 Satin Headband  Funny Girl Designs   \n",
       "3  2.76804      Accessories  (ONE) 1 Satin Headband  Funny Girl Designs   \n",
       "4  2.76804      Accessories  (ONE) 1 Satin Headband  Funny Girl Designs   \n",
       "\n",
       "   product_retail_price product_department                       product_sku  \\\n",
       "0                  6.99              Women  2A3E953A5E3D81E67945BCE5519F84C8   \n",
       "1                  6.99              Women  2A3E953A5E3D81E67945BCE5519F84C8   \n",
       "2                  6.99              Women  2A3E953A5E3D81E67945BCE5519F84C8   \n",
       "3                  6.99              Women  2A3E953A5E3D81E67945BCE5519F84C8   \n",
       "4                  6.99              Women  2A3E953A5E3D81E67945BCE5519F84C8   \n",
       "\n",
       "   product_distribution_center_id  \n",
       "0                               7  \n",
       "1                               7  \n",
       "2                               7  \n",
       "3                               7  \n",
       "4                               7  "
      ]
     },
     "execution_count": 62,
     "metadata": {},
     "output_type": "execute_result"
    }
   ],
   "source": [
    "inventoryitems_df.head(5)"
   ]
  },
  {
   "cell_type": "code",
   "execution_count": 63,
   "id": "0468e7f3-d838-4dd3-ba10-368a7f79dd65",
   "metadata": {},
   "outputs": [
    {
     "data": {
      "text/plain": [
       "['product_id', 'created_at']"
      ]
     },
     "execution_count": 63,
     "metadata": {},
     "output_type": "execute_result"
    }
   ],
   "source": [
    "# check for over lapping columns\n",
    "duplicates(inventoryitems_df, complete_orders_df)"
   ]
  },
  {
   "cell_type": "markdown",
   "id": "8bc71db4-2bff-4633-b2d0-b0af465cbc75",
   "metadata": {},
   "source": [
    "**Overlapping columns**\n",
    "\n",
    "The column created_at will be renamed as inventory_created_at as this is the date/time when the inventory for the product was created and inventoryitems_df, complete_orders_df will be merged on inventory_item_id. \n",
    "The over lapping product_id will be dropped for inventoryitems_df"
   ]
  },
  {
   "cell_type": "code",
   "execution_count": 64,
   "id": "31b194f3-77fb-494b-8561-eeb388dd32ea",
   "metadata": {},
   "outputs": [],
   "source": [
    "# Renaming created_at\n",
    "\n",
    "inventoryitems_df = inventoryitems_df.rename(columns = {'created_at' : 'inventorycreated_at'})\n",
    "\n",
    "# drop inventoryitems_df product_id\n",
    "\n",
    "inventoryitems_df = inventoryitems_df.drop(columns = ['product_id'])\n"
   ]
  },
  {
   "cell_type": "code",
   "execution_count": 65,
   "id": "6fde660d-61cd-4721-baca-9c0b4f8c31a9",
   "metadata": {},
   "outputs": [],
   "source": [
    "# merge \n",
    "with_inventory_df = complete_orders_df.merge(\n",
    "    inventoryitems_df, left_on = 'product_id', \n",
    "    right_on = 'id', \n",
    "    how = 'inner' \n",
    ")"
   ]
  },
  {
   "cell_type": "code",
   "execution_count": 66,
   "id": "d71f1212-312b-4d25-b8c6-f9d05fad9816",
   "metadata": {},
   "outputs": [],
   "source": [
    "# drop id from the merged table\n",
    "with_inventory_df = with_inventory_df.drop(columns = ['id'])"
   ]
  },
  {
   "cell_type": "code",
   "execution_count": 67,
   "id": "c10823b4-0d56-41a9-ba0b-2877072c9a70",
   "metadata": {
    "scrolled": true
   },
   "outputs": [
    {
     "name": "stdout",
     "output_type": "stream",
     "text": [
      "Shape of merged tables : (180565, 38)\n",
      "\n",
      "Missing values : \n",
      " orderitem_id                           0\n",
      "order_id                               0\n",
      "product_id                             0\n",
      "inventory_item_id                      0\n",
      "status                                 0\n",
      "created_at                             0\n",
      "shipped_at                         63345\n",
      "delivered_at                      117529\n",
      "returned_at                       162449\n",
      "sale_price                             0\n",
      "user_id                                0\n",
      "order_created_at                       0\n",
      "num_of_item                            0\n",
      "first_name                             0\n",
      "last_name                              0\n",
      "email                                  0\n",
      "age                                    0\n",
      "gender                                 0\n",
      "state                                  0\n",
      "street_address                         0\n",
      "postal_code                            0\n",
      "city                                   0\n",
      "country                                0\n",
      "latitude                               0\n",
      "longitude                              0\n",
      "traffic_source                         0\n",
      "user_created_at                        0\n",
      "user_geom                              0\n",
      "inventorycreated_at                    0\n",
      "sold_at                           113584\n",
      "cost                                   0\n",
      "product_category                       0\n",
      "product_name                           0\n",
      "product_brand                          0\n",
      "product_retail_price                   0\n",
      "product_department                     0\n",
      "product_sku                            0\n",
      "product_distribution_center_id         0\n",
      "dtype: int64\n",
      "\n",
      "Number of Duplicate Rows: 0\n"
     ]
    }
   ],
   "source": [
    "# sanity check\n",
    "\n",
    "quality(with_inventory_df)"
   ]
  },
  {
   "cell_type": "markdown",
   "id": "b5c1b4ee-0d0a-41c8-bdcb-77b32324e17c",
   "metadata": {},
   "source": [
    "#### Add products"
   ]
  },
  {
   "cell_type": "code",
   "execution_count": 68,
   "id": "72a8770f-ad0b-4383-be61-10cb9c5a4489",
   "metadata": {},
   "outputs": [
    {
     "data": {
      "text/html": [
       "<div>\n",
       "<style scoped>\n",
       "    .dataframe tbody tr th:only-of-type {\n",
       "        vertical-align: middle;\n",
       "    }\n",
       "\n",
       "    .dataframe tbody tr th {\n",
       "        vertical-align: top;\n",
       "    }\n",
       "\n",
       "    .dataframe thead th {\n",
       "        text-align: right;\n",
       "    }\n",
       "</style>\n",
       "<table border=\"1\" class=\"dataframe\">\n",
       "  <thead>\n",
       "    <tr style=\"text-align: right;\">\n",
       "      <th></th>\n",
       "      <th>id</th>\n",
       "      <th>cost</th>\n",
       "      <th>category</th>\n",
       "      <th>name</th>\n",
       "      <th>brand</th>\n",
       "      <th>retail_price</th>\n",
       "      <th>department</th>\n",
       "      <th>sku</th>\n",
       "      <th>distribution_center_id</th>\n",
       "    </tr>\n",
       "  </thead>\n",
       "  <tbody>\n",
       "    <tr>\n",
       "      <th>0</th>\n",
       "      <td>13842</td>\n",
       "      <td>2.51875</td>\n",
       "      <td>Accessories</td>\n",
       "      <td>Low Profile Dyed Cotton Twill Cap - Navy W39S55D</td>\n",
       "      <td>MG</td>\n",
       "      <td>6.25</td>\n",
       "      <td>Women</td>\n",
       "      <td>EBD58B8A3F1D72F4206201DA62FB1204</td>\n",
       "      <td>1</td>\n",
       "    </tr>\n",
       "    <tr>\n",
       "      <th>1</th>\n",
       "      <td>13928</td>\n",
       "      <td>2.33835</td>\n",
       "      <td>Accessories</td>\n",
       "      <td>Low Profile Dyed Cotton Twill Cap - Putty W39S55D</td>\n",
       "      <td>MG</td>\n",
       "      <td>5.95</td>\n",
       "      <td>Women</td>\n",
       "      <td>2EAC42424D12436BDD6A5B8A88480CC3</td>\n",
       "      <td>1</td>\n",
       "    </tr>\n",
       "    <tr>\n",
       "      <th>2</th>\n",
       "      <td>14115</td>\n",
       "      <td>4.87956</td>\n",
       "      <td>Accessories</td>\n",
       "      <td>Enzyme Regular Solid Army Caps-Black W35S45D</td>\n",
       "      <td>MG</td>\n",
       "      <td>10.99</td>\n",
       "      <td>Women</td>\n",
       "      <td>EE364229B2791D1EF9355708EFF0BA34</td>\n",
       "      <td>1</td>\n",
       "    </tr>\n",
       "    <tr>\n",
       "      <th>3</th>\n",
       "      <td>14157</td>\n",
       "      <td>4.64877</td>\n",
       "      <td>Accessories</td>\n",
       "      <td>Enzyme Regular Solid Army Caps-Olive W35S45D (...</td>\n",
       "      <td>MG</td>\n",
       "      <td>10.99</td>\n",
       "      <td>Women</td>\n",
       "      <td>00BD13095D06C20B11A2993CA419D16B</td>\n",
       "      <td>1</td>\n",
       "    </tr>\n",
       "    <tr>\n",
       "      <th>4</th>\n",
       "      <td>14273</td>\n",
       "      <td>6.50793</td>\n",
       "      <td>Accessories</td>\n",
       "      <td>Washed Canvas Ivy Cap - Black W11S64C</td>\n",
       "      <td>MG</td>\n",
       "      <td>15.99</td>\n",
       "      <td>Women</td>\n",
       "      <td>F531DC20FDE20B7ADF3A73F52B71D0AF</td>\n",
       "      <td>1</td>\n",
       "    </tr>\n",
       "  </tbody>\n",
       "</table>\n",
       "</div>"
      ],
      "text/plain": [
       "      id     cost     category  \\\n",
       "0  13842  2.51875  Accessories   \n",
       "1  13928  2.33835  Accessories   \n",
       "2  14115  4.87956  Accessories   \n",
       "3  14157  4.64877  Accessories   \n",
       "4  14273  6.50793  Accessories   \n",
       "\n",
       "                                                name brand  retail_price  \\\n",
       "0   Low Profile Dyed Cotton Twill Cap - Navy W39S55D    MG          6.25   \n",
       "1  Low Profile Dyed Cotton Twill Cap - Putty W39S55D    MG          5.95   \n",
       "2       Enzyme Regular Solid Army Caps-Black W35S45D    MG         10.99   \n",
       "3  Enzyme Regular Solid Army Caps-Olive W35S45D (...    MG         10.99   \n",
       "4              Washed Canvas Ivy Cap - Black W11S64C    MG         15.99   \n",
       "\n",
       "  department                               sku  distribution_center_id  \n",
       "0      Women  EBD58B8A3F1D72F4206201DA62FB1204                       1  \n",
       "1      Women  2EAC42424D12436BDD6A5B8A88480CC3                       1  \n",
       "2      Women  EE364229B2791D1EF9355708EFF0BA34                       1  \n",
       "3      Women  00BD13095D06C20B11A2993CA419D16B                       1  \n",
       "4      Women  F531DC20FDE20B7ADF3A73F52B71D0AF                       1  "
      ]
     },
     "execution_count": 68,
     "metadata": {},
     "output_type": "execute_result"
    }
   ],
   "source": [
    "products_df.head()"
   ]
  },
  {
   "cell_type": "code",
   "execution_count": 69,
   "id": "d2c491c6-2f07-4bdc-a85b-0dc672251d82",
   "metadata": {},
   "outputs": [
    {
     "data": {
      "text/plain": [
       "['cost']"
      ]
     },
     "execution_count": 69,
     "metadata": {},
     "output_type": "execute_result"
    }
   ],
   "source": [
    "# check for over lapping columns\n",
    "\n",
    "duplicates(products_df, with_inventory_df)"
   ]
  },
  {
   "cell_type": "markdown",
   "id": "68e021bc-78f3-4ca5-bf3b-5b368f388ae2",
   "metadata": {},
   "source": [
    "products_df['cost'] This is the product level cost\n",
    "inventoryitems_df['cost'] : This is the unit cost of the product to the business. If the business stocks different batches, the unity price of the bacth may be different from each other."
   ]
  },
  {
   "cell_type": "code",
   "execution_count": 70,
   "id": "f55b476b-984c-4065-a271-2dfb2cc46319",
   "metadata": {},
   "outputs": [],
   "source": [
    "# renaming cost for the two tables\n",
    "products_df = products_df.rename(columns = {'cost' : 'product_cost'})\n",
    "\n",
    "with_inventory_df = with_inventory_df.rename(columns = {'cost' : 'inventory_cost'})"
   ]
  },
  {
   "cell_type": "code",
   "execution_count": 71,
   "id": "7fde0327-8816-4df9-b495-bcb2c87ba03c",
   "metadata": {},
   "outputs": [],
   "source": [
    "# merge \n",
    "merged_df = with_inventory_df.merge(\n",
    "    products_df, left_on = 'product_id', \n",
    "    right_on = 'id', \n",
    "    how = 'inner' \n",
    ")"
   ]
  },
  {
   "cell_type": "code",
   "execution_count": 72,
   "id": "90ef8397-769a-4181-b9cd-04e90de88d5f",
   "metadata": {
    "scrolled": true
   },
   "outputs": [
    {
     "name": "stdout",
     "output_type": "stream",
     "text": [
      "Shape of merged tables : (180554, 47)\n",
      "\n",
      "Missing values : \n",
      " orderitem_id                           0\n",
      "order_id                               0\n",
      "product_id                             0\n",
      "inventory_item_id                      0\n",
      "status                                 0\n",
      "created_at                             0\n",
      "shipped_at                         63343\n",
      "delivered_at                      117524\n",
      "returned_at                       162439\n",
      "sale_price                             0\n",
      "user_id                                0\n",
      "order_created_at                       0\n",
      "num_of_item                            0\n",
      "first_name                             0\n",
      "last_name                              0\n",
      "email                                  0\n",
      "age                                    0\n",
      "gender                                 0\n",
      "state                                  0\n",
      "street_address                         0\n",
      "postal_code                            0\n",
      "city                                   0\n",
      "country                                0\n",
      "latitude                               0\n",
      "longitude                              0\n",
      "traffic_source                         0\n",
      "user_created_at                        0\n",
      "user_geom                              0\n",
      "inventorycreated_at                    0\n",
      "sold_at                           113578\n",
      "inventory_cost                         0\n",
      "product_category                       0\n",
      "product_name                           0\n",
      "product_brand                          0\n",
      "product_retail_price                   0\n",
      "product_department                     0\n",
      "product_sku                            0\n",
      "product_distribution_center_id         0\n",
      "id                                     0\n",
      "product_cost                           0\n",
      "category                               0\n",
      "name                                   0\n",
      "brand                                  0\n",
      "retail_price                           0\n",
      "department                             0\n",
      "sku                                    0\n",
      "distribution_center_id                 0\n",
      "dtype: int64\n",
      "\n",
      "Number of Duplicate Rows: 0\n"
     ]
    }
   ],
   "source": [
    "quality(merged_df)"
   ]
  },
  {
   "cell_type": "code",
   "execution_count": 73,
   "id": "145efee4-8976-467e-b182-8993fb5d611d",
   "metadata": {
    "scrolled": true
   },
   "outputs": [
    {
     "data": {
      "text/html": [
       "<div>\n",
       "<style scoped>\n",
       "    .dataframe tbody tr th:only-of-type {\n",
       "        vertical-align: middle;\n",
       "    }\n",
       "\n",
       "    .dataframe tbody tr th {\n",
       "        vertical-align: top;\n",
       "    }\n",
       "\n",
       "    .dataframe thead th {\n",
       "        text-align: right;\n",
       "    }\n",
       "</style>\n",
       "<table border=\"1\" class=\"dataframe\">\n",
       "  <thead>\n",
       "    <tr style=\"text-align: right;\">\n",
       "      <th></th>\n",
       "      <th>orderitem_id</th>\n",
       "      <th>order_id</th>\n",
       "      <th>product_id</th>\n",
       "      <th>inventory_item_id</th>\n",
       "      <th>status</th>\n",
       "      <th>created_at</th>\n",
       "      <th>shipped_at</th>\n",
       "      <th>delivered_at</th>\n",
       "      <th>returned_at</th>\n",
       "      <th>sale_price</th>\n",
       "      <th>...</th>\n",
       "      <th>product_distribution_center_id</th>\n",
       "      <th>id</th>\n",
       "      <th>product_cost</th>\n",
       "      <th>category</th>\n",
       "      <th>name</th>\n",
       "      <th>brand</th>\n",
       "      <th>retail_price</th>\n",
       "      <th>department</th>\n",
       "      <th>sku</th>\n",
       "      <th>distribution_center_id</th>\n",
       "    </tr>\n",
       "  </thead>\n",
       "  <tbody>\n",
       "    <tr>\n",
       "      <th>0</th>\n",
       "      <td>6912</td>\n",
       "      <td>4747</td>\n",
       "      <td>14235</td>\n",
       "      <td>18655</td>\n",
       "      <td>Cancelled</td>\n",
       "      <td>2020-05-27 00:41:11+00:00</td>\n",
       "      <td>NaT</td>\n",
       "      <td>NaT</td>\n",
       "      <td>NaT</td>\n",
       "      <td>0.02</td>\n",
       "      <td>...</td>\n",
       "      <td>4</td>\n",
       "      <td>14235</td>\n",
       "      <td>0.0083</td>\n",
       "      <td>Accessories</td>\n",
       "      <td>Indestructable Aluminum Aluma Wallet - RED</td>\n",
       "      <td>marshal</td>\n",
       "      <td>0.02</td>\n",
       "      <td>Women</td>\n",
       "      <td>8425BC94A44E3D1BB3C8C026B2702C00</td>\n",
       "      <td>1</td>\n",
       "    </tr>\n",
       "    <tr>\n",
       "      <th>1</th>\n",
       "      <td>2231</td>\n",
       "      <td>1504</td>\n",
       "      <td>14235</td>\n",
       "      <td>6047</td>\n",
       "      <td>Complete</td>\n",
       "      <td>2024-11-27 10:36:51+00:00</td>\n",
       "      <td>2024-11-29 06:00:00+00:00</td>\n",
       "      <td>2024-12-03 17:47:00+00:00</td>\n",
       "      <td>NaT</td>\n",
       "      <td>0.02</td>\n",
       "      <td>...</td>\n",
       "      <td>4</td>\n",
       "      <td>14235</td>\n",
       "      <td>0.0083</td>\n",
       "      <td>Accessories</td>\n",
       "      <td>Indestructable Aluminum Aluma Wallet - RED</td>\n",
       "      <td>marshal</td>\n",
       "      <td>0.02</td>\n",
       "      <td>Women</td>\n",
       "      <td>8425BC94A44E3D1BB3C8C026B2702C00</td>\n",
       "      <td>1</td>\n",
       "    </tr>\n",
       "    <tr>\n",
       "      <th>2</th>\n",
       "      <td>45909</td>\n",
       "      <td>31740</td>\n",
       "      <td>14235</td>\n",
       "      <td>123883</td>\n",
       "      <td>Complete</td>\n",
       "      <td>2023-12-14 10:16:11+00:00</td>\n",
       "      <td>2023-12-16 06:05:00+00:00</td>\n",
       "      <td>2023-12-17 15:34:00+00:00</td>\n",
       "      <td>NaT</td>\n",
       "      <td>0.02</td>\n",
       "      <td>...</td>\n",
       "      <td>4</td>\n",
       "      <td>14235</td>\n",
       "      <td>0.0083</td>\n",
       "      <td>Accessories</td>\n",
       "      <td>Indestructable Aluminum Aluma Wallet - RED</td>\n",
       "      <td>marshal</td>\n",
       "      <td>0.02</td>\n",
       "      <td>Women</td>\n",
       "      <td>8425BC94A44E3D1BB3C8C026B2702C00</td>\n",
       "      <td>1</td>\n",
       "    </tr>\n",
       "    <tr>\n",
       "      <th>3</th>\n",
       "      <td>50508</td>\n",
       "      <td>34923</td>\n",
       "      <td>14235</td>\n",
       "      <td>136259</td>\n",
       "      <td>Complete</td>\n",
       "      <td>2025-09-02 01:26:53.810263+00:00</td>\n",
       "      <td>2025-09-03 19:06:57.810263+00:00</td>\n",
       "      <td>2025-09-08 00:09:57.810263+00:00</td>\n",
       "      <td>NaT</td>\n",
       "      <td>0.02</td>\n",
       "      <td>...</td>\n",
       "      <td>4</td>\n",
       "      <td>14235</td>\n",
       "      <td>0.0083</td>\n",
       "      <td>Accessories</td>\n",
       "      <td>Indestructable Aluminum Aluma Wallet - RED</td>\n",
       "      <td>marshal</td>\n",
       "      <td>0.02</td>\n",
       "      <td>Women</td>\n",
       "      <td>8425BC94A44E3D1BB3C8C026B2702C00</td>\n",
       "      <td>1</td>\n",
       "    </tr>\n",
       "    <tr>\n",
       "      <th>4</th>\n",
       "      <td>73786</td>\n",
       "      <td>51039</td>\n",
       "      <td>14235</td>\n",
       "      <td>199174</td>\n",
       "      <td>Complete</td>\n",
       "      <td>2025-03-18 12:34:15+00:00</td>\n",
       "      <td>2025-03-19 06:42:00+00:00</td>\n",
       "      <td>2025-03-23 22:15:00+00:00</td>\n",
       "      <td>NaT</td>\n",
       "      <td>0.02</td>\n",
       "      <td>...</td>\n",
       "      <td>4</td>\n",
       "      <td>14235</td>\n",
       "      <td>0.0083</td>\n",
       "      <td>Accessories</td>\n",
       "      <td>Indestructable Aluminum Aluma Wallet - RED</td>\n",
       "      <td>marshal</td>\n",
       "      <td>0.02</td>\n",
       "      <td>Women</td>\n",
       "      <td>8425BC94A44E3D1BB3C8C026B2702C00</td>\n",
       "      <td>1</td>\n",
       "    </tr>\n",
       "  </tbody>\n",
       "</table>\n",
       "<p>5 rows × 47 columns</p>\n",
       "</div>"
      ],
      "text/plain": [
       "   orderitem_id  order_id  product_id  inventory_item_id     status  \\\n",
       "0          6912      4747       14235              18655  Cancelled   \n",
       "1          2231      1504       14235               6047   Complete   \n",
       "2         45909     31740       14235             123883   Complete   \n",
       "3         50508     34923       14235             136259   Complete   \n",
       "4         73786     51039       14235             199174   Complete   \n",
       "\n",
       "                        created_at                       shipped_at  \\\n",
       "0        2020-05-27 00:41:11+00:00                              NaT   \n",
       "1        2024-11-27 10:36:51+00:00        2024-11-29 06:00:00+00:00   \n",
       "2        2023-12-14 10:16:11+00:00        2023-12-16 06:05:00+00:00   \n",
       "3 2025-09-02 01:26:53.810263+00:00 2025-09-03 19:06:57.810263+00:00   \n",
       "4        2025-03-18 12:34:15+00:00        2025-03-19 06:42:00+00:00   \n",
       "\n",
       "                      delivered_at returned_at  sale_price  ...  \\\n",
       "0                              NaT         NaT        0.02  ...   \n",
       "1        2024-12-03 17:47:00+00:00         NaT        0.02  ...   \n",
       "2        2023-12-17 15:34:00+00:00         NaT        0.02  ...   \n",
       "3 2025-09-08 00:09:57.810263+00:00         NaT        0.02  ...   \n",
       "4        2025-03-23 22:15:00+00:00         NaT        0.02  ...   \n",
       "\n",
       "   product_distribution_center_id     id  product_cost     category  \\\n",
       "0                               4  14235        0.0083  Accessories   \n",
       "1                               4  14235        0.0083  Accessories   \n",
       "2                               4  14235        0.0083  Accessories   \n",
       "3                               4  14235        0.0083  Accessories   \n",
       "4                               4  14235        0.0083  Accessories   \n",
       "\n",
       "                                         name    brand  retail_price  \\\n",
       "0  Indestructable Aluminum Aluma Wallet - RED  marshal          0.02   \n",
       "1  Indestructable Aluminum Aluma Wallet - RED  marshal          0.02   \n",
       "2  Indestructable Aluminum Aluma Wallet - RED  marshal          0.02   \n",
       "3  Indestructable Aluminum Aluma Wallet - RED  marshal          0.02   \n",
       "4  Indestructable Aluminum Aluma Wallet - RED  marshal          0.02   \n",
       "\n",
       "  department                               sku distribution_center_id  \n",
       "0      Women  8425BC94A44E3D1BB3C8C026B2702C00                      1  \n",
       "1      Women  8425BC94A44E3D1BB3C8C026B2702C00                      1  \n",
       "2      Women  8425BC94A44E3D1BB3C8C026B2702C00                      1  \n",
       "3      Women  8425BC94A44E3D1BB3C8C026B2702C00                      1  \n",
       "4      Women  8425BC94A44E3D1BB3C8C026B2702C00                      1  \n",
       "\n",
       "[5 rows x 47 columns]"
      ]
     },
     "execution_count": 73,
     "metadata": {},
     "output_type": "execute_result"
    }
   ],
   "source": [
    "merged_df.head(5)"
   ]
  },
  {
   "cell_type": "markdown",
   "id": "7e0e7949-2ed1-4c1d-b471-f640417149ec",
   "metadata": {},
   "source": [
    "#### saving the merged table"
   ]
  },
  {
   "cell_type": "code",
   "execution_count": 74,
   "id": "8bf2aacb-e86a-4a42-9a8f-7cf902d767b5",
   "metadata": {},
   "outputs": [
    {
     "name": "stdout",
     "output_type": "stream",
     "text": [
      " Folder Data already exist\n"
     ]
    }
   ],
   "source": [
    "# creating folder 'Data'\n",
    "folder_name = 'Data'\n",
    "try:\n",
    "    os.mkdir(folder_name)\n",
    "    print(f\" Folder {folder_name} created successfully\" )\n",
    "except FileExistsError:\n",
    "    print(f\" Folder {folder_name} already exist\" )"
   ]
  },
  {
   "cell_type": "code",
   "execution_count": 75,
   "id": "ee0b7e20-d66e-48fd-8a9f-c948541ae9af",
   "metadata": {},
   "outputs": [],
   "source": [
    "# Saving the table\n",
    "\n",
    "merged_df.to_csv('Data/merged_df.csv', index = False)"
   ]
  },
  {
   "cell_type": "markdown",
   "id": "7c0c1dd7-613e-4061-8681-e3ce5fb20393",
   "metadata": {},
   "source": [
    "## Visualization "
   ]
  },
  {
   "cell_type": "markdown",
   "id": "804a8505-f073-4c42-94fe-b38e58be49e7",
   "metadata": {},
   "source": [
    "#### Customer Profile Analysis"
   ]
  },
  {
   "cell_type": "code",
   "execution_count": 76,
   "id": "08eb517a-6035-4e4d-affd-27ef6ceca34a",
   "metadata": {},
   "outputs": [
    {
     "name": "stdout",
     "output_type": "stream",
     "text": [
      " Folder Graphs already exist\n"
     ]
    }
   ],
   "source": [
    "# create a folder graph for plots\n",
    "\n",
    "Folder_name = 'Graphs'\n",
    "try:\n",
    "    os.mkdir(Folder_name)\n",
    "    print(f\" Folder {Folder_name} created successfully\" )\n",
    "except FileExistsError:\n",
    "    print(f\" Folder {Folder_name} already exist\" )\n",
    "    "
   ]
  },
  {
   "cell_type": "code",
   "execution_count": 77,
   "id": "5a1a052e-4011-458f-97bf-37194e7a8c90",
   "metadata": {},
   "outputs": [
    {
     "name": "stderr",
     "output_type": "stream",
     "text": [
      "C:\\Users\\DELL XPS\\AppData\\Local\\Temp\\ipykernel_5176\\1478899805.py:6: FutureWarning: \n",
      "\n",
      "Passing `palette` without assigning `hue` is deprecated and will be removed in v0.14.0. Assign the `x` variable to `hue` and set `legend=False` for the same effect.\n",
      "\n",
      "  sns.countplot(data = merged_df, x = 'age_group', palette = 'viridis')\n"
     ]
    },
    {
     "data": {
      "image/png": "[encoded data removed]",
      "text/plain": [
       "<Figure size 640x480 with 1 Axes>"
      ]
     },
     "metadata": {},
     "output_type": "display_data"
    }
   ],
   "source": [
    "\n",
    "# Age distribution\n",
    "sns.set_style('darkgrid')\n",
    "bins  = [10, 20, 30, 40, 50, 60, 70]\n",
    "labels = ['10 - 19', '20 -29', '30 -39', ' 40 - 49', '50 - 59', '60 - 69']\n",
    "merged_df['age_group'] = pd.cut(merged_df['age'], bins = bins, labels = labels)\n",
    "sns.countplot(data = merged_df, x = 'age_group', palette = 'viridis')\n",
    "\n",
    "plt.xlabel('Age_group')\n",
    "plt.ylabel('Number of Customers')\n",
    "plt.title('Customer Age distribution')\n",
    "\n",
    "plt.savefig('Graphs/age_hist.png')\n",
    "plt.show()"
   ]
  },
  {
   "cell_type": "markdown",
   "id": "01b0e752-b180-4283-be23-6bd73fe38af0",
   "metadata": {},
   "source": [
    "#### Age distribution\n",
    "\n",
    "Customers aged 20 - 29 form the largest customer segment, with over 30,000 individuals. This age group likely represents young profesionals or early career adults. \n",
    "\n",
    "Age 30 -39, 40 - 49 and 60 - 60 all have similarly hight counts. Customers in the 10 - 19 age group form the smallest5 sdegment of the customer base. "
   ]
  },
  {
   "cell_type": "code",
   "execution_count": 78,
   "id": "410b2ebc-97b5-4b01-bd97-d2ae2529041e",
   "metadata": {},
   "outputs": [],
   "source": [
    "# Gender distribution\n",
    "\n",
    "gender_counts = merged_df['gender'].value_counts(normalize = True)"
   ]
  },
  {
   "cell_type": "code",
   "execution_count": 79,
   "id": "7325cda1-ad40-4cbd-8332-d34269b48d68",
   "metadata": {},
   "outputs": [
    {
     "data": {
      "image/png": "[encoded data removed]",
      "text/plain": [
       "<Figure size 1000x600 with 1 Axes>"
      ]
     },
     "metadata": {},
     "output_type": "display_data"
    }
   ],
   "source": [
    "# Set Seaborn style\n",
    "sns.set_style(\"whitegrid\")\n",
    "\n",
    "# Count gender values\n",
    "gender_counts = merged_df['gender'].value_counts()\n",
    "\n",
    "# Create the plot\n",
    "plt.figure(figsize=(10, 6))\n",
    "bars = plt.bar(gender_counts.index, gender_counts.values, color=['#5DADE2', '#F1948A'], edgecolor='black')\n",
    "\n",
    "# Add data labels on top of the bars\n",
    "for bar in bars:\n",
    "    height = bar.get_height()\n",
    "    plt.text(bar.get_x() + bar.get_width()/2.0, height + 1000, f'{int(height)}', ha='center', fontsize=12)\n",
    "\n",
    "# Customize labels and title\n",
    "plt.xlabel('Gender', fontsize=14)\n",
    "plt.ylabel('Number of Customers', fontsize=14)\n",
    "plt.title('Gender Distribution of Customers', fontsize=16)\n",
    "plt.xticks(fontsize=12)\n",
    "plt.yticks(fontsize=12)\n",
    "plt.tight_layout()\n",
    "\n",
    "# Save and show\n",
    "plt.savefig('Graphs/gender_distribution.png')\n",
    "plt.show()"
   ]
  },
  {
   "cell_type": "code",
   "execution_count": 80,
   "id": "6e03cd54-73b8-44b4-9d03-83bb6e054b17",
   "metadata": {},
   "outputs": [
    {
     "name": "stderr",
     "output_type": "stream",
     "text": [
      "C:\\Users\\DELL XPS\\AppData\\Local\\Temp\\ipykernel_5176\\3669556425.py:4: FutureWarning: The default of observed=False is deprecated and will be changed to True in a future version of pandas. Pass observed=False to retain current behavior or observed=True to adopt the future default and silence this warning.\n",
      "  merged_df.groupby(['age_group', 'gender'])['sale_price']\n"
     ]
    },
    {
     "data": {
      "image/png": "[encoded data removed]",
      "text/plain": [
       "<Figure size 1000x600 with 1 Axes>"
      ]
     },
     "metadata": {},
     "output_type": "display_data"
    }
   ],
   "source": [
    "# Aggregate total spend by age group and gender\n",
    "\n",
    "age_gender_spend = (\n",
    "    merged_df.groupby(['age_group', 'gender'])['sale_price']\n",
    "    .sum()\n",
    "    .reset_index()\n",
    ")\n",
    "\n",
    "plt.figure(figsize=(10,6))\n",
    "sns.barplot(x='age_group', y='sale_price', hue='gender', data=age_gender_spend)\n",
    "plt.title('Total Spend by Age Group and Gender')\n",
    "plt.ylabel('Total Spend')\n",
    "plt.xlabel('Age Group')\n",
    "plt.show()"
   ]
  },
  {
   "cell_type": "code",
   "execution_count": 82,
   "id": "e8cb5dc1-cc64-4b4f-84f3-c051bd279964",
   "metadata": {},
   "outputs": [
    {
     "data": {
      "text/html": [
       "<div>\n",
       "<style scoped>\n",
       "    .dataframe tbody tr th:only-of-type {\n",
       "        vertical-align: middle;\n",
       "    }\n",
       "\n",
       "    .dataframe tbody tr th {\n",
       "        vertical-align: top;\n",
       "    }\n",
       "\n",
       "    .dataframe thead th {\n",
       "        text-align: right;\n",
       "    }\n",
       "</style>\n",
       "<table border=\"1\" class=\"dataframe\">\n",
       "  <thead>\n",
       "    <tr style=\"text-align: right;\">\n",
       "      <th></th>\n",
       "      <th>age_group</th>\n",
       "      <th>gender</th>\n",
       "      <th>sale_price</th>\n",
       "    </tr>\n",
       "  </thead>\n",
       "  <tbody>\n",
       "    <tr>\n",
       "      <th>0</th>\n",
       "      <td>10 - 19</td>\n",
       "      <td>F</td>\n",
       "      <td>7.260772e+05</td>\n",
       "    </tr>\n",
       "    <tr>\n",
       "      <th>1</th>\n",
       "      <td>10 - 19</td>\n",
       "      <td>M</td>\n",
       "      <td>8.802483e+05</td>\n",
       "    </tr>\n",
       "    <tr>\n",
       "      <th>2</th>\n",
       "      <td>20 -29</td>\n",
       "      <td>F</td>\n",
       "      <td>8.618412e+05</td>\n",
       "    </tr>\n",
       "    <tr>\n",
       "      <th>3</th>\n",
       "      <td>20 -29</td>\n",
       "      <td>M</td>\n",
       "      <td>9.693007e+05</td>\n",
       "    </tr>\n",
       "    <tr>\n",
       "      <th>4</th>\n",
       "      <td>30 -39</td>\n",
       "      <td>F</td>\n",
       "      <td>8.572373e+05</td>\n",
       "    </tr>\n",
       "    <tr>\n",
       "      <th>5</th>\n",
       "      <td>30 -39</td>\n",
       "      <td>M</td>\n",
       "      <td>1.006534e+06</td>\n",
       "    </tr>\n",
       "    <tr>\n",
       "      <th>6</th>\n",
       "      <td>40 - 49</td>\n",
       "      <td>F</td>\n",
       "      <td>8.576863e+05</td>\n",
       "    </tr>\n",
       "    <tr>\n",
       "      <th>7</th>\n",
       "      <td>40 - 49</td>\n",
       "      <td>M</td>\n",
       "      <td>9.749833e+05</td>\n",
       "    </tr>\n",
       "    <tr>\n",
       "      <th>8</th>\n",
       "      <td>50 - 59</td>\n",
       "      <td>F</td>\n",
       "      <td>8.628271e+05</td>\n",
       "    </tr>\n",
       "    <tr>\n",
       "      <th>9</th>\n",
       "      <td>50 - 59</td>\n",
       "      <td>M</td>\n",
       "      <td>9.859376e+05</td>\n",
       "    </tr>\n",
       "    <tr>\n",
       "      <th>10</th>\n",
       "      <td>60 - 69</td>\n",
       "      <td>F</td>\n",
       "      <td>8.250360e+05</td>\n",
       "    </tr>\n",
       "    <tr>\n",
       "      <th>11</th>\n",
       "      <td>60 - 69</td>\n",
       "      <td>M</td>\n",
       "      <td>9.616338e+05</td>\n",
       "    </tr>\n",
       "  </tbody>\n",
       "</table>\n",
       "</div>"
      ],
      "text/plain": [
       "   age_group gender    sale_price\n",
       "0    10 - 19      F  7.260772e+05\n",
       "1    10 - 19      M  8.802483e+05\n",
       "2     20 -29      F  8.618412e+05\n",
       "3     20 -29      M  9.693007e+05\n",
       "4     30 -39      F  8.572373e+05\n",
       "5     30 -39      M  1.006534e+06\n",
       "6    40 - 49      F  8.576863e+05\n",
       "7    40 - 49      M  9.749833e+05\n",
       "8    50 - 59      F  8.628271e+05\n",
       "9    50 - 59      M  9.859376e+05\n",
       "10   60 - 69      F  8.250360e+05\n",
       "11   60 - 69      M  9.616338e+05"
      ]
     },
     "execution_count": 82,
     "metadata": {},
     "output_type": "execute_result"
    }
   ],
   "source": [
    "age_gender_spend"
   ]
  },
  {
   "cell_type": "code",
   "execution_count": 81,
   "id": "c378439e-3ea8-44e4-a40b-162bca7eb740",
   "metadata": {},
   "outputs": [
    {
     "name": "stderr",
     "output_type": "stream",
     "text": [
      "C:\\Users\\DELL XPS\\AppData\\Local\\Temp\\ipykernel_5176\\3484016590.py:3: FutureWarning: The default of observed=False is deprecated and will be changed to True in a future version of pandas. Pass observed=False to retain current behavior or observed=True to adopt the future default and silence this warning.\n",
      "  merged_df.groupby(['age_group', 'gender'])['order_id']\n"
     ]
    },
    {
     "data": {
      "image/png": "[encoded data removed]",
      "text/plain": [
       "<Figure size 1000x600 with 1 Axes>"
      ]
     },
     "metadata": {},
     "output_type": "display_data"
    }
   ],
   "source": [
    "# Count unique orders per age group and gender\n",
    "age_gender_orders = (\n",
    "    merged_df.groupby(['age_group', 'gender'])['order_id']\n",
    "    .nunique()\n",
    "    .reset_index()\n",
    ")\n",
    "\n",
    "plt.figure(figsize=(10,6))\n",
    "sns.barplot(x='age_group', y='order_id', hue='gender', data=age_gender_orders)\n",
    "plt.title('Number of Orders by Age Group and Gender')\n",
    "plt.ylabel('Number of Orders')\n",
    "plt.xlabel('Age Group')\n",
    "plt.show()\n"
   ]
  },
  {
   "cell_type": "markdown",
   "id": "82e64495-7fc9-4410-80ac-01945ecbbff5",
   "metadata": {},
   "source": [
    "#### Total Spend by Age Group and Gender\n",
    "\n",
    "The graph shows that Male tends to spend a bit higher across each age category. However, in terms of number of orders both Male and Female tends to have similar number of orders. This then begs the \n",
    "question why Male spends significantly more then female."
   ]
  },
  {
   "cell_type": "code",
   "execution_count": 90,
   "id": "72b6e20a-50b1-4a5a-a874-325d8bdb9eec",
   "metadata": {},
   "outputs": [
    {
     "name": "stdout",
     "output_type": "stream",
     "text": [
      "                                           product_name  purchase_count\n",
      "2385    Lee Men's Relaxed Fit Slightly Tapered Leg Jean             104\n",
      "1926         Hurley Juniors Lowrider 2.5 Inch Walkshort              83\n",
      "1731                            Gucci 1013/S Sunglasses              78\n",
      "4241  Women's 100% Cotton Jersey Smocked Striped Top...              68\n",
      "3516                   Saddleback Leather Wallet Sleeve              65\n",
      "2310  LAGUNA BEACH Hand Stitch Denim Skirt W/ Sunset...              63\n",
      "3322  RIGGS WORKWEAR by Wrangler Men's Short Sleeve ...              62\n",
      "1571  Fox River Original Rockford Red Heel Cotton Mo...              61\n",
      "817              Calvin Klein Men's Signature Pass Case              61\n",
      "2262     Kenneth Cole Women's Micropoly Short Down Coat              61\n"
     ]
    }
   ],
   "source": [
    "top_products_male = (\n",
    "    merged_df[merged_df['gender'] == 'M']\n",
    "    .groupby('product_name')\n",
    "    .size()\n",
    "    .reset_index(name='purchase_count')\n",
    "    .sort_values(by='purchase_count', ascending=False)\n",
    "    .head(10)  # top 10\n",
    ")\n",
    "\n",
    "print(top_products_male)\n"
   ]
  },
  {
   "cell_type": "code",
   "execution_count": 100,
   "id": "753535e5-cea8-41b6-bc44-61f87e9dce08",
   "metadata": {},
   "outputs": [
    {
     "name": "stderr",
     "output_type": "stream",
     "text": [
      "C:\\Users\\DELL XPS\\AppData\\Local\\Temp\\ipykernel_5176\\3525470211.py:4: FutureWarning: \n",
      "\n",
      "Passing `palette` without assigning `hue` is deprecated and will be removed in v0.14.0. Assign the `y` variable to `hue` and set `legend=False` for the same effect.\n",
      "\n",
      "  sns.barplot(\n"
     ]
    },
    {
     "data": {
      "image/png": "[encoded data removed]",
      "text/plain": [
       "<Figure size 1000x600 with 1 Axes>"
      ]
     },
     "metadata": {},
     "output_type": "display_data"
    }
   ],
   "source": [
    "# Top 10 Products Bought by Male Customers \n",
    "\n",
    "plt.figure(figsize=(10,6))\n",
    "sns.barplot(\n",
    "    x='purchase_count',\n",
    "    y='product_name',\n",
    "    data=top_products_male,\n",
    "    palette='Blues_d'\n",
    ")\n",
    "plt.title('Top 10 Products Bought by Male Customers (Count)')\n",
    "plt.xlabel('Number of Purchases')\n",
    "plt.ylabel('Product')\n",
    "\n",
    "plt.savefig('Graphs/top10_MaleProducts.png')\n",
    "plt.show()\n"
   ]
  },
  {
   "cell_type": "code",
   "execution_count": 98,
   "id": "d2c12d1e-f66e-4b5b-9f83-3b6e2a99d636",
   "metadata": {},
   "outputs": [
    {
     "name": "stdout",
     "output_type": "stream",
     "text": [
      "                                           product_name  purchase_count\n",
      "1925              G by GUESS Pull-On Super Skinny Jeans              77\n",
      "1051                  Carhartt Men's Liner Socks 3 Pack              74\n",
      "3532               Oakley Men's Like A Flash Boardshort              68\n",
      "2662  Kenneth Cole Reaction Men's Glen Plaid Modern ...              64\n",
      "5194  ambiguous Men's Callahan Fleece Hooded Sweatshirt              64\n",
      "2774         Larry Levine Women's Down Jacket with Hood              63\n",
      "2516  Jones New York Men's 24/7 Total Comfort Sharks...              59\n",
      "4812  Van Heusen Men's Fitted Wrinkle Free Poplin So...              57\n",
      "3405                          Nautica Quarter Zip Shirt              57\n",
      "3035  Mango Women's Animal Print Cropped Trousers - Leo              56\n"
     ]
    }
   ],
   "source": [
    "# Top products ordered by Female\n",
    "\n",
    "top_products_female = (\n",
    "    merged_df[merged_df['gender'] == 'F']\n",
    "    .groupby('product_name')\n",
    "    .size()\n",
    "    .reset_index(name='purchase_count')\n",
    "    .sort_values(by='purchase_count', ascending=False)\n",
    "    .head(10)  # top 10\n",
    ")\n",
    "\n",
    "print(top_products_female)\n"
   ]
  },
  {
   "cell_type": "code",
   "execution_count": 101,
   "id": "673e6ec9-5589-4fd1-bd77-d849350b8a0d",
   "metadata": {},
   "outputs": [
    {
     "name": "stderr",
     "output_type": "stream",
     "text": [
      "C:\\Users\\DELL XPS\\AppData\\Local\\Temp\\ipykernel_5176\\2350680840.py:4: FutureWarning: \n",
      "\n",
      "Passing `palette` without assigning `hue` is deprecated and will be removed in v0.14.0. Assign the `y` variable to `hue` and set `legend=False` for the same effect.\n",
      "\n",
      "  sns.barplot(\n"
     ]
    },
    {
     "data": {
      "image/png": "[encoded data removed]",
      "text/plain": [
       "<Figure size 1000x600 with 1 Axes>"
      ]
     },
     "metadata": {},
     "output_type": "display_data"
    }
   ],
   "source": [
    "# Top products ordered by Female\n",
    "\n",
    "plt.figure(figsize=(10,6))\n",
    "sns.barplot(\n",
    "    x='purchase_count',\n",
    "    y='product_name',\n",
    "    data=top_products_female,\n",
    "    palette='Blues_d'\n",
    ")\n",
    "plt.title('Top 10 Products Bought by Female Customers (Count)')\n",
    "plt.xlabel('Number of Purchases')\n",
    "plt.ylabel('Product')\n",
    "\n",
    "plt.savefig('Graphs/top10_FemaleProducts.png')\n",
    "plt.show()\n"
   ]
  },
  {
   "cell_type": "markdown",
   "id": "9beaba85-ead3-45a6-a265-7845213d031f",
   "metadata": {},
   "source": [
    "#### Top products order by Male and Female\n",
    "\n",
    "The graph shows that top products ordered by Males are \n",
    "\n",
    "| Product ID       | Product_name                           | purchase_count |\n",
    "| --------------   | ------------------------------------------ |----------------|\n",
    "|2385              | Lee Men's Relaxed Fit Slightly Tapered Leg Jean|     104    |\n",
    "|1926              |Hurley Juniors Lowrider 2.5 Inch Walkshort        |      83   |\n",
    "1731          |                  Gucci 1013/S Sunglasses           |   78    |\n",
    "|4241  |Women's 100% Cotton Jersey Smocked Striped Top...          |    68\n",
    "3516     |              Saddleback Leather Wallet Sleeve             | 65   |\n",
    "2310 | LAGUNA BEACH Hand Stitch Denim Skirt W/ Sunset...           |   63|\n",
    "3322 | RIGGS WORKWEAR by Wrangler Men's Short Sleeve ...           |   62 |\n",
    "1571 | Fox River Original Rockford Red Heel Cotton Mo...           |   61  |\n",
    "817         |     Calvin Klein Men's Signature Pass Case          |    61   |\n",
    "2262 |    Kenneth Cole Women's Micropoly Short Down Coat            |  61   |\n",
    "\n",
    "\n",
    "\n",
    "Top products ordered by Female\n",
    "\n",
    "| Product ID | Product Name                                                    | Purchase Count |\n",
    "|------------|-----------------------------------------------------------------|----------------|\n",
    "| 1925       | G by GUESS Pull-On Super Skinny Jeans                           | 77             |\n",
    "| 1051       | Carhartt Men's Liner Socks 3 Pack                               | 74             |\n",
    "| 3532       | Oakley Men's Like A Flash Boardshort                            | 68             |\n",
    "| 2662       | Kenneth Cole Reaction Men's Glen Plaid Modern Fit Suit          | 64             |\n",
    "| 5194       | ambiguous Men's Callahan Fleece Hooded Sweatshirt               | 64             |\n",
    "| 2774       | Larry Levine Women's Down Jacket with Hood                      | 63             |\n",
    "| 2516       | Jones New York Men's 24/7 Total Comfort Sharkskin Pants         | 59             |\n",
    "| 4812       | Van Heusen Men's Fitted Wrinkle Free Poplin Shirt               | 57             |\n",
    "| 3405       | Nautica Quarter Zip Shirt                                       | 57             |\n",
    "| 3035       | Mango Women's Animal Print Cropped Trousers - Leopard Print     | 56             |\n"
   ]
  },
  {
   "cell_type": "code",
   "execution_count": 93,
   "id": "94a4a033-8b8f-491d-bc0d-77b236ad748e",
   "metadata": {},
   "outputs": [
    {
     "data": {
      "text/plain": [
       "Index(['orderitem_id', 'order_id', 'product_id', 'inventory_item_id', 'status',\n",
       "       'created_at', 'shipped_at', 'delivered_at', 'returned_at', 'sale_price',\n",
       "       'user_id', 'order_created_at', 'num_of_item', 'first_name', 'last_name',\n",
       "       'email', 'age', 'gender', 'state', 'street_address', 'postal_code',\n",
       "       'city', 'country', 'latitude', 'longitude', 'traffic_source',\n",
       "       'user_created_at', 'user_geom', 'inventorycreated_at', 'sold_at',\n",
       "       'inventory_cost', 'product_category', 'product_name', 'product_brand',\n",
       "       'product_retail_price', 'product_department', 'product_sku',\n",
       "       'product_distribution_center_id', 'id', 'product_cost', 'category',\n",
       "       'name', 'brand', 'retail_price', 'department', 'sku',\n",
       "       'distribution_center_id', 'age_group'],\n",
       "      dtype='object')"
      ]
     },
     "execution_count": 93,
     "metadata": {},
     "output_type": "execute_result"
    }
   ],
   "source": [
    "merged_df.columns"
   ]
  },
  {
   "cell_type": "code",
   "execution_count": 83,
   "id": "b0abd624-a7ed-4465-8dd2-60a6fc5da361",
   "metadata": {},
   "outputs": [
    {
     "data": {
      "text/html": [
       "<div>\n",
       "<style scoped>\n",
       "    .dataframe tbody tr th:only-of-type {\n",
       "        vertical-align: middle;\n",
       "    }\n",
       "\n",
       "    .dataframe tbody tr th {\n",
       "        vertical-align: top;\n",
       "    }\n",
       "\n",
       "    .dataframe thead th {\n",
       "        text-align: right;\n",
       "    }\n",
       "</style>\n",
       "<table border=\"1\" class=\"dataframe\">\n",
       "  <thead>\n",
       "    <tr style=\"text-align: right;\">\n",
       "      <th></th>\n",
       "      <th>orderitem_id</th>\n",
       "      <th>order_id</th>\n",
       "      <th>product_id</th>\n",
       "      <th>inventory_item_id</th>\n",
       "      <th>status</th>\n",
       "      <th>created_at</th>\n",
       "      <th>shipped_at</th>\n",
       "      <th>delivered_at</th>\n",
       "      <th>returned_at</th>\n",
       "      <th>sale_price</th>\n",
       "      <th>...</th>\n",
       "      <th>id</th>\n",
       "      <th>product_cost</th>\n",
       "      <th>category</th>\n",
       "      <th>name</th>\n",
       "      <th>brand</th>\n",
       "      <th>retail_price</th>\n",
       "      <th>department</th>\n",
       "      <th>sku</th>\n",
       "      <th>distribution_center_id</th>\n",
       "      <th>age_group</th>\n",
       "    </tr>\n",
       "  </thead>\n",
       "  <tbody>\n",
       "    <tr>\n",
       "      <th>0</th>\n",
       "      <td>6912</td>\n",
       "      <td>4747</td>\n",
       "      <td>14235</td>\n",
       "      <td>18655</td>\n",
       "      <td>Cancelled</td>\n",
       "      <td>2020-05-27 00:41:11+00:00</td>\n",
       "      <td>NaT</td>\n",
       "      <td>NaT</td>\n",
       "      <td>NaT</td>\n",
       "      <td>0.02</td>\n",
       "      <td>...</td>\n",
       "      <td>14235</td>\n",
       "      <td>0.0083</td>\n",
       "      <td>Accessories</td>\n",
       "      <td>Indestructable Aluminum Aluma Wallet - RED</td>\n",
       "      <td>marshal</td>\n",
       "      <td>0.02</td>\n",
       "      <td>Women</td>\n",
       "      <td>8425BC94A44E3D1BB3C8C026B2702C00</td>\n",
       "      <td>1</td>\n",
       "      <td>40 - 49</td>\n",
       "    </tr>\n",
       "    <tr>\n",
       "      <th>1</th>\n",
       "      <td>2231</td>\n",
       "      <td>1504</td>\n",
       "      <td>14235</td>\n",
       "      <td>6047</td>\n",
       "      <td>Complete</td>\n",
       "      <td>2024-11-27 10:36:51+00:00</td>\n",
       "      <td>2024-11-29 06:00:00+00:00</td>\n",
       "      <td>2024-12-03 17:47:00+00:00</td>\n",
       "      <td>NaT</td>\n",
       "      <td>0.02</td>\n",
       "      <td>...</td>\n",
       "      <td>14235</td>\n",
       "      <td>0.0083</td>\n",
       "      <td>Accessories</td>\n",
       "      <td>Indestructable Aluminum Aluma Wallet - RED</td>\n",
       "      <td>marshal</td>\n",
       "      <td>0.02</td>\n",
       "      <td>Women</td>\n",
       "      <td>8425BC94A44E3D1BB3C8C026B2702C00</td>\n",
       "      <td>1</td>\n",
       "      <td>30 -39</td>\n",
       "    </tr>\n",
       "    <tr>\n",
       "      <th>2</th>\n",
       "      <td>45909</td>\n",
       "      <td>31740</td>\n",
       "      <td>14235</td>\n",
       "      <td>123883</td>\n",
       "      <td>Complete</td>\n",
       "      <td>2023-12-14 10:16:11+00:00</td>\n",
       "      <td>2023-12-16 06:05:00+00:00</td>\n",
       "      <td>2023-12-17 15:34:00+00:00</td>\n",
       "      <td>NaT</td>\n",
       "      <td>0.02</td>\n",
       "      <td>...</td>\n",
       "      <td>14235</td>\n",
       "      <td>0.0083</td>\n",
       "      <td>Accessories</td>\n",
       "      <td>Indestructable Aluminum Aluma Wallet - RED</td>\n",
       "      <td>marshal</td>\n",
       "      <td>0.02</td>\n",
       "      <td>Women</td>\n",
       "      <td>8425BC94A44E3D1BB3C8C026B2702C00</td>\n",
       "      <td>1</td>\n",
       "      <td>50 - 59</td>\n",
       "    </tr>\n",
       "    <tr>\n",
       "      <th>3</th>\n",
       "      <td>50508</td>\n",
       "      <td>34923</td>\n",
       "      <td>14235</td>\n",
       "      <td>136259</td>\n",
       "      <td>Complete</td>\n",
       "      <td>2025-09-02 01:26:53.810263+00:00</td>\n",
       "      <td>2025-09-03 19:06:57.810263+00:00</td>\n",
       "      <td>2025-09-08 00:09:57.810263+00:00</td>\n",
       "      <td>NaT</td>\n",
       "      <td>0.02</td>\n",
       "      <td>...</td>\n",
       "      <td>14235</td>\n",
       "      <td>0.0083</td>\n",
       "      <td>Accessories</td>\n",
       "      <td>Indestructable Aluminum Aluma Wallet - RED</td>\n",
       "      <td>marshal</td>\n",
       "      <td>0.02</td>\n",
       "      <td>Women</td>\n",
       "      <td>8425BC94A44E3D1BB3C8C026B2702C00</td>\n",
       "      <td>1</td>\n",
       "      <td>60 - 69</td>\n",
       "    </tr>\n",
       "    <tr>\n",
       "      <th>4</th>\n",
       "      <td>73786</td>\n",
       "      <td>51039</td>\n",
       "      <td>14235</td>\n",
       "      <td>199174</td>\n",
       "      <td>Complete</td>\n",
       "      <td>2025-03-18 12:34:15+00:00</td>\n",
       "      <td>2025-03-19 06:42:00+00:00</td>\n",
       "      <td>2025-03-23 22:15:00+00:00</td>\n",
       "      <td>NaT</td>\n",
       "      <td>0.02</td>\n",
       "      <td>...</td>\n",
       "      <td>14235</td>\n",
       "      <td>0.0083</td>\n",
       "      <td>Accessories</td>\n",
       "      <td>Indestructable Aluminum Aluma Wallet - RED</td>\n",
       "      <td>marshal</td>\n",
       "      <td>0.02</td>\n",
       "      <td>Women</td>\n",
       "      <td>8425BC94A44E3D1BB3C8C026B2702C00</td>\n",
       "      <td>1</td>\n",
       "      <td>20 -29</td>\n",
       "    </tr>\n",
       "  </tbody>\n",
       "</table>\n",
       "<p>5 rows × 48 columns</p>\n",
       "</div>"
      ],
      "text/plain": [
       "   orderitem_id  order_id  product_id  inventory_item_id     status  \\\n",
       "0          6912      4747       14235              18655  Cancelled   \n",
       "1          2231      1504       14235               6047   Complete   \n",
       "2         45909     31740       14235             123883   Complete   \n",
       "3         50508     34923       14235             136259   Complete   \n",
       "4         73786     51039       14235             199174   Complete   \n",
       "\n",
       "                        created_at                       shipped_at  \\\n",
       "0        2020-05-27 00:41:11+00:00                              NaT   \n",
       "1        2024-11-27 10:36:51+00:00        2024-11-29 06:00:00+00:00   \n",
       "2        2023-12-14 10:16:11+00:00        2023-12-16 06:05:00+00:00   \n",
       "3 2025-09-02 01:26:53.810263+00:00 2025-09-03 19:06:57.810263+00:00   \n",
       "4        2025-03-18 12:34:15+00:00        2025-03-19 06:42:00+00:00   \n",
       "\n",
       "                      delivered_at returned_at  sale_price  ...     id  \\\n",
       "0                              NaT         NaT        0.02  ...  14235   \n",
       "1        2024-12-03 17:47:00+00:00         NaT        0.02  ...  14235   \n",
       "2        2023-12-17 15:34:00+00:00         NaT        0.02  ...  14235   \n",
       "3 2025-09-08 00:09:57.810263+00:00         NaT        0.02  ...  14235   \n",
       "4        2025-03-23 22:15:00+00:00         NaT        0.02  ...  14235   \n",
       "\n",
       "  product_cost     category                                        name  \\\n",
       "0       0.0083  Accessories  Indestructable Aluminum Aluma Wallet - RED   \n",
       "1       0.0083  Accessories  Indestructable Aluminum Aluma Wallet - RED   \n",
       "2       0.0083  Accessories  Indestructable Aluminum Aluma Wallet - RED   \n",
       "3       0.0083  Accessories  Indestructable Aluminum Aluma Wallet - RED   \n",
       "4       0.0083  Accessories  Indestructable Aluminum Aluma Wallet - RED   \n",
       "\n",
       "     brand retail_price  department                               sku  \\\n",
       "0  marshal         0.02       Women  8425BC94A44E3D1BB3C8C026B2702C00   \n",
       "1  marshal         0.02       Women  8425BC94A44E3D1BB3C8C026B2702C00   \n",
       "2  marshal         0.02       Women  8425BC94A44E3D1BB3C8C026B2702C00   \n",
       "3  marshal         0.02       Women  8425BC94A44E3D1BB3C8C026B2702C00   \n",
       "4  marshal         0.02       Women  8425BC94A44E3D1BB3C8C026B2702C00   \n",
       "\n",
       "  distribution_center_id age_group  \n",
       "0                      1   40 - 49  \n",
       "1                      1    30 -39  \n",
       "2                      1   50 - 59  \n",
       "3                      1   60 - 69  \n",
       "4                      1    20 -29  \n",
       "\n",
       "[5 rows x 48 columns]"
      ]
     },
     "execution_count": 83,
     "metadata": {},
     "output_type": "execute_result"
    }
   ],
   "source": [
    "merged_df.head(5)"
   ]
  },
  {
   "cell_type": "code",
   "execution_count": null,
   "id": "469551b9-6a2f-4352-8d94-ed92842afaba",
   "metadata": {},
   "outputs": [],
   "source": []
  },
  {
   "cell_type": "code",
   "execution_count": null,
   "id": "774c7833-870a-4263-9a0c-4421f34245a4",
   "metadata": {},
   "outputs": [],
   "source": []
  },
  {
   "cell_type": "code",
   "execution_count": 106,
   "id": "11c251b2-a022-4591-80e6-5f36cd3377f0",
   "metadata": {},
   "outputs": [
    {
     "data": {
      "image/png": "[encoded data removed]",
      "text/plain": [
       "<Figure size 1200x600 with 1 Axes>"
      ]
     },
     "metadata": {},
     "output_type": "display_data"
    }
   ],
   "source": [
    "# Combine top male and female into one df\n",
    "top_products_gender = (\n",
    "    merged_df.groupby(['gender', 'product_name'])\n",
    "    .size()\n",
    "    .reset_index(name='purchase_count')\n",
    ")\n",
    "\n",
    "# Keep only the top 10 male + top 10 female\n",
    "top_male = top_products_gender[top_products_gender['gender'] == 'M'].nlargest(5, 'purchase_count')\n",
    "top_female = top_products_gender[top_products_gender['gender'] == 'F'].nlargest(5, 'purchase_count')\n",
    "\n",
    "top_combined = pd.concat([top_male, top_female])\n",
    "\n",
    "plt.figure(figsize=(12,6))\n",
    "sns.barplot(\n",
    "    x='purchase_count', \n",
    "    y='product_name', \n",
    "    hue='gender', \n",
    "    data=top_combined\n",
    ")\n",
    "plt.title('Top 5 Products Purchased by Gender')\n",
    "plt.xlabel('Purchase Count')\n",
    "plt.ylabel('Product')\n",
    "\n",
    "plt.savefig('Graphs/top5Products_gender.png')\n",
    "plt.show()\n"
   ]
  },
  {
   "cell_type": "markdown",
   "id": "0de6acab-83b3-44ab-925c-002d7413dc12",
   "metadata": {},
   "source": [
    "#### Top Male products with the highest revenue"
   ]
  },
  {
   "cell_type": "code",
   "execution_count": 118,
   "id": "647a35bd-8b69-4558-8d44-d0de1543e84b",
   "metadata": {},
   "outputs": [
    {
     "name": "stdout",
     "output_type": "stream",
     "text": [
      "                                           product_name    sale_price\n",
      "1990    Icebreaker Men's Contour Short Sleeve Crewe Top  14255.000000\n",
      "3046   Original Penguin Men's Printed Volley Swim Trunk  13149.699982\n",
      "2097  Jessie G. Women's Low Rise Embellished Denim S...  11243.700027\n",
      "1301                    Diesel Men's Smog-S Sweat Shirt  11010.309982\n",
      "3676  Southpole Juniors Henley Neck Ribbed Long Slee...  10921.300002\n",
      "1409  Ed Garments Women's Solid Pull-On Elastic Pant...  10321.000000\n",
      "1078              Columbia Men's Thistle Town Park Crew  10280.500000\n",
      "2059  JAG Women's Swimwear Mesh Attach Racerback Tan...  10113.559967\n",
      "1330  Dockers Men's Limited Offer D1 Slim Fit Sateen...  10001.889977\n",
      "3899  Tommy Hilfiger Men Lambswool Cable Knit V-neck...   9844.749979\n"
     ]
    }
   ],
   "source": [
    "\n",
    "top_products_male_revenue = (\n",
    "    merged_df[merged_df['gender'] == 'M']\n",
    "    .groupby('product_name')['sale_price']\n",
    "    .sum()\n",
    "    .reset_index()\n",
    "    .sort_values(by='sale_price', ascending=False)\n",
    "    .head(10)\n",
    ")\n",
    "\n",
    "print(top_products_male_revenue)\n"
   ]
  },
  {
   "cell_type": "code",
   "execution_count": 127,
   "id": "f75f0bf9-47fc-4fa8-a0fa-44ac2a8c06f6",
   "metadata": {},
   "outputs": [
    {
     "name": "stderr",
     "output_type": "stream",
     "text": [
      "C:\\Users\\DELL XPS\\AppData\\Local\\Temp\\ipykernel_5176\\3501508689.py:4: FutureWarning: \n",
      "\n",
      "Passing `palette` without assigning `hue` is deprecated and will be removed in v0.14.0. Assign the `x` variable to `hue` and set `legend=False` for the same effect.\n",
      "\n",
      "  sns.barplot(\n"
     ]
    },
    {
     "data": {
      "image/png": "[encoded data removed]",
      "text/plain": [
       "<Figure size 1000x600 with 1 Axes>"
      ]
     },
     "metadata": {},
     "output_type": "display_data"
    }
   ],
   "source": [
    "# Top Male products with the highest revenue\n",
    "\n",
    "plt.figure(figsize=(10,6))\n",
    "sns.barplot(\n",
    "    x='product_name',\n",
    "    y='sale_price',\n",
    "    data=top_products_male_revenue,\n",
    "    palette='Blues_d')\n",
    "plt.title('Top Male products with the highest revenue')\n",
    "plt.ylabel('Sale Price')\n",
    "plt.xlabel('Product')\n",
    "plt.xticks(rotation = 90)\n",
    "\n",
    "\n",
    "plt.savefig('Graphs/top10_maleRevprod.png')\n",
    "plt.show()\n"
   ]
  },
  {
   "cell_type": "markdown",
   "id": "6b99f894-6c55-400f-9ba0-9388ebf80998",
   "metadata": {},
   "source": [
    "#### Top Female products with the highest revenue"
   ]
  },
  {
   "cell_type": "code",
   "execution_count": 129,
   "id": "459e8c0b-cfca-4171-9e6d-54c72426436f",
   "metadata": {},
   "outputs": [
    {
     "name": "stdout",
     "output_type": "stream",
     "text": [
      "                                           product_name    sale_price\n",
      "2919  London Fog Men's Admiral Double Breasted Notch...  12239.929932\n",
      "2571  Julian Taylor Women's Cap Sleeve Stretch Crepe...   9022.450027\n",
      "2412                    Izod Basic Cable V-Neck Sweater   8724.900017\n",
      "79    7 For All Mankind Men's Austyn Relaxed Straigh...   8199.250004\n",
      "4431                          Studio Shelf Bra Camisole   8100.000000\n",
      "4676  Tru-Spec 65/35 Polyester cotton rip-stop Teflo...   7858.930006\n",
      "263   Allegra K Ladies Light Gray Pullover Solid Col...   7155.949989\n",
      "3950                       Racerback Soft Cotton Pajama   6890.089993\n",
      "2597        KNOTHE Comfort Pant In Black Or Navy #13438   6459.440037\n",
      "2885     LibbySue-A Luxurious Pashmina Silk Blend Scarf   6088.349997\n"
     ]
    }
   ],
   "source": [
    "\n",
    "top_products_female_revenue = (\n",
    "    merged_df[merged_df['gender'] == 'F']\n",
    "    .groupby('product_name')['sale_price']\n",
    "    .sum()\n",
    "    .reset_index()\n",
    "    .sort_values(by='sale_price', ascending=False)\n",
    "    .head(10)\n",
    ")\n",
    "\n",
    "print(top_products_female_revenue)\n"
   ]
  },
  {
   "cell_type": "code",
   "execution_count": 128,
   "id": "eb3ffc02-5901-4290-8c34-ea4fdd759a34",
   "metadata": {},
   "outputs": [
    {
     "name": "stderr",
     "output_type": "stream",
     "text": [
      "C:\\Users\\DELL XPS\\AppData\\Local\\Temp\\ipykernel_5176\\3506927528.py:4: FutureWarning: \n",
      "\n",
      "Passing `palette` without assigning `hue` is deprecated and will be removed in v0.14.0. Assign the `x` variable to `hue` and set `legend=False` for the same effect.\n",
      "\n",
      "  sns.barplot(\n"
     ]
    },
    {
     "data": {
      "image/png": "[encoded data removed]",
      "text/plain": [
       "<Figure size 1000x600 with 1 Axes>"
      ]
     },
     "metadata": {},
     "output_type": "display_data"
    }
   ],
   "source": [
    "# Top female products with the highest revenue\n",
    "\n",
    "plt.figure(figsize=(10,6))\n",
    "sns.barplot(\n",
    "    x='product_name',\n",
    "    y='sale_price',\n",
    "    data=top_products_female_revenue,\n",
    "    palette='Blues_d')\n",
    "plt.title('Top Female products with the highest revenue')\n",
    "plt.ylabel('Sale Price')\n",
    "plt.xlabel('Product')\n",
    "plt.xticks(rotation = 90)\n",
    "\n",
    "\n",
    "plt.savefig('Graphs/top10_femaleRevprod.png')\n",
    "plt.show()\n"
   ]
  },
  {
   "cell_type": "markdown",
   "id": "cf5fa265-bdd6-4cc1-a021-28d3f320045d",
   "metadata": {},
   "source": [
    "**High Revenue Products Purchased by Both Genders**\n",
    "\n",
    "The highest grossing products purhased by Men are \n",
    "\n",
    "- Icebreaker Men's Contour Short Sleeve Crewe Top\n",
    "- Original Penguin Men's Printed Volley Swim Trunk`\n",
    "- Jessie G. Women's Low Rise Embellished Denim S\n",
    "- Diesel Men's Smog-S Sweat Shirt \n",
    "\n",
    "The higest grossing products for Female are;\n",
    "- London Fog Men's Admiral Double Breasted Notch\n",
    "- ulian Taylor Women's Cap Sleeve Stretch Crepe...   9022.450027\n",
    "- Izod Basic Cable V-Neck Sweater   8724.900017\n",
    "- 7 For All Mankind Men's Austyn Relaxed Straigh...   8199.250004\n",
    "- Studio Shelf Bra Camisole   8100.000000"
   ]
  },
  {
   "cell_type": "code",
   "execution_count": 135,
   "id": "ef26b8c1-028b-405f-bda9-37214b6b085c",
   "metadata": {},
   "outputs": [
    {
     "data": {
      "text/html": [
       "<div>\n",
       "<style scoped>\n",
       "    .dataframe tbody tr th:only-of-type {\n",
       "        vertical-align: middle;\n",
       "    }\n",
       "\n",
       "    .dataframe tbody tr th {\n",
       "        vertical-align: top;\n",
       "    }\n",
       "\n",
       "    .dataframe thead th {\n",
       "        text-align: right;\n",
       "    }\n",
       "</style>\n",
       "<table border=\"1\" class=\"dataframe\">\n",
       "  <thead>\n",
       "    <tr style=\"text-align: right;\">\n",
       "      <th></th>\n",
       "      <th>product_name</th>\n",
       "      <th>purchase_count</th>\n",
       "      <th>total_revenue</th>\n",
       "      <th>avg_price</th>\n",
       "    </tr>\n",
       "  </thead>\n",
       "  <tbody>\n",
       "    <tr>\n",
       "      <th>2385</th>\n",
       "      <td>Lee Men's Relaxed Fit Slightly Tapered Leg Jean</td>\n",
       "      <td>104</td>\n",
       "      <td>6004.530012</td>\n",
       "      <td>57.735866</td>\n",
       "    </tr>\n",
       "    <tr>\n",
       "      <th>1926</th>\n",
       "      <td>Hurley Juniors Lowrider 2.5 Inch Walkshort</td>\n",
       "      <td>83</td>\n",
       "      <td>6672.380009</td>\n",
       "      <td>80.390121</td>\n",
       "    </tr>\n",
       "    <tr>\n",
       "      <th>1731</th>\n",
       "      <td>Gucci 1013/S Sunglasses</td>\n",
       "      <td>78</td>\n",
       "      <td>8837.430019</td>\n",
       "      <td>113.300385</td>\n",
       "    </tr>\n",
       "    <tr>\n",
       "      <th>4241</th>\n",
       "      <td>Women's 100% Cotton Jersey Smocked Striped Top...</td>\n",
       "      <td>68</td>\n",
       "      <td>6998.040010</td>\n",
       "      <td>102.912353</td>\n",
       "    </tr>\n",
       "    <tr>\n",
       "      <th>3516</th>\n",
       "      <td>Saddleback Leather Wallet Sleeve</td>\n",
       "      <td>65</td>\n",
       "      <td>6906.979887</td>\n",
       "      <td>106.261229</td>\n",
       "    </tr>\n",
       "    <tr>\n",
       "      <th>2310</th>\n",
       "      <td>LAGUNA BEACH Hand Stitch Denim Skirt W/ Sunset...</td>\n",
       "      <td>63</td>\n",
       "      <td>4030.209942</td>\n",
       "      <td>63.971586</td>\n",
       "    </tr>\n",
       "    <tr>\n",
       "      <th>3322</th>\n",
       "      <td>RIGGS WORKWEAR by Wrangler Men's Short Sleeve ...</td>\n",
       "      <td>62</td>\n",
       "      <td>2180.590038</td>\n",
       "      <td>35.170807</td>\n",
       "    </tr>\n",
       "    <tr>\n",
       "      <th>1571</th>\n",
       "      <td>Fox River Original Rockford Red Heel Cotton Mo...</td>\n",
       "      <td>61</td>\n",
       "      <td>3775.429962</td>\n",
       "      <td>61.892294</td>\n",
       "    </tr>\n",
       "    <tr>\n",
       "      <th>817</th>\n",
       "      <td>Calvin Klein Men's Signature Pass Case</td>\n",
       "      <td>61</td>\n",
       "      <td>1963.020014</td>\n",
       "      <td>32.180656</td>\n",
       "    </tr>\n",
       "    <tr>\n",
       "      <th>2262</th>\n",
       "      <td>Kenneth Cole Women's Micropoly Short Down Coat</td>\n",
       "      <td>61</td>\n",
       "      <td>4417.550007</td>\n",
       "      <td>72.418853</td>\n",
       "    </tr>\n",
       "  </tbody>\n",
       "</table>\n",
       "</div>"
      ],
      "text/plain": [
       "                                           product_name  purchase_count  \\\n",
       "2385    Lee Men's Relaxed Fit Slightly Tapered Leg Jean             104   \n",
       "1926         Hurley Juniors Lowrider 2.5 Inch Walkshort              83   \n",
       "1731                            Gucci 1013/S Sunglasses              78   \n",
       "4241  Women's 100% Cotton Jersey Smocked Striped Top...              68   \n",
       "3516                   Saddleback Leather Wallet Sleeve              65   \n",
       "2310  LAGUNA BEACH Hand Stitch Denim Skirt W/ Sunset...              63   \n",
       "3322  RIGGS WORKWEAR by Wrangler Men's Short Sleeve ...              62   \n",
       "1571  Fox River Original Rockford Red Heel Cotton Mo...              61   \n",
       "817              Calvin Klein Men's Signature Pass Case              61   \n",
       "2262     Kenneth Cole Women's Micropoly Short Down Coat              61   \n",
       "\n",
       "      total_revenue   avg_price  \n",
       "2385    6004.530012   57.735866  \n",
       "1926    6672.380009   80.390121  \n",
       "1731    8837.430019  113.300385  \n",
       "4241    6998.040010  102.912353  \n",
       "3516    6906.979887  106.261229  \n",
       "2310    4030.209942   63.971586  \n",
       "3322    2180.590038   35.170807  \n",
       "1571    3775.429962   61.892294  \n",
       "817     1963.020014   32.180656  \n",
       "2262    4417.550007   72.418853  "
      ]
     },
     "execution_count": 135,
     "metadata": {},
     "output_type": "execute_result"
    }
   ],
   "source": [
    "top_products_male_stats = (\n",
    "    merged_df[merged_df['gender'] == 'M']\n",
    "    .groupby('product_name')\n",
    "    .agg(\n",
    "        purchase_count=('product_name', 'size'),\n",
    "        total_revenue=('sale_price', 'sum'),\n",
    "        avg_price=('sale_price', 'mean')\n",
    "    )\n",
    "    .reset_index()\n",
    "    .sort_values(by='purchase_count', ascending=False)\n",
    "    .head(10)\n",
    ")\n",
    "\n",
    "top_products_male_stats"
   ]
  },
  {
   "cell_type": "code",
   "execution_count": null,
   "id": "1ced6321-b298-4d2a-a4df-07e0bcab571f",
   "metadata": {},
   "outputs": [],
   "source": []
  }
 ],
 "metadata": {
  "kernelspec": {
   "display_name": "Python 3 (ipykernel)",
   "language": "python",
   "name": "python3"
  },
  "language_info": {
   "codemirror_mode": {
    "name": "ipython",
    "version": 3
   },
   "file_extension": ".py",
   "mimetype": "text/x-python",
   "name": "python",
   "nbconvert_exporter": "python",
   "pygments_lexer": "ipython3",
   "version": "3.11.9"
  }
 },
 "nbformat": 4,
 "nbformat_minor": 5
}
