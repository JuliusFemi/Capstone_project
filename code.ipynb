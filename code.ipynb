{
 "cells": [
  {
   "cell_type": "markdown",
   "id": "852dd296-08fd-4a73-b621-dd6cc850c4a0",
   "metadata": {},
   "source": [
    "#### Problem Statement\n",
    "\n",
    "Banks invest significant resources into outbound marketing campaigns, like calling customers to offer term deposit products. However, these campaigns can be inefficient, contacting many customers who are not interested, leading to:\n",
    "\n",
    "- High operational costs\n",
    "\n",
    "- Low conversion rates\n",
    "\n",
    "- Customer fatigue and churn risk\n",
    "\n",
    "1. This project seeks to optimize marketing effectiveness by:\n",
    "\n",
    "2. Segmenting customers based on their financial and demographic behavior\n",
    "\n",
    "3. Predicting which customers are most likely to subscribe to a term deposit\n",
    "\n",
    "4. Designing a targeting strategy that reduces wasted outreach while maximizing ROI\n",
    "\n",
    "\n",
    "**Stakeholders**\n",
    "\n",
    "|Stakeholder              | What they care About\n",
    "|-------------------------|------------------------\n",
    "|Marketing Team           |Improve campaign efficiency and ROI; avoid over-contacting customers|\n",
    "Data Science Team         |Build interpretable, reliable models with business impact\n",
    "Compliance/Legal          |Ensure targeting practices are fair, non-discriminatory\n",
    "Sales / Call Center       |Focus effort on the right customers; increase success rates\n",
    "Senior Management         |Strategic insights on customer behavior and product interest\n"
   ]
  },
  {
   "cell_type": "markdown",
   "id": "70436dfd-e87d-4c7a-905c-309c92c31660",
   "metadata": {},
   "source": [
    "#### Imports\n",
    "\n",
    "Import the required libraries"
   ]
  },
  {
   "cell_type": "code",
   "execution_count": 1,
   "id": "fe5d875b-2054-4aca-affe-a1419ce6fd2c",
   "metadata": {},
   "outputs": [],
   "source": [
    "import pandas as pd\n",
    "import zipfile\n",
    "import urllib.request\n",
    "import io\n",
    "import os\n",
    "from google.cloud import bigquery\n"
   ]
  },
  {
   "cell_type": "markdown",
   "id": "e658a85d-5fa9-40c8-b744-69de9a99522b",
   "metadata": {},
   "source": [
    "### Loading dataset\n",
    "\n",
    "Dataset is from Google [Big Query](https://console.cloud.google.com/bigquery?ws=!1m4!1m3!3m2!1sbigquery-public-data!2sthelook_ecommerce).\n",
    "A function was writen to obtain the tables in the dataset. The ecommerce data has `7` tables namely:  \"distribution_centers\", \"events\", \"inventory_items\", \"order_items\", \"orders\", \"products\", \"users\"."
   ]
  },
  {
   "cell_type": "code",
   "execution_count": 2,
   "id": "b32ed7e6-be57-40b6-9d72-5fa1ba294aca",
   "metadata": {},
   "outputs": [],
   "source": [
    "\n",
    "client = bigquery.Client(project=\"testing-469722\")\n",
    "\n",
    "def load_thelook_tables(dataset_id=\"bigquery-public-data.thelook_ecommerce\", table_names=None):\n",
    "    \"\"\"\n",
    "    Load multiple tables from thelook_ecommerce dataset into separate DataFrames.\n",
    "\n",
    "    Parameters:\n",
    "        dataset_id (str): Full BigQuery dataset path\n",
    "        table_names (list): List of table names to load\n",
    "\n",
    "    Returns:\n",
    "        dict: Dictionary of {table_name: DataFrame}\n",
    "    \"\"\"\n",
    "    if table_names is None:\n",
    "        table_names = [\n",
    "            \"distribution_centers\",\n",
    "            \"events\",\n",
    "            \"inventory_items\",\n",
    "            \"order_items\",\n",
    "            \"orders\",\n",
    "            \"products\",\n",
    "            \"users\"\n",
    "        ]\n",
    "\n",
    "    dataframes = {}\n",
    "\n",
    "    for table in table_names:\n",
    "        query = f\"SELECT * FROM `{dataset_id}.{table}`\"\n",
    "        df = client.query(query).to_dataframe()\n",
    "        dataframes[table] = df\n",
    "        print(f\"Loaded {table}: {df.shape[0]} rows\")\n",
    "\n",
    "    return dataframes"
   ]
  },
  {
   "cell_type": "markdown",
   "id": "5eb621a9-1433-49c3-bc4f-ea0a66ae1f50",
   "metadata": {},
   "source": [
    "### Load the dataset\n",
    "\n",
    "The dataset are pulled from Big query.\n"
   ]
  },
  {
   "cell_type": "code",
   "execution_count": 3,
   "id": "4932c82f-15f1-4bc0-ae8f-d288ad899fe8",
   "metadata": {},
   "outputs": [
    {
     "name": "stderr",
     "output_type": "stream",
     "text": [
      "C:\\Users\\DELL XPS\\virtual\\dsb_602\\Lib\\site-packages\\google\\cloud\\bigquery\\table.py:1994: UserWarning: BigQuery Storage module not found, fetch data with the REST endpoint instead.\n",
      "  warnings.warn(\n"
     ]
    },
    {
     "name": "stdout",
     "output_type": "stream",
     "text": [
      "Loaded distribution_centers: 10 rows\n",
      "Loaded events: 2427988 rows\n",
      "Loaded inventory_items: 489521 rows\n",
      "Loaded order_items: 181272 rows\n",
      "Loaded orders: 124691 rows\n",
      "Loaded products: 29120 rows\n",
      "Loaded users: 100000 rows\n"
     ]
    }
   ],
   "source": [
    "thelook_dfs = load_thelook_tables()"
   ]
  },
  {
   "cell_type": "markdown",
   "id": "47301b48-015f-4f84-904d-150c6e857da0",
   "metadata": {},
   "source": [
    "### Accessing the tables\n"
   ]
  },
  {
   "cell_type": "code",
   "execution_count": 4,
   "id": "0d75e082-00b8-4496-bed0-8487ddf661c9",
   "metadata": {},
   "outputs": [
    {
     "data": {
      "text/html": [
       "<div>\n",
       "<style scoped>\n",
       "    .dataframe tbody tr th:only-of-type {\n",
       "        vertical-align: middle;\n",
       "    }\n",
       "\n",
       "    .dataframe tbody tr th {\n",
       "        vertical-align: top;\n",
       "    }\n",
       "\n",
       "    .dataframe thead th {\n",
       "        text-align: right;\n",
       "    }\n",
       "</style>\n",
       "<table border=\"1\" class=\"dataframe\">\n",
       "  <thead>\n",
       "    <tr style=\"text-align: right;\">\n",
       "      <th></th>\n",
       "      <th>order_id</th>\n",
       "      <th>user_id</th>\n",
       "      <th>status</th>\n",
       "      <th>gender</th>\n",
       "      <th>created_at</th>\n",
       "      <th>returned_at</th>\n",
       "      <th>shipped_at</th>\n",
       "      <th>delivered_at</th>\n",
       "      <th>num_of_item</th>\n",
       "    </tr>\n",
       "  </thead>\n",
       "  <tbody>\n",
       "    <tr>\n",
       "      <th>0</th>\n",
       "      <td>22</td>\n",
       "      <td>21</td>\n",
       "      <td>Cancelled</td>\n",
       "      <td>F</td>\n",
       "      <td>2024-09-29 08:45:00+00:00</td>\n",
       "      <td>NaT</td>\n",
       "      <td>NaT</td>\n",
       "      <td>NaT</td>\n",
       "      <td>1</td>\n",
       "    </tr>\n",
       "    <tr>\n",
       "      <th>1</th>\n",
       "      <td>27</td>\n",
       "      <td>27</td>\n",
       "      <td>Cancelled</td>\n",
       "      <td>F</td>\n",
       "      <td>2022-09-15 14:24:00+00:00</td>\n",
       "      <td>NaT</td>\n",
       "      <td>NaT</td>\n",
       "      <td>NaT</td>\n",
       "      <td>1</td>\n",
       "    </tr>\n",
       "    <tr>\n",
       "      <th>2</th>\n",
       "      <td>63</td>\n",
       "      <td>59</td>\n",
       "      <td>Cancelled</td>\n",
       "      <td>F</td>\n",
       "      <td>2022-02-03 05:19:00+00:00</td>\n",
       "      <td>NaT</td>\n",
       "      <td>NaT</td>\n",
       "      <td>NaT</td>\n",
       "      <td>2</td>\n",
       "    </tr>\n",
       "    <tr>\n",
       "      <th>3</th>\n",
       "      <td>66</td>\n",
       "      <td>61</td>\n",
       "      <td>Cancelled</td>\n",
       "      <td>F</td>\n",
       "      <td>2020-05-07 10:04:00+00:00</td>\n",
       "      <td>NaT</td>\n",
       "      <td>NaT</td>\n",
       "      <td>NaT</td>\n",
       "      <td>1</td>\n",
       "    </tr>\n",
       "  </tbody>\n",
       "</table>\n",
       "</div>"
      ],
      "text/plain": [
       "   order_id  user_id     status gender                created_at returned_at  \\\n",
       "0        22       21  Cancelled      F 2024-09-29 08:45:00+00:00         NaT   \n",
       "1        27       27  Cancelled      F 2022-09-15 14:24:00+00:00         NaT   \n",
       "2        63       59  Cancelled      F 2022-02-03 05:19:00+00:00         NaT   \n",
       "3        66       61  Cancelled      F 2020-05-07 10:04:00+00:00         NaT   \n",
       "\n",
       "  shipped_at delivered_at  num_of_item  \n",
       "0        NaT          NaT            1  \n",
       "1        NaT          NaT            1  \n",
       "2        NaT          NaT            2  \n",
       "3        NaT          NaT            1  "
      ]
     },
     "execution_count": 4,
     "metadata": {},
     "output_type": "execute_result"
    }
   ],
   "source": [
    "# order table\n",
    "\n",
    "orders_df = thelook_dfs['orders']\n",
    "orders_df.head(4)"
   ]
  },
  {
   "cell_type": "markdown",
   "id": "e41dbb98-fd24-4290-a952-ee7aa6707f66",
   "metadata": {},
   "source": [
    "**orders_df table dictionary**\n",
    "\n",
    "| Column Name    | Description                                                           |\n",
    "| -------------- | --------------------------------------------------------------------- |\n",
    "| `order_id`     | Unique identifier for each order                                      |\n",
    "| `user_id`      | Foreign key that links to the customer (`users.id`)                   |\n",
    "| `status`       | Status of the order (e.g., `Complete`, `Returned`, `Cancelled`)       |\n",
    "| `gender`       | Gender of the customer (from the `users` table, if joined)            |\n",
    "| `created_at`   | Timestamp when the order was placed                                   |\n",
    "| `returned_at`  | Timestamp when the item was returned (null if not returned)           |\n",
    "| `shipped_at`   | Timestamp when the item was shipped                                   |\n",
    "| `delivered_at` | Timestamp when the item was delivered to the customer                 |\n",
    "| `num_of_item`  | Number of individual items in that order (usually from `order_items`) |\n"
   ]
  },
  {
   "cell_type": "code",
   "execution_count": 5,
   "id": "55a23b92-8912-4d6f-a5aa-039f34dbc606",
   "metadata": {},
   "outputs": [
    {
     "data": {
      "text/html": [
       "<div>\n",
       "<style scoped>\n",
       "    .dataframe tbody tr th:only-of-type {\n",
       "        vertical-align: middle;\n",
       "    }\n",
       "\n",
       "    .dataframe tbody tr th {\n",
       "        vertical-align: top;\n",
       "    }\n",
       "\n",
       "    .dataframe thead th {\n",
       "        text-align: right;\n",
       "    }\n",
       "</style>\n",
       "<table border=\"1\" class=\"dataframe\">\n",
       "  <thead>\n",
       "    <tr style=\"text-align: right;\">\n",
       "      <th></th>\n",
       "      <th>id</th>\n",
       "      <th>name</th>\n",
       "      <th>latitude</th>\n",
       "      <th>longitude</th>\n",
       "      <th>distribution_center_geom</th>\n",
       "    </tr>\n",
       "  </thead>\n",
       "  <tbody>\n",
       "    <tr>\n",
       "      <th>0</th>\n",
       "      <td>10</td>\n",
       "      <td>Savannah GA</td>\n",
       "      <td>32.0167</td>\n",
       "      <td>-81.1167</td>\n",
       "      <td>POINT(-81.1167 32.0167)</td>\n",
       "    </tr>\n",
       "    <tr>\n",
       "      <th>1</th>\n",
       "      <td>9</td>\n",
       "      <td>Charleston SC</td>\n",
       "      <td>32.7833</td>\n",
       "      <td>-79.9333</td>\n",
       "      <td>POINT(-79.9333 32.7833)</td>\n",
       "    </tr>\n",
       "    <tr>\n",
       "      <th>2</th>\n",
       "      <td>1</td>\n",
       "      <td>Memphis TN</td>\n",
       "      <td>35.1174</td>\n",
       "      <td>-89.9711</td>\n",
       "      <td>POINT(-89.9711 35.1174)</td>\n",
       "    </tr>\n",
       "    <tr>\n",
       "      <th>3</th>\n",
       "      <td>3</td>\n",
       "      <td>Houston TX</td>\n",
       "      <td>29.7604</td>\n",
       "      <td>-95.3698</td>\n",
       "      <td>POINT(-95.3698 29.7604)</td>\n",
       "    </tr>\n",
       "    <tr>\n",
       "      <th>4</th>\n",
       "      <td>7</td>\n",
       "      <td>Philadelphia PA</td>\n",
       "      <td>39.9500</td>\n",
       "      <td>-75.1667</td>\n",
       "      <td>POINT(-75.1667 39.95)</td>\n",
       "    </tr>\n",
       "  </tbody>\n",
       "</table>\n",
       "</div>"
      ],
      "text/plain": [
       "   id             name  latitude  longitude distribution_center_geom\n",
       "0  10      Savannah GA   32.0167   -81.1167  POINT(-81.1167 32.0167)\n",
       "1   9    Charleston SC   32.7833   -79.9333  POINT(-79.9333 32.7833)\n",
       "2   1       Memphis TN   35.1174   -89.9711  POINT(-89.9711 35.1174)\n",
       "3   3       Houston TX   29.7604   -95.3698  POINT(-95.3698 29.7604)\n",
       "4   7  Philadelphia PA   39.9500   -75.1667    POINT(-75.1667 39.95)"
      ]
     },
     "execution_count": 5,
     "metadata": {},
     "output_type": "execute_result"
    }
   ],
   "source": [
    "# distribution_centers\n",
    "\n",
    "distribution_df = thelook_dfs['distribution_centers']\n",
    "distribution_df.head(5)"
   ]
  },
  {
   "cell_type": "markdown",
   "id": "5bb64404-933d-4ac4-9965-bc804a6788da",
   "metadata": {},
   "source": [
    "**distribution_df dictionary**\n",
    "\n",
    "| Column Name                | Description                                                                 |\n",
    "| -------------------------- | --------------------------------------------------------------------------- |\n",
    "| `id`                       | Unique identifier for each distribution center                              |\n",
    "| `name`                     | City and state abbreviation of the distribution center location             |\n",
    "| `latitude`                 | Latitude coordinate of the distribution center (for mapping or distance)    |\n",
    "| `longitude`                | Longitude coordinate of the distribution center                             |\n",
    "| `distribution_center_geom` | Geometry field representing the center as a geographic point (GeoJSON-like) |\n"
   ]
  },
  {
   "cell_type": "code",
   "execution_count": 6,
   "id": "8cf4423d-830f-4b64-a738-a7bc78bcd020",
   "metadata": {},
   "outputs": [
    {
     "data": {
      "text/html": [
       "<div>\n",
       "<style scoped>\n",
       "    .dataframe tbody tr th:only-of-type {\n",
       "        vertical-align: middle;\n",
       "    }\n",
       "\n",
       "    .dataframe tbody tr th {\n",
       "        vertical-align: top;\n",
       "    }\n",
       "\n",
       "    .dataframe thead th {\n",
       "        text-align: right;\n",
       "    }\n",
       "</style>\n",
       "<table border=\"1\" class=\"dataframe\">\n",
       "  <thead>\n",
       "    <tr style=\"text-align: right;\">\n",
       "      <th></th>\n",
       "      <th>id</th>\n",
       "      <th>user_id</th>\n",
       "      <th>sequence_number</th>\n",
       "      <th>session_id</th>\n",
       "      <th>created_at</th>\n",
       "      <th>ip_address</th>\n",
       "      <th>city</th>\n",
       "      <th>state</th>\n",
       "      <th>postal_code</th>\n",
       "      <th>browser</th>\n",
       "      <th>traffic_source</th>\n",
       "      <th>uri</th>\n",
       "      <th>event_type</th>\n",
       "    </tr>\n",
       "  </thead>\n",
       "  <tbody>\n",
       "    <tr>\n",
       "      <th>0</th>\n",
       "      <td>1937376</td>\n",
       "      <td>&lt;NA&gt;</td>\n",
       "      <td>3</td>\n",
       "      <td>556fcff6-a7a3-4b02-a512-f491bcc6ab19</td>\n",
       "      <td>2023-03-08 05:37:00+00:00</td>\n",
       "      <td>38.103.36.86</td>\n",
       "      <td>São Paulo</td>\n",
       "      <td>São Paulo</td>\n",
       "      <td>02675-031</td>\n",
       "      <td>Chrome</td>\n",
       "      <td>Facebook</td>\n",
       "      <td>/cancel</td>\n",
       "      <td>cancel</td>\n",
       "    </tr>\n",
       "    <tr>\n",
       "      <th>1</th>\n",
       "      <td>2244726</td>\n",
       "      <td>&lt;NA&gt;</td>\n",
       "      <td>3</td>\n",
       "      <td>eab80561-3d0d-4cd9-aa0b-5f52ed60bb67</td>\n",
       "      <td>2024-07-08 16:12:00+00:00</td>\n",
       "      <td>15.55.4.254</td>\n",
       "      <td>Vargem Grande Paulista</td>\n",
       "      <td>São Paulo</td>\n",
       "      <td>06730-000</td>\n",
       "      <td>Safari</td>\n",
       "      <td>Organic</td>\n",
       "      <td>/cancel</td>\n",
       "      <td>cancel</td>\n",
       "    </tr>\n",
       "    <tr>\n",
       "      <th>2</th>\n",
       "      <td>1357710</td>\n",
       "      <td>&lt;NA&gt;</td>\n",
       "      <td>3</td>\n",
       "      <td>cf1f5585-a197-4218-8ffc-0d7f8da08d94</td>\n",
       "      <td>2023-05-14 01:54:00+00:00</td>\n",
       "      <td>13.137.185.63</td>\n",
       "      <td>Embu das Artes</td>\n",
       "      <td>São Paulo</td>\n",
       "      <td>06810-240</td>\n",
       "      <td>Firefox</td>\n",
       "      <td>Email</td>\n",
       "      <td>/cancel</td>\n",
       "      <td>cancel</td>\n",
       "    </tr>\n",
       "    <tr>\n",
       "      <th>3</th>\n",
       "      <td>1847066</td>\n",
       "      <td>&lt;NA&gt;</td>\n",
       "      <td>3</td>\n",
       "      <td>6a9dddfd-48a3-46c1-962c-cfac5cc3cdee</td>\n",
       "      <td>2024-09-10 11:28:00+00:00</td>\n",
       "      <td>197.65.153.203</td>\n",
       "      <td>Embu-Guaçu</td>\n",
       "      <td>São Paulo</td>\n",
       "      <td>06900-000</td>\n",
       "      <td>Firefox</td>\n",
       "      <td>Email</td>\n",
       "      <td>/cancel</td>\n",
       "      <td>cancel</td>\n",
       "    </tr>\n",
       "    <tr>\n",
       "      <th>4</th>\n",
       "      <td>2261643</td>\n",
       "      <td>&lt;NA&gt;</td>\n",
       "      <td>3</td>\n",
       "      <td>a52141ed-4790-486d-8da4-f3cf4ccef1c8</td>\n",
       "      <td>2019-01-02 07:15:00+00:00</td>\n",
       "      <td>149.159.232.254</td>\n",
       "      <td>Caieiras</td>\n",
       "      <td>São Paulo</td>\n",
       "      <td>07700-000</td>\n",
       "      <td>Safari</td>\n",
       "      <td>Email</td>\n",
       "      <td>/cancel</td>\n",
       "      <td>cancel</td>\n",
       "    </tr>\n",
       "  </tbody>\n",
       "</table>\n",
       "</div>"
      ],
      "text/plain": [
       "        id  user_id  sequence_number                            session_id  \\\n",
       "0  1937376     <NA>                3  556fcff6-a7a3-4b02-a512-f491bcc6ab19   \n",
       "1  2244726     <NA>                3  eab80561-3d0d-4cd9-aa0b-5f52ed60bb67   \n",
       "2  1357710     <NA>                3  cf1f5585-a197-4218-8ffc-0d7f8da08d94   \n",
       "3  1847066     <NA>                3  6a9dddfd-48a3-46c1-962c-cfac5cc3cdee   \n",
       "4  2261643     <NA>                3  a52141ed-4790-486d-8da4-f3cf4ccef1c8   \n",
       "\n",
       "                 created_at       ip_address                    city  \\\n",
       "0 2023-03-08 05:37:00+00:00     38.103.36.86               São Paulo   \n",
       "1 2024-07-08 16:12:00+00:00      15.55.4.254  Vargem Grande Paulista   \n",
       "2 2023-05-14 01:54:00+00:00    13.137.185.63          Embu das Artes   \n",
       "3 2024-09-10 11:28:00+00:00   197.65.153.203              Embu-Guaçu   \n",
       "4 2019-01-02 07:15:00+00:00  149.159.232.254                Caieiras   \n",
       "\n",
       "       state postal_code  browser traffic_source      uri event_type  \n",
       "0  São Paulo   02675-031   Chrome       Facebook  /cancel     cancel  \n",
       "1  São Paulo   06730-000   Safari        Organic  /cancel     cancel  \n",
       "2  São Paulo   06810-240  Firefox          Email  /cancel     cancel  \n",
       "3  São Paulo   06900-000  Firefox          Email  /cancel     cancel  \n",
       "4  São Paulo   07700-000   Safari          Email  /cancel     cancel  "
      ]
     },
     "execution_count": 6,
     "metadata": {},
     "output_type": "execute_result"
    }
   ],
   "source": [
    "events_df = thelook_dfs['events']\n",
    "events_df.head(5)"
   ]
  },
  {
   "cell_type": "markdown",
   "id": "d21d620d-942f-46b1-a625-bd2eee8d1919",
   "metadata": {},
   "source": [
    "**events_df dictionary**\n",
    "\n",
    "| Column Name       | Description                                                           |\n",
    "| ----------------- | --------------------------------------------------------------------- |\n",
    "| `id`              | Unique identifier for each event record                               |\n",
    "| `user_id`         | ID of the user associated with the event *(can be missing/anonymous)* |\n",
    "| `sequence_number` | Order of the event within a session (helps track user journey)        |\n",
    "| `session_id`      | Unique ID for the user session (used to group related events)         |\n",
    "| `created_at`      | Timestamp when the event occurred                                     |\n",
    "| `ip_address`      | User’s IP address at the time of the event                            |\n",
    "| `city`            | City of the user (inferred from IP)                                   |\n",
    "| `state`           | State of the user (inferred from IP)                                  |\n",
    "| `postal_code`     | Postal code of the user (inferred from IP)                            |\n",
    "| `browser`         | Browser used by the user (e.g., Chrome, Safari)                       |\n",
    "| `traffic_source`  | Source that led the user to the site (e.g., Organic, Email, Adwords)  |\n",
    "| `uri`             | Specific page or endpoint visited (e.g., `/cancel`)                   |\n",
    "| `event_type`      | Type of user action or event (e.g., `cancel`, `purchase`, `checkout`) |\n"
   ]
  },
  {
   "cell_type": "code",
   "execution_count": 7,
   "id": "7dde1b2c-52bc-442e-9692-fc01abd4d762",
   "metadata": {},
   "outputs": [
    {
     "data": {
      "text/html": [
       "<div>\n",
       "<style scoped>\n",
       "    .dataframe tbody tr th:only-of-type {\n",
       "        vertical-align: middle;\n",
       "    }\n",
       "\n",
       "    .dataframe tbody tr th {\n",
       "        vertical-align: top;\n",
       "    }\n",
       "\n",
       "    .dataframe thead th {\n",
       "        text-align: right;\n",
       "    }\n",
       "</style>\n",
       "<table border=\"1\" class=\"dataframe\">\n",
       "  <thead>\n",
       "    <tr style=\"text-align: right;\">\n",
       "      <th></th>\n",
       "      <th>id</th>\n",
       "      <th>product_id</th>\n",
       "      <th>created_at</th>\n",
       "      <th>sold_at</th>\n",
       "      <th>cost</th>\n",
       "      <th>product_category</th>\n",
       "      <th>product_name</th>\n",
       "      <th>product_brand</th>\n",
       "      <th>product_retail_price</th>\n",
       "      <th>product_department</th>\n",
       "      <th>product_sku</th>\n",
       "      <th>product_distribution_center_id</th>\n",
       "    </tr>\n",
       "  </thead>\n",
       "  <tbody>\n",
       "    <tr>\n",
       "      <th>0</th>\n",
       "      <td>149079</td>\n",
       "      <td>13844</td>\n",
       "      <td>2025-07-09 05:12:51+00:00</td>\n",
       "      <td>2025-08-10 03:13:51+00:00</td>\n",
       "      <td>2.76804</td>\n",
       "      <td>Accessories</td>\n",
       "      <td>(ONE) 1 Satin Headband</td>\n",
       "      <td>Funny Girl Designs</td>\n",
       "      <td>6.99</td>\n",
       "      <td>Women</td>\n",
       "      <td>2A3E953A5E3D81E67945BCE5519F84C8</td>\n",
       "      <td>7</td>\n",
       "    </tr>\n",
       "    <tr>\n",
       "      <th>1</th>\n",
       "      <td>149080</td>\n",
       "      <td>13844</td>\n",
       "      <td>2021-09-08 16:23:00+00:00</td>\n",
       "      <td>NaT</td>\n",
       "      <td>2.76804</td>\n",
       "      <td>Accessories</td>\n",
       "      <td>(ONE) 1 Satin Headband</td>\n",
       "      <td>Funny Girl Designs</td>\n",
       "      <td>6.99</td>\n",
       "      <td>Women</td>\n",
       "      <td>2A3E953A5E3D81E67945BCE5519F84C8</td>\n",
       "      <td>7</td>\n",
       "    </tr>\n",
       "    <tr>\n",
       "      <th>2</th>\n",
       "      <td>327585</td>\n",
       "      <td>13844</td>\n",
       "      <td>2025-02-12 04:45:48+00:00</td>\n",
       "      <td>2025-04-08 22:24:48+00:00</td>\n",
       "      <td>2.76804</td>\n",
       "      <td>Accessories</td>\n",
       "      <td>(ONE) 1 Satin Headband</td>\n",
       "      <td>Funny Girl Designs</td>\n",
       "      <td>6.99</td>\n",
       "      <td>Women</td>\n",
       "      <td>2A3E953A5E3D81E67945BCE5519F84C8</td>\n",
       "      <td>7</td>\n",
       "    </tr>\n",
       "    <tr>\n",
       "      <th>3</th>\n",
       "      <td>327586</td>\n",
       "      <td>13844</td>\n",
       "      <td>2020-09-08 05:58:00+00:00</td>\n",
       "      <td>NaT</td>\n",
       "      <td>2.76804</td>\n",
       "      <td>Accessories</td>\n",
       "      <td>(ONE) 1 Satin Headband</td>\n",
       "      <td>Funny Girl Designs</td>\n",
       "      <td>6.99</td>\n",
       "      <td>Women</td>\n",
       "      <td>2A3E953A5E3D81E67945BCE5519F84C8</td>\n",
       "      <td>7</td>\n",
       "    </tr>\n",
       "    <tr>\n",
       "      <th>4</th>\n",
       "      <td>360165</td>\n",
       "      <td>13844</td>\n",
       "      <td>2023-12-30 02:38:29+00:00</td>\n",
       "      <td>2024-02-01 04:11:29+00:00</td>\n",
       "      <td>2.76804</td>\n",
       "      <td>Accessories</td>\n",
       "      <td>(ONE) 1 Satin Headband</td>\n",
       "      <td>Funny Girl Designs</td>\n",
       "      <td>6.99</td>\n",
       "      <td>Women</td>\n",
       "      <td>2A3E953A5E3D81E67945BCE5519F84C8</td>\n",
       "      <td>7</td>\n",
       "    </tr>\n",
       "  </tbody>\n",
       "</table>\n",
       "</div>"
      ],
      "text/plain": [
       "       id  product_id                created_at                   sold_at  \\\n",
       "0  149079       13844 2025-07-09 05:12:51+00:00 2025-08-10 03:13:51+00:00   \n",
       "1  149080       13844 2021-09-08 16:23:00+00:00                       NaT   \n",
       "2  327585       13844 2025-02-12 04:45:48+00:00 2025-04-08 22:24:48+00:00   \n",
       "3  327586       13844 2020-09-08 05:58:00+00:00                       NaT   \n",
       "4  360165       13844 2023-12-30 02:38:29+00:00 2024-02-01 04:11:29+00:00   \n",
       "\n",
       "      cost product_category            product_name       product_brand  \\\n",
       "0  2.76804      Accessories  (ONE) 1 Satin Headband  Funny Girl Designs   \n",
       "1  2.76804      Accessories  (ONE) 1 Satin Headband  Funny Girl Designs   \n",
       "2  2.76804      Accessories  (ONE) 1 Satin Headband  Funny Girl Designs   \n",
       "3  2.76804      Accessories  (ONE) 1 Satin Headband  Funny Girl Designs   \n",
       "4  2.76804      Accessories  (ONE) 1 Satin Headband  Funny Girl Designs   \n",
       "\n",
       "   product_retail_price product_department                       product_sku  \\\n",
       "0                  6.99              Women  2A3E953A5E3D81E67945BCE5519F84C8   \n",
       "1                  6.99              Women  2A3E953A5E3D81E67945BCE5519F84C8   \n",
       "2                  6.99              Women  2A3E953A5E3D81E67945BCE5519F84C8   \n",
       "3                  6.99              Women  2A3E953A5E3D81E67945BCE5519F84C8   \n",
       "4                  6.99              Women  2A3E953A5E3D81E67945BCE5519F84C8   \n",
       "\n",
       "   product_distribution_center_id  \n",
       "0                               7  \n",
       "1                               7  \n",
       "2                               7  \n",
       "3                               7  \n",
       "4                               7  "
      ]
     },
     "execution_count": 7,
     "metadata": {},
     "output_type": "execute_result"
    }
   ],
   "source": [
    "inventoryitems_df = thelook_dfs['inventory_items']\n",
    "inventoryitems_df.head()"
   ]
  },
  {
   "cell_type": "markdown",
   "id": "813295db-46d0-4e81-a71c-ba73b79bac1d",
   "metadata": {},
   "source": [
    "**inventoryitems_df dictionary**\n",
    "\n",
    "| Column Name                      | Description                                                                                                 |\n",
    "| -------------------------------- | ----------------------------------------------------------------------------------------------------------- |\n",
    "| `id`                             | Unique identifier for each inventory record                                                                 |\n",
    "| `product_id`                     | ID of the product listed in the inventory                                                                   |\n",
    "| `created_at`                     | Timestamp when the product was added to inventory                                                           |\n",
    "| `sold_at`                        | Timestamp when the product was sold (null if unsold)                                                        |\n",
    "| `cost`                           | Cost to the business for this unit (wholesale price)                                                        |\n",
    "| `product_category`               | Category label for the product (e.g., *Jumpsuits & Rompers*)                                                |\n",
    "| `product_name`                   | Full name or title of the product                                                                           |\n",
    "| `product_brand`                  | Brand/manufacturer of the product                                                                           |\n",
    "| `product_retail_price`           | Suggested retail price or sale price to customer                                                            |\n",
    "| `product_department`             | Department the product belongs to (e.g., *Women*)                                                           |\n",
    "| `product_sku`                    | Unique stock keeping unit (SKU) for inventory tracking                                                      |\n",
    "| `product_distribution_center_id` | Foreign key linking to the distribution center where the item is stocked (join with `distribution_centers`) |\n"
   ]
  },
  {
   "cell_type": "code",
   "execution_count": 8,
   "id": "230f0f60-f813-446b-8819-d3601e53a44c",
   "metadata": {},
   "outputs": [
    {
     "data": {
      "text/html": [
       "<div>\n",
       "<style scoped>\n",
       "    .dataframe tbody tr th:only-of-type {\n",
       "        vertical-align: middle;\n",
       "    }\n",
       "\n",
       "    .dataframe tbody tr th {\n",
       "        vertical-align: top;\n",
       "    }\n",
       "\n",
       "    .dataframe thead th {\n",
       "        text-align: right;\n",
       "    }\n",
       "</style>\n",
       "<table border=\"1\" class=\"dataframe\">\n",
       "  <thead>\n",
       "    <tr style=\"text-align: right;\">\n",
       "      <th></th>\n",
       "      <th>id</th>\n",
       "      <th>order_id</th>\n",
       "      <th>user_id</th>\n",
       "      <th>product_id</th>\n",
       "      <th>inventory_item_id</th>\n",
       "      <th>status</th>\n",
       "      <th>created_at</th>\n",
       "      <th>shipped_at</th>\n",
       "      <th>delivered_at</th>\n",
       "      <th>returned_at</th>\n",
       "      <th>sale_price</th>\n",
       "    </tr>\n",
       "  </thead>\n",
       "  <tbody>\n",
       "    <tr>\n",
       "      <th>0</th>\n",
       "      <td>110755</td>\n",
       "      <td>76044</td>\n",
       "      <td>60769</td>\n",
       "      <td>14235</td>\n",
       "      <td>299107</td>\n",
       "      <td>Complete</td>\n",
       "      <td>2023-11-24 10:10:15+00:00</td>\n",
       "      <td>2023-11-24 05:06:00+00:00</td>\n",
       "      <td>2023-11-28 13:36:00+00:00</td>\n",
       "      <td>NaT</td>\n",
       "      <td>0.02</td>\n",
       "    </tr>\n",
       "    <tr>\n",
       "      <th>1</th>\n",
       "      <td>42569</td>\n",
       "      <td>29086</td>\n",
       "      <td>23286</td>\n",
       "      <td>14235</td>\n",
       "      <td>114772</td>\n",
       "      <td>Shipped</td>\n",
       "      <td>2025-03-18 13:55:21+00:00</td>\n",
       "      <td>2025-03-20 08:28:00+00:00</td>\n",
       "      <td>NaT</td>\n",
       "      <td>NaT</td>\n",
       "      <td>0.02</td>\n",
       "    </tr>\n",
       "    <tr>\n",
       "      <th>2</th>\n",
       "      <td>68460</td>\n",
       "      <td>46920</td>\n",
       "      <td>37539</td>\n",
       "      <td>14235</td>\n",
       "      <td>184744</td>\n",
       "      <td>Shipped</td>\n",
       "      <td>2025-05-05 06:44:19+00:00</td>\n",
       "      <td>2025-05-06 12:16:00+00:00</td>\n",
       "      <td>NaT</td>\n",
       "      <td>NaT</td>\n",
       "      <td>0.02</td>\n",
       "    </tr>\n",
       "    <tr>\n",
       "      <th>3</th>\n",
       "      <td>87121</td>\n",
       "      <td>59811</td>\n",
       "      <td>47896</td>\n",
       "      <td>14235</td>\n",
       "      <td>235215</td>\n",
       "      <td>Shipped</td>\n",
       "      <td>2025-03-28 03:24:05+00:00</td>\n",
       "      <td>2025-03-28 17:29:00+00:00</td>\n",
       "      <td>NaT</td>\n",
       "      <td>NaT</td>\n",
       "      <td>0.02</td>\n",
       "    </tr>\n",
       "    <tr>\n",
       "      <th>4</th>\n",
       "      <td>116285</td>\n",
       "      <td>79822</td>\n",
       "      <td>63823</td>\n",
       "      <td>14235</td>\n",
       "      <td>314052</td>\n",
       "      <td>Shipped</td>\n",
       "      <td>2021-10-05 01:35:54+00:00</td>\n",
       "      <td>2021-10-07 00:21:00+00:00</td>\n",
       "      <td>NaT</td>\n",
       "      <td>NaT</td>\n",
       "      <td>0.02</td>\n",
       "    </tr>\n",
       "  </tbody>\n",
       "</table>\n",
       "</div>"
      ],
      "text/plain": [
       "       id  order_id  user_id  product_id  inventory_item_id    status  \\\n",
       "0  110755     76044    60769       14235             299107  Complete   \n",
       "1   42569     29086    23286       14235             114772   Shipped   \n",
       "2   68460     46920    37539       14235             184744   Shipped   \n",
       "3   87121     59811    47896       14235             235215   Shipped   \n",
       "4  116285     79822    63823       14235             314052   Shipped   \n",
       "\n",
       "                 created_at                shipped_at  \\\n",
       "0 2023-11-24 10:10:15+00:00 2023-11-24 05:06:00+00:00   \n",
       "1 2025-03-18 13:55:21+00:00 2025-03-20 08:28:00+00:00   \n",
       "2 2025-05-05 06:44:19+00:00 2025-05-06 12:16:00+00:00   \n",
       "3 2025-03-28 03:24:05+00:00 2025-03-28 17:29:00+00:00   \n",
       "4 2021-10-05 01:35:54+00:00 2021-10-07 00:21:00+00:00   \n",
       "\n",
       "               delivered_at returned_at  sale_price  \n",
       "0 2023-11-28 13:36:00+00:00         NaT        0.02  \n",
       "1                       NaT         NaT        0.02  \n",
       "2                       NaT         NaT        0.02  \n",
       "3                       NaT         NaT        0.02  \n",
       "4                       NaT         NaT        0.02  "
      ]
     },
     "execution_count": 8,
     "metadata": {},
     "output_type": "execute_result"
    }
   ],
   "source": [
    "orderitems_df = thelook_dfs['order_items']\n",
    "orderitems_df.head(5)"
   ]
  },
  {
   "cell_type": "markdown",
   "id": "49095e9a-319e-4de7-96e8-1ca5e2d04d74",
   "metadata": {},
   "source": [
    "**orderitems_df**\n",
    "\n",
    "| Column Name         | Description                                                                    |\n",
    "| ------------------- | ------------------------------------------------------------------------------ |\n",
    "| `id`                | Unique identifier for each order item (line item)                              |\n",
    "| `order_id`          | Foreign key referencing the `orders` table (represents the main order)         |\n",
    "| `user_id`           | ID of the customer who placed the order                                        |\n",
    "| `product_id`        | ID of the product ordered (from `products` or `inventories` table)             |\n",
    "| `inventory_item_id` | Foreign key linking to the specific item in the inventory (from `inventories`) |\n",
    "| `status`            | Status of the item within the order: `Complete`, `Cancelled`, etc.             |\n",
    "| `created_at`        | Timestamp when the item was added to the order                                 |\n",
    "| `shipped_at`        | Timestamp when the item was shipped                                            |\n",
    "| `delivered_at`      | Timestamp when the item was delivered                                          |\n",
    "| `returned_at`       | Timestamp if the item was returned                                             |\n",
    "| `sale_price`        | Price at which the item was sold to the customer                               |\n"
   ]
  },
  {
   "cell_type": "code",
   "execution_count": 9,
   "id": "b9e69d41-2a17-45a8-a168-c06267cfff89",
   "metadata": {},
   "outputs": [
    {
     "data": {
      "text/html": [
       "<div>\n",
       "<style scoped>\n",
       "    .dataframe tbody tr th:only-of-type {\n",
       "        vertical-align: middle;\n",
       "    }\n",
       "\n",
       "    .dataframe tbody tr th {\n",
       "        vertical-align: top;\n",
       "    }\n",
       "\n",
       "    .dataframe thead th {\n",
       "        text-align: right;\n",
       "    }\n",
       "</style>\n",
       "<table border=\"1\" class=\"dataframe\">\n",
       "  <thead>\n",
       "    <tr style=\"text-align: right;\">\n",
       "      <th></th>\n",
       "      <th>id</th>\n",
       "      <th>cost</th>\n",
       "      <th>category</th>\n",
       "      <th>name</th>\n",
       "      <th>brand</th>\n",
       "      <th>retail_price</th>\n",
       "      <th>department</th>\n",
       "      <th>sku</th>\n",
       "      <th>distribution_center_id</th>\n",
       "    </tr>\n",
       "  </thead>\n",
       "  <tbody>\n",
       "    <tr>\n",
       "      <th>0</th>\n",
       "      <td>13842</td>\n",
       "      <td>2.51875</td>\n",
       "      <td>Accessories</td>\n",
       "      <td>Low Profile Dyed Cotton Twill Cap - Navy W39S55D</td>\n",
       "      <td>MG</td>\n",
       "      <td>6.25</td>\n",
       "      <td>Women</td>\n",
       "      <td>EBD58B8A3F1D72F4206201DA62FB1204</td>\n",
       "      <td>1</td>\n",
       "    </tr>\n",
       "    <tr>\n",
       "      <th>1</th>\n",
       "      <td>13928</td>\n",
       "      <td>2.33835</td>\n",
       "      <td>Accessories</td>\n",
       "      <td>Low Profile Dyed Cotton Twill Cap - Putty W39S55D</td>\n",
       "      <td>MG</td>\n",
       "      <td>5.95</td>\n",
       "      <td>Women</td>\n",
       "      <td>2EAC42424D12436BDD6A5B8A88480CC3</td>\n",
       "      <td>1</td>\n",
       "    </tr>\n",
       "    <tr>\n",
       "      <th>2</th>\n",
       "      <td>14115</td>\n",
       "      <td>4.87956</td>\n",
       "      <td>Accessories</td>\n",
       "      <td>Enzyme Regular Solid Army Caps-Black W35S45D</td>\n",
       "      <td>MG</td>\n",
       "      <td>10.99</td>\n",
       "      <td>Women</td>\n",
       "      <td>EE364229B2791D1EF9355708EFF0BA34</td>\n",
       "      <td>1</td>\n",
       "    </tr>\n",
       "    <tr>\n",
       "      <th>3</th>\n",
       "      <td>14157</td>\n",
       "      <td>4.64877</td>\n",
       "      <td>Accessories</td>\n",
       "      <td>Enzyme Regular Solid Army Caps-Olive W35S45D (...</td>\n",
       "      <td>MG</td>\n",
       "      <td>10.99</td>\n",
       "      <td>Women</td>\n",
       "      <td>00BD13095D06C20B11A2993CA419D16B</td>\n",
       "      <td>1</td>\n",
       "    </tr>\n",
       "    <tr>\n",
       "      <th>4</th>\n",
       "      <td>14273</td>\n",
       "      <td>6.50793</td>\n",
       "      <td>Accessories</td>\n",
       "      <td>Washed Canvas Ivy Cap - Black W11S64C</td>\n",
       "      <td>MG</td>\n",
       "      <td>15.99</td>\n",
       "      <td>Women</td>\n",
       "      <td>F531DC20FDE20B7ADF3A73F52B71D0AF</td>\n",
       "      <td>1</td>\n",
       "    </tr>\n",
       "  </tbody>\n",
       "</table>\n",
       "</div>"
      ],
      "text/plain": [
       "      id     cost     category  \\\n",
       "0  13842  2.51875  Accessories   \n",
       "1  13928  2.33835  Accessories   \n",
       "2  14115  4.87956  Accessories   \n",
       "3  14157  4.64877  Accessories   \n",
       "4  14273  6.50793  Accessories   \n",
       "\n",
       "                                                name brand  retail_price  \\\n",
       "0   Low Profile Dyed Cotton Twill Cap - Navy W39S55D    MG          6.25   \n",
       "1  Low Profile Dyed Cotton Twill Cap - Putty W39S55D    MG          5.95   \n",
       "2       Enzyme Regular Solid Army Caps-Black W35S45D    MG         10.99   \n",
       "3  Enzyme Regular Solid Army Caps-Olive W35S45D (...    MG         10.99   \n",
       "4              Washed Canvas Ivy Cap - Black W11S64C    MG         15.99   \n",
       "\n",
       "  department                               sku  distribution_center_id  \n",
       "0      Women  EBD58B8A3F1D72F4206201DA62FB1204                       1  \n",
       "1      Women  2EAC42424D12436BDD6A5B8A88480CC3                       1  \n",
       "2      Women  EE364229B2791D1EF9355708EFF0BA34                       1  \n",
       "3      Women  00BD13095D06C20B11A2993CA419D16B                       1  \n",
       "4      Women  F531DC20FDE20B7ADF3A73F52B71D0AF                       1  "
      ]
     },
     "execution_count": 9,
     "metadata": {},
     "output_type": "execute_result"
    }
   ],
   "source": [
    "products_df = thelook_dfs['products']\n",
    "products_df.head(5)"
   ]
  },
  {
   "cell_type": "markdown",
   "id": "232beb8f-857e-4de5-a0bf-0dd41fa25672",
   "metadata": {},
   "source": [
    "**products_df**\n",
    "\n",
    "| Column Name              | Description                                                                                                      |\n",
    "| ------------------------ | ---------------------------------------------------------------------------------------------------------------- |\n",
    "| `id`                     | Unique product ID                                                                                                |\n",
    "| `cost`                   | Internal cost of the product for the retailer                                                                    |\n",
    "| `category`               | Product category (e.g., Accessories, Tops, Shoes)                                                                |\n",
    "| `name`                   | Full name or description of the product                                                                          |\n",
    "| `brand`                  | Brand or manufacturer of the product                                                                             |\n",
    "| `retail_price`           | Recommended retail price for the product                                                                         |\n",
    "| `department`             | Department the product belongs to (e.g., Women, Men, Kids)                                                       |\n",
    "| `sku`                    | Stock Keeping Unit: unique code used to identify and track inventory                                             |\n",
    "| `distribution_center_id` | Foreign key linking to the `distribution_centers` table, indicating where the product is stocked or shipped from |\n"
   ]
  },
  {
   "cell_type": "code",
   "execution_count": 10,
   "id": "80a08e65-8c2b-4e18-8baa-ede2a2ea97a7",
   "metadata": {},
   "outputs": [
    {
     "data": {
      "text/html": [
       "<div>\n",
       "<style scoped>\n",
       "    .dataframe tbody tr th:only-of-type {\n",
       "        vertical-align: middle;\n",
       "    }\n",
       "\n",
       "    .dataframe tbody tr th {\n",
       "        vertical-align: top;\n",
       "    }\n",
       "\n",
       "    .dataframe thead th {\n",
       "        text-align: right;\n",
       "    }\n",
       "</style>\n",
       "<table border=\"1\" class=\"dataframe\">\n",
       "  <thead>\n",
       "    <tr style=\"text-align: right;\">\n",
       "      <th></th>\n",
       "      <th>id</th>\n",
       "      <th>first_name</th>\n",
       "      <th>last_name</th>\n",
       "      <th>email</th>\n",
       "      <th>age</th>\n",
       "      <th>gender</th>\n",
       "      <th>state</th>\n",
       "      <th>street_address</th>\n",
       "      <th>postal_code</th>\n",
       "      <th>city</th>\n",
       "      <th>country</th>\n",
       "      <th>latitude</th>\n",
       "      <th>longitude</th>\n",
       "      <th>traffic_source</th>\n",
       "      <th>created_at</th>\n",
       "      <th>user_geom</th>\n",
       "    </tr>\n",
       "  </thead>\n",
       "  <tbody>\n",
       "    <tr>\n",
       "      <th>0</th>\n",
       "      <td>98707</td>\n",
       "      <td>Jason</td>\n",
       "      <td>Sharp</td>\n",
       "      <td>jasonsharp@example.org</td>\n",
       "      <td>58</td>\n",
       "      <td>M</td>\n",
       "      <td>Acre</td>\n",
       "      <td>903 Porter Valley Suite 916</td>\n",
       "      <td>69980-000</td>\n",
       "      <td>null</td>\n",
       "      <td>Brasil</td>\n",
       "      <td>-8.065346</td>\n",
       "      <td>-72.870949</td>\n",
       "      <td>Email</td>\n",
       "      <td>2021-07-18 13:14:00+00:00</td>\n",
       "      <td>POINT(-72.87094866 -8.065346116)</td>\n",
       "    </tr>\n",
       "    <tr>\n",
       "      <th>1</th>\n",
       "      <td>63035</td>\n",
       "      <td>Jill</td>\n",
       "      <td>Hale</td>\n",
       "      <td>jillhale@example.net</td>\n",
       "      <td>64</td>\n",
       "      <td>F</td>\n",
       "      <td>Acre</td>\n",
       "      <td>562 Melanie Villages</td>\n",
       "      <td>69980-000</td>\n",
       "      <td>null</td>\n",
       "      <td>Brasil</td>\n",
       "      <td>-8.065346</td>\n",
       "      <td>-72.870949</td>\n",
       "      <td>Organic</td>\n",
       "      <td>2022-04-11 07:09:00+00:00</td>\n",
       "      <td>POINT(-72.87094866 -8.065346116)</td>\n",
       "    </tr>\n",
       "    <tr>\n",
       "      <th>2</th>\n",
       "      <td>85614</td>\n",
       "      <td>Sandra</td>\n",
       "      <td>Sanchez</td>\n",
       "      <td>sandrasanchez@example.org</td>\n",
       "      <td>23</td>\n",
       "      <td>F</td>\n",
       "      <td>Acre</td>\n",
       "      <td>6588 Matthews Isle Suite 107</td>\n",
       "      <td>69980-000</td>\n",
       "      <td>null</td>\n",
       "      <td>Brasil</td>\n",
       "      <td>-8.065346</td>\n",
       "      <td>-72.870949</td>\n",
       "      <td>Organic</td>\n",
       "      <td>2024-07-25 01:54:00+00:00</td>\n",
       "      <td>POINT(-72.87094866 -8.065346116)</td>\n",
       "    </tr>\n",
       "    <tr>\n",
       "      <th>3</th>\n",
       "      <td>60885</td>\n",
       "      <td>Kayla</td>\n",
       "      <td>Sanders</td>\n",
       "      <td>kaylasanders@example.com</td>\n",
       "      <td>15</td>\n",
       "      <td>F</td>\n",
       "      <td>Acre</td>\n",
       "      <td>845 Harrington Trace</td>\n",
       "      <td>69980-000</td>\n",
       "      <td>null</td>\n",
       "      <td>Brasil</td>\n",
       "      <td>-8.065346</td>\n",
       "      <td>-72.870949</td>\n",
       "      <td>Search</td>\n",
       "      <td>2021-03-22 17:07:00+00:00</td>\n",
       "      <td>POINT(-72.87094866 -8.065346116)</td>\n",
       "    </tr>\n",
       "    <tr>\n",
       "      <th>4</th>\n",
       "      <td>15848</td>\n",
       "      <td>Monica</td>\n",
       "      <td>Mills</td>\n",
       "      <td>monicamills@example.com</td>\n",
       "      <td>29</td>\n",
       "      <td>F</td>\n",
       "      <td>Acre</td>\n",
       "      <td>5959 Thomas Center</td>\n",
       "      <td>69980-000</td>\n",
       "      <td>null</td>\n",
       "      <td>Brasil</td>\n",
       "      <td>-8.065346</td>\n",
       "      <td>-72.870949</td>\n",
       "      <td>Display</td>\n",
       "      <td>2023-02-24 04:24:00+00:00</td>\n",
       "      <td>POINT(-72.87094866 -8.065346116)</td>\n",
       "    </tr>\n",
       "  </tbody>\n",
       "</table>\n",
       "</div>"
      ],
      "text/plain": [
       "      id first_name last_name                      email  age gender state  \\\n",
       "0  98707      Jason     Sharp     jasonsharp@example.org   58      M  Acre   \n",
       "1  63035       Jill      Hale       jillhale@example.net   64      F  Acre   \n",
       "2  85614     Sandra   Sanchez  sandrasanchez@example.org   23      F  Acre   \n",
       "3  60885      Kayla   Sanders   kaylasanders@example.com   15      F  Acre   \n",
       "4  15848     Monica     Mills    monicamills@example.com   29      F  Acre   \n",
       "\n",
       "                 street_address postal_code  city country  latitude  \\\n",
       "0   903 Porter Valley Suite 916   69980-000  null  Brasil -8.065346   \n",
       "1          562 Melanie Villages   69980-000  null  Brasil -8.065346   \n",
       "2  6588 Matthews Isle Suite 107   69980-000  null  Brasil -8.065346   \n",
       "3          845 Harrington Trace   69980-000  null  Brasil -8.065346   \n",
       "4            5959 Thomas Center   69980-000  null  Brasil -8.065346   \n",
       "\n",
       "   longitude traffic_source                created_at  \\\n",
       "0 -72.870949          Email 2021-07-18 13:14:00+00:00   \n",
       "1 -72.870949        Organic 2022-04-11 07:09:00+00:00   \n",
       "2 -72.870949        Organic 2024-07-25 01:54:00+00:00   \n",
       "3 -72.870949         Search 2021-03-22 17:07:00+00:00   \n",
       "4 -72.870949        Display 2023-02-24 04:24:00+00:00   \n",
       "\n",
       "                          user_geom  \n",
       "0  POINT(-72.87094866 -8.065346116)  \n",
       "1  POINT(-72.87094866 -8.065346116)  \n",
       "2  POINT(-72.87094866 -8.065346116)  \n",
       "3  POINT(-72.87094866 -8.065346116)  \n",
       "4  POINT(-72.87094866 -8.065346116)  "
      ]
     },
     "execution_count": 10,
     "metadata": {},
     "output_type": "execute_result"
    }
   ],
   "source": [
    "users_df = thelook_dfs['users']\n",
    "users_df.head(5)"
   ]
  },
  {
   "cell_type": "markdown",
   "id": "b3f64b63-38f9-47f5-825e-214bff68e0c1",
   "metadata": {},
   "source": [
    "**users_df dictionary**\n",
    "\n",
    "  | Column Name      | Description                                                                                |\n",
    "| ---------------- | ------------------------------------------------------------------------------------------ |\n",
    "| `id`             | Unique identifier for the user (primary key)                                               |\n",
    "| `first_name`     | User's first name                                                                          |\n",
    "| `last_name`      | User's last name                                                                           |\n",
    "| `email`          | User's email address                                                                       |\n",
    "| `age`            | Age of the user                                                                            |\n",
    "| `gender`         | Gender of the user (`M`, `F`, or other)                                                    |\n",
    "| `state`          | State of residence (e.g., Acre)                                                            |\n",
    "| `street_address` | Full street address of the user                                                            |\n",
    "| `postal_code`    | Postal or ZIP code                                                                         |\n",
    "| `city`           | City (some entries may be `null`)                                                          |\n",
    "| `country`        | Country of residence (e.g., Brasil)                                                        |\n",
    "| `latitude`       | Latitude coordinate of the user's address                                                  |\n",
    "| `longitude`      | Longitude coordinate of the user's address                                                 |\n",
    "| `traffic_source` | Original acquisition source (e.g., Facebook, Email, Search, Organic)                       |\n",
    "| `created_at`     | Timestamp of when the user was created in the system                                       |\n",
    "| `user_geom`      | Spatial data point combining `longitude` and `latitude` (for mapping and geospatial joins) |\n"
   ]
  },
  {
   "cell_type": "markdown",
   "id": "eb2a4e11-0b9d-4604-af17-9f7821da02a6",
   "metadata": {},
   "source": [
    "### Data Cleaning & Exploration"
   ]
  },
  {
   "cell_type": "markdown",
   "id": "6ef16a7f-4d77-4017-8701-eb6c8a834ffe",
   "metadata": {},
   "source": [
    "#### orders_df"
   ]
  },
  {
   "cell_type": "code",
   "execution_count": 11,
   "id": "99e8a6ad-7292-46dd-8f83-fa7fc0677b01",
   "metadata": {},
   "outputs": [
    {
     "data": {
      "text/plain": [
       "(124691, 9)"
      ]
     },
     "execution_count": 11,
     "metadata": {},
     "output_type": "execute_result"
    }
   ],
   "source": [
    "# number of colums\n",
    "orders_df.shape"
   ]
  },
  {
   "cell_type": "code",
   "execution_count": 12,
   "id": "894c6535-6cd0-4cc1-ba78-1f0ae25ae297",
   "metadata": {},
   "outputs": [
    {
     "name": "stdout",
     "output_type": "stream",
     "text": [
      "<class 'pandas.core.frame.DataFrame'>\n",
      "RangeIndex: 124691 entries, 0 to 124690\n",
      "Data columns (total 9 columns):\n",
      " #   Column        Non-Null Count   Dtype              \n",
      "---  ------        --------------   -----              \n",
      " 0   order_id      124691 non-null  Int64              \n",
      " 1   user_id       124691 non-null  Int64              \n",
      " 2   status        124691 non-null  object             \n",
      " 3   gender        124691 non-null  object             \n",
      " 4   created_at    124691 non-null  datetime64[us, UTC]\n",
      " 5   returned_at   12491 non-null   datetime64[us, UTC]\n",
      " 6   shipped_at    81220 non-null   datetime64[us, UTC]\n",
      " 7   delivered_at  43863 non-null   datetime64[us, UTC]\n",
      " 8   num_of_item   124691 non-null  Int64              \n",
      "dtypes: Int64(3), datetime64[us, UTC](4), object(2)\n",
      "memory usage: 8.9+ MB\n"
     ]
    }
   ],
   "source": [
    "# Check data type of the orders_df\n",
    "\n",
    "orders_df.info()"
   ]
  },
  {
   "cell_type": "code",
   "execution_count": 13,
   "id": "1a7c77a2-17ab-4200-9b94-d60ccaaf7ec3",
   "metadata": {},
   "outputs": [
    {
     "data": {
      "text/plain": [
       "order_id             0\n",
       "user_id              0\n",
       "status               0\n",
       "gender               0\n",
       "created_at           0\n",
       "returned_at     112200\n",
       "shipped_at       43471\n",
       "delivered_at     80828\n",
       "num_of_item          0\n",
       "dtype: int64"
      ]
     },
     "execution_count": 13,
     "metadata": {},
     "output_type": "execute_result"
    }
   ],
   "source": [
    "# Check for null values\n",
    "\n",
    "orders_df.isnull().sum()"
   ]
  },
  {
   "cell_type": "code",
   "execution_count": 14,
   "id": "dec1036f-da73-49ea-922e-595b75b77b89",
   "metadata": {},
   "outputs": [
    {
     "data": {
      "text/plain": [
       "array(['Cancelled', 'Complete', 'Processing', 'Returned', 'Shipped'],\n",
       "      dtype=object)"
      ]
     },
     "execution_count": 14,
     "metadata": {},
     "output_type": "execute_result"
    }
   ],
   "source": [
    "orders_df['status'].unique()"
   ]
  },
  {
   "cell_type": "code",
   "execution_count": 15,
   "id": "ef2cd9cf-e0b0-4b03-a3b2-3f059346909f",
   "metadata": {},
   "outputs": [
    {
     "data": {
      "text/plain": [
       "status\n",
       "Shipped       0.299597\n",
       "Complete      0.251598\n",
       "Processing    0.200335\n",
       "Cancelled     0.148295\n",
       "Returned      0.100176\n",
       "Name: proportion, dtype: float64"
      ]
     },
     "execution_count": 15,
     "metadata": {},
     "output_type": "execute_result"
    }
   ],
   "source": [
    "orders_df['status'].value_counts(normalize = True)"
   ]
  },
  {
   "cell_type": "code",
   "execution_count": 16,
   "id": "f9acb9b7-ae57-486a-88a6-f7e66d18e8fe",
   "metadata": {},
   "outputs": [
    {
     "data": {
      "text/plain": [
       "gender\n",
       "M    0.503364\n",
       "F    0.496636\n",
       "Name: proportion, dtype: float64"
      ]
     },
     "execution_count": 16,
     "metadata": {},
     "output_type": "execute_result"
    }
   ],
   "source": [
    "# unique values and proportion of items in gender\n",
    "\n",
    "orders_df['gender'].value_counts(normalize = True)"
   ]
  },
  {
   "cell_type": "code",
   "execution_count": 17,
   "id": "4959c9c8-8021-4475-97c9-342e84db1da8",
   "metadata": {},
   "outputs": [
    {
     "data": {
      "text/html": [
       "<div>\n",
       "<style scoped>\n",
       "    .dataframe tbody tr th:only-of-type {\n",
       "        vertical-align: middle;\n",
       "    }\n",
       "\n",
       "    .dataframe tbody tr th {\n",
       "        vertical-align: top;\n",
       "    }\n",
       "\n",
       "    .dataframe thead th {\n",
       "        text-align: right;\n",
       "    }\n",
       "</style>\n",
       "<table border=\"1\" class=\"dataframe\">\n",
       "  <thead>\n",
       "    <tr style=\"text-align: right;\">\n",
       "      <th></th>\n",
       "      <th>order_id</th>\n",
       "      <th>user_id</th>\n",
       "      <th>num_of_item</th>\n",
       "    </tr>\n",
       "  </thead>\n",
       "  <tbody>\n",
       "    <tr>\n",
       "      <th>count</th>\n",
       "      <td>124691.0</td>\n",
       "      <td>124691.0</td>\n",
       "      <td>124691.0</td>\n",
       "    </tr>\n",
       "    <tr>\n",
       "      <th>mean</th>\n",
       "      <td>62346.0</td>\n",
       "      <td>49918.307649</td>\n",
       "      <td>1.45377</td>\n",
       "    </tr>\n",
       "    <tr>\n",
       "      <th>std</th>\n",
       "      <td>35995.335545</td>\n",
       "      <td>28860.671042</td>\n",
       "      <td>0.808708</td>\n",
       "    </tr>\n",
       "    <tr>\n",
       "      <th>min</th>\n",
       "      <td>1.0</td>\n",
       "      <td>1.0</td>\n",
       "      <td>1.0</td>\n",
       "    </tr>\n",
       "    <tr>\n",
       "      <th>25%</th>\n",
       "      <td>31173.5</td>\n",
       "      <td>24938.0</td>\n",
       "      <td>1.0</td>\n",
       "    </tr>\n",
       "    <tr>\n",
       "      <th>50%</th>\n",
       "      <td>62346.0</td>\n",
       "      <td>49931.0</td>\n",
       "      <td>1.0</td>\n",
       "    </tr>\n",
       "    <tr>\n",
       "      <th>75%</th>\n",
       "      <td>93518.5</td>\n",
       "      <td>74996.0</td>\n",
       "      <td>2.0</td>\n",
       "    </tr>\n",
       "    <tr>\n",
       "      <th>max</th>\n",
       "      <td>124691.0</td>\n",
       "      <td>100000.0</td>\n",
       "      <td>4.0</td>\n",
       "    </tr>\n",
       "  </tbody>\n",
       "</table>\n",
       "</div>"
      ],
      "text/plain": [
       "           order_id       user_id  num_of_item\n",
       "count      124691.0      124691.0     124691.0\n",
       "mean        62346.0  49918.307649      1.45377\n",
       "std    35995.335545  28860.671042     0.808708\n",
       "min             1.0           1.0          1.0\n",
       "25%         31173.5       24938.0          1.0\n",
       "50%         62346.0       49931.0          1.0\n",
       "75%         93518.5       74996.0          2.0\n",
       "max        124691.0      100000.0          4.0"
      ]
     },
     "execution_count": 17,
     "metadata": {},
     "output_type": "execute_result"
    }
   ],
   "source": [
    "orders_df.describe()"
   ]
  },
  {
   "cell_type": "markdown",
   "id": "68e3c303-3d3b-4e91-9acd-9a8467f4903d",
   "metadata": {},
   "source": [
    "**distribution_df (Distribution center)**"
   ]
  },
  {
   "cell_type": "markdown",
   "id": "d15fb16b-1018-4783-9d74-a62f868742c0",
   "metadata": {},
   "source": [
    "**Null values interpretation**\n",
    "\n",
    "The order_df has 112122 null valued for returned_at, this indicates that 112122 were not returned, 43852 were never shipped, and 81210 has no delivery time, perhaps because they were never delivered. This could include:\n",
    "\n",
    "- Orders that were cancelled before delivery.\n",
    "\n",
    "- Orders that are still in transit.\n",
    "\n",
    "- Orders that were lost or failed delivery.\n",
    "\n",
    "**Status Value counts**\n",
    "\n",
    "About 29.85% of orders were shipped but not yet marked as delivered, 25.14 were succesfully delivered, 19.92 % are currenly been processed, 15.11 % were cancelled before completion and 9.96 orders were delivered by returned by customers. \n",
    "\n",
    "**Gender**\n",
    "\n",
    "`50.06` % of customers are Male and  `49.93` are female\n",
    "\n",
    "**.decribe**\n",
    "\n",
    "50% media of all orders contain 1 item and 75% of order contain 2 items and the maximum number of items ordered in a single order is 4"
   ]
  },
  {
   "cell_type": "code",
   "execution_count": 18,
   "id": "3a6a0eb0-a302-44c9-8411-f88268e83eb4",
   "metadata": {},
   "outputs": [
    {
     "data": {
      "text/html": [
       "<div>\n",
       "<style scoped>\n",
       "    .dataframe tbody tr th:only-of-type {\n",
       "        vertical-align: middle;\n",
       "    }\n",
       "\n",
       "    .dataframe tbody tr th {\n",
       "        vertical-align: top;\n",
       "    }\n",
       "\n",
       "    .dataframe thead th {\n",
       "        text-align: right;\n",
       "    }\n",
       "</style>\n",
       "<table border=\"1\" class=\"dataframe\">\n",
       "  <thead>\n",
       "    <tr style=\"text-align: right;\">\n",
       "      <th></th>\n",
       "      <th>id</th>\n",
       "      <th>name</th>\n",
       "      <th>latitude</th>\n",
       "      <th>longitude</th>\n",
       "      <th>distribution_center_geom</th>\n",
       "    </tr>\n",
       "  </thead>\n",
       "  <tbody>\n",
       "    <tr>\n",
       "      <th>0</th>\n",
       "      <td>10</td>\n",
       "      <td>Savannah GA</td>\n",
       "      <td>32.0167</td>\n",
       "      <td>-81.1167</td>\n",
       "      <td>POINT(-81.1167 32.0167)</td>\n",
       "    </tr>\n",
       "    <tr>\n",
       "      <th>1</th>\n",
       "      <td>9</td>\n",
       "      <td>Charleston SC</td>\n",
       "      <td>32.7833</td>\n",
       "      <td>-79.9333</td>\n",
       "      <td>POINT(-79.9333 32.7833)</td>\n",
       "    </tr>\n",
       "    <tr>\n",
       "      <th>2</th>\n",
       "      <td>1</td>\n",
       "      <td>Memphis TN</td>\n",
       "      <td>35.1174</td>\n",
       "      <td>-89.9711</td>\n",
       "      <td>POINT(-89.9711 35.1174)</td>\n",
       "    </tr>\n",
       "    <tr>\n",
       "      <th>3</th>\n",
       "      <td>3</td>\n",
       "      <td>Houston TX</td>\n",
       "      <td>29.7604</td>\n",
       "      <td>-95.3698</td>\n",
       "      <td>POINT(-95.3698 29.7604)</td>\n",
       "    </tr>\n",
       "    <tr>\n",
       "      <th>4</th>\n",
       "      <td>7</td>\n",
       "      <td>Philadelphia PA</td>\n",
       "      <td>39.9500</td>\n",
       "      <td>-75.1667</td>\n",
       "      <td>POINT(-75.1667 39.95)</td>\n",
       "    </tr>\n",
       "  </tbody>\n",
       "</table>\n",
       "</div>"
      ],
      "text/plain": [
       "   id             name  latitude  longitude distribution_center_geom\n",
       "0  10      Savannah GA   32.0167   -81.1167  POINT(-81.1167 32.0167)\n",
       "1   9    Charleston SC   32.7833   -79.9333  POINT(-79.9333 32.7833)\n",
       "2   1       Memphis TN   35.1174   -89.9711  POINT(-89.9711 35.1174)\n",
       "3   3       Houston TX   29.7604   -95.3698  POINT(-95.3698 29.7604)\n",
       "4   7  Philadelphia PA   39.9500   -75.1667    POINT(-75.1667 39.95)"
      ]
     },
     "execution_count": 18,
     "metadata": {},
     "output_type": "execute_result"
    }
   ],
   "source": [
    "distribution_df.head()"
   ]
  },
  {
   "cell_type": "code",
   "execution_count": 19,
   "id": "190e93f1-b61c-46e9-af8d-38f2b1501013",
   "metadata": {},
   "outputs": [
    {
     "data": {
      "text/plain": [
       "(10, 5)"
      ]
     },
     "execution_count": 19,
     "metadata": {},
     "output_type": "execute_result"
    }
   ],
   "source": [
    "# no of rows and columns\n",
    "distribution_df.shape"
   ]
  },
  {
   "cell_type": "code",
   "execution_count": 20,
   "id": "02e2adf1-d6f7-4996-b04e-797941b29297",
   "metadata": {},
   "outputs": [
    {
     "data": {
      "text/plain": [
       "id                          0\n",
       "name                        0\n",
       "latitude                    0\n",
       "longitude                   0\n",
       "distribution_center_geom    0\n",
       "dtype: int64"
      ]
     },
     "execution_count": 20,
     "metadata": {},
     "output_type": "execute_result"
    }
   ],
   "source": [
    "# check for null values\n",
    "\n",
    "distribution_df.isnull().sum()"
   ]
  },
  {
   "cell_type": "code",
   "execution_count": 21,
   "id": "bed377b9-025a-42ce-a2d0-417b5c8bed96",
   "metadata": {},
   "outputs": [
    {
     "name": "stdout",
     "output_type": "stream",
     "text": [
      "<class 'pandas.core.frame.DataFrame'>\n",
      "RangeIndex: 10 entries, 0 to 9\n",
      "Data columns (total 5 columns):\n",
      " #   Column                    Non-Null Count  Dtype  \n",
      "---  ------                    --------------  -----  \n",
      " 0   id                        10 non-null     Int64  \n",
      " 1   name                      10 non-null     object \n",
      " 2   latitude                  10 non-null     float64\n",
      " 3   longitude                 10 non-null     float64\n",
      " 4   distribution_center_geom  10 non-null     object \n",
      "dtypes: Int64(1), float64(2), object(2)\n",
      "memory usage: 542.0+ bytes\n"
     ]
    }
   ],
   "source": [
    "distribution_df.info()"
   ]
  },
  {
   "cell_type": "markdown",
   "id": "1087cdf1-7abb-4ec3-bd30-b44c5d87a2a8",
   "metadata": {},
   "source": [
    "**events_df**"
   ]
  },
  {
   "cell_type": "code",
   "execution_count": 22,
   "id": "cb458854-7e41-4731-ad18-2c2152cbe56f",
   "metadata": {},
   "outputs": [
    {
     "data": {
      "text/plain": [
       "(2427988, 13)"
      ]
     },
     "execution_count": 22,
     "metadata": {},
     "output_type": "execute_result"
    }
   ],
   "source": [
    "# number of rows in the table\n",
    "events_df.shape"
   ]
  },
  {
   "cell_type": "code",
   "execution_count": 23,
   "id": "2ff0129f-402c-46c1-8ba5-5da144be1bc7",
   "metadata": {},
   "outputs": [
    {
     "data": {
      "text/html": [
       "<div>\n",
       "<style scoped>\n",
       "    .dataframe tbody tr th:only-of-type {\n",
       "        vertical-align: middle;\n",
       "    }\n",
       "\n",
       "    .dataframe tbody tr th {\n",
       "        vertical-align: top;\n",
       "    }\n",
       "\n",
       "    .dataframe thead th {\n",
       "        text-align: right;\n",
       "    }\n",
       "</style>\n",
       "<table border=\"1\" class=\"dataframe\">\n",
       "  <thead>\n",
       "    <tr style=\"text-align: right;\">\n",
       "      <th></th>\n",
       "      <th>id</th>\n",
       "      <th>user_id</th>\n",
       "      <th>sequence_number</th>\n",
       "      <th>session_id</th>\n",
       "      <th>created_at</th>\n",
       "      <th>ip_address</th>\n",
       "      <th>city</th>\n",
       "      <th>state</th>\n",
       "      <th>postal_code</th>\n",
       "      <th>browser</th>\n",
       "      <th>traffic_source</th>\n",
       "      <th>uri</th>\n",
       "      <th>event_type</th>\n",
       "    </tr>\n",
       "  </thead>\n",
       "  <tbody>\n",
       "    <tr>\n",
       "      <th>0</th>\n",
       "      <td>1937376</td>\n",
       "      <td>&lt;NA&gt;</td>\n",
       "      <td>3</td>\n",
       "      <td>556fcff6-a7a3-4b02-a512-f491bcc6ab19</td>\n",
       "      <td>2023-03-08 05:37:00+00:00</td>\n",
       "      <td>38.103.36.86</td>\n",
       "      <td>São Paulo</td>\n",
       "      <td>São Paulo</td>\n",
       "      <td>02675-031</td>\n",
       "      <td>Chrome</td>\n",
       "      <td>Facebook</td>\n",
       "      <td>/cancel</td>\n",
       "      <td>cancel</td>\n",
       "    </tr>\n",
       "    <tr>\n",
       "      <th>1</th>\n",
       "      <td>2244726</td>\n",
       "      <td>&lt;NA&gt;</td>\n",
       "      <td>3</td>\n",
       "      <td>eab80561-3d0d-4cd9-aa0b-5f52ed60bb67</td>\n",
       "      <td>2024-07-08 16:12:00+00:00</td>\n",
       "      <td>15.55.4.254</td>\n",
       "      <td>Vargem Grande Paulista</td>\n",
       "      <td>São Paulo</td>\n",
       "      <td>06730-000</td>\n",
       "      <td>Safari</td>\n",
       "      <td>Organic</td>\n",
       "      <td>/cancel</td>\n",
       "      <td>cancel</td>\n",
       "    </tr>\n",
       "    <tr>\n",
       "      <th>2</th>\n",
       "      <td>1357710</td>\n",
       "      <td>&lt;NA&gt;</td>\n",
       "      <td>3</td>\n",
       "      <td>cf1f5585-a197-4218-8ffc-0d7f8da08d94</td>\n",
       "      <td>2023-05-14 01:54:00+00:00</td>\n",
       "      <td>13.137.185.63</td>\n",
       "      <td>Embu das Artes</td>\n",
       "      <td>São Paulo</td>\n",
       "      <td>06810-240</td>\n",
       "      <td>Firefox</td>\n",
       "      <td>Email</td>\n",
       "      <td>/cancel</td>\n",
       "      <td>cancel</td>\n",
       "    </tr>\n",
       "    <tr>\n",
       "      <th>3</th>\n",
       "      <td>1847066</td>\n",
       "      <td>&lt;NA&gt;</td>\n",
       "      <td>3</td>\n",
       "      <td>6a9dddfd-48a3-46c1-962c-cfac5cc3cdee</td>\n",
       "      <td>2024-09-10 11:28:00+00:00</td>\n",
       "      <td>197.65.153.203</td>\n",
       "      <td>Embu-Guaçu</td>\n",
       "      <td>São Paulo</td>\n",
       "      <td>06900-000</td>\n",
       "      <td>Firefox</td>\n",
       "      <td>Email</td>\n",
       "      <td>/cancel</td>\n",
       "      <td>cancel</td>\n",
       "    </tr>\n",
       "    <tr>\n",
       "      <th>4</th>\n",
       "      <td>2261643</td>\n",
       "      <td>&lt;NA&gt;</td>\n",
       "      <td>3</td>\n",
       "      <td>a52141ed-4790-486d-8da4-f3cf4ccef1c8</td>\n",
       "      <td>2019-01-02 07:15:00+00:00</td>\n",
       "      <td>149.159.232.254</td>\n",
       "      <td>Caieiras</td>\n",
       "      <td>São Paulo</td>\n",
       "      <td>07700-000</td>\n",
       "      <td>Safari</td>\n",
       "      <td>Email</td>\n",
       "      <td>/cancel</td>\n",
       "      <td>cancel</td>\n",
       "    </tr>\n",
       "  </tbody>\n",
       "</table>\n",
       "</div>"
      ],
      "text/plain": [
       "        id  user_id  sequence_number                            session_id  \\\n",
       "0  1937376     <NA>                3  556fcff6-a7a3-4b02-a512-f491bcc6ab19   \n",
       "1  2244726     <NA>                3  eab80561-3d0d-4cd9-aa0b-5f52ed60bb67   \n",
       "2  1357710     <NA>                3  cf1f5585-a197-4218-8ffc-0d7f8da08d94   \n",
       "3  1847066     <NA>                3  6a9dddfd-48a3-46c1-962c-cfac5cc3cdee   \n",
       "4  2261643     <NA>                3  a52141ed-4790-486d-8da4-f3cf4ccef1c8   \n",
       "\n",
       "                 created_at       ip_address                    city  \\\n",
       "0 2023-03-08 05:37:00+00:00     38.103.36.86               São Paulo   \n",
       "1 2024-07-08 16:12:00+00:00      15.55.4.254  Vargem Grande Paulista   \n",
       "2 2023-05-14 01:54:00+00:00    13.137.185.63          Embu das Artes   \n",
       "3 2024-09-10 11:28:00+00:00   197.65.153.203              Embu-Guaçu   \n",
       "4 2019-01-02 07:15:00+00:00  149.159.232.254                Caieiras   \n",
       "\n",
       "       state postal_code  browser traffic_source      uri event_type  \n",
       "0  São Paulo   02675-031   Chrome       Facebook  /cancel     cancel  \n",
       "1  São Paulo   06730-000   Safari        Organic  /cancel     cancel  \n",
       "2  São Paulo   06810-240  Firefox          Email  /cancel     cancel  \n",
       "3  São Paulo   06900-000  Firefox          Email  /cancel     cancel  \n",
       "4  São Paulo   07700-000   Safari          Email  /cancel     cancel  "
      ]
     },
     "execution_count": 23,
     "metadata": {},
     "output_type": "execute_result"
    }
   ],
   "source": [
    "events_df.head(5)"
   ]
  },
  {
   "cell_type": "code",
   "execution_count": 24,
   "id": "a25b6615-6f7e-4683-bbb8-faca87a892e1",
   "metadata": {},
   "outputs": [
    {
     "name": "stdout",
     "output_type": "stream",
     "text": [
      "<class 'pandas.core.frame.DataFrame'>\n",
      "RangeIndex: 2427988 entries, 0 to 2427987\n",
      "Data columns (total 13 columns):\n",
      " #   Column           Dtype              \n",
      "---  ------           -----              \n",
      " 0   id               Int64              \n",
      " 1   user_id          Int64              \n",
      " 2   sequence_number  Int64              \n",
      " 3   session_id       object             \n",
      " 4   created_at       datetime64[us, UTC]\n",
      " 5   ip_address       object             \n",
      " 6   city             object             \n",
      " 7   state            object             \n",
      " 8   postal_code      object             \n",
      " 9   browser          object             \n",
      " 10  traffic_source   object             \n",
      " 11  uri              object             \n",
      " 12  event_type       object             \n",
      "dtypes: Int64(3), datetime64[us, UTC](1), object(9)\n",
      "memory usage: 247.8+ MB\n"
     ]
    }
   ],
   "source": [
    "#check data types\n",
    "events_df.info()"
   ]
  },
  {
   "cell_type": "code",
   "execution_count": 25,
   "id": "d33bb8ba-5415-46f4-84fa-424f5b90029d",
   "metadata": {},
   "outputs": [
    {
     "data": {
      "text/plain": [
       "id                       0\n",
       "user_id            1124408\n",
       "sequence_number          0\n",
       "session_id               0\n",
       "created_at               0\n",
       "ip_address               0\n",
       "city                     0\n",
       "state                    0\n",
       "postal_code              0\n",
       "browser                  0\n",
       "traffic_source           0\n",
       "uri                      0\n",
       "event_type               0\n",
       "dtype: int64"
      ]
     },
     "execution_count": 25,
     "metadata": {},
     "output_type": "execute_result"
    }
   ],
   "source": [
    "#check for null values\n",
    "\n",
    "events_df.isnull().sum()"
   ]
  },
  {
   "cell_type": "code",
   "execution_count": 26,
   "id": "607fb384-7e5c-4756-9d3c-376d4499e499",
   "metadata": {},
   "outputs": [
    {
     "data": {
      "text/plain": [
       "event_type\n",
       "product       0.444678\n",
       "department    0.222388\n",
       "cart          0.222067\n",
       "cancel        0.110866\n",
       "Name: proportion, dtype: float64"
      ]
     },
     "execution_count": 26,
     "metadata": {},
     "output_type": "execute_result"
    }
   ],
   "source": [
    "# For user who are not logged in, what kind of events did they generate and how often \n",
    "\n",
    "events_df[events_df['user_id'].isnull()]['event_type'].value_counts(normalize = True)"
   ]
  },
  {
   "cell_type": "code",
   "execution_count": 27,
   "id": "61855ffa-fe13-4987-bdfd-084e2805009b",
   "metadata": {},
   "outputs": [
    {
     "data": {
      "text/plain": [
       "array(['cancel', 'cart', 'department', 'home', 'product', 'purchase'],\n",
       "      dtype=object)"
      ]
     },
     "execution_count": 27,
     "metadata": {},
     "output_type": "execute_result"
    }
   ],
   "source": [
    "events_df['event_type'].unique()"
   ]
  },
  {
   "cell_type": "markdown",
   "id": "eb74b2b0-6d4b-49c6-81e7-ae0fea0dda42",
   "metadata": {},
   "source": [
    "**events_df breakdown**\n",
    "  \n",
    "The event table likely captures website /app user behaviour such as clicks, page visists and cancellations. user_id has 1125736 null values which could be customers who visited as guests, or people who simply did not sign in. \n",
    "\n",
    "Each website visitor, either signed in or not performs certain actions which are 'cancel', 'cart', 'department', 'home', 'product', 'purchase'\"\n",
    "\n",
    "**Why event type is important**\n",
    "\n",
    "These event types are valuable for:\n",
    "\n",
    "- Funnel analysis (home → department → product → cart → purchase)\n",
    "\n",
    "- Drop-off analysis (e.g., many reach cart but few purchase)\n",
    "\n",
    "- Engagement segmentation (users who only browse vs. those who purchase)\n",
    "\n",
    "- Personalization and recommendation logic"
   ]
  },
  {
   "cell_type": "markdown",
   "id": "f6919e2c-97e1-4095-b3f4-a1ebae89e4cf",
   "metadata": {},
   "source": [
    "**inventoryitems_df**"
   ]
  },
  {
   "cell_type": "code",
   "execution_count": 28,
   "id": "b6a436c3-5bfa-4307-b375-645c690d04f8",
   "metadata": {},
   "outputs": [
    {
     "data": {
      "text/plain": [
       "(489521, 12)"
      ]
     },
     "execution_count": 28,
     "metadata": {},
     "output_type": "execute_result"
    }
   ],
   "source": [
    "# number of columns and rows\n",
    "inventoryitems_df.shape"
   ]
  },
  {
   "cell_type": "code",
   "execution_count": 29,
   "id": "3b45ed65-d453-4101-8ef1-3c570f94828d",
   "metadata": {},
   "outputs": [
    {
     "name": "stdout",
     "output_type": "stream",
     "text": [
      "<class 'pandas.core.frame.DataFrame'>\n",
      "RangeIndex: 489521 entries, 0 to 489520\n",
      "Data columns (total 12 columns):\n",
      " #   Column                          Non-Null Count   Dtype              \n",
      "---  ------                          --------------   -----              \n",
      " 0   id                              489521 non-null  Int64              \n",
      " 1   product_id                      489521 non-null  Int64              \n",
      " 2   created_at                      489521 non-null  datetime64[us, UTC]\n",
      " 3   sold_at                         181272 non-null  datetime64[us, UTC]\n",
      " 4   cost                            489521 non-null  float64            \n",
      " 5   product_category                489521 non-null  object             \n",
      " 6   product_name                    489521 non-null  object             \n",
      " 7   product_brand                   489521 non-null  object             \n",
      " 8   product_retail_price            489521 non-null  float64            \n",
      " 9   product_department              489521 non-null  object             \n",
      " 10  product_sku                     489521 non-null  object             \n",
      " 11  product_distribution_center_id  489521 non-null  Int64              \n",
      "dtypes: Int64(3), datetime64[us, UTC](2), float64(2), object(5)\n",
      "memory usage: 46.2+ MB\n"
     ]
    }
   ],
   "source": [
    "# check data type\n",
    "inventoryitems_df.info()"
   ]
  },
  {
   "cell_type": "code",
   "execution_count": 30,
   "id": "19f3e570-7cc4-43f6-9b64-fd050c775c0b",
   "metadata": {},
   "outputs": [
    {
     "data": {
      "text/plain": [
       "id                                     0\n",
       "product_id                             0\n",
       "created_at                             0\n",
       "sold_at                           308249\n",
       "cost                                   0\n",
       "product_category                       0\n",
       "product_name                           0\n",
       "product_brand                          0\n",
       "product_retail_price                   0\n",
       "product_department                     0\n",
       "product_sku                            0\n",
       "product_distribution_center_id         0\n",
       "dtype: int64"
      ]
     },
     "execution_count": 30,
     "metadata": {},
     "output_type": "execute_result"
    }
   ],
   "source": [
    "# checking null value\n",
    "\n",
    "inventoryitems_df.isnull().sum()"
   ]
  },
  {
   "cell_type": "code",
   "execution_count": 31,
   "id": "760ed9bc-895d-4798-8e74-fa5673c037a0",
   "metadata": {},
   "outputs": [
    {
     "data": {
      "text/html": [
       "<div>\n",
       "<style scoped>\n",
       "    .dataframe tbody tr th:only-of-type {\n",
       "        vertical-align: middle;\n",
       "    }\n",
       "\n",
       "    .dataframe tbody tr th {\n",
       "        vertical-align: top;\n",
       "    }\n",
       "\n",
       "    .dataframe thead th {\n",
       "        text-align: right;\n",
       "    }\n",
       "</style>\n",
       "<table border=\"1\" class=\"dataframe\">\n",
       "  <thead>\n",
       "    <tr style=\"text-align: right;\">\n",
       "      <th></th>\n",
       "      <th>id</th>\n",
       "      <th>product_id</th>\n",
       "      <th>created_at</th>\n",
       "      <th>sold_at</th>\n",
       "      <th>cost</th>\n",
       "      <th>product_category</th>\n",
       "      <th>product_name</th>\n",
       "      <th>product_brand</th>\n",
       "      <th>product_retail_price</th>\n",
       "      <th>product_department</th>\n",
       "      <th>product_sku</th>\n",
       "      <th>product_distribution_center_id</th>\n",
       "    </tr>\n",
       "  </thead>\n",
       "  <tbody>\n",
       "    <tr>\n",
       "      <th>0</th>\n",
       "      <td>149079</td>\n",
       "      <td>13844</td>\n",
       "      <td>2025-07-09 05:12:51+00:00</td>\n",
       "      <td>2025-08-10 03:13:51+00:00</td>\n",
       "      <td>2.76804</td>\n",
       "      <td>Accessories</td>\n",
       "      <td>(ONE) 1 Satin Headband</td>\n",
       "      <td>Funny Girl Designs</td>\n",
       "      <td>6.99</td>\n",
       "      <td>Women</td>\n",
       "      <td>2A3E953A5E3D81E67945BCE5519F84C8</td>\n",
       "      <td>7</td>\n",
       "    </tr>\n",
       "    <tr>\n",
       "      <th>1</th>\n",
       "      <td>149080</td>\n",
       "      <td>13844</td>\n",
       "      <td>2021-09-08 16:23:00+00:00</td>\n",
       "      <td>NaT</td>\n",
       "      <td>2.76804</td>\n",
       "      <td>Accessories</td>\n",
       "      <td>(ONE) 1 Satin Headband</td>\n",
       "      <td>Funny Girl Designs</td>\n",
       "      <td>6.99</td>\n",
       "      <td>Women</td>\n",
       "      <td>2A3E953A5E3D81E67945BCE5519F84C8</td>\n",
       "      <td>7</td>\n",
       "    </tr>\n",
       "    <tr>\n",
       "      <th>2</th>\n",
       "      <td>327585</td>\n",
       "      <td>13844</td>\n",
       "      <td>2025-02-12 04:45:48+00:00</td>\n",
       "      <td>2025-04-08 22:24:48+00:00</td>\n",
       "      <td>2.76804</td>\n",
       "      <td>Accessories</td>\n",
       "      <td>(ONE) 1 Satin Headband</td>\n",
       "      <td>Funny Girl Designs</td>\n",
       "      <td>6.99</td>\n",
       "      <td>Women</td>\n",
       "      <td>2A3E953A5E3D81E67945BCE5519F84C8</td>\n",
       "      <td>7</td>\n",
       "    </tr>\n",
       "    <tr>\n",
       "      <th>3</th>\n",
       "      <td>327586</td>\n",
       "      <td>13844</td>\n",
       "      <td>2020-09-08 05:58:00+00:00</td>\n",
       "      <td>NaT</td>\n",
       "      <td>2.76804</td>\n",
       "      <td>Accessories</td>\n",
       "      <td>(ONE) 1 Satin Headband</td>\n",
       "      <td>Funny Girl Designs</td>\n",
       "      <td>6.99</td>\n",
       "      <td>Women</td>\n",
       "      <td>2A3E953A5E3D81E67945BCE5519F84C8</td>\n",
       "      <td>7</td>\n",
       "    </tr>\n",
       "    <tr>\n",
       "      <th>4</th>\n",
       "      <td>360165</td>\n",
       "      <td>13844</td>\n",
       "      <td>2023-12-30 02:38:29+00:00</td>\n",
       "      <td>2024-02-01 04:11:29+00:00</td>\n",
       "      <td>2.76804</td>\n",
       "      <td>Accessories</td>\n",
       "      <td>(ONE) 1 Satin Headband</td>\n",
       "      <td>Funny Girl Designs</td>\n",
       "      <td>6.99</td>\n",
       "      <td>Women</td>\n",
       "      <td>2A3E953A5E3D81E67945BCE5519F84C8</td>\n",
       "      <td>7</td>\n",
       "    </tr>\n",
       "  </tbody>\n",
       "</table>\n",
       "</div>"
      ],
      "text/plain": [
       "       id  product_id                created_at                   sold_at  \\\n",
       "0  149079       13844 2025-07-09 05:12:51+00:00 2025-08-10 03:13:51+00:00   \n",
       "1  149080       13844 2021-09-08 16:23:00+00:00                       NaT   \n",
       "2  327585       13844 2025-02-12 04:45:48+00:00 2025-04-08 22:24:48+00:00   \n",
       "3  327586       13844 2020-09-08 05:58:00+00:00                       NaT   \n",
       "4  360165       13844 2023-12-30 02:38:29+00:00 2024-02-01 04:11:29+00:00   \n",
       "\n",
       "      cost product_category            product_name       product_brand  \\\n",
       "0  2.76804      Accessories  (ONE) 1 Satin Headband  Funny Girl Designs   \n",
       "1  2.76804      Accessories  (ONE) 1 Satin Headband  Funny Girl Designs   \n",
       "2  2.76804      Accessories  (ONE) 1 Satin Headband  Funny Girl Designs   \n",
       "3  2.76804      Accessories  (ONE) 1 Satin Headband  Funny Girl Designs   \n",
       "4  2.76804      Accessories  (ONE) 1 Satin Headband  Funny Girl Designs   \n",
       "\n",
       "   product_retail_price product_department                       product_sku  \\\n",
       "0                  6.99              Women  2A3E953A5E3D81E67945BCE5519F84C8   \n",
       "1                  6.99              Women  2A3E953A5E3D81E67945BCE5519F84C8   \n",
       "2                  6.99              Women  2A3E953A5E3D81E67945BCE5519F84C8   \n",
       "3                  6.99              Women  2A3E953A5E3D81E67945BCE5519F84C8   \n",
       "4                  6.99              Women  2A3E953A5E3D81E67945BCE5519F84C8   \n",
       "\n",
       "   product_distribution_center_id  \n",
       "0                               7  \n",
       "1                               7  \n",
       "2                               7  \n",
       "3                               7  \n",
       "4                               7  "
      ]
     },
     "execution_count": 31,
     "metadata": {},
     "output_type": "execute_result"
    }
   ],
   "source": [
    "inventoryitems_df.head()"
   ]
  },
  {
   "cell_type": "markdown",
   "id": "87c7873f-01bf-4e8a-af0c-509ccbc71a68",
   "metadata": {},
   "source": [
    "**inventoryitems_df null values**\n",
    "\n",
    "All features has 0 null values excpet sold_at with 307760 null values, this shows items that haven't been sold"
   ]
  },
  {
   "cell_type": "markdown",
   "id": "1331e34e-f34c-4d03-91f0-305caf039c53",
   "metadata": {},
   "source": [
    "**orderitems_df**"
   ]
  },
  {
   "cell_type": "code",
   "execution_count": 32,
   "id": "ad62fbaa-a4e0-4326-9ea7-170eac501991",
   "metadata": {},
   "outputs": [
    {
     "data": {
      "text/plain": [
       "(181272, 11)"
      ]
     },
     "execution_count": 32,
     "metadata": {},
     "output_type": "execute_result"
    }
   ],
   "source": [
    "# numbert of columns and rows\n",
    "orderitems_df.shape"
   ]
  },
  {
   "cell_type": "code",
   "execution_count": 33,
   "id": "0a3d7a2a-cfc6-44c2-adb5-3a9dc7c4d218",
   "metadata": {},
   "outputs": [
    {
     "data": {
      "text/plain": [
       "id                        0\n",
       "order_id                  0\n",
       "user_id                   0\n",
       "product_id                0\n",
       "inventory_item_id         0\n",
       "status                    0\n",
       "created_at                0\n",
       "shipped_at            63022\n",
       "delivered_at         117265\n",
       "returned_at          163012\n",
       "sale_price                0\n",
       "dtype: int64"
      ]
     },
     "execution_count": 33,
     "metadata": {},
     "output_type": "execute_result"
    }
   ],
   "source": [
    "# null values\n",
    "orderitems_df.isnull().sum()"
   ]
  },
  {
   "cell_type": "code",
   "execution_count": 60,
   "id": "bf91fdbc-7ad5-4527-a99e-c7613b09d7c8",
   "metadata": {},
   "outputs": [
    {
     "name": "stdout",
     "output_type": "stream",
     "text": [
      "<class 'pandas.core.frame.DataFrame'>\n",
      "RangeIndex: 181272 entries, 0 to 181271\n",
      "Data columns (total 11 columns):\n",
      " #   Column             Non-Null Count   Dtype              \n",
      "---  ------             --------------   -----              \n",
      " 0   id                 181272 non-null  Int64              \n",
      " 1   order_id           181272 non-null  Int64              \n",
      " 2   user_id            181272 non-null  Int64              \n",
      " 3   product_id         181272 non-null  Int64              \n",
      " 4   inventory_item_id  181272 non-null  Int64              \n",
      " 5   status             181272 non-null  object             \n",
      " 6   created_at         181272 non-null  datetime64[us, UTC]\n",
      " 7   shipped_at         118250 non-null  datetime64[us, UTC]\n",
      " 8   delivered_at       64007 non-null   datetime64[us, UTC]\n",
      " 9   returned_at        18260 non-null   datetime64[us, UTC]\n",
      " 10  sale_price         181272 non-null  float64            \n",
      "dtypes: Int64(5), datetime64[us, UTC](4), float64(1), object(1)\n",
      "memory usage: 16.1+ MB\n"
     ]
    }
   ],
   "source": [
    "orderitems_df.info()"
   ]
  },
  {
   "cell_type": "markdown",
   "id": "bd8a3607-ff14-4f15-afc1-53a996cd36e6",
   "metadata": {},
   "source": [
    "**orderitems_df null values**\n",
    "\n",
    "63,457 orders have not been shipped yet or could indicate cancelled orders . 117650 indicates orders that were never delivered and 162843 shows the number of items that were never delivered. "
   ]
  },
  {
   "cell_type": "markdown",
   "id": "4a7a0e61-994d-41a8-9bf3-8812aa278e54",
   "metadata": {},
   "source": [
    "**products_df**"
   ]
  },
  {
   "cell_type": "code",
   "execution_count": 36,
   "id": "68566306-57aa-4f32-a3a2-f830d723761e",
   "metadata": {},
   "outputs": [
    {
     "data": {
      "text/plain": [
       "(29120, 9)"
      ]
     },
     "execution_count": 36,
     "metadata": {},
     "output_type": "execute_result"
    }
   ],
   "source": [
    "# number of rows and columns\n",
    "products_df.shape\n"
   ]
  },
  {
   "cell_type": "code",
   "execution_count": 59,
   "id": "3e0a3925-40f9-420f-8e5e-98a38ae9c680",
   "metadata": {},
   "outputs": [
    {
     "name": "stdout",
     "output_type": "stream",
     "text": [
      "<class 'pandas.core.frame.DataFrame'>\n",
      "Index: 29118 entries, 0 to 29119\n",
      "Data columns (total 9 columns):\n",
      " #   Column                  Non-Null Count  Dtype  \n",
      "---  ------                  --------------  -----  \n",
      " 0   id                      29118 non-null  Int64  \n",
      " 1   cost                    29118 non-null  float64\n",
      " 2   category                29118 non-null  object \n",
      " 3   name                    29118 non-null  object \n",
      " 4   brand                   29118 non-null  object \n",
      " 5   retail_price            29118 non-null  float64\n",
      " 6   department              29118 non-null  object \n",
      " 7   sku                     29118 non-null  object \n",
      " 8   distribution_center_id  29118 non-null  Int64  \n",
      "dtypes: Int64(2), float64(2), object(5)\n",
      "memory usage: 2.3+ MB\n"
     ]
    }
   ],
   "source": [
    "products_df.info()"
   ]
  },
  {
   "cell_type": "code",
   "execution_count": 37,
   "id": "32e9bc42-c5f9-41a8-837c-7da18c6ff652",
   "metadata": {},
   "outputs": [
    {
     "data": {
      "text/plain": [
       "id                         0\n",
       "cost                       0\n",
       "category                   0\n",
       "name                       2\n",
       "brand                     24\n",
       "retail_price               0\n",
       "department                 0\n",
       "sku                        0\n",
       "distribution_center_id     0\n",
       "dtype: int64"
      ]
     },
     "execution_count": 37,
     "metadata": {},
     "output_type": "execute_result"
    }
   ],
   "source": [
    "# check null value\n",
    "\n",
    "products_df.isnull().sum()"
   ]
  },
  {
   "cell_type": "code",
   "execution_count": 43,
   "id": "b089b0f0-5cec-478d-b7b0-61be73ae3a22",
   "metadata": {},
   "outputs": [],
   "source": [
    "# replace null brand values with unknown\n",
    "\n",
    "products_df['brand'] = products_df['brand'].fillna('unknown')"
   ]
  },
  {
   "cell_type": "code",
   "execution_count": 47,
   "id": "b357889d-4ec9-4f0d-aae7-17d8731bb644",
   "metadata": {},
   "outputs": [
    {
     "data": {
      "text/html": [
       "<div>\n",
       "<style scoped>\n",
       "    .dataframe tbody tr th:only-of-type {\n",
       "        vertical-align: middle;\n",
       "    }\n",
       "\n",
       "    .dataframe tbody tr th {\n",
       "        vertical-align: top;\n",
       "    }\n",
       "\n",
       "    .dataframe thead th {\n",
       "        text-align: right;\n",
       "    }\n",
       "</style>\n",
       "<table border=\"1\" class=\"dataframe\">\n",
       "  <thead>\n",
       "    <tr style=\"text-align: right;\">\n",
       "      <th></th>\n",
       "      <th>id</th>\n",
       "      <th>cost</th>\n",
       "      <th>category</th>\n",
       "      <th>name</th>\n",
       "      <th>brand</th>\n",
       "      <th>retail_price</th>\n",
       "      <th>department</th>\n",
       "      <th>sku</th>\n",
       "      <th>distribution_center_id</th>\n",
       "    </tr>\n",
       "  </thead>\n",
       "  <tbody>\n",
       "    <tr>\n",
       "      <th>3247</th>\n",
       "      <td>12586</td>\n",
       "      <td>18.972000</td>\n",
       "      <td>Intimates</td>\n",
       "      <td>None</td>\n",
       "      <td>Josie by Natori</td>\n",
       "      <td>36.000000</td>\n",
       "      <td>Women</td>\n",
       "      <td>A7EA034186E14FB5F7B37CF664893CD2</td>\n",
       "      <td>1</td>\n",
       "    </tr>\n",
       "    <tr>\n",
       "      <th>5588</th>\n",
       "      <td>24455</td>\n",
       "      <td>67.335453</td>\n",
       "      <td>Outerwear &amp; Coats</td>\n",
       "      <td>None</td>\n",
       "      <td>Tru-Spec</td>\n",
       "      <td>147.990005</td>\n",
       "      <td>Men</td>\n",
       "      <td>B290A635641F585B3DD6B95FD42DC267</td>\n",
       "      <td>2</td>\n",
       "    </tr>\n",
       "  </tbody>\n",
       "</table>\n",
       "</div>"
      ],
      "text/plain": [
       "         id       cost           category  name            brand  \\\n",
       "3247  12586  18.972000          Intimates  None  Josie by Natori   \n",
       "5588  24455  67.335453  Outerwear & Coats  None         Tru-Spec   \n",
       "\n",
       "      retail_price department                               sku  \\\n",
       "3247     36.000000      Women  A7EA034186E14FB5F7B37CF664893CD2   \n",
       "5588    147.990005        Men  B290A635641F585B3DD6B95FD42DC267   \n",
       "\n",
       "      distribution_center_id  \n",
       "3247                       1  \n",
       "5588                       2  "
      ]
     },
     "execution_count": 47,
     "metadata": {},
     "output_type": "execute_result"
    }
   ],
   "source": [
    "# products without name\n",
    "\n",
    "products_df[products_df['name'].isnull()]"
   ]
  },
  {
   "cell_type": "code",
   "execution_count": 56,
   "id": "4893f080-c195-4c3c-96ca-fb0675f4e9cd",
   "metadata": {},
   "outputs": [],
   "source": [
    "# drop null values in name\n",
    "\n",
    "products_df = products_df.dropna(subset = ['name'])"
   ]
  },
  {
   "cell_type": "markdown",
   "id": "b0007108-aa0d-49bd-9a6b-e4cded55a44c",
   "metadata": {},
   "source": [
    "**users_df**"
   ]
  },
  {
   "cell_type": "code",
   "execution_count": 63,
   "id": "50a25ae9-9729-44c4-8970-3001ab70c610",
   "metadata": {},
   "outputs": [
    {
     "data": {
      "text/plain": [
       "(100000, 16)"
      ]
     },
     "execution_count": 63,
     "metadata": {},
     "output_type": "execute_result"
    }
   ],
   "source": [
    "# for number of rows and columns\n",
    "users_df.shape"
   ]
  },
  {
   "cell_type": "code",
   "execution_count": 62,
   "id": "760cdfaf-ac7c-4e45-b6d8-26d3a15d3d36",
   "metadata": {},
   "outputs": [
    {
     "name": "stdout",
     "output_type": "stream",
     "text": [
      "<class 'pandas.core.frame.DataFrame'>\n",
      "RangeIndex: 100000 entries, 0 to 99999\n",
      "Data columns (total 16 columns):\n",
      " #   Column          Non-Null Count   Dtype              \n",
      "---  ------          --------------   -----              \n",
      " 0   id              100000 non-null  Int64              \n",
      " 1   first_name      100000 non-null  object             \n",
      " 2   last_name       100000 non-null  object             \n",
      " 3   email           100000 non-null  object             \n",
      " 4   age             100000 non-null  Int64              \n",
      " 5   gender          100000 non-null  object             \n",
      " 6   state           100000 non-null  object             \n",
      " 7   street_address  100000 non-null  object             \n",
      " 8   postal_code     100000 non-null  object             \n",
      " 9   city            100000 non-null  object             \n",
      " 10  country         100000 non-null  object             \n",
      " 11  latitude        100000 non-null  float64            \n",
      " 12  longitude       100000 non-null  float64            \n",
      " 13  traffic_source  100000 non-null  object             \n",
      " 14  created_at      100000 non-null  datetime64[us, UTC]\n",
      " 15  user_geom       100000 non-null  object             \n",
      "dtypes: Int64(2), datetime64[us, UTC](1), float64(2), object(11)\n",
      "memory usage: 12.4+ MB\n"
     ]
    }
   ],
   "source": [
    "users_df.info()"
   ]
  },
  {
   "cell_type": "code",
   "execution_count": 64,
   "id": "63657061-1f20-480b-8e64-7ac4cdd5b384",
   "metadata": {},
   "outputs": [
    {
     "data": {
      "text/plain": [
       "id                0\n",
       "first_name        0\n",
       "last_name         0\n",
       "email             0\n",
       "age               0\n",
       "gender            0\n",
       "state             0\n",
       "street_address    0\n",
       "postal_code       0\n",
       "city              0\n",
       "country           0\n",
       "latitude          0\n",
       "longitude         0\n",
       "traffic_source    0\n",
       "created_at        0\n",
       "user_geom         0\n",
       "dtype: int64"
      ]
     },
     "execution_count": 64,
     "metadata": {},
     "output_type": "execute_result"
    }
   ],
   "source": [
    "# Null values\n",
    "\n",
    "users_df.isnull().sum()"
   ]
  },
  {
   "cell_type": "markdown",
   "id": "7fe8c72c-835a-4fd4-8016-690afa155632",
   "metadata": {},
   "source": [
    "## Creating a Mastersheet "
   ]
  },
  {
   "cell_type": "markdown",
   "id": "502d30ec-423c-44f4-a354-b4d03d4cfaa6",
   "metadata": {},
   "source": [
    "**join order_df and users_df on user_id**"
   ]
  },
  {
   "cell_type": "code",
   "execution_count": 96,
   "id": "25ba49d4-fb8b-40c4-808d-33f825cc52a9",
   "metadata": {},
   "outputs": [
    {
     "name": "stdout",
     "output_type": "stream",
     "text": [
      "order_df columns : Index(['order_id', 'user_id', 'status', 'gender', 'created_at', 'returned_at',\n",
      "       'shipped_at', 'delivered_at', 'num_of_item'],\n",
      "      dtype='object')\n",
      "users_df columns : Index(['id', 'first_name', 'last_name', 'email', 'age', 'gender', 'state',\n",
      "       'street_address', 'postal_code', 'city', 'country', 'latitude',\n",
      "       'longitude', 'traffic_source', 'created_at', 'user_geom'],\n",
      "      dtype='object')\n"
     ]
    }
   ],
   "source": [
    "#check the columns in each table and drop duplicates before merging\n",
    "print(f'order_df columns : {orders_df.columns}')\n",
    "\n",
    "\n",
    "print(f'users_df columns : {users_df.columns}')"
   ]
  },
  {
   "cell_type": "code",
   "execution_count": 103,
   "id": "c48fac79-304f-4f55-95d1-1c3ad7529b4c",
   "metadata": {},
   "outputs": [],
   "source": [
    "# a function to identify duplicates columns \n",
    "\n",
    "def duplicates(x, y):\n",
    "    return [c for c in x.columns if c in y.columns]"
   ]
  },
  {
   "cell_type": "code",
   "execution_count": 105,
   "id": "f5bf8bfa-ee48-4593-adfe-22d15e858707",
   "metadata": {},
   "outputs": [
    {
     "data": {
      "text/plain": [
       "['gender', 'created_at']"
      ]
     },
     "execution_count": 105,
     "metadata": {},
     "output_type": "execute_result"
    }
   ],
   "source": [
    "duplicates(orders_df, users_df)"
   ]
  },
  {
   "cell_type": "code",
   "execution_count": 82,
   "id": "180b5ded-fb9c-48f0-a909-49e2ffb254e2",
   "metadata": {},
   "outputs": [
    {
     "data": {
      "text/html": [
       "<div>\n",
       "<style scoped>\n",
       "    .dataframe tbody tr th:only-of-type {\n",
       "        vertical-align: middle;\n",
       "    }\n",
       "\n",
       "    .dataframe tbody tr th {\n",
       "        vertical-align: top;\n",
       "    }\n",
       "\n",
       "    .dataframe thead th {\n",
       "        text-align: right;\n",
       "    }\n",
       "</style>\n",
       "<table border=\"1\" class=\"dataframe\">\n",
       "  <thead>\n",
       "    <tr style=\"text-align: right;\">\n",
       "      <th></th>\n",
       "      <th>order_id</th>\n",
       "      <th>user_id</th>\n",
       "      <th>status</th>\n",
       "      <th>gender_x</th>\n",
       "      <th>created_at_x</th>\n",
       "      <th>returned_at</th>\n",
       "      <th>shipped_at</th>\n",
       "      <th>delivered_at</th>\n",
       "      <th>num_of_item</th>\n",
       "      <th>id</th>\n",
       "      <th>...</th>\n",
       "      <th>state</th>\n",
       "      <th>street_address</th>\n",
       "      <th>postal_code</th>\n",
       "      <th>city</th>\n",
       "      <th>country</th>\n",
       "      <th>latitude</th>\n",
       "      <th>longitude</th>\n",
       "      <th>traffic_source</th>\n",
       "      <th>created_at_y</th>\n",
       "      <th>user_geom</th>\n",
       "    </tr>\n",
       "  </thead>\n",
       "  <tbody>\n",
       "    <tr>\n",
       "      <th>0</th>\n",
       "      <td>22</td>\n",
       "      <td>21</td>\n",
       "      <td>Cancelled</td>\n",
       "      <td>F</td>\n",
       "      <td>2024-09-29 08:45:00+00:00</td>\n",
       "      <td>NaT</td>\n",
       "      <td>NaT</td>\n",
       "      <td>NaT</td>\n",
       "      <td>1</td>\n",
       "      <td>21</td>\n",
       "      <td>...</td>\n",
       "      <td>Wallonia</td>\n",
       "      <td>297 James Bypass Suite 003</td>\n",
       "      <td>6043</td>\n",
       "      <td>Charleroi</td>\n",
       "      <td>Belgium</td>\n",
       "      <td>50.455259</td>\n",
       "      <td>4.482360</td>\n",
       "      <td>Organic</td>\n",
       "      <td>2024-08-19 08:45:00+00:00</td>\n",
       "      <td>POINT(4.482359587 50.45525932)</td>\n",
       "    </tr>\n",
       "    <tr>\n",
       "      <th>1</th>\n",
       "      <td>27</td>\n",
       "      <td>27</td>\n",
       "      <td>Cancelled</td>\n",
       "      <td>F</td>\n",
       "      <td>2022-09-15 14:24:00+00:00</td>\n",
       "      <td>NaT</td>\n",
       "      <td>NaT</td>\n",
       "      <td>NaT</td>\n",
       "      <td>1</td>\n",
       "      <td>27</td>\n",
       "      <td>...</td>\n",
       "      <td>Shanghai</td>\n",
       "      <td>17429 John Lakes Apt. 178</td>\n",
       "      <td>200231</td>\n",
       "      <td>Tianjin</td>\n",
       "      <td>China</td>\n",
       "      <td>31.124933</td>\n",
       "      <td>121.451330</td>\n",
       "      <td>Email</td>\n",
       "      <td>2022-07-05 14:24:00+00:00</td>\n",
       "      <td>POINT(121.4513298 31.12493343)</td>\n",
       "    </tr>\n",
       "    <tr>\n",
       "      <th>2</th>\n",
       "      <td>63</td>\n",
       "      <td>59</td>\n",
       "      <td>Cancelled</td>\n",
       "      <td>F</td>\n",
       "      <td>2022-02-03 05:19:00+00:00</td>\n",
       "      <td>NaT</td>\n",
       "      <td>NaT</td>\n",
       "      <td>NaT</td>\n",
       "      <td>2</td>\n",
       "      <td>59</td>\n",
       "      <td>...</td>\n",
       "      <td>Shanxi</td>\n",
       "      <td>425 Simmons Dale</td>\n",
       "      <td>30072</td>\n",
       "      <td>Tianjin</td>\n",
       "      <td>China</td>\n",
       "      <td>37.904266</td>\n",
       "      <td>112.554583</td>\n",
       "      <td>Search</td>\n",
       "      <td>2022-01-04 05:19:00+00:00</td>\n",
       "      <td>POINT(112.554583 37.90426574)</td>\n",
       "    </tr>\n",
       "    <tr>\n",
       "      <th>3</th>\n",
       "      <td>66</td>\n",
       "      <td>61</td>\n",
       "      <td>Cancelled</td>\n",
       "      <td>F</td>\n",
       "      <td>2020-05-07 10:04:00+00:00</td>\n",
       "      <td>NaT</td>\n",
       "      <td>NaT</td>\n",
       "      <td>NaT</td>\n",
       "      <td>1</td>\n",
       "      <td>61</td>\n",
       "      <td>...</td>\n",
       "      <td>Comunidad de Madrid</td>\n",
       "      <td>5915 Bennett Fall</td>\n",
       "      <td>28030</td>\n",
       "      <td>Madrid</td>\n",
       "      <td>Spain</td>\n",
       "      <td>40.406610</td>\n",
       "      <td>-3.641385</td>\n",
       "      <td>Search</td>\n",
       "      <td>2019-03-24 10:04:00+00:00</td>\n",
       "      <td>POINT(-3.641385174 40.40660981)</td>\n",
       "    </tr>\n",
       "    <tr>\n",
       "      <th>4</th>\n",
       "      <td>76</td>\n",
       "      <td>69</td>\n",
       "      <td>Cancelled</td>\n",
       "      <td>F</td>\n",
       "      <td>2023-03-05 11:14:00+00:00</td>\n",
       "      <td>NaT</td>\n",
       "      <td>NaT</td>\n",
       "      <td>NaT</td>\n",
       "      <td>1</td>\n",
       "      <td>69</td>\n",
       "      <td>...</td>\n",
       "      <td>Paraíba</td>\n",
       "      <td>4191 Cody Wall Suite 506</td>\n",
       "      <td>58900-000</td>\n",
       "      <td>Cajazeiras</td>\n",
       "      <td>Brasil</td>\n",
       "      <td>-6.919303</td>\n",
       "      <td>-38.542034</td>\n",
       "      <td>Search</td>\n",
       "      <td>2019-08-22 11:14:00+00:00</td>\n",
       "      <td>POINT(-38.54203425 -6.919302569)</td>\n",
       "    </tr>\n",
       "  </tbody>\n",
       "</table>\n",
       "<p>5 rows × 25 columns</p>\n",
       "</div>"
      ],
      "text/plain": [
       "   order_id  user_id     status gender_x              created_at_x  \\\n",
       "0        22       21  Cancelled        F 2024-09-29 08:45:00+00:00   \n",
       "1        27       27  Cancelled        F 2022-09-15 14:24:00+00:00   \n",
       "2        63       59  Cancelled        F 2022-02-03 05:19:00+00:00   \n",
       "3        66       61  Cancelled        F 2020-05-07 10:04:00+00:00   \n",
       "4        76       69  Cancelled        F 2023-03-05 11:14:00+00:00   \n",
       "\n",
       "  returned_at shipped_at delivered_at  num_of_item  id  ...  \\\n",
       "0         NaT        NaT          NaT            1  21  ...   \n",
       "1         NaT        NaT          NaT            1  27  ...   \n",
       "2         NaT        NaT          NaT            2  59  ...   \n",
       "3         NaT        NaT          NaT            1  61  ...   \n",
       "4         NaT        NaT          NaT            1  69  ...   \n",
       "\n",
       "                 state              street_address postal_code        city  \\\n",
       "0             Wallonia  297 James Bypass Suite 003        6043   Charleroi   \n",
       "1             Shanghai   17429 John Lakes Apt. 178      200231     Tianjin   \n",
       "2               Shanxi            425 Simmons Dale       30072     Tianjin   \n",
       "3  Comunidad de Madrid           5915 Bennett Fall       28030      Madrid   \n",
       "4              Paraíba    4191 Cody Wall Suite 506   58900-000  Cajazeiras   \n",
       "\n",
       "   country   latitude   longitude traffic_source              created_at_y  \\\n",
       "0  Belgium  50.455259    4.482360        Organic 2024-08-19 08:45:00+00:00   \n",
       "1    China  31.124933  121.451330          Email 2022-07-05 14:24:00+00:00   \n",
       "2    China  37.904266  112.554583         Search 2022-01-04 05:19:00+00:00   \n",
       "3    Spain  40.406610   -3.641385         Search 2019-03-24 10:04:00+00:00   \n",
       "4   Brasil  -6.919303  -38.542034         Search 2019-08-22 11:14:00+00:00   \n",
       "\n",
       "                          user_geom  \n",
       "0    POINT(4.482359587 50.45525932)  \n",
       "1    POINT(121.4513298 31.12493343)  \n",
       "2     POINT(112.554583 37.90426574)  \n",
       "3   POINT(-3.641385174 40.40660981)  \n",
       "4  POINT(-38.54203425 -6.919302569)  \n",
       "\n",
       "[5 rows x 25 columns]"
      ]
     },
     "execution_count": 82,
     "metadata": {},
     "output_type": "execute_result"
    }
   ],
   "source": [
    "user_orders = orders_df.merge(users_df, left_on = 'user_id', right_on = 'id', how = 'inner' )\n",
    "user_orders.head()"
   ]
  },
  {
   "cell_type": "code",
   "execution_count": 83,
   "id": "c550fcc1-af39-42ee-8eab-3964bd2543b5",
   "metadata": {},
   "outputs": [
    {
     "data": {
      "text/plain": [
       "order_id               0\n",
       "user_id                0\n",
       "status                 0\n",
       "gender_x               0\n",
       "created_at_x           0\n",
       "returned_at       112200\n",
       "shipped_at         43471\n",
       "delivered_at       80828\n",
       "num_of_item            0\n",
       "id                     0\n",
       "first_name             0\n",
       "last_name              0\n",
       "email                  0\n",
       "age                    0\n",
       "gender_y               0\n",
       "state                  0\n",
       "street_address         0\n",
       "postal_code            0\n",
       "city                   0\n",
       "country                0\n",
       "latitude               0\n",
       "longitude              0\n",
       "traffic_source         0\n",
       "created_at_y           0\n",
       "user_geom              0\n",
       "dtype: int64"
      ]
     },
     "execution_count": 83,
     "metadata": {},
     "output_type": "execute_result"
    }
   ],
   "source": [
    "# check for nulls\n",
    "user_orders.isnull().sum()"
   ]
  },
  {
   "cell_type": "code",
   "execution_count": 84,
   "id": "8f9baa61-0550-4635-a5fc-2d038c38543d",
   "metadata": {},
   "outputs": [
    {
     "data": {
      "text/plain": [
       "0"
      ]
     },
     "execution_count": 84,
     "metadata": {},
     "output_type": "execute_result"
    }
   ],
   "source": [
    "# check duplicates\n",
    "\n",
    "user_orders.duplicated().sum()"
   ]
  },
  {
   "cell_type": "code",
   "execution_count": 85,
   "id": "caecc623-be91-44f7-a0fc-f0e9a3e3033d",
   "metadata": {},
   "outputs": [
    {
     "data": {
      "text/plain": [
       "(124691, 25)"
      ]
     },
     "execution_count": 85,
     "metadata": {},
     "output_type": "execute_result"
    }
   ],
   "source": [
    "user_orders.shape"
   ]
  },
  {
   "cell_type": "markdown",
   "id": "6b542120-ec3c-4d50-86fa-7ccbac7842da",
   "metadata": {},
   "source": [
    "#### Merge orderitems_df with user_orders"
   ]
  },
  {
   "cell_type": "code",
   "execution_count": 79,
   "id": "658fa925-d13c-49f7-8d68-ac8362624e3d",
   "metadata": {},
   "outputs": [
    {
     "data": {
      "text/html": [
       "<div>\n",
       "<style scoped>\n",
       "    .dataframe tbody tr th:only-of-type {\n",
       "        vertical-align: middle;\n",
       "    }\n",
       "\n",
       "    .dataframe tbody tr th {\n",
       "        vertical-align: top;\n",
       "    }\n",
       "\n",
       "    .dataframe thead th {\n",
       "        text-align: right;\n",
       "    }\n",
       "</style>\n",
       "<table border=\"1\" class=\"dataframe\">\n",
       "  <thead>\n",
       "    <tr style=\"text-align: right;\">\n",
       "      <th></th>\n",
       "      <th>id</th>\n",
       "      <th>order_id</th>\n",
       "      <th>user_id</th>\n",
       "      <th>product_id</th>\n",
       "      <th>inventory_item_id</th>\n",
       "      <th>status</th>\n",
       "      <th>created_at</th>\n",
       "      <th>shipped_at</th>\n",
       "      <th>delivered_at</th>\n",
       "      <th>returned_at</th>\n",
       "      <th>sale_price</th>\n",
       "    </tr>\n",
       "  </thead>\n",
       "  <tbody>\n",
       "    <tr>\n",
       "      <th>0</th>\n",
       "      <td>110755</td>\n",
       "      <td>76044</td>\n",
       "      <td>60769</td>\n",
       "      <td>14235</td>\n",
       "      <td>299107</td>\n",
       "      <td>Complete</td>\n",
       "      <td>2023-11-24 10:10:15+00:00</td>\n",
       "      <td>2023-11-24 05:06:00+00:00</td>\n",
       "      <td>2023-11-28 13:36:00+00:00</td>\n",
       "      <td>NaT</td>\n",
       "      <td>0.02</td>\n",
       "    </tr>\n",
       "    <tr>\n",
       "      <th>1</th>\n",
       "      <td>42569</td>\n",
       "      <td>29086</td>\n",
       "      <td>23286</td>\n",
       "      <td>14235</td>\n",
       "      <td>114772</td>\n",
       "      <td>Shipped</td>\n",
       "      <td>2025-03-18 13:55:21+00:00</td>\n",
       "      <td>2025-03-20 08:28:00+00:00</td>\n",
       "      <td>NaT</td>\n",
       "      <td>NaT</td>\n",
       "      <td>0.02</td>\n",
       "    </tr>\n",
       "    <tr>\n",
       "      <th>2</th>\n",
       "      <td>68460</td>\n",
       "      <td>46920</td>\n",
       "      <td>37539</td>\n",
       "      <td>14235</td>\n",
       "      <td>184744</td>\n",
       "      <td>Shipped</td>\n",
       "      <td>2025-05-05 06:44:19+00:00</td>\n",
       "      <td>2025-05-06 12:16:00+00:00</td>\n",
       "      <td>NaT</td>\n",
       "      <td>NaT</td>\n",
       "      <td>0.02</td>\n",
       "    </tr>\n",
       "    <tr>\n",
       "      <th>3</th>\n",
       "      <td>87121</td>\n",
       "      <td>59811</td>\n",
       "      <td>47896</td>\n",
       "      <td>14235</td>\n",
       "      <td>235215</td>\n",
       "      <td>Shipped</td>\n",
       "      <td>2025-03-28 03:24:05+00:00</td>\n",
       "      <td>2025-03-28 17:29:00+00:00</td>\n",
       "      <td>NaT</td>\n",
       "      <td>NaT</td>\n",
       "      <td>0.02</td>\n",
       "    </tr>\n",
       "    <tr>\n",
       "      <th>4</th>\n",
       "      <td>116285</td>\n",
       "      <td>79822</td>\n",
       "      <td>63823</td>\n",
       "      <td>14235</td>\n",
       "      <td>314052</td>\n",
       "      <td>Shipped</td>\n",
       "      <td>2021-10-05 01:35:54+00:00</td>\n",
       "      <td>2021-10-07 00:21:00+00:00</td>\n",
       "      <td>NaT</td>\n",
       "      <td>NaT</td>\n",
       "      <td>0.02</td>\n",
       "    </tr>\n",
       "  </tbody>\n",
       "</table>\n",
       "</div>"
      ],
      "text/plain": [
       "       id  order_id  user_id  product_id  inventory_item_id    status  \\\n",
       "0  110755     76044    60769       14235             299107  Complete   \n",
       "1   42569     29086    23286       14235             114772   Shipped   \n",
       "2   68460     46920    37539       14235             184744   Shipped   \n",
       "3   87121     59811    47896       14235             235215   Shipped   \n",
       "4  116285     79822    63823       14235             314052   Shipped   \n",
       "\n",
       "                 created_at                shipped_at  \\\n",
       "0 2023-11-24 10:10:15+00:00 2023-11-24 05:06:00+00:00   \n",
       "1 2025-03-18 13:55:21+00:00 2025-03-20 08:28:00+00:00   \n",
       "2 2025-05-05 06:44:19+00:00 2025-05-06 12:16:00+00:00   \n",
       "3 2025-03-28 03:24:05+00:00 2025-03-28 17:29:00+00:00   \n",
       "4 2021-10-05 01:35:54+00:00 2021-10-07 00:21:00+00:00   \n",
       "\n",
       "               delivered_at returned_at  sale_price  \n",
       "0 2023-11-28 13:36:00+00:00         NaT        0.02  \n",
       "1                       NaT         NaT        0.02  \n",
       "2                       NaT         NaT        0.02  \n",
       "3                       NaT         NaT        0.02  \n",
       "4                       NaT         NaT        0.02  "
      ]
     },
     "execution_count": 79,
     "metadata": {},
     "output_type": "execute_result"
    }
   ],
   "source": [
    "orderitems_df.head(5)"
   ]
  },
  {
   "cell_type": "code",
   "execution_count": 86,
   "id": "32d8c45a-b85d-4415-a3cb-a86fcfd1b82f",
   "metadata": {},
   "outputs": [],
   "source": [
    "complete_orders_df = user_orders.merge(orderitems_df, on = 'user_id', how = 'inner')"
   ]
  },
  {
   "cell_type": "code",
   "execution_count": 87,
   "id": "6444965b-e216-487f-b93f-311b263fa04a",
   "metadata": {},
   "outputs": [
    {
     "data": {
      "text/plain": [
       "(369938, 35)"
      ]
     },
     "execution_count": 87,
     "metadata": {},
     "output_type": "execute_result"
    }
   ],
   "source": [
    "#confirm shape\n",
    "complete_orders_df.shape"
   ]
  },
  {
   "cell_type": "code",
   "execution_count": 88,
   "id": "3f1d9ea1-2a90-4545-ad4a-7bad4aa704ca",
   "metadata": {},
   "outputs": [
    {
     "data": {
      "text/plain": [
       "order_id_x                0\n",
       "user_id                   0\n",
       "status_x                  0\n",
       "gender_x                  0\n",
       "created_at_x              0\n",
       "returned_at_x        332973\n",
       "shipped_at_x         128689\n",
       "delivered_at_x       239546\n",
       "num_of_item               0\n",
       "id_x                      0\n",
       "first_name                0\n",
       "last_name                 0\n",
       "email                     0\n",
       "age                       0\n",
       "gender_y                  0\n",
       "state                     0\n",
       "street_address            0\n",
       "postal_code               0\n",
       "city                      0\n",
       "country                   0\n",
       "latitude                  0\n",
       "longitude                 0\n",
       "traffic_source            0\n",
       "created_at_y              0\n",
       "user_geom                 0\n",
       "id_y                      0\n",
       "order_id_y                0\n",
       "product_id                0\n",
       "inventory_item_id         0\n",
       "status_y                  0\n",
       "created_at                0\n",
       "shipped_at_y         128551\n",
       "delivered_at_y       238988\n",
       "returned_at_y        332646\n",
       "sale_price                0\n",
       "dtype: int64"
      ]
     },
     "execution_count": 88,
     "metadata": {},
     "output_type": "execute_result"
    }
   ],
   "source": [
    "complete_orders_df.isnull().sum()"
   ]
  },
  {
   "cell_type": "code",
   "execution_count": 89,
   "id": "221584cf-5ce8-459e-8dc1-827ed8dcdffe",
   "metadata": {},
   "outputs": [
    {
     "data": {
      "text/html": [
       "<div>\n",
       "<style scoped>\n",
       "    .dataframe tbody tr th:only-of-type {\n",
       "        vertical-align: middle;\n",
       "    }\n",
       "\n",
       "    .dataframe tbody tr th {\n",
       "        vertical-align: top;\n",
       "    }\n",
       "\n",
       "    .dataframe thead th {\n",
       "        text-align: right;\n",
       "    }\n",
       "</style>\n",
       "<table border=\"1\" class=\"dataframe\">\n",
       "  <thead>\n",
       "    <tr style=\"text-align: right;\">\n",
       "      <th></th>\n",
       "      <th>id</th>\n",
       "      <th>order_id</th>\n",
       "      <th>user_id</th>\n",
       "      <th>product_id</th>\n",
       "      <th>inventory_item_id</th>\n",
       "      <th>status</th>\n",
       "      <th>created_at</th>\n",
       "      <th>shipped_at</th>\n",
       "      <th>delivered_at</th>\n",
       "      <th>returned_at</th>\n",
       "      <th>sale_price</th>\n",
       "    </tr>\n",
       "  </thead>\n",
       "  <tbody>\n",
       "    <tr>\n",
       "      <th>0</th>\n",
       "      <td>110755</td>\n",
       "      <td>76044</td>\n",
       "      <td>60769</td>\n",
       "      <td>14235</td>\n",
       "      <td>299107</td>\n",
       "      <td>Complete</td>\n",
       "      <td>2023-11-24 10:10:15+00:00</td>\n",
       "      <td>2023-11-24 05:06:00+00:00</td>\n",
       "      <td>2023-11-28 13:36:00+00:00</td>\n",
       "      <td>NaT</td>\n",
       "      <td>0.02</td>\n",
       "    </tr>\n",
       "    <tr>\n",
       "      <th>1</th>\n",
       "      <td>42569</td>\n",
       "      <td>29086</td>\n",
       "      <td>23286</td>\n",
       "      <td>14235</td>\n",
       "      <td>114772</td>\n",
       "      <td>Shipped</td>\n",
       "      <td>2025-03-18 13:55:21+00:00</td>\n",
       "      <td>2025-03-20 08:28:00+00:00</td>\n",
       "      <td>NaT</td>\n",
       "      <td>NaT</td>\n",
       "      <td>0.02</td>\n",
       "    </tr>\n",
       "    <tr>\n",
       "      <th>2</th>\n",
       "      <td>68460</td>\n",
       "      <td>46920</td>\n",
       "      <td>37539</td>\n",
       "      <td>14235</td>\n",
       "      <td>184744</td>\n",
       "      <td>Shipped</td>\n",
       "      <td>2025-05-05 06:44:19+00:00</td>\n",
       "      <td>2025-05-06 12:16:00+00:00</td>\n",
       "      <td>NaT</td>\n",
       "      <td>NaT</td>\n",
       "      <td>0.02</td>\n",
       "    </tr>\n",
       "    <tr>\n",
       "      <th>3</th>\n",
       "      <td>87121</td>\n",
       "      <td>59811</td>\n",
       "      <td>47896</td>\n",
       "      <td>14235</td>\n",
       "      <td>235215</td>\n",
       "      <td>Shipped</td>\n",
       "      <td>2025-03-28 03:24:05+00:00</td>\n",
       "      <td>2025-03-28 17:29:00+00:00</td>\n",
       "      <td>NaT</td>\n",
       "      <td>NaT</td>\n",
       "      <td>0.02</td>\n",
       "    </tr>\n",
       "    <tr>\n",
       "      <th>4</th>\n",
       "      <td>116285</td>\n",
       "      <td>79822</td>\n",
       "      <td>63823</td>\n",
       "      <td>14235</td>\n",
       "      <td>314052</td>\n",
       "      <td>Shipped</td>\n",
       "      <td>2021-10-05 01:35:54+00:00</td>\n",
       "      <td>2021-10-07 00:21:00+00:00</td>\n",
       "      <td>NaT</td>\n",
       "      <td>NaT</td>\n",
       "      <td>0.02</td>\n",
       "    </tr>\n",
       "  </tbody>\n",
       "</table>\n",
       "</div>"
      ],
      "text/plain": [
       "       id  order_id  user_id  product_id  inventory_item_id    status  \\\n",
       "0  110755     76044    60769       14235             299107  Complete   \n",
       "1   42569     29086    23286       14235             114772   Shipped   \n",
       "2   68460     46920    37539       14235             184744   Shipped   \n",
       "3   87121     59811    47896       14235             235215   Shipped   \n",
       "4  116285     79822    63823       14235             314052   Shipped   \n",
       "\n",
       "                 created_at                shipped_at  \\\n",
       "0 2023-11-24 10:10:15+00:00 2023-11-24 05:06:00+00:00   \n",
       "1 2025-03-18 13:55:21+00:00 2025-03-20 08:28:00+00:00   \n",
       "2 2025-05-05 06:44:19+00:00 2025-05-06 12:16:00+00:00   \n",
       "3 2025-03-28 03:24:05+00:00 2025-03-28 17:29:00+00:00   \n",
       "4 2021-10-05 01:35:54+00:00 2021-10-07 00:21:00+00:00   \n",
       "\n",
       "               delivered_at returned_at  sale_price  \n",
       "0 2023-11-28 13:36:00+00:00         NaT        0.02  \n",
       "1                       NaT         NaT        0.02  \n",
       "2                       NaT         NaT        0.02  \n",
       "3                       NaT         NaT        0.02  \n",
       "4                       NaT         NaT        0.02  "
      ]
     },
     "execution_count": 89,
     "metadata": {},
     "output_type": "execute_result"
    }
   ],
   "source": [
    "orderitems_df.head(5)"
   ]
  },
  {
   "cell_type": "code",
   "execution_count": null,
   "id": "6ab1a4af-af1a-4873-b8ed-b5fba7ad27bd",
   "metadata": {},
   "outputs": [],
   "source": []
  }
 ],
 "metadata": {
  "kernelspec": {
   "display_name": "Python 3 (ipykernel)",
   "language": "python",
   "name": "python3"
  },
  "language_info": {
   "codemirror_mode": {
    "name": "ipython",
    "version": 3
   },
   "file_extension": ".py",
   "mimetype": "text/x-python",
   "name": "python",
   "nbconvert_exporter": "python",
   "pygments_lexer": "ipython3",
   "version": "3.11.9"
  }
 },
 "nbformat": 4,
 "nbformat_minor": 5
}
