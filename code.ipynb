{
 "cells": [
  {
   "cell_type": "markdown",
   "id": "852dd296-08fd-4a73-b621-dd6cc850c4a0",
   "metadata": {},
   "source": [
    "#### Problem Statement\n",
    "\n",
    "Banks invest significant resources into outbound marketing campaigns, like calling customers to offer term deposit products. However, these campaigns can be inefficient, contacting many customers who are not interested, leading to:\n",
    "\n",
    "- High operational costs\n",
    "\n",
    "- Low conversion rates\n",
    "\n",
    "- Customer fatigue and churn risk\n",
    "\n",
    "1. This project seeks to optimize marketing effectiveness by:\n",
    "\n",
    "2. Segmenting customers based on their financial and demographic behavior\n",
    "\n",
    "3. Predicting which customers are most likely to subscribe to a term deposit\n",
    "\n",
    "4. Designing a targeting strategy that reduces wasted outreach while maximizing ROI\n",
    "\n",
    "\n",
    "**Stakeholders**\n",
    "\n",
    "|Stakeholder              | What they care About\n",
    "|-------------------------|------------------------\n",
    "|Marketing Team           |Improve campaign efficiency and ROI; avoid over-contacting customers|\n",
    "Data Science Team         |Build interpretable, reliable models with business impact\n",
    "Compliance/Legal          |Ensure targeting practices are fair, non-discriminatory\n",
    "Sales / Call Center       |Focus effort on the right customers; increase success rates\n",
    "Senior Management         |Strategic insights on customer behavior and product interest\n"
   ]
  },
  {
   "cell_type": "markdown",
   "id": "70436dfd-e87d-4c7a-905c-309c92c31660",
   "metadata": {},
   "source": [
    "#### Imports\n",
    "\n",
    "Import the required libraries"
   ]
  },
  {
   "cell_type": "code",
   "execution_count": 1,
   "id": "fe5d875b-2054-4aca-affe-a1419ce6fd2c",
   "metadata": {},
   "outputs": [],
   "source": [
    "import pandas as pd\n",
    "import zipfile\n",
    "import urllib.request\n",
    "import io\n",
    "import os\n",
    "from google.cloud import bigquery\n"
   ]
  },
  {
   "cell_type": "markdown",
   "id": "e658a85d-5fa9-40c8-b744-69de9a99522b",
   "metadata": {},
   "source": [
    "### Loading dataset\n",
    "\n",
    "Dataset is from Google [Big Query](https://console.cloud.google.com/bigquery?ws=!1m4!1m3!3m2!1sbigquery-public-data!2sthelook_ecommerce).\n",
    "A function was writen to obtain the tables in the dataset. The ecommerce data has `7` tables namely:  \"distribution_centers\", \"events\", \"inventory_items\", \"order_items\", \"orders\", \"products\", \"users\"."
   ]
  },
  {
   "cell_type": "code",
   "execution_count": 2,
   "id": "b32ed7e6-be57-40b6-9d72-5fa1ba294aca",
   "metadata": {},
   "outputs": [],
   "source": [
    "\n",
    "client = bigquery.Client(project=\"testing-469722\")\n",
    "\n",
    "def load_thelook_tables(dataset_id=\"bigquery-public-data.thelook_ecommerce\", table_names=None):\n",
    "    \"\"\"\n",
    "    Load multiple tables from thelook_ecommerce dataset into separate DataFrames.\n",
    "\n",
    "    Parameters:\n",
    "        dataset_id (str): Full BigQuery dataset path\n",
    "        table_names (list): List of table names to load\n",
    "\n",
    "    Returns:\n",
    "        dict: Dictionary of {table_name: DataFrame}\n",
    "    \"\"\"\n",
    "    if table_names is None:\n",
    "        table_names = [\n",
    "            \"distribution_centers\",\n",
    "            \"events\",\n",
    "            \"inventory_items\",\n",
    "            \"order_items\",\n",
    "            \"orders\",\n",
    "            \"products\",\n",
    "            \"users\"\n",
    "        ]\n",
    "\n",
    "    dataframes = {}\n",
    "\n",
    "    for table in table_names:\n",
    "        query = f\"SELECT * FROM `{dataset_id}.{table}`\"\n",
    "        df = client.query(query).to_dataframe()\n",
    "        dataframes[table] = df\n",
    "        print(f\"Loaded {table}: {df.shape[0]} rows\")\n",
    "\n",
    "    return dataframes"
   ]
  },
  {
   "cell_type": "markdown",
   "id": "5eb621a9-1433-49c3-bc4f-ea0a66ae1f50",
   "metadata": {},
   "source": [
    "### Load the dataset\n",
    "\n",
    "The dataset are pulled from Big query.\n"
   ]
  },
  {
   "cell_type": "code",
   "execution_count": 3,
   "id": "4932c82f-15f1-4bc0-ae8f-d288ad899fe8",
   "metadata": {},
   "outputs": [
    {
     "name": "stderr",
     "output_type": "stream",
     "text": [
      "C:\\Users\\DELL XPS\\virtual\\dsb_602\\Lib\\site-packages\\google\\cloud\\bigquery\\table.py:1994: UserWarning: BigQuery Storage module not found, fetch data with the REST endpoint instead.\n",
      "  warnings.warn(\n"
     ]
    },
    {
     "name": "stdout",
     "output_type": "stream",
     "text": [
      "Loaded distribution_centers: 10 rows\n",
      "Loaded events: 2429240 rows\n",
      "Loaded inventory_items: 490519 rows\n",
      "Loaded order_items: 181597 rows\n",
      "Loaded orders: 125188 rows\n",
      "Loaded products: 29120 rows\n",
      "Loaded users: 100000 rows\n"
     ]
    }
   ],
   "source": [
    "thelook_dfs = load_thelook_tables()"
   ]
  },
  {
   "cell_type": "markdown",
   "id": "47301b48-015f-4f84-904d-150c6e857da0",
   "metadata": {},
   "source": [
    "### Accessing the tables\n"
   ]
  },
  {
   "cell_type": "code",
   "execution_count": 4,
   "id": "0d75e082-00b8-4496-bed0-8487ddf661c9",
   "metadata": {},
   "outputs": [
    {
     "data": {
      "text/html": [
       "<div>\n",
       "<style scoped>\n",
       "    .dataframe tbody tr th:only-of-type {\n",
       "        vertical-align: middle;\n",
       "    }\n",
       "\n",
       "    .dataframe tbody tr th {\n",
       "        vertical-align: top;\n",
       "    }\n",
       "\n",
       "    .dataframe thead th {\n",
       "        text-align: right;\n",
       "    }\n",
       "</style>\n",
       "<table border=\"1\" class=\"dataframe\">\n",
       "  <thead>\n",
       "    <tr style=\"text-align: right;\">\n",
       "      <th></th>\n",
       "      <th>order_id</th>\n",
       "      <th>user_id</th>\n",
       "      <th>status</th>\n",
       "      <th>gender</th>\n",
       "      <th>created_at</th>\n",
       "      <th>returned_at</th>\n",
       "      <th>shipped_at</th>\n",
       "      <th>delivered_at</th>\n",
       "      <th>num_of_item</th>\n",
       "    </tr>\n",
       "  </thead>\n",
       "  <tbody>\n",
       "    <tr>\n",
       "      <th>0</th>\n",
       "      <td>8</td>\n",
       "      <td>5</td>\n",
       "      <td>Cancelled</td>\n",
       "      <td>F</td>\n",
       "      <td>2025-03-04 06:46:00+00:00</td>\n",
       "      <td>NaT</td>\n",
       "      <td>NaT</td>\n",
       "      <td>NaT</td>\n",
       "      <td>1</td>\n",
       "    </tr>\n",
       "    <tr>\n",
       "      <th>1</th>\n",
       "      <td>9</td>\n",
       "      <td>6</td>\n",
       "      <td>Cancelled</td>\n",
       "      <td>F</td>\n",
       "      <td>2025-06-03 03:06:00+00:00</td>\n",
       "      <td>NaT</td>\n",
       "      <td>NaT</td>\n",
       "      <td>NaT</td>\n",
       "      <td>1</td>\n",
       "    </tr>\n",
       "    <tr>\n",
       "      <th>2</th>\n",
       "      <td>16</td>\n",
       "      <td>15</td>\n",
       "      <td>Cancelled</td>\n",
       "      <td>F</td>\n",
       "      <td>2022-04-04 11:48:00+00:00</td>\n",
       "      <td>NaT</td>\n",
       "      <td>NaT</td>\n",
       "      <td>NaT</td>\n",
       "      <td>1</td>\n",
       "    </tr>\n",
       "    <tr>\n",
       "      <th>3</th>\n",
       "      <td>44</td>\n",
       "      <td>39</td>\n",
       "      <td>Cancelled</td>\n",
       "      <td>F</td>\n",
       "      <td>2025-08-11 05:15:00+00:00</td>\n",
       "      <td>NaT</td>\n",
       "      <td>NaT</td>\n",
       "      <td>NaT</td>\n",
       "      <td>1</td>\n",
       "    </tr>\n",
       "  </tbody>\n",
       "</table>\n",
       "</div>"
      ],
      "text/plain": [
       "   order_id  user_id     status gender                created_at returned_at  \\\n",
       "0         8        5  Cancelled      F 2025-03-04 06:46:00+00:00         NaT   \n",
       "1         9        6  Cancelled      F 2025-06-03 03:06:00+00:00         NaT   \n",
       "2        16       15  Cancelled      F 2022-04-04 11:48:00+00:00         NaT   \n",
       "3        44       39  Cancelled      F 2025-08-11 05:15:00+00:00         NaT   \n",
       "\n",
       "  shipped_at delivered_at  num_of_item  \n",
       "0        NaT          NaT            1  \n",
       "1        NaT          NaT            1  \n",
       "2        NaT          NaT            1  \n",
       "3        NaT          NaT            1  "
      ]
     },
     "execution_count": 4,
     "metadata": {},
     "output_type": "execute_result"
    }
   ],
   "source": [
    "# order table\n",
    "\n",
    "orders_df = thelook_dfs['orders']\n",
    "orders_df.head(4)"
   ]
  },
  {
   "cell_type": "markdown",
   "id": "e41dbb98-fd24-4290-a952-ee7aa6707f66",
   "metadata": {},
   "source": [
    "**orders_df table dictionary**\n",
    "\n",
    "| Column Name    | Description                                                           |\n",
    "| -------------- | --------------------------------------------------------------------- |\n",
    "| `order_id`     | Unique identifier for each order                                      |\n",
    "| `user_id`      | Foreign key that links to the customer (`users.id`)                   |\n",
    "| `status`       | Status of the order (e.g., `Complete`, `Returned`, `Cancelled`)       |\n",
    "| `gender`       | Gender of the customer (from the `users` table, if joined)            |\n",
    "| `created_at`   | Timestamp when the order was placed                                   |\n",
    "| `returned_at`  | Timestamp when the item was returned (null if not returned)           |\n",
    "| `shipped_at`   | Timestamp when the item was shipped                                   |\n",
    "| `delivered_at` | Timestamp when the item was delivered to the customer                 |\n",
    "| `num_of_item`  | Number of individual items in that order (usually from `order_items`) |\n"
   ]
  },
  {
   "cell_type": "code",
   "execution_count": 5,
   "id": "55a23b92-8912-4d6f-a5aa-039f34dbc606",
   "metadata": {},
   "outputs": [
    {
     "data": {
      "text/html": [
       "<div>\n",
       "<style scoped>\n",
       "    .dataframe tbody tr th:only-of-type {\n",
       "        vertical-align: middle;\n",
       "    }\n",
       "\n",
       "    .dataframe tbody tr th {\n",
       "        vertical-align: top;\n",
       "    }\n",
       "\n",
       "    .dataframe thead th {\n",
       "        text-align: right;\n",
       "    }\n",
       "</style>\n",
       "<table border=\"1\" class=\"dataframe\">\n",
       "  <thead>\n",
       "    <tr style=\"text-align: right;\">\n",
       "      <th></th>\n",
       "      <th>id</th>\n",
       "      <th>name</th>\n",
       "      <th>latitude</th>\n",
       "      <th>longitude</th>\n",
       "      <th>distribution_center_geom</th>\n",
       "    </tr>\n",
       "  </thead>\n",
       "  <tbody>\n",
       "    <tr>\n",
       "      <th>0</th>\n",
       "      <td>8</td>\n",
       "      <td>Mobile AL</td>\n",
       "      <td>30.6944</td>\n",
       "      <td>-88.0431</td>\n",
       "      <td>POINT(-88.0431 30.6944)</td>\n",
       "    </tr>\n",
       "    <tr>\n",
       "      <th>1</th>\n",
       "      <td>9</td>\n",
       "      <td>Charleston SC</td>\n",
       "      <td>32.7833</td>\n",
       "      <td>-79.9333</td>\n",
       "      <td>POINT(-79.9333 32.7833)</td>\n",
       "    </tr>\n",
       "    <tr>\n",
       "      <th>2</th>\n",
       "      <td>6</td>\n",
       "      <td>Port Authority of New York/New Jersey NY/NJ</td>\n",
       "      <td>40.6340</td>\n",
       "      <td>-73.7834</td>\n",
       "      <td>POINT(-73.7834 40.634)</td>\n",
       "    </tr>\n",
       "    <tr>\n",
       "      <th>3</th>\n",
       "      <td>5</td>\n",
       "      <td>New Orleans LA</td>\n",
       "      <td>29.9500</td>\n",
       "      <td>-90.0667</td>\n",
       "      <td>POINT(-90.0667 29.95)</td>\n",
       "    </tr>\n",
       "    <tr>\n",
       "      <th>4</th>\n",
       "      <td>2</td>\n",
       "      <td>Chicago IL</td>\n",
       "      <td>41.8369</td>\n",
       "      <td>-87.6847</td>\n",
       "      <td>POINT(-87.6847 41.8369)</td>\n",
       "    </tr>\n",
       "  </tbody>\n",
       "</table>\n",
       "</div>"
      ],
      "text/plain": [
       "   id                                         name  latitude  longitude  \\\n",
       "0   8                                    Mobile AL   30.6944   -88.0431   \n",
       "1   9                                Charleston SC   32.7833   -79.9333   \n",
       "2   6  Port Authority of New York/New Jersey NY/NJ   40.6340   -73.7834   \n",
       "3   5                               New Orleans LA   29.9500   -90.0667   \n",
       "4   2                                   Chicago IL   41.8369   -87.6847   \n",
       "\n",
       "  distribution_center_geom  \n",
       "0  POINT(-88.0431 30.6944)  \n",
       "1  POINT(-79.9333 32.7833)  \n",
       "2   POINT(-73.7834 40.634)  \n",
       "3    POINT(-90.0667 29.95)  \n",
       "4  POINT(-87.6847 41.8369)  "
      ]
     },
     "execution_count": 5,
     "metadata": {},
     "output_type": "execute_result"
    }
   ],
   "source": [
    "# distribution_centers\n",
    "\n",
    "distribution_df = thelook_dfs['distribution_centers']\n",
    "distribution_df.head(5)"
   ]
  },
  {
   "cell_type": "markdown",
   "id": "5bb64404-933d-4ac4-9965-bc804a6788da",
   "metadata": {},
   "source": [
    "**distribution_df dictionary**\n",
    "\n",
    "| Column Name                | Description                                                                 |\n",
    "| -------------------------- | --------------------------------------------------------------------------- |\n",
    "| `id`                       | Unique identifier for each distribution center                              |\n",
    "| `name`                     | City and state abbreviation of the distribution center location             |\n",
    "| `latitude`                 | Latitude coordinate of the distribution center (for mapping or distance)    |\n",
    "| `longitude`                | Longitude coordinate of the distribution center                             |\n",
    "| `distribution_center_geom` | Geometry field representing the center as a geographic point (GeoJSON-like) |\n"
   ]
  },
  {
   "cell_type": "code",
   "execution_count": 6,
   "id": "8cf4423d-830f-4b64-a738-a7bc78bcd020",
   "metadata": {},
   "outputs": [
    {
     "data": {
      "text/html": [
       "<div>\n",
       "<style scoped>\n",
       "    .dataframe tbody tr th:only-of-type {\n",
       "        vertical-align: middle;\n",
       "    }\n",
       "\n",
       "    .dataframe tbody tr th {\n",
       "        vertical-align: top;\n",
       "    }\n",
       "\n",
       "    .dataframe thead th {\n",
       "        text-align: right;\n",
       "    }\n",
       "</style>\n",
       "<table border=\"1\" class=\"dataframe\">\n",
       "  <thead>\n",
       "    <tr style=\"text-align: right;\">\n",
       "      <th></th>\n",
       "      <th>id</th>\n",
       "      <th>user_id</th>\n",
       "      <th>sequence_number</th>\n",
       "      <th>session_id</th>\n",
       "      <th>created_at</th>\n",
       "      <th>ip_address</th>\n",
       "      <th>city</th>\n",
       "      <th>state</th>\n",
       "      <th>postal_code</th>\n",
       "      <th>browser</th>\n",
       "      <th>traffic_source</th>\n",
       "      <th>uri</th>\n",
       "      <th>event_type</th>\n",
       "    </tr>\n",
       "  </thead>\n",
       "  <tbody>\n",
       "    <tr>\n",
       "      <th>0</th>\n",
       "      <td>2252100</td>\n",
       "      <td>&lt;NA&gt;</td>\n",
       "      <td>3</td>\n",
       "      <td>e3fc7136-1c43-43ab-9de7-ce2ce5caff62</td>\n",
       "      <td>2022-06-27 11:57:00+00:00</td>\n",
       "      <td>16.139.234.95</td>\n",
       "      <td>São Paulo</td>\n",
       "      <td>São Paulo</td>\n",
       "      <td>02675-031</td>\n",
       "      <td>Firefox</td>\n",
       "      <td>Organic</td>\n",
       "      <td>/cancel</td>\n",
       "      <td>cancel</td>\n",
       "    </tr>\n",
       "    <tr>\n",
       "      <th>1</th>\n",
       "      <td>2285223</td>\n",
       "      <td>&lt;NA&gt;</td>\n",
       "      <td>3</td>\n",
       "      <td>903f30d8-4491-471c-bd44-5fc65375b069</td>\n",
       "      <td>2021-10-22 19:03:00+00:00</td>\n",
       "      <td>3.205.142.27</td>\n",
       "      <td>São Paulo</td>\n",
       "      <td>São Paulo</td>\n",
       "      <td>02675-031</td>\n",
       "      <td>IE</td>\n",
       "      <td>Facebook</td>\n",
       "      <td>/cancel</td>\n",
       "      <td>cancel</td>\n",
       "    </tr>\n",
       "    <tr>\n",
       "      <th>2</th>\n",
       "      <td>2217907</td>\n",
       "      <td>&lt;NA&gt;</td>\n",
       "      <td>3</td>\n",
       "      <td>1501e6b7-dbf7-4d4c-93e4-5c36e6c7b7af</td>\n",
       "      <td>2021-08-28 04:03:00+00:00</td>\n",
       "      <td>182.41.211.27</td>\n",
       "      <td>São Paulo</td>\n",
       "      <td>São Paulo</td>\n",
       "      <td>02675-031</td>\n",
       "      <td>Other</td>\n",
       "      <td>Email</td>\n",
       "      <td>/cancel</td>\n",
       "      <td>cancel</td>\n",
       "    </tr>\n",
       "    <tr>\n",
       "      <th>3</th>\n",
       "      <td>1517876</td>\n",
       "      <td>&lt;NA&gt;</td>\n",
       "      <td>3</td>\n",
       "      <td>f6072efc-f9e5-4a60-8e06-b4a7a8ecbf26</td>\n",
       "      <td>2020-10-24 09:25:00+00:00</td>\n",
       "      <td>71.67.3.226</td>\n",
       "      <td>São Paulo</td>\n",
       "      <td>São Paulo</td>\n",
       "      <td>04941-175</td>\n",
       "      <td>Firefox</td>\n",
       "      <td>Organic</td>\n",
       "      <td>/cancel</td>\n",
       "      <td>cancel</td>\n",
       "    </tr>\n",
       "    <tr>\n",
       "      <th>4</th>\n",
       "      <td>1754892</td>\n",
       "      <td>&lt;NA&gt;</td>\n",
       "      <td>3</td>\n",
       "      <td>3ca48bf1-822d-4bbf-87c4-4e0b91ad7878</td>\n",
       "      <td>2024-11-26 07:25:00+00:00</td>\n",
       "      <td>79.186.77.31</td>\n",
       "      <td>Embu-Guaçu</td>\n",
       "      <td>São Paulo</td>\n",
       "      <td>06900-000</td>\n",
       "      <td>Safari</td>\n",
       "      <td>Email</td>\n",
       "      <td>/cancel</td>\n",
       "      <td>cancel</td>\n",
       "    </tr>\n",
       "  </tbody>\n",
       "</table>\n",
       "</div>"
      ],
      "text/plain": [
       "        id  user_id  sequence_number                            session_id  \\\n",
       "0  2252100     <NA>                3  e3fc7136-1c43-43ab-9de7-ce2ce5caff62   \n",
       "1  2285223     <NA>                3  903f30d8-4491-471c-bd44-5fc65375b069   \n",
       "2  2217907     <NA>                3  1501e6b7-dbf7-4d4c-93e4-5c36e6c7b7af   \n",
       "3  1517876     <NA>                3  f6072efc-f9e5-4a60-8e06-b4a7a8ecbf26   \n",
       "4  1754892     <NA>                3  3ca48bf1-822d-4bbf-87c4-4e0b91ad7878   \n",
       "\n",
       "                 created_at     ip_address        city      state postal_code  \\\n",
       "0 2022-06-27 11:57:00+00:00  16.139.234.95   São Paulo  São Paulo   02675-031   \n",
       "1 2021-10-22 19:03:00+00:00   3.205.142.27   São Paulo  São Paulo   02675-031   \n",
       "2 2021-08-28 04:03:00+00:00  182.41.211.27   São Paulo  São Paulo   02675-031   \n",
       "3 2020-10-24 09:25:00+00:00    71.67.3.226   São Paulo  São Paulo   04941-175   \n",
       "4 2024-11-26 07:25:00+00:00   79.186.77.31  Embu-Guaçu  São Paulo   06900-000   \n",
       "\n",
       "   browser traffic_source      uri event_type  \n",
       "0  Firefox        Organic  /cancel     cancel  \n",
       "1       IE       Facebook  /cancel     cancel  \n",
       "2    Other          Email  /cancel     cancel  \n",
       "3  Firefox        Organic  /cancel     cancel  \n",
       "4   Safari          Email  /cancel     cancel  "
      ]
     },
     "execution_count": 6,
     "metadata": {},
     "output_type": "execute_result"
    }
   ],
   "source": [
    "events_df = thelook_dfs['events']\n",
    "events_df.head(5)"
   ]
  },
  {
   "cell_type": "markdown",
   "id": "d21d620d-942f-46b1-a625-bd2eee8d1919",
   "metadata": {},
   "source": [
    "**events_df dictionary**\n",
    "\n",
    "| Column Name       | Description                                                           |\n",
    "| ----------------- | --------------------------------------------------------------------- |\n",
    "| `id`              | Unique identifier for each event record                               |\n",
    "| `user_id`         | ID of the user associated with the event *(can be missing/anonymous)* |\n",
    "| `sequence_number` | Order of the event within a session (helps track user journey)        |\n",
    "| `session_id`      | Unique ID for the user session (used to group related events)         |\n",
    "| `created_at`      | Timestamp when the event occurred                                     |\n",
    "| `ip_address`      | User’s IP address at the time of the event                            |\n",
    "| `city`            | City of the user (inferred from IP)                                   |\n",
    "| `state`           | State of the user (inferred from IP)                                  |\n",
    "| `postal_code`     | Postal code of the user (inferred from IP)                            |\n",
    "| `browser`         | Browser used by the user (e.g., Chrome, Safari)                       |\n",
    "| `traffic_source`  | Source that led the user to the site (e.g., Organic, Email, Adwords)  |\n",
    "| `uri`             | Specific page or endpoint visited (e.g., `/cancel`)                   |\n",
    "| `event_type`      | Type of user action or event (e.g., `cancel`, `purchase`, `checkout`) |\n"
   ]
  },
  {
   "cell_type": "code",
   "execution_count": 97,
   "id": "7dde1b2c-52bc-442e-9692-fc01abd4d762",
   "metadata": {},
   "outputs": [
    {
     "data": {
      "text/html": [
       "<div>\n",
       "<style scoped>\n",
       "    .dataframe tbody tr th:only-of-type {\n",
       "        vertical-align: middle;\n",
       "    }\n",
       "\n",
       "    .dataframe tbody tr th {\n",
       "        vertical-align: top;\n",
       "    }\n",
       "\n",
       "    .dataframe thead th {\n",
       "        text-align: right;\n",
       "    }\n",
       "</style>\n",
       "<table border=\"1\" class=\"dataframe\">\n",
       "  <thead>\n",
       "    <tr style=\"text-align: right;\">\n",
       "      <th></th>\n",
       "      <th>id</th>\n",
       "      <th>product_id</th>\n",
       "      <th>created_at</th>\n",
       "      <th>sold_at</th>\n",
       "      <th>cost</th>\n",
       "      <th>product_category</th>\n",
       "      <th>product_name</th>\n",
       "      <th>product_brand</th>\n",
       "      <th>product_retail_price</th>\n",
       "      <th>product_department</th>\n",
       "      <th>product_sku</th>\n",
       "      <th>product_distribution_center_id</th>\n",
       "    </tr>\n",
       "  </thead>\n",
       "  <tbody>\n",
       "    <tr>\n",
       "      <th>0</th>\n",
       "      <td>90209</td>\n",
       "      <td>4213</td>\n",
       "      <td>2022-04-30 10:32:09+00:00</td>\n",
       "      <td>2022-05-20 02:33:09+00:00</td>\n",
       "      <td>16.24435</td>\n",
       "      <td>Jumpsuits &amp; Rompers</td>\n",
       "      <td>A Elan Usa Beautiful Strapless Jumpsuit w/ 3/4...</td>\n",
       "      <td>Elan USA</td>\n",
       "      <td>32.950001</td>\n",
       "      <td>Women</td>\n",
       "      <td>872DD316EB8A432CBC63F141E2D68DED</td>\n",
       "      <td>2</td>\n",
       "    </tr>\n",
       "    <tr>\n",
       "      <th>1</th>\n",
       "      <td>90210</td>\n",
       "      <td>4213</td>\n",
       "      <td>2021-10-01 07:20:00+00:00</td>\n",
       "      <td>NaT</td>\n",
       "      <td>16.24435</td>\n",
       "      <td>Jumpsuits &amp; Rompers</td>\n",
       "      <td>A Elan Usa Beautiful Strapless Jumpsuit w/ 3/4...</td>\n",
       "      <td>Elan USA</td>\n",
       "      <td>32.950001</td>\n",
       "      <td>Women</td>\n",
       "      <td>872DD316EB8A432CBC63F141E2D68DED</td>\n",
       "      <td>2</td>\n",
       "    </tr>\n",
       "    <tr>\n",
       "      <th>2</th>\n",
       "      <td>90211</td>\n",
       "      <td>4213</td>\n",
       "      <td>2020-03-28 03:46:00+00:00</td>\n",
       "      <td>NaT</td>\n",
       "      <td>16.24435</td>\n",
       "      <td>Jumpsuits &amp; Rompers</td>\n",
       "      <td>A Elan Usa Beautiful Strapless Jumpsuit w/ 3/4...</td>\n",
       "      <td>Elan USA</td>\n",
       "      <td>32.950001</td>\n",
       "      <td>Women</td>\n",
       "      <td>872DD316EB8A432CBC63F141E2D68DED</td>\n",
       "      <td>2</td>\n",
       "    </tr>\n",
       "    <tr>\n",
       "      <th>3</th>\n",
       "      <td>90212</td>\n",
       "      <td>4213</td>\n",
       "      <td>2022-04-04 08:01:00+00:00</td>\n",
       "      <td>NaT</td>\n",
       "      <td>16.24435</td>\n",
       "      <td>Jumpsuits &amp; Rompers</td>\n",
       "      <td>A Elan Usa Beautiful Strapless Jumpsuit w/ 3/4...</td>\n",
       "      <td>Elan USA</td>\n",
       "      <td>32.950001</td>\n",
       "      <td>Women</td>\n",
       "      <td>872DD316EB8A432CBC63F141E2D68DED</td>\n",
       "      <td>2</td>\n",
       "    </tr>\n",
       "    <tr>\n",
       "      <th>4</th>\n",
       "      <td>146617</td>\n",
       "      <td>4213</td>\n",
       "      <td>2024-12-31 11:56:22+00:00</td>\n",
       "      <td>2025-01-12 11:32:22+00:00</td>\n",
       "      <td>16.24435</td>\n",
       "      <td>Jumpsuits &amp; Rompers</td>\n",
       "      <td>A Elan Usa Beautiful Strapless Jumpsuit w/ 3/4...</td>\n",
       "      <td>Elan USA</td>\n",
       "      <td>32.950001</td>\n",
       "      <td>Women</td>\n",
       "      <td>872DD316EB8A432CBC63F141E2D68DED</td>\n",
       "      <td>2</td>\n",
       "    </tr>\n",
       "  </tbody>\n",
       "</table>\n",
       "</div>"
      ],
      "text/plain": [
       "       id  product_id                created_at                   sold_at  \\\n",
       "0   90209        4213 2022-04-30 10:32:09+00:00 2022-05-20 02:33:09+00:00   \n",
       "1   90210        4213 2021-10-01 07:20:00+00:00                       NaT   \n",
       "2   90211        4213 2020-03-28 03:46:00+00:00                       NaT   \n",
       "3   90212        4213 2022-04-04 08:01:00+00:00                       NaT   \n",
       "4  146617        4213 2024-12-31 11:56:22+00:00 2025-01-12 11:32:22+00:00   \n",
       "\n",
       "       cost     product_category  \\\n",
       "0  16.24435  Jumpsuits & Rompers   \n",
       "1  16.24435  Jumpsuits & Rompers   \n",
       "2  16.24435  Jumpsuits & Rompers   \n",
       "3  16.24435  Jumpsuits & Rompers   \n",
       "4  16.24435  Jumpsuits & Rompers   \n",
       "\n",
       "                                        product_name product_brand  \\\n",
       "0  A Elan Usa Beautiful Strapless Jumpsuit w/ 3/4...      Elan USA   \n",
       "1  A Elan Usa Beautiful Strapless Jumpsuit w/ 3/4...      Elan USA   \n",
       "2  A Elan Usa Beautiful Strapless Jumpsuit w/ 3/4...      Elan USA   \n",
       "3  A Elan Usa Beautiful Strapless Jumpsuit w/ 3/4...      Elan USA   \n",
       "4  A Elan Usa Beautiful Strapless Jumpsuit w/ 3/4...      Elan USA   \n",
       "\n",
       "   product_retail_price product_department                       product_sku  \\\n",
       "0             32.950001              Women  872DD316EB8A432CBC63F141E2D68DED   \n",
       "1             32.950001              Women  872DD316EB8A432CBC63F141E2D68DED   \n",
       "2             32.950001              Women  872DD316EB8A432CBC63F141E2D68DED   \n",
       "3             32.950001              Women  872DD316EB8A432CBC63F141E2D68DED   \n",
       "4             32.950001              Women  872DD316EB8A432CBC63F141E2D68DED   \n",
       "\n",
       "   product_distribution_center_id  \n",
       "0                               2  \n",
       "1                               2  \n",
       "2                               2  \n",
       "3                               2  \n",
       "4                               2  "
      ]
     },
     "execution_count": 97,
     "metadata": {},
     "output_type": "execute_result"
    }
   ],
   "source": [
    "inventoryitems_df = thelook_dfs['inventory_items']\n",
    "inventoryitems_df.head()"
   ]
  },
  {
   "cell_type": "markdown",
   "id": "813295db-46d0-4e81-a71c-ba73b79bac1d",
   "metadata": {},
   "source": [
    "**inventoryitems_df dictionary**\n",
    "\n",
    "| Column Name                      | Description                                                                                                 |\n",
    "| -------------------------------- | ----------------------------------------------------------------------------------------------------------- |\n",
    "| `id`                             | Unique identifier for each inventory record                                                                 |\n",
    "| `product_id`                     | ID of the product listed in the inventory                                                                   |\n",
    "| `created_at`                     | Timestamp when the product was added to inventory                                                           |\n",
    "| `sold_at`                        | Timestamp when the product was sold (null if unsold)                                                        |\n",
    "| `cost`                           | Cost to the business for this unit (wholesale price)                                                        |\n",
    "| `product_category`               | Category label for the product (e.g., *Jumpsuits & Rompers*)                                                |\n",
    "| `product_name`                   | Full name or title of the product                                                                           |\n",
    "| `product_brand`                  | Brand/manufacturer of the product                                                                           |\n",
    "| `product_retail_price`           | Suggested retail price or sale price to customer                                                            |\n",
    "| `product_department`             | Department the product belongs to (e.g., *Women*)                                                           |\n",
    "| `product_sku`                    | Unique stock keeping unit (SKU) for inventory tracking                                                      |\n",
    "| `product_distribution_center_id` | Foreign key linking to the distribution center where the item is stocked (join with `distribution_centers`) |\n"
   ]
  },
  {
   "cell_type": "code",
   "execution_count": 8,
   "id": "230f0f60-f813-446b-8819-d3601e53a44c",
   "metadata": {},
   "outputs": [
    {
     "data": {
      "text/html": [
       "<div>\n",
       "<style scoped>\n",
       "    .dataframe tbody tr th:only-of-type {\n",
       "        vertical-align: middle;\n",
       "    }\n",
       "\n",
       "    .dataframe tbody tr th {\n",
       "        vertical-align: top;\n",
       "    }\n",
       "\n",
       "    .dataframe thead th {\n",
       "        text-align: right;\n",
       "    }\n",
       "</style>\n",
       "<table border=\"1\" class=\"dataframe\">\n",
       "  <thead>\n",
       "    <tr style=\"text-align: right;\">\n",
       "      <th></th>\n",
       "      <th>id</th>\n",
       "      <th>order_id</th>\n",
       "      <th>user_id</th>\n",
       "      <th>product_id</th>\n",
       "      <th>inventory_item_id</th>\n",
       "      <th>status</th>\n",
       "      <th>created_at</th>\n",
       "      <th>shipped_at</th>\n",
       "      <th>delivered_at</th>\n",
       "      <th>returned_at</th>\n",
       "      <th>sale_price</th>\n",
       "    </tr>\n",
       "  </thead>\n",
       "  <tbody>\n",
       "    <tr>\n",
       "      <th>0</th>\n",
       "      <td>111996</td>\n",
       "      <td>77190</td>\n",
       "      <td>61515</td>\n",
       "      <td>14235</td>\n",
       "      <td>302621</td>\n",
       "      <td>Complete</td>\n",
       "      <td>2023-05-24 20:52:01+00:00</td>\n",
       "      <td>2023-05-26 10:55:00+00:00</td>\n",
       "      <td>2023-05-29 12:40:00+00:00</td>\n",
       "      <td>NaT</td>\n",
       "      <td>0.02</td>\n",
       "    </tr>\n",
       "    <tr>\n",
       "      <th>1</th>\n",
       "      <td>46135</td>\n",
       "      <td>31723</td>\n",
       "      <td>25296</td>\n",
       "      <td>14235</td>\n",
       "      <td>124693</td>\n",
       "      <td>Processing</td>\n",
       "      <td>2025-08-07 04:48:18+00:00</td>\n",
       "      <td>NaT</td>\n",
       "      <td>NaT</td>\n",
       "      <td>NaT</td>\n",
       "      <td>0.02</td>\n",
       "    </tr>\n",
       "    <tr>\n",
       "      <th>2</th>\n",
       "      <td>51295</td>\n",
       "      <td>35248</td>\n",
       "      <td>28132</td>\n",
       "      <td>14235</td>\n",
       "      <td>138612</td>\n",
       "      <td>Returned</td>\n",
       "      <td>2024-02-26 09:48:25+00:00</td>\n",
       "      <td>2024-02-28 17:19:00+00:00</td>\n",
       "      <td>2024-03-03 03:36:00+00:00</td>\n",
       "      <td>2024-03-04 06:32:00+00:00</td>\n",
       "      <td>0.02</td>\n",
       "    </tr>\n",
       "    <tr>\n",
       "      <th>3</th>\n",
       "      <td>51986</td>\n",
       "      <td>35737</td>\n",
       "      <td>28544</td>\n",
       "      <td>14235</td>\n",
       "      <td>140490</td>\n",
       "      <td>Shipped</td>\n",
       "      <td>2023-06-15 12:07:34+00:00</td>\n",
       "      <td>2023-06-18 06:34:00+00:00</td>\n",
       "      <td>NaT</td>\n",
       "      <td>NaT</td>\n",
       "      <td>0.02</td>\n",
       "    </tr>\n",
       "    <tr>\n",
       "      <th>4</th>\n",
       "      <td>95388</td>\n",
       "      <td>65821</td>\n",
       "      <td>52487</td>\n",
       "      <td>14235</td>\n",
       "      <td>257767</td>\n",
       "      <td>Shipped</td>\n",
       "      <td>2025-02-12 00:52:53+00:00</td>\n",
       "      <td>2025-02-11 04:32:00+00:00</td>\n",
       "      <td>NaT</td>\n",
       "      <td>NaT</td>\n",
       "      <td>0.02</td>\n",
       "    </tr>\n",
       "  </tbody>\n",
       "</table>\n",
       "</div>"
      ],
      "text/plain": [
       "       id  order_id  user_id  product_id  inventory_item_id      status  \\\n",
       "0  111996     77190    61515       14235             302621    Complete   \n",
       "1   46135     31723    25296       14235             124693  Processing   \n",
       "2   51295     35248    28132       14235             138612    Returned   \n",
       "3   51986     35737    28544       14235             140490     Shipped   \n",
       "4   95388     65821    52487       14235             257767     Shipped   \n",
       "\n",
       "                 created_at                shipped_at  \\\n",
       "0 2023-05-24 20:52:01+00:00 2023-05-26 10:55:00+00:00   \n",
       "1 2025-08-07 04:48:18+00:00                       NaT   \n",
       "2 2024-02-26 09:48:25+00:00 2024-02-28 17:19:00+00:00   \n",
       "3 2023-06-15 12:07:34+00:00 2023-06-18 06:34:00+00:00   \n",
       "4 2025-02-12 00:52:53+00:00 2025-02-11 04:32:00+00:00   \n",
       "\n",
       "               delivered_at               returned_at  sale_price  \n",
       "0 2023-05-29 12:40:00+00:00                       NaT        0.02  \n",
       "1                       NaT                       NaT        0.02  \n",
       "2 2024-03-03 03:36:00+00:00 2024-03-04 06:32:00+00:00        0.02  \n",
       "3                       NaT                       NaT        0.02  \n",
       "4                       NaT                       NaT        0.02  "
      ]
     },
     "execution_count": 8,
     "metadata": {},
     "output_type": "execute_result"
    }
   ],
   "source": [
    "orderitems_df = thelook_dfs['order_items']\n",
    "orderitems_df.head(5)"
   ]
  },
  {
   "cell_type": "markdown",
   "id": "49095e9a-319e-4de7-96e8-1ca5e2d04d74",
   "metadata": {},
   "source": [
    "**orderitems_df**\n",
    "\n",
    "| Column Name         | Description                                                                    |\n",
    "| ------------------- | ------------------------------------------------------------------------------ |\n",
    "| `id`                | Unique identifier for each order item (line item)                              |\n",
    "| `order_id`          | Foreign key referencing the `orders` table (represents the main order)         |\n",
    "| `user_id`           | ID of the customer who placed the order                                        |\n",
    "| `product_id`        | ID of the product ordered (from `products` or `inventories` table)             |\n",
    "| `inventory_item_id` | Foreign key linking to the specific item in the inventory (from `inventories`) |\n",
    "| `status`            | Status of the item within the order: `Complete`, `Cancelled`, etc.             |\n",
    "| `created_at`        | Timestamp when the item was added to the order                                 |\n",
    "| `shipped_at`        | Timestamp when the item was shipped                                            |\n",
    "| `delivered_at`      | Timestamp when the item was delivered                                          |\n",
    "| `returned_at`       | Timestamp if the item was returned                                             |\n",
    "| `sale_price`        | Price at which the item was sold to the customer                               |\n"
   ]
  },
  {
   "cell_type": "code",
   "execution_count": 9,
   "id": "b9e69d41-2a17-45a8-a168-c06267cfff89",
   "metadata": {},
   "outputs": [
    {
     "data": {
      "text/html": [
       "<div>\n",
       "<style scoped>\n",
       "    .dataframe tbody tr th:only-of-type {\n",
       "        vertical-align: middle;\n",
       "    }\n",
       "\n",
       "    .dataframe tbody tr th {\n",
       "        vertical-align: top;\n",
       "    }\n",
       "\n",
       "    .dataframe thead th {\n",
       "        text-align: right;\n",
       "    }\n",
       "</style>\n",
       "<table border=\"1\" class=\"dataframe\">\n",
       "  <thead>\n",
       "    <tr style=\"text-align: right;\">\n",
       "      <th></th>\n",
       "      <th>id</th>\n",
       "      <th>cost</th>\n",
       "      <th>category</th>\n",
       "      <th>name</th>\n",
       "      <th>brand</th>\n",
       "      <th>retail_price</th>\n",
       "      <th>department</th>\n",
       "      <th>sku</th>\n",
       "      <th>distribution_center_id</th>\n",
       "    </tr>\n",
       "  </thead>\n",
       "  <tbody>\n",
       "    <tr>\n",
       "      <th>0</th>\n",
       "      <td>13842</td>\n",
       "      <td>2.51875</td>\n",
       "      <td>Accessories</td>\n",
       "      <td>Low Profile Dyed Cotton Twill Cap - Navy W39S55D</td>\n",
       "      <td>MG</td>\n",
       "      <td>6.25</td>\n",
       "      <td>Women</td>\n",
       "      <td>EBD58B8A3F1D72F4206201DA62FB1204</td>\n",
       "      <td>1</td>\n",
       "    </tr>\n",
       "    <tr>\n",
       "      <th>1</th>\n",
       "      <td>13928</td>\n",
       "      <td>2.33835</td>\n",
       "      <td>Accessories</td>\n",
       "      <td>Low Profile Dyed Cotton Twill Cap - Putty W39S55D</td>\n",
       "      <td>MG</td>\n",
       "      <td>5.95</td>\n",
       "      <td>Women</td>\n",
       "      <td>2EAC42424D12436BDD6A5B8A88480CC3</td>\n",
       "      <td>1</td>\n",
       "    </tr>\n",
       "    <tr>\n",
       "      <th>2</th>\n",
       "      <td>14115</td>\n",
       "      <td>4.87956</td>\n",
       "      <td>Accessories</td>\n",
       "      <td>Enzyme Regular Solid Army Caps-Black W35S45D</td>\n",
       "      <td>MG</td>\n",
       "      <td>10.99</td>\n",
       "      <td>Women</td>\n",
       "      <td>EE364229B2791D1EF9355708EFF0BA34</td>\n",
       "      <td>1</td>\n",
       "    </tr>\n",
       "    <tr>\n",
       "      <th>3</th>\n",
       "      <td>14157</td>\n",
       "      <td>4.64877</td>\n",
       "      <td>Accessories</td>\n",
       "      <td>Enzyme Regular Solid Army Caps-Olive W35S45D (...</td>\n",
       "      <td>MG</td>\n",
       "      <td>10.99</td>\n",
       "      <td>Women</td>\n",
       "      <td>00BD13095D06C20B11A2993CA419D16B</td>\n",
       "      <td>1</td>\n",
       "    </tr>\n",
       "    <tr>\n",
       "      <th>4</th>\n",
       "      <td>14273</td>\n",
       "      <td>6.50793</td>\n",
       "      <td>Accessories</td>\n",
       "      <td>Washed Canvas Ivy Cap - Black W11S64C</td>\n",
       "      <td>MG</td>\n",
       "      <td>15.99</td>\n",
       "      <td>Women</td>\n",
       "      <td>F531DC20FDE20B7ADF3A73F52B71D0AF</td>\n",
       "      <td>1</td>\n",
       "    </tr>\n",
       "  </tbody>\n",
       "</table>\n",
       "</div>"
      ],
      "text/plain": [
       "      id     cost     category  \\\n",
       "0  13842  2.51875  Accessories   \n",
       "1  13928  2.33835  Accessories   \n",
       "2  14115  4.87956  Accessories   \n",
       "3  14157  4.64877  Accessories   \n",
       "4  14273  6.50793  Accessories   \n",
       "\n",
       "                                                name brand  retail_price  \\\n",
       "0   Low Profile Dyed Cotton Twill Cap - Navy W39S55D    MG          6.25   \n",
       "1  Low Profile Dyed Cotton Twill Cap - Putty W39S55D    MG          5.95   \n",
       "2       Enzyme Regular Solid Army Caps-Black W35S45D    MG         10.99   \n",
       "3  Enzyme Regular Solid Army Caps-Olive W35S45D (...    MG         10.99   \n",
       "4              Washed Canvas Ivy Cap - Black W11S64C    MG         15.99   \n",
       "\n",
       "  department                               sku  distribution_center_id  \n",
       "0      Women  EBD58B8A3F1D72F4206201DA62FB1204                       1  \n",
       "1      Women  2EAC42424D12436BDD6A5B8A88480CC3                       1  \n",
       "2      Women  EE364229B2791D1EF9355708EFF0BA34                       1  \n",
       "3      Women  00BD13095D06C20B11A2993CA419D16B                       1  \n",
       "4      Women  F531DC20FDE20B7ADF3A73F52B71D0AF                       1  "
      ]
     },
     "execution_count": 9,
     "metadata": {},
     "output_type": "execute_result"
    }
   ],
   "source": [
    "products_df = thelook_dfs['products']\n",
    "products_df.head(5)"
   ]
  },
  {
   "cell_type": "markdown",
   "id": "232beb8f-857e-4de5-a0bf-0dd41fa25672",
   "metadata": {},
   "source": [
    "**products_df**\n",
    "\n",
    "| Column Name              | Description                                                                                                      |\n",
    "| ------------------------ | ---------------------------------------------------------------------------------------------------------------- |\n",
    "| `id`                     | Unique product ID                                                                                                |\n",
    "| `cost`                   | Internal cost of the product for the retailer                                                                    |\n",
    "| `category`               | Product category (e.g., Accessories, Tops, Shoes)                                                                |\n",
    "| `name`                   | Full name or description of the product                                                                          |\n",
    "| `brand`                  | Brand or manufacturer of the product                                                                             |\n",
    "| `retail_price`           | Recommended retail price for the product                                                                         |\n",
    "| `department`             | Department the product belongs to (e.g., Women, Men, Kids)                                                       |\n",
    "| `sku`                    | Stock Keeping Unit: unique code used to identify and track inventory                                             |\n",
    "| `distribution_center_id` | Foreign key linking to the `distribution_centers` table, indicating where the product is stocked or shipped from |\n"
   ]
  },
  {
   "cell_type": "code",
   "execution_count": 10,
   "id": "80a08e65-8c2b-4e18-8baa-ede2a2ea97a7",
   "metadata": {},
   "outputs": [
    {
     "data": {
      "text/html": [
       "<div>\n",
       "<style scoped>\n",
       "    .dataframe tbody tr th:only-of-type {\n",
       "        vertical-align: middle;\n",
       "    }\n",
       "\n",
       "    .dataframe tbody tr th {\n",
       "        vertical-align: top;\n",
       "    }\n",
       "\n",
       "    .dataframe thead th {\n",
       "        text-align: right;\n",
       "    }\n",
       "</style>\n",
       "<table border=\"1\" class=\"dataframe\">\n",
       "  <thead>\n",
       "    <tr style=\"text-align: right;\">\n",
       "      <th></th>\n",
       "      <th>id</th>\n",
       "      <th>first_name</th>\n",
       "      <th>last_name</th>\n",
       "      <th>email</th>\n",
       "      <th>age</th>\n",
       "      <th>gender</th>\n",
       "      <th>state</th>\n",
       "      <th>street_address</th>\n",
       "      <th>postal_code</th>\n",
       "      <th>city</th>\n",
       "      <th>country</th>\n",
       "      <th>latitude</th>\n",
       "      <th>longitude</th>\n",
       "      <th>traffic_source</th>\n",
       "      <th>created_at</th>\n",
       "      <th>user_geom</th>\n",
       "    </tr>\n",
       "  </thead>\n",
       "  <tbody>\n",
       "    <tr>\n",
       "      <th>0</th>\n",
       "      <td>72463</td>\n",
       "      <td>Russell</td>\n",
       "      <td>Lloyd</td>\n",
       "      <td>russelllloyd@example.net</td>\n",
       "      <td>61</td>\n",
       "      <td>M</td>\n",
       "      <td>Acre</td>\n",
       "      <td>14277 Brown Fork</td>\n",
       "      <td>69980-000</td>\n",
       "      <td>null</td>\n",
       "      <td>Brasil</td>\n",
       "      <td>-8.065346</td>\n",
       "      <td>-72.870949</td>\n",
       "      <td>Search</td>\n",
       "      <td>2021-02-25 06:06:00+00:00</td>\n",
       "      <td>POINT(-72.87094866 -8.065346116)</td>\n",
       "    </tr>\n",
       "    <tr>\n",
       "      <th>1</th>\n",
       "      <td>18973</td>\n",
       "      <td>Megan</td>\n",
       "      <td>Miles</td>\n",
       "      <td>meganmiles@example.com</td>\n",
       "      <td>16</td>\n",
       "      <td>F</td>\n",
       "      <td>Acre</td>\n",
       "      <td>31738 Briana Villages</td>\n",
       "      <td>69980-000</td>\n",
       "      <td>null</td>\n",
       "      <td>Brasil</td>\n",
       "      <td>-8.065346</td>\n",
       "      <td>-72.870949</td>\n",
       "      <td>Search</td>\n",
       "      <td>2024-11-27 05:52:00+00:00</td>\n",
       "      <td>POINT(-72.87094866 -8.065346116)</td>\n",
       "    </tr>\n",
       "    <tr>\n",
       "      <th>2</th>\n",
       "      <td>17109</td>\n",
       "      <td>Tyler</td>\n",
       "      <td>Alvarado</td>\n",
       "      <td>tyleralvarado@example.com</td>\n",
       "      <td>19</td>\n",
       "      <td>M</td>\n",
       "      <td>Acre</td>\n",
       "      <td>713 Ricky Estates</td>\n",
       "      <td>69980-000</td>\n",
       "      <td>null</td>\n",
       "      <td>Brasil</td>\n",
       "      <td>-8.065346</td>\n",
       "      <td>-72.870949</td>\n",
       "      <td>Organic</td>\n",
       "      <td>2023-09-21 10:57:00+00:00</td>\n",
       "      <td>POINT(-72.87094866 -8.065346116)</td>\n",
       "    </tr>\n",
       "    <tr>\n",
       "      <th>3</th>\n",
       "      <td>9331</td>\n",
       "      <td>Jose</td>\n",
       "      <td>Moore</td>\n",
       "      <td>josemoore@example.org</td>\n",
       "      <td>19</td>\n",
       "      <td>M</td>\n",
       "      <td>Acre</td>\n",
       "      <td>22030 Katelyn Estate Apt. 252</td>\n",
       "      <td>69980-000</td>\n",
       "      <td>null</td>\n",
       "      <td>Brasil</td>\n",
       "      <td>-8.065346</td>\n",
       "      <td>-72.870949</td>\n",
       "      <td>Search</td>\n",
       "      <td>2021-04-16 13:46:00+00:00</td>\n",
       "      <td>POINT(-72.87094866 -8.065346116)</td>\n",
       "    </tr>\n",
       "    <tr>\n",
       "      <th>4</th>\n",
       "      <td>80443</td>\n",
       "      <td>Lance</td>\n",
       "      <td>Newman</td>\n",
       "      <td>lancenewman@example.net</td>\n",
       "      <td>36</td>\n",
       "      <td>M</td>\n",
       "      <td>Acre</td>\n",
       "      <td>069 Dennis Trail</td>\n",
       "      <td>69980-000</td>\n",
       "      <td>null</td>\n",
       "      <td>Brasil</td>\n",
       "      <td>-8.065346</td>\n",
       "      <td>-72.870949</td>\n",
       "      <td>Search</td>\n",
       "      <td>2019-11-05 02:40:00+00:00</td>\n",
       "      <td>POINT(-72.87094866 -8.065346116)</td>\n",
       "    </tr>\n",
       "  </tbody>\n",
       "</table>\n",
       "</div>"
      ],
      "text/plain": [
       "      id first_name last_name                      email  age gender state  \\\n",
       "0  72463    Russell     Lloyd   russelllloyd@example.net   61      M  Acre   \n",
       "1  18973      Megan     Miles     meganmiles@example.com   16      F  Acre   \n",
       "2  17109      Tyler  Alvarado  tyleralvarado@example.com   19      M  Acre   \n",
       "3   9331       Jose     Moore      josemoore@example.org   19      M  Acre   \n",
       "4  80443      Lance    Newman    lancenewman@example.net   36      M  Acre   \n",
       "\n",
       "                  street_address postal_code  city country  latitude  \\\n",
       "0               14277 Brown Fork   69980-000  null  Brasil -8.065346   \n",
       "1          31738 Briana Villages   69980-000  null  Brasil -8.065346   \n",
       "2              713 Ricky Estates   69980-000  null  Brasil -8.065346   \n",
       "3  22030 Katelyn Estate Apt. 252   69980-000  null  Brasil -8.065346   \n",
       "4               069 Dennis Trail   69980-000  null  Brasil -8.065346   \n",
       "\n",
       "   longitude traffic_source                created_at  \\\n",
       "0 -72.870949         Search 2021-02-25 06:06:00+00:00   \n",
       "1 -72.870949         Search 2024-11-27 05:52:00+00:00   \n",
       "2 -72.870949        Organic 2023-09-21 10:57:00+00:00   \n",
       "3 -72.870949         Search 2021-04-16 13:46:00+00:00   \n",
       "4 -72.870949         Search 2019-11-05 02:40:00+00:00   \n",
       "\n",
       "                          user_geom  \n",
       "0  POINT(-72.87094866 -8.065346116)  \n",
       "1  POINT(-72.87094866 -8.065346116)  \n",
       "2  POINT(-72.87094866 -8.065346116)  \n",
       "3  POINT(-72.87094866 -8.065346116)  \n",
       "4  POINT(-72.87094866 -8.065346116)  "
      ]
     },
     "execution_count": 10,
     "metadata": {},
     "output_type": "execute_result"
    }
   ],
   "source": [
    "users_df = thelook_dfs['users']\n",
    "users_df.head(5)"
   ]
  },
  {
   "cell_type": "markdown",
   "id": "b3f64b63-38f9-47f5-825e-214bff68e0c1",
   "metadata": {},
   "source": [
    "**users_df dictionary**\n",
    "\n",
    "  | Column Name      | Description                                                                                |\n",
    "| ---------------- | ------------------------------------------------------------------------------------------ |\n",
    "| `id`             | Unique identifier for the user (primary key)                                               |\n",
    "| `first_name`     | User's first name                                                                          |\n",
    "| `last_name`      | User's last name                                                                           |\n",
    "| `email`          | User's email address                                                                       |\n",
    "| `age`            | Age of the user                                                                            |\n",
    "| `gender`         | Gender of the user (`M`, `F`, or other)                                                    |\n",
    "| `state`          | State of residence (e.g., Acre)                                                            |\n",
    "| `street_address` | Full street address of the user                                                            |\n",
    "| `postal_code`    | Postal or ZIP code                                                                         |\n",
    "| `city`           | City (some entries may be `null`)                                                          |\n",
    "| `country`        | Country of residence (e.g., Brasil)                                                        |\n",
    "| `latitude`       | Latitude coordinate of the user's address                                                  |\n",
    "| `longitude`      | Longitude coordinate of the user's address                                                 |\n",
    "| `traffic_source` | Original acquisition source (e.g., Facebook, Email, Search, Organic)                       |\n",
    "| `created_at`     | Timestamp of when the user was created in the system                                       |\n",
    "| `user_geom`      | Spatial data point combining `longitude` and `latitude` (for mapping and geospatial joins) |\n"
   ]
  },
  {
   "cell_type": "markdown",
   "id": "eb2a4e11-0b9d-4604-af17-9f7821da02a6",
   "metadata": {},
   "source": [
    "### Data Cleaning & Exploration"
   ]
  },
  {
   "cell_type": "markdown",
   "id": "6ef16a7f-4d77-4017-8701-eb6c8a834ffe",
   "metadata": {},
   "source": [
    "#### orders_df"
   ]
  },
  {
   "cell_type": "code",
   "execution_count": 11,
   "id": "99e8a6ad-7292-46dd-8f83-fa7fc0677b01",
   "metadata": {},
   "outputs": [
    {
     "data": {
      "text/plain": [
       "(125188, 9)"
      ]
     },
     "execution_count": 11,
     "metadata": {},
     "output_type": "execute_result"
    }
   ],
   "source": [
    "# number of colums\n",
    "orders_df.shape"
   ]
  },
  {
   "cell_type": "code",
   "execution_count": 12,
   "id": "894c6535-6cd0-4cc1-ba78-1f0ae25ae297",
   "metadata": {},
   "outputs": [
    {
     "name": "stdout",
     "output_type": "stream",
     "text": [
      "<class 'pandas.core.frame.DataFrame'>\n",
      "RangeIndex: 125188 entries, 0 to 125187\n",
      "Data columns (total 9 columns):\n",
      " #   Column        Non-Null Count   Dtype              \n",
      "---  ------        --------------   -----              \n",
      " 0   order_id      125188 non-null  Int64              \n",
      " 1   user_id       125188 non-null  Int64              \n",
      " 2   status        125188 non-null  object             \n",
      " 3   gender        125188 non-null  object             \n",
      " 4   created_at    125188 non-null  datetime64[us, UTC]\n",
      " 5   returned_at   12347 non-null   datetime64[us, UTC]\n",
      " 6   shipped_at    81376 non-null   datetime64[us, UTC]\n",
      " 7   delivered_at  43917 non-null   datetime64[us, UTC]\n",
      " 8   num_of_item   125188 non-null  Int64              \n",
      "dtypes: Int64(3), datetime64[us, UTC](4), object(2)\n",
      "memory usage: 9.0+ MB\n"
     ]
    }
   ],
   "source": [
    "# Check data type of the orders_df\n",
    "\n",
    "orders_df.info()"
   ]
  },
  {
   "cell_type": "code",
   "execution_count": 13,
   "id": "1a7c77a2-17ab-4200-9b94-d60ccaaf7ec3",
   "metadata": {},
   "outputs": [
    {
     "data": {
      "text/plain": [
       "order_id             0\n",
       "user_id              0\n",
       "status               0\n",
       "gender               0\n",
       "created_at           0\n",
       "returned_at     112841\n",
       "shipped_at       43812\n",
       "delivered_at     81271\n",
       "num_of_item          0\n",
       "dtype: int64"
      ]
     },
     "execution_count": 13,
     "metadata": {},
     "output_type": "execute_result"
    }
   ],
   "source": [
    "# Check for null values\n",
    "\n",
    "orders_df.isnull().sum()"
   ]
  },
  {
   "cell_type": "code",
   "execution_count": 14,
   "id": "dec1036f-da73-49ea-922e-595b75b77b89",
   "metadata": {},
   "outputs": [
    {
     "data": {
      "text/plain": [
       "array(['Cancelled', 'Complete', 'Processing', 'Returned', 'Shipped'],\n",
       "      dtype=object)"
      ]
     },
     "execution_count": 14,
     "metadata": {},
     "output_type": "execute_result"
    }
   ],
   "source": [
    "orders_df['status'].unique()"
   ]
  },
  {
   "cell_type": "code",
   "execution_count": 15,
   "id": "ef2cd9cf-e0b0-4b03-a3b2-3f059346909f",
   "metadata": {},
   "outputs": [
    {
     "data": {
      "text/plain": [
       "status\n",
       "Shipped       0.299222\n",
       "Complete      0.252181\n",
       "Processing    0.201042\n",
       "Cancelled     0.148928\n",
       "Returned      0.098628\n",
       "Name: proportion, dtype: float64"
      ]
     },
     "execution_count": 15,
     "metadata": {},
     "output_type": "execute_result"
    }
   ],
   "source": [
    "orders_df['status'].value_counts(normalize = True)"
   ]
  },
  {
   "cell_type": "code",
   "execution_count": 16,
   "id": "f9acb9b7-ae57-486a-88a6-f7e66d18e8fe",
   "metadata": {},
   "outputs": [
    {
     "data": {
      "text/plain": [
       "gender\n",
       "F    0.500447\n",
       "M    0.499553\n",
       "Name: proportion, dtype: float64"
      ]
     },
     "execution_count": 16,
     "metadata": {},
     "output_type": "execute_result"
    }
   ],
   "source": [
    "# unique values and proportion of items in gender\n",
    "\n",
    "orders_df['gender'].value_counts(normalize = True)"
   ]
  },
  {
   "cell_type": "code",
   "execution_count": 17,
   "id": "4959c9c8-8021-4475-97c9-342e84db1da8",
   "metadata": {},
   "outputs": [
    {
     "data": {
      "text/html": [
       "<div>\n",
       "<style scoped>\n",
       "    .dataframe tbody tr th:only-of-type {\n",
       "        vertical-align: middle;\n",
       "    }\n",
       "\n",
       "    .dataframe tbody tr th {\n",
       "        vertical-align: top;\n",
       "    }\n",
       "\n",
       "    .dataframe thead th {\n",
       "        text-align: right;\n",
       "    }\n",
       "</style>\n",
       "<table border=\"1\" class=\"dataframe\">\n",
       "  <thead>\n",
       "    <tr style=\"text-align: right;\">\n",
       "      <th></th>\n",
       "      <th>order_id</th>\n",
       "      <th>user_id</th>\n",
       "      <th>num_of_item</th>\n",
       "    </tr>\n",
       "  </thead>\n",
       "  <tbody>\n",
       "    <tr>\n",
       "      <th>count</th>\n",
       "      <td>125188.0</td>\n",
       "      <td>125188.0</td>\n",
       "      <td>125188.0</td>\n",
       "    </tr>\n",
       "    <tr>\n",
       "      <th>mean</th>\n",
       "      <td>62594.5</td>\n",
       "      <td>49975.070798</td>\n",
       "      <td>1.450594</td>\n",
       "    </tr>\n",
       "    <tr>\n",
       "      <th>std</th>\n",
       "      <td>36138.807087</td>\n",
       "      <td>28894.560164</td>\n",
       "      <td>0.807067</td>\n",
       "    </tr>\n",
       "    <tr>\n",
       "      <th>min</th>\n",
       "      <td>1.0</td>\n",
       "      <td>1.0</td>\n",
       "      <td>1.0</td>\n",
       "    </tr>\n",
       "    <tr>\n",
       "      <th>25%</th>\n",
       "      <td>31297.75</td>\n",
       "      <td>24937.5</td>\n",
       "      <td>1.0</td>\n",
       "    </tr>\n",
       "    <tr>\n",
       "      <th>50%</th>\n",
       "      <td>62594.5</td>\n",
       "      <td>49964.0</td>\n",
       "      <td>1.0</td>\n",
       "    </tr>\n",
       "    <tr>\n",
       "      <th>75%</th>\n",
       "      <td>93891.25</td>\n",
       "      <td>74968.25</td>\n",
       "      <td>2.0</td>\n",
       "    </tr>\n",
       "    <tr>\n",
       "      <th>max</th>\n",
       "      <td>125188.0</td>\n",
       "      <td>100000.0</td>\n",
       "      <td>4.0</td>\n",
       "    </tr>\n",
       "  </tbody>\n",
       "</table>\n",
       "</div>"
      ],
      "text/plain": [
       "           order_id       user_id  num_of_item\n",
       "count      125188.0      125188.0     125188.0\n",
       "mean        62594.5  49975.070798     1.450594\n",
       "std    36138.807087  28894.560164     0.807067\n",
       "min             1.0           1.0          1.0\n",
       "25%        31297.75       24937.5          1.0\n",
       "50%         62594.5       49964.0          1.0\n",
       "75%        93891.25      74968.25          2.0\n",
       "max        125188.0      100000.0          4.0"
      ]
     },
     "execution_count": 17,
     "metadata": {},
     "output_type": "execute_result"
    }
   ],
   "source": [
    "orders_df.describe()"
   ]
  },
  {
   "cell_type": "markdown",
   "id": "68e3c303-3d3b-4e91-9acd-9a8467f4903d",
   "metadata": {},
   "source": [
    "**distribution_df (Distribution center)**"
   ]
  },
  {
   "cell_type": "markdown",
   "id": "d15fb16b-1018-4783-9d74-a62f868742c0",
   "metadata": {},
   "source": [
    "**Null values interpretation**\n",
    "\n",
    "The order_df has 112122 null valued for returned_at, this indicates that 112122 were not returned, 43852 were never shipped, and 81210 has no delivery time, perhaps because they were never delivered. This could include:\n",
    "\n",
    "- Orders that were cancelled before delivery.\n",
    "\n",
    "- Orders that are still in transit.\n",
    "\n",
    "- Orders that were lost or failed delivery.\n",
    "\n",
    "**Status Value counts**\n",
    "\n",
    "About 29.85% of orders were shipped but not yet marked as delivered, 25.14 were succesfully delivered, 19.92 % are currenly been processed, 15.11 % were cancelled before completion and 9.96 orders were delivered by returned by customers. \n",
    "\n",
    "**Gender**\n",
    "\n",
    "`50.06` % of customers are Male and  `49.93` are female\n",
    "\n",
    "**.decribe**\n",
    "\n",
    "50% media of all orders contain 1 item and 75% of order contain 2 items and the maximum number of items ordered in a single order is 4"
   ]
  },
  {
   "cell_type": "code",
   "execution_count": 18,
   "id": "3a6a0eb0-a302-44c9-8411-f88268e83eb4",
   "metadata": {},
   "outputs": [
    {
     "data": {
      "text/html": [
       "<div>\n",
       "<style scoped>\n",
       "    .dataframe tbody tr th:only-of-type {\n",
       "        vertical-align: middle;\n",
       "    }\n",
       "\n",
       "    .dataframe tbody tr th {\n",
       "        vertical-align: top;\n",
       "    }\n",
       "\n",
       "    .dataframe thead th {\n",
       "        text-align: right;\n",
       "    }\n",
       "</style>\n",
       "<table border=\"1\" class=\"dataframe\">\n",
       "  <thead>\n",
       "    <tr style=\"text-align: right;\">\n",
       "      <th></th>\n",
       "      <th>id</th>\n",
       "      <th>name</th>\n",
       "      <th>latitude</th>\n",
       "      <th>longitude</th>\n",
       "      <th>distribution_center_geom</th>\n",
       "    </tr>\n",
       "  </thead>\n",
       "  <tbody>\n",
       "    <tr>\n",
       "      <th>0</th>\n",
       "      <td>8</td>\n",
       "      <td>Mobile AL</td>\n",
       "      <td>30.6944</td>\n",
       "      <td>-88.0431</td>\n",
       "      <td>POINT(-88.0431 30.6944)</td>\n",
       "    </tr>\n",
       "    <tr>\n",
       "      <th>1</th>\n",
       "      <td>9</td>\n",
       "      <td>Charleston SC</td>\n",
       "      <td>32.7833</td>\n",
       "      <td>-79.9333</td>\n",
       "      <td>POINT(-79.9333 32.7833)</td>\n",
       "    </tr>\n",
       "    <tr>\n",
       "      <th>2</th>\n",
       "      <td>6</td>\n",
       "      <td>Port Authority of New York/New Jersey NY/NJ</td>\n",
       "      <td>40.6340</td>\n",
       "      <td>-73.7834</td>\n",
       "      <td>POINT(-73.7834 40.634)</td>\n",
       "    </tr>\n",
       "    <tr>\n",
       "      <th>3</th>\n",
       "      <td>5</td>\n",
       "      <td>New Orleans LA</td>\n",
       "      <td>29.9500</td>\n",
       "      <td>-90.0667</td>\n",
       "      <td>POINT(-90.0667 29.95)</td>\n",
       "    </tr>\n",
       "    <tr>\n",
       "      <th>4</th>\n",
       "      <td>2</td>\n",
       "      <td>Chicago IL</td>\n",
       "      <td>41.8369</td>\n",
       "      <td>-87.6847</td>\n",
       "      <td>POINT(-87.6847 41.8369)</td>\n",
       "    </tr>\n",
       "  </tbody>\n",
       "</table>\n",
       "</div>"
      ],
      "text/plain": [
       "   id                                         name  latitude  longitude  \\\n",
       "0   8                                    Mobile AL   30.6944   -88.0431   \n",
       "1   9                                Charleston SC   32.7833   -79.9333   \n",
       "2   6  Port Authority of New York/New Jersey NY/NJ   40.6340   -73.7834   \n",
       "3   5                               New Orleans LA   29.9500   -90.0667   \n",
       "4   2                                   Chicago IL   41.8369   -87.6847   \n",
       "\n",
       "  distribution_center_geom  \n",
       "0  POINT(-88.0431 30.6944)  \n",
       "1  POINT(-79.9333 32.7833)  \n",
       "2   POINT(-73.7834 40.634)  \n",
       "3    POINT(-90.0667 29.95)  \n",
       "4  POINT(-87.6847 41.8369)  "
      ]
     },
     "execution_count": 18,
     "metadata": {},
     "output_type": "execute_result"
    }
   ],
   "source": [
    "distribution_df.head()"
   ]
  },
  {
   "cell_type": "code",
   "execution_count": 19,
   "id": "190e93f1-b61c-46e9-af8d-38f2b1501013",
   "metadata": {},
   "outputs": [
    {
     "data": {
      "text/plain": [
       "(10, 5)"
      ]
     },
     "execution_count": 19,
     "metadata": {},
     "output_type": "execute_result"
    }
   ],
   "source": [
    "# no of rows and columns\n",
    "distribution_df.shape"
   ]
  },
  {
   "cell_type": "code",
   "execution_count": 20,
   "id": "02e2adf1-d6f7-4996-b04e-797941b29297",
   "metadata": {},
   "outputs": [
    {
     "data": {
      "text/plain": [
       "id                          0\n",
       "name                        0\n",
       "latitude                    0\n",
       "longitude                   0\n",
       "distribution_center_geom    0\n",
       "dtype: int64"
      ]
     },
     "execution_count": 20,
     "metadata": {},
     "output_type": "execute_result"
    }
   ],
   "source": [
    "# check for null values\n",
    "\n",
    "distribution_df.isnull().sum()"
   ]
  },
  {
   "cell_type": "code",
   "execution_count": 21,
   "id": "bed377b9-025a-42ce-a2d0-417b5c8bed96",
   "metadata": {},
   "outputs": [
    {
     "name": "stdout",
     "output_type": "stream",
     "text": [
      "<class 'pandas.core.frame.DataFrame'>\n",
      "RangeIndex: 10 entries, 0 to 9\n",
      "Data columns (total 5 columns):\n",
      " #   Column                    Non-Null Count  Dtype  \n",
      "---  ------                    --------------  -----  \n",
      " 0   id                        10 non-null     Int64  \n",
      " 1   name                      10 non-null     object \n",
      " 2   latitude                  10 non-null     float64\n",
      " 3   longitude                 10 non-null     float64\n",
      " 4   distribution_center_geom  10 non-null     object \n",
      "dtypes: Int64(1), float64(2), object(2)\n",
      "memory usage: 542.0+ bytes\n"
     ]
    }
   ],
   "source": [
    "distribution_df.info()"
   ]
  },
  {
   "cell_type": "markdown",
   "id": "1087cdf1-7abb-4ec3-bd30-b44c5d87a2a8",
   "metadata": {},
   "source": [
    "**events_df**"
   ]
  },
  {
   "cell_type": "code",
   "execution_count": 22,
   "id": "cb458854-7e41-4731-ad18-2c2152cbe56f",
   "metadata": {},
   "outputs": [
    {
     "data": {
      "text/plain": [
       "(2429240, 13)"
      ]
     },
     "execution_count": 22,
     "metadata": {},
     "output_type": "execute_result"
    }
   ],
   "source": [
    "# number of rows in the table\n",
    "events_df.shape"
   ]
  },
  {
   "cell_type": "code",
   "execution_count": 23,
   "id": "2ff0129f-402c-46c1-8ba5-5da144be1bc7",
   "metadata": {},
   "outputs": [
    {
     "data": {
      "text/html": [
       "<div>\n",
       "<style scoped>\n",
       "    .dataframe tbody tr th:only-of-type {\n",
       "        vertical-align: middle;\n",
       "    }\n",
       "\n",
       "    .dataframe tbody tr th {\n",
       "        vertical-align: top;\n",
       "    }\n",
       "\n",
       "    .dataframe thead th {\n",
       "        text-align: right;\n",
       "    }\n",
       "</style>\n",
       "<table border=\"1\" class=\"dataframe\">\n",
       "  <thead>\n",
       "    <tr style=\"text-align: right;\">\n",
       "      <th></th>\n",
       "      <th>id</th>\n",
       "      <th>user_id</th>\n",
       "      <th>sequence_number</th>\n",
       "      <th>session_id</th>\n",
       "      <th>created_at</th>\n",
       "      <th>ip_address</th>\n",
       "      <th>city</th>\n",
       "      <th>state</th>\n",
       "      <th>postal_code</th>\n",
       "      <th>browser</th>\n",
       "      <th>traffic_source</th>\n",
       "      <th>uri</th>\n",
       "      <th>event_type</th>\n",
       "    </tr>\n",
       "  </thead>\n",
       "  <tbody>\n",
       "    <tr>\n",
       "      <th>0</th>\n",
       "      <td>2252100</td>\n",
       "      <td>&lt;NA&gt;</td>\n",
       "      <td>3</td>\n",
       "      <td>e3fc7136-1c43-43ab-9de7-ce2ce5caff62</td>\n",
       "      <td>2022-06-27 11:57:00+00:00</td>\n",
       "      <td>16.139.234.95</td>\n",
       "      <td>São Paulo</td>\n",
       "      <td>São Paulo</td>\n",
       "      <td>02675-031</td>\n",
       "      <td>Firefox</td>\n",
       "      <td>Organic</td>\n",
       "      <td>/cancel</td>\n",
       "      <td>cancel</td>\n",
       "    </tr>\n",
       "    <tr>\n",
       "      <th>1</th>\n",
       "      <td>2285223</td>\n",
       "      <td>&lt;NA&gt;</td>\n",
       "      <td>3</td>\n",
       "      <td>903f30d8-4491-471c-bd44-5fc65375b069</td>\n",
       "      <td>2021-10-22 19:03:00+00:00</td>\n",
       "      <td>3.205.142.27</td>\n",
       "      <td>São Paulo</td>\n",
       "      <td>São Paulo</td>\n",
       "      <td>02675-031</td>\n",
       "      <td>IE</td>\n",
       "      <td>Facebook</td>\n",
       "      <td>/cancel</td>\n",
       "      <td>cancel</td>\n",
       "    </tr>\n",
       "    <tr>\n",
       "      <th>2</th>\n",
       "      <td>2217907</td>\n",
       "      <td>&lt;NA&gt;</td>\n",
       "      <td>3</td>\n",
       "      <td>1501e6b7-dbf7-4d4c-93e4-5c36e6c7b7af</td>\n",
       "      <td>2021-08-28 04:03:00+00:00</td>\n",
       "      <td>182.41.211.27</td>\n",
       "      <td>São Paulo</td>\n",
       "      <td>São Paulo</td>\n",
       "      <td>02675-031</td>\n",
       "      <td>Other</td>\n",
       "      <td>Email</td>\n",
       "      <td>/cancel</td>\n",
       "      <td>cancel</td>\n",
       "    </tr>\n",
       "    <tr>\n",
       "      <th>3</th>\n",
       "      <td>1517876</td>\n",
       "      <td>&lt;NA&gt;</td>\n",
       "      <td>3</td>\n",
       "      <td>f6072efc-f9e5-4a60-8e06-b4a7a8ecbf26</td>\n",
       "      <td>2020-10-24 09:25:00+00:00</td>\n",
       "      <td>71.67.3.226</td>\n",
       "      <td>São Paulo</td>\n",
       "      <td>São Paulo</td>\n",
       "      <td>04941-175</td>\n",
       "      <td>Firefox</td>\n",
       "      <td>Organic</td>\n",
       "      <td>/cancel</td>\n",
       "      <td>cancel</td>\n",
       "    </tr>\n",
       "    <tr>\n",
       "      <th>4</th>\n",
       "      <td>1754892</td>\n",
       "      <td>&lt;NA&gt;</td>\n",
       "      <td>3</td>\n",
       "      <td>3ca48bf1-822d-4bbf-87c4-4e0b91ad7878</td>\n",
       "      <td>2024-11-26 07:25:00+00:00</td>\n",
       "      <td>79.186.77.31</td>\n",
       "      <td>Embu-Guaçu</td>\n",
       "      <td>São Paulo</td>\n",
       "      <td>06900-000</td>\n",
       "      <td>Safari</td>\n",
       "      <td>Email</td>\n",
       "      <td>/cancel</td>\n",
       "      <td>cancel</td>\n",
       "    </tr>\n",
       "  </tbody>\n",
       "</table>\n",
       "</div>"
      ],
      "text/plain": [
       "        id  user_id  sequence_number                            session_id  \\\n",
       "0  2252100     <NA>                3  e3fc7136-1c43-43ab-9de7-ce2ce5caff62   \n",
       "1  2285223     <NA>                3  903f30d8-4491-471c-bd44-5fc65375b069   \n",
       "2  2217907     <NA>                3  1501e6b7-dbf7-4d4c-93e4-5c36e6c7b7af   \n",
       "3  1517876     <NA>                3  f6072efc-f9e5-4a60-8e06-b4a7a8ecbf26   \n",
       "4  1754892     <NA>                3  3ca48bf1-822d-4bbf-87c4-4e0b91ad7878   \n",
       "\n",
       "                 created_at     ip_address        city      state postal_code  \\\n",
       "0 2022-06-27 11:57:00+00:00  16.139.234.95   São Paulo  São Paulo   02675-031   \n",
       "1 2021-10-22 19:03:00+00:00   3.205.142.27   São Paulo  São Paulo   02675-031   \n",
       "2 2021-08-28 04:03:00+00:00  182.41.211.27   São Paulo  São Paulo   02675-031   \n",
       "3 2020-10-24 09:25:00+00:00    71.67.3.226   São Paulo  São Paulo   04941-175   \n",
       "4 2024-11-26 07:25:00+00:00   79.186.77.31  Embu-Guaçu  São Paulo   06900-000   \n",
       "\n",
       "   browser traffic_source      uri event_type  \n",
       "0  Firefox        Organic  /cancel     cancel  \n",
       "1       IE       Facebook  /cancel     cancel  \n",
       "2    Other          Email  /cancel     cancel  \n",
       "3  Firefox        Organic  /cancel     cancel  \n",
       "4   Safari          Email  /cancel     cancel  "
      ]
     },
     "execution_count": 23,
     "metadata": {},
     "output_type": "execute_result"
    }
   ],
   "source": [
    "events_df.head(5)"
   ]
  },
  {
   "cell_type": "code",
   "execution_count": 24,
   "id": "a25b6615-6f7e-4683-bbb8-faca87a892e1",
   "metadata": {},
   "outputs": [
    {
     "name": "stdout",
     "output_type": "stream",
     "text": [
      "<class 'pandas.core.frame.DataFrame'>\n",
      "RangeIndex: 2429240 entries, 0 to 2429239\n",
      "Data columns (total 13 columns):\n",
      " #   Column           Dtype              \n",
      "---  ------           -----              \n",
      " 0   id               Int64              \n",
      " 1   user_id          Int64              \n",
      " 2   sequence_number  Int64              \n",
      " 3   session_id       object             \n",
      " 4   created_at       datetime64[us, UTC]\n",
      " 5   ip_address       object             \n",
      " 6   city             object             \n",
      " 7   state            object             \n",
      " 8   postal_code      object             \n",
      " 9   browser          object             \n",
      " 10  traffic_source   object             \n",
      " 11  uri              object             \n",
      " 12  event_type       object             \n",
      "dtypes: Int64(3), datetime64[us, UTC](1), object(9)\n",
      "memory usage: 247.9+ MB\n"
     ]
    }
   ],
   "source": [
    "#check data types\n",
    "events_df.info()"
   ]
  },
  {
   "cell_type": "code",
   "execution_count": 25,
   "id": "d33bb8ba-5415-46f4-84fa-424f5b90029d",
   "metadata": {},
   "outputs": [
    {
     "data": {
      "text/plain": [
       "id                       0\n",
       "user_id            1125021\n",
       "sequence_number          0\n",
       "session_id               0\n",
       "created_at               0\n",
       "ip_address               0\n",
       "city                     0\n",
       "state                    0\n",
       "postal_code              0\n",
       "browser                  0\n",
       "traffic_source           0\n",
       "uri                      0\n",
       "event_type               0\n",
       "dtype: int64"
      ]
     },
     "execution_count": 25,
     "metadata": {},
     "output_type": "execute_result"
    }
   ],
   "source": [
    "#check for null values\n",
    "\n",
    "events_df.isnull().sum()"
   ]
  },
  {
   "cell_type": "code",
   "execution_count": 26,
   "id": "607fb384-7e5c-4756-9d3c-376d4499e499",
   "metadata": {},
   "outputs": [
    {
     "data": {
      "text/plain": [
       "event_type\n",
       "product       0.444436\n",
       "department    0.222315\n",
       "cart          0.222265\n",
       "cancel        0.110984\n",
       "Name: proportion, dtype: float64"
      ]
     },
     "execution_count": 26,
     "metadata": {},
     "output_type": "execute_result"
    }
   ],
   "source": [
    "# For user who are not logged in, what kind of events did they generate and how often \n",
    "\n",
    "events_df[events_df['user_id'].isnull()]['event_type'].value_counts(normalize = True)"
   ]
  },
  {
   "cell_type": "code",
   "execution_count": 27,
   "id": "61855ffa-fe13-4987-bdfd-084e2805009b",
   "metadata": {},
   "outputs": [
    {
     "data": {
      "text/plain": [
       "array(['cancel', 'cart', 'department', 'home', 'product', 'purchase'],\n",
       "      dtype=object)"
      ]
     },
     "execution_count": 27,
     "metadata": {},
     "output_type": "execute_result"
    }
   ],
   "source": [
    "events_df['event_type'].unique()"
   ]
  },
  {
   "cell_type": "markdown",
   "id": "eb74b2b0-6d4b-49c6-81e7-ae0fea0dda42",
   "metadata": {},
   "source": [
    "**events_df breakdown**\n",
    "  \n",
    "The event table likely captures website /app user behaviour such as clicks, page visists and cancellations. user_id has 1125736 null values which could be customers who visited as guests, or people who simply did not sign in. \n",
    "\n",
    "Each website visitor, either signed in or not performs certain actions which are 'cancel', 'cart', 'department', 'home', 'product', 'purchase'\"\n",
    "\n",
    "**Why event type is important**\n",
    "\n",
    "These event types are valuable for:\n",
    "\n",
    "- Funnel analysis (home → department → product → cart → purchase)\n",
    "\n",
    "- Drop-off analysis (e.g., many reach cart but few purchase)\n",
    "\n",
    "- Engagement segmentation (users who only browse vs. those who purchase)\n",
    "\n",
    "- Personalization and recommendation logic"
   ]
  },
  {
   "cell_type": "markdown",
   "id": "f6919e2c-97e1-4095-b3f4-a1ebae89e4cf",
   "metadata": {},
   "source": [
    "**inventoryitems_df**"
   ]
  },
  {
   "cell_type": "code",
   "execution_count": 28,
   "id": "b6a436c3-5bfa-4307-b375-645c690d04f8",
   "metadata": {},
   "outputs": [
    {
     "data": {
      "text/plain": [
       "(490519, 12)"
      ]
     },
     "execution_count": 28,
     "metadata": {},
     "output_type": "execute_result"
    }
   ],
   "source": [
    "# number of columns and rows\n",
    "inventoryitems_df.shape"
   ]
  },
  {
   "cell_type": "code",
   "execution_count": 29,
   "id": "3b45ed65-d453-4101-8ef1-3c570f94828d",
   "metadata": {},
   "outputs": [
    {
     "name": "stdout",
     "output_type": "stream",
     "text": [
      "<class 'pandas.core.frame.DataFrame'>\n",
      "RangeIndex: 490519 entries, 0 to 490518\n",
      "Data columns (total 12 columns):\n",
      " #   Column                          Non-Null Count   Dtype              \n",
      "---  ------                          --------------   -----              \n",
      " 0   id                              490519 non-null  Int64              \n",
      " 1   product_id                      490519 non-null  Int64              \n",
      " 2   created_at                      490519 non-null  datetime64[us, UTC]\n",
      " 3   sold_at                         181597 non-null  datetime64[us, UTC]\n",
      " 4   cost                            490519 non-null  float64            \n",
      " 5   product_category                490519 non-null  object             \n",
      " 6   product_name                    490519 non-null  object             \n",
      " 7   product_brand                   490519 non-null  object             \n",
      " 8   product_retail_price            490519 non-null  float64            \n",
      " 9   product_department              490519 non-null  object             \n",
      " 10  product_sku                     490519 non-null  object             \n",
      " 11  product_distribution_center_id  490519 non-null  Int64              \n",
      "dtypes: Int64(3), datetime64[us, UTC](2), float64(2), object(5)\n",
      "memory usage: 46.3+ MB\n"
     ]
    }
   ],
   "source": [
    "# check data type\n",
    "inventoryitems_df.info()"
   ]
  },
  {
   "cell_type": "code",
   "execution_count": 30,
   "id": "19f3e570-7cc4-43f6-9b64-fd050c775c0b",
   "metadata": {},
   "outputs": [
    {
     "data": {
      "text/plain": [
       "id                                     0\n",
       "product_id                             0\n",
       "created_at                             0\n",
       "sold_at                           308922\n",
       "cost                                   0\n",
       "product_category                       0\n",
       "product_name                           0\n",
       "product_brand                          0\n",
       "product_retail_price                   0\n",
       "product_department                     0\n",
       "product_sku                            0\n",
       "product_distribution_center_id         0\n",
       "dtype: int64"
      ]
     },
     "execution_count": 30,
     "metadata": {},
     "output_type": "execute_result"
    }
   ],
   "source": [
    "# checking null value\n",
    "\n",
    "inventoryitems_df.isnull().sum()"
   ]
  },
  {
   "cell_type": "code",
   "execution_count": 31,
   "id": "760ed9bc-895d-4798-8e74-fa5673c037a0",
   "metadata": {},
   "outputs": [
    {
     "data": {
      "text/html": [
       "<div>\n",
       "<style scoped>\n",
       "    .dataframe tbody tr th:only-of-type {\n",
       "        vertical-align: middle;\n",
       "    }\n",
       "\n",
       "    .dataframe tbody tr th {\n",
       "        vertical-align: top;\n",
       "    }\n",
       "\n",
       "    .dataframe thead th {\n",
       "        text-align: right;\n",
       "    }\n",
       "</style>\n",
       "<table border=\"1\" class=\"dataframe\">\n",
       "  <thead>\n",
       "    <tr style=\"text-align: right;\">\n",
       "      <th></th>\n",
       "      <th>id</th>\n",
       "      <th>product_id</th>\n",
       "      <th>created_at</th>\n",
       "      <th>sold_at</th>\n",
       "      <th>cost</th>\n",
       "      <th>product_category</th>\n",
       "      <th>product_name</th>\n",
       "      <th>product_brand</th>\n",
       "      <th>product_retail_price</th>\n",
       "      <th>product_department</th>\n",
       "      <th>product_sku</th>\n",
       "      <th>product_distribution_center_id</th>\n",
       "    </tr>\n",
       "  </thead>\n",
       "  <tbody>\n",
       "    <tr>\n",
       "      <th>0</th>\n",
       "      <td>90209</td>\n",
       "      <td>4213</td>\n",
       "      <td>2022-04-30 10:32:09+00:00</td>\n",
       "      <td>2022-05-20 02:33:09+00:00</td>\n",
       "      <td>16.24435</td>\n",
       "      <td>Jumpsuits &amp; Rompers</td>\n",
       "      <td>A Elan Usa Beautiful Strapless Jumpsuit w/ 3/4...</td>\n",
       "      <td>Elan USA</td>\n",
       "      <td>32.950001</td>\n",
       "      <td>Women</td>\n",
       "      <td>872DD316EB8A432CBC63F141E2D68DED</td>\n",
       "      <td>2</td>\n",
       "    </tr>\n",
       "    <tr>\n",
       "      <th>1</th>\n",
       "      <td>90210</td>\n",
       "      <td>4213</td>\n",
       "      <td>2021-10-01 07:20:00+00:00</td>\n",
       "      <td>NaT</td>\n",
       "      <td>16.24435</td>\n",
       "      <td>Jumpsuits &amp; Rompers</td>\n",
       "      <td>A Elan Usa Beautiful Strapless Jumpsuit w/ 3/4...</td>\n",
       "      <td>Elan USA</td>\n",
       "      <td>32.950001</td>\n",
       "      <td>Women</td>\n",
       "      <td>872DD316EB8A432CBC63F141E2D68DED</td>\n",
       "      <td>2</td>\n",
       "    </tr>\n",
       "    <tr>\n",
       "      <th>2</th>\n",
       "      <td>90211</td>\n",
       "      <td>4213</td>\n",
       "      <td>2020-03-28 03:46:00+00:00</td>\n",
       "      <td>NaT</td>\n",
       "      <td>16.24435</td>\n",
       "      <td>Jumpsuits &amp; Rompers</td>\n",
       "      <td>A Elan Usa Beautiful Strapless Jumpsuit w/ 3/4...</td>\n",
       "      <td>Elan USA</td>\n",
       "      <td>32.950001</td>\n",
       "      <td>Women</td>\n",
       "      <td>872DD316EB8A432CBC63F141E2D68DED</td>\n",
       "      <td>2</td>\n",
       "    </tr>\n",
       "    <tr>\n",
       "      <th>3</th>\n",
       "      <td>90212</td>\n",
       "      <td>4213</td>\n",
       "      <td>2022-04-04 08:01:00+00:00</td>\n",
       "      <td>NaT</td>\n",
       "      <td>16.24435</td>\n",
       "      <td>Jumpsuits &amp; Rompers</td>\n",
       "      <td>A Elan Usa Beautiful Strapless Jumpsuit w/ 3/4...</td>\n",
       "      <td>Elan USA</td>\n",
       "      <td>32.950001</td>\n",
       "      <td>Women</td>\n",
       "      <td>872DD316EB8A432CBC63F141E2D68DED</td>\n",
       "      <td>2</td>\n",
       "    </tr>\n",
       "    <tr>\n",
       "      <th>4</th>\n",
       "      <td>146617</td>\n",
       "      <td>4213</td>\n",
       "      <td>2024-12-31 11:56:22+00:00</td>\n",
       "      <td>2025-01-12 11:32:22+00:00</td>\n",
       "      <td>16.24435</td>\n",
       "      <td>Jumpsuits &amp; Rompers</td>\n",
       "      <td>A Elan Usa Beautiful Strapless Jumpsuit w/ 3/4...</td>\n",
       "      <td>Elan USA</td>\n",
       "      <td>32.950001</td>\n",
       "      <td>Women</td>\n",
       "      <td>872DD316EB8A432CBC63F141E2D68DED</td>\n",
       "      <td>2</td>\n",
       "    </tr>\n",
       "  </tbody>\n",
       "</table>\n",
       "</div>"
      ],
      "text/plain": [
       "       id  product_id                created_at                   sold_at  \\\n",
       "0   90209        4213 2022-04-30 10:32:09+00:00 2022-05-20 02:33:09+00:00   \n",
       "1   90210        4213 2021-10-01 07:20:00+00:00                       NaT   \n",
       "2   90211        4213 2020-03-28 03:46:00+00:00                       NaT   \n",
       "3   90212        4213 2022-04-04 08:01:00+00:00                       NaT   \n",
       "4  146617        4213 2024-12-31 11:56:22+00:00 2025-01-12 11:32:22+00:00   \n",
       "\n",
       "       cost     product_category  \\\n",
       "0  16.24435  Jumpsuits & Rompers   \n",
       "1  16.24435  Jumpsuits & Rompers   \n",
       "2  16.24435  Jumpsuits & Rompers   \n",
       "3  16.24435  Jumpsuits & Rompers   \n",
       "4  16.24435  Jumpsuits & Rompers   \n",
       "\n",
       "                                        product_name product_brand  \\\n",
       "0  A Elan Usa Beautiful Strapless Jumpsuit w/ 3/4...      Elan USA   \n",
       "1  A Elan Usa Beautiful Strapless Jumpsuit w/ 3/4...      Elan USA   \n",
       "2  A Elan Usa Beautiful Strapless Jumpsuit w/ 3/4...      Elan USA   \n",
       "3  A Elan Usa Beautiful Strapless Jumpsuit w/ 3/4...      Elan USA   \n",
       "4  A Elan Usa Beautiful Strapless Jumpsuit w/ 3/4...      Elan USA   \n",
       "\n",
       "   product_retail_price product_department                       product_sku  \\\n",
       "0             32.950001              Women  872DD316EB8A432CBC63F141E2D68DED   \n",
       "1             32.950001              Women  872DD316EB8A432CBC63F141E2D68DED   \n",
       "2             32.950001              Women  872DD316EB8A432CBC63F141E2D68DED   \n",
       "3             32.950001              Women  872DD316EB8A432CBC63F141E2D68DED   \n",
       "4             32.950001              Women  872DD316EB8A432CBC63F141E2D68DED   \n",
       "\n",
       "   product_distribution_center_id  \n",
       "0                               2  \n",
       "1                               2  \n",
       "2                               2  \n",
       "3                               2  \n",
       "4                               2  "
      ]
     },
     "execution_count": 31,
     "metadata": {},
     "output_type": "execute_result"
    }
   ],
   "source": [
    "inventoryitems_df.head()"
   ]
  },
  {
   "cell_type": "markdown",
   "id": "87c7873f-01bf-4e8a-af0c-509ccbc71a68",
   "metadata": {},
   "source": [
    "**inventoryitems_df null values**\n",
    "\n",
    "All features has 0 null values excpet sold_at with 307760 null values, this shows items that haven't been sold"
   ]
  },
  {
   "cell_type": "markdown",
   "id": "1331e34e-f34c-4d03-91f0-305caf039c53",
   "metadata": {},
   "source": [
    "**orderitems_df**"
   ]
  },
  {
   "cell_type": "code",
   "execution_count": 32,
   "id": "ad62fbaa-a4e0-4326-9ea7-170eac501991",
   "metadata": {},
   "outputs": [
    {
     "data": {
      "text/plain": [
       "(181597, 11)"
      ]
     },
     "execution_count": 32,
     "metadata": {},
     "output_type": "execute_result"
    }
   ],
   "source": [
    "# numbert of columns and rows\n",
    "orderitems_df.shape"
   ]
  },
  {
   "cell_type": "code",
   "execution_count": 33,
   "id": "0a3d7a2a-cfc6-44c2-adb5-3a9dc7c4d218",
   "metadata": {},
   "outputs": [
    {
     "data": {
      "text/plain": [
       "id                        0\n",
       "order_id                  0\n",
       "user_id                   0\n",
       "product_id                0\n",
       "inventory_item_id         0\n",
       "status                    0\n",
       "created_at                0\n",
       "shipped_at            63612\n",
       "delivered_at         117780\n",
       "returned_at          163583\n",
       "sale_price                0\n",
       "dtype: int64"
      ]
     },
     "execution_count": 33,
     "metadata": {},
     "output_type": "execute_result"
    }
   ],
   "source": [
    "# null values\n",
    "orderitems_df.isnull().sum()"
   ]
  },
  {
   "cell_type": "code",
   "execution_count": 34,
   "id": "bf91fdbc-7ad5-4527-a99e-c7613b09d7c8",
   "metadata": {},
   "outputs": [
    {
     "name": "stdout",
     "output_type": "stream",
     "text": [
      "<class 'pandas.core.frame.DataFrame'>\n",
      "RangeIndex: 181597 entries, 0 to 181596\n",
      "Data columns (total 11 columns):\n",
      " #   Column             Non-Null Count   Dtype              \n",
      "---  ------             --------------   -----              \n",
      " 0   id                 181597 non-null  Int64              \n",
      " 1   order_id           181597 non-null  Int64              \n",
      " 2   user_id            181597 non-null  Int64              \n",
      " 3   product_id         181597 non-null  Int64              \n",
      " 4   inventory_item_id  181597 non-null  Int64              \n",
      " 5   status             181597 non-null  object             \n",
      " 6   created_at         181597 non-null  datetime64[us, UTC]\n",
      " 7   shipped_at         117985 non-null  datetime64[us, UTC]\n",
      " 8   delivered_at       63817 non-null   datetime64[us, UTC]\n",
      " 9   returned_at        18014 non-null   datetime64[us, UTC]\n",
      " 10  sale_price         181597 non-null  float64            \n",
      "dtypes: Int64(5), datetime64[us, UTC](4), float64(1), object(1)\n",
      "memory usage: 16.1+ MB\n"
     ]
    }
   ],
   "source": [
    "orderitems_df.info()"
   ]
  },
  {
   "cell_type": "markdown",
   "id": "bd8a3607-ff14-4f15-afc1-53a996cd36e6",
   "metadata": {},
   "source": [
    "**orderitems_df null values**\n",
    "\n",
    "63,457 orders have not been shipped yet or could indicate cancelled orders . 117650 indicates orders that were never delivered and 162843 shows the number of items that were never delivered. "
   ]
  },
  {
   "cell_type": "markdown",
   "id": "4a7a0e61-994d-41a8-9bf3-8812aa278e54",
   "metadata": {},
   "source": [
    "**products_df**"
   ]
  },
  {
   "cell_type": "code",
   "execution_count": 35,
   "id": "68566306-57aa-4f32-a3a2-f830d723761e",
   "metadata": {},
   "outputs": [
    {
     "data": {
      "text/plain": [
       "(29120, 9)"
      ]
     },
     "execution_count": 35,
     "metadata": {},
     "output_type": "execute_result"
    }
   ],
   "source": [
    "# number of rows and columns\n",
    "products_df.shape\n"
   ]
  },
  {
   "cell_type": "code",
   "execution_count": 36,
   "id": "3e0a3925-40f9-420f-8e5e-98a38ae9c680",
   "metadata": {},
   "outputs": [
    {
     "name": "stdout",
     "output_type": "stream",
     "text": [
      "<class 'pandas.core.frame.DataFrame'>\n",
      "RangeIndex: 29120 entries, 0 to 29119\n",
      "Data columns (total 9 columns):\n",
      " #   Column                  Non-Null Count  Dtype  \n",
      "---  ------                  --------------  -----  \n",
      " 0   id                      29120 non-null  Int64  \n",
      " 1   cost                    29120 non-null  float64\n",
      " 2   category                29120 non-null  object \n",
      " 3   name                    29118 non-null  object \n",
      " 4   brand                   29096 non-null  object \n",
      " 5   retail_price            29120 non-null  float64\n",
      " 6   department              29120 non-null  object \n",
      " 7   sku                     29120 non-null  object \n",
      " 8   distribution_center_id  29120 non-null  Int64  \n",
      "dtypes: Int64(2), float64(2), object(5)\n",
      "memory usage: 2.1+ MB\n"
     ]
    }
   ],
   "source": [
    "products_df.info()"
   ]
  },
  {
   "cell_type": "code",
   "execution_count": 37,
   "id": "32e9bc42-c5f9-41a8-837c-7da18c6ff652",
   "metadata": {},
   "outputs": [
    {
     "data": {
      "text/plain": [
       "id                         0\n",
       "cost                       0\n",
       "category                   0\n",
       "name                       2\n",
       "brand                     24\n",
       "retail_price               0\n",
       "department                 0\n",
       "sku                        0\n",
       "distribution_center_id     0\n",
       "dtype: int64"
      ]
     },
     "execution_count": 37,
     "metadata": {},
     "output_type": "execute_result"
    }
   ],
   "source": [
    "# check null value\n",
    "\n",
    "products_df.isnull().sum()"
   ]
  },
  {
   "cell_type": "code",
   "execution_count": 38,
   "id": "b089b0f0-5cec-478d-b7b0-61be73ae3a22",
   "metadata": {},
   "outputs": [],
   "source": [
    "# replace null brand values with unknown\n",
    "\n",
    "products_df['brand'] = products_df['brand'].fillna('unknown')"
   ]
  },
  {
   "cell_type": "code",
   "execution_count": 39,
   "id": "b357889d-4ec9-4f0d-aae7-17d8731bb644",
   "metadata": {},
   "outputs": [
    {
     "data": {
      "text/html": [
       "<div>\n",
       "<style scoped>\n",
       "    .dataframe tbody tr th:only-of-type {\n",
       "        vertical-align: middle;\n",
       "    }\n",
       "\n",
       "    .dataframe tbody tr th {\n",
       "        vertical-align: top;\n",
       "    }\n",
       "\n",
       "    .dataframe thead th {\n",
       "        text-align: right;\n",
       "    }\n",
       "</style>\n",
       "<table border=\"1\" class=\"dataframe\">\n",
       "  <thead>\n",
       "    <tr style=\"text-align: right;\">\n",
       "      <th></th>\n",
       "      <th>id</th>\n",
       "      <th>cost</th>\n",
       "      <th>category</th>\n",
       "      <th>name</th>\n",
       "      <th>brand</th>\n",
       "      <th>retail_price</th>\n",
       "      <th>department</th>\n",
       "      <th>sku</th>\n",
       "      <th>distribution_center_id</th>\n",
       "    </tr>\n",
       "  </thead>\n",
       "  <tbody>\n",
       "    <tr>\n",
       "      <th>3247</th>\n",
       "      <td>12586</td>\n",
       "      <td>18.972000</td>\n",
       "      <td>Intimates</td>\n",
       "      <td>None</td>\n",
       "      <td>Josie by Natori</td>\n",
       "      <td>36.000000</td>\n",
       "      <td>Women</td>\n",
       "      <td>A7EA034186E14FB5F7B37CF664893CD2</td>\n",
       "      <td>1</td>\n",
       "    </tr>\n",
       "    <tr>\n",
       "      <th>5588</th>\n",
       "      <td>24455</td>\n",
       "      <td>67.335453</td>\n",
       "      <td>Outerwear &amp; Coats</td>\n",
       "      <td>None</td>\n",
       "      <td>Tru-Spec</td>\n",
       "      <td>147.990005</td>\n",
       "      <td>Men</td>\n",
       "      <td>B290A635641F585B3DD6B95FD42DC267</td>\n",
       "      <td>2</td>\n",
       "    </tr>\n",
       "  </tbody>\n",
       "</table>\n",
       "</div>"
      ],
      "text/plain": [
       "         id       cost           category  name            brand  \\\n",
       "3247  12586  18.972000          Intimates  None  Josie by Natori   \n",
       "5588  24455  67.335453  Outerwear & Coats  None         Tru-Spec   \n",
       "\n",
       "      retail_price department                               sku  \\\n",
       "3247     36.000000      Women  A7EA034186E14FB5F7B37CF664893CD2   \n",
       "5588    147.990005        Men  B290A635641F585B3DD6B95FD42DC267   \n",
       "\n",
       "      distribution_center_id  \n",
       "3247                       1  \n",
       "5588                       2  "
      ]
     },
     "execution_count": 39,
     "metadata": {},
     "output_type": "execute_result"
    }
   ],
   "source": [
    "# products without name\n",
    "\n",
    "products_df[products_df['name'].isnull()]"
   ]
  },
  {
   "cell_type": "code",
   "execution_count": 40,
   "id": "4893f080-c195-4c3c-96ca-fb0675f4e9cd",
   "metadata": {},
   "outputs": [],
   "source": [
    "# drop null values in name\n",
    "\n",
    "products_df = products_df.dropna(subset = ['name'])"
   ]
  },
  {
   "cell_type": "markdown",
   "id": "b0007108-aa0d-49bd-9a6b-e4cded55a44c",
   "metadata": {},
   "source": [
    "**users_df**"
   ]
  },
  {
   "cell_type": "code",
   "execution_count": 41,
   "id": "50a25ae9-9729-44c4-8970-3001ab70c610",
   "metadata": {},
   "outputs": [
    {
     "data": {
      "text/plain": [
       "(100000, 16)"
      ]
     },
     "execution_count": 41,
     "metadata": {},
     "output_type": "execute_result"
    }
   ],
   "source": [
    "# for number of rows and columns\n",
    "users_df.shape"
   ]
  },
  {
   "cell_type": "code",
   "execution_count": 42,
   "id": "760cdfaf-ac7c-4e45-b6d8-26d3a15d3d36",
   "metadata": {},
   "outputs": [
    {
     "name": "stdout",
     "output_type": "stream",
     "text": [
      "<class 'pandas.core.frame.DataFrame'>\n",
      "RangeIndex: 100000 entries, 0 to 99999\n",
      "Data columns (total 16 columns):\n",
      " #   Column          Non-Null Count   Dtype              \n",
      "---  ------          --------------   -----              \n",
      " 0   id              100000 non-null  Int64              \n",
      " 1   first_name      100000 non-null  object             \n",
      " 2   last_name       100000 non-null  object             \n",
      " 3   email           100000 non-null  object             \n",
      " 4   age             100000 non-null  Int64              \n",
      " 5   gender          100000 non-null  object             \n",
      " 6   state           100000 non-null  object             \n",
      " 7   street_address  100000 non-null  object             \n",
      " 8   postal_code     100000 non-null  object             \n",
      " 9   city            100000 non-null  object             \n",
      " 10  country         100000 non-null  object             \n",
      " 11  latitude        100000 non-null  float64            \n",
      " 12  longitude       100000 non-null  float64            \n",
      " 13  traffic_source  100000 non-null  object             \n",
      " 14  created_at      100000 non-null  datetime64[us, UTC]\n",
      " 15  user_geom       100000 non-null  object             \n",
      "dtypes: Int64(2), datetime64[us, UTC](1), float64(2), object(11)\n",
      "memory usage: 12.4+ MB\n"
     ]
    }
   ],
   "source": [
    "users_df.info()"
   ]
  },
  {
   "cell_type": "code",
   "execution_count": 43,
   "id": "63657061-1f20-480b-8e64-7ac4cdd5b384",
   "metadata": {},
   "outputs": [
    {
     "data": {
      "text/plain": [
       "id                0\n",
       "first_name        0\n",
       "last_name         0\n",
       "email             0\n",
       "age               0\n",
       "gender            0\n",
       "state             0\n",
       "street_address    0\n",
       "postal_code       0\n",
       "city              0\n",
       "country           0\n",
       "latitude          0\n",
       "longitude         0\n",
       "traffic_source    0\n",
       "created_at        0\n",
       "user_geom         0\n",
       "dtype: int64"
      ]
     },
     "execution_count": 43,
     "metadata": {},
     "output_type": "execute_result"
    }
   ],
   "source": [
    "# Null values\n",
    "\n",
    "users_df.isnull().sum()"
   ]
  },
  {
   "cell_type": "markdown",
   "id": "7fe8c72c-835a-4fd4-8016-690afa155632",
   "metadata": {},
   "source": [
    "## Creating a Mastersheet "
   ]
  },
  {
   "cell_type": "markdown",
   "id": "502d30ec-423c-44f4-a354-b4d03d4cfaa6",
   "metadata": {},
   "source": [
    "**join order_df and users_df on user_id**"
   ]
  },
  {
   "cell_type": "code",
   "execution_count": 44,
   "id": "25ba49d4-fb8b-40c4-808d-33f825cc52a9",
   "metadata": {},
   "outputs": [
    {
     "name": "stdout",
     "output_type": "stream",
     "text": [
      "order_df columns : Index(['order_id', 'user_id', 'status', 'gender', 'created_at', 'returned_at',\n",
      "       'shipped_at', 'delivered_at', 'num_of_item'],\n",
      "      dtype='object')\n",
      "users_df columns : Index(['id', 'first_name', 'last_name', 'email', 'age', 'gender', 'state',\n",
      "       'street_address', 'postal_code', 'city', 'country', 'latitude',\n",
      "       'longitude', 'traffic_source', 'created_at', 'user_geom'],\n",
      "      dtype='object')\n"
     ]
    }
   ],
   "source": [
    "#check the columns in each table and drop duplicates before merging\n",
    "print(f'order_df columns : {orders_df.columns}')\n",
    "\n",
    "\n",
    "print(f'users_df columns : {users_df.columns}')"
   ]
  },
  {
   "cell_type": "code",
   "execution_count": 45,
   "id": "c48fac79-304f-4f55-95d1-1c3ad7529b4c",
   "metadata": {},
   "outputs": [],
   "source": [
    "# a function to identify duplicates columns \n",
    "\n",
    "def duplicates(x, y):\n",
    "    ''' These function check the columns in \n",
    "    two tables and identify over lapping columns\n",
    "    '''\n",
    "    return [c for c in x.columns if c in y.columns]"
   ]
  },
  {
   "cell_type": "code",
   "execution_count": 46,
   "id": "f5bf8bfa-ee48-4593-adfe-22d15e858707",
   "metadata": {},
   "outputs": [
    {
     "data": {
      "text/plain": [
       "['gender', 'created_at']"
      ]
     },
     "execution_count": 46,
     "metadata": {},
     "output_type": "execute_result"
    }
   ],
   "source": [
    "# check the columns in users_df and orders_df \n",
    "\n",
    "duplicates(orders_df, users_df)"
   ]
  },
  {
   "cell_type": "markdown",
   "id": "6dbbb174-bc3c-4795-b490-cf03ad6619f9",
   "metadata": {},
   "source": [
    "#### Over lapping columns.\n",
    "\n",
    "'gender', 'created_at' are both in orders_df and users_df tables. The gender column will be dropped from the order_df table.   The created_at will be renamed for both columns. users_df['created_at'] indicates the account creation date while orders_df['created_at] indicates order creation date. \n",
    "Both columns serves different purposes.  \n",
    "\n",
    "`users_df['created_at']` will be renamed as `user_created_at`\n",
    "`orders['created_at']` will be renamed as `order_created_at`"
   ]
  },
  {
   "cell_type": "code",
   "execution_count": 56,
   "id": "0f7ae0c5-51e0-4791-863e-4715a806ede8",
   "metadata": {},
   "outputs": [],
   "source": [
    "# drop gender column\n",
    "\n",
    "orders_df = orders_df.drop(columns = 'gender')"
   ]
  },
  {
   "cell_type": "code",
   "execution_count": 58,
   "id": "a2c23be1-fd0c-4536-b293-5733f87b83ad",
   "metadata": {},
   "outputs": [],
   "source": [
    "# rename created_at columns\n",
    "orders_df = orders_df.rename(columns = {'created_at': 'order_created_at'})\n",
    "users_df = users_df.rename(columns = {'created_at': 'user_created_at'})"
   ]
  },
  {
   "cell_type": "code",
   "execution_count": 59,
   "id": "180b5ded-fb9c-48f0-a909-49e2ffb254e2",
   "metadata": {},
   "outputs": [
    {
     "data": {
      "text/html": [
       "<div>\n",
       "<style scoped>\n",
       "    .dataframe tbody tr th:only-of-type {\n",
       "        vertical-align: middle;\n",
       "    }\n",
       "\n",
       "    .dataframe tbody tr th {\n",
       "        vertical-align: top;\n",
       "    }\n",
       "\n",
       "    .dataframe thead th {\n",
       "        text-align: right;\n",
       "    }\n",
       "</style>\n",
       "<table border=\"1\" class=\"dataframe\">\n",
       "  <thead>\n",
       "    <tr style=\"text-align: right;\">\n",
       "      <th></th>\n",
       "      <th>order_id</th>\n",
       "      <th>user_id</th>\n",
       "      <th>status</th>\n",
       "      <th>order_created_at</th>\n",
       "      <th>returned_at</th>\n",
       "      <th>shipped_at</th>\n",
       "      <th>delivered_at</th>\n",
       "      <th>num_of_item</th>\n",
       "      <th>id</th>\n",
       "      <th>first_name</th>\n",
       "      <th>...</th>\n",
       "      <th>state</th>\n",
       "      <th>street_address</th>\n",
       "      <th>postal_code</th>\n",
       "      <th>city</th>\n",
       "      <th>country</th>\n",
       "      <th>latitude</th>\n",
       "      <th>longitude</th>\n",
       "      <th>traffic_source</th>\n",
       "      <th>user_created_at</th>\n",
       "      <th>user_geom</th>\n",
       "    </tr>\n",
       "  </thead>\n",
       "  <tbody>\n",
       "    <tr>\n",
       "      <th>0</th>\n",
       "      <td>8</td>\n",
       "      <td>5</td>\n",
       "      <td>Cancelled</td>\n",
       "      <td>2025-03-04 06:46:00+00:00</td>\n",
       "      <td>NaT</td>\n",
       "      <td>NaT</td>\n",
       "      <td>NaT</td>\n",
       "      <td>1</td>\n",
       "      <td>5</td>\n",
       "      <td>Kathleen</td>\n",
       "      <td>...</td>\n",
       "      <td>Maranhão</td>\n",
       "      <td>572 Kline Cape</td>\n",
       "      <td>65043</td>\n",
       "      <td>São Luís</td>\n",
       "      <td>Brasil</td>\n",
       "      <td>-2.556385</td>\n",
       "      <td>-44.259429</td>\n",
       "      <td>Search</td>\n",
       "      <td>2020-12-28 06:46:00+00:00</td>\n",
       "      <td>POINT(-44.25942906 -2.556385377)</td>\n",
       "    </tr>\n",
       "    <tr>\n",
       "      <th>1</th>\n",
       "      <td>9</td>\n",
       "      <td>6</td>\n",
       "      <td>Cancelled</td>\n",
       "      <td>2025-06-03 03:06:00+00:00</td>\n",
       "      <td>NaT</td>\n",
       "      <td>NaT</td>\n",
       "      <td>NaT</td>\n",
       "      <td>1</td>\n",
       "      <td>6</td>\n",
       "      <td>Tammie</td>\n",
       "      <td>...</td>\n",
       "      <td>Arizona</td>\n",
       "      <td>99906 Kristy Grove</td>\n",
       "      <td>85350</td>\n",
       "      <td>San Luis</td>\n",
       "      <td>United States</td>\n",
       "      <td>32.552220</td>\n",
       "      <td>-114.703520</td>\n",
       "      <td>Search</td>\n",
       "      <td>2019-11-19 03:06:00+00:00</td>\n",
       "      <td>POINT(-114.7035205 32.55222047)</td>\n",
       "    </tr>\n",
       "    <tr>\n",
       "      <th>2</th>\n",
       "      <td>16</td>\n",
       "      <td>15</td>\n",
       "      <td>Cancelled</td>\n",
       "      <td>2022-04-04 11:48:00+00:00</td>\n",
       "      <td>NaT</td>\n",
       "      <td>NaT</td>\n",
       "      <td>NaT</td>\n",
       "      <td>1</td>\n",
       "      <td>15</td>\n",
       "      <td>Michaela</td>\n",
       "      <td>...</td>\n",
       "      <td>Xinjiang Uygur Autonomous Region</td>\n",
       "      <td>336 Andre Spurs Suite 616</td>\n",
       "      <td>830000</td>\n",
       "      <td>Liuzhou</td>\n",
       "      <td>China</td>\n",
       "      <td>43.793980</td>\n",
       "      <td>87.579124</td>\n",
       "      <td>Search</td>\n",
       "      <td>2020-05-09 11:48:00+00:00</td>\n",
       "      <td>POINT(87.57912445 43.79397952)</td>\n",
       "    </tr>\n",
       "    <tr>\n",
       "      <th>3</th>\n",
       "      <td>44</td>\n",
       "      <td>39</td>\n",
       "      <td>Cancelled</td>\n",
       "      <td>2025-08-11 05:15:00+00:00</td>\n",
       "      <td>NaT</td>\n",
       "      <td>NaT</td>\n",
       "      <td>NaT</td>\n",
       "      <td>1</td>\n",
       "      <td>39</td>\n",
       "      <td>Mary</td>\n",
       "      <td>...</td>\n",
       "      <td>Hebei</td>\n",
       "      <td>130 Michael Drive</td>\n",
       "      <td>73000</td>\n",
       "      <td>Handan</td>\n",
       "      <td>China</td>\n",
       "      <td>38.533958</td>\n",
       "      <td>114.933484</td>\n",
       "      <td>Search</td>\n",
       "      <td>2023-07-15 05:15:00+00:00</td>\n",
       "      <td>POINT(114.9334838 38.53395821)</td>\n",
       "    </tr>\n",
       "    <tr>\n",
       "      <th>4</th>\n",
       "      <td>67</td>\n",
       "      <td>53</td>\n",
       "      <td>Cancelled</td>\n",
       "      <td>2025-08-13 01:00:00+00:00</td>\n",
       "      <td>NaT</td>\n",
       "      <td>NaT</td>\n",
       "      <td>NaT</td>\n",
       "      <td>1</td>\n",
       "      <td>53</td>\n",
       "      <td>Melissa</td>\n",
       "      <td>...</td>\n",
       "      <td>Gyeonggi-do</td>\n",
       "      <td>21694 Todd Rapid Apt. 059</td>\n",
       "      <td>445-938</td>\n",
       "      <td>Hwaseong City</td>\n",
       "      <td>South Korea</td>\n",
       "      <td>37.103029</td>\n",
       "      <td>126.917488</td>\n",
       "      <td>Search</td>\n",
       "      <td>2025-02-08 01:00:00+00:00</td>\n",
       "      <td>POINT(126.9174876 37.10302896)</td>\n",
       "    </tr>\n",
       "  </tbody>\n",
       "</table>\n",
       "<p>5 rows × 24 columns</p>\n",
       "</div>"
      ],
      "text/plain": [
       "   order_id  user_id     status          order_created_at returned_at  \\\n",
       "0         8        5  Cancelled 2025-03-04 06:46:00+00:00         NaT   \n",
       "1         9        6  Cancelled 2025-06-03 03:06:00+00:00         NaT   \n",
       "2        16       15  Cancelled 2022-04-04 11:48:00+00:00         NaT   \n",
       "3        44       39  Cancelled 2025-08-11 05:15:00+00:00         NaT   \n",
       "4        67       53  Cancelled 2025-08-13 01:00:00+00:00         NaT   \n",
       "\n",
       "  shipped_at delivered_at  num_of_item  id first_name  ...  \\\n",
       "0        NaT          NaT            1   5   Kathleen  ...   \n",
       "1        NaT          NaT            1   6     Tammie  ...   \n",
       "2        NaT          NaT            1  15   Michaela  ...   \n",
       "3        NaT          NaT            1  39       Mary  ...   \n",
       "4        NaT          NaT            1  53    Melissa  ...   \n",
       "\n",
       "                              state             street_address  postal_code  \\\n",
       "0                          Maranhão             572 Kline Cape        65043   \n",
       "1                           Arizona         99906 Kristy Grove        85350   \n",
       "2  Xinjiang Uygur Autonomous Region  336 Andre Spurs Suite 616       830000   \n",
       "3                             Hebei          130 Michael Drive        73000   \n",
       "4                       Gyeonggi-do  21694 Todd Rapid Apt. 059      445-938   \n",
       "\n",
       "            city        country   latitude   longitude traffic_source  \\\n",
       "0       São Luís         Brasil  -2.556385  -44.259429         Search   \n",
       "1       San Luis  United States  32.552220 -114.703520         Search   \n",
       "2        Liuzhou          China  43.793980   87.579124         Search   \n",
       "3         Handan          China  38.533958  114.933484         Search   \n",
       "4  Hwaseong City    South Korea  37.103029  126.917488         Search   \n",
       "\n",
       "            user_created_at                         user_geom  \n",
       "0 2020-12-28 06:46:00+00:00  POINT(-44.25942906 -2.556385377)  \n",
       "1 2019-11-19 03:06:00+00:00   POINT(-114.7035205 32.55222047)  \n",
       "2 2020-05-09 11:48:00+00:00    POINT(87.57912445 43.79397952)  \n",
       "3 2023-07-15 05:15:00+00:00    POINT(114.9334838 38.53395821)  \n",
       "4 2025-02-08 01:00:00+00:00    POINT(126.9174876 37.10302896)  \n",
       "\n",
       "[5 rows x 24 columns]"
      ]
     },
     "execution_count": 59,
     "metadata": {},
     "output_type": "execute_result"
    }
   ],
   "source": [
    "#merge the two tables\n",
    "user_orders = orders_df.merge(users_df, left_on = 'user_id', right_on = 'id', how = 'inner' )\n",
    "user_orders.head()"
   ]
  },
  {
   "cell_type": "code",
   "execution_count": 68,
   "id": "6ec2241a-421a-4dad-b1aa-81070628dfc7",
   "metadata": {},
   "outputs": [],
   "source": [
    "# user_id and id represents the same features... id will be dropped\n",
    "\n",
    "user_orders = user_orders.drop(columns = 'id')"
   ]
  },
  {
   "cell_type": "code",
   "execution_count": 92,
   "id": "caecc623-be91-44f7-a0fc-f0e9a3e3033d",
   "metadata": {},
   "outputs": [],
   "source": [
    "# Write a function to check the quality of merged table \n",
    "\n",
    "def quality(df):\n",
    "    ''' check shape null values and duplicated rows\n",
    "    after merging tabl;es\n",
    "    '''\n",
    "    print('Shape of merged tables :', df.shape)\n",
    "    print( '\\nMissing values : \\n', df.isnull().sum())\n",
    "    print('\\nNumber of Duplicate Rows:', df.duplicated().sum())"
   ]
  },
  {
   "cell_type": "code",
   "execution_count": 94,
   "id": "57dc8694-5b8b-4ee3-99fb-ab1c1db57394",
   "metadata": {},
   "outputs": [
    {
     "name": "stdout",
     "output_type": "stream",
     "text": [
      "Shape of merged tables : (125188, 19)\n",
      "\n",
      "Missing values : \n",
      " order_id            0\n",
      "user_id             0\n",
      "order_created_at    0\n",
      "num_of_item         0\n",
      "first_name          0\n",
      "last_name           0\n",
      "email               0\n",
      "age                 0\n",
      "gender              0\n",
      "state               0\n",
      "street_address      0\n",
      "postal_code         0\n",
      "city                0\n",
      "country             0\n",
      "latitude            0\n",
      "longitude           0\n",
      "traffic_source      0\n",
      "user_created_at     0\n",
      "user_geom           0\n",
      "dtype: int64\n",
      "\n",
      "Number of Duplicate Rows: 0\n"
     ]
    }
   ],
   "source": [
    "# check for null, duplicates and shape of user_orders\n",
    "\n",
    "quality(user_orders)"
   ]
  },
  {
   "cell_type": "markdown",
   "id": "6b542120-ec3c-4d50-86fa-7ccbac7842da",
   "metadata": {},
   "source": [
    "#### Merge orderitems_df with user_orders"
   ]
  },
  {
   "cell_type": "code",
   "execution_count": 72,
   "id": "86181cb7-f495-4ef0-a22e-5b7d347f21f7",
   "metadata": {},
   "outputs": [
    {
     "data": {
      "text/plain": [
       "['order_id', 'user_id', 'status', 'shipped_at', 'delivered_at', 'returned_at']"
      ]
     },
     "execution_count": 72,
     "metadata": {},
     "output_type": "execute_result"
    }
   ],
   "source": [
    "# using the function, check for overlapping columns\n",
    "duplicates(orderitems_df, user_orders)"
   ]
  },
  {
   "cell_type": "markdown",
   "id": "5abef3e0-a989-4197-8fbd-446fd223a1ec",
   "metadata": {},
   "source": [
    "#### House keeping\n",
    "\n",
    "`orderitems_df` and `user_orders` will be merged on `order_id`, hence, `user_id` will be dropped from orderitems_df. Status, shipped_at, delivered_at, returned_at in order_items_df captures unique information  at the item level in an order. \n",
    "Hence, Status, 'shipped_at', 'delivered_at', 'returned_at in user_orders will be dropped too, this is because the analysis is focused on item_level and not at the order level."
   ]
  },
  {
   "cell_type": "code",
   "execution_count": 78,
   "id": "c447bc5e-9ab0-4b51-b548-0f58c4ed1105",
   "metadata": {},
   "outputs": [],
   "source": [
    "# dropping over lapping columns in user_orders\n",
    "\n",
    "user_orders = user_orders.drop(columns = ['status', 'shipped_at', 'delivered_at', 'returned_at'])\n",
    "\n",
    "# dropping user_id in orderitems_df\n",
    "\n",
    "orderitems_df = orderitems_df.drop(columns = 'user_id')"
   ]
  },
  {
   "cell_type": "code",
   "execution_count": 73,
   "id": "4c4916b8-4795-400d-bb61-f23893f670b8",
   "metadata": {},
   "outputs": [],
   "source": [
    "# rename id in orderitems_df as this shows the id of each item in an order\n",
    "orderitems_df = orderitems_df.rename(columns = {'id' : 'orderitem_id' })"
   ]
  },
  {
   "cell_type": "code",
   "execution_count": 81,
   "id": "658fa925-d13c-49f7-8d68-ac8362624e3d",
   "metadata": {},
   "outputs": [
    {
     "data": {
      "text/plain": [
       "['order_id']"
      ]
     },
     "execution_count": 81,
     "metadata": {},
     "output_type": "execute_result"
    }
   ],
   "source": [
    "# House keeping \n",
    "''' check for over lapping columns\n",
    "'''\n",
    "\n",
    "duplicates(orderitems_df, user_orders)"
   ]
  },
  {
   "cell_type": "code",
   "execution_count": 85,
   "id": "32d8c45a-b85d-4415-a3cb-a86fcfd1b82f",
   "metadata": {},
   "outputs": [],
   "source": [
    "# merge orderitems_d & user_orders\n",
    "\n",
    "complete_orders_df = orderitems_df.merge(user_orders, on = 'order_id', how = 'inner')"
   ]
  },
  {
   "cell_type": "code",
   "execution_count": 87,
   "id": "6444965b-e216-487f-b93f-311b263fa04a",
   "metadata": {},
   "outputs": [
    {
     "data": {
      "text/plain": [
       "(181597, 28)"
      ]
     },
     "execution_count": 87,
     "metadata": {},
     "output_type": "execute_result"
    }
   ],
   "source": [
    "#confirm shape\n",
    "complete_orders_df.shape"
   ]
  },
  {
   "cell_type": "code",
   "execution_count": 91,
   "id": "db0d9744-760e-4385-9a80-afac409098ed",
   "metadata": {
    "scrolled": true
   },
   "outputs": [
    {
     "name": "stdout",
     "output_type": "stream",
     "text": [
      "Shape of merged tables : (181597, 28)\n",
      "\n",
      "Missing values : \n",
      " orderitem_id              0\n",
      "order_id                  0\n",
      "product_id                0\n",
      "inventory_item_id         0\n",
      "status                    0\n",
      "created_at                0\n",
      "shipped_at            63612\n",
      "delivered_at         117780\n",
      "returned_at          163583\n",
      "sale_price                0\n",
      "user_id                   0\n",
      "order_created_at          0\n",
      "num_of_item               0\n",
      "first_name                0\n",
      "last_name                 0\n",
      "email                     0\n",
      "age                       0\n",
      "gender                    0\n",
      "state                     0\n",
      "street_address            0\n",
      "postal_code               0\n",
      "city                      0\n",
      "country                   0\n",
      "latitude                  0\n",
      "longitude                 0\n",
      "traffic_source            0\n",
      "user_created_at           0\n",
      "user_geom                 0\n",
      "dtype: int64\n",
      "\n",
      "Number of Duplicate Rows: 0\n"
     ]
    }
   ],
   "source": [
    "quality(complete_orders_df)"
   ]
  },
  {
   "cell_type": "markdown",
   "id": "7cc931df-f568-405c-9734-0b4371e55f1d",
   "metadata": {},
   "source": [
    "#### Merge inventoryitems_df and complete_orders_df"
   ]
  },
  {
   "cell_type": "code",
   "execution_count": 106,
   "id": "a01fa1b2-1c05-4f99-9bde-9be0c3bdbc2e",
   "metadata": {},
   "outputs": [
    {
     "data": {
      "text/html": [
       "<div>\n",
       "<style scoped>\n",
       "    .dataframe tbody tr th:only-of-type {\n",
       "        vertical-align: middle;\n",
       "    }\n",
       "\n",
       "    .dataframe tbody tr th {\n",
       "        vertical-align: top;\n",
       "    }\n",
       "\n",
       "    .dataframe thead th {\n",
       "        text-align: right;\n",
       "    }\n",
       "</style>\n",
       "<table border=\"1\" class=\"dataframe\">\n",
       "  <thead>\n",
       "    <tr style=\"text-align: right;\">\n",
       "      <th></th>\n",
       "      <th>id</th>\n",
       "      <th>product_id</th>\n",
       "      <th>inventorycreated_at</th>\n",
       "      <th>sold_at</th>\n",
       "      <th>cost</th>\n",
       "      <th>product_category</th>\n",
       "      <th>product_name</th>\n",
       "      <th>product_brand</th>\n",
       "      <th>product_retail_price</th>\n",
       "      <th>product_department</th>\n",
       "      <th>product_sku</th>\n",
       "      <th>product_distribution_center_id</th>\n",
       "    </tr>\n",
       "  </thead>\n",
       "  <tbody>\n",
       "    <tr>\n",
       "      <th>0</th>\n",
       "      <td>90209</td>\n",
       "      <td>4213</td>\n",
       "      <td>2022-04-30 10:32:09+00:00</td>\n",
       "      <td>2022-05-20 02:33:09+00:00</td>\n",
       "      <td>16.24435</td>\n",
       "      <td>Jumpsuits &amp; Rompers</td>\n",
       "      <td>A Elan Usa Beautiful Strapless Jumpsuit w/ 3/4...</td>\n",
       "      <td>Elan USA</td>\n",
       "      <td>32.950001</td>\n",
       "      <td>Women</td>\n",
       "      <td>872DD316EB8A432CBC63F141E2D68DED</td>\n",
       "      <td>2</td>\n",
       "    </tr>\n",
       "    <tr>\n",
       "      <th>1</th>\n",
       "      <td>90210</td>\n",
       "      <td>4213</td>\n",
       "      <td>2021-10-01 07:20:00+00:00</td>\n",
       "      <td>NaT</td>\n",
       "      <td>16.24435</td>\n",
       "      <td>Jumpsuits &amp; Rompers</td>\n",
       "      <td>A Elan Usa Beautiful Strapless Jumpsuit w/ 3/4...</td>\n",
       "      <td>Elan USA</td>\n",
       "      <td>32.950001</td>\n",
       "      <td>Women</td>\n",
       "      <td>872DD316EB8A432CBC63F141E2D68DED</td>\n",
       "      <td>2</td>\n",
       "    </tr>\n",
       "    <tr>\n",
       "      <th>2</th>\n",
       "      <td>90211</td>\n",
       "      <td>4213</td>\n",
       "      <td>2020-03-28 03:46:00+00:00</td>\n",
       "      <td>NaT</td>\n",
       "      <td>16.24435</td>\n",
       "      <td>Jumpsuits &amp; Rompers</td>\n",
       "      <td>A Elan Usa Beautiful Strapless Jumpsuit w/ 3/4...</td>\n",
       "      <td>Elan USA</td>\n",
       "      <td>32.950001</td>\n",
       "      <td>Women</td>\n",
       "      <td>872DD316EB8A432CBC63F141E2D68DED</td>\n",
       "      <td>2</td>\n",
       "    </tr>\n",
       "    <tr>\n",
       "      <th>3</th>\n",
       "      <td>90212</td>\n",
       "      <td>4213</td>\n",
       "      <td>2022-04-04 08:01:00+00:00</td>\n",
       "      <td>NaT</td>\n",
       "      <td>16.24435</td>\n",
       "      <td>Jumpsuits &amp; Rompers</td>\n",
       "      <td>A Elan Usa Beautiful Strapless Jumpsuit w/ 3/4...</td>\n",
       "      <td>Elan USA</td>\n",
       "      <td>32.950001</td>\n",
       "      <td>Women</td>\n",
       "      <td>872DD316EB8A432CBC63F141E2D68DED</td>\n",
       "      <td>2</td>\n",
       "    </tr>\n",
       "    <tr>\n",
       "      <th>4</th>\n",
       "      <td>146617</td>\n",
       "      <td>4213</td>\n",
       "      <td>2024-12-31 11:56:22+00:00</td>\n",
       "      <td>2025-01-12 11:32:22+00:00</td>\n",
       "      <td>16.24435</td>\n",
       "      <td>Jumpsuits &amp; Rompers</td>\n",
       "      <td>A Elan Usa Beautiful Strapless Jumpsuit w/ 3/4...</td>\n",
       "      <td>Elan USA</td>\n",
       "      <td>32.950001</td>\n",
       "      <td>Women</td>\n",
       "      <td>872DD316EB8A432CBC63F141E2D68DED</td>\n",
       "      <td>2</td>\n",
       "    </tr>\n",
       "  </tbody>\n",
       "</table>\n",
       "</div>"
      ],
      "text/plain": [
       "       id  product_id       inventorycreated_at                   sold_at  \\\n",
       "0   90209        4213 2022-04-30 10:32:09+00:00 2022-05-20 02:33:09+00:00   \n",
       "1   90210        4213 2021-10-01 07:20:00+00:00                       NaT   \n",
       "2   90211        4213 2020-03-28 03:46:00+00:00                       NaT   \n",
       "3   90212        4213 2022-04-04 08:01:00+00:00                       NaT   \n",
       "4  146617        4213 2024-12-31 11:56:22+00:00 2025-01-12 11:32:22+00:00   \n",
       "\n",
       "       cost     product_category  \\\n",
       "0  16.24435  Jumpsuits & Rompers   \n",
       "1  16.24435  Jumpsuits & Rompers   \n",
       "2  16.24435  Jumpsuits & Rompers   \n",
       "3  16.24435  Jumpsuits & Rompers   \n",
       "4  16.24435  Jumpsuits & Rompers   \n",
       "\n",
       "                                        product_name product_brand  \\\n",
       "0  A Elan Usa Beautiful Strapless Jumpsuit w/ 3/4...      Elan USA   \n",
       "1  A Elan Usa Beautiful Strapless Jumpsuit w/ 3/4...      Elan USA   \n",
       "2  A Elan Usa Beautiful Strapless Jumpsuit w/ 3/4...      Elan USA   \n",
       "3  A Elan Usa Beautiful Strapless Jumpsuit w/ 3/4...      Elan USA   \n",
       "4  A Elan Usa Beautiful Strapless Jumpsuit w/ 3/4...      Elan USA   \n",
       "\n",
       "   product_retail_price product_department                       product_sku  \\\n",
       "0             32.950001              Women  872DD316EB8A432CBC63F141E2D68DED   \n",
       "1             32.950001              Women  872DD316EB8A432CBC63F141E2D68DED   \n",
       "2             32.950001              Women  872DD316EB8A432CBC63F141E2D68DED   \n",
       "3             32.950001              Women  872DD316EB8A432CBC63F141E2D68DED   \n",
       "4             32.950001              Women  872DD316EB8A432CBC63F141E2D68DED   \n",
       "\n",
       "   product_distribution_center_id  \n",
       "0                               2  \n",
       "1                               2  \n",
       "2                               2  \n",
       "3                               2  \n",
       "4                               2  "
      ]
     },
     "execution_count": 106,
     "metadata": {},
     "output_type": "execute_result"
    }
   ],
   "source": [
    "inventoryitems_df.head(5)"
   ]
  },
  {
   "cell_type": "code",
   "execution_count": 107,
   "id": "0468e7f3-d838-4dd3-ba10-368a7f79dd65",
   "metadata": {},
   "outputs": [
    {
     "data": {
      "text/plain": [
       "['product_id']"
      ]
     },
     "execution_count": 107,
     "metadata": {},
     "output_type": "execute_result"
    }
   ],
   "source": [
    "# check for over lapping columns\n",
    "duplicates(inventoryitems_df, complete_orders_df)"
   ]
  },
  {
   "cell_type": "markdown",
   "id": "8bc71db4-2bff-4633-b2d0-b0af465cbc75",
   "metadata": {},
   "source": [
    "**Overlapping columns**\n",
    "\n",
    "The column created_at will be renamed as inventory_created_at as this is the date/time when the inventory for the product was created and inventoryitems_df, complete_orders_df will be merged on inventory_item_id. \n",
    "The over lapping product_id will be dropped for inventoryitems_df"
   ]
  },
  {
   "cell_type": "code",
   "execution_count": 120,
   "id": "31b194f3-77fb-494b-8561-eeb388dd32ea",
   "metadata": {},
   "outputs": [],
   "source": [
    "# Renaming created_at\n",
    "\n",
    "inventoryitems_df = inventoryitems_df.rename(columns = {'created_at' : 'inventorycreated_at'})\n",
    "\n",
    "# drop inventoryitems_df product_id\n",
    "\n",
    "inventoryitems_df = inventoryitems_df.drop(columns = ['product_id'])\n"
   ]
  },
  {
   "cell_type": "code",
   "execution_count": 121,
   "id": "6fde660d-61cd-4721-baca-9c0b4f8c31a9",
   "metadata": {},
   "outputs": [],
   "source": [
    "# merge \n",
    "with_inventory_df = complete_orders_df.merge(\n",
    "    inventoryitems_df, left_on = 'product_id', \n",
    "    right_on = 'id', \n",
    "    how = 'inner' \n",
    ")"
   ]
  },
  {
   "cell_type": "code",
   "execution_count": 122,
   "id": "d71f1212-312b-4d25-b8c6-f9d05fad9816",
   "metadata": {},
   "outputs": [],
   "source": [
    "# drop id from the merged table\n",
    "with_inventory_df = with_inventory_df.drop(columns = ['id'])"
   ]
  },
  {
   "cell_type": "code",
   "execution_count": 123,
   "id": "c10823b4-0d56-41a9-ba0b-2877072c9a70",
   "metadata": {
    "scrolled": true
   },
   "outputs": [
    {
     "name": "stdout",
     "output_type": "stream",
     "text": [
      "Shape of merged tables : (181597, 38)\n",
      "\n",
      "Missing values : \n",
      " orderitem_id                           0\n",
      "order_id                               0\n",
      "product_id                             0\n",
      "inventory_item_id                      0\n",
      "status                                 0\n",
      "created_at                             0\n",
      "shipped_at                         63612\n",
      "delivered_at                      117780\n",
      "returned_at                       163583\n",
      "sale_price                             0\n",
      "user_id                                0\n",
      "order_created_at                       0\n",
      "num_of_item                            0\n",
      "first_name                             0\n",
      "last_name                              0\n",
      "email                                  0\n",
      "age                                    0\n",
      "gender                                 0\n",
      "state                                  0\n",
      "street_address                         0\n",
      "postal_code                            0\n",
      "city                                   0\n",
      "country                                0\n",
      "latitude                               0\n",
      "longitude                              0\n",
      "traffic_source                         0\n",
      "user_created_at                        0\n",
      "user_geom                              0\n",
      "inventorycreated_at                    0\n",
      "sold_at                           114253\n",
      "cost                                   0\n",
      "product_category                       0\n",
      "product_name                           0\n",
      "product_brand                          0\n",
      "product_retail_price                   0\n",
      "product_department                     0\n",
      "product_sku                            0\n",
      "product_distribution_center_id         0\n",
      "dtype: int64\n",
      "\n",
      "Number of Duplicate Rows: 0\n"
     ]
    }
   ],
   "source": [
    "# sanity check\n",
    "\n",
    "quality(with_inventory_df)"
   ]
  },
  {
   "cell_type": "markdown",
   "id": "b5c1b4ee-0d0a-41c8-bdcb-77b32324e17c",
   "metadata": {},
   "source": [
    "#### Add products"
   ]
  },
  {
   "cell_type": "code",
   "execution_count": 114,
   "id": "72a8770f-ad0b-4383-be61-10cb9c5a4489",
   "metadata": {},
   "outputs": [
    {
     "data": {
      "text/html": [
       "<div>\n",
       "<style scoped>\n",
       "    .dataframe tbody tr th:only-of-type {\n",
       "        vertical-align: middle;\n",
       "    }\n",
       "\n",
       "    .dataframe tbody tr th {\n",
       "        vertical-align: top;\n",
       "    }\n",
       "\n",
       "    .dataframe thead th {\n",
       "        text-align: right;\n",
       "    }\n",
       "</style>\n",
       "<table border=\"1\" class=\"dataframe\">\n",
       "  <thead>\n",
       "    <tr style=\"text-align: right;\">\n",
       "      <th></th>\n",
       "      <th>id</th>\n",
       "      <th>cost</th>\n",
       "      <th>category</th>\n",
       "      <th>name</th>\n",
       "      <th>brand</th>\n",
       "      <th>retail_price</th>\n",
       "      <th>department</th>\n",
       "      <th>sku</th>\n",
       "      <th>distribution_center_id</th>\n",
       "    </tr>\n",
       "  </thead>\n",
       "  <tbody>\n",
       "    <tr>\n",
       "      <th>0</th>\n",
       "      <td>13842</td>\n",
       "      <td>2.51875</td>\n",
       "      <td>Accessories</td>\n",
       "      <td>Low Profile Dyed Cotton Twill Cap - Navy W39S55D</td>\n",
       "      <td>MG</td>\n",
       "      <td>6.25</td>\n",
       "      <td>Women</td>\n",
       "      <td>EBD58B8A3F1D72F4206201DA62FB1204</td>\n",
       "      <td>1</td>\n",
       "    </tr>\n",
       "    <tr>\n",
       "      <th>1</th>\n",
       "      <td>13928</td>\n",
       "      <td>2.33835</td>\n",
       "      <td>Accessories</td>\n",
       "      <td>Low Profile Dyed Cotton Twill Cap - Putty W39S55D</td>\n",
       "      <td>MG</td>\n",
       "      <td>5.95</td>\n",
       "      <td>Women</td>\n",
       "      <td>2EAC42424D12436BDD6A5B8A88480CC3</td>\n",
       "      <td>1</td>\n",
       "    </tr>\n",
       "    <tr>\n",
       "      <th>2</th>\n",
       "      <td>14115</td>\n",
       "      <td>4.87956</td>\n",
       "      <td>Accessories</td>\n",
       "      <td>Enzyme Regular Solid Army Caps-Black W35S45D</td>\n",
       "      <td>MG</td>\n",
       "      <td>10.99</td>\n",
       "      <td>Women</td>\n",
       "      <td>EE364229B2791D1EF9355708EFF0BA34</td>\n",
       "      <td>1</td>\n",
       "    </tr>\n",
       "    <tr>\n",
       "      <th>3</th>\n",
       "      <td>14157</td>\n",
       "      <td>4.64877</td>\n",
       "      <td>Accessories</td>\n",
       "      <td>Enzyme Regular Solid Army Caps-Olive W35S45D (...</td>\n",
       "      <td>MG</td>\n",
       "      <td>10.99</td>\n",
       "      <td>Women</td>\n",
       "      <td>00BD13095D06C20B11A2993CA419D16B</td>\n",
       "      <td>1</td>\n",
       "    </tr>\n",
       "    <tr>\n",
       "      <th>4</th>\n",
       "      <td>14273</td>\n",
       "      <td>6.50793</td>\n",
       "      <td>Accessories</td>\n",
       "      <td>Washed Canvas Ivy Cap - Black W11S64C</td>\n",
       "      <td>MG</td>\n",
       "      <td>15.99</td>\n",
       "      <td>Women</td>\n",
       "      <td>F531DC20FDE20B7ADF3A73F52B71D0AF</td>\n",
       "      <td>1</td>\n",
       "    </tr>\n",
       "  </tbody>\n",
       "</table>\n",
       "</div>"
      ],
      "text/plain": [
       "      id     cost     category  \\\n",
       "0  13842  2.51875  Accessories   \n",
       "1  13928  2.33835  Accessories   \n",
       "2  14115  4.87956  Accessories   \n",
       "3  14157  4.64877  Accessories   \n",
       "4  14273  6.50793  Accessories   \n",
       "\n",
       "                                                name brand  retail_price  \\\n",
       "0   Low Profile Dyed Cotton Twill Cap - Navy W39S55D    MG          6.25   \n",
       "1  Low Profile Dyed Cotton Twill Cap - Putty W39S55D    MG          5.95   \n",
       "2       Enzyme Regular Solid Army Caps-Black W35S45D    MG         10.99   \n",
       "3  Enzyme Regular Solid Army Caps-Olive W35S45D (...    MG         10.99   \n",
       "4              Washed Canvas Ivy Cap - Black W11S64C    MG         15.99   \n",
       "\n",
       "  department                               sku  distribution_center_id  \n",
       "0      Women  EBD58B8A3F1D72F4206201DA62FB1204                       1  \n",
       "1      Women  2EAC42424D12436BDD6A5B8A88480CC3                       1  \n",
       "2      Women  EE364229B2791D1EF9355708EFF0BA34                       1  \n",
       "3      Women  00BD13095D06C20B11A2993CA419D16B                       1  \n",
       "4      Women  F531DC20FDE20B7ADF3A73F52B71D0AF                       1  "
      ]
     },
     "execution_count": 114,
     "metadata": {},
     "output_type": "execute_result"
    }
   ],
   "source": [
    "products_df.head()"
   ]
  },
  {
   "cell_type": "code",
   "execution_count": 124,
   "id": "d2c491c6-2f07-4bdc-a85b-0dc672251d82",
   "metadata": {},
   "outputs": [
    {
     "data": {
      "text/plain": [
       "['cost']"
      ]
     },
     "execution_count": 124,
     "metadata": {},
     "output_type": "execute_result"
    }
   ],
   "source": [
    "# check for over lapping columns\n",
    "\n",
    "duplicates(products_df, with_inventory_df)"
   ]
  },
  {
   "cell_type": "markdown",
   "id": "68e021bc-78f3-4ca5-bf3b-5b368f388ae2",
   "metadata": {},
   "source": [
    "products_df['cost'] This is the product level cost\n",
    "inventoryitems_df['cost'] : This is the unit cost of the product to the business. If the business stocks different batches, the unity price of the bacth may be different from each other."
   ]
  },
  {
   "cell_type": "code",
   "execution_count": 133,
   "id": "f55b476b-984c-4065-a271-2dfb2cc46319",
   "metadata": {},
   "outputs": [],
   "source": [
    "# renaming cost for the two tables\n",
    "products_df = products_df.rename(columns = {'cost' : 'product_cost'})\n",
    "\n",
    "with_inventory_df = with_inventory_df.rename(columns = {'cost' : 'inventory_cost'})"
   ]
  },
  {
   "cell_type": "code",
   "execution_count": 139,
   "id": "7fde0327-8816-4df9-b495-bcb2c87ba03c",
   "metadata": {},
   "outputs": [],
   "source": [
    "# merge \n",
    "merged_df = with_inventory_df.merge(\n",
    "    products_df, left_on = 'product_id', \n",
    "    right_on = 'id', \n",
    "    how = 'inner' \n",
    ")"
   ]
  },
  {
   "cell_type": "code",
   "execution_count": 140,
   "id": "90ef8397-769a-4181-b9cd-04e90de88d5f",
   "metadata": {
    "scrolled": true
   },
   "outputs": [
    {
     "name": "stdout",
     "output_type": "stream",
     "text": [
      "Shape of merged tables : (181586, 47)\n",
      "\n",
      "Missing values : \n",
      " orderitem_id                           0\n",
      "order_id                               0\n",
      "product_id                             0\n",
      "inventory_item_id                      0\n",
      "status                                 0\n",
      "created_at                             0\n",
      "shipped_at                         63607\n",
      "delivered_at                      117771\n",
      "returned_at                       163573\n",
      "sale_price                             0\n",
      "user_id                                0\n",
      "order_created_at                       0\n",
      "num_of_item                            0\n",
      "first_name                             0\n",
      "last_name                              0\n",
      "email                                  0\n",
      "age                                    0\n",
      "gender                                 0\n",
      "state                                  0\n",
      "street_address                         0\n",
      "postal_code                            0\n",
      "city                                   0\n",
      "country                                0\n",
      "latitude                               0\n",
      "longitude                              0\n",
      "traffic_source                         0\n",
      "user_created_at                        0\n",
      "user_geom                              0\n",
      "inventorycreated_at                    0\n",
      "sold_at                           114253\n",
      "inventory_cost                         0\n",
      "product_category                       0\n",
      "product_name                           0\n",
      "product_brand                          0\n",
      "product_retail_price                   0\n",
      "product_department                     0\n",
      "product_sku                            0\n",
      "product_distribution_center_id         0\n",
      "id                                     0\n",
      "product_cost                           0\n",
      "category                               0\n",
      "name                                   0\n",
      "brand                                  0\n",
      "retail_price                           0\n",
      "department                             0\n",
      "sku                                    0\n",
      "distribution_center_id                 0\n",
      "dtype: int64\n",
      "\n",
      "Number of Duplicate Rows: 0\n"
     ]
    }
   ],
   "source": [
    "quality(merged_df)"
   ]
  },
  {
   "cell_type": "code",
   "execution_count": 141,
   "id": "145efee4-8976-467e-b182-8993fb5d611d",
   "metadata": {
    "scrolled": true
   },
   "outputs": [
    {
     "data": {
      "text/html": [
       "<div>\n",
       "<style scoped>\n",
       "    .dataframe tbody tr th:only-of-type {\n",
       "        vertical-align: middle;\n",
       "    }\n",
       "\n",
       "    .dataframe tbody tr th {\n",
       "        vertical-align: top;\n",
       "    }\n",
       "\n",
       "    .dataframe thead th {\n",
       "        text-align: right;\n",
       "    }\n",
       "</style>\n",
       "<table border=\"1\" class=\"dataframe\">\n",
       "  <thead>\n",
       "    <tr style=\"text-align: right;\">\n",
       "      <th></th>\n",
       "      <th>orderitem_id</th>\n",
       "      <th>order_id</th>\n",
       "      <th>product_id</th>\n",
       "      <th>inventory_item_id</th>\n",
       "      <th>status</th>\n",
       "      <th>created_at</th>\n",
       "      <th>shipped_at</th>\n",
       "      <th>delivered_at</th>\n",
       "      <th>returned_at</th>\n",
       "      <th>sale_price</th>\n",
       "      <th>...</th>\n",
       "      <th>product_distribution_center_id</th>\n",
       "      <th>id</th>\n",
       "      <th>product_cost</th>\n",
       "      <th>category</th>\n",
       "      <th>name</th>\n",
       "      <th>brand</th>\n",
       "      <th>retail_price</th>\n",
       "      <th>department</th>\n",
       "      <th>sku</th>\n",
       "      <th>distribution_center_id</th>\n",
       "    </tr>\n",
       "  </thead>\n",
       "  <tbody>\n",
       "    <tr>\n",
       "      <th>0</th>\n",
       "      <td>111996</td>\n",
       "      <td>77190</td>\n",
       "      <td>14235</td>\n",
       "      <td>302621</td>\n",
       "      <td>Complete</td>\n",
       "      <td>2023-05-24 20:52:01+00:00</td>\n",
       "      <td>2023-05-26 10:55:00+00:00</td>\n",
       "      <td>2023-05-29 12:40:00+00:00</td>\n",
       "      <td>NaT</td>\n",
       "      <td>0.02</td>\n",
       "      <td>...</td>\n",
       "      <td>8</td>\n",
       "      <td>14235</td>\n",
       "      <td>0.0083</td>\n",
       "      <td>Accessories</td>\n",
       "      <td>Indestructable Aluminum Aluma Wallet - RED</td>\n",
       "      <td>marshal</td>\n",
       "      <td>0.02</td>\n",
       "      <td>Women</td>\n",
       "      <td>8425BC94A44E3D1BB3C8C026B2702C00</td>\n",
       "      <td>1</td>\n",
       "    </tr>\n",
       "    <tr>\n",
       "      <th>1</th>\n",
       "      <td>46135</td>\n",
       "      <td>31723</td>\n",
       "      <td>14235</td>\n",
       "      <td>124693</td>\n",
       "      <td>Processing</td>\n",
       "      <td>2025-08-07 04:48:18+00:00</td>\n",
       "      <td>NaT</td>\n",
       "      <td>NaT</td>\n",
       "      <td>NaT</td>\n",
       "      <td>0.02</td>\n",
       "      <td>...</td>\n",
       "      <td>8</td>\n",
       "      <td>14235</td>\n",
       "      <td>0.0083</td>\n",
       "      <td>Accessories</td>\n",
       "      <td>Indestructable Aluminum Aluma Wallet - RED</td>\n",
       "      <td>marshal</td>\n",
       "      <td>0.02</td>\n",
       "      <td>Women</td>\n",
       "      <td>8425BC94A44E3D1BB3C8C026B2702C00</td>\n",
       "      <td>1</td>\n",
       "    </tr>\n",
       "    <tr>\n",
       "      <th>2</th>\n",
       "      <td>51295</td>\n",
       "      <td>35248</td>\n",
       "      <td>14235</td>\n",
       "      <td>138612</td>\n",
       "      <td>Returned</td>\n",
       "      <td>2024-02-26 09:48:25+00:00</td>\n",
       "      <td>2024-02-28 17:19:00+00:00</td>\n",
       "      <td>2024-03-03 03:36:00+00:00</td>\n",
       "      <td>2024-03-04 06:32:00+00:00</td>\n",
       "      <td>0.02</td>\n",
       "      <td>...</td>\n",
       "      <td>8</td>\n",
       "      <td>14235</td>\n",
       "      <td>0.0083</td>\n",
       "      <td>Accessories</td>\n",
       "      <td>Indestructable Aluminum Aluma Wallet - RED</td>\n",
       "      <td>marshal</td>\n",
       "      <td>0.02</td>\n",
       "      <td>Women</td>\n",
       "      <td>8425BC94A44E3D1BB3C8C026B2702C00</td>\n",
       "      <td>1</td>\n",
       "    </tr>\n",
       "    <tr>\n",
       "      <th>3</th>\n",
       "      <td>51986</td>\n",
       "      <td>35737</td>\n",
       "      <td>14235</td>\n",
       "      <td>140490</td>\n",
       "      <td>Shipped</td>\n",
       "      <td>2023-06-15 12:07:34+00:00</td>\n",
       "      <td>2023-06-18 06:34:00+00:00</td>\n",
       "      <td>NaT</td>\n",
       "      <td>NaT</td>\n",
       "      <td>0.02</td>\n",
       "      <td>...</td>\n",
       "      <td>8</td>\n",
       "      <td>14235</td>\n",
       "      <td>0.0083</td>\n",
       "      <td>Accessories</td>\n",
       "      <td>Indestructable Aluminum Aluma Wallet - RED</td>\n",
       "      <td>marshal</td>\n",
       "      <td>0.02</td>\n",
       "      <td>Women</td>\n",
       "      <td>8425BC94A44E3D1BB3C8C026B2702C00</td>\n",
       "      <td>1</td>\n",
       "    </tr>\n",
       "    <tr>\n",
       "      <th>4</th>\n",
       "      <td>95388</td>\n",
       "      <td>65821</td>\n",
       "      <td>14235</td>\n",
       "      <td>257767</td>\n",
       "      <td>Shipped</td>\n",
       "      <td>2025-02-12 00:52:53+00:00</td>\n",
       "      <td>2025-02-11 04:32:00+00:00</td>\n",
       "      <td>NaT</td>\n",
       "      <td>NaT</td>\n",
       "      <td>0.02</td>\n",
       "      <td>...</td>\n",
       "      <td>8</td>\n",
       "      <td>14235</td>\n",
       "      <td>0.0083</td>\n",
       "      <td>Accessories</td>\n",
       "      <td>Indestructable Aluminum Aluma Wallet - RED</td>\n",
       "      <td>marshal</td>\n",
       "      <td>0.02</td>\n",
       "      <td>Women</td>\n",
       "      <td>8425BC94A44E3D1BB3C8C026B2702C00</td>\n",
       "      <td>1</td>\n",
       "    </tr>\n",
       "  </tbody>\n",
       "</table>\n",
       "<p>5 rows × 47 columns</p>\n",
       "</div>"
      ],
      "text/plain": [
       "   orderitem_id  order_id  product_id  inventory_item_id      status  \\\n",
       "0        111996     77190       14235             302621    Complete   \n",
       "1         46135     31723       14235             124693  Processing   \n",
       "2         51295     35248       14235             138612    Returned   \n",
       "3         51986     35737       14235             140490     Shipped   \n",
       "4         95388     65821       14235             257767     Shipped   \n",
       "\n",
       "                 created_at                shipped_at  \\\n",
       "0 2023-05-24 20:52:01+00:00 2023-05-26 10:55:00+00:00   \n",
       "1 2025-08-07 04:48:18+00:00                       NaT   \n",
       "2 2024-02-26 09:48:25+00:00 2024-02-28 17:19:00+00:00   \n",
       "3 2023-06-15 12:07:34+00:00 2023-06-18 06:34:00+00:00   \n",
       "4 2025-02-12 00:52:53+00:00 2025-02-11 04:32:00+00:00   \n",
       "\n",
       "               delivered_at               returned_at  sale_price  ...  \\\n",
       "0 2023-05-29 12:40:00+00:00                       NaT        0.02  ...   \n",
       "1                       NaT                       NaT        0.02  ...   \n",
       "2 2024-03-03 03:36:00+00:00 2024-03-04 06:32:00+00:00        0.02  ...   \n",
       "3                       NaT                       NaT        0.02  ...   \n",
       "4                       NaT                       NaT        0.02  ...   \n",
       "\n",
       "   product_distribution_center_id     id  product_cost     category  \\\n",
       "0                               8  14235        0.0083  Accessories   \n",
       "1                               8  14235        0.0083  Accessories   \n",
       "2                               8  14235        0.0083  Accessories   \n",
       "3                               8  14235        0.0083  Accessories   \n",
       "4                               8  14235        0.0083  Accessories   \n",
       "\n",
       "                                         name    brand  retail_price  \\\n",
       "0  Indestructable Aluminum Aluma Wallet - RED  marshal          0.02   \n",
       "1  Indestructable Aluminum Aluma Wallet - RED  marshal          0.02   \n",
       "2  Indestructable Aluminum Aluma Wallet - RED  marshal          0.02   \n",
       "3  Indestructable Aluminum Aluma Wallet - RED  marshal          0.02   \n",
       "4  Indestructable Aluminum Aluma Wallet - RED  marshal          0.02   \n",
       "\n",
       "  department                               sku distribution_center_id  \n",
       "0      Women  8425BC94A44E3D1BB3C8C026B2702C00                      1  \n",
       "1      Women  8425BC94A44E3D1BB3C8C026B2702C00                      1  \n",
       "2      Women  8425BC94A44E3D1BB3C8C026B2702C00                      1  \n",
       "3      Women  8425BC94A44E3D1BB3C8C026B2702C00                      1  \n",
       "4      Women  8425BC94A44E3D1BB3C8C026B2702C00                      1  \n",
       "\n",
       "[5 rows x 47 columns]"
      ]
     },
     "execution_count": 141,
     "metadata": {},
     "output_type": "execute_result"
    }
   ],
   "source": [
    "merged_df.head(5)"
   ]
  },
  {
   "cell_type": "markdown",
   "id": "7e0e7949-2ed1-4c1d-b471-f640417149ec",
   "metadata": {},
   "source": [
    "#### saving the merged table"
   ]
  },
  {
   "cell_type": "code",
   "execution_count": 138,
   "id": "8bf2aacb-e86a-4a42-9a8f-7cf902d767b5",
   "metadata": {},
   "outputs": [
    {
     "name": "stdout",
     "output_type": "stream",
     "text": [
      " Folder Data created successfully\n"
     ]
    }
   ],
   "source": [
    "# creating folder 'Data'\n",
    "folder_name = 'Data'\n",
    "try:\n",
    "    os.mkdir(folder_name)\n",
    "    print(f\" Folder {folder_name} created successfully\" )\n",
    "except FileExistsError:\n",
    "    print(f\" Folder {folder_name} already exist\" )"
   ]
  },
  {
   "cell_type": "code",
   "execution_count": 143,
   "id": "ee0b7e20-d66e-48fd-8a9f-c948541ae9af",
   "metadata": {},
   "outputs": [],
   "source": [
    "# Saving the table\n",
    "\n",
    "merged_df.to_csv('Data/merged_df.csv', index = False)"
   ]
  },
  {
   "cell_type": "code",
   "execution_count": null,
   "id": "ad41414a-3de5-48ef-93b6-ebb401c185ce",
   "metadata": {},
   "outputs": [],
   "source": []
  }
 ],
 "metadata": {
  "kernelspec": {
   "display_name": "Python 3 (ipykernel)",
   "language": "python",
   "name": "python3"
  },
  "language_info": {
   "codemirror_mode": {
    "name": "ipython",
    "version": 3
   },
   "file_extension": ".py",
   "mimetype": "text/x-python",
   "name": "python",
   "nbconvert_exporter": "python",
   "pygments_lexer": "ipython3",
   "version": "3.11.9"
  }
 },
 "nbformat": 4,
 "nbformat_minor": 5
}
